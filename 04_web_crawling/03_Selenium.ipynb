{
 "cells": [
  {
   "cell_type": "markdown",
   "metadata": {},
   "source": [
    "# [Selenium](https://www.selenium.dev/)\n",
    "\n",
    "-   **웹 브라우저 제어 도구**\n",
    "    -   원래는 웹 어플리케이션 자동 테스트를 위한 목적으로 만들어진 프레임워크.\n",
    "    -   웹브라우저를 프로그램을 이용해 제어할 수 있다.\n",
    "-   **requests 모듈의 한계**\n",
    "    -   Javascript를 이용한 AJAX 기법의 비동기적 요청 처리 페이지 크롤링이 힘들다.\n",
    "    -   로그인 후 요청이 가능한 페이지들에 대한 크롤링이 번거롭다.\n",
    "    -   Selenium을 활용하면 이 두가지 모두 쉽게 처리할 수 있다.\n",
    "-   **Selenium 단점**\n",
    "    -   속도가 느림\n",
    "-   **설치**\n",
    "    -   `pip install selenium`\n",
    "-   [튜토리얼](https://selenium-python.readthedocs.io/)\n",
    "    > -   주의: selenium은 3에서 4버전으로 업그레이드 되면서 드라이버 설정과 element 조회 메서드등이 많이 바뀜.\n"
   ]
  },
  {
   "cell_type": "markdown",
   "metadata": {},
   "source": [
    "# Driver\n",
    "\n",
    "-   Driver\n",
    "    -   웹브라우저를 제어하는 프로그램으로 웹 브라우저별로 제공된다.\n",
    "    -   Selenium 패키지의 Driver객체를 이용해 제어하게 된다.\n",
    "\n",
    "## 설치\n",
    "\n",
    "1. **DriverManager 이용**\n",
    "    - `pip install webdriver-manager`\n"
   ]
  },
  {
   "cell_type": "markdown",
   "metadata": {},
   "source": [
    "2. **Hard coding**\n",
    "    1. 브라우져별로 드라이버를 다운로드 받는다.\n",
    "        - https://www.selenium.dev/documentation/webdriver/getting_started/install_drivers/#quick-reference\n",
    "    2. Local 컴퓨터에 설치된 크롬브라우져 버전에 맞는 드라이버 선택\n"
   ]
  },
  {
   "cell_type": "code",
   "execution_count": 1,
   "metadata": {},
   "outputs": [
    {
     "name": "stdout",
     "output_type": "stream",
     "text": [
      "Requirement already satisfied: selenium in c:\\anaconda3\\lib\\site-packages (4.31.0)\n",
      "Requirement already satisfied: urllib3<3,>=1.26 in c:\\anaconda3\\lib\\site-packages (from urllib3[socks]<3,>=1.26->selenium) (2.2.3)\n",
      "Requirement already satisfied: trio~=0.17 in c:\\anaconda3\\lib\\site-packages (from selenium) (0.29.0)\n",
      "Requirement already satisfied: trio-websocket~=0.9 in c:\\anaconda3\\lib\\site-packages (from selenium) (0.12.2)\n",
      "Requirement already satisfied: certifi>=2021.10.8 in c:\\anaconda3\\lib\\site-packages (from selenium) (2025.1.31)\n",
      "Requirement already satisfied: typing_extensions~=4.9 in c:\\anaconda3\\lib\\site-packages (from selenium) (4.11.0)\n",
      "Requirement already satisfied: websocket-client~=1.8 in c:\\anaconda3\\lib\\site-packages (from selenium) (1.8.0)\n",
      "Requirement already satisfied: attrs>=23.2.0 in c:\\anaconda3\\lib\\site-packages (from trio~=0.17->selenium) (25.3.0)\n",
      "Requirement already satisfied: sortedcontainers in c:\\anaconda3\\lib\\site-packages (from trio~=0.17->selenium) (2.4.0)\n",
      "Requirement already satisfied: idna in c:\\anaconda3\\lib\\site-packages (from trio~=0.17->selenium) (3.7)\n",
      "Requirement already satisfied: outcome in c:\\anaconda3\\lib\\site-packages (from trio~=0.17->selenium) (1.3.0.post0)\n",
      "Requirement already satisfied: sniffio>=1.3.0 in c:\\anaconda3\\lib\\site-packages (from trio~=0.17->selenium) (1.3.0)\n",
      "Requirement already satisfied: cffi>=1.14 in c:\\anaconda3\\lib\\site-packages (from trio~=0.17->selenium) (1.17.1)\n",
      "Requirement already satisfied: wsproto>=0.14 in c:\\anaconda3\\lib\\site-packages (from trio-websocket~=0.9->selenium) (1.2.0)\n",
      "Requirement already satisfied: pysocks!=1.5.7,<2.0,>=1.5.6 in c:\\anaconda3\\lib\\site-packages (from urllib3[socks]<3,>=1.26->selenium) (1.7.1)\n",
      "Requirement already satisfied: pycparser in c:\\anaconda3\\lib\\site-packages (from cffi>=1.14->trio~=0.17->selenium) (2.21)\n",
      "Requirement already satisfied: h11<1,>=0.9.0 in c:\\anaconda3\\lib\\site-packages (from wsproto>=0.14->trio-websocket~=0.9->selenium) (0.14.0)\n",
      "Note: you may need to restart the kernel to use updated packages.\n"
     ]
    }
   ],
   "source": [
    "%pip install selenium"
   ]
  },
  {
   "cell_type": "code",
   "execution_count": 2,
   "metadata": {},
   "outputs": [
    {
     "name": "stdout",
     "output_type": "stream",
     "text": [
      "Requirement already satisfied: webdriver-manager in c:\\anaconda3\\lib\\site-packages (4.0.2)\n",
      "Requirement already satisfied: requests in c:\\anaconda3\\lib\\site-packages (from webdriver-manager) (2.32.3)\n",
      "Requirement already satisfied: python-dotenv in c:\\anaconda3\\lib\\site-packages (from webdriver-manager) (0.21.0)\n",
      "Requirement already satisfied: packaging in c:\\users\\안수민\\appdata\\roaming\\python\\python312\\site-packages (from webdriver-manager) (24.2)\n",
      "Requirement already satisfied: charset-normalizer<4,>=2 in c:\\anaconda3\\lib\\site-packages (from requests->webdriver-manager) (3.3.2)\n",
      "Requirement already satisfied: idna<4,>=2.5 in c:\\anaconda3\\lib\\site-packages (from requests->webdriver-manager) (3.7)\n",
      "Requirement already satisfied: urllib3<3,>=1.21.1 in c:\\anaconda3\\lib\\site-packages (from requests->webdriver-manager) (2.2.3)\n",
      "Requirement already satisfied: certifi>=2017.4.17 in c:\\anaconda3\\lib\\site-packages (from requests->webdriver-manager) (2025.1.31)\n",
      "Note: you may need to restart the kernel to use updated packages.\n"
     ]
    }
   ],
   "source": [
    "pip install webdriver-manager"
   ]
  },
  {
   "cell_type": "markdown",
   "metadata": {},
   "source": [
    "### DriverManager를 이용해 WebDriver 생성\n"
   ]
  },
  {
   "cell_type": "code",
   "execution_count": 3,
   "metadata": {},
   "outputs": [],
   "source": [
    "from webdriver_manager.chrome import ChromeDriverManager\n",
    "\n",
    "driver_path = ChromeDriverManager().install()"
   ]
  },
  {
   "cell_type": "code",
   "execution_count": 4,
   "metadata": {},
   "outputs": [
    {
     "data": {
      "text/plain": [
       "'C:\\\\Users\\\\안수민\\\\.wdm\\\\drivers\\\\chromedriver\\\\win64\\\\135.0.7049.84\\\\chromedriver-win32/chromedriver.exe'"
      ]
     },
     "execution_count": 4,
     "metadata": {},
     "output_type": "execute_result"
    }
   ],
   "source": [
    "driver_path"
   ]
  },
  {
   "cell_type": "code",
   "execution_count": null,
   "metadata": {},
   "outputs": [],
   "source": []
  },
  {
   "cell_type": "markdown",
   "metadata": {},
   "source": [
    "### 다운 받은 Driver이용해 WebDriver생성\n",
    "- WebDriver를 생성하면 웹브라우저가 실행 되며 생성된 웹브라우저를 WebDriver를 사용해서 컨트롤한다.\n",
    "- 페이지 이동\n",
    "    - `WebDriver.get(\"이동할 URL 주소\")`\n",
    "- Web browser 끄기\n",
    "    - `WebDriver.close()`"
   ]
  },
  {
   "cell_type": "code",
   "execution_count": 7,
   "metadata": {},
   "outputs": [],
   "source": [
    "from selenium.webdriver.chrome.service import Service\n",
    "from selenium import webdriver\n",
    "\n",
    "service = Service(executable_path=driver_path)\n",
    "browser = webdriver.Chrome(service=service) # 웹브라우저 제어할 수 있는 객체 반환. browser를 가지고 객체를 제어한다."
   ]
  },
  {
   "cell_type": "code",
   "execution_count": 8,
   "metadata": {},
   "outputs": [],
   "source": [
    "browser.get(\"https://www.naver.com\")"
   ]
  },
  {
   "cell_type": "code",
   "execution_count": null,
   "metadata": {},
   "outputs": [],
   "source": [
    "browser.get(\"https://www.daum.net\")"
   ]
  },
  {
   "cell_type": "code",
   "execution_count": null,
   "metadata": {},
   "outputs": [],
   "source": [
    "browser.close()"
   ]
  },
  {
   "cell_type": "markdown",
   "metadata": {
    "heading_collapsed": true
   },
   "source": [
    "## WebDriver 주요 속성/메소드\n",
    "\n",
    "-   **page_source** : 현재 페이지의 html 소스를 반환\n",
    "    -   page_source로 html을 받아서 BeautifulSoup으로 크롤링할 원소를 찾을 수 있다.\n",
    "-   **get_screenshot_as_file(파일경로)**\n",
    "    -   현재 웹브라우저 화면을 지정한 캡처해서 지정한 파일 경로에 저장한다.\n",
    "-   **set_window_size(width, height)**\n",
    "    -   웹브라우저 윈도우 크기 조정\n",
    "-   **maximize_window()**\n",
    "    -   웹브라우저 화면 최대 크기로 만들기.\n",
    "-   **get_window_size()**\n",
    "    -   웹브라우저 윈도우 크기 조회. (width, height)\n",
    "-   **execute_script(\"자바스크립트코드\")**\n",
    "    -   문자열로 전달한 **javascript 코드**를 실행시킨다.\n",
    "-   **quit()**, **close()**\n",
    "    -   웹브라우저를 종료한다.\n"
   ]
  },
  {
   "cell_type": "markdown",
   "metadata": {
    "heading_collapsed": true
   },
   "source": [
    "## Page의 Element 조회 메소드\n",
    "\n",
    "-   BeautifulSoup을 이용하지 않고 셀레늄 자체 parser를 이용할 수 있다.\n",
    "-   **find_element()**: 조건을 만족하는 첫번째 요소를 반환한다.\n",
    "    -   매개변수\n",
    "        -   **by**: 검색방식\n",
    "            -   **By.ID**\n",
    "            -   **By.CLASS_NAME**\n",
    "            -   **By.TAG_NAME**\n",
    "            -   **By.CSS_SELECTOR**\n",
    "            -   **By.XPATH**\n",
    "            -   **By.LINK_TEXT**\n",
    "            -   **By.PARTIAL_LINK_TEXT**\n",
    "        -   **value**: str - 검색조건\n",
    "    -   반환타입: **WebElement**\n",
    "-   **find_elements()**: 조건을 만족하는 모든 요소를 찾는다.\n",
    "    -   매개변수: find_element()와 동일\n",
    "    -   반환타입\n",
    "        -   **list of WebElement**\n"
   ]
  },
  {
   "cell_type": "markdown",
   "metadata": {
    "heading_collapsed": true
   },
   "source": [
    "### WebElement (조회결과) 메소드 / 속성\n",
    "\n",
    "-   메소드\n",
    "    -   **get_attribute('속성명')**: 태그의 속성값 조회\n",
    "    -   **send_keys(\"문자열\")**: 입력폼에 문자열 값을 입력.\n",
    "    -   **click()**: element를 클릭\n",
    "    -   **submit()**: element가 Form인 경우 폼 전송\n",
    "    -   **clear()**: element가 입력폼인 경우 텍스트를 지운다.\n",
    "    -   위 조회 메소드들 : 하위의 elements들 조회\n",
    "-   속성\n",
    "    -   **text**: 태그내의 텍스트\n",
    "    -   **tag_name**: 태그이름\n"
   ]
  },
  {
   "cell_type": "code",
   "execution_count": 23,
   "metadata": {},
   "outputs": [],
   "source": [
    "from webdriver_manager.chrome import ChromeDriverManager\n",
    "from selenium.webdriver.chrome.service import Service\n",
    "from selenium import webdriver\n",
    "from selenium.webdriver.common.by import By\n",
    "from selenium.webdriver.common.keys import Keys"
   ]
  },
  {
   "cell_type": "code",
   "execution_count": 24,
   "metadata": {},
   "outputs": [],
   "source": [
    "service = Service(executable_path=ChromeDriverManager().install())\n",
    "browser = webdriver.Chrome(service=service) # WB가 실행\n",
    "\n",
    "browser.get(\"https://www.naver.com\") # 브라우저로 이동"
   ]
  },
  {
   "cell_type": "code",
   "execution_count": 25,
   "metadata": {},
   "outputs": [
    {
     "name": "stdout",
     "output_type": "stream",
     "text": [
      "<html lang=\"ko\" class=\"fzoom\" data-dark=\"false\"><head><script async=\"\" src=\"https://ntm.pstatic.net/\n"
     ]
    }
   ],
   "source": [
    "html = browser.page_source # html 문서를 str로 반환. - Beautifulsoup를 사용할 경우 page_source 내용을 넣어서 반환\n",
    "print(html[:100]) #str 반환"
   ]
  },
  {
   "cell_type": "code",
   "execution_count": 26,
   "metadata": {},
   "outputs": [
    {
     "data": {
      "text/plain": [
       "True"
      ]
     },
     "execution_count": 26,
     "metadata": {},
     "output_type": "execute_result"
    }
   ],
   "source": [
    "browser.get_screenshot_as_file(\"naver_main.png\") "
   ]
  },
  {
   "cell_type": "code",
   "execution_count": 27,
   "metadata": {},
   "outputs": [],
   "source": [
    "browser.maximize_window()"
   ]
  },
  {
   "cell_type": "code",
   "execution_count": 28,
   "metadata": {},
   "outputs": [
    {
     "name": "stdout",
     "output_type": "stream",
     "text": [
      "{'width': 1051, 'height': 798}\n"
     ]
    }
   ],
   "source": [
    "size = browser.get_window_size()\n",
    "print(size)"
   ]
  },
  {
   "cell_type": "code",
   "execution_count": 29,
   "metadata": {},
   "outputs": [],
   "source": [
    "browser.execute_script(\"alert('안녕하세요');\")"
   ]
  },
  {
   "cell_type": "code",
   "execution_count": 30,
   "metadata": {},
   "outputs": [
    {
     "name": "stdout",
     "output_type": "stream",
     "text": [
      "<class 'selenium.webdriver.remote.webelement.WebElement'>\n",
      "input\n",
      "query\n"
     ]
    }
   ],
   "source": [
    "# 페이지 안에서 특정 element를 조회(BS-select(), find())\n",
    "query_textfield = browser.find_element(By.ID, \"query\")\n",
    "print(type(query_textfield))\n",
    "\n",
    "print(query_textfield.tag_name)\n",
    "print(query_textfield.get_attribute(\"id\"))"
   ]
  },
  {
   "cell_type": "code",
   "execution_count": 31,
   "metadata": {},
   "outputs": [],
   "source": [
    "query_textfield.send_keys(\"날씨 예보\") # keys: keyboard\n",
    "query_textfield.send_keys(Keys.ENTER)"
   ]
  },
  {
   "cell_type": "code",
   "execution_count": 32,
   "metadata": {},
   "outputs": [],
   "source": [
    "query_textfield2 = browser.find_element(By.ID, \"nx_query\")\n",
    "\n",
    "query_textfield2.clear() # 기존 내용을 지운다.\n",
    "query_textfield2.send_keys(\"미세먼지\") # 새 검색어 입력\n",
    "query_textfield2.send_keys(Keys.ENTER) # enter키 클릭"
   ]
  },
  {
   "cell_type": "code",
   "execution_count": 33,
   "metadata": {},
   "outputs": [],
   "source": [
    "search_btn = browser.find_element(By.CLASS_NAME, \"bt_search\")\n",
    "search_btn.click()"
   ]
  },
  {
   "cell_type": "code",
   "execution_count": 34,
   "metadata": {},
   "outputs": [],
   "source": [
    "browser.close()"
   ]
  },
  {
   "cell_type": "markdown",
   "metadata": {},
   "source": [
    "## 브라우저의 headless 모드를 이용.\n",
    "\n",
    "-   Headless 브라우저\n",
    "    -   브라우저의 창을 띄우지 않고 실제 브라우저와 동일하게 동작하도록 하는 방식\n",
    "    -   CLI(command line interface) 기반의 OS (리눅스 서버)를 지원하기 위한 브라우저\n",
    "    -   크롬은 버전 60부터 headless 모드 지원\n",
    "-   selenium에서 headless 모드\n",
    "    -   webdriver options에 headless 설정\n",
    "\n",
    "> -   **Brower Option**: https://www.selenium.dev/documentation/webdriver/drivers/options/\n"
   ]
  },
  {
   "cell_type": "code",
   "execution_count": 35,
   "metadata": {},
   "outputs": [
    {
     "name": "stdout",
     "output_type": "stream",
     "text": [
      "완료\n"
     ]
    }
   ],
   "source": [
    "from selenium import webdriver\n",
    "import time \n",
    "\n",
    "option = webdriver.ChromeOptions()\n",
    "option.add_argument(\"--headless\")\n",
    "service = Service(executable_path=ChromeDriverManager().install())\n",
    "\n",
    "browser = webdriver.Chrome(service=service,options=option)\n",
    "browser.maximize_window()\n",
    "browser.get(\"https://www.daum.net\")\n",
    "\n",
    "time.sleep(1) # 지정한 초(1초) 동안 실행을 멈춘다. 스크린샷을 찍었을 때 원하는 결과를 얻기 위해서\n",
    "browser.get_screenshot_as_file(\"daum_main2.png\")\n",
    "browser.close()\n",
    "print(\"완료\")"
   ]
  },
  {
   "cell_type": "markdown",
   "metadata": {
    "hidden": true
   },
   "source": [
    "# 대기 하기\n",
    "\n",
    "## Explicit Wait\n",
    "\n",
    "-   특정 조건/상황을 만족할 때 까지 대기\n",
    "-   `WebDriverWait(browser, 초).until(expected_contition)` 구문 사용\n",
    "-   초는 기다릴 수 있는 최대 시간. 만약 10초로 주고 그 전에 만족했다면 ok. 10초보다 더 기다려야하면 error\n",
    "-   expected_condition 함수\n",
    "    -   selenium.webdriver.support.expected_conditions 모듈에 정의된 함수 사용.\n",
    "        -   https://selenium-python.readthedocs.io/api.html#module-selenium.webdriver.support.expected_conditions\n",
    "\n",
    "## Implicit Wait\n",
    "\n",
    "-   현재 페이지에 없는 element나 elememt들이 loading 되기를 설정한 시간만큼 기다린다.\n",
    "-   설정한 시간 이내에 elements가 loading되면 대기가 종료된다.\n",
    "-   `implicit_wait(초)` 구문 사용\n",
    "-   한번 설정하면 설정된 WebDriver가 close될때 까지 그 설정이 유지된다.\n",
    "-   https://selenium-python.readthedocs.io/waits.html\n",
    "\n",
    "### 예)\n",
    "\n",
    "```python\n",
    "browser.implicit_wait(5)\n",
    "# 페이지 로딩(dom tree완성)될 때까지 최대 5초간 기다린다. (로딩이 되면 5초가 되지 않아도 대기를 끝낸다.)\n",
    "```\n",
    "\n",
    "<hr>\n",
    "\n",
    "```python\n",
    "from selenium.webdriver.support import expected_conditions as EC\n",
    "\n",
    "...\n",
    "\n",
    "try:\n",
    "    # element가 반환될 때 까지 최대 10초 기다린다.\n",
    "    element = WebDriverWait(driver, 10).until(\n",
    "        EC.presence_of_element_located((By.ID, \"myDynamicElement\"))\n",
    "    )\n",
    "finally:\n",
    "    driver.quit()\n",
    "```\n"
   ]
  },
  {
   "cell_type": "markdown",
   "metadata": {},
   "source": [
    "# 무한 스크롤\n",
    "\n",
    "-   javascript 에서 현재 페이지의 높이(scroll pane(scroll bar가 움직이는 공간)의 길이)\n",
    "    -   `document.documentElement.scrollHeight`\n",
    "-   scroll bar를 이동\n",
    "    -   `window.scrollTo(가로 스크롤바를 이동시킬 위치:정수,\n",
    "        세로 스코롤바를 이동시킬 위치:정수)\n"
   ]
  },
  {
   "cell_type": "code",
   "execution_count": 1,
   "metadata": {},
   "outputs": [],
   "source": [
    "from selenium import webdriver\n",
    "from selenium.webdriver.chrome.service import Service\n",
    "from selenium.webdriver.common.by import By\n",
    "from selenium.webdriver.common.keys import Keys\n",
    "from webdriver_manager.chrome import ChromeDriverManager\n",
    "import time\n",
    "import random\n",
    "\n",
    "service = Service(executable_path=ChromeDriverManager().install())\n",
    "browser = webdriver.Chrome(service=service)\n",
    "\n",
    "browser.implicitly_wait(5)\n",
    "browser.maximize_window()\n",
    "\n",
    "browser.get('https://pokemonkorea.co.kr/pokedex')\n",
    "time.sleep(2)\n",
    "\n",
    "# scroll_pane: 스크롤바 전체 부분\n",
    "scroll_pane_height = browser.execute_script(\n",
    "    \"return document.documentElement.scrollHeight\" # 문서의 height를 반환.\n",
    ")\n",
    "\n",
    "# scroll_pane_height: 이동 전 높이, new_scroll_pane_height: 이동 후 높이\n",
    "\n",
    "while True:\n",
    "    browser.execute_script(\"window.scrollTo(0, document.documentElement.scrollHeight)\")\n",
    "    # 스크롤바를 현재 문서의 맨 밑으로 움직여라. 좌우 이동은 0\n",
    "\n",
    "    time.sleep(random.uniform(0.5, 1.5)) # 움직이기까지 대기시간. # 0.5 ~ 1.5의 random한 값 생성 \n",
    "    new_scroll_pane_height = browser.execute_script(\n",
    "        \"return document.documentElement.scrollHeight\"\n",
    "    )\n",
    "\n",
    "    if scroll_pane_height == new_scroll_pane_height: # 스크롤을 끝까지 다 내린 경우\n",
    "        break\n",
    "    scroll_pane_height = new_scroll_pane_height\n",
    "\n",
    "browser.close()"
   ]
  },
  {
   "cell_type": "code",
   "execution_count": null,
   "metadata": {},
   "outputs": [],
   "source": []
  }
 ],
 "metadata": {
  "kernelspec": {
   "display_name": "Python 3 (ipykernel)",
   "language": "python",
   "name": "python3"
  },
  "language_info": {
   "codemirror_mode": {
    "name": "ipython",
    "version": 3
   },
   "file_extension": ".py",
   "mimetype": "text/x-python",
   "name": "python",
   "nbconvert_exporter": "python",
   "pygments_lexer": "ipython3",
   "version": "3.12.7"
  },
  "toc": {
   "base_numbering": 1,
   "nav_menu": {},
   "number_sections": false,
   "sideBar": false,
   "skip_h1_title": false,
   "title_cell": "Table of Contents",
   "title_sidebar": "Contents",
   "toc_cell": false,
   "toc_position": {},
   "toc_section_display": true,
   "toc_window_display": false
  },
  "varInspector": {
   "cols": {
    "lenName": 16,
    "lenType": 16,
    "lenVar": 40
   },
   "kernels_config": {
    "python": {
     "delete_cmd_postfix": "",
     "delete_cmd_prefix": "del ",
     "library": "var_list.py",
     "varRefreshCmd": "print(var_dic_list())"
    },
    "r": {
     "delete_cmd_postfix": ") ",
     "delete_cmd_prefix": "rm(",
     "library": "var_list.r",
     "varRefreshCmd": "cat(var_dic_list()) "
    }
   },
   "types_to_exclude": [
    "module",
    "function",
    "builtin_function_or_method",
    "instance",
    "_Feature"
   ],
   "window_display": false
  }
 },
 "nbformat": 4,
 "nbformat_minor": 4
}
