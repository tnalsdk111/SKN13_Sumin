{
 "cells": [
  {
   "cell_type": "markdown",
   "metadata": {
    "slideshow": {
     "slide_type": "slide"
    }
   },
   "source": [
    "# requests 모듈을 이용한 웹 요청\n",
    "- [Requests 홈페이지](https://requests.kennethreitz.org/en/master/)\n",
    "- **HTTP 요청과 응답을 처리하는 파이썬 패키지**\n",
    "- get/post 요청 방식을 모두 지원하며 요청시 설정해야 하는 헤더정보, 쿠키정보 설정등 HTTP요청을 위한 모든 기능을 지원한다.\n",
    "- 설치\n",
    "    - `pip install requests`\n",
    "    - `conda install -c conda-forge requests`\n",
    "\n",
    "> HTTP 요청 방식(HTTP Method)\n",
    "> – HTTP 프로토콜은 클라이언트가 서버에 요청하는 목적에 따라 다음과 같은 방식을 정의한다.\n",
    ">     – GET, POST, PUT, PATCH, DELETE, HEADER, OPTIONS, TRACE, CONECT\n",
    ">         - 전통적인 Web은 GET과 POST 방식 지원하는데 Restful 기반 API에서는 GET, POST, PUT, PATCH, DELETE를 이용한다.\n",
    ">     - GET: 기본 요청방식으로 서버가 가진 데이터를 요청한다. (RETRIEVE)\n",
    ">     - POST: 클라이언트의 데이터를 서버에 전송(저장)한다. (CREATE)\n",
    ">     - PUT: 서버가 가진 데이터를 클라이언트가 전송한 데이터로 변경한다. (UPDATE - 전체 변경)\n",
    ">     - PATCH: 서버가 가진 데이터의 일부를 클라이언트가 전송한 데이터로 변경한다. (UPDATE - 부분 변경)\n",
    ">     - DELETE: 서버의 데이터를 삭제한다. (DELETE)"
   ]
  },
  {
   "cell_type": "markdown",
   "metadata": {},
   "source": [
    "## Crawling을 위한 requests 코딩 패턴\n",
    "1. requests의 get()/post() 함수를 이용해 url을 넣어 서버 요청한다.\n",
    "2. 응답받은 내용(일반적으로 HTML 페이지)을 처리.\n",
    "    - text(HTML)은 BeautifulSoup를 이용해 원하는 내용을 추출한다.\n",
    "    - binary 파일(text를 제외한 모든 파일-이미지, 동영상등)의 경우 파일출력을 이용해 local에 저장"
   ]
  },
  {
   "cell_type": "markdown",
   "metadata": {
    "slideshow": {
     "slide_type": "slide"
    }
   },
   "source": [
    "## 요청 함수\n",
    "- HTTP 요청 방식에 따라 두개 함수를 사용.\n",
    "- get(): GET방식 요청\n",
    "    - GET 방식(기본방식): 목적 - client가 자원을 요청하는 것 목적(달라는 것.)\n",
    "- post(): POST방식 요청\n",
    "    - POST 방식: 목적 - client가 자기의 자원을 server로 전송하는 것이 목적."
   ]
  },
  {
   "cell_type": "markdown",
   "metadata": {
    "slideshow": {
     "slide_type": "slide"
    }
   },
   "source": [
    "### requests.get(URL)\n",
    "- **GET 방식 요청**\n",
    "- **주요 매개변수**\n",
    "    - params: 요청파라미터를 dictionary로 전달\n",
    "    - headers: HTTP 요청 header를 dictionary로 전달\n",
    "        - 'User-Agent', 'Referer' 등 헤더 설정\n",
    "        - 크롤링을 하기 위해 필요한 header 정보는 웹브라우저의 개발자 도구를 이용해 확인한다. (Network 탭에서 확인)\n",
    "    - cookies: 쿠키정보를 전달\n",
    "- **반환값(Return Value)**\n",
    "    - [Response](#Response객체): 응답결과"
   ]
  },
  {
   "cell_type": "markdown",
   "metadata": {},
   "source": [
    "### requests.post(URL)\n",
    "- **POST 방식 요청**\n",
    "- **주요 매개변수**\n",
    "    - datas : 요청파라미터를 dictionary로 전달\n",
    "    - files : 업로드할 파일을 dictionary로 전달\n",
    "        - key: 이름, value: 파일과 연결된 InputStream(TextIOWrapper)\n",
    "    - headers: HTTP 요청 header를 dictionary로 전달\n",
    "        - 'User-Agent', 'Referer' 등 헤더 설정\n",
    "    - cookies: 쿠키정보를 전달\n",
    "- **반환값(Return Value)**\n",
    "    - [Response](#Response객체): 응답결과"
   ]
  },
  {
   "cell_type": "markdown",
   "metadata": {
    "slideshow": {
     "slide_type": "subslide"
    }
   },
   "source": [
    "> ### 요청파라미터(Request Parameter)\n",
    "> - 요청파라미터란\n",
    ">     - 서버가 일하기 위해 클라이언트로 부터 받아야 하는 값들\n",
    ">     - `name=value` 형식으로 클라이언트가 전달한다. 여러개일 경우 `&`로 연결해서 전송됨 (ex: page=1&keyword=test)\n",
    "> - Get 요청시 queryString 으로 전달\n",
    ">     - querystring: URL 뒤에 붙여서 전송하는 요청파라미터를 말한다.\n",
    ">     - URL 뒤에 ?를 붙이고 그 뒤에 요청파라미터를 붙여 구성한다. (`?`가 url과 요청파라미터를 구분하는 구분자로 사용된다.)\n",
    ">     - ex) https://search.naver.com/search.naver?sm=top_hty&fbm=1&ie=utf8&query=python\n",
    ">     - requests.get() 요청시 요청파라미터 전달하는 두가지 방법\n",
    ">         1. url 뒤에 querystring으로 붙여서 전송\n",
    ">         2. dictionary 에 name=value 형태로 만들어 매개변수 params에 전달\n",
    ">     - Post 요청시 요청정보의 body에 넣어 전달\n",
    ">         - requests.post() 요청시에는 dictionary로 구성한 뒤 매개변수 datas에 전달한다. "
   ]
  },
  {
   "cell_type": "markdown",
   "metadata": {},
   "source": [
    "> ### HTTP 요청 헤더(Request Header)\n",
    "> HTTP 요청시 웹브라우저가 client의 여러 부가적인 정보들을 Key-Value 쌍 형식으로 전달한다.\n",
    "> - accept: 클라이언트가 처리가능한 content 타입 (Mime-type 형식으로 전달)\n",
    "> - accept-language: 클라이언트가 지원하는 언어(ex: ko, en-US)\n",
    "> - host: 요청한 host \n",
    "> - user-agent: 웹브라우저 종류"
   ]
  },
  {
   "cell_type": "markdown",
   "metadata": {
    "slideshow": {
     "slide_type": "slide"
    }
   },
   "source": [
    "## Response객체 -  응답데이터\n",
    "- get()/post() 의 요청에 대한 서버의 응답 결과를 Response 클래스의 객체에 담아 반환한다.\n",
    "    - Response객체의 속성(attribute)들을 이용해 서버가 응답결과를 조회할 수있다.\n",
    "- **주요 속성(Attribut)**\n",
    "    - **url**\n",
    "        - 응답한 서버의 url\n",
    "    - **status_code**\n",
    "        - HTTP 응답 상태코드\n",
    "    - **headers**\n",
    "        - 응답 header 정보로 dictionary로 반환한다.\n",
    "    - **응답 결과 데이터 조회**\n",
    "        - **text**\n",
    "            - 응답내용(html을 str로 반환)\n",
    "        - **content**\n",
    "            - 응답내용(응답결과가 binary-image, 동영상등-일 경우 사용하며 bytes 타입으로 반환한다.)\n",
    "        - **json()**\n",
    "            - 응답 결과가 JSON 인 경우 dictionary로 변환해서 반환한다."
   ]
  },
  {
   "cell_type": "markdown",
   "metadata": {},
   "source": [
    "> ### JSON(JavaScript Object Notation)\n",
    "> key-value 형태 또는 배열 형태의 text이며 이 기종간 데이터 교환에 많이 사용된다. 자바스크립트 언어에서 Object와 array를 생성하는 문법을 이용해 만듬. \n",
    "> - [JSON 공식사이트](http://json.org)\n",
    ">\n",
    "> ### Python json 모듈\n",
    ">\n",
    "> JSON 형식 문자열을 다루는 파이썬 표준 모듈\n",
    "> - json.loads(json문자열)\n",
    ">    - JSON 형식 문자열을 dictionary로 변환\n",
    "> - json.dumps(dictionary)\n",
    ">    - dictionary를 JSON 형식 문자열로 변환"
   ]
  },
  {
   "cell_type": "markdown",
   "metadata": {},
   "source": [
    "> ### HTTP 응답 상태코드\n",
    "> - 서버의 응답 결과를 나타내는 세 자리 숫자 코드이다. 이 코드를 통해 요청이 성공적으로 처리되었는지, 오류가 발생했는지, 아니면 다른 조치가 필요한지 등을 클라이언트에게 알려준다.\n",
    "> - https://ko.wikipedia.org/wiki/HTTP_상태_코드\n",
    ">     - 2XX(200번대): 성공\n",
    ">         - 200: OK\n",
    ">     - 3XX: 다른 주소로 이동 (이사)\n",
    ">         - 300번대이면 자동으로 이동해 준다. 크롤링시는 사용할 일이이 별로 없다.\n",
    ">     - 4XX: 클라이언트 오류 (사용자가 잘못한 것)\n",
    ">       - 403: 권한 없음. (권한이 없는 사용자가 요청한 경우)\n",
    ">       - 404: 존재하지 않는 주소\n",
    ">       - 405: 잘못된 요청방식으로 요청한 경우.(예를들어 POST 요청을 받는 페이지를 GET방식으로 요청 하면 발생.)\n",
    ">     - 5XX: 서버 오류 (서버에서 문제생긴 것)\n",
    ">       - 500: 서버가 처리방법을 모르는 오류\n",
    ">       - 503: 서버가 다운 등의 문제로 서비스 불가 상태"
   ]
  },
  {
   "cell_type": "markdown",
   "metadata": {},
   "source": [
    "### Get 방식 요청 예제\n",
    "\n",
    "#### 네이버 검색 결과 가져오기\n",
    "- naver 검색 요청 url을 이용해 검색을 요청하고 그 결과를 가져온다."
   ]
  },
  {
   "cell_type": "code",
   "execution_count": 3,
   "metadata": {},
   "outputs": [
    {
     "name": "stdin",
     "output_type": "stream",
     "text": [
      "keyword: 날씨\n"
     ]
    },
    {
     "name": "stdout",
     "output_type": "stream",
     "text": [
      "200\n",
      "<class 'requests.models.Response'>\n",
      "<class 'str'> 541706\n",
      "<!doctype html> <html lang=\"ko\"><head> <meta charset=\"utf-8\"> <meta name=\"referrer\" content=\"always\">  <meta name=\"format-detection\" content=\"telephone=no,address=no,email=no\"> <meta property=\"og:titl\n"
     ]
    }
   ],
   "source": [
    "# 웹 사이트에 요청을 보내기 위해 requests 라이브러리를 사용한다. \n",
    "import requests\n",
    "\n",
    "# 네이버 검색 URL\n",
    "# query={} 부분에 나중에 검색어가 들어갈 예정 (format으로 채워넣을 자)\n",
    "url = \"https://search.naver.com/search.naver?where=nexearch&sm=top_hty&fbm=0&ie=utf8&query={}\"\n",
    "\n",
    "# 사용자에게 검색어를 입력받는다. -> keyword\n",
    "keyword = input(\"keyword:\")\n",
    "# 그리고 format(keyword)로 url의 {} 자리에 채워 넣는다.\n",
    "url = url.format(keyword)\n",
    "\n",
    "# 완성된 url에 get 요청을 보낸다.\n",
    "# 서버가 응답을 주면 그 응답을 res에 저장한다. \n",
    "res = requests.get(url)\n",
    "\n",
    "# 응답 코드 출력\n",
    "# 200이면 성공!\n",
    "print(res.status_code)\n",
    "if res.status_code == 200:\n",
    "    print(type(res)) # <class 'requests.models.Response'>\n",
    "    print(type(res.text), len(res.text)) # 응답 본문 문자열, 그 길\n",
    "    print(res.text[:200]) # 응답을 앞 200글자만 조회\n",
    "else:\n",
    "    print(\"응답을 받지 못함.\", res.status_code)\n"
   ]
  },
  {
   "cell_type": "code",
   "execution_count": 31,
   "metadata": {},
   "outputs": [
    {
     "name": "stdin",
     "output_type": "stream",
     "text": [
      "검색어 입력 (예: 날씨):  부산 날씨\n"
     ]
    },
    {
     "name": "stdout",
     "output_type": "stream",
     "text": [
      "\n",
      "📆현재 시각: 2025년 04월 05일 19:26:13\n",
      "☑️ 날씨 요약: 어제보다 0.4° 높아요\n",
      "☀️ 현재 날씨: 맑음 (햇빛이 쨍쨍! 기분이 좋아요)\n",
      "🌡️ 현재 온도: 11.8°C\n"
     ]
    }
   ],
   "source": [
    "## BeautifulSoup으로 꺼내는 것도 같이 해보자!\n",
    "\n",
    "import requests\n",
    "from bs4 import BeautifulSoup\n",
    "from datetime import datetime # 날짜와 시간\n",
    "\n",
    "keyword = input(\"검색어 입력 (예: 날씨): \")\n",
    "url = f\"https://search.naver.com/search.naver?where=nexearch&sm=top_hty&fbm=0&ie=utf8&query={keyword}\"\n",
    "\n",
    "res = requests.get(url)\n",
    "\n",
    "if res.status_code == 200:\n",
    "    soup = BeautifulSoup(res.text, \"lxml\")\n",
    "\n",
    "    weather_info = soup.find(\"div\", class_=\"main_pack\")\n",
    "\n",
    "\n",
    "\n",
    "    if weather_info:\n",
    "        # 날씨 요약과 상태 분리\n",
    "        cast_txt = weather_info.find(\"p\", class_=\"summary\").get_text() # 전체 요약문\n",
    "        weather_status = cast_txt.split()[-1] # 상태: 비\n",
    "        weather_summary = cast_summary = \" \".join(cast_txt.split()[:-1]) # 상태 제외한 요약만 따로 저장\n",
    "        \n",
    "        # 현재 온도 추출\n",
    "        temp_box = weather_info.find(\"div\", class_=\"temperature_text\")\n",
    "        if temp_box:\n",
    "            current_temp = temp_box.get_text(strip=True).replace(\"현재 온도\", \"\").replace(\"°\", \"\")\n",
    "\n",
    "        # 날짜 및 시간 출력\n",
    "        now = datetime.now().strftime(\"%Y년 %m월 %d일 %H:%M:%S\")\n",
    "\n",
    "        # 날씨 상태에 따른 이모지 지정\n",
    "        emoji_map = {\n",
    "            \"맑음\": \"☀️\",\n",
    "            \"흐림\": \"☁️\",\n",
    "            \"구름\": \"🌥️\",\n",
    "            \"비\": \"🌧️\",\n",
    "            \"눈\": \"❄️\",\n",
    "            \"소나기\": \"🌦️\",\n",
    "            \"안개\": \"🌫️\"\n",
    "        }\n",
    "        emoji = emoji_map.get(weather_status, \"🌈\")  # 기본 이모지는 무지개\n",
    "\n",
    "        # 날씨 상태에 따른 추가 문구 지정\n",
    "        add_str_map = {\n",
    "            \"맑음\": \"햇빛이 쨍쨍! 기분이 좋아요\",\n",
    "            \"흐림\": \"날이 흐려요. 혹시 모르니 작은 우산을 챙겨보아요!\",\n",
    "            \"구름\": \"구름이 있어요. 강아지 모양 구름을 찾아보세요! 🐶\",\n",
    "            \"비\": \"비도.. 오고.. 그래서.. 네 생각이 났어.. 🎵☂️\",\n",
    "            \"눈\": \"눈이 와요! 오늘은 밖으로 뛰어나가 눈사람을 만들어요 ☃️\",\n",
    "            \"소나기\": \"소나기가 와요. 우산 필수!!\",\n",
    "            \"안개\": \"안개가 끼네요. 운전 조심하세요!\"\n",
    "        }\n",
    "\n",
    "        add_str = add_str_map.get(weather_status, \"오늘도 힘찬 하루! ⭐\")\n",
    "\n",
    "        # 출력\n",
    "        print(f\"\\n📆현재 시각: {now}\")\n",
    "        print(f\"☑️ 날씨 요약: {weather_summary}\")\n",
    "        print(f\"{emoji} 현재 날씨: {weather_status} ({add_str})\")\n",
    "        print(f\"🌡️ 현재 온도: {current_temp}°C\")\n",
    "    else:\n",
    "        print(\"날씨 정보가 없어요 😥\")\n",
    "else:\n",
    "    print(\"응답 실패\", res.status_code)\n"
   ]
  },
  {
   "cell_type": "markdown",
   "metadata": {},
   "source": [
    "#### httpbin 에 get 방식 요청\n",
    "- httpbin.org 는 HTTP 요청과 응답을 테스트하고 시뮬레이션하기 위한 웹 서비스 사이트이다."
   ]
  },
  {
   "cell_type": "markdown",
   "metadata": {},
   "source": [
    "##### 🥰 자세히 파헤쳐보자.\n",
    "- 이 코드는 **웹 서버에 요청을 보내고, 서버가 어떻게 응답하는지 확인**하는 실습 코드야.\n",
    "\n",
    "##### 이 코드의 목적 한 줄 요약 🎯\n",
    "- \"인터넷에 있는 어떤 웹사이트에 '질문'을 보내고, 그 웹사이트가 나한테 '어떤 정보'를 주는지 확인하는 코드야.\"\n",
    "\n",
    "##### 왜 이걸 하나면? 💡\n",
    "- 우리가 웹에서 데이터를 가져오거나 크롤링을 하거나, 혹은 API를 사용할 때는 **서버에 요청(request)을 보내고 응답(response)을 받아야 해.**\n",
    "- 이 코드는 그 응답-요청 구조를 테스트해보는 코드야!\n",
    "\n",
    "##### 예시로 비유하자면? ✏️\n",
    "- 마치 서점에 책이 있냐고 묻는 것과 같아!\n",
    "- 너: “혹시 ‘파이썬 책’ 있어요?” → 요청 (query = 'python', page = 3, 이런 식으로!)\n",
    "- 서점 직원: “네 있어요~” 하고 응답해줌 → 응답 (JSON 형식으로 돌아와)\n",
    "\n",
    "##### \"user-agent\"와 \"Referer\"는 어떤 역할인 걸까? 🧐\n",
    "- 웹 요청을 보낼 때, **브라우저나 사람처럼 보이기 위해** 이런 정보들을 같이 보내는 경우가 많아.\n",
    "- 이건 꼭 필요한 건 아니지만, **웹 크롤링**을 할 때는 중요해!\n",
    "\n",
    "##### User-Agent: \"나는 이런 브라우저를 쓰고 있어요.\" - 사람처럼 보이기 위해 사용\n",
    "- **의미**: 아래 코드는 \"나는 윈도우 10에서 크롬 브라우저를 쓰고 있다\"라고 말하는 거야.\n",
    "- **왜 이걸 써?**: 어떤 웹사이트들은 크롤링을 막기 위해 'User-Agent'를 체크해. python-request라고 보내면 막히는데, 브라우저처럼 보이면 통과되는 경우가 있어.\n",
    "\n",
    "##### Referer: 이 웹사이트를 어디에서 클릭해서 왔는지 알려주는 역할! - 어디서 들어왔는지 정보 전달\n",
    "- **의미**: 아래 코드는 \"나 구글 검색해서 여기 들어왔어요!\"라는 의미야.\n",
    "- **서버 입장**에서는 이걸 보고, \"아, 이 사용자는 구글 검색을 통해 왔구나\"라고 판단할 수 있어.\n",
    "- **왜 이걸 써?**: 일부 웹사이트는 특정 사이트(예. 구글, 네이버 등)에서 온 요청만 처리하기도 해.\n",
    "- 또는 분석용으로 쓰기도 하고, 보안 설정 때문에 Referer 없는 요청은 차단되기도 해.\n",
    "\n",
    "##### 실습용 코드에 이게 왜 있는데?\n",
    "- user-agent와 Referer 없어도 응답을 해줄 거야. 실습이니까 실제 웹사이트처럼 흉내내는 연습을 해준 거야.\n",
    "- `headers = req_headers` 이 부분을 빼도 \"httpbin.org\"는 응답을 해줄 거야. 하지만 **현실의 웹사이트**에서는 이런 헤더 없으면 거부 당하기도 하니까, 실습에서도 자주 넣어보는 거지."
   ]
  },
  {
   "cell_type": "code",
   "execution_count": 2,
   "metadata": {},
   "outputs": [
    {
     "name": "stdout",
     "output_type": "stream",
     "text": [
      "요청 URL: https://httpbin.org/get\n",
      "응답상태코드: 200\n",
      "============응답데이터(text)==========\n",
      "{\n",
      "  \"args\": {\n",
      "    \"fbm\": \"0\", \n",
      "    \"page\": \"3\", \n",
      "    \"query\": \"python\"\n",
      "  }, \n",
      "  \"headers\": {\n",
      "    \"Accept\": \"*/*\", \n",
      "    \"Accept-Encoding\": \"gzip, deflate, br, zstd\", \n",
      "    \"Host\": \"httpbin.org\", \n",
      "    \"Referer\": \"https://www.google.com/\", \n",
      "    \"User-Agent\": \"Mozilla/5.0 (Windows NT 10.0; Win64; x64) AppleWebKit/537.36 (KHTML, like Gecko) Chrome/129.0.0.0 Safari/537.36\", \n",
      "    \"X-Amzn-Trace-Id\": \"Root=1-67f2022c-5b2c77a47e5a5d6460c939b7\"\n",
      "  }, \n",
      "  \"origin\": \"118.176.136.133\", \n",
      "  \"url\": \"https://httpbin.org/get?query=python&fbm=0&page=3\"\n",
      "}\n",
      "\n",
      "==========응답헤더============\n",
      "{'Date': 'Sun, 06 Apr 2025 04:25:16 GMT', 'Content-Type': 'application/json', 'Content-Length': '537', 'Connection': 'keep-alive', 'Server': 'gunicorn/19.9.0', 'Access-Control-Allow-Origin': '*', 'Access-Control-Allow-Credentials': 'true'}\n"
     ]
    }
   ],
   "source": [
    "import requests\n",
    "from pprint import pprint\n",
    "\n",
    "# \"httpbin.org\"라는 실습용 웹사이트에 GET 방식으로 요청할 거야.\n",
    "base_url = \"https://httpbin.org/{}\"\n",
    "url = base_url.format(\"get\")\n",
    "print(\"요청 URL:\", url)\n",
    "\n",
    "# 요청 파라미터: 어떤 질문을 할지 정하는 거야.\n",
    "params = {\n",
    "    \"query\":\"python\",  # name : value\n",
    "    \"fbm\": 0,\n",
    "    \"page\": 3\n",
    "}\n",
    "\n",
    "# 헤더 정보: 나는 누구인지(user-agent), 어디에서 왔는지(Referer) 알려주는 거야.\n",
    "req_headers = {\n",
    "    \"user-agent\":\"Mozilla/5.0 (Windows NT 10.0; Win64; x64) AppleWebKit/537.36 (KHTML, like Gecko) Chrome/129.0.0.0 Safari/537.36\"\n",
    "    , \"Referer\":\"https://www.google.com/\"\n",
    "}\n",
    "\n",
    "# 질문을 보낸다.\n",
    "# \"httpbin.org야! 나 이런 조건으로 정보 좀 줘봐~\"\n",
    "res = requests.get(url,                  # url\n",
    "                   params=params,        # 요청파라미터들\n",
    "                   headers=req_headers)  # 요청 header 정보들 \n",
    "\n",
    "# 응답을 확인한다. \n",
    "print(\"응답상태코드:\",  res.status_code)\n",
    "if res.status_code == 200: # 응답이 잘 되었다면?\n",
    "    print(\"============응답데이터(text)==========\")\n",
    "    print(res.text) # 받은 전체 응답을 텍스트로 출력 \n",
    "    d2 = res.json() # 받은 데이터를 JSON 형식(dictionary)로 변환해서 반환.\n",
    "    print(\"==========응답헤더============\")\n",
    "    print(res.headers)"
   ]
  },
  {
   "cell_type": "markdown",
   "metadata": {
    "heading_collapsed": true
   },
   "source": [
    "### Post 요청 예\n",
    "- httpbin 사이트에 post 방식으로 요청한다."
   ]
  },
  {
   "cell_type": "code",
   "execution_count": 3,
   "metadata": {},
   "outputs": [
    {
     "name": "stdout",
     "output_type": "stream",
     "text": [
      "https://httpbin.org/post\n",
      "{\n",
      "  \"args\": {}, \n",
      "  \"data\": \"\", \n",
      "  \"files\": {}, \n",
      "  \"form\": {\n",
      "    \"fbm\": \"0\", \n",
      "    \"page\": \"3\", \n",
      "    \"query\": \"python\"\n",
      "  }, \n",
      "  \"headers\": {\n",
      "    \"Accept\": \"*/*\", \n",
      "    \"Accept-Encoding\": \"gzip, deflate, br, zstd\", \n",
      "    \"Content-Length\": \"25\", \n",
      "    \"Content-Type\": \"application/x-www-form-urlencoded\", \n",
      "    \"Host\": \"httpbin.org\", \n",
      "    \"Referer\": \"https://www.google.com/\", \n",
      "    \"User-Agent\": \"Mozilla/5.0 (Windows NT 10.0; Win64; x64) AppleWebKit/537.36 (KHTML, like Gecko) Chrome/123.0.0.0 Safari/537.36\", \n",
      "    \"X-Amzn-Trace-Id\": \"Root=1-67f206e4-79d701390333d0bc12d92d4f\"\n",
      "  }, \n",
      "  \"json\": null, \n",
      "  \"origin\": \"118.176.136.133\", \n",
      "  \"url\": \"https://httpbin.org/post\"\n",
      "}\n",
      "\n",
      "{'args': {}, 'data': '', 'files': {}, 'form': {'fbm': '0', 'page': '3', 'query': 'python'}, 'headers': {'Accept': '*/*', 'Accept-Encoding': 'gzip, deflate, br, zstd', 'Content-Length': '25', 'Content-Type': 'application/x-www-form-urlencoded', 'Host': 'httpbin.org', 'Referer': 'https://www.google.com/', 'User-Agent': 'Mozilla/5.0 (Windows NT 10.0; Win64; x64) AppleWebKit/537.36 (KHTML, like Gecko) Chrome/123.0.0.0 Safari/537.36', 'X-Amzn-Trace-Id': 'Root=1-67f206e4-79d701390333d0bc12d92d4f'}, 'json': None, 'origin': '118.176.136.133', 'url': 'https://httpbin.org/post'}\n"
     ]
    }
   ],
   "source": [
    "\n",
    "url = base_url.format(\"post\")\n",
    "print(url)\n",
    "# post방식은 요청 파라미터를 url뒤에 붙이지 않고 dictionary로 정의해서 함수에 전달.\n",
    "params = {\n",
    "    \"query\":\"python\",\n",
    "    \"fbm\": 0,\n",
    "    \"page\": 3\n",
    "}\n",
    "req_headers = {\n",
    "    \"user-agent\":\"Mozilla/5.0 (Windows NT 10.0; Win64; x64) AppleWebKit/537.36 (KHTML, like Gecko) Chrome/123.0.0.0 Safari/537.36\"\n",
    "    , \"Referer\":\"https://www.google.com/\"\n",
    "}\n",
    "\n",
    "res = requests.post(\n",
    "    url,\n",
    "    data=params,      \n",
    "    headers=req_headers\n",
    ")\n",
    "\n",
    "if res.status_code == 200:\n",
    "    print(res.text)     # -> str\n",
    "    print(res.json())  # JSON -> dict\n",
    "else:\n",
    "    print(\"실패:\", res.status_code)"
   ]
  },
  {
   "cell_type": "markdown",
   "metadata": {
    "slideshow": {
     "slide_type": "slide"
    }
   },
   "source": [
    "#### 응답결과(Response) 조회"
   ]
  },
  {
   "cell_type": "code",
   "execution_count": 4,
   "metadata": {},
   "outputs": [],
   "source": [
    "from bs4 import BeautifulSoup\n",
    "import requests\n",
    "\n",
    "url = 'http://www.pythonscraping.com/pages/warandpeace.html'\n",
    "\n",
    "user_agent = \"Mozilla/5.0 (Windows NT 10.0; Win64; x64) AppleWebKit/537.36 (KHTML, like Gecko) Chrome/123.0.0.0 Safari/537.36\"\n",
    "\n",
    "res = requests.get(url, headers={\"user-agent\":user_agent})\n",
    "\n",
    "if res.status_code == 200:\n",
    "\n",
    "    soup = BeautifulSoup(res.text, \"lxml\")\n",
    "    green_list = soup.select(\"span.green\")\n",
    "    search_names = []\n",
    "    for tag in green_list:\n",
    "        search_names.append(tag.text.replace(\"\\n\", ' '))\n",
    "else:\n",
    "    print(\"실패:\", res.status_code)"
   ]
  },
  {
   "cell_type": "code",
   "execution_count": 5,
   "metadata": {},
   "outputs": [
    {
     "data": {
      "text/plain": [
       "['Anna Pavlovna Scherer',\n",
       " 'Empress Marya Fedorovna',\n",
       " 'Prince Vasili Kuragin',\n",
       " 'Anna Pavlovna',\n",
       " 'St. Petersburg',\n",
       " 'the prince',\n",
       " 'Anna Pavlovna',\n",
       " 'Anna Pavlovna',\n",
       " 'the prince',\n",
       " 'the prince',\n",
       " 'the prince',\n",
       " 'Prince Vasili',\n",
       " 'Anna Pavlovna',\n",
       " 'Anna Pavlovna',\n",
       " 'the prince',\n",
       " 'Wintzingerode',\n",
       " 'King of Prussia',\n",
       " 'le Vicomte de Mortemart',\n",
       " 'Montmorencys',\n",
       " 'Rohans',\n",
       " 'Abbe Morio',\n",
       " 'the Emperor',\n",
       " 'the prince',\n",
       " 'Prince Vasili',\n",
       " 'Dowager Empress Marya Fedorovna',\n",
       " 'the baron',\n",
       " 'Anna Pavlovna',\n",
       " 'the Empress',\n",
       " 'the Empress',\n",
       " \"Anna Pavlovna's\",\n",
       " 'Her Majesty',\n",
       " 'Baron Funke',\n",
       " 'The prince',\n",
       " 'Anna Pavlovna',\n",
       " 'the Empress',\n",
       " 'The prince',\n",
       " 'Anatole',\n",
       " 'the prince',\n",
       " 'The prince',\n",
       " 'Anna Pavlovna',\n",
       " 'Anna Pavlovna']"
      ]
     },
     "execution_count": 5,
     "metadata": {},
     "output_type": "execute_result"
    }
   ],
   "source": [
    "result = [name.replace(\"\\n\", \" \") for name in search_names]\n",
    "result"
   ]
  },
  {
   "cell_type": "markdown",
   "metadata": {},
   "source": [
    "## binary date 를 다운로드"
   ]
  },
  {
   "cell_type": "code",
   "execution_count": null,
   "metadata": {},
   "outputs": [],
   "source": [
    "url = \"https://www.kia.com/content/dam/kwp/kr/ko/main-kv-contents/202311/kv_the_new_carnival_pc.jpg\"\n",
    "\n",
    "res = requests.get(url, headers={\"user-agent\":user_agent})\n",
    "\n",
    "if res.status_code == 200:\n",
    "    file = res.content  # binary 데이터 -> bytes으로 반환.\n",
    "    print(type(file))\n",
    "    with open(\"car.jpg\", \"wb\") as fo:\n",
    "        fo.write(file)"
   ]
  },
  {
   "cell_type": "markdown",
   "metadata": {},
   "source": [
    "## Daum New 목록 조회\n",
    "- https://news.daum.net 의 뉴스기사 목록에서 제목, 상세뉴스 url을 수집해서 csv 파일에 저장\n",
    "- 크롤링시 확인할 내용\n",
    "    - 요청 url을 파악한다.\n",
    "    - 페이지에서 수집할 내용을 찾는 방법을 웹브라우저 **개발자 도구를 이용해 찾는다.**\n",
    "    - 요청시 전달할 **요청정보들(header, cookie 등 정보) 를 개발자 도구를 이용해 찾는다.**"
   ]
  },
  {
   "cell_type": "markdown",
   "metadata": {},
   "source": [
    "> ### CSV 형식 파일\n",
    "> - Comma Separate Value\n",
    "> - 정형(표형태) 데이터를 text 파일에 저장하는 방식(형식)\n",
    "> - 한행에 한개의 데이터를 저장\n",
    "> - 데이터를 구성하는 속성들은 \",\" 를 구분자로 나눠서 작성한다.\n",
    "> - 예\n",
    "> ```csv\n",
    "> 이름,나이,주소\n",
    "> 홍길동,20,인천\n",
    "> 이순신,15,서울\n",
    "> 강감찬,30,부산\n",
    "> ```"
   ]
  },
  {
   "cell_type": "code",
   "execution_count": null,
   "metadata": {},
   "outputs": [],
   "source": [
    "from datetime import datetime\n",
    "datetime.now().strftime(\"%Y-%m-%d-%H-%M-%S\")+\".csv\""
   ]
  },
  {
   "cell_type": "code",
   "execution_count": null,
   "metadata": {},
   "outputs": [],
   "source": [
    "# 실습\\daum_new_list.py\n",
    "## https://news.daum.net\n",
    "\n",
    "# pip install requests beautifulsoup4\n",
    "import requests\n",
    "from bs4 import BeautifulSoup\n",
    "\n",
    "url = \"https://news.daum.net\"\n",
    "# 뉴스제목: <a>의 content, 링크주소: <a>의 href 속성값\n",
    "a_selector = \"body > div.container-doc > main > section > div > div.content-article > div.box_g.box_news_issue > ul > li > div > div > strong > a\"\n",
    "# user-agent: 1.개발자도구>콘솔: navigator.userAgent, 2. google검색: my user agent 검색\n",
    "user_agent = 'Mozilla/5.0 (Windows NT 10.0; Win64; x64) AppleWebKit/537.36 (KHTML, like Gecko) Chrome/123.0.0.0 Safari/537.36'\n",
    "\n",
    "def get_daum_news_list():\n",
    "    \"\"\"\n",
    "    다음 뉴스 기사 목록을 크롤링하는 함수.\n",
    "    news.daum.net의 기사 목록에서 \"제목\", \"링크\" 들을 수집.\n",
    "\n",
    "    aguments\n",
    "    return\n",
    "        DataFrame: 조회결과들을 담은 DataFrame(표)\n",
    "    raise\n",
    "        Exception: 처리 실패시 발생\n",
    "    \"\"\"\n",
    "    # 1. 요청\n",
    "    res = requests.get(url, headers={\"user-agent\":user_agent})\n",
    "    \n",
    "    # 2. 응답 페이지에서 필요한 정보 추출\n",
    "    if res.status_code == 200:\n",
    "        soup = BeautifulSoup(res.text, \"lxml\")\n",
    "        a_list = soup.select(a_selector)\n",
    "        result_list = []\n",
    "        for a_tag in a_list:\n",
    "            title = a_tag.get_text()\n",
    "            link = a_tag.get(\"href\")\n",
    "            result_list.append([title.strip(), link])\n",
    "        \n",
    "        return result_list\n",
    "    else:\n",
    "        raise Exception(f\"요청 실패. 응답코드: {res.status_code}\")      \n",
    "\n",
    "if __name__ == \"__main__\":\n",
    "    result = get_daum_news_list()\n",
    "    \n",
    "    # 저장할 디렉토리를 생성\n",
    "    import os\n",
    "    from datetime import datetime\n",
    "    import pandas as pd\n",
    "    save_dir = \"daum_news_list\"\n",
    "    os.makedirs(save_dir, exist_ok=True)\n",
    "    \n",
    "    # 저장할 파일명 - 특정 기간마다 크롤링 수행할 경우 실행 날짜/시간을 이용해서 만들어 준다.\n",
    "    d = datetime.now().strftime(\"%Y-%m-%d-%H-%M-%S\")\n",
    "    file_path = f\"{save_dir}/{d}.csv\"\n",
    "    # DataFrame 생성\n",
    "    result_df = pd.DataFrame(result, columns=['제목', \"링크주소\"])\n",
    "    # csv 파일로 저장.\n",
    "    result_df.to_csv(file_path, index=False)"
   ]
  },
  {
   "cell_type": "markdown",
   "metadata": {},
   "source": [
    "# Open API 를 이용\n",
    "\n",
    "Open API는 말 그대로 공개된 프로그래밍 인터페이스로, 외부 개발자나 사용자가 특정 서비스나 애플리케이션에 접근하여 서비스를 받을 수 있도록 공개된 API이다.\n",
    "\n",
    "## 정의\n",
    "\n",
    "Open API는 애플리케이션 개발자가 공개된 API를 사용해 다른 서비스와 애플리케이션을 연동할 수 있도록 만든 인터페이스이다. \n",
    "일반적으로 RESTful API 형식으로 서비스 한다.\n",
    "\n",
    "## 특징\n",
    "\n",
    "- 공개성: 누구나 접근할 수 있으며, 문서화가 잘 되어 있어 사용자가 쉽게 활용할 수 있음.\n",
    "- 표준화: 대부분 표준화된 HTTP 프로토콜과 JSON, XML 형식을 사용.\n",
    "- 보안성: API 키나 OAuth 같은 인증 방식으로 보안을 유지.\n",
    "\n",
    "## 사용 사례\n",
    "다양한 기업, 공공기관에서 다양한 서비스를 오픈 api로 제공한다. \n",
    "- 공공데이터 포털: 행정안전부에서 서비스하는 정부, 공공기관, 지자체 등이 보유한 데이터를 개방하고 제공하는 플랫폼.\n",
    "- 구글 맵 API: 외부 애플리케이션에서 구글 맵을 활용할 수 있게 해주는 대표적인 Open API.\n",
    "- 트위터 API: 트위터(X) 데이터를 외부에서 가져오거나 포스팅할 수 있도록 제공.\n",
    "- 네이버 개발자 오픈 API: 네이버의 다양한 서비스를 제공. (검색, 검색어 트랜드 조회, 캘린더 등)"
   ]
  },
  {
   "cell_type": "markdown",
   "metadata": {},
   "source": [
    "## 공공데이터 포털 데이터 조회\n",
    "- 서비스를 받기위한 API 키를 신청한다.\n",
    "- 가이드에 따라 요청방식, 요청 URL, 전달 값을 맞춰 요청한다."
   ]
  },
  {
   "cell_type": "markdown",
   "metadata": {},
   "source": [
    "> ### JSON 형식 파일\n",
    "> - 데이터를 text파일에 저장하는 형식으로 Javascript 객체 표기법을 이용한다.\n",
    "> - 파이썬의 dictionary 표기법과 동일다.\n",
    "> - 파이썬은 json 표준 모듈을 이용해 처리한다.\n",
    ">     - json.dump(): dictionary를 json 형식 문자열로 변환\n",
    ">     - json.load(): json 파일을 읽어 dictionary로 반환"
   ]
  },
  {
   "cell_type": "code",
   "execution_count": null,
   "metadata": {
    "scrolled": true
   },
   "outputs": [],
   "source": [
    "import requests\n",
    "import json\n",
    "\n",
    "\n",
    "url = 'https://api.odcloud.kr/api/15127133/v1/uddi:ea3c3b5a-3bd8-4faf-b155-bb2af3cc3377'\n",
    "with open('api_key.json', 'rt') as fr:\n",
    "    key_dict = json.load(fr)\n",
    "\n",
    "key = key_dict['apikey']\n",
    "params ={'serviceKey' : key_dict[\"apikey\"],\n",
    "         'pageNo' : 1, \n",
    "         'perPage': 20,}\n",
    "\n",
    "response = requests.get(url, params=params)\n",
    "if response.status_code == 200:\n",
    "    result = response.json()\n",
    "    print(type(result))\n",
    "    from pprint import pprint\n",
    "    print(len(result['data']))\n",
    "    pprint(result['data'])"
   ]
  },
  {
   "cell_type": "code",
   "execution_count": null,
   "metadata": {
    "scrolled": true
   },
   "outputs": [],
   "source": [
    "result"
   ]
  }
 ],
 "metadata": {
  "kernelspec": {
   "display_name": "Python 3 (ipykernel)",
   "language": "python",
   "name": "python3"
  },
  "language_info": {
   "codemirror_mode": {
    "name": "ipython",
    "version": 3
   },
   "file_extension": ".py",
   "mimetype": "text/x-python",
   "name": "python",
   "nbconvert_exporter": "python",
   "pygments_lexer": "ipython3",
   "version": "3.12.7"
  },
  "toc": {
   "base_numbering": 1,
   "nav_menu": {},
   "number_sections": true,
   "sideBar": false,
   "skip_h1_title": false,
   "title_cell": "Table of Contents",
   "title_sidebar": "Contents",
   "toc_cell": false,
   "toc_position": {},
   "toc_section_display": false,
   "toc_window_display": false
  },
  "varInspector": {
   "cols": {
    "lenName": 16,
    "lenType": 16,
    "lenVar": 40
   },
   "kernels_config": {
    "python": {
     "delete_cmd_postfix": "",
     "delete_cmd_prefix": "del ",
     "library": "var_list.py",
     "varRefreshCmd": "print(var_dic_list())"
    },
    "r": {
     "delete_cmd_postfix": ") ",
     "delete_cmd_prefix": "rm(",
     "library": "var_list.r",
     "varRefreshCmd": "cat(var_dic_list()) "
    }
   },
   "types_to_exclude": [
    "module",
    "function",
    "builtin_function_or_method",
    "instance",
    "_Feature"
   ],
   "window_display": false
  }
 },
 "nbformat": 4,
 "nbformat_minor": 4
}
