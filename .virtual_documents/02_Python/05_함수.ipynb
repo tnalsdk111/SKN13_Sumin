








# 함수 정의
## 파라미터(입력 값), 리턴 값(출력 값) 모두 없는 함수
def greeting(): # 선언부 (Header)
    print("안녕하세요. 반갑습니다.")


greeting() # 호출: 함수이름([입력값들])


# 파라미터가 있는 함수
def greeting1(name):
    print(f"{name}님 안녕하세요") 
greeting1(input("이름이 뭐예요?"))














def greet3(name):
    return f"{name}님 환영합니다."


greet3("홍길동")


def calculate(num1, num2):
    r1 = num1 + num2
    r2 = num1 - num2
    r3 = num1 * num2
    r4 = num1 / num2
    # 모든 계산 결과를 반환
    # return [r1, r2, r3, r4]
    # return r1, r2, r3, r4 # 괄호 생략하고 튜플로 리턴
    return dict(plus=r1, minus=r2, multiply=r3, divide=r4)


x = calculate(3, 5)
x


def divide(n1, n2):
    if n2 == 0:
        return    # 함수 실행을 종료하고 호출한 곳으로 돌아가세요
    return n1/n2


result = divide(10, 2)
print(result)

if result is None:
    print("계산 실패")
else:
    print(f"결과: {result}")


a = print("안녕")
print(a) # None # print()는 None을 리턴











def print_info(name):
    print(f"이름: {name}")


print_info("홍길동")
# print_info() <- 값을 안 주면 에러!


def print_info2(name=None):
    print(f"이름: {name}")


print_info2()





def print_info(name, age, address, tall=0, weight=0): # default값이 있는 파라미터를 뒤로 보내야함. age =-1 안 됨
    print(name, age, address, tall, weight)


print_info("이순신", 40, "서울", 8)


print_info("홍길동", 17, "한양") # positional argument # 순서에 맞춰서 값을 전달


print_info(name="이순신", age=40, address="인천", tall=190.2)
# keyword argument: 파라미터 이름 = 전달할 값


def print_info(name=None, age=None, address=None, tall=0, weight=0): # default값이 있는 파라미터를 뒤로 보내야함. age =-1 안 됨
    print(name, age, address, tall, weight)


print_info()














def test(*a):
    pass
test(1, 2)
test()


def test2(*a, **b):
    print(type(a), a)
    print(type(b), b)

test2(1, 2, 3, 4, name = "이순신", age = 28)


# 숫자들의 합계를 계산해주는 함수를 만들고 싶어요
def my_sum(*nums):
    result = 0
    for v in nums:
        result += v
    return result

a = my_sum(1, 2, 3)
print(a)


help(print) # print() 함수에 대한 설명 제공


def my_print(*args, sep=" ", end="\n"):
    result = ""
    for v in args:
        result += v
        result += sep
    result += end
    return result


my_print("안녕하세요", "감사해요")
my_print("잘 있어요", "다시 만나요")


#def test(**kwargs, b):
    # pass
# SyntaxError:arguments cannot follow var-keyword argument


def func(*args, **kwargs):
    pass

def func(a, b, c, d, *args, **kwargs):
    pass











def test():
    my_var = 10

# print(my_var)
# NameError: name 'my_var' is not defined


def test():
    my_var = 10
    print(my_var)
    a = my_var +20 
    print(a)

# a와 my_var는 함수가 실행되는 동안만 임시적으로 일하고, 함수가 끝나면 사라진다 
# 그래서 임시 변수, 지역 변수라고 한다. 
test()
print()
print(f"print(test()): {test()}")


# 전역 변수
def test2(name, age): # 함수 파라미터는 지역 변수이다. 
    print(name, age)

n = "홍길동"
a = 30
test2(n, a)


g_var = 10
def func():
    local_var = 100

    print(local_var)
    print(g_var)

func()


g_var = 10
def func():
    local_var = 100
    g_var = "안녕하세요." # local 변수 새로 선언
    print(local_var)
    print(g_var)

func()


g_var = 10
def func():
    local_var = 100
    g_var = "안녕하세요." # local 변수 새로 선언
    print(local_var)
    print(g_var)

func()





g_var = 10
def func():
    local_var = 100
    global g_var 
    g_var = "안녕하세요." # local 변수 새로 선언
    print(local_var)
    print(g_var)

func()
print()
print(g_var)
# 하지만 코드를 불안정하게 만드니 되도록 쓰지 말자. 
# 변수는 되도록 자기 영역에서 바꾸자!!











def hello():
    print("Hello World!")

hello() # 함수 호출 (call) -> 일 시키기


hello # 함수 객체(값) 자체를 호출


my_hello = hello # hello 함수를 my_hello라는 변수에 대입





my_hello()





def test(args):
    k = 100
    return args

r = test(hello)
r()





def search(주제, 검색한다):
    검색결과 = 검색한다(주제)
    요약결과 = 요약한다(검색결과)
    return 요약결과

# 주제와 검색하는 방법을 줘. 그럼 내가 요약을 해서 return해줄게! 


# search("파이썬", 네이버검색함수)
# search("파이썬", 네이버검색함수())라고 하면, 네이버검색함수()의 결과를 입력하게 된다.








def plus(n1, n2):
    return n1 + n2


plus


lambda n1, n2: n1 + n2 # 두 개의 값 n1, n2를 받아서 더한 결과를 리턴하는 람다식.


a = lambda n1, n2: n1 + n2
a(30, 40)


num1 = 10
num2 = 20
print(plus(num1, num2)) # 굳이?
print(plus(10, 20)) # 한 번 쓰고 안 쓸건데 





(lambda x, y, z: x + y - z)(30, 20, 40)


# help(input)
?input


?print


def greet(name, age):
    """
    인삿말을 문자열로 만들어주는 함수.

    Args: # 파라미터에 대한 설명
        name(str): 인삿말에 들어갈 사람의 이름
        age(int): name 사람의 나이\

    Returns: # 리턴값에 대한 설명
        str: 이름과 나이가 들어간 인삿말 (타입: 설명)

    Raises: # 이 함수에서 발생 가능성 있는 Error(Exception)의 종류와 설명
    """
    return f"안녕하세요. {age}세의 {name} 공주님."


greet("안수민", 22)


?greet




















# 1. 시작 정수, 끝 정수를 받아 그 사이의 모든 정수의 합을 구해서 반환하는 함수를 구현(ex: 1, 20 => 1에서 20 사이의 모든 정수의 합계)


# 2. 2번 문제에서 시작을 받지 않은 경우 0을, 끝 정수를 받지 않으면 10이 들어가도록 구현을 변경


# 3. 구구단을 출력하는 함수를 구현한다. 입력으로 출력하고 싶은 단을 parameter로 입력받아서 `N * 1` ~ `N * 9` 를 출력한다. (N: 입력받은 단)


# 4. 체질량 지수는 비만도를 나타내는 지수로 키가 a미터 이고 몸무게가 b kg일때 b/(a**2) 로 구한다.
# 체질량 지수가
# - 18.5 미만이면 저체중
# - 18.5이상 25미만이면 정상
# - 25이상이면 과체중
# - 30이상이면 비만으로 하는데
# 몸무게와 키를 매개변수로 받아 비만인지 과체중인지 반환하는 함수를 구현하시오.
