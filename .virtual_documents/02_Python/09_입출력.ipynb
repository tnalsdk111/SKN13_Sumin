











# 현재 디렉토리(working directory) 확인 -> 프로그램을 실행시킨 디렉토리.
import os
os.getcwd()   # current working directory


# working directory 를 변경.
os.chdir("mypackage")


os.getcwd() 


os.chdir(r"c:\temp")


os.getcwd()


os.chdir('C:\\Documents\\SKN13\\02_Python')


os.getcwd()


os.mkdir("new_dir")


os.rmdir("new_dir")




















# a.txt 파일에 문자열을 출력하는 코드.
# 1. 연결
fw = open("./a.txt", "wt", encoding="utf-8")
# fw = open("./a.txt", "at", encoding="utf-8")
# fw = open("./a.txt", "xt", encoding="utf-8")
# print(type(fw))
# 2. 출력(쓰기)
fw.write("안녕하세요\n")
fw.write("Hello World!")
# 3. 연결 닫기
fw.close()


text_list = ["안녕하세요.\n", "반갑습니다.\n", "날씨가 좋아요."]
fw2 = open(r"c:\temp\b.txt", "wt", encoding='utf-8')  #연결
# for txt in text_list:  # 쓰기
#     fw2.write(txt)
fw2.writelines(text_list)
fw2.close()   # 연결닫기





# a.txt 의 내용을 읽기
fr = open("./a.txt", "rt", encoding="utf-8")  # 연결 - encoding: utf-8 , cp949
txt = fr.read()
fr.close() # 연결 닫기


print(txt)


fr2 = open(r"c:\temp\b.txt", mode='rt', encoding="utf-8")

# txt = fr2.read() # 한번에 다 읽기
txt = fr2.readlines() # 한번에 다 읽기 -> 라인단위로 끊어서 list에 담아 반환
print(txt)

fr2.close()


fr3 = open(r"c:\temp\b.txt", mode='rt', encoding="utf-8")

print(fr3.readline()) # 한줄 read
print(fr3.readline()) # (다음) 한줄을 read
print(fr3.readline()) # (다음) 한줄을 read
print(fr3.readline()) # (다음) 한줄을 read -> 읽을 것이 없으면(EOF-End Of File) None 반환.
fr3.close()


fr4 = open(r"c:\temp\b.txt", mode='rt', encoding="utf-8")

for num, line in enumerate(fr4, start=1):
    print(num, line.strip())

fr4.close()








fr = open("./a.txt", "rt", encoding="utf-8")  # 연결 - encoding: utf-8 , cp949

txt = fr.read()

fr.close() # 연결 닫기


# with block을 이용할 수 있는 객체를 context manager라고 한다.
with open("./a.txt", "rt", encoding="utf-8") as fr:
    txt = fr.read()
    print(txt)
# with block이 끝나면 io.close()가 자동으로 실행된다.
print("종료")

















import pickle

num = 10 # int
with open("int_data.pickle", "wb") as fo:
    # 피클로 저장(출력) -> dump(값, 출력stream)
    pickle.dump(num, fo)
    # num(int) -> bytes 변환 -> fo.write(byte)


# 읽기
import pickle
with open("int_data.pickle", "rb") as fi:
    result = pickle.load(fi) # 읽기 -> load(입력stream)
    # fi.read(): 반환-bytes -> 원래타입(int)로 변환해서 반환.


type(result), result


d = {
    "이름":"홍길동",
    "나이": 40,
    "주소": "서울",
    "취미": ["게임", "운동"],
    "특기": ("발표", "글쓰기"),
    "결혼여부": True
}


class Person:

    def __init__(self, name, age):
        self.name = name
        self.age = age
        
    def __str__(self):
        return f"이름: {self.name}, 나이: {self.age}"

d = Person("이순신", 20)
print(d)


with open("info.pickle", "wb") as fo:
    pickle.dump(d, fo)


with open("info.pickle", "rb") as fi:
    saved_info = pickle.load(fi)
    print(type(saved_info))


print(saved_info)
saved_info.name, saved_info.age


type(saved_info['특기'])











1. 사용자로부터 파일명을 입력받는다.  (X)
2. 사용자로부터 파일에 저장할 문장을 입력받아서 파일에 저장한다.
    - 한줄씩 입력받는다.
    - 사용자가 !q 를 입력하면 저장후 종료한다.

3. 사용자가 저장한 파일을 읽어서 출력한다.


print("==========CLI 메모장============")
file_path = input("저장할 파일경로:")
with open(file_path, "wt", encoding="utf-8") as fw:
    print("==========저장할 내용을 한줄씩 입력하세요.===========")
    while True:
        txt = input(">>")
        if txt == '!q':
            break
        fw.write(txt+"\n")

print("===========저장되었습니다.===========")


%%writefile simple_memo.py

print("==========CLI 메모장============")
file_path = input("저장할 파일경로:")
with open(file_path, "wt", encoding="utf-8") as fw:
    print("==========저장할 내용을 한줄씩 입력하세요.===========")
    while True:
        txt = input(">>")
        if txt == '!q':
            break
        fw.write(txt+"\n")

print("===========저장되었습니다.===========")
