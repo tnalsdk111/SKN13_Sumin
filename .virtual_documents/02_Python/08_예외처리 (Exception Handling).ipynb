def divide(num1, num2):
    # num2 != 0
    if num2 == 0:
        print("0으로 나눌수 없습니다.")
        return None
    return num1 / num2


result = divide(10, 0)
if result is not None:
    result2 = result + 5
    print("나누고 더한 값은 ", result2)





try:
    a = 10 / 0
    print(a)
except:
    # a = 10 / 2
    # print(a)
    print("나누기 실패")
b = 10 + 2
pritn(b)




















# try - except 구문
print("프로그램 시작")        # 1

try:
    num = int(input("정수:")) # 2. 숫자 입력 받아서 정수로 변환. => Exception 발생가능성있는 코드
    result = 10 / num         # 3. Exception 발생가능성있는 코드
    print(result)             # 4
    print(name)
except ValueError:  # ValueError 만 처리.
    print("Error 발생했습니다. 숫자를 입력해 주세요.")  # E-1
except ZeroDivisionError:
    print("Error 발생. 0으로 나눌수 없다.")             # E-2
except:
    print("Exception 처리")
    # pass
print("프로그램 종료")        # 5.











print("시작")
try:
    print(1)
    # a = 10 / 10 # 정상
    a = 10 / 0  # Exception
    print(2)
# except:
except NameError:
    print("E")
finally:
    print("Finally block 실행.")




















def divide(num1:int, num2:int) -> float:
    """
    나누기 함수
    
    Args:
        num1(int) - 설명
        num2(int) - 설명
    Returns
        float - 나눈 값
    Raises:
        ValueError - num2가 0이면 발생.
    """
    if num2 == 0:
        # print("에러")
        # return None
        raise ValueError("에러 메세지입니다.")  # raise Exception객체 => Exception의 이유
    return num1 / num2


try:
    r = divide(10, 0)
    print(r + 100)
except ValueError as e:
    print("Exception 처리: " , e)
print('종료')


int __truediv__(self, other):
    if other == 0:
        raise ZDE("division by zero")


int("aaaa")
def int(value):

    if value가 숫자형태의 문자열이 아니면:
        raise ValueError(f"invalid literal for int() with base 10: '{value}'")
    변환


1 / 0











# 사용자 정의 Exception 클래스 정의
class InvalidMonthException(Exception):

    def __init__(self, message=None, invalid_month=None):
        super().__init__(message)
        self.invalid_month = invalid_month


# 월(month)를 저장하는 함수.
def save_month(month:int):
    if month < 1 or month > 12: # 에러 조건
        # raise Exception("월은 1 ~ 12 사이만 가능")
        raise InvalidMonthException("월은 1 ~ 12 사이만 가능", month)
    print(f"{month}월을 데이터베이스에 저장했습니다.")


try:
    save_month(-9)
    # save_day(2)
except InvalidMonthException as e:
    print("에러")
    print(e)
    print(e.invalid_month)



