import random

random.randint(10, 100)








%%writefile mypackage/weight_helper.py
# %%writefile 파일경로 -> cell의 작성한 내용을 경로의 파일에 작성(저장.) -> cell의 첫줄에 넣어야함.
def check_bmi(tall, weight):
    print()
    return weight/tall**2


# %load mypackage/weight_helper.py
# %%writefile 파일경로 -> cell의 작성한 내용을 경로의 파일에 작성(저장.) -> cell의 첫줄에 넣어야함.
# def check_bmi(tall, weight):
#     return weight/tall**2



























# calculator 모듈을 import 
import mypackage.calculator # as mypackage.calculator


mypackage.calculator.plus(10, 20)
mypackage.calculator.divide(10, 5)


import mypackage.calculator as calc


calc.plus(10, 200)


# if 조건:
from mypackage import calculator as c # as calculator
calculator.multiply(10, 2)
# c.xxxx()


import mypackage.weight_helper, mypackage.calculator

mypackage.weight_helper.check_bmi(1.7, 60)
mypackage.calculator.plus(10, 20)


from mypackage import weight_helper as wh, calculator as c
wh.check_bmi(1.9, 90)
c.plus(100, 200)


def test():
    pass

test()


def plus():
    print("더하기")


plus()


## 모듈에 있는 함수, 클래스를 import
from mypackage.calculator import plus, divide
# from mypackage.calculator import *
# from package.모듈명 import 함수/클래스  => 현재 실행중인 모듈(__main__)의 namespace에 정의
print(plus(10, 20))
divide(20, 5)


plus()


print(__name__)


from mypackage import calculator


class Test:
    pass

t = Test()
print(type(t))








%%writefile c:\temp\pkg\util.py

def hello():
    print("안녕하세요")


import sys
sys.path


sys.path.append(r"c:\temp")
sys.path


from pkg import util
util.hello()

















import pandas as pd


pip install pandas
pip install pandas==2.2.0


# upgrade/downgrade
pip install pandas -U #--upgrade


# 삭제(제거)
pip uninstall pandas


# jupyter lab에서 pip 명령어 사용


%pip install -q matplotlib






