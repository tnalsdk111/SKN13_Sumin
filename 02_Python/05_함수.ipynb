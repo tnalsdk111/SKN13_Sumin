{
 "cells": [
  {
   "cell_type": "markdown",
   "metadata": {
    "slideshow": {
     "slide_type": "slide"
    }
   },
   "source": [
    "# 함수란\n",
    "\n",
    "-   함수란 **입력변수와 출력변수간의 대응 관계**를 정의한 것을 말한다.\n",
    "-   프로그램에서 함수란 하나의 작업, 기능, 동작을 처리하기 위한 사용자 정의 연산자라고 할 수 있다.\n",
    "    -   함수는 값을 **입력(Input)을** 받아서 **처리 후** 처리결과를 **출력(Output)하는** 일련의 과정을 정의한 것을 말한다.\n",
    "    -   만들어진 함수는 동일한 작업이 필요할 때 마다 재사용될 수 있다.\n",
    "    -   함수를 구현해 파이썬 실행환경에 등록하는 것을 **함수를 정의(define)한다** 라고 한다.\n",
    "    -   정의된 함수를 사용하는 것을 **함수를 호출(call)한다** 라고 한다.\n",
    "    -   파이썬에서 함수는 일급 시민 객체(First Class Citizen/First Class Object)이다.\n",
    "\n",
    "> -   **일급 시민 객체 란**  \n",
    ">      – **변수에 할당할 수 있고, 함수의 입력값으로 전달할 수 있고, 함수의 반환 값으로 반환할 수 있는 객체를 말한다.**\n",
    ">\n",
    "> -   일급시민객체는 일급시민 이란 말에서 유래된 용어이다.\n",
    ">          - 일급 시민이란 자유롭게 거주하며 일을 할 수 있고, 출입국의 자유를 가지며 투표의 자유를 가지는 시민을 의미한다.\n",
    ">          - 일급 시민 객체란 적용 가능한 연산을 모두 지원하는 객체를 뜻한다."
   ]
  },
  {
   "cell_type": "markdown",
   "metadata": {
    "slideshow": {
     "slide_type": "slide"
    }
   },
   "source": [
    "## 함수 정의\n",
    "\n",
    "-   새로운 함수를 만드는 것을 함수의 정의라고 한다.\n",
    "-   함수를 구현하고 그것을 **파이썬 실행환경에** 새로운 기능으로 **등록하는** 과정을 말한다.\n",
    "\n",
    "### 함수 구현\n",
    "\n",
    "-   함수의 선언부와 구현부로 나누어진다\n",
    "    -   함수의 선언부(Header) : 함수의 이름과 입력값을 받을 변수(Parameter, 매개변수)를 지정한다.\n",
    "    -   함수의 구현부(Body) : 함수가 호출 되었을 때 실행할 실행문들을 순서대로 작성한다.\n"
   ]
  },
  {
   "cell_type": "markdown",
   "metadata": {
    "slideshow": {
     "slide_type": "fragment"
    }
   },
   "source": [
    "```python\n",
    "def 함수이름( [변수, 변수, ..]):  # 선언 부(Header)\n",
    "    # 구현 부(body)\n",
    "    실행구문1\n",
    "    실행구문2\n",
    "    실행구문3\n",
    "    …\n",
    "    [return [결과값]]\n",
    "```\n",
    "\n",
    "-   함수 선언 마지막에는 `:` 을 넣어 구현부와 구분한다.\n",
    "-   Parameter(매개변수)는 argument(호출하는 곳에서 전달하는 함수의 입력값)를 받기 위한 변수로 0개 이상 선언할 수 있다.\n",
    "-   함수의 실행구문은 코드블록으로 들여쓰기로 블록을 묶어준다.\n",
    "    -   들여쓰기는 보통 공백 4칸을 사용한다.\n",
    "-   함수의 처리 결과값이 있을 경우 **return 구문**을 넣고 없을 경우 return은 생략할 수 있다.\n",
    "-   **함수이름 관례**\n",
    "    -   함수이름은 보통 동사형으로 만든다.\n",
    "    -   Snake 표기법사용: 모두 소문자로 하고 여러단어로 구성할 경우 각 단어들을 `_`로 연결한다. (변수와 동일)\n"
   ]
  },
  {
   "cell_type": "code",
   "execution_count": 1,
   "metadata": {
    "slideshow": {
     "slide_type": "fragment"
    }
   },
   "outputs": [],
   "source": [
    "# 함수 정의\n",
    "## 파라미터(입력 값), 리턴 값(출력 값) 모두 없는 함수\n",
    "def greeting(): # 선언부 (Header)\n",
    "    print(\"안녕하세요. 반갑습니다.\")"
   ]
  },
  {
   "cell_type": "code",
   "execution_count": 3,
   "metadata": {
    "scrolled": true,
    "slideshow": {
     "slide_type": "fragment"
    }
   },
   "outputs": [
    {
     "name": "stdout",
     "output_type": "stream",
     "text": [
      "안녕하세요. 반갑습니다.\n"
     ]
    }
   ],
   "source": [
    "greeting() # 호출: 함수이름([입력값들])"
   ]
  },
  {
   "cell_type": "code",
   "execution_count": 8,
   "metadata": {},
   "outputs": [
    {
     "name": "stdin",
     "output_type": "stream",
     "text": [
      "이름이 뭐예요? 안수민\n"
     ]
    },
    {
     "name": "stdout",
     "output_type": "stream",
     "text": [
      "안수민님 안녕하세요\n"
     ]
    }
   ],
   "source": [
    "# 파라미터가 있는 함수\n",
    "def greeting1(name):\n",
    "    print(f\"{name}님 안녕하세요\") \n",
    "greeting1(input(\"이름이 뭐예요?\"))"
   ]
  },
  {
   "cell_type": "code",
   "execution_count": null,
   "metadata": {},
   "outputs": [],
   "source": []
  },
  {
   "cell_type": "code",
   "execution_count": null,
   "metadata": {},
   "outputs": [],
   "source": []
  },
  {
   "cell_type": "code",
   "execution_count": null,
   "metadata": {},
   "outputs": [],
   "source": []
  },
  {
   "cell_type": "markdown",
   "metadata": {
    "slideshow": {
     "slide_type": "subslide"
    }
   },
   "source": [
    "## 함수 parameter와 return value\n",
    "\n",
    "-   **parameter:** 함수가 호출하는 곳으로 부터 입력받는 값을 저장하는 변수.\n",
    "    -   **arugument:**  호출할 때 파라미터에 전달 하는 값.\n",
    "-   **return value:** 함수의 처리결과로 호출하는 곳에 전달(반환)하는 값.\n",
    "\n",
    "### return value(반환값)\n",
    "\n",
    "-   함수가 호출받아 처리한 결과값으로 호출한 곳으로 반환하는 값이다.\n",
    "-   함수 구현부에 return \\[값\\] 구문을 사용해 반환한다.\n",
    "    -   **return**\n",
    "        -   함수가 정상적으로 끝났고 호출한곳으로 돌아간다.\n",
    "        -   보통은 함수 구현의 마지막에 넣지만 경우에 따라 중간에 올 수 있다.\n",
    "    -   return 반환값\n",
    "        -   호출한 곳으로 값을 가지고 돌아간다. (반환한다)\n",
    "        -   반환값이 없을 경우 None을 반환한다.\n",
    "        -   함수에 return 구문이 없을 경우 마지막에 return None이 실행된다.\n",
    "-   여러개의 값을 return 하는 경우 자료구조로 묶어서 전달해야한다.\n",
    "    -   함수는 한개의 값만 반환할 수 있다.\n"
   ]
  },
  {
   "cell_type": "code",
   "execution_count": 10,
   "metadata": {
    "slideshow": {
     "slide_type": "fragment"
    }
   },
   "outputs": [],
   "source": [
    "def greet3(name):\n",
    "    return f\"{name}님 환영합니다.\""
   ]
  },
  {
   "cell_type": "code",
   "execution_count": 11,
   "metadata": {},
   "outputs": [
    {
     "data": {
      "text/plain": [
       "'홍길동님 환영합니다.'"
      ]
     },
     "execution_count": 11,
     "metadata": {},
     "output_type": "execute_result"
    }
   ],
   "source": [
    "greet3(\"홍길동\")"
   ]
  },
  {
   "cell_type": "code",
   "execution_count": 22,
   "metadata": {},
   "outputs": [],
   "source": [
    "def calculate(num1, num2):\n",
    "    r1 = num1 + num2\n",
    "    r2 = num1 - num2\n",
    "    r3 = num1 * num2\n",
    "    r4 = num1 / num2\n",
    "    # 모든 계산 결과를 반환\n",
    "    # return [r1, r2, r3, r4]\n",
    "    # return r1, r2, r3, r4 # 괄호 생략하고 튜플로 리턴\n",
    "    return dict(plus=r1, minus=r2, multiply=r3, divide=r4)"
   ]
  },
  {
   "cell_type": "code",
   "execution_count": 23,
   "metadata": {},
   "outputs": [
    {
     "data": {
      "text/plain": [
       "{'plus': 8, 'minus': -2, 'multiply': 15, 'divide': 0.6}"
      ]
     },
     "execution_count": 23,
     "metadata": {},
     "output_type": "execute_result"
    }
   ],
   "source": [
    "x = calculate(3, 5)\n",
    "x"
   ]
  },
  {
   "cell_type": "code",
   "execution_count": 24,
   "metadata": {},
   "outputs": [],
   "source": [
    "def divide(n1, n2):\n",
    "    if n2 == 0:\n",
    "        return    # 함수 실행을 종료하고 호출한 곳으로 돌아가세요\n",
    "    return n1/n2"
   ]
  },
  {
   "cell_type": "code",
   "execution_count": 28,
   "metadata": {
    "scrolled": true
   },
   "outputs": [
    {
     "name": "stdout",
     "output_type": "stream",
     "text": [
      "5.0\n",
      "결과: 5.0\n"
     ]
    }
   ],
   "source": [
    "result = divide(10, 2)\n",
    "print(result)\n",
    "\n",
    "if result is None:\n",
    "    print(\"계산 실패\")\n",
    "else:\n",
    "    print(f\"결과: {result}\")"
   ]
  },
  {
   "cell_type": "code",
   "execution_count": 2,
   "metadata": {},
   "outputs": [
    {
     "name": "stdout",
     "output_type": "stream",
     "text": [
      "안녕\n",
      "None\n"
     ]
    }
   ],
   "source": [
    "a = print(\"안녕\")\n",
    "print(a) # None # print()는 None을 리턴"
   ]
  },
  {
   "cell_type": "code",
   "execution_count": null,
   "metadata": {},
   "outputs": [],
   "source": []
  },
  {
   "cell_type": "code",
   "execution_count": null,
   "metadata": {
    "slideshow": {
     "slide_type": "fragment"
    }
   },
   "outputs": [],
   "source": []
  },
  {
   "cell_type": "markdown",
   "metadata": {
    "slideshow": {
     "slide_type": "slide"
    }
   },
   "source": [
    "## Parameter (매개변수)\n",
    "\n",
    "### 기본값이 있는 Parameter\n",
    "\n",
    "-   매개변수에 값을 대입하는 구문을 작성하면 호출할 때 argument 가 넘어오지 않으면 대입해놓은 기본값을 사용한다.\n",
    "-   함수 정의시 기본값 없는 매개변수, 있는 매개변수를 같이 선언할 수 있다.\n",
    "    -   **이때 기본값 없는 매개변수들을 선언하고 그 다음에 기본값 있는 매개변수들을 선언한다.**\n"
   ]
  },
  {
   "cell_type": "code",
   "execution_count": 31,
   "metadata": {},
   "outputs": [],
   "source": [
    "def print_info(name):\n",
    "    print(f\"이름: {name}\")"
   ]
  },
  {
   "cell_type": "code",
   "execution_count": 34,
   "metadata": {},
   "outputs": [
    {
     "name": "stdout",
     "output_type": "stream",
     "text": [
      "이름: 홍길동\n"
     ]
    }
   ],
   "source": [
    "print_info(\"홍길동\")\n",
    "# print_info() <- 값을 안 주면 에러!"
   ]
  },
  {
   "cell_type": "code",
   "execution_count": 35,
   "metadata": {},
   "outputs": [],
   "source": [
    "def print_info2(name=None):\n",
    "    print(f\"이름: {name}\")"
   ]
  },
  {
   "cell_type": "code",
   "execution_count": 39,
   "metadata": {},
   "outputs": [
    {
     "name": "stdout",
     "output_type": "stream",
     "text": [
      "이름: None\n"
     ]
    }
   ],
   "source": [
    "print_info2()"
   ]
  },
  {
   "cell_type": "markdown",
   "metadata": {},
   "source": [
    "기본값이 있는 애들은 뒤에 선언"
   ]
  },
  {
   "cell_type": "code",
   "execution_count": 4,
   "metadata": {},
   "outputs": [],
   "source": [
    "def print_info(name, age, address, tall=0, weight=0): # default값이 있는 파라미터를 뒤로 보내야함. age =-1 안 됨\n",
    "    print(name, age, address, tall, weight)"
   ]
  },
  {
   "cell_type": "code",
   "execution_count": 5,
   "metadata": {
    "slideshow": {
     "slide_type": "fragment"
    }
   },
   "outputs": [
    {
     "name": "stdout",
     "output_type": "stream",
     "text": [
      "이순신 40 서울 8 0\n"
     ]
    }
   ],
   "source": [
    "print_info(\"이순신\", 40, \"서울\", 8)"
   ]
  },
  {
   "cell_type": "code",
   "execution_count": 46,
   "metadata": {},
   "outputs": [
    {
     "name": "stdout",
     "output_type": "stream",
     "text": [
      "홍길동 17 한양 0 0\n"
     ]
    }
   ],
   "source": [
    "print_info(\"홍길동\", 17, \"한양\") # positional argument # 순서에 맞춰서 값을 전달"
   ]
  },
  {
   "cell_type": "code",
   "execution_count": 48,
   "metadata": {},
   "outputs": [
    {
     "name": "stdout",
     "output_type": "stream",
     "text": [
      "이순신 40 인천 190.2 0\n"
     ]
    }
   ],
   "source": [
    "print_info(name=\"이순신\", age=40, address=\"인천\", tall=190.2)\n",
    "# keyword argument: 파라미터 이름 = 전달할 값"
   ]
  },
  {
   "cell_type": "code",
   "execution_count": 49,
   "metadata": {},
   "outputs": [],
   "source": [
    "def print_info(name=None, age=None, address=None, tall=0, weight=0): # default값이 있는 파라미터를 뒤로 보내야함. age =-1 안 됨\n",
    "    print(name, age, address, tall, weight)"
   ]
  },
  {
   "cell_type": "code",
   "execution_count": 50,
   "metadata": {},
   "outputs": [
    {
     "name": "stdout",
     "output_type": "stream",
     "text": [
      "None None None 0 0\n"
     ]
    }
   ],
   "source": [
    "print_info()"
   ]
  },
  {
   "cell_type": "code",
   "execution_count": null,
   "metadata": {},
   "outputs": [],
   "source": []
  },
  {
   "cell_type": "markdown",
   "metadata": {
    "slideshow": {
     "slide_type": "subslide"
    }
   },
   "source": [
    "### Positional argument와 Keyword argument\n",
    "\n",
    "-   Argument는 함수/메소드를 호출할 때 전달하는 입력값을 말한다.\n",
    "    -   Argument는 전달하는 값이고 Parameter는 그 값을 저장하는 변수\n",
    "-   Positional argument\n",
    "    -   함수 호출 할때 argument(전달인자)를 Parameter 순서에 맞춰 값을 넣어서 호출.\n",
    "-   keyword argument\n",
    "    -   함수 호출할 때 argument를 `Parameter변수명 = 전달할값` 형식으로 선언해서 어떤 parameter에 어떤 값을 전달할 것인지 지정해서 호출.\n",
    "    -   순서와 상관없이 호출하는 것이 가능.\n",
    "    -   parameter가 많고 대부분 기본값이 있는 함수 호출 할 때 뒤 쪽에 선언된 parameter에만 값을 전달하고 싶을 경우 유용하다.\n"
   ]
  },
  {
   "cell_type": "code",
   "execution_count": null,
   "metadata": {
    "slideshow": {
     "slide_type": "fragment"
    }
   },
   "outputs": [],
   "source": []
  },
  {
   "cell_type": "markdown",
   "metadata": {
    "slideshow": {
     "slide_type": "subslide"
    }
   },
   "source": [
    "### 가변인자 (Var args, Variable length arguments) 파라미터\n",
    "\n",
    "-   호출하는 쪽에서 argument로 0 ~ n개의 값을 나열해서 여러개의 값들을 전달하면 **tuple이나 dictionary로 묶어서** 받을 수있도록 선언하는 parameter\n",
    "    -   positial argument로 전달하는 것과 keyword argument로 전달되는 값을 받는 두가지 방식이 있다.\n",
    "-   **\\*변수명**: **positional argument**를 개수와 상관없이 하나의 변수로 받을 수 있도록 선언하는 가변인자.\n",
    "    -   전달된 값들은 tuple로 받아서 처리한다.\n",
    "    -   관례적으로 변수명은 \\*args 를 사용한다.\n",
    "-   **\\*\\*변수명**: **keyword argument**를 개수와 상관없이 하나의 변수로 받을 수 있도록 선언하는 가변인자.\n",
    "    -   전달된 값들은 dictionary로 받아서 처리한다.\n",
    "    -   관례적으로 변수명은 \\*\\*kwargs 를 사용한다.\n",
    "    -   하나의 함수에 위치 가변 인자와 키워드 가변 인자를 하나씩만 선언 할 수있다.\n",
    "    -   하나의 함수에 같이 선언할 경우 위치 가변인자, 키워드 가변인자 순서로 하나씩만 작성할 수 있다.\n",
    "    -   일반 파라미트는 위치 가변인자 앞이나 뒤에 작성할 수있다. 만약 뒤에 작성한 경우 함수 호출시 일반파라미터는 keyword argument 방식으로 호출해야 한다.\n",
    "    -   키워드 가변인자 뒤에는 일반 파라미터를 작성할 수 없다."
   ]
  },
  {
   "cell_type": "code",
   "execution_count": 8,
   "metadata": {
    "slideshow": {
     "slide_type": "fragment"
    }
   },
   "outputs": [],
   "source": [
    "def test(*a):\n",
    "    pass\n",
    "test(1, 2)\n",
    "test()"
   ]
  },
  {
   "cell_type": "code",
   "execution_count": 10,
   "metadata": {},
   "outputs": [
    {
     "name": "stdout",
     "output_type": "stream",
     "text": [
      "<class 'tuple'> (1, 2, 3, 4)\n",
      "<class 'dict'> {'name': '이순신', 'age': 28}\n"
     ]
    }
   ],
   "source": [
    "def test2(*a, **b):\n",
    "    print(type(a), a)\n",
    "    print(type(b), b)\n",
    "\n",
    "test2(1, 2, 3, 4, name = \"이순신\", age = 28)"
   ]
  },
  {
   "cell_type": "code",
   "execution_count": 13,
   "metadata": {},
   "outputs": [
    {
     "name": "stdout",
     "output_type": "stream",
     "text": [
      "6\n"
     ]
    }
   ],
   "source": [
    "# 숫자들의 합계를 계산해주는 함수를 만들고 싶어요\n",
    "def my_sum(*nums):\n",
    "    result = 0\n",
    "    for v in nums:\n",
    "        result += v\n",
    "    return result\n",
    "\n",
    "a = my_sum(1, 2, 3)\n",
    "print(a)"
   ]
  },
  {
   "cell_type": "code",
   "execution_count": 15,
   "metadata": {},
   "outputs": [
    {
     "name": "stdout",
     "output_type": "stream",
     "text": [
      "Help on built-in function print in module builtins:\n",
      "\n",
      "print(*args, sep=' ', end='\\n', file=None, flush=False)\n",
      "    Prints the values to a stream, or to sys.stdout by default.\n",
      "\n",
      "    sep\n",
      "      string inserted between values, default a space.\n",
      "    end\n",
      "      string appended after the last value, default a newline.\n",
      "    file\n",
      "      a file-like object (stream); defaults to the current sys.stdout.\n",
      "    flush\n",
      "      whether to forcibly flush the stream.\n",
      "\n"
     ]
    }
   ],
   "source": [
    "help(print) # print() 함수에 대한 설명 제공"
   ]
  },
  {
   "cell_type": "code",
   "execution_count": 16,
   "metadata": {
    "scrolled": true
   },
   "outputs": [
    {
     "data": {
      "text/plain": [
       "'잘 있어요 다시 만나요 \\n'"
      ]
     },
     "execution_count": 16,
     "metadata": {},
     "output_type": "execute_result"
    }
   ],
   "source": [
    "def my_print(*args, sep=\" \", end=\"\\n\"):\n",
    "    result = \"\"\n",
    "    for v in args:\n",
    "        result += v\n",
    "        result += sep\n",
    "    result += end\n",
    "    return result\n",
    "\n",
    "\n",
    "my_print(\"안녕하세요\", \"감사해요\")\n",
    "my_print(\"잘 있어요\", \"다시 만나요\")"
   ]
  },
  {
   "cell_type": "code",
   "execution_count": 18,
   "metadata": {},
   "outputs": [],
   "source": [
    "#def test(**kwargs, b):\n",
    "    # pass\n",
    "# SyntaxError:arguments cannot follow var-keyword argument"
   ]
  },
  {
   "cell_type": "code",
   "execution_count": 19,
   "metadata": {},
   "outputs": [],
   "source": [
    "def func(*args, **kwargs):\n",
    "    pass\n",
    "\n",
    "def func(a, b, c, d, *args, **kwargs):\n",
    "    pass"
   ]
  },
  {
   "cell_type": "code",
   "execution_count": null,
   "metadata": {},
   "outputs": [],
   "source": []
  },
  {
   "cell_type": "code",
   "execution_count": null,
   "metadata": {},
   "outputs": [],
   "source": []
  },
  {
   "cell_type": "markdown",
   "metadata": {
    "slideshow": {
     "slide_type": "slide"
    }
   },
   "source": [
    "# 변수의 유효범위\n",
    "\n",
    "-   **지역변수 (local variable)**\n",
    "    -   함수안에 선언된 변수\n",
    "    -   선언된 그 함수 안에서만 사용할 수 있다.\n",
    "-   **전역변수 (global variable)**\n",
    "    -   함수 밖에 선언 된 변수\n",
    "    -   모든 함수들이 공통적으로 사용할 수 있다.\n",
    "    -   하나의 함수에서 값을 변경하면 그 변한 값이 모든 함수에 영향을 주기 때문에 **함부로 변경하지 않는다.**\n",
    "    -   함수내에서 전역변수에 값을 대입하기 위해서는 global 키워드를 이용해 사용할 것을 미리 선언해야 한다.\n",
    "        -   global로 선언하지 않고 함수안에서 전역변수와 이름이 같은 변수에 값을 대입하면 그 변수와 동일한 지역변수을 생성한다.\n",
    "        -   조회할 경우에는 상관없다.\n",
    "            -   함수에서 변수를 조회할 경우 **먼저 지역변수를 찾고 없으면 전역변수를 찾는다.**\n"
   ]
  },
  {
   "cell_type": "code",
   "execution_count": 22,
   "metadata": {
    "slideshow": {
     "slide_type": "fragment"
    }
   },
   "outputs": [],
   "source": [
    "def test():\n",
    "    my_var = 10\n",
    "\n",
    "# print(my_var)\n",
    "# NameError: name 'my_var' is not defined"
   ]
  },
  {
   "cell_type": "code",
   "execution_count": 26,
   "metadata": {},
   "outputs": [
    {
     "name": "stdout",
     "output_type": "stream",
     "text": [
      "10\n",
      "30\n",
      "\n",
      "10\n",
      "30\n",
      "print(test()): None\n"
     ]
    }
   ],
   "source": [
    "def test():\n",
    "    my_var = 10\n",
    "    print(my_var)\n",
    "    a = my_var +20 \n",
    "    print(a)\n",
    "\n",
    "# a와 my_var는 함수가 실행되는 동안만 임시적으로 일하고, 함수가 끝나면 사라진다 \n",
    "# 그래서 임시 변수, 지역 변수라고 한다. \n",
    "test()\n",
    "print()\n",
    "print(f\"print(test()): {test()}\")"
   ]
  },
  {
   "cell_type": "code",
   "execution_count": 29,
   "metadata": {},
   "outputs": [
    {
     "name": "stdout",
     "output_type": "stream",
     "text": [
      "홍길동 30\n"
     ]
    }
   ],
   "source": [
    "# 전역 변수\n",
    "def test2(name, age): # 함수 파라미터는 지역 변수이다. \n",
    "    print(name, age)\n",
    "\n",
    "n = \"홍길동\"\n",
    "a = 30\n",
    "test2(n, a)"
   ]
  },
  {
   "cell_type": "code",
   "execution_count": 32,
   "metadata": {},
   "outputs": [
    {
     "name": "stdout",
     "output_type": "stream",
     "text": [
      "100\n",
      "10\n"
     ]
    }
   ],
   "source": [
    "g_var = 10\n",
    "def func():\n",
    "    local_var = 100\n",
    "\n",
    "    print(local_var)\n",
    "    print(g_var)\n",
    "\n",
    "func()"
   ]
  },
  {
   "cell_type": "code",
   "execution_count": 34,
   "metadata": {},
   "outputs": [
    {
     "name": "stdout",
     "output_type": "stream",
     "text": [
      "100\n",
      "안녕하세요.\n"
     ]
    }
   ],
   "source": [
    "g_var = 10\n",
    "def func():\n",
    "    local_var = 100\n",
    "    g_var = \"안녕하세요.\" # local 변수 새로 선언\n",
    "    print(local_var)\n",
    "    print(g_var)\n",
    "\n",
    "func()"
   ]
  },
  {
   "cell_type": "code",
   "execution_count": null,
   "metadata": {},
   "outputs": [],
   "source": [
    "g_var = 10\n",
    "def func():\n",
    "    local_var = 100\n",
    "    g_var = \"안녕하세요.\" # local 변수 새로 선언\n",
    "    print(local_var)\n",
    "    print(g_var)\n",
    "\n",
    "func()"
   ]
  },
  {
   "cell_type": "markdown",
   "metadata": {},
   "source": [
    "* 지역변수는 함수 동작이 끝나면 메모리에서 사라진다.\n",
    "* 전역변수는 함수 동작이 끝나도 사라지지 않는다."
   ]
  },
  {
   "cell_type": "code",
   "execution_count": 39,
   "metadata": {},
   "outputs": [
    {
     "name": "stdout",
     "output_type": "stream",
     "text": [
      "100\n",
      "안녕하세요.\n",
      "\n",
      "안녕하세요.\n"
     ]
    }
   ],
   "source": [
    "g_var = 10\n",
    "def func():\n",
    "    local_var = 100\n",
    "    global g_var \n",
    "    g_var = \"안녕하세요.\" # local 변수 새로 선언\n",
    "    print(local_var)\n",
    "    print(g_var)\n",
    "\n",
    "func()\n",
    "print()\n",
    "print(g_var)\n",
    "# 하지만 코드를 불안정하게 만드니 되도록 쓰지 말자. \n",
    "# 변수는 되도록 자기 영역에서 바꾸자!!"
   ]
  },
  {
   "cell_type": "markdown",
   "metadata": {},
   "source": [
    "- global g_var = \"안녕하세요.\" # local 변수 새로 선언\n",
    "-               ^\n",
    "- SyntaxError: invalid syntax"
   ]
  },
  {
   "cell_type": "code",
   "execution_count": null,
   "metadata": {},
   "outputs": [],
   "source": []
  },
  {
   "cell_type": "markdown",
   "metadata": {
    "slideshow": {
     "slide_type": "slide"
    }
   },
   "source": [
    "# 함수는 일급시민(First class citizen) 이다.\n",
    "=> 함수도 값처럼 쓸 수 있다! (=> 1. 변수에 대입할 수 있다.)\n",
    "\n",
    "-   일급 시민\n",
    "    1. 변수에 대입 할 수 있다.\n",
    "    1. **Argument로 사용**할 수 있다.\n",
    "    1. 함수나 메소드의 반환값으로 사용 할 수 있다.\n",
    "-   즉 파이썬에서 함수는 일반 값(객체)으로 취급된다.\n"
   ]
  },
  {
   "cell_type": "code",
   "execution_count": 43,
   "metadata": {},
   "outputs": [
    {
     "name": "stdout",
     "output_type": "stream",
     "text": [
      "Hello World!\n"
     ]
    }
   ],
   "source": [
    "def hello():\n",
    "    print(\"Hello World!\")\n",
    "\n",
    "hello() # 함수 호출 (call) -> 일 시키기"
   ]
  },
  {
   "cell_type": "code",
   "execution_count": 45,
   "metadata": {},
   "outputs": [
    {
     "data": {
      "text/plain": [
       "<function __main__.hello()>"
      ]
     },
     "execution_count": 45,
     "metadata": {},
     "output_type": "execute_result"
    }
   ],
   "source": [
    "hello # 함수 객체(값) 자체를 호출"
   ]
  },
  {
   "cell_type": "code",
   "execution_count": 46,
   "metadata": {},
   "outputs": [],
   "source": [
    "my_hello = hello # hello 함수를 my_hello라는 변수에 대입"
   ]
  },
  {
   "cell_type": "markdown",
   "metadata": {},
   "source": [
    "(참고) 변수가 정의되어 있지 않을 때 NameError 뜬다"
   ]
  },
  {
   "cell_type": "code",
   "execution_count": 47,
   "metadata": {
    "slideshow": {
     "slide_type": "fragment"
    }
   },
   "outputs": [
    {
     "name": "stdout",
     "output_type": "stream",
     "text": [
      "Hello World!\n"
     ]
    }
   ],
   "source": [
    "my_hello()"
   ]
  },
  {
   "cell_type": "markdown",
   "metadata": {},
   "source": [
    "함수 인자에 함수를 넘겨줄 수도 있다. "
   ]
  },
  {
   "cell_type": "code",
   "execution_count": 48,
   "metadata": {},
   "outputs": [
    {
     "name": "stdout",
     "output_type": "stream",
     "text": [
      "Hello World!\n"
     ]
    }
   ],
   "source": [
    "def test(args):\n",
    "    k = 100\n",
    "    return args\n",
    "\n",
    "r = test(hello)\n",
    "r()"
   ]
  },
  {
   "cell_type": "markdown",
   "metadata": {},
   "source": [
    "왜 이런 걸 해요? 이런 건 언제 필요한가요?"
   ]
  },
  {
   "cell_type": "code",
   "execution_count": 53,
   "metadata": {},
   "outputs": [],
   "source": [
    "def search(주제, 검색한다):\n",
    "    검색결과 = 검색한다(주제)\n",
    "    요약결과 = 요약한다(검색결과)\n",
    "    return 요약결과\n",
    "\n",
    "# 주제와 검색하는 방법을 줘. 그럼 내가 요약을 해서 return해줄게! "
   ]
  },
  {
   "cell_type": "code",
   "execution_count": 58,
   "metadata": {},
   "outputs": [],
   "source": [
    "# search(\"파이썬\", 네이버검색함수)\n",
    "# search(\"파이썬\", 네이버검색함수())라고 하면, 네이버검색함수()의 결과를 입력하게 된다."
   ]
  },
  {
   "cell_type": "code",
   "execution_count": null,
   "metadata": {},
   "outputs": [],
   "source": []
  },
  {
   "cell_type": "markdown",
   "metadata": {
    "slideshow": {
     "slide_type": "slide"
    }
   },
   "source": [
    "## 람다식/람다표현식 (Lambda Expression)\n",
    "\n",
    "-   함수를 표현식(expression)으로 정의한다.\n",
    "-   함수를 하나의 식을 이용해서 정의할때 사용하는 표현식(구문).\n",
    "-   값을 입력받아서 **간단한 처리한 결과**를 반환하는 간단한 함수를 표현식으로 정의할 수 있다.\n",
    "    -   처리결과를 return 하는 구문을 하나의 명령문으로 처리할 수 있을때 람다식을 사용할 수 있다.\n",
    "-   구문\n",
    "\n",
    "```python\n",
    "lambda 매개변수[, 매개변수, ...] : 명령문(구문)\n",
    "```\n",
    "\n",
    "-   명령문(구문)은 하나의 실행문만 가능하다.\n",
    "-   명령문(구문)이 처리한 결과를 리턴해준다.\n",
    "-   **람다식은 함수의 매개변수로 함수를 전달하는 일회성 함수를 만들때 주로 사용한다.**\n"
   ]
  },
  {
   "cell_type": "code",
   "execution_count": 1,
   "metadata": {},
   "outputs": [],
   "source": [
    "def plus(n1, n2):\n",
    "    return n1 + n2"
   ]
  },
  {
   "cell_type": "code",
   "execution_count": 3,
   "metadata": {},
   "outputs": [
    {
     "data": {
      "text/plain": [
       "<function __main__.plus(n1, n2)>"
      ]
     },
     "execution_count": 3,
     "metadata": {},
     "output_type": "execute_result"
    }
   ],
   "source": [
    "plus"
   ]
  },
  {
   "cell_type": "code",
   "execution_count": 2,
   "metadata": {},
   "outputs": [
    {
     "data": {
      "text/plain": [
       "<function __main__.<lambda>(n1, n2)>"
      ]
     },
     "execution_count": 2,
     "metadata": {},
     "output_type": "execute_result"
    }
   ],
   "source": [
    "lambda n1, n2: n1 + n2 # 두 개의 값 n1, n2를 받아서 더한 결과를 리턴하는 람다식."
   ]
  },
  {
   "cell_type": "code",
   "execution_count": 5,
   "metadata": {},
   "outputs": [
    {
     "data": {
      "text/plain": [
       "70"
      ]
     },
     "execution_count": 5,
     "metadata": {},
     "output_type": "execute_result"
    }
   ],
   "source": [
    "a = lambda n1, n2: n1 + n2\n",
    "a(30, 40)"
   ]
  },
  {
   "cell_type": "code",
   "execution_count": null,
   "metadata": {},
   "outputs": [],
   "source": [
    "num1 = 10\n",
    "num2 = 20\n",
    "print(plus(num1, num2)) # 굳이?\n",
    "print(plus(10, 20)) # 한 번 쓰고 안 쓸건데 "
   ]
  },
  {
   "cell_type": "markdown",
   "metadata": {},
   "source": [
    "- 변수로 지정한다 = 재사용 할 거다\n",
    "- => 함수의 인자로 전달하고 끝낼 함수는 람다로"
   ]
  },
  {
   "cell_type": "code",
   "execution_count": 6,
   "metadata": {},
   "outputs": [
    {
     "data": {
      "text/plain": [
       "10"
      ]
     },
     "execution_count": 6,
     "metadata": {},
     "output_type": "execute_result"
    }
   ],
   "source": [
    "(lambda x, y, z: x + y - z)(30, 20, 40)"
   ]
  },
  {
   "cell_type": "code",
   "execution_count": 7,
   "metadata": {},
   "outputs": [
    {
     "data": {
      "text/plain": [
       "\u001b[1;31mSignature:\u001b[0m \u001b[0minput\u001b[0m\u001b[1;33m(\u001b[0m\u001b[0mprompt\u001b[0m\u001b[1;33m=\u001b[0m\u001b[1;34m''\u001b[0m\u001b[1;33m)\u001b[0m\u001b[1;33m\u001b[0m\u001b[1;33m\u001b[0m\u001b[0m\n",
       "\u001b[1;31mDocstring:\u001b[0m\n",
       "Forward raw_input to frontends\n",
       "\n",
       "Raises\n",
       "------\n",
       "StdinNotImplementedError if active frontend doesn't support stdin.\n",
       "\u001b[1;31mFile:\u001b[0m      c:\\anaconda3\\lib\\site-packages\\ipykernel\\kernelbase.py\n",
       "\u001b[1;31mType:\u001b[0m      method"
      ]
     },
     "metadata": {},
     "output_type": "display_data"
    }
   ],
   "source": [
    "# help(input)\n",
    "?input"
   ]
  },
  {
   "cell_type": "code",
   "execution_count": 8,
   "metadata": {},
   "outputs": [
    {
     "data": {
      "text/plain": [
       "\u001b[1;31mSignature:\u001b[0m \u001b[0mprint\u001b[0m\u001b[1;33m(\u001b[0m\u001b[1;33m*\u001b[0m\u001b[0margs\u001b[0m\u001b[1;33m,\u001b[0m \u001b[0msep\u001b[0m\u001b[1;33m=\u001b[0m\u001b[1;34m' '\u001b[0m\u001b[1;33m,\u001b[0m \u001b[0mend\u001b[0m\u001b[1;33m=\u001b[0m\u001b[1;34m'\\n'\u001b[0m\u001b[1;33m,\u001b[0m \u001b[0mfile\u001b[0m\u001b[1;33m=\u001b[0m\u001b[1;32mNone\u001b[0m\u001b[1;33m,\u001b[0m \u001b[0mflush\u001b[0m\u001b[1;33m=\u001b[0m\u001b[1;32mFalse\u001b[0m\u001b[1;33m)\u001b[0m\u001b[1;33m\u001b[0m\u001b[1;33m\u001b[0m\u001b[0m\n",
       "\u001b[1;31mDocstring:\u001b[0m\n",
       "Prints the values to a stream, or to sys.stdout by default.\n",
       "\n",
       "sep\n",
       "  string inserted between values, default a space.\n",
       "end\n",
       "  string appended after the last value, default a newline.\n",
       "file\n",
       "  a file-like object (stream); defaults to the current sys.stdout.\n",
       "flush\n",
       "  whether to forcibly flush the stream.\n",
       "\u001b[1;31mType:\u001b[0m      builtin_function_or_method"
      ]
     },
     "metadata": {},
     "output_type": "display_data"
    }
   ],
   "source": [
    "?print"
   ]
  },
  {
   "cell_type": "code",
   "execution_count": 31,
   "metadata": {},
   "outputs": [],
   "source": [
    "def greet(name:str, age:int=0) -> str: # 함수에 대한 힌트. 규칙은 아님! 오류 나지 않아요.\n",
    "    # 디폴트 값이 있는 경우 위에 age처럼 = 쓰고 기본 값\n",
    "    \"\"\"\n",
    "    인삿말을 문자열로 만들어주는 함수.\n",
    "\n",
    "    Args: # 파라미터에 대한 설명\n",
    "        name(str): 인삿말에 들어갈 사람의 이름\n",
    "        age(int): name 사람의 나이\\\n",
    "\n",
    "    Returns: # 리턴값에 대한 설명\n",
    "        str: 이름과 나이가 들어간 인삿말 (타입: 설명)\n",
    "\n",
    "    Raises: # 이 함수에서 발생 가능성 있는 Error(Exception)의 종류와 설명\n",
    "    \"\"\"\n",
    "    return f\"안녕하세요. {age}세의 {name} 공주님.\""
   ]
  },
  {
   "cell_type": "code",
   "execution_count": 29,
   "metadata": {},
   "outputs": [
    {
     "data": {
      "text/plain": [
       "'안녕하세요. 22세의 안수민 공주님.'"
      ]
     },
     "execution_count": 29,
     "metadata": {},
     "output_type": "execute_result"
    }
   ],
   "source": [
    "greet(\"안수민\", 22)"
   ]
  },
  {
   "cell_type": "code",
   "execution_count": 30,
   "metadata": {},
   "outputs": [
    {
     "data": {
      "text/plain": [
       "\u001b[1;31mSignature:\u001b[0m \u001b[0mgreet\u001b[0m\u001b[1;33m(\u001b[0m\u001b[0mname\u001b[0m\u001b[1;33m:\u001b[0m \u001b[0mstr\u001b[0m\u001b[1;33m,\u001b[0m \u001b[0mage\u001b[0m\u001b[1;33m:\u001b[0m \u001b[0mint\u001b[0m\u001b[1;33m)\u001b[0m \u001b[1;33m->\u001b[0m \u001b[0mstr\u001b[0m\u001b[1;33m\u001b[0m\u001b[1;33m\u001b[0m\u001b[0m\n",
       "\u001b[1;31mDocstring:\u001b[0m\n",
       "인삿말을 문자열로 만들어주는 함수.\n",
       "\n",
       "Args: # 파라미터에 대한 설명\n",
       "    name(str): 인삿말에 들어갈 사람의 이름\n",
       "    age(int): name 사람의 나이\n",
       "Returns: # 리턴값에 대한 설명\n",
       "    str: 이름과 나이가 들어간 인삿말 (타입: 설명)\n",
       "\n",
       "Raises: # 이 함수에서 발생 가능성 있는 Error(Exception)의 종류와 설명\n",
       "\u001b[1;31mFile:\u001b[0m      c:\\users\\안수민\\appdata\\local\\temp\\ipykernel_21068\\2709045645.py\n",
       "\u001b[1;31mType:\u001b[0m      function"
      ]
     },
     "metadata": {},
     "output_type": "display_data"
    }
   ],
   "source": [
    "?greet"
   ]
  },
  {
   "cell_type": "code",
   "execution_count": null,
   "metadata": {},
   "outputs": [],
   "source": []
  },
  {
   "cell_type": "code",
   "execution_count": null,
   "metadata": {},
   "outputs": [],
   "source": []
  },
  {
   "cell_type": "markdown",
   "metadata": {},
   "source": [
    "# docstring\n",
    "\n",
    "-   함수에 대한 설명\n",
    "-   함수의 구현부의 첫번째에 여러줄 문자열(\"\"\" ~ \"\"\")로 작성한다."
   ]
  },
  {
   "cell_type": "code",
   "execution_count": null,
   "metadata": {
    "slideshow": {
     "slide_type": "fragment"
    }
   },
   "outputs": [],
   "source": []
  },
  {
   "cell_type": "code",
   "execution_count": null,
   "metadata": {},
   "outputs": [],
   "source": []
  },
  {
   "cell_type": "markdown",
   "metadata": {
    "slideshow": {
     "slide_type": "skip"
    }
   },
   "source": [
    "# TODO\n"
   ]
  },
  {
   "cell_type": "code",
   "execution_count": 32,
   "metadata": {
    "slideshow": {
     "slide_type": "skip"
    }
   },
   "outputs": [
    {
     "data": {
      "text/plain": [
       "210"
      ]
     },
     "execution_count": 32,
     "metadata": {},
     "output_type": "execute_result"
    }
   ],
   "source": [
    "# 1. 시작 정수, 끝 정수를 받아 그 사이의 모든 정수의 합을 구해서 반환하는 함수를 구현(ex: 1, 20 => 1에서 20 사이의 모든 정수의 합계)\n",
    "def func1(start, end):\n",
    "    result = 0\n",
    "    for i in range(start, end+1):\n",
    "        result += i\n",
    "    return result\n",
    "\n",
    "func1(1, 20)"
   ]
  },
  {
   "cell_type": "code",
   "execution_count": 37,
   "metadata": {
    "slideshow": {
     "slide_type": "skip"
    }
   },
   "outputs": [
    {
     "name": "stdout",
     "output_type": "stream",
     "text": [
      "15\n",
      "54\n",
      "54\n",
      "55\n"
     ]
    }
   ],
   "source": [
    "# 2. 2번 문제에서 시작을 받지 않은 경우 0을, 끝 정수를 받지 않으면 10이 들어가도록 구현을 변경\n",
    "def func1(start=0, end=10):\n",
    "    result = 0\n",
    "    for i in range(start, end+1):\n",
    "        result += i\n",
    "    return result\n",
    "print(func1(end = 5)) # 시작 정수를 받지 않은 경우\n",
    "print(func1(start = 2)) # 끝 정수를 받지 않은 경우 1\n",
    "print(func1(2)) # 끝 정수를 받지 않은 경우 2\n",
    "print(func1()) # 두 개 다 받지 않은 경우"
   ]
  },
  {
   "cell_type": "code",
   "execution_count": 39,
   "metadata": {
    "slideshow": {
     "slide_type": "skip"
    }
   },
   "outputs": [
    {
     "name": "stdout",
     "output_type": "stream",
     "text": [
      "4 * 1 = 4\n",
      "4 * 2 = 8\n",
      "4 * 3 = 12\n",
      "4 * 4 = 16\n",
      "4 * 5 = 20\n",
      "4 * 6 = 24\n",
      "4 * 7 = 28\n",
      "4 * 8 = 32\n",
      "4 * 9 = 36\n",
      "None\n",
      "7 * 1 = 7\n",
      "7 * 2 = 14\n",
      "7 * 3 = 21\n",
      "7 * 4 = 28\n",
      "7 * 5 = 35\n",
      "7 * 6 = 42\n",
      "7 * 7 = 49\n",
      "7 * 8 = 56\n",
      "7 * 9 = 63\n",
      "None\n"
     ]
    }
   ],
   "source": [
    "# 3. 구구단을 출력하는 함수를 구현한다. 입력으로 출력하고 싶은 단을 parameter로 입력받아서 `N * 1` ~ `N * 9` 를 출력한다. (N: 입력받은 단)\n",
    "def gugudan(N):\n",
    "    for i in range(1, 10):\n",
    "        print(f\"{N} * {i} = {N*i}\")\n",
    "\n",
    "print(gugudan(4))\n",
    "print(gugudan(7))"
   ]
  },
  {
   "cell_type": "code",
   "execution_count": 42,
   "metadata": {
    "slideshow": {
     "slide_type": "skip"
    }
   },
   "outputs": [
    {
     "data": {
      "text/plain": [
       "'저체중입니다.'"
      ]
     },
     "execution_count": 42,
     "metadata": {},
     "output_type": "execute_result"
    }
   ],
   "source": [
    "# 4. 체질량 지수는 비만도를 나타내는 지수로 키가 a미터 이고 몸무게가 b kg일때 b/(a**2) 로 구한다.\n",
    "# 체질량 지수가\n",
    "# - 18.5 미만이면 저체중\n",
    "# - 18.5이상 25미만이면 정상\n",
    "# - 25이상이면 과체중\n",
    "# - 30이상이면 비만으로 하는데\n",
    "# 몸무게와 키를 매개변수로 받아 비만인지 과체중인지 반환하는 함수를 구현하시오.\n",
    "def BMI(a, b):\n",
    "    \"\"\"\n",
    "    체질량 지수를 계산해 비만인지 과체중인지를 반환하는 함수\n",
    "\n",
    "    Args: # 파라미터에 대한 설명\n",
    "        a: 키\n",
    "        b: 몸무게\n",
    "\n",
    "    Returns: # 리턴값에 대한 설명\n",
    "        str: 비만인지 과체중인지 설명 (타입: 설명)\n",
    "\n",
    "    Raises: # 이 함수에서 발생 가능성 있는 Error(Exception)의 종류와 설명\n",
    "    \"\"\"\n",
    "    bmi = b/(a**2)\n",
    "    if bmi < 18.5:\n",
    "        return \"저체중입니다.\"\n",
    "    elif bmi < 25:\n",
    "        return \"정상입니다.\"\n",
    "    elif bmi < 30:\n",
    "        return \"과체중입니다.\"\n",
    "    else: # bmi >= 30\n",
    "        return \"비만입니다.\"\n",
    "\n",
    "# BMI(170, 63)\n",
    "BMI(167, 62)\n",
    "        "
   ]
  },
  {
   "cell_type": "code",
   "execution_count": null,
   "metadata": {},
   "outputs": [],
   "source": []
  }
 ],
 "metadata": {
  "kernelspec": {
   "display_name": "Python 3 (ipykernel)",
   "language": "python",
   "name": "python3"
  },
  "language_info": {
   "codemirror_mode": {
    "name": "ipython",
    "version": 3
   },
   "file_extension": ".py",
   "mimetype": "text/x-python",
   "name": "python",
   "nbconvert_exporter": "python",
   "pygments_lexer": "ipython3",
   "version": "3.12.7"
  },
  "toc": {
   "base_numbering": 1,
   "nav_menu": {},
   "number_sections": true,
   "sideBar": true,
   "skip_h1_title": false,
   "title_cell": "Table of Contents",
   "title_sidebar": "Contents",
   "toc_cell": false,
   "toc_position": {},
   "toc_section_display": true,
   "toc_window_display": false
  },
  "varInspector": {
   "cols": {
    "lenName": 16,
    "lenType": 16,
    "lenVar": 40
   },
   "kernels_config": {
    "python": {
     "delete_cmd_postfix": "",
     "delete_cmd_prefix": "del ",
     "library": "var_list.py",
     "varRefreshCmd": "print(var_dic_list())"
    },
    "r": {
     "delete_cmd_postfix": ") ",
     "delete_cmd_prefix": "rm(",
     "library": "var_list.r",
     "varRefreshCmd": "cat(var_dic_list()) "
    }
   },
   "types_to_exclude": [
    "module",
    "function",
    "builtin_function_or_method",
    "instance",
    "_Feature"
   ],
   "window_display": false
  }
 },
 "nbformat": 4,
 "nbformat_minor": 4
}
