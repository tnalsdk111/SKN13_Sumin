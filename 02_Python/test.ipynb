{
 "cells": [
  {
   "cell_type": "code",
   "execution_count": 18,
   "id": "52e47d38-64da-4138-8aeb-e268c9e4a998",
   "metadata": {},
   "outputs": [
    {
     "data": {
      "text/plain": [
       "2"
      ]
     },
     "execution_count": 18,
     "metadata": {},
     "output_type": "execute_result"
    }
   ],
   "source": [
    "# shift + enter: 실행 후 다음 cell로 이동\n",
    "# control + enter: 실행 후 그 cell에 머물러 있는다.\n",
    "1 + 1"
   ]
  },
  {
   "cell_type": "markdown",
   "id": "1b71e9ea-31cc-46dc-9b11-fa5118ce7113",
   "metadata": {},
   "source": [
    "# 명령 모드 \n",
    "- a: 위에 빈 cell을 추가, b: 아래 빈 cell을 추가\n",
    "- x: cell을 짤라내기\n",
    "- v: cell을 붙여 넣기.\n",
    "- dd: cell 삭제\n",
    "- y: cell을 **코드모드**로 변경\n",
    "- m: cell을 *마크다운*로 변경"
   ]
  },
  {
   "cell_type": "code",
   "execution_count": null,
   "id": "dda752d1-d02d-4766-9fe0-8f168add35de",
   "metadata": {},
   "outputs": [],
   "source": []
  },
  {
   "cell_type": "code",
   "execution_count": null,
   "id": "25a4f794-1358-4d75-b3ae-80e057845690",
   "metadata": {},
   "outputs": [],
   "source": []
  }
 ],
 "metadata": {
  "kernelspec": {
   "display_name": "Python 3 (ipykernel)",
   "language": "python",
   "name": "python3"
  },
  "language_info": {
   "codemirror_mode": {
    "name": "ipython",
    "version": 3
   },
   "file_extension": ".py",
   "mimetype": "text/x-python",
   "name": "python",
   "nbconvert_exporter": "python",
   "pygments_lexer": "ipython3",
   "version": "3.12.9"
  }
 },
 "nbformat": 4,
 "nbformat_minor": 5
}
