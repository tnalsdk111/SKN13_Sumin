{
 "cells": [
  {
   "cell_type": "markdown",
   "id": "8c49cd8e",
   "metadata": {
    "slideshow": {
     "slide_type": "slide"
    }
   },
   "source": [
    "# 제어문(Control flow statement)\n",
    "\n",
    "기본적으로 프로그램은 순차구조를 가진다. 즉 작성한 순서대로 실행이 된다.  \n",
    "이런 실행흐름을 다른 순서로 제어하기 위한 구문을 만드는 문법이 제어문이다.  \n",
    "제어문은 **조건문** 과 **반복문** 두가지 문법이 있다.\n",
    "\n",
    "-   **조건문**\n",
    "    -   if 문\n",
    "-   **반복문**\n",
    "    -   while 문\n",
    "    -   for in 문\n"
   ]
  },
  {
   "cell_type": "markdown",
   "id": "92c502ce",
   "metadata": {
    "slideshow": {
     "slide_type": "slide"
    }
   },
   "source": [
    "# 조건문/분기문 (conditional statement)\n",
    "\n",
    "-   프로그램이 명령문들을 실행하는 도중 특정 순서에서 **조건에 따라 흐름의 나눠져야 하는 경우 사용한다**\n",
    "-   파이썬은 조건문으로 **if문**이 있다.\n",
    "\n",
    "![조건문](images/ch03_01.png)\n",
    "\n",
    "<center>입력 받은 a 의 값이 0인지 여부에 따라 두가지 흐름으로 분기된다.</center>\n"
   ]
  },
  {
   "cell_type": "markdown",
   "id": "2a3c1835",
   "metadata": {
    "slideshow": {
     "slide_type": "subslide"
    }
   },
   "source": [
    "## 구문\n",
    "\n",
    "-   조건이 True일 경우만 특정 구문들을 실행 하는 조건문.\n",
    "\n",
    "```python\n",
    "if 조건:    # 조건은 bool 표현식을 기술한다. 조건선언 다음에 : 으로 선언해서 코드블록을 구분한다.\n",
    "    명령문1  # 조건이 True이면 실행할 구문들을 코드블럭에 기술한다.\n",
    "    명령문2  # 코드 블록은 들여쓰기를 이용해 묶어준다. 보통 공백 4칸으로 들여쓰기를 한다.\n",
    "    ...\n",
    "```\n",
    "\n",
    "> ### 파이썬의 코드블록(code block)\n",
    ">\n",
    "> 코드블록이란 **여러 명령문들을 묶어놓은 것을** 말한다. 코드블록으로 묶이면 실행시 같이 다 실행되고 실행이 안되면 같이 다 실행이 안된다.  \n",
    "> 파이썬에서는 코드블록을 작성할 때 **들여쓰기를 이용해 묶어준다.**  \n",
    "> 같은 칸만큼 들여쓰기를 한 명령문들이 같은 블록으로 묶인다.\n",
    "> 들여쓰기는 관례적으로 **공백 4칸을** 사용한다.\n",
    "\n",
    "> ### pass 키워드(예약어)\n",
    ">\n",
    "> -   빈 구현부를 만들때 사용\n",
    ">     -   제어문, 함수의 body 코드블럭은 비울 수 없다. 반드시 명령문을 한개 이상 작성해야한다.\n",
    ">     -   작성할 내용이 없을 경우 사용하는 키워드로 `pass`를 사용한다.\n"
   ]
  },
  {
   "cell_type": "code",
   "execution_count": 3,
   "id": "c73f08d8-964e-49e5-aa55-8f4211e5d66a",
   "metadata": {},
   "outputs": [
    {
     "name": "stdin",
     "output_type": "stream",
     "text": [
      "정수: 4\n"
     ]
    },
    {
     "name": "stdout",
     "output_type": "stream",
     "text": [
      "영구없다.. 껄껄\n"
     ]
    }
   ],
   "source": [
    "num = int(input(\"정수:\" ))\n",
    "# num이 0이면 \"영입니다.\"라고 출력\n",
    "if num == 0: # 선언부\n",
    "    print(\"영입니다.\")\n",
    "elif num == 9:\n",
    "    print(\"구입니다.\")\n",
    "else:\n",
    "    print(\"영구없다.. 껄껄\")"
   ]
  },
  {
   "cell_type": "code",
   "execution_count": 5,
   "id": "7b5a550c-b081-4ba8-aa35-5eb488406088",
   "metadata": {},
   "outputs": [
    {
     "name": "stdin",
     "output_type": "stream",
     "text": [
      "정수:  4\n"
     ]
    },
    {
     "name": "stdout",
     "output_type": "stream",
     "text": [
      "0이 아님\n"
     ]
    }
   ],
   "source": [
    "num=int(input(\"정수: \"))\n",
    "if num == 0:\n",
    "    pass # 작성할 내용이 없어 pass 키워드 사용\n",
    "else:\n",
    "    print(\"0이 아님\")"
   ]
  },
  {
   "cell_type": "code",
   "execution_count": null,
   "id": "9aa311a5",
   "metadata": {
    "slideshow": {
     "slide_type": "fragment"
    }
   },
   "outputs": [],
   "source": []
  },
  {
   "cell_type": "markdown",
   "id": "09c79c35",
   "metadata": {
    "slideshow": {
     "slide_type": "subslide"
    }
   },
   "source": [
    "-   **조건이 True일 때 False일때 실행 구문이 분기되는 조건문.**\n",
    "\n",
    "```python\n",
    "if 조건:\n",
    "    명령문1_1 # 조건이 True일 경우 실행할 구문들\n",
    "    명령문1_2\n",
    "    ...\n",
    "else:\n",
    "    명령문2_1 # 조건이 False일 경우 실행할 구문들\n",
    "    명령문2_2\n",
    "    ...\n",
    "```\n"
   ]
  },
  {
   "cell_type": "code",
   "execution_count": null,
   "id": "87b51956",
   "metadata": {
    "slideshow": {
     "slide_type": "fragment"
    }
   },
   "outputs": [],
   "source": []
  },
  {
   "cell_type": "markdown",
   "id": "621eae9a",
   "metadata": {
    "slideshow": {
     "slide_type": "subslide"
    }
   },
   "source": [
    "-   **조건이 여러 개인 조건문.**\n",
    "\n",
    "```python\n",
    "if 조건1:\n",
    "    명령문1_1  # 조건1이 True일 경우 실행할 코드블록.\n",
    "    명령문1_2\n",
    "    ...\n",
    "elif 조건2:    # 다음 조건으로 앞의 조건들이 모드 False일 경우 비교한다.\n",
    "    명령문2_1  # 조건2가 True일 경우 실행할 코드블록.\n",
    "    명령문2_2\n",
    "    ...\n",
    "elif 조건3 :\n",
    "    명령문3_1\n",
    "    명령문3_2\n",
    "    ...\n",
    "else:         # 위의 모든 조건이 False일 경우 실행하는 코드블록. 생략 가능하다.\n",
    "    명령문4\n",
    "```\n"
   ]
  },
  {
   "cell_type": "markdown",
   "id": "fb975917-0788-42b3-b1ee-4e294958e7eb",
   "metadata": {},
   "source": [
    "조건문을 작성할 때 if는 필수! 하지만 elif와 else는 필수가 아니다."
   ]
  },
  {
   "cell_type": "code",
   "execution_count": null,
   "id": "4c6a532d",
   "metadata": {
    "slideshow": {
     "slide_type": "fragment"
    }
   },
   "outputs": [],
   "source": []
  },
  {
   "cell_type": "markdown",
   "id": "2149b728",
   "metadata": {
    "slideshow": {
     "slide_type": "slide"
    }
   },
   "source": [
    "# 반복문 (Loop statement)\n",
    "\n",
    "특정 구문들을 반복해서 실행할 때 사용한다. 동일한 코드를 여러번 반복하거나 값이 일정하게 변하는 코드를 반복할 경우 사용한다.  \n",
    "단순 반복을 처리하는 **while문**과 iterable객체가 제공하는 값들을 반복 조회하는 **for in문** 두가지 문법이 있다.\n",
    "\n",
    "![반복문](images/ch03_02.png)\n",
    "\n",
    "<center>count의 값이 limit의 값보다 크거나 같을때 까지 count의 값을 1증가 후 출력하는 구문을 반복한다. </center>\n"
   ]
  },
  {
   "cell_type": "markdown",
   "id": "b4740a36",
   "metadata": {
    "slideshow": {
     "slide_type": "subslide"
    }
   },
   "source": [
    "## while문\n",
    "\n",
    "-   조건이 True인 동안 구문을 반복해서 실행한다.\n",
    "\n",
    "### 구문\n",
    "\n",
    "```python\n",
    "while 조건:       # 조건은 bool 표현식을 기술한다. 조건선언 다음에 : 으로 선언해서 코드블록을 구분한다\n",
    "    반복할 구문1  # 반복할 구문을 코드블록으로 작성한다.\n",
    "    반복할 구문2\n",
    "    ...\n",
    "```\n"
   ]
  },
  {
   "cell_type": "code",
   "execution_count": 2,
   "id": "639c035c-656b-47ee-9a04-7e38e968eb23",
   "metadata": {},
   "outputs": [
    {
     "name": "stdout",
     "output_type": "stream",
     "text": [
      "안녕\n",
      "잘 가\n"
     ]
    }
   ],
   "source": [
    "count = 0 \n",
    "limit = 10 \n",
    "if count < limit:\n",
    "    print(\"안녕\")\n",
    "print(\"잘 가\")    "
   ]
  },
  {
   "cell_type": "code",
   "execution_count": 1,
   "id": "b2b09930-27c2-4f0b-80dc-55fc6fa56592",
   "metadata": {},
   "outputs": [
    {
     "name": "stdout",
     "output_type": "stream",
     "text": [
      "안녕 0\n",
      "안녕 1\n",
      "안녕 2\n",
      "안녕 3\n",
      "안녕 4\n",
      "안녕 5\n",
      "안녕 6\n",
      "안녕 7\n",
      "안녕 8\n",
      "안녕 9\n",
      "잘 가\n"
     ]
    }
   ],
   "source": [
    "count = 0\n",
    "limit = 10\n",
    "while count < limit:\n",
    "    print(\"안녕\", count)\n",
    "    count += 1 # 조건을 만족할 수 있도록 \n",
    "print(\"잘 가\")"
   ]
  },
  {
   "cell_type": "code",
   "execution_count": null,
   "id": "6b11bde6",
   "metadata": {
    "slideshow": {
     "slide_type": "fragment"
    }
   },
   "outputs": [],
   "source": []
  },
  {
   "cell_type": "markdown",
   "id": "04f12e55",
   "metadata": {
    "slideshow": {
     "slide_type": "subslide"
    }
   },
   "source": [
    "## for in 문\n",
    "\n",
    "-   Iterable 객체를 순환조회하는 구문\n",
    "    -   for in문은 Iterable 타입의 객체가 가지고 있는 값들을 하나씩 처리하는 구문을 작성할 때 사용한다.\n",
    "\n",
    "> -   **Iterable**\n",
    ">     -   반복가능한 객체. 반복문(for in)을 이용해 일련의 값들을 반복적으로 각각 제공하는 객체를 말한다.\n",
    ">     -   대표적으로 List, Tuple, Dictionary, Set, 문자열 등이 있다.\n",
    "\n",
    "### 구문\n",
    "\n",
    "```python\n",
    "for 변수 in Iterable: # for in 선언후 : 으로 선언부와 구현부를 나눈다.\n",
    "    반복구문          # Iterable이 반복시 제공하는 값을 가지는 \"변수\"를 이용해 값들을 처리하는 구문을 코드블록으로 작성한다.\n",
    "    반복구문\n",
    "```\n"
   ]
  },
  {
   "cell_type": "code",
   "execution_count": 6,
   "id": "a90b7fd6-79a3-4190-b51f-32ceb91fde91",
   "metadata": {},
   "outputs": [
    {
     "name": "stdout",
     "output_type": "stream",
     "text": [
      "10\n",
      "100\n",
      "20\n",
      "30\n",
      "500\n"
     ]
    }
   ],
   "source": [
    "l = [10, 100, 20, 30, 500]\n",
    "# l의 모든 원소들을 출력 (iterable(반복대상): l, 일괄처리: 출력)\n",
    "for i in l:\n",
    "    print(i)"
   ]
  },
  {
   "cell_type": "code",
   "execution_count": 11,
   "id": "deeb3764-5fdc-4644-a310-8a5b856acef3",
   "metadata": {},
   "outputs": [
    {
     "name": "stdout",
     "output_type": "stream",
     "text": [
      "[10, 100, 20, 30, 500]\n",
      "[20, 200, 40, 60, 1000]\n"
     ]
    }
   ],
   "source": [
    "result = []\n",
    "for v in l:\n",
    "    result.append(v*2)\n",
    "print(l)\n",
    "print(result)"
   ]
  },
  {
   "cell_type": "code",
   "execution_count": 7,
   "id": "3557f6bc-370f-4434-a0a7-2951f5e86826",
   "metadata": {},
   "outputs": [
    {
     "name": "stdout",
     "output_type": "stream",
     "text": [
      "10\n"
     ]
    }
   ],
   "source": [
    "(lambda x: print(x))(10)"
   ]
  },
  {
   "cell_type": "code",
   "execution_count": 9,
   "id": "da0ce0f6",
   "metadata": {
    "slideshow": {
     "slide_type": "fragment"
    }
   },
   "outputs": [
    {
     "data": {
      "text/plain": [
       "[0, 1, 2, 3, 4, 5, 6, 7, 8, 9]"
      ]
     },
     "execution_count": 9,
     "metadata": {},
     "output_type": "execute_result"
    }
   ],
   "source": [
    "[_ for _ in range(10)]"
   ]
  },
  {
   "cell_type": "code",
   "execution_count": 12,
   "id": "cc4cb670-a525-4029-8457-80dbfc15da05",
   "metadata": {},
   "outputs": [
    {
     "name": "stdout",
     "output_type": "stream",
     "text": [
      "30\n"
     ]
    }
   ],
   "source": [
    "# 3의 배수를 찾기 (Iterable: l, 일괄처리: 3의 배수인지 확인)\n",
    "for v in l:\n",
    "    if v%3 == 0:\n",
    "        print(v)"
   ]
  },
  {
   "cell_type": "code",
   "execution_count": 15,
   "id": "f641aaa7-d5ee-4671-9d35-e88ebfaf0bc1",
   "metadata": {},
   "outputs": [
    {
     "name": "stdout",
     "output_type": "stream",
     "text": [
      "10\n",
      "20\n",
      "30\n"
     ]
    }
   ],
   "source": [
    "s = {10, 20, 30}\n",
    "for v in s:\n",
    "    print(v)\n",
    "# set도 iterable 타입이다."
   ]
  },
  {
   "cell_type": "code",
   "execution_count": 16,
   "id": "fc8fde33-d9e6-42ff-b6a5-b5717592df08",
   "metadata": {},
   "outputs": [],
   "source": [
    "# 딕셔너리\n",
    "d = {\"a\": 10, \"b\":20, \"c\": 30}"
   ]
  },
  {
   "cell_type": "code",
   "execution_count": 18,
   "id": "d85389e4-3669-4991-958f-adfc3b056875",
   "metadata": {},
   "outputs": [
    {
     "name": "stdout",
     "output_type": "stream",
     "text": [
      "a 10\n",
      "b 20\n",
      "c 30\n"
     ]
    }
   ],
   "source": [
    "for key in d:\n",
    "    print(key, d[key])"
   ]
  },
  {
   "cell_type": "code",
   "execution_count": 21,
   "id": "6182abb6-814d-4843-9588-bace097ac220",
   "metadata": {},
   "outputs": [
    {
     "name": "stdout",
     "output_type": "stream",
     "text": [
      "dict_keys(['a', 'b', 'c'])\n",
      "dict_values([10, 20, 30])\n",
      "dict_items([('a', 10), ('b', 20), ('c', 30)])\n"
     ]
    }
   ],
   "source": [
    "print(d.keys())\n",
    "print(d.values())\n",
    "print(d.items())"
   ]
  },
  {
   "cell_type": "code",
   "execution_count": 25,
   "id": "4ab319f2-6355-4b13-b318-5e135230c5a0",
   "metadata": {},
   "outputs": [
    {
     "name": "stdout",
     "output_type": "stream",
     "text": [
      "a 10\n",
      "b 20\n",
      "c 30\n"
     ]
    }
   ],
   "source": [
    "for k, v in d.items(): # 튜플 대입\n",
    "    print(k, v)\n",
    "# 원소가 자료구조일 때 원소 개수만큼 변수를 선언할 수 있다 "
   ]
  },
  {
   "cell_type": "code",
   "execution_count": 24,
   "id": "ea98d9ef-38bf-4a65-b226-c8f5816c1c7f",
   "metadata": {},
   "outputs": [
    {
     "name": "stdout",
     "output_type": "stream",
     "text": [
      "('a', 10)\n",
      "('b', 20)\n",
      "('c', 30)\n"
     ]
    }
   ],
   "source": [
    "for t in d.items(): # 튜플을 받고자 하는 경우\n",
    "    print(t)"
   ]
  },
  {
   "cell_type": "code",
   "execution_count": 27,
   "id": "8c22affb-56bc-4506-8a88-856cd286b128",
   "metadata": {},
   "outputs": [
    {
     "name": "stdout",
     "output_type": "stream",
     "text": [
      "안/ 녕/ 하/ 세/ 요/ ./  / 좋/ 은/  / 아/ 침/ 입/ 니/ 다/ ./  / ㅎ/ ㅎ/ "
     ]
    }
   ],
   "source": [
    "# 문자열\n",
    "for char in \"안녕하세요. 좋은 아침입니다. ㅎㅎ\":\n",
    "    print(char, end = \"/ \")"
   ]
  },
  {
   "cell_type": "code",
   "execution_count": null,
   "id": "933ce803-5089-40e2-b270-9e26ac36518c",
   "metadata": {},
   "outputs": [],
   "source": []
  },
  {
   "cell_type": "markdown",
   "id": "1f30cd6f",
   "metadata": {
    "slideshow": {
     "slide_type": "subslide"
    }
   },
   "source": [
    "## continue와 break를 이용한 반복문 제어\n",
    "\n",
    "-   **continue**\n",
    "    -   실행 블록에서 continue가 실행되면 현재 반복을 중단하고 다음 반복을 진행한다.\n",
    "    -   특정 조건에서 처리를 멈추고 다음 처리를 반복할 때 사용한다.\n",
    "-   **break**\n",
    "    -   반복문 실행을 중단한다.\n",
    "    -   특정 조건에서 반복문을 중간에 중지할때 사용한다.\n",
    "-   continue와 break는 특정 조건에서 실행되야 하는 경우가 대부분이므로 if문 안에 작성한다.\n"
   ]
  },
  {
   "cell_type": "code",
   "execution_count": 28,
   "id": "ed049ae9-ee46-4222-b685-6bc0a5506fc6",
   "metadata": {},
   "outputs": [
    {
     "name": "stdout",
     "output_type": "stream",
     "text": [
      "[1, 2, 3, 4, 5, 6, 7, 8, 9, 10]\n"
     ]
    }
   ],
   "source": [
    "l = [_ for _ in range(1, 11)]\n",
    "print(l)"
   ]
  },
  {
   "cell_type": "code",
   "execution_count": 30,
   "id": "8eb693e8-a2bf-4b41-bf95-4fd1b78eb81b",
   "metadata": {},
   "outputs": [
    {
     "name": "stdout",
     "output_type": "stream",
     "text": [
      "2\n",
      "4\n",
      "6\n",
      "8\n",
      "10\n"
     ]
    }
   ],
   "source": [
    "# 짝수만 출력\n",
    "for v in l:\n",
    "    if v % 2 != 0:\n",
    "        continue\n",
    "    print(v)"
   ]
  },
  {
   "cell_type": "code",
   "execution_count": 31,
   "id": "ee81df22-97da-4c7b-9ba8-a86a8c21ba9a",
   "metadata": {},
   "outputs": [
    {
     "name": "stdout",
     "output_type": "stream",
     "text": [
      "1\n",
      "2\n",
      "3\n",
      "4\n",
      "5\n",
      "6\n"
     ]
    }
   ],
   "source": [
    "# 만약에 7이면 반복을 종료\n",
    "for v in l:\n",
    "    if v == 7:\n",
    "        break\n",
    "    print(v)"
   ]
  },
  {
   "cell_type": "code",
   "execution_count": 32,
   "id": "17c8868d-76d9-44b0-b641-4bf07b822f0e",
   "metadata": {},
   "outputs": [],
   "source": [
    "import random"
   ]
  },
  {
   "cell_type": "code",
   "execution_count": 42,
   "id": "03ae4e3b-96f6-4d5d-9985-931806834dbc",
   "metadata": {},
   "outputs": [
    {
     "data": {
      "text/plain": [
       "13"
      ]
     },
     "execution_count": 42,
     "metadata": {},
     "output_type": "execute_result"
    }
   ],
   "source": [
    "random.randint(10, 20) # 시작(10) ~ 끝(20) 범위 안에 있는 임의의 정수(난수-random값)를 반환"
   ]
  },
  {
   "cell_type": "code",
   "execution_count": 44,
   "id": "3e3ced22-cc37-4b15-8d58-6d6fd3349c56",
   "metadata": {},
   "outputs": [],
   "source": [
    "# -100 ~ 100 범위의 정수 난수를 생성\n",
    "# 생성된 정수 중 양수는 \"pos_res\" 리스트에, 음수는 \"neg_res\" 리스트에 저장\n",
    "# 0이 생성되면 종료"
   ]
  },
  {
   "cell_type": "code",
   "execution_count": 49,
   "id": "251ead9a-989f-44a7-a7a7-41b49324e1a3",
   "metadata": {},
   "outputs": [
    {
     "name": "stdout",
     "output_type": "stream",
     "text": [
      "pos_res:  [63, 44, 31, 83, 5]\n",
      "neg_res:  [-84, -19, -37]\n"
     ]
    }
   ],
   "source": [
    "# for in문을 써야할까, while문을 써야할까?\n",
    "# while문을 써야 한다. for in문은 원소를 가져올 자료 구조가 있어야 하기 때문이다.\n",
    "pos_res = [] # 양수 값을 저장할 리스트\n",
    "neg_res = [] # 음수 값을 저장할 리스트\n",
    "x = 1\n",
    "while x != 0:\n",
    "    x = random.randint(-100, 100)\n",
    "    if x > 0:\n",
    "        pos_res.append(x)\n",
    "    if x < 0: \n",
    "        neg_res.append(x)\n",
    "\n",
    "print(\"pos_res: \", pos_res)\n",
    "print(\"neg_res: \", neg_res)"
   ]
  },
  {
   "cell_type": "code",
   "execution_count": 52,
   "id": "90c41e9f",
   "metadata": {
    "slideshow": {
     "slide_type": "fragment"
    }
   },
   "outputs": [
    {
     "name": "stdout",
     "output_type": "stream",
     "text": [
      "[87, 16, 25, 78, 97, 97, 36, 79, 14, 42, 91, 18, 5, 56, 56, 33, 78, 61, 71, 45, 59, 13, 52, 36, 15, 19, 18, 34, 22, 16, 33, 47, 5, 24, 41, 30, 1, 70, 28, 9, 15, 63]\n",
      "[-66, -46, -11, -67, -4, -94, -96, -42, -26, -44, -29, -84, -37, -36, -92, -46, -31, -43, -50, -36, -98, -78, -84, -96, -79, -70, -12, -63, -47, -91, -17, -30, -14, -75, -36, -9, -24, -12, -21, -92]\n"
     ]
    }
   ],
   "source": [
    "pos_res = [] # 양수 값을 저장할 리스트\n",
    "neg_res = [] # 음수 값을 저장할 리스트\n",
    "# := 왈러스 연산자 - 대입연산자 / if, while 조건절에 사용한다. \n",
    "# 값을 변수에 대입하고 반환\n",
    "# (1) 값을 변수에 대입\n",
    "# (2) 대입한 값을 다시 반환\n",
    "\n",
    "# 값을 조건에서도 쓰고 안에서도 써야 하는 경우에 쓴다.\n",
    "# 다른 언어는 do-while문 \n",
    "\n",
    "while (num := random.randint(-100, 100)) != 0:\n",
    "# while num != 0\n",
    "# num = random.randint(-100, 100)\n",
    "# 와 같은 의미임.\n",
    "    if num > 0:\n",
    "        pos_res.append(num)\n",
    "    else: # num < 0\n",
    "        neg_res.append(num)\n",
    "print(pos_res)\n",
    "print(neg_res)\n",
    "        "
   ]
  },
  {
   "cell_type": "code",
   "execution_count": 54,
   "id": "4a308335-bfc0-4de1-bc8d-ce49633637de",
   "metadata": {
    "slideshow": {
     "slide_type": "fragment"
    }
   },
   "outputs": [
    {
     "name": "stdout",
     "output_type": "stream",
     "text": [
      "[True]\n",
      "[]\n"
     ]
    }
   ],
   "source": [
    "pos_res = [] # 양수 값을 저장할 리스트\n",
    "neg_res = [] # 음수 값을 저장할 리스트\n",
    "\n",
    "while num := random.randint(-100, 100) != 0:\n",
    "# 이렇게 하면 num에 True / False가 들어간다. \n",
    "# random.randint(-100, 100) != 0 가 먼저 연산 -> True / False 값이 num에 들어간다.\n",
    "    if num > 0:\n",
    "        pos_res.append(num)\n",
    "    else: # num < 0\n",
    "        neg_res.append(num)\n",
    "print(pos_res)\n",
    "print(neg_res)\n",
    "        "
   ]
  },
  {
   "cell_type": "code",
   "execution_count": 55,
   "id": "94953ee0-b7a6-4e22-9509-39b025668125",
   "metadata": {},
   "outputs": [
    {
     "name": "stdout",
     "output_type": "stream",
     "text": [
      "20\n"
     ]
    }
   ],
   "source": [
    "(a := 20) > 0 # 1. a에 20을 넣고 2. a와 0을 비교\n",
    "print(a)"
   ]
  },
  {
   "cell_type": "code",
   "execution_count": null,
   "id": "84372906-ebf3-4d8a-a55a-2b2543aa51fe",
   "metadata": {},
   "outputs": [],
   "source": []
  },
  {
   "cell_type": "markdown",
   "id": "dc6099c5",
   "metadata": {
    "slideshow": {
     "slide_type": "slide"
    }
   },
   "source": [
    "## for in 문 연관 내장 함수\n",
    "\n",
    "### range()\n",
    "\n",
    "-   일정한 간격의 연속된 정수를 제공하는 반복가능 객체 생성한다.\n",
    "-   구문\n",
    "    -   `range([시작값], 멈춤값, [증감값])`\n",
    "        -   시작값, 멈춤값, 증감값 모두 정수만 가능하다.\n",
    "        -   시작값 > 멈춤값 이고 증감값이 음수이면 내림차순으로 값을 제공한다.\n",
    "        1. 전달값이 **1개: 멈춤값**.\n",
    "            - 0 ~ (멈춤값-1)까지 1씩 증가하는 정수를 제공\n",
    "        2. 전달값이 **2개: 시작값, 멈춤값**.\n",
    "            - 시작값 ~ (멈춤값-1) 까지 1씩 증가하는 정수 제공\n",
    "        3. 전달값이 **3개: 시작값, 멈춤값, 증감값(간격)**.\n",
    "            - 시작값 ~ (멈춤값-1)까지 증감값만큼 증가하는 정수를 제공.\n"
   ]
  },
  {
   "cell_type": "code",
   "execution_count": 57,
   "id": "352d937b",
   "metadata": {
    "slideshow": {
     "slide_type": "fragment"
    }
   },
   "outputs": [
    {
     "data": {
      "text/plain": [
       "range(10, 20)"
      ]
     },
     "execution_count": 57,
     "metadata": {},
     "output_type": "execute_result"
    }
   ],
   "source": [
    "range(10, 20) # 값을 반환하지 않고 알고리즘만 갖고 있는 애임"
   ]
  },
  {
   "cell_type": "code",
   "execution_count": 58,
   "id": "d245f420-5e2a-40fc-aa6e-65d0ac4312fa",
   "metadata": {},
   "outputs": [
    {
     "name": "stdout",
     "output_type": "stream",
     "text": [
      "10\t11\t12\t13\t14\t15\t16\t17\t18\t19\t"
     ]
    }
   ],
   "source": [
    "for v in range(10, 20): # (시작값, 종료값) # 간격: 1\n",
    "    print(v, end = \"\\t\")"
   ]
  },
  {
   "cell_type": "code",
   "execution_count": 59,
   "id": "4c5a11e2-1362-4456-a941-415f1edd6fb2",
   "metadata": {},
   "outputs": [
    {
     "name": "stdout",
     "output_type": "stream",
     "text": [
      "10\t13\t16\t19\t"
     ]
    }
   ],
   "source": [
    "for v in range(10, 20, 3): # (시작값, 종료값, 간격) \n",
    "    print(v, end = \"\\t\")"
   ]
  },
  {
   "cell_type": "code",
   "execution_count": 60,
   "id": "d8a01fe1-b279-49e3-a637-31acb96ea63d",
   "metadata": {},
   "outputs": [
    {
     "name": "stdout",
     "output_type": "stream",
     "text": [
      "0\t1\t2\t3\t4\t5\t6\t7\t8\t9\t10\t11\t12\t13\t14\t15\t16\t17\t18\t19\t"
     ]
    }
   ],
   "source": [
    "for v in range(20): # (종료값) # 시작: 0, 간격: 1\n",
    "    print(v, end = \"\\t\")"
   ]
  },
  {
   "cell_type": "code",
   "execution_count": 61,
   "id": "e262ee6b-2ae8-416f-bdd0-91c3015b1c08",
   "metadata": {},
   "outputs": [
    {
     "name": "stdout",
     "output_type": "stream",
     "text": [
      "[1, 2, 3, 4, 5, 6, 7, 8, 9, 10]\n"
     ]
    }
   ],
   "source": [
    "# range(): iterable\n",
    "l = list(range(1, 11))\n",
    "print(l)"
   ]
  },
  {
   "cell_type": "code",
   "execution_count": 63,
   "id": "aedc7dfd-db25-4976-a8e3-97b0ff9f4df8",
   "metadata": {},
   "outputs": [
    {
     "name": "stdout",
     "output_type": "stream",
     "text": [
      "(0, 1, 2, 3, 4)\n"
     ]
    }
   ],
   "source": [
    "l = tuple(range(5))\n",
    "print(l)"
   ]
  },
  {
   "cell_type": "code",
   "execution_count": 65,
   "id": "f98bab3a-69c1-4e85-8f16-2cd1a3e8123d",
   "metadata": {},
   "outputs": [
    {
     "data": {
      "text/plain": [
       "[10, 8, 6, 4, 2, 0, -2, -4, -6, -8]"
      ]
     },
     "execution_count": 65,
     "metadata": {},
     "output_type": "execute_result"
    }
   ],
   "source": [
    "# reverse (역순)\n",
    "list(range(10, -10, -2)) # 마지막 값인 -10은 포함하지 않는다."
   ]
  },
  {
   "cell_type": "code",
   "execution_count": 66,
   "id": "68c8755f-a75b-4e30-9561-9489320ac811",
   "metadata": {},
   "outputs": [
    {
     "name": "stdout",
     "output_type": "stream",
     "text": [
      "안녕\n",
      "안녕\n",
      "안녕\n",
      "안녕\n",
      "안녕\n",
      "안녕\n",
      "안녕\n",
      "안녕\n",
      "안녕\n",
      "안녕\n"
     ]
    }
   ],
   "source": [
    "# 안 쓰는 변수 명시: _\n",
    "for _ in range(10):\n",
    "    print(\"안녕\")"
   ]
  },
  {
   "cell_type": "code",
   "execution_count": null,
   "id": "b4cbe2b1-1d17-48e6-b616-3616bc74914d",
   "metadata": {},
   "outputs": [],
   "source": []
  },
  {
   "cell_type": "markdown",
   "id": "5de9d74e",
   "metadata": {
    "slideshow": {
     "slide_type": "subslide"
    }
   },
   "source": [
    "## enumerate()\n",
    "\n",
    "-   구문\n",
    "    -   `enumerate(Iterable,  [, start=정수])`\n",
    "        -   현재 몇번째 값을 제공하는 지(현재 몇번째 반복인지)를 나타내는 **index**와 제공하는 **원소**를 tuple로 묶어서 반환\n",
    "        -   Iterable\n",
    "            -   값을 제공할 Iterable객체\n",
    "        -   start: 정수\n",
    "            -   index 시작 값. 생략하면 0부터 시작한다.\n"
   ]
  },
  {
   "cell_type": "code",
   "execution_count": 69,
   "id": "33dd96c5",
   "metadata": {
    "slideshow": {
     "slide_type": "fragment"
    }
   },
   "outputs": [
    {
     "name": "stdout",
     "output_type": "stream",
     "text": [
      "0\n",
      "1\n",
      "2\n",
      "3\n",
      "4\n",
      "5\n",
      "6\n",
      "7\n",
      "8\n",
      "9\n"
     ]
    }
   ],
   "source": [
    "l = list(range(10))\n",
    "for v in l:\n",
    "    print(v)"
   ]
  },
  {
   "cell_type": "code",
   "execution_count": 71,
   "id": "80b33da2-3128-4e75-b419-14b0dff88a8b",
   "metadata": {},
   "outputs": [
    {
     "name": "stdout",
     "output_type": "stream",
     "text": [
      "(0, 10)\n",
      "(1, 11)\n",
      "(2, 12)\n",
      "(3, 13)\n",
      "(4, 14)\n",
      "(5, 15)\n",
      "(6, 16)\n",
      "(7, 17)\n",
      "(8, 18)\n",
      "(9, 19)\n"
     ]
    }
   ],
   "source": [
    "l = list(range(10, 20))\n",
    "for v in enumerate(l):\n",
    "    print(v)"
   ]
  },
  {
   "cell_type": "code",
   "execution_count": 73,
   "id": "f65a1329-2ffb-47fa-8c70-937a1769eb84",
   "metadata": {},
   "outputs": [
    {
     "name": "stdout",
     "output_type": "stream",
     "text": [
      "0 10\n",
      "1 11\n",
      "2 12\n",
      "3 13\n",
      "4 14\n",
      "5 15\n",
      "6 16\n",
      "7 17\n",
      "8 18\n",
      "9 19\n"
     ]
    }
   ],
   "source": [
    "for idx, value in enumerate(l):\n",
    "    print(idx, value)"
   ]
  },
  {
   "cell_type": "code",
   "execution_count": 74,
   "id": "bd12521e-0d52-4e98-b52c-f100f425edba",
   "metadata": {},
   "outputs": [
    {
     "name": "stdout",
     "output_type": "stream",
     "text": [
      "1000번째 출력 결과: 999\n",
      "2000번째 출력 결과: 1999\n",
      "3000번째 출력 결과: 2999\n",
      "4000번째 출력 결과: 3999\n",
      "5000번째 출력 결과: 4999\n",
      "6000번째 출력 결과: 5999\n",
      "7000번째 출력 결과: 6999\n",
      "8000번째 출력 결과: 7999\n",
      "9000번째 출력 결과: 8999\n",
      "10000번째 출력 결과: 9999\n"
     ]
    }
   ],
   "source": [
    "# 10_000번 반복 처리 -> 중간 결과를 1_000번에 한 번씩 출력\n",
    "for idx, value in enumerate(range(10_000), start = 1): # 인덱스 번호 1부터 시작\n",
    "    if idx % 1000 == 0:\n",
    "        print(f\"{idx}번째 출력 결과: {value}\")   "
   ]
  },
  {
   "cell_type": "code",
   "execution_count": null,
   "id": "9e1db057-d8c5-4bc9-8afa-022eb40b6297",
   "metadata": {},
   "outputs": [],
   "source": []
  },
  {
   "cell_type": "markdown",
   "id": "f5a5540f",
   "metadata": {
    "slideshow": {
     "slide_type": "subslide"
    }
   },
   "source": [
    "## zip()\n",
    "\n",
    "-   여러 개의 Iterable 객체를 받아 반복시 같은 index의 값끼리 튜플로 묶어 반환한다.\n",
    "-   구문\n",
    "    -   `zip(Iterable1, Iterable2, Iterable3 [, .......])`\n",
    "        -   Iterable 2개이상.전달한다.\n",
    "-   각 Iterable이 제공하는 원소의 개수가가 다를 경우 가장 적은 것의 개수에 맞춰 반복한다.\n"
   ]
  },
  {
   "cell_type": "code",
   "execution_count": 3,
   "id": "1b99057f",
   "metadata": {
    "slideshow": {
     "slide_type": "fragment"
    }
   },
   "outputs": [
    {
     "name": "stdout",
     "output_type": "stream",
     "text": [
      "('치이카와', 3, '움집')\n",
      "('하치와레', 2, '동굴')\n",
      "('우사기', 3, '수민이집')\n"
     ]
    }
   ],
   "source": [
    "name_list = [\"치이카와\", \"하치와레\", \"우사기\"]\n",
    "age_list = [3, 2, 3, 4, 5]\n",
    "address = [\"움집\", \"동굴\", \"수민이집\"]\n",
    "# 같은 index가 같은 사람의 정보일 때\n",
    "# 개별 사람의 데이터를 출력하고 싶다면? ex) 치이카와, 3, 움집\n",
    "for v in zip(name_list, age_list, address):\n",
    "    print(v) # 제일 적은 원소 개수에 맞춰 가져온다."
   ]
  },
  {
   "cell_type": "code",
   "execution_count": 78,
   "id": "b8ff1883-e21f-4407-be61-60a8a0ed7bc1",
   "metadata": {},
   "outputs": [
    {
     "name": "stdout",
     "output_type": "stream",
     "text": [
      "치이카와 3 움집\n",
      "하치와레 2 동굴\n",
      "우사기 3 수민이집\n"
     ]
    }
   ],
   "source": [
    "# 원소를 따로따로 쓰고 싶다면\n",
    "for n, a, ad in zip(name_list, age_list, address):\n",
    "    print(n, a, ad)"
   ]
  },
  {
   "cell_type": "markdown",
   "id": "2df89dae",
   "metadata": {
    "slideshow": {
     "slide_type": "subslide"
    }
   },
   "source": [
    "# 컴프리헨션(Comprehension)\n",
    "\n",
    "-   기존 Iterable의 원소들을 이용해서 새로운 자료구조(List, Dictionary, Set)를 생성하는 구문.\n",
    "    -   기존 Iterable의 **원소들을 처리한 결과**나 **특정 조건이 True인 값들을** 새로운 자료구조에 넣을때 사용.\n",
    "    -   결과를 넣을 새로운 자료구조 타입에 따라 다음 세가지가 있다.\n",
    "        -   리스트 컴프리헨션\n",
    "        -   딕셔너리 컴프리헨션\n",
    "        -   셋 컴프리헨션\n",
    "- **튜플 컴프리헨션**은 tuple() 함수를 이용해서 만든다.\n",
    "-   **딕셔너리 컴프리헨션**과 **셋 컴프리헨션**은 파이썬 3 에 새로 추가되었다.\n",
    "-   컴프리헨션 문법은 iterable 을 타입을 넣는 곳에서는 다 적용할 수있다.\n"
   ]
  },
  {
   "cell_type": "markdown",
   "id": "ffd9ed4b-6e7f-4195-b655-77b261ef36e2",
   "metadata": {},
   "source": [
    "1. filtering"
   ]
  },
  {
   "cell_type": "code",
   "execution_count": 5,
   "id": "90a6c6a9-52fd-4076-800e-484d4ce69cda",
   "metadata": {},
   "outputs": [
    {
     "data": {
      "text/plain": [
       "[2, 4, 6]"
      ]
     },
     "execution_count": 5,
     "metadata": {},
     "output_type": "execute_result"
    }
   ],
   "source": [
    "l = [1, 2, 3, 4, 5, 6]\n",
    "result = [] # 결과를 담을 리스트\n",
    "for v in l:\n",
    "    if v % 2 == 0:\n",
    "        result.append(v)\n",
    "result"
   ]
  },
  {
   "cell_type": "code",
   "execution_count": 15,
   "id": "f04fb877-77f5-4be5-9900-b1e1a81b3f1b",
   "metadata": {},
   "outputs": [
    {
     "name": "stdout",
     "output_type": "stream",
     "text": [
      "[20, 40, 60]\n"
     ]
    }
   ],
   "source": [
    "# filtering을 컴프리헨션 문법으로 구현\n",
    "result5 = [v*10 for v in l if v%2==0]\n",
    "print(result5)"
   ]
  },
  {
   "cell_type": "code",
   "execution_count": null,
   "id": "c0a15f05-e099-496b-8606-e801e8472c6e",
   "metadata": {},
   "outputs": [],
   "source": []
  },
  {
   "cell_type": "markdown",
   "id": "7b59f859-6724-434b-a55d-3cc7eb774285",
   "metadata": {},
   "source": [
    "2. mapping"
   ]
  },
  {
   "cell_type": "code",
   "execution_count": 4,
   "id": "167d6bda-223f-4391-a14e-414ad9caaa40",
   "metadata": {},
   "outputs": [
    {
     "data": {
      "text/plain": [
       "[2, 4, 6, 8, 10, 12]"
      ]
     },
     "execution_count": 4,
     "metadata": {},
     "output_type": "execute_result"
    }
   ],
   "source": [
    "result2 = []\n",
    "for v in l:\n",
    "    result2.append(v * 2)\n",
    "result2"
   ]
  },
  {
   "cell_type": "markdown",
   "id": "e671fccb-c9f0-412e-bed9-9f76d991535f",
   "metadata": {},
   "source": [
    "- comprehension 문법 - v*2 for v in l\n",
    "- 리스트 안에 넣어주면 리스트 컴프리헨션"
   ]
  },
  {
   "cell_type": "code",
   "execution_count": 6,
   "id": "4bb7e19f-5477-45f9-ba74-2c340adc3244",
   "metadata": {},
   "outputs": [
    {
     "name": "stdout",
     "output_type": "stream",
     "text": [
      "[2, 4, 6, 8, 10, 12]\n"
     ]
    }
   ],
   "source": [
    "# mapping을 comprehension 문법으로 구현\n",
    "result3 = [v*2 for v in l]\n",
    "print(result3)"
   ]
  },
  {
   "cell_type": "code",
   "execution_count": 8,
   "id": "07f4847c-96e5-448b-a678-bd7bde08c37c",
   "metadata": {},
   "outputs": [
    {
     "name": "stdout",
     "output_type": "stream",
     "text": [
      "{1: 2, 2: 4, 3: 6, 4: 8, 5: 10, 6: 12}\n"
     ]
    }
   ],
   "source": [
    "result4 = {v: v*2 for v in l}\n",
    "print(result4)"
   ]
  },
  {
   "cell_type": "code",
   "execution_count": 10,
   "id": "6b4d1a37-7958-42a6-97ec-3ec4011adfb8",
   "metadata": {},
   "outputs": [
    {
     "data": {
      "text/plain": [
       "{'value1': 2,\n",
       " 'value2': 4,\n",
       " 'value3': 6,\n",
       " 'value4': 8,\n",
       " 'value5': 10,\n",
       " 'value6': 12}"
      ]
     },
     "execution_count": 10,
     "metadata": {},
     "output_type": "execute_result"
    }
   ],
   "source": [
    "{f\"value{v}\":v*2 for v in l} # 딕셔너리 컴프리헨션"
   ]
  },
  {
   "cell_type": "code",
   "execution_count": 11,
   "id": "031fd5cd-b2b4-4c3b-911c-c92981b64a9f",
   "metadata": {},
   "outputs": [
    {
     "data": {
      "text/plain": [
       "<generator object <genexpr> at 0x0000016B233E8520>"
      ]
     },
     "execution_count": 11,
     "metadata": {},
     "output_type": "execute_result"
    }
   ],
   "source": [
    "(v*2 for v in l) # generator 생성"
   ]
  },
  {
   "cell_type": "code",
   "execution_count": 6,
   "id": "e04827d9",
   "metadata": {
    "slideshow": {
     "slide_type": "fragment"
    }
   },
   "outputs": [
    {
     "data": {
      "text/plain": [
       "((2, 11), (4, 12), (6, 13), (8, 14), (10, 15), (12, 16))"
      ]
     },
     "execution_count": 6,
     "metadata": {},
     "output_type": "execute_result"
    }
   ],
   "source": [
    "# 컴프리헨션으로 튜플을 만들고 싶다면 튜플 함수를 쓰자.\n",
    "tuple((v*2, v+10) for v in l)"
   ]
  },
  {
   "cell_type": "code",
   "execution_count": 20,
   "id": "e29e01a8-d880-45ce-b15e-f051326e668a",
   "metadata": {},
   "outputs": [
    {
     "name": "stdout",
     "output_type": "stream",
     "text": [
      "[5, 7, 3]\n"
     ]
    }
   ],
   "source": [
    "l2 = [\n",
    "    [10, 5, 7],\n",
    "    [3, 20, 4]\n",
    "]\n",
    "result = [] # 12 원소 중 홀수만 저장\n",
    "for l in l2:\n",
    "    for v in l:\n",
    "        if v % 2 != 0:\n",
    "            result.append(v)\n",
    "print(result)"
   ]
  },
  {
   "cell_type": "code",
   "execution_count": 21,
   "id": "4ccc2729-bc34-4398-bc1e-cb1d38f61159",
   "metadata": {},
   "outputs": [
    {
     "name": "stdout",
     "output_type": "stream",
     "text": [
      "[5, 7, 3]\n"
     ]
    }
   ],
   "source": [
    "# 컴프리헨션에 순서대로 넣으면 됩니다! \n",
    "result2 = [v for l in l2 for v in l if v % 2 != 0]\n",
    "print(result2)"
   ]
  },
  {
   "cell_type": "code",
   "execution_count": null,
   "id": "c87f4ace-5f97-491d-8167-7ccb1a8bb8d0",
   "metadata": {},
   "outputs": [],
   "source": []
  },
  {
   "cell_type": "markdown",
   "id": "092288d7",
   "metadata": {
    "slideshow": {
     "slide_type": "skip"
    }
   },
   "source": [
    "# TODO\n"
   ]
  },
  {
   "cell_type": "code",
   "execution_count": 7,
   "id": "ae9807f9-9525-403a-b5af-82e78cab8bec",
   "metadata": {
    "slideshow": {
     "slide_type": "skip"
    }
   },
   "outputs": [
    {
     "name": "stdin",
     "output_type": "stream",
     "text": [
      "id:  김공주공주\n"
     ]
    },
    {
     "name": "stdout",
     "output_type": "stream",
     "text": [
      "사용할 수 있습니다.\n"
     ]
    }
   ],
   "source": [
    "# (1) 사용자로 부터 ID를 입력 받은 뒤 입력받은 ID가 5글자 이상이면 \"사용할 수 있습니다.\"를 5글자 미만이면 \"사용할 수 없는 ID입니다.\"를 출력하세요.\n",
    "id = input(\"id: \")\n",
    "if len(id) >= 5:\n",
    "# 한 글자라도 입력 했을 때 사용할 수 있다면 -> if id:\n",
    "    print(\"사용할 수 있습니다.\")\n",
    "else: \n",
    "    print(\"사용할 수 없는 ID입니다.\")"
   ]
  },
  {
   "cell_type": "code",
   "execution_count": 8,
   "id": "92f87cdf-a149-407e-8e93-b770b34a179c",
   "metadata": {
    "slideshow": {
     "slide_type": "skip"
    }
   },
   "outputs": [
    {
     "name": "stdin",
     "output_type": "stream",
     "text": [
      "우리나라 도시명:  구미\n"
     ]
    },
    {
     "name": "stdout",
     "output_type": "stream",
     "text": [
      "특별시나 광역시가 아닙니다.\n"
     ]
    }
   ],
   "source": [
    "# (2) 사용자로부터 우리나라 도시명을 입력 받은 뒤 입력받은 도시명이 서울이면 \"특별시\"를 인천,부산,광주,대구,대전,울산 이면 \"광역시\"를 나머지는 \"특별시나 광역시가 아닙니다.\"를 출력하세요.\n",
    "x = input(\"우리나라 도시명: \")\n",
    "x = x.strip() # 공백 제거\n",
    "if x == \"서울\":\n",
    "    print(\"특별시\")\n",
    "elif x in [\"인천\",\"부산\",\"광주\",\"대구\",\"대전\",\"울산\"]:\n",
    "    print(\"광역시\")\n",
    "else:\n",
    "    print(\"특별시나 광역시가 아닙니다.\")"
   ]
  },
  {
   "cell_type": "code",
   "execution_count": 9,
   "id": "6e141630-85b1-4b92-9458-c6d1a8e72dd4",
   "metadata": {
    "slideshow": {
     "slide_type": "skip"
    }
   },
   "outputs": [
    {
     "name": "stdout",
     "output_type": "stream",
     "text": [
      "평균: 89.0\n"
     ]
    }
   ],
   "source": [
    "# (3-4)\n",
    "# (3) 아래 리스트의 평균을 구하시오.\n",
    "jumsu = [100, 90, 100, 80, 70, 100, 80, 90, 95, 85]\n",
    "average = sum(jumsu) / len(jumsu)\n",
    "# j_sum = 0\n",
    "# for v in jumsu:\n",
    "# j_sum += v\n",
    "print(f\"평균: {average}\")"
   ]
  },
  {
   "cell_type": "code",
   "execution_count": 32,
   "id": "e2898601-e751-4e72-8948-a15a7ff79da1",
   "metadata": {
    "slideshow": {
     "slide_type": "skip"
    }
   },
   "outputs": [
    {
     "name": "stdout",
     "output_type": "stream",
     "text": [
      "0-pass, 1-pass, 2-pass, 3-fail, 4-fail, 5-pass, 6-fail, 7-pass, 8-pass, 9-fail"
     ]
    }
   ],
   "source": [
    "# (4) 위 jumsu리스트에서 평균점수이상은 pass, 미만은 fail을 index번호와 함께 출력하시오. (ex: 0-pass, 1-pass, 2-fail)\n",
    "for i in range(len(jumsu)):\n",
    "    if jumsu[i] >= average:\n",
    "        print(f\"{i}-pass\", end=\"\")\n",
    "    else:\n",
    "        print(f\"{i}-fail\", end=\"\")\n",
    "    if i != len(jumsu)-1:\n",
    "        print(\", \", end=\"\")"
   ]
  },
  {
   "cell_type": "code",
   "execution_count": 33,
   "id": "c475fab7-b5f0-4489-a9e7-62158cc6e59f",
   "metadata": {
    "slideshow": {
     "slide_type": "skip"
    }
   },
   "outputs": [
    {
     "data": {
      "text/plain": [
       "95"
      ]
     },
     "execution_count": 33,
     "metadata": {},
     "output_type": "execute_result"
    }
   ],
   "source": [
    "# (5) 아래 리스트 값들 중 최대값을 조회해 출력하시오.\n",
    "jumsu = [60, 90, 80, 80, 70, 55, 80, 90, 95, 85]\n",
    "max(jumsu)"
   ]
  },
  {
   "cell_type": "code",
   "execution_count": 11,
   "id": "1742a9f8-43cd-4360-9111-e1b41f75e091",
   "metadata": {},
   "outputs": [
    {
     "name": "stdout",
     "output_type": "stream",
     "text": [
      "최대값: 95\n"
     ]
    }
   ],
   "source": [
    "# (5) +\n",
    "jumsu = [60, 90, 80, 80, 70, 55, 80, 90, 95, 85]\n",
    "max_value = jumsu[0] # 최대값을 저장할 변수\n",
    "for v in jumsu: # max_value와 list의 원소 하나하나의 크기를 비교한다. \n",
    "    if v > max_value: # v가 기존 max_value 값보다 크다면 \n",
    "        max_value = v # max_value 값을 변경한다. \n",
    "print(f\"최대값: {max_value}\")"
   ]
  },
  {
   "cell_type": "code",
   "execution_count": 12,
   "id": "b5a27ecc-cf10-48e9-b679-aa1556032567",
   "metadata": {},
   "outputs": [
    {
     "data": {
      "text/plain": [
       "(95, 55)"
      ]
     },
     "execution_count": 12,
     "metadata": {},
     "output_type": "execute_result"
    }
   ],
   "source": [
    "max(jumsu), min(jumsu)"
   ]
  },
  {
   "cell_type": "code",
   "execution_count": 19,
   "id": "07de4555-ddad-4d1a-9c0f-6f9262379c2b",
   "metadata": {},
   "outputs": [],
   "source": [
    "max = 10000 #<- max 내장 함수를 정수값으로 변경\n",
    "# max(jumsu) # <- TypeError: 'int' object is not callable"
   ]
  },
  {
   "cell_type": "code",
   "execution_count": 20,
   "id": "873748bc-c41b-4239-af9c-769896399483",
   "metadata": {},
   "outputs": [
    {
     "data": {
      "text/plain": [
       "95"
      ]
     },
     "execution_count": 20,
     "metadata": {},
     "output_type": "execute_result"
    }
   ],
   "source": [
    "del max # 변수 지운다\n",
    "max(jumsu) # 다시 내장함수로~"
   ]
  },
  {
   "cell_type": "code",
   "execution_count": 21,
   "id": "46ef87eb-60f8-4d76-ad5e-f88ce33e1cf0",
   "metadata": {
    "slideshow": {
     "slide_type": "skip"
    }
   },
   "outputs": [
    {
     "name": "stdin",
     "output_type": "stream",
     "text": [
      "단을 입력하시오:  2\n"
     ]
    },
    {
     "name": "stdout",
     "output_type": "stream",
     "text": [
      "2 x 1 = 2\n",
      "2 x 2 = 4\n",
      "2 x 3 = 6\n",
      "2 x 4 = 8\n",
      "2 x 5 = 10\n",
      "2 x 6 = 12\n",
      "2 x 7 = 14\n",
      "2 x 8 = 16\n",
      "2 x 9 = 18\n"
     ]
    }
   ],
   "source": [
    "# (6) 사용자로부터 정수를 입력받아 그 정수 단의 구구단을 출력하시오.\n",
    "# ex)\n",
    "# 단을 입력하시오 : 2\n",
    "# 2 x 1 = 2\n",
    "# 2 x 2 = 4\n",
    "# ..\n",
    "# 2 x 9 = 18\n",
    "x = int(input(\"단을 입력하시오: \")) # 입력받은 x를 이용해 계산을 할 거니까 x를 int로 받는다. \n",
    "for i in range(1, 10):\n",
    "    print(f\"{x} x {i} = {x*i}\")"
   ]
  },
  {
   "cell_type": "code",
   "execution_count": 25,
   "id": "f1d83230-176b-47dc-9e43-8f8cab39e0b8",
   "metadata": {},
   "outputs": [
    {
     "name": "stdout",
     "output_type": "stream",
     "text": [
      "2 x 1 = 2\t3 x 1 = 3\t4 x 1 = 4\t5 x 1 = 5\t6 x 1 = 6\t7 x 1 = 7\t8 x 1 = 8\t9 x 1 = 9\t\n",
      "\n",
      "2 x 2 = 4\t3 x 2 = 6\t4 x 2 = 8\t5 x 2 = 10\t6 x 2 = 12\t7 x 2 = 14\t8 x 2 = 16\t9 x 2 = 18\t\n",
      "\n",
      "2 x 3 = 6\t3 x 3 = 9\t4 x 3 = 12\t5 x 3 = 15\t6 x 3 = 18\t7 x 3 = 21\t8 x 3 = 24\t9 x 3 = 27\t\n",
      "\n",
      "2 x 4 = 8\t3 x 4 = 12\t4 x 4 = 16\t5 x 4 = 20\t6 x 4 = 24\t7 x 4 = 28\t8 x 4 = 32\t9 x 4 = 36\t\n",
      "\n",
      "2 x 5 = 10\t3 x 5 = 15\t4 x 5 = 20\t5 x 5 = 25\t6 x 5 = 30\t7 x 5 = 35\t8 x 5 = 40\t9 x 5 = 45\t\n",
      "\n",
      "2 x 6 = 12\t3 x 6 = 18\t4 x 6 = 24\t5 x 6 = 30\t6 x 6 = 36\t7 x 6 = 42\t8 x 6 = 48\t9 x 6 = 54\t\n",
      "\n",
      "2 x 7 = 14\t3 x 7 = 21\t4 x 7 = 28\t5 x 7 = 35\t6 x 7 = 42\t7 x 7 = 49\t8 x 7 = 56\t9 x 7 = 63\t\n",
      "\n",
      "2 x 8 = 16\t3 x 8 = 24\t4 x 8 = 32\t5 x 8 = 40\t6 x 8 = 48\t7 x 8 = 56\t8 x 8 = 64\t9 x 8 = 72\t\n",
      "\n",
      "2 x 9 = 18\t3 x 9 = 27\t4 x 9 = 36\t5 x 9 = 45\t6 x 9 = 54\t7 x 9 = 63\t8 x 9 = 72\t9 x 9 = 81\t\n",
      "\n"
     ]
    }
   ],
   "source": [
    "# 구구단 표를 만드려면?\n",
    "# 명령 프롬프트에 출력값을 찍을 때는 줄단위로 찍는다! \n",
    "# i x j = i*j\n",
    "for j in range(1, 10):\n",
    "    for i in range(2, 10):\n",
    "        print(f\"{i} x {j} = {i*j}\", end=\"\\t\") \n",
    "        if i == 9:\n",
    "            print(\"\\n\") # print()도 가능하다. 자동으로 end = \"\\n\"이니까!\n",
    "            # 이 코드의 경우 두 번 enter 되서 간격이 넓은 거임!!!!"
   ]
  },
  {
   "cell_type": "code",
   "execution_count": null,
   "id": "04dfbfec-74e4-42d9-a2de-5a617621d946",
   "metadata": {
    "slideshow": {
     "slide_type": "skip"
    }
   },
   "outputs": [],
   "source": [
    "# 컴프리헨션"
   ]
  },
  {
   "cell_type": "code",
   "execution_count": 35,
   "id": "1106ed4e-da2f-4b37-967b-e436721d4ea3",
   "metadata": {
    "slideshow": {
     "slide_type": "skip"
    }
   },
   "outputs": [
    {
     "data": {
      "text/plain": [
       "[(10, 100),\n",
       " (30, 300),\n",
       " (70, 700),\n",
       " (5, 50),\n",
       " (5, 50),\n",
       " (120, 1200),\n",
       " (700, 7000),\n",
       " (1, 10),\n",
       " (35, 350),\n",
       " (35, 350)]"
      ]
     },
     "execution_count": 35,
     "metadata": {},
     "output_type": "execute_result"
    }
   ],
   "source": [
    "# (7) 다음 리스트의 원소들에 10배한 값을 (원래값, 10배값) 의 튜플 묶음으로 가지는 리스트를 만드시오 (리스트 컴프리헨션 이용)\n",
    "# Ex) [(10,100), (30,300), .., (35, 350)]\n",
    "lst = [10, 30, 70, 5, 5, 120, 700, 1, 35, 35]\n",
    "[(i, i*10) for i in lst]"
   ]
  },
  {
   "cell_type": "code",
   "execution_count": 36,
   "id": "dc60c3aa-6069-400c-b2f7-6182612c861f",
   "metadata": {
    "slideshow": {
     "slide_type": "skip"
    }
   },
   "outputs": [
    {
     "data": {
      "text/plain": [
       "[3, 33, 21, 33, 60, 120]"
      ]
     },
     "execution_count": 36,
     "metadata": {},
     "output_type": "execute_result"
    }
   ],
   "source": [
    "# (8) 다음 리스트가 가진 값들 중 3의 배수만 가지는 리스트를 만드시오. (리스트 컴프리헨션 이용)\n",
    "lst2 = [3, 20, 33, 21, 33, 8, 11, 10, 7, 17, 60, 120, 2]\n",
    "[i for i in lst2 if i % 3 ==0]"
   ]
  },
  {
   "cell_type": "code",
   "execution_count": 26,
   "id": "2a3e8295-66c5-4fde-8054-0ea5627e7b45",
   "metadata": {
    "slideshow": {
     "slide_type": "skip"
    }
   },
   "outputs": [
    {
     "data": {
      "text/plain": [
       "['a.exe', 'function.exe', 'b.exe', 'run.exe']"
      ]
     },
     "execution_count": 26,
     "metadata": {},
     "output_type": "execute_result"
    }
   ],
   "source": [
    "# (9)) 다음 파일이름들을 담은 리스트에서 확장자가 exe인 파일만 골라서 새로운 리스트에 담으시오.(string의 endswith()함수 이용)\n",
    "file_names = [\n",
    "    \"test.txt\",\n",
    "    \"a.exe\",\n",
    "    \"jupyter.bat\",\n",
    "    \"function.exe\",\n",
    "    \"b.exe\",\n",
    "    \"cat.jpg\",\n",
    "    \"dog.png\",\n",
    "    \"run.exe\",\n",
    "    \"i.dll\",\n",
    "]\n",
    "[name for name in file_names if name.endswith(\"exe\")]"
   ]
  },
  {
   "cell_type": "code",
   "execution_count": 27,
   "id": "065d9e48-c645-4bcc-ad6e-c307a6404086",
   "metadata": {},
   "outputs": [
    {
     "data": {
      "text/plain": [
       "False"
      ]
     },
     "execution_count": 27,
     "metadata": {},
     "output_type": "execute_result"
    }
   ],
   "source": [
    "\"test.txt\".endswith(\"exe\")"
   ]
  },
  {
   "cell_type": "code",
   "execution_count": 28,
   "id": "5ed17aa6-72dc-4310-aa23-8f5c54f74b5d",
   "metadata": {
    "slideshow": {
     "slide_type": "skip"
    }
   },
   "outputs": [
    {
     "data": {
      "text/plain": [
       "['mystroy.txt: 11글자', 'jupyter.bat: 11글자', 'function.exe: 12글자']"
      ]
     },
     "execution_count": 28,
     "metadata": {},
     "output_type": "execute_result"
    }
   ],
   "source": [
    "# (10) 다음 중 10글자 이상인 파일명(확장자포함)만 가지는 리스트를 만드시오.\n",
    "file_names = [\n",
    "    \"mystroy.txt\",\n",
    "    \"a.exe\",\n",
    "    \"jupyter.bat\",\n",
    "    \"function.exe\",\n",
    "    \"b.exe\",\n",
    "    \"cat.jpg\",\n",
    "    \"dog.png\",\n",
    "    \"run.exe\",\n",
    "    \"i.dll\",\n",
    "]\n",
    "[f\"{name}: {len(name)}글자\" for name in file_names if len(name) >= 10]"
   ]
  },
  {
   "cell_type": "code",
   "execution_count": null,
   "id": "4e2471d2-33ea-4fdb-86bb-b0af7bf1c500",
   "metadata": {},
   "outputs": [],
   "source": []
  }
 ],
 "metadata": {
  "kernelspec": {
   "display_name": "Python 3 (ipykernel)",
   "language": "python",
   "name": "python3"
  },
  "language_info": {
   "codemirror_mode": {
    "name": "ipython",
    "version": 3
   },
   "file_extension": ".py",
   "mimetype": "text/x-python",
   "name": "python",
   "nbconvert_exporter": "python",
   "pygments_lexer": "ipython3",
   "version": "3.12.7"
  },
  "toc": {
   "base_numbering": 1,
   "nav_menu": {},
   "number_sections": true,
   "sideBar": true,
   "skip_h1_title": false,
   "title_cell": "Table of Contents",
   "title_sidebar": "Contents",
   "toc_cell": false,
   "toc_position": {},
   "toc_section_display": true,
   "toc_window_display": false
  },
  "varInspector": {
   "cols": {
    "lenName": 16,
    "lenType": 16,
    "lenVar": 40
   },
   "kernels_config": {
    "python": {
     "delete_cmd_postfix": "",
     "delete_cmd_prefix": "del ",
     "library": "var_list.py",
     "varRefreshCmd": "print(var_dic_list())"
    },
    "r": {
     "delete_cmd_postfix": ") ",
     "delete_cmd_prefix": "rm(",
     "library": "var_list.r",
     "varRefreshCmd": "cat(var_dic_list()) "
    }
   },
   "types_to_exclude": [
    "module",
    "function",
    "builtin_function_or_method",
    "instance",
    "_Feature"
   ],
   "window_display": false
  }
 },
 "nbformat": 4,
 "nbformat_minor": 5
}
