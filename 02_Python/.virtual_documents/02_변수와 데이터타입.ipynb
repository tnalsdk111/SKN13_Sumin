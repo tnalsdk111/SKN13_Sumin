




















# 변수 이름 규칙 연습
a = 10
b = 20


a


a + b


a
b # b 값인 20만 출력된다. 
# REPL 방식상, 위처럼 두 개 다 치면 마지막 것만 나오게 된다 


print(a)
print(b)








print(a, end= " ")
print(b, end="??")


print(a, b, end=" 끝!", sep= ", ")


age = 10 # 변수 생성 (초기화)


age = 30 # 변수 값을 변경














x = y = z = 100
print(x, y, z)


a, b, c = 1, 2, 3
print(a, b, c)


x = 10
x = x + 20
print(f'x + 20은 {x}')
x += 20
print(x)

















x


del x # x를 메모리에서 제거


# x를 출력 시 NameError














customer_age = None
print(customer_age)














500_000 # 정수부에 단위 구분자로 _ 사용 가능








10 / 3 # 나누기


10 // 3 # 몫


10 % 3 # 나머지








print(bool(0))
print(bool(1))


# control + / : 주석 단축키


bool("") # False.
bool(" ") # True. 공백 문자 있음.








weather = input("오늘의 날씨: ")


print(weather)














x = 25
x > 10


(x>5)^(x<4) # T ^ F => 두 개가 다르니 True


not x > 30 # 30보다 크지 "않니?"











age = input("나이: ") # 입력받은 값을 문자열로 변환
age = int(age) # 입력받은 값을 정수로 변환


# 입력 받은 나이가 20 이상이면 성인, 미만이면 미성년을 반환.
"성인" if age >=20 else "미성년"


"미성년" if age <20 else "장년" if age >=40 else "청년"











print("Hello World \n 안녕하세요")


"""
Hello World
안녕하세요!
"""


print("안녕하세요\b")














print("내용1")
print("-"*50)
print("내용2")








address = "서울특별시 금천구 독산동 대륭 17차"
"서울" not in address
# "경기" not in address











len("abc e")


len("\t")


user_id = input("ID: ")


"사용가능" if len(user_id)>3 else "세 글자 이상으로 입력하세요."

















s = "안녕하세요. 반갑습니다."
print(len(s))


print(s[0], s[-13])


print(s[-1], s[12])











s = "안녕하세요. 반갑습니다."


s[1:4:2]


s[::-1] # 역순으로 불러온다 








age = 30
name = "이순신"


layout = "이름: {}, 나이: {}세"
info = layout.format(name, age) # {}에 들어갈 값을 순서대로 나열 
print(info)








info3 = "이름: %s, 나이: %d" %(name, age)
# 자리에 각각 문자열과 정수여야 해





print(info3)


name = "안수민"
tall = 166.7
age = 22
info = "이름: %s, 나이: %d, 키: %.2f" %(name, age, tall)


print(info)








info = "이름: {}, 나이: {}, 키: {}".format(name, age, tall)
print(info)


info = f"이름: {name}, 나이: {age}, 키: {tall}"
print(info)








s = "사과 배 오렌지 귤 수박"
s.split() # 공백을 기준으로 문자열을 쪼갠다.


s = "사과, 배, 오렌지, 귤, 수박"
s.split(", ")


s = "    abc  "
s.strip()


len(s) # 전체 글자 수 (함수)


s.count(" ") # 공백은 몇 글자? (문자열 메소드)


s = "asdfgh"
s.index("fg")
# a s d fg h => index 3


s.find("fg")


# s.index("가나") # 없는 걸 조회하면 에러가 날 수 있음.
s.find("가나") # 없는 걸 조회하면 -1을 반환함.





url = "https://www.naver.com"
url.startswith("https") # url이 "https"로 시작하는가?


url.endswith("com") # url이 "com"으로 끝나는가?


"naver" in url # "naver"가 url 안에 있는가?




















# 변수: 타입힌트 = 10
name: str = "홍길동"
age: int = 13


# 주석처럼 진짜 힌트를 달기도
name:"학생의 이름" = "홍길동"


name = 3000 # 에러가 나지는 않는다.








#1. 주민번호 "901211-1027213"의 앞 6자리만 조회해서 출력하시오.
print("901211-1027213"[0:6])


# 1.
"901211-1027213".split("-")[0]


#2. "안녕하세요" 를 10번 출력하시오.
print("안녕하세요 "*10)


#3. 다음 문자열의 글자수를 출력하시오.
str_value = "akdlclkdkdlelql39du7마구0ㅌ" 
len(str_value)


#4.
name="TV"
price=300000
maker = "LG"
# 위 변수의 값을 다음과 같은 형태로 출력하시오.
#"제품명 : TV, 가격 : 300000, 제조사 : LG"
f"제품명 : {name}, 가격 : {price}, 제조사 : {maker}"


#5.
fruits = "사과 복숭아 귤 배"
# 위 fruits에 "수박"이 있는지 확인하는 코드를 작성하시오.
"수박이 있습니다." if "수박" in fruits else "수박이 없습니다."


#6.
str_value="aldkjaldjfalfjlksajfladlkaalalkdjfa"
# str_value 문자열안에 a가 몇개 있는지 출력하시오.
str_value.count("a")


#7. 두개의 정수를 입력받아서 곱한 결과를 출력하는 코드를 작성하세요.
x = int(input("첫번째 정수: "))
y = int(input("두번째 정수: "))
print(f"x * y는 {x*y}")
