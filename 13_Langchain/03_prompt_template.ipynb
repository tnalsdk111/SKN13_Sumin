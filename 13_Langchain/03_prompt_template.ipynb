{
 "cells": [
  {
   "cell_type": "markdown",
   "id": "a7f3698b-4cce-4d82-9a4b-e288c5b2fba8",
   "metadata": {},
   "source": [
    "# Model IO\n",
    "- **Model IO**는 프롬프트(prompt)를 언어 모델에 입력하고, 그 결과로 생성된 출력을 처리하는 일련의 과정과 그 구성 요소를 의미한다.\n",
    "- 주로 **프롬프트 템플릿**, **언어 모델**, **출력 파서**로 구성된다.\n",
    "\n",
    "## 모델 IO 구성 요소\n",
    "- **프롬프트 템플릿**\n",
    "  - LLM(대규모 언어 모델, Large Language Model)에 전달할 프롬프트를 생성하는 데 사용되는 형식이다.\n",
    "  - 사용자 입력이나 고정된 형식을 기반으로 프롬프트를 구조화하여 LLM에 전달한다.\n",
    "- **언어 모델**\n",
    "\n",
    "  - LLM은 프롬프트를 바탕으로 텍스트를 생성하거나 입력 내용을 분석하여 결과를 도출한다.\n",
    "\n",
    "- **출력 파서**\n",
    "\n",
    "  - LLM의 출력에서 필요한 정보를 추출하거나, 시스템에서 활용하기 적합한 형식으로 변환하는 역할을 한다.\n",
    "  - 출력 데이터를 정제하고 구조화하여 다음 단계에서 쉽게 활용할 수 있도록 후처리한다.\n",
    "\n",
    "![model id](figures/model_io.jpg)"
   ]
  },
  {
   "cell_type": "markdown",
   "id": "07a8d1d7-a52d-4eff-83fc-35e43e265b81",
   "metadata": {},
   "source": [
    "# 프롬프트(Prompt)\n",
    "\n",
    "- 생성형 인공지능 모델에게 작업을 요청하기 위해 입력하는 값이다.\n",
    "- 일반적으로 사람이 사용하는 자연어로 작성된다.\n",
    "\n",
    "## 프롬프트 엔지니어링(Prompt Engineering)\n",
    "\n",
    "- 생성형 인공지능 모델로부터 **원하는 결과를 얻기 위해 프롬프트를 설계하고 최적화하는 기법**을 말한다.\n",
    "- 더 나은 품질의 응답을 얻기 위해 프롬프트를 구조화하고 조정하는 작업이다.\n",
    "- 프롬프트 엔지니어링은 생성형 인공지능 모델의 능력과 특성을 깊이 이해한 뒤, **일관되고 정확한 응답이 생성되도록** 프롬프트를 작성하는 데 초점을 둔다.\n",
    "  - 생성형 인공지능 모델은 각각 성능과 동작 방식에 차이가 있으므로, 목적에 맞는 모델을 선택하고 그에 맞는 프롬프트를 작성하는 것이 중요하다.\n",
    "  - 핵심은 **사용자의 의도에 부합하는 응답을 일관되게 이끌어내는 것**이다.\n",
    "    - 같은 질문이라도 생성형 인공지능은 응답이 조금씩 달라질 수 있다.\n",
    "    - 하지만 의미가 달라지거나 의도가 왜곡되면 안 되므로, **의미의 일관성을 유지하는 프롬프트 설계**가 중요하다.\n",
    "- 프롬프트 엔지니어링은 별도의 추가 학습(fine-tuning) 없이도 원하는 결과를 얻을 수 있게 해주어, **언어 모델 구축에 필요한 시간과 비용을 획기적으로 줄여준다**.\n",
    "  - 프롬프트는 자연어로 작성되므로, 딥러닝이나 모델 구조에 대한 깊은 전문지식 없이도 인공지능의 응답 품질을 향상시킬 수 있다."
   ]
  },
  {
   "cell_type": "markdown",
   "id": "ef4c15a5-2ecb-465d-b9fe-3e0e6741db99",
   "metadata": {},
   "source": [
    "## 프롬프트의 구성 요소\n",
    "\n",
    "프롬프트는 일반적으로 다음 네 가지 요소로 구성될 수 있다.\n",
    "단, 모든 프롬프트가 이 모든 요소를 반드시 포함해야 하는 것은 아니다.\n",
    "\n",
    "- **지시(Instruction)**: 생성형 인공지능 모델이 수행해야 할 작업에 대한 명확한 지침.\n",
    "  - 예: “다음 문장을 요약하라”, “코드를 설명하라”\n",
    "- **문맥(Context)**: 더 정확한 응답을 유도하기 위해 제공하는 배경 정보나 추가 문맥.\n",
    "  - 예: 대화 이력, 도메인 지식, 사용자 정보 등\n",
    "- **입력 데이터(Input Data)**: 모델이 처리해야 하는 구체적인 입력값. 이는 질문 형태일 수도 있고, 문서, 표, 코드 등 다양한 형태의 데이터일 수 있다.\n",
    "- **출력 지시자(Output Indicator)**: 모델이 생성할 응답의 형식이나 조건을 지정하는 요소.\n",
    "  - 예: “JSON 형식으로 출력하라”, “목록 형태로 작성하라”, “200자 이내로 요약하라” \n",
    "\n",
    "\n",
    "- 예:\n",
    "```markdown\n",
    "## Instruction (지시)\n",
    "다음 뉴스 기사를 읽고 핵심 내용을 요약하라.\n",
    "\n",
    "## Context (문맥)\n",
    "사용자는 바쁜 직장인으로, 전체 기사를 읽을 시간이 없다. 핵심 정보만 빠르게 파악하고 싶어한다.\n",
    "\n",
    "## Input Data (입력 데이터)\n",
    "[기사 원문]\n",
    "오늘 오전, 서울 강남구 일대에 시간당 80mm가 넘는 집중호우가 내려 도로 일부가 침수되고, 차량 통제가 이루어졌다. 기상청은 이 같은 집중호우가 오후까지 계속될 것으로 전망하면서 시민들의 외출 자제를 당부했다. 서울시 역시 재난 문자를 통해 대중교통 이용을 권고하고 있다. ...\n",
    "\n",
    "## Output Indicator (출력 지시자)\n",
    "한 문단(3줄 이내)으로 요약하라. 일반인이 쉽게 이해할 수 있는 문장을 사용하라.\n",
    "```"
   ]
  },
  {
   "cell_type": "markdown",
   "id": "84895274-7d51-417f-9284-86b2433f7f9a",
   "metadata": {},
   "source": [
    "# Prompt 작성 가이드\n",
    "한 번에 완성도 높은 프롬프트를 만드는 것은 쉽지 않다. **결과를 반복적으로 확인하고, 그에 따라 점진적으로 개선**해 나가는 과정이 필요하다.\n",
    "처음에는 간단한 프롬프트로 시작한 뒤, 답변을 검토하면서 다양한 요소와 맥락 정보(context)를 추가하며 점차 발전시킨다.\n",
    "\n",
    "## 1. 명확성 (Clarity)\n",
    "\n",
    "모델이 무엇을 해야 하는지 오해 없이 이해할 수 있도록 프롬프트의 목적과 지시를 분명하고 논리적으로 작성한다. 프롬프트 내용에 추상적이거나 모호한 표현보다는 구체적이고 명확한 용어를 사용한다.\n",
    "\n",
    "- **좋은 예시**:\n",
    "\n",
    "  ```\n",
    "  이 문장을 더 간결한 표현으로 바꿔줘.\n",
    "  ```\n",
    "   \"간결한 표현\" 이라는 명확한 지시를 포함하고 있다.\n",
    "- **나쁜 예시**:\n",
    "\n",
    "  ```\n",
    "  이 문장을 다르게 바꿔줘.\n",
    "  ```\n",
    "  내용을 다르게 하려는 건지 단어를 다르게 하라는 건지 \"다르게\"의 의미가 불분명하다. \n",
    "\n",
    "\n",
    "## 2. 구체성 (Specificity)\n",
    "\n",
    "모델의 답변 범위를 좁혀 원하는 결과를 얻으려면, **대상, 형식, 범위, 답변 글자 수 등의 제약 조건을 구체적으로 명시하고, 구체적인 정보와 조건을 함께 제시하는 것이 효과적**이다\n",
    "\n",
    "- **좋은 예시**:\n",
    "\n",
    "  ```\n",
    "  한국의 최근 5년 동안 인공지능 산업 성장률을 표 형식으로 나타내라.\n",
    "  ```\n",
    "  정확히 원하는 주제와 출력 형식을 구체적으로 알려주고 있다.\n",
    "- **나쁜 예시**:\n",
    "\n",
    "  ```\n",
    "  한국 인공지능 산업을 말해줘.\n",
    "  ```\n",
    "  인공지능 산업의 어떤 측면에 대해 말하는지 알 수 없어 대상범위가 너무 넓다.\n",
    "\n",
    "\n",
    "## 3. 간결성 (Conciseness)\n",
    "\n",
    "프롬프트는 핵심만 간결하게 전달하되, 필요한 모든 정보를 담아야 한다. 불필요하게 긴 문장은 오히려 혼란을 준다.\n",
    "\n",
    "- **좋은 예시**:\n",
    "\n",
    "  ```\n",
    "  삼국시대 신라의 통일 과정을 3문장으로 요약하라.\n",
    "  ```\n",
    "\n",
    "- **나쁜 예시**:\n",
    "\n",
    "  ```\n",
    "  신라가 삼국을 통일하게 된 배경, 과정, 결과, 그 이후의 역사적 영향을 모두 말해줘. 하지만 너무 길지 않게 짧게 요약해서 적당히 답해주길 바래.\n",
    "  ```\n",
    "\n",
    "## 4. 명시적 지시 (Explicit Instruction)\n",
    "\n",
    "모델이 해야 **무엇을 해야 하는 지를** 구체적이고 명확하게 지시한다. 모호한 요청은 잘못된 응답을 초래할 수 있다.   \n",
    "**명확성이 내용의 구체/명확성**이라면 **명시적 지시는 모델이 해야하는 일**의 구체/명확성을 말한다.\n",
    "\n",
    "- **좋은 예시**:\n",
    "\n",
    "  ```\n",
    "  아래 문장을 감정 분석하여 긍정, 부정, 중립 중 하나로 분류하라:\n",
    "  \"오늘 날씨가 정말 좋다.\"\n",
    "  ```\n",
    "- **나쁜 예시**:\n",
    "\n",
    "  ```\n",
    "  이 문장은 어때?\n",
    "  ```\n",
    "\n",
    "## 5. 제약 조건 명시 프롬프트 (Constraint Prompting)\n",
    "\n",
    "출력 형식이나 조건을 명확히 제한하여 지시하는 기법이다. 예: “100자 이내로 요약하라” 혹은 “세 가지 항목으로 목록을 만들어라.” 이처럼 프롬프트에 조건을 명시하면, 모델은 이를 충실히 따르려 한다.\n",
    "\n",
    "- **제약 조건 요소들**:\n",
    "  - 글자수/문장 수 제한\n",
    "  - 출력 형식(JSON, 표 등)\n",
    "  - 어조 유지\n",
    "  - 금지어 제외\n",
    "  - 필수 키워드 포함\n",
    "- **주의 사항**: 조건이 지켜지지 않을 경우 프롬프트를 더 구체화하거나 시스템 메시지를 사용할 수 있다.\n",
    "\n",
    "- **좋은 예시**:\n",
    "\n",
    "  ```\n",
    "  한국, 미국, 중국의 인구를 다음 형식의 표로 나타내라:\n",
    "\n",
    "  | 국가 | 인구 (백만명) |\n",
    "  |------|--------------|\n",
    "  |      |              |\n",
    "  ```\n",
    "  ```\n",
    "  다음 문장을 세 줄로 요약한다. 각 줄은 10단어 이내로 작성한다.\n",
    "  [요약할 내용]\n",
    "  ...\n",
    "  ```\n",
    "\n",
    "## 6. 역할 정의 (Role Definition, Persona)\n",
    "\n",
    "모델에게 명확한 역할이나 페르소나를 부여하여 일관된 응답을 얻는다. \n",
    "페르소나(persona, 역할)을 지정하면 **모델의 사고방식, 응답구조, 언어 선택, 논리 전개방식, 답변 어투와 같은 스타일**을 그 역할에 맞게 유도할 수있다. 역할을 부여하면 모델의 응답을 원하는 맥락과 분야에 맞춰 조율 할 수있고 설명이나 추론의 명확성과 일관성을 높일 수있다.   \n",
    "또한 여러 페르소나를 설정하면 다자간 토론이나 대화 시뮬레이션을 진행할 수 있다.\n",
    "\n",
    "- **좋은 예시**:\n",
    "\n",
    "  ```\n",
    "  너는 초등학교 과학 선생님이다. 물의 순환 과정을 학생들에게 쉽게 설명하라.\n",
    "  ```\n",
    "  초등학교 과학 선생님이라는 역할에 맞게 쉬운 말투, 따듯한 어조, 단계적 설명 등을 사용해 응답한다.\n",
    "  \n",
    "  ```\n",
    "  토론자 A는 기술 낙관주의자, B는 기술 회의론자이다. 서로의 입장을 정리한 토론을 생성하라.\n",
    "  ```\n",
    "\n",
    "## 7. 단계별 지시 (Step-by-Step Instruction)\n",
    "\n",
    "복잡한 작업을 명확하고 실행가능한 단계들로 나눠 요청한다. \n",
    "\n",
    "  - **나쁜 예시**\n",
    "\n",
    "  ```\n",
    "  우리 회사 매출 데이터를 분석해서 좋은 보고서를 만들어줘. 작년과 비교하고 문제점도 찾고 해결책도 제시해줘.\n",
    "  ```\n",
    "\n",
    "  - **좋은 예시**:\n",
    "  ```\n",
    "  다음 단계에 따라 비즈니스 분석 보고서를 작성해주세요:\n",
    "\n",
    "  **1단계: 데이터 검토**\n",
    "  - 첨부된 매출 데이터 CSV 파일을 읽고 구조를 파악하세요\n",
    "  - 데이터의 기간, 항목, 누락값 여부를 확인하세요\n",
    "  \n",
    "  **2단계: 기초 분석**\n",
    "  - 2024년 월별 매출 추이를 계산하세요\n",
    "  - 2023년 같은 기간과 비교하여 증감률을 구하세요\n",
    "  - 상위 5개 제품군별 매출 비중을 분석하세요\n",
    "  \n",
    "  **3단계: 문제점 식별**\n",
    "  - 매출 감소가 발생한 구간을 찾아내세요\n",
    "  - 감소폭이 10% 이상인 제품군을 특정하세요\n",
    "  - 계절성 요인과 구조적 요인을 구분하세요\n",
    "  \n",
    "  **4단계: 해결책 제시**\n",
    "  - 각 문제점에 대해 구체적인 개선안을 3개씩 제시하세요\n",
    "  - 예상 효과와 실행 난이도를 5점 척도로 평가하세요\n",
    "  - 우선순위 순으로 정렬하세요\n",
    "  \n",
    "  **5단계: 최종 보고서**\n",
    "  - 위 분석을 바탕으로 경영진용 요약 보고서를 작성하세요\n",
    "  - 차트 3개와 핵심 지표 테이블을 포함하세요\n",
    "  - 결론은 3줄 이내로 압축하세요\n",
    "  ```\n",
    "\n",
    "## 8. 샷 수 제어 프롬프트 (Zero-shot, One-shot, Few-shot)\n",
    "\n",
    "**샷 수 제어**란 예시(데몬스트레이션)의 수에 따라 제로샷, 원샷, 퓨샷으로 나누는 기법이다.\n",
    "\n",
    "- **제로샷**: 예시 없이 바로 요청.\n",
    "- **원샷**: 하나의 예시 제공 후 요청.\n",
    "- **퓨샷**: 여러 개의 예시 제공 후 요청.\n",
    "\n",
    "- **좋은 예시** (Few-shot 예시):\n",
    "\n",
    "  ```\n",
    "  예시:\n",
    "  Q: 일본의 수도는?  \n",
    "  A: 도쿄  \n",
    "  Q: 영국의 수도는?  \n",
    "  A: 런던  \n",
    "\n",
    "  Q: 호주의 수도는?  \n",
    "  A:\n",
    "  ```\n",
    "\n",
    "## 9. 열린 질문(Open-ended question) 사용\n",
    "구체적인 지시 대신 AI에게 무엇이 필요한지를 묻는 질문을 한다. 이를 통해 **우리가 생각지 못했던 다양한 관점에서 문제를 해결**할 수 있다.\n",
    "열린 질문은 모델의 창의성, 추론 능력, 통찰력을 끌어내는 데 매우 유용하다.\n",
    "특히 아이디어 발상, 브레인스토밍, 전략 수립, 사용자 인터뷰 시뮬레이션 등에 효과적이다.\n",
    "- **예시**:\n",
    "  ```\n",
    "  우리 서비스가 고객에게 제공할 수 있는 새로운 가치는 무엇이 있을까?\n",
    "\n",
    "  현재 시장에서 간과되고 있는 기회는 어떤 게 있을까?\n",
    "\n",
    "  이 기능이 실제로 사용자의 삶에 어떤 영향을 줄 수 있을까?\n",
    "  ```\n",
    "\n",
    "## 10. 맥락(context) 제공\n",
    "요청하는 작업의 배경을 설명한다. 이를 통해 모델의 응답에 정확도, 일관성, 관련성을 높일 수 있다.\n",
    "\n",
    "- **맥락없는 예시**:\n",
    "  ```\n",
    "  고객 이탈을 줄일 수 있는 전략은 무엇인가?\n",
    "  ```\n",
    "- **맥락을 제공한 예시**:\n",
    "  ```\n",
    "  우리는 월 20%의 고객 이탈률을 겪고 있는 구독 기반 온라인 교육 서비스이다.\n",
    "  주요 고객층은 30대 직장인이고, 이탈 주요 원인은 콘텐츠 부족과 동기 저하이다.\n",
    "  이탈률을 줄이기 위한 실질적인 전략을 제안해줘.\n",
    "  ```\n",
    "\n",
    "## 11. 윤리적 사용 (Ethical Usage)\n",
    "\n",
    "모델이 차별적, 공격적, 부정확하거나 편향된 답변을 생성하지 않도록 프롬프트 내용을 주의해서 작성한다.\n",
    "\n",
    "- **좋은 예시**:\n",
    "\n",
    "  ```\n",
    "  인공지능 기술이 사회에 미치는 긍정적 영향과 부정적 영향을 균형 있게 설명하라.\n",
    "  ```\n",
    "\n",
    "- **나쁜 예시**:\n",
    "\n",
    "  ```\n",
    "  인공지능이 인간의 일자리를 빼앗는다는 것을 증명해봐.\n",
    "  ```\n",
    "  인공지능이 사람의 일자리를 뺏는다는 결론을 미리 내리고 질문하고 있다. 이는 특정 결론을 강요하는 형태로 모델이 편향된 정보만 수집하여 편향된 결론을 내리도록 유도한다."
   ]
  },
  {
   "cell_type": "markdown",
   "id": "97f0d968",
   "metadata": {},
   "source": [
    "# 주요 프롬프트 엔지니어링 기법\n",
    "\n",
    "## Chain of Thought (사고 연쇄-CoT)\n",
    "\n",
    "### 개념\n",
    "\n",
    "Chain of Thought는 복잡한 문제를 해결할 때 단계별로 사고 과정을 보여주는 방법이다. 마치 수학 문제를 풀 때 중간 과정을 하나씩 적어가며 답을 구하는 것처럼, AI가 답을 도출하는 과정을 차근차근 설명하는 기법이다.\n",
    "\n",
    "일반적으로 AI는 질문을 받으면 바로 최종 답만 제시한다. 하지만 Chain of Thought를 사용하면 \"첫 번째로 이것을 생각하고, 두 번째로 저것을 고려하고, 따라서 결론은...\" 같은 식으로 사고 단계를 명확히 보여준다.\n",
    "\n",
    "이 방법을 사용하면 복잡한 추론이나 수학 문제, 논리적 사고가 필요한 상황에서 더 정확한 답을 얻을 수 있다. 또한 AI가 어떤 과정을 거쳐 그 답에 도달했는지 이해할 수 있어서 더 신뢰할 수 있다.\n",
    "\n",
    "### 방법\n",
    "- **Zero-shot Chain of Thought**\n",
    "    - 프롬프트에 \"단계적으로 풀어보자\", \"차근 차근 생각해보자\", \"Think step by step\" 같은 말을 입력해 모델이 스스로 단계를 밟아가며 추론하도록 한다.\n",
    "-  **Few-shot Chain of Thought**\n",
    "    -  직접 문답 형식의 예를 작성해서 프롬프트에 넣는다.\n",
    "\n",
    "### 예시\n",
    "\n",
    "```\n",
    "Q: 카페에서 커피 3잔과 케이크 2개를 샀는데, 커피 한 잔이 4,500원, 케이크 한 개가 6,000원일 때 총 얼마를 지불해야 하나요?\n",
    "\n",
    "A: 단계별로 계산해보겠습니다.\n",
    "\n",
    "1단계: 커피 총 가격 계산\n",
    "- 커피 한 잔: 4,500원\n",
    "- 커피 3잔: 4,500원 × 3 = 13,500원\n",
    "\n",
    "2단계: 케이크 총 가격 계산  \n",
    "- 케이크 한 개: 6,000원\n",
    "- 케이크 2개: 6,000원 × 2 = 12,000원\n",
    "\n",
    "3단계: 총 금액 계산\n",
    "- 커피 총 가격 + 케이크 총 가격\n",
    "- 13,500원 + 12,000원 = 25,500원\n",
    "\n",
    "따라서 총 25,500원을 지불해야 합니다.\n",
    "\n",
    "Q: 사과 10개, 배 3개, 수박 5통을 샀습니다. 사과는 개당 5300원, 배는 12000원, 수박은 21000원입니다. 총 비용은 얼마인가요?\n",
    "\n",
    "A:\n",
    "```\n",
    "\n",
    "\n",
    "## Tree-of-Thought (생각의 나무 - ToT)\n",
    "Tree-of-Thought (ToT) 프롬프트 엔지니어링 기법은 복잡한 문제 해결을 위한 사고 과정을 트리 구조로 모델링 해서 LLM 모델이 단일한 직선적인(Sequential) 사고과정이 아니라, **다양한 경로(branch)를 통해** 문제를 해결하도록 유도하는 프롬프트 설계 기법이다.\n",
    "\n",
    "기존의 Chain-of-Thought(CoT)는 문제를 \"하나의 직선적 단계\"로 나누어 풀이한다.\n",
    "반면, ToT는 각 단계에서 여러 가지 대안적 접근이나 아이디어를 분기점(branch)으로 만들어 트리처럼 확장하면서, 각 분기마다 탐색(explore)과 평가(evaluate)를 반복한다.\n",
    "이러한 방식은 AI에게 \"여러 가능성을 동시에 탐색-비교-선택\"하게 하여 **수학적 문제 해결, 창작 활동, 전략적 계획 수립, 코딩 문제, 의사결정**등 복잡한 추론이 필요한 영역에서 특히 효과적이다.\n",
    "\n",
    "### Tree-of-Thought 프롬프트 구조\n",
    "1. 문제 제시\n",
    "2. 하위 문제/접근 방식 분기 요청\n",
    "    - \"이 문제를 해결하는 다양한 방법을 생각해보세요.\"\n",
    "    - \"가능한 경우의 수, 가설, 전략을 모두 나열해보세요.\"\n",
    "3. 각 브랜치별 세부 풀이 요청\n",
    "    - \"각 방법(가지)마다 단계별로 자세히 풀이해주세요.\"\n",
    "4. 브랜치 평가/선택 요청\n",
    "    - \"각 방법의 장단점, 성공 가능성, 효율성을 평가하세요.\"\n",
    "    - \"가장 적합한 가지(접근법)를 선택하고, 그 이유를 설명하세요.\"\n",
    "5. 최종 해답 도출\n",
    "\n",
    "### 예시\n",
    "```\n",
    "문제: 도시 내 대중교통 시스템의 효율성을 높이는 방안을 제시하라.\n",
    "\n",
    "1. 이 문제를 해결하기 위한 여러 가지 방법(아이디어)을 나열하세요. 각 방법을 트리의 가지(branch)로 생각해보세요.\n",
    "\n",
    "2. 각 방법마다 구체적인 실행 방안과 예상되는 효과, 문제점을 단계별로 정리하세요.\n",
    "\n",
    "3. 각 방법(가지)별로 장단점을 평가하고, 현실적으로 가장 실행 가능한 방법을 선택하세요.\n",
    "\n",
    "4. 선택한 방법을 더욱 구체화하여 실행 계획을 작성하세요.\n",
    "```\n",
    "\n"
   ]
  },
  {
   "cell_type": "markdown",
   "id": "a7d8dc77",
   "metadata": {},
   "source": [
    "> ## 프롬프트 공유 사이트\n",
    "> - [Langchain Hub](https://smith.langchain.com/hub)\n",
    "> - [Promry](https://www.promry.com/ko)\n",
    "> - [오픈프롬프트](https://www.prpt.ai)\n",
    "> - [Prompt Hero](https://prompthero.com/)"
   ]
  },
  {
   "cell_type": "code",
   "execution_count": null,
   "id": "0feedea6",
   "metadata": {},
   "outputs": [],
   "source": []
  },
  {
   "cell_type": "code",
   "execution_count": 7,
   "id": "c764f9dc",
   "metadata": {},
   "outputs": [
    {
     "name": "stdout",
     "output_type": "stream",
     "text": [
      "첫줄\n",
      "두번째줄\n",
      "세번째줄\n"
     ]
    }
   ],
   "source": [
    "from textwrap import dedent, indent  # 문장의 내어쓰기, 들여쓰기 기능\n",
    "\n",
    "def test():\n",
    "    # 모든 줄이 들여쓰기가 같은 때 내어쓰기를 적용.\n",
    "    txt = dedent(\"\"\"\n",
    "    첫줄\n",
    "    두번째줄\n",
    "    세번째줄\n",
    "    \"\"\")\n",
    "    print(txt.strip())\n",
    "\n",
    "test()"
   ]
  },
  {
   "cell_type": "code",
   "execution_count": 11,
   "id": "85fb37ff-f870-473c-beac-5ade979cfa2d",
   "metadata": {},
   "outputs": [
    {
     "name": "stdout",
     "output_type": "stream",
     "text": [
      "    첫줄\n",
      "    두번째줄\n",
      "    세번째줄\n"
     ]
    }
   ],
   "source": [
    "txt = \"첫줄\\n두번째줄\\n세번째줄\"\n",
    "txt = indent(txt, \" \"*4)\n",
    "print(txt)"
   ]
  },
  {
   "cell_type": "markdown",
   "id": "24d12956",
   "metadata": {},
   "source": [
    "# 프롬프트 템플릿 (Prompt Template)\n",
    "\n",
    "프롬프트 템플릿은 언어 모델(Large Language Model, LLM)에 입력할 **프롬프트를 생성하는 재사용 가능한 템플릿**이다. 프롬프트 작성 시 변수를 포함하여 템플릿화함으로써, 다양한 입력값에 유연하게 대응할 수 있으며, 일관성 있는 결과를 얻는 데 유리하다.\n",
    "\n",
    "## 프롬프트 템플릿의 목적\n",
    "\n",
    "* **재사용성**: 다양한 입력에도 동일한 구조의 프롬프트를 사용할 수 있다.\n",
    "* **유지보수 용이성**: 프롬프트 구조를 표준화하여 관리하기 쉽다.\n",
    "* **자동화 적합성**: 파이프라인이나 응용프로그램 내에서 템플릿 기반으로 프롬프트를 자동 생성할 수 있다.\n",
    "\n",
    "## Langchain의 주요 Prompt Template\n",
    "\n",
    "1. `PromptTemplate`\n",
    "   - 지시형 프롬프트를 생성할 때 사용하는 가장 기본적인 텍스트 기반 템플릿이다.\n",
    "   - **특징**:\n",
    "     - 단순한 텍스트 포맷팅에 사용\n",
    "     - 변수는 중괄호 `{}`를 사용하여 표시\n",
    "     - LLM에게 명령을 내리는 형태의 프롬프트에 적합하다.\n",
    "2. `ChatPromptTemplate`\n",
    "   - 대화형(Chat) 언어 모델에서 사용되는 프롬프트 템플릿으로, 다양한 발화자 역할(예: 시스템, 사용자, AI)을 지정할 수 있다.\n",
    "   - **특징**:\n",
    "     -  역할 기반 메시지를 정의하여 대화 맥락을 유지하기 용이\n",
    "     -  시스템 메시지(지시), 사용자 메시지(입력), AI 메시지(LLM 응답) 등을 구성할 수있다.\n",
    "3. `FewShotPromptTemplate`\n",
    "   - 모델이 작업을 더 잘 수행할 수 있도록 하나 이상의 예제를 포함한 프롬프트를 생성하는 데 사용된다.\n",
    "   - **특징**:\n",
    "     - \"Few-shot learning을 개념을 활용하는 프롬프트를 생성한다.\n",
    "     - 입력 전에 유사한 문제-답변 예제를 제시하여 모델의 성능을 높일 수있다.\n",
    "   - **예시**:\n",
    "      ```python\n",
    "      from langchain.prompts import FewShotPromptTemplate\n",
    "\n",
    "      examples = [\n",
    "          {\"input\": \"2+2\", \"output\": \"4\"},\n",
    "          {\"input\": \"3+5\", \"output\": \"8\"}\n",
    "      ]\n",
    "      example_template = \"Q: {input}\\nA: {output}\"\n",
    "\n",
    "      prompt = FewShotPromptTemplate(\n",
    "          examples=examples,\n",
    "          example_template=example_template,\n",
    "          prefix=\"Answer the following math questions:\",\n",
    "          suffix=\"Q: {input}\\nA:\"\n",
    "      )\n",
    "      ```\n",
    "\n",
    "      ```output\n",
    "      Answer the following math questions:\n",
    "      Q: 2+2\n",
    "      A: 4\n",
    "      Q: 3+5\n",
    "      A: 8\n",
    "      Q: 7+6\n",
    "      A:\n",
    "      ```"
   ]
  },
  {
   "cell_type": "markdown",
   "id": "effe4364-c31d-44ab-a910-b62c22b8fc68",
   "metadata": {},
   "source": [
    "## 프롬프트 템플릿 사용법\n",
    "\n",
    "- 템플릿은 **문자열로 정의**하고, 변수는 `{변수명}` 형식으로 지정한다. 이 변수는 나중에 실제 값으로 대체된다.\n",
    "  - 예시: `\"{country}의 수도는 어디인가요?\"`\n",
    "  - 프롬프트에 `{}` 를 literal로 입력해야 하는 경우 `{{ }}` 로 입력한다.\n",
    "- 생성한 문자열 템플릿을 이용해 Prompt Template 객체를 생성한다.\n",
    "\n",
    "### 공통 메소드\n",
    "\n",
    "프롬프트 템플릿 클래스에서 공통으로 사용하는 주요 메소드는 다음과 같다.\n",
    "\n",
    "- 템플릿 생성 메소드:\n",
    "  - `from_template()`: 문자열 기반 템플릿을 생성한다. `PromptTemplate`, `ChatPromptTemplate` 모두에서 사용된다.\n",
    "  - `from_messages()`: 메시지 객체 기반의 대화형 템플릿을 생성한다. `ChatPromptTemplate` 전용이다.\n",
    "- 프롬프트 생성 메소드:\n",
    "  - `format(변수=값, ...)`: 변수에 값을 넣어 최종 프롬프트 문자열을 생성한다.\n",
    "  - `format_messages(변수=값, ...)`: 메시지 리스트 형식의 프롬프트를 생성한다. `ChatPromptTemplate`에서 사용된다.\n",
    "  - `invoke(dict)`: 변수와 값을 딕셔너리 형태로 전달하여 프롬프트를 생성하고 실행한다.\n",
    "\n",
    "> ## invoke() 메소드\n",
    "> - `invoke()`는 Langchain의 핵심 클래스인 **Runnable**에서 제공하는 공통 메소드이다.\n",
    "> - **Runnable**은 LLM을 활용한 작업 흐름(Chain)을 구성하는 작업 단위 클래스들의 상위 클래스이다.\n",
    "> - `invoke()`는 입력 데이터를 처리하고 결과를 반환하는 메소드이며, 체인의 다음 단계로 결과를 전달한다."
   ]
  },
  {
   "cell_type": "code",
   "execution_count": 14,
   "id": "cadbc96d-35aa-4930-b5c9-323dc308be3e",
   "metadata": {},
   "outputs": [
    {
     "name": "stdout",
     "output_type": "stream",
     "text": [
      "input_variables=['country'] input_types={} partial_variables={} template='{country}의 수도는 어디인가요?'\n"
     ]
    }
   ],
   "source": [
    "from langchain.prompts import PromptTemplate, ChatPromptTemplate\n",
    "\n",
    "template = \"{country}의 수도는 어디인가요?\" # 변경된는 부분 - 변수: {변수명}\n",
    "prompt_template = PromptTemplate(    #.from_template(\n",
    "    template=template\n",
    "    # , input_variables=['country']  # 변수 지정. v 0.3 이후는 생략 가능.\n",
    ")\n",
    "print(prompt_template)"
   ]
  },
  {
   "cell_type": "code",
   "execution_count": 16,
   "id": "dc1f0a56-f618-4ef1-ab89-58c405852448",
   "metadata": {},
   "outputs": [
    {
     "name": "stdout",
     "output_type": "stream",
     "text": [
      "대한민국의 수도는 어디인가요?\n",
      "미국의 수도는 어디인가요?\n",
      "중국의 수도는 어디인가요?\n"
     ]
    }
   ],
   "source": [
    "# prompt 생성\n",
    "print(prompt_template.format(country=\"대한민국\"))\n",
    "print(prompt_template.format(country=\"미국\"))\n",
    "print(prompt_template.format(country=\"중국\"))"
   ]
  },
  {
   "cell_type": "code",
   "execution_count": 18,
   "id": "eab32372-69f7-471e-a500-f5d7004a2251",
   "metadata": {},
   "outputs": [
    {
     "data": {
      "text/plain": [
       "StringPromptValue(text='독일의 수도는 어디인가요?')"
      ]
     },
     "execution_count": 18,
     "metadata": {},
     "output_type": "execute_result"
    }
   ],
   "source": [
    "prompt_template.invoke({\"country\":\"독일\"})"
   ]
  },
  {
   "cell_type": "code",
   "execution_count": 19,
   "id": "76238810",
   "metadata": {},
   "outputs": [
    {
     "data": {
      "text/plain": [
       "True"
      ]
     },
     "execution_count": 19,
     "metadata": {},
     "output_type": "execute_result"
    }
   ],
   "source": [
    "from langchain_openai import ChatOpenAI\n",
    "from dotenv import load_dotenv\n",
    "\n",
    "load_dotenv()"
   ]
  },
  {
   "cell_type": "code",
   "execution_count": 21,
   "id": "7131159d",
   "metadata": {},
   "outputs": [
    {
     "name": "stdout",
     "output_type": "stream",
     "text": [
      "대한민국의 수도는 서울입니다.\n"
     ]
    }
   ],
   "source": [
    "# 1. 프롬프트 생성\n",
    "prompt = prompt_template.invoke({\"country\":\"대한민국\"})\n",
    "# prompt\n",
    "# 2. LLM 모델에 전송\n",
    "model = ChatOpenAI(model=\"gpt-4o-mini\")\n",
    "result = model.invoke(prompt)\n",
    "# 3. 결과확인\n",
    "print(result.content)"
   ]
  },
  {
   "cell_type": "code",
   "execution_count": null,
   "id": "7c5436e9",
   "metadata": {},
   "outputs": [],
   "source": [
    "# ChatPromptTemplate - 대화형 prompt\n",
    "# - role(발화자-역할)과 대화내용 으로 구형.\n",
    "#    - role: user/human, ai/assistant, system (전체적으로 적용될 지침.)\n",
    "# - 대화를 정의 방법\n",
    "# 1. (\"role\", \"대화내용\") -> (\"user\", \"한국의 수도는 어디야?\")\n",
    "# 2. Message객체를 이용(Message객체: Role별 메세지를 관리하는 클래스)\n",
    "#    HumanMessage, AIMessage, SystemMessage\n",
    "#    - HumanMessage(\"한국의 수도는 어디야\")"
   ]
  },
  {
   "cell_type": "code",
   "execution_count": null,
   "id": "3f4c2779",
   "metadata": {},
   "outputs": [],
   "source": [
    "template = [\n",
    "    (\"system\", \"당신은 {domain} 전문가입니다. 답변은 {length} 글자 이하로 해주세요.\"),\n",
    "    (\"user\", \"{query}\")\n",
    "]\n",
    "prompt_template = ChatPromptTemplate(   #.from_messages()\n",
    "    messages=template\n",
    "    # , input_variables=[\"domain\", \"length\", \"query\"]\n",
    ")\n",
    "# print(prompt_template)\n",
    "prompt = prompt_template.format_messages(domain=\"AI\", length=10, query=\"LLM의 3가지 특징을 정리해줘.\")\n",
    "# print(prompt)\n",
    "response = model.invoke(prompt)"
   ]
  },
  {
   "cell_type": "code",
   "execution_count": 26,
   "id": "9ad926e6",
   "metadata": {},
   "outputs": [
    {
     "data": {
      "text/plain": [
       "AIMessage(content='대량 데이터, 자가 학습, 응답 생성.', additional_kwargs={'refusal': None}, response_metadata={'token_usage': {'completion_tokens': 13, 'prompt_tokens': 43, 'total_tokens': 56, 'completion_tokens_details': {'accepted_prediction_tokens': 0, 'audio_tokens': 0, 'reasoning_tokens': 0, 'rejected_prediction_tokens': 0}, 'prompt_tokens_details': {'audio_tokens': 0, 'cached_tokens': 0}}, 'model_name': 'gpt-4o-mini-2024-07-18', 'system_fingerprint': 'fp_62a23a81ef', 'id': 'chatcmpl-Bf02imHjyPF4jI0cs9M041uur0VGj', 'service_tier': 'default', 'finish_reason': 'stop', 'logprobs': None}, id='run--70629de1-f361-41b0-8002-5a0b219c4829-0', usage_metadata={'input_tokens': 43, 'output_tokens': 13, 'total_tokens': 56, 'input_token_details': {'audio': 0, 'cache_read': 0}, 'output_token_details': {'audio': 0, 'reasoning': 0}})"
      ]
     },
     "execution_count": 26,
     "metadata": {},
     "output_type": "execute_result"
    }
   ],
   "source": [
    "response"
   ]
  },
  {
   "cell_type": "code",
   "execution_count": 28,
   "id": "89afbe07",
   "metadata": {},
   "outputs": [],
   "source": [
    "prompt = prompt_template.invoke({\"domain\":\"요리\", \n",
    "                                 \"length\":50, \n",
    "                                 \"query\":\"와인에 어울리는 요리 세가지를 추천해줘.\"})\n",
    "# prompt\n",
    "response = model.invoke(prompt)"
   ]
  },
  {
   "cell_type": "code",
   "execution_count": 30,
   "id": "f1c002e0-c9f2-4a34-8373-5f07322d42b4",
   "metadata": {},
   "outputs": [
    {
     "name": "stdout",
     "output_type": "stream",
     "text": [
      "1. 레드와인 - 스테이크  \n",
      "2. 화이트와인 - 해산물 파스타  \n",
      "3. 로제와인 - 샐러드와 구운 채소\n"
     ]
    }
   ],
   "source": [
    "print(response.content)"
   ]
  },
  {
   "cell_type": "markdown",
   "id": "9ec74eb1-3092-4dd3-bedf-48502392ed71",
   "metadata": {},
   "source": [
    "## MessagesPlaceholder\n",
    "\n",
    "- **MessagesPlaceholder**는 프롬프트 템플릿 내에서 메시지들이 삽입될 위치를 지정하는 데 사용되는 도구이다. 이는 프롬프트에 다수의 메시지를 포함시키는 경우에 유용하며, 주로 **채팅 히스토리**나 **예제 메시지** 들을 프롬프트에 추가하는 데 사용된다.\n",
    "- 변수가 전체 문장의 일부 내용을 입력받는데 사용된다면 **MessagesPlaceholder**는 단일 값 대신 여러 메시지들을 입력받는데 사용된다.\n",
    "\n",
    "### Initializer의 파라미터\n",
    "1. **variable_name** (str):  \n",
    "   - 프롬프트에서 참조할 변수명을 지정한다.\n",
    "\n",
    "2. **optional** (bool, 기본값: False):  \n",
    "   - `True`로 설정하면 해당 메시지 삽입을 생략할 수 있다.\n",
    "\n",
    "3. **n_messages** (int):  \n",
    "   - 지정된 경우, 최근 N개의 메시지만 포함하도록 제한한다."
   ]
  },
  {
   "cell_type": "code",
   "execution_count": 34,
   "id": "236db4d2-0f05-463a-b943-7bd88872a7ee",
   "metadata": {},
   "outputs": [],
   "source": [
    "from langchain.prompts import ChatPromptTemplate, MessagesPlaceholder\n",
    "\n",
    "template = [\n",
    "    (\"system\", \"당신은 수학 전문가입니다.\"),\n",
    "    MessagesPlaceholder(variable_name=\"history\", optional=True), # (\"placeholder\", \"{변수명}\")\n",
    "    (\"human\", \"{query}\")\n",
    "]\n",
    "prompt_template = ChatPromptTemplate(template)\n",
    "\n",
    "# 지금 까지 대화 내역\n",
    "chat_history = [\n",
    "    (\"human\", \"1 + 2의 결과는?\"), \n",
    "    (\"ai\", \"1 + 2 = 3\"),\n",
    "    (\"human\", \"7 + 5의 결과는?\"),\n",
    "    (\"ai\", \"7 + 5 = 12\")\n",
    "]\n",
    "\n",
    "prompt = prompt_template.invoke({\n",
    "    \"history\":chat_history, \n",
    "    \"query\": \"위 최종 결과에 4제곱하면 얼마인가요?\"\n",
    "})\n",
    "# prompt\n",
    "response = model.invoke(prompt)"
   ]
  },
  {
   "cell_type": "code",
   "execution_count": 36,
   "id": "4c44678e",
   "metadata": {},
   "outputs": [
    {
     "name": "stdout",
     "output_type": "stream",
     "text": [
      "12의 4제곱은 다음과 같이 계산됩니다:\n",
      "\n",
      "\\( 12^4 = 12 \\times 12 \\times 12 \\times 12 = 20736 \\)\n",
      "\n",
      "따라서, 12의 4제곱은 20736입니다.\n"
     ]
    }
   ],
   "source": [
    "print(response.content)"
   ]
  },
  {
   "cell_type": "code",
   "execution_count": 33,
   "id": "3c287d61-efb9-4fd1-afc5-a37c4f02ee34",
   "metadata": {},
   "outputs": [
    {
     "data": {
      "text/plain": [
       "20736"
      ]
     },
     "execution_count": 33,
     "metadata": {},
     "output_type": "execute_result"
    }
   ],
   "source": [
    "12 ** 4"
   ]
  },
  {
   "cell_type": "code",
   "execution_count": 37,
   "id": "37692348-c1d5-4716-b2d5-f45ab4e27574",
   "metadata": {},
   "outputs": [
    {
     "data": {
      "text/plain": [
       "AIMessage(content='12의 4제곱은 다음과 같습니다:\\n\\n\\\\( 12^4 = 12 \\\\times 12 \\\\times 12 \\\\times 12 \\\\)\\n\\n계산하면:\\n\\n\\\\( 12 \\\\times 12 = 144 \\\\)\\n\\n\\\\( 144 \\\\times 12 = 1,728 \\\\)\\n\\n\\\\( 1,728 \\\\times 12 = 20,736 \\\\)\\n\\n따라서, 12의 4제곱은 20,736입니다.', additional_kwargs={'refusal': None}, response_metadata={'token_usage': {'completion_tokens': 99, 'prompt_tokens': 80, 'total_tokens': 179, 'completion_tokens_details': {'accepted_prediction_tokens': 0, 'audio_tokens': 0, 'reasoning_tokens': 0, 'rejected_prediction_tokens': 0}, 'prompt_tokens_details': {'audio_tokens': 0, 'cached_tokens': 0}}, 'model_name': 'gpt-4o-mini-2024-07-18', 'system_fingerprint': 'fp_34a54ae93c', 'id': 'chatcmpl-Bf0To3TnMOH4pzWD5yMpCjQMhs6md', 'service_tier': 'default', 'finish_reason': 'stop', 'logprobs': None}, id='run--5181f233-75e5-4ceb-9686-65b385aef2aa-0', usage_metadata={'input_tokens': 80, 'output_tokens': 99, 'total_tokens': 179, 'input_token_details': {'audio': 0, 'cache_read': 0}, 'output_token_details': {'audio': 0, 'reasoning': 0}})"
      ]
     },
     "execution_count": 37,
     "metadata": {},
     "output_type": "execute_result"
    }
   ],
   "source": [
    "# chain\n",
    "chain = prompt_template | model\n",
    "chain.invoke({\n",
    "    \"history\":chat_history, \n",
    "    \"query\": \"위 최종 결과에 4제곱하면 얼마인가요?\"\n",
    "})"
   ]
  },
  {
   "cell_type": "code",
   "execution_count": null,
   "id": "3299c5ec-fd6b-465e-9738-0b674db916c1",
   "metadata": {},
   "outputs": [],
   "source": []
  }
 ],
 "metadata": {
  "kernelspec": {
   "display_name": "lang_env",
   "language": "python",
   "name": "python3"
  },
  "language_info": {
   "codemirror_mode": {
    "name": "ipython",
    "version": 3
   },
   "file_extension": ".py",
   "mimetype": "text/x-python",
   "name": "python",
   "nbconvert_exporter": "python",
   "pygments_lexer": "ipython3",
   "version": "3.12.11"
  }
 },
 "nbformat": 4,
 "nbformat_minor": 5
}
