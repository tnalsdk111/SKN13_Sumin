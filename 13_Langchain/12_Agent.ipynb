{
 "cells": [
  {
   "cell_type": "markdown",
   "metadata": {},
   "source": [
    "# Agent 개요\n",
    "\n",
    "- Agent 대형 언어 모델(LLM)과 다양한 도구(Tool)를 결합하여 복잡한 작업을 처리할 수 있도록 설계된 사용자 요청 처리 인공지능 시스템이다.\n",
    "    - Agent는 주어진 목표를 달성하기 위해 환경(toolkit)과 상호작용하며 의사 결정을 내리고 행동을 취하는 자율적인 개체이다.\n",
    "    - Agent의 자율적인 의사 결정은 LLM 이 담당하여 사람의 개입이 최소화 된다.\n",
    "\n",
    "## Agent의 주요 특징\n",
    "- **자율성**: 사전 정의된 규칙 없이도 스스로 결정을 내리고 행동할 수 있다.\n",
    "- **목표 지향성**: 특정 목표나 작업을 달성하기 위해 설계되어 있다.\n",
    "- **도구 활용**: 다양한 도구나 API를 활용하여 작업을 수행한다.\n",
    "\n",
    "## Agent 기본 동작 원리\n",
    "\n",
    "![agent_concept](figures/agent_concept.png)\n",
    "\n",
    "### ReAct\n",
    "- Reasoning and Acting의 약자로, 에이전트가 문제를 해결할 때 추론과 행동을 결합하는 방식이다.\n",
    "\n",
    "#### 동작 단계\n",
    "- **사용자 입력 수신**: \n",
    "    - 에이전트는 사용자가 입력한 질문이나 명령을 받는다.\n",
    "- **추론(Reasoning)**\n",
    "    - 입력된 내용을 분석하여 문제를 이해하고, 해결 방안을 계획합니다. \n",
    "- **행동 결정 및 도구 실행(Action)**: \n",
    "    - 계획에 따라 어떤 도구를 사용할지 결정하고 그 도구를 호출하여 작업을 수행한다.\n",
    "- **결과 평가 및 추가 행동 결정**: \n",
    "    - 도구 실행 결과를 바탕으로 추가로 도구를 사용할지, 아니면 최종 답변을 생성할지를 결정한다.\n",
    "    - 추가로 도구를 사용하기로 결정한 경우 도구를 실행한다.\n",
    "- **최종 답변 반환**: \n",
    "    - 최종 결과를 사용자에게 제공한다."
   ]
  },
  {
   "cell_type": "markdown",
   "metadata": {},
   "source": [
    "# TOOL\n",
    "- **Tool은 하나의 기능을 처리하는 함수이다.**\n",
    "\n",
    "## Tool Calling 개요\n",
    "- LLM이 외부 도구나 API를 활용하여 작업을 수행할 수 있게 하는 기능이다.\n",
    "    1. LLM 이 사용할 수 있는 도구들을 binding한다.\n",
    "    2. 사용자로 부터 질의가 들어오면 그 질의를 처리하기 위해 tool을 호출 하는 것이 필요하다면 LLM은 어떤 tool을 어떻게 호출할지 응답한다.\n",
    "    3.  사용자는 응답에 맞는 tool을 호출하고 그 처리결과를 취합해 질의와 함께 LLM에게 요청한다.\n",
    "\t- TOOL Calling 예\n",
    "        - LLM이 수학 계산을 수행해야 할 때, 직접 계산하는 대신 미리 정의된 '계산' 도구를 호출하여 정확한 결과를 얻을 수 있다.\n",
    "    \t- LLM에 최신 정보를 요청하는 질문이 들어왔을 때 '검색' 도구나 'Database 연동' 도구를 사용해 최신 뉴스를 검색하거나, 특정 데이터베이스에서 정보를 조회하는 등의 작업을 수행할 수 있다.\n",
    "- **LLM은 도구를 이용해 자체 지식의 한계를 넘어서는 정보를 제공할 수 있습니다.**\n",
    "- Tool calling은 OpenAI, Anthropic 등 여러 LLM 서비스가 지원한다.\n",
    "  - Tool Calling을 지원하는 LLM 모델만 사용할 수있다.\n",
    "- LangChain은 다양한 모델들의 도구 호출 방식을 표준화하여 일관된 인터페이스로 제공한다. 이를 통해 개발자들은 다양한 모델과 도구들을 쉽게 통합할 수있다.\n",
    "- Tool Calling Concept: https://python.langchain.com/docs/concepts/tool_calling/\n",
    "- Langchain 지원 tools (Builtin Tool)\n",
    "    -  https://python.langchain.com/docs/integrations/tools/#search\n",
    "- **Agent:**\n",
    "\t- LLM 모델이 목표한 결과를 얻기 위해 적절한 도구를 선택하고, 이를 활용하여 작업을 수행하는 시스템을 **Agent**라고 한다."
   ]
  },
  {
   "cell_type": "markdown",
   "metadata": {},
   "source": [
    "# 랭체인 내장 도구(tools) 사용\n",
    "- Langchain은 다양한 도구들을 구현해서 제공하고 있다. 이것들을 builtin tool이라고 한다. \n",
    "  - [Langchain 지원 Built tools](https://python.langchain.com/docs/integrations/tools/)\n",
    "- 그 외에 필요한 도구들을 직접 구현할 수있는 방법도 제공한다.\n",
    "- Tavily 웹 검색 도구 사용해 Tool calling을 이해한다.\n",
    "\n",
    "\n",
    "## Tavily\n",
    "- LLM을 위한 웹 검색 API.\n",
    "- https://tavily.com/\n",
    "-  LLM과 RAG 시스템에 최적화된 검색 엔진.\n",
    "   -  기존의 일반 검색 엔진들과 달리, Tavily는 AI 애플리케이션의 요구사항에 맞춰 설계되었다.\n",
    "   -  Tavily는 검색 결과에서 검색 query와 관련 콘텐츠를 추출하여 제공한다.\n",
    "   -  월 1000회 무료 사용 가능.\n",
    "### Tavily API Key 받기\n",
    "- 로그인 한다.\n",
    "- Overview 화면에서 API Key 생성  \n",
    "- **API Keys \\[+\\] 클릭**\n",
    "\n",
    "![apikey1](figures/travily_apikey1.png)\n",
    "\n",
    "- **Key Name을 입력하고 생성**\n",
    "\n",
    "![apikey1](figures/travily_apikey2.png)\n",
    "\n",
    "- **API Key를 복사**\n",
    "\n",
    "![apikey1](figures/travily_apikey3.png)\n",
    "\n",
    "- 환경변수에 등록한다.\n",
    "    - 변수이름: \"TAVILY_API_KEY\""
   ]
  },
  {
   "cell_type": "markdown",
   "metadata": {},
   "source": [
    "## TavilySearch\n",
    "- Langchain에서 제공하는 tool로 Tavily 의 검색 엔진 API를 사용해 검색을 수행한다.\n",
    "- 설치\n",
    "  - `pip install langchain-tavily`\n",
    "- https://python.langchain.com/docs/integrations/tools/tavily_search/"
   ]
  },
  {
   "cell_type": "code",
   "execution_count": 24,
   "metadata": {},
   "outputs": [],
   "source": [
    "# %pip install langchain-tavily"
   ]
  },
  {
   "cell_type": "code",
   "execution_count": 25,
   "metadata": {},
   "outputs": [
    {
     "data": {
      "text/plain": [
       "True"
      ]
     },
     "execution_count": 25,
     "metadata": {},
     "output_type": "execute_result"
    }
   ],
   "source": [
    "from dotenv import load_dotenv\n",
    "\n",
    "load_dotenv()"
   ]
  },
  {
   "cell_type": "code",
   "execution_count": 26,
   "metadata": {},
   "outputs": [],
   "source": [
    "from langchain_tavily import TavilySearch\n",
    "tavily_search = TavilySearch(\n",
    "    max_results=3, # 최대 검색 개수.\n",
    "    include_images=True, # 검색한 페이지의 이미지들의 URL도 반환.\n",
    "    time_range=\"month\",  # 검색할 기간 단위. (최근 \"day\", \"week\", \"month\", \"year\" 내용들을 검색.)\n",
    ")\n",
    "query = \"2025-2026 시즌 손흥민 이적설.\"\n",
    "resp = tavily_search.invoke(query)"
   ]
  },
  {
   "cell_type": "code",
   "execution_count": 27,
   "metadata": {},
   "outputs": [
    {
     "name": "stdout",
     "output_type": "stream",
     "text": [
      "<class 'dict'>\n"
     ]
    },
    {
     "data": {
      "text/plain": [
       "{'query': '2025-2026 시즌 손흥민 이적설.',\n",
       " 'follow_up_questions': None,\n",
       " 'answer': None,\n",
       " 'images': ['https://thumbnews.nateimg.co.kr/view610/news.nateimg.co.kr/orgImg/kz/2024/11/16/news-p.v1.20240926.ad0cd8c9c02e4b35aa4c0c3b7b0c3735_P1.png',\n",
       "  'https://fo-newscenter.s3.ap-northeast-2.amazonaws.com/sportal-korea/extract/2024/12/24/SK007_20241224_020101.jpg',\n",
       "  'https://img6.yna.co.kr/photo/etc/af/2025/01/04/PAF20250104194501009_P4.jpg',\n",
       "  'https://img-s-msn-com.akamaized.net/tenant/amp/entityid/AA1udLWy.img?w=650&h=453&m=4&q=79',\n",
       "  'https://image.xportsnews.com/contents/images/upload/article/2024/1221/1734758534483703.jpg'],\n",
       " 'results': [{'url': 'https://www.chosun.com/sports/world-football/2025/06/21/FETBEWJJO7VNAVYM5JQQT67Z4A/',\n",
       "   'title': '\"손흥민 이적, 거의 확정됐다\" 3년 1426억 돈방석 보인다! 토트넘도 ...',\n",
       "   'content': '손흥민은 올여름 토트넘을 떠날 가능성이 커지고 있다. 그는 2025-2026시즌을 끝으로 계약이 만료되기 때문. 토트넘으로서도 손흥민을 매각해 이적료를 챙길 마지막',\n",
       "   'score': 0.82117355,\n",
       "   'raw_content': None},\n",
       "  {'url': 'https://namu.wiki/w/%ED%86%A0%ED%8A%B8%EB%84%98%20%ED%99%8B%EC%8A%A4%ED%8D%BC%20FC/2025-26%20%EC%8B%9C%EC%A6%8C',\n",
       "   'title': '토트넘 홋스퍼 FC/2025-26 시즌 - 나무위키',\n",
       "   'content': '손흥민 (Heung-Min Son). 부주장. 크리스티안 로메로 (Cristian Romero). 제임스 ... 이적시장. 4.1. 여름 이적시장. 4.1.1. 감독 선임설4.1.2. 이적설. 4.1.2.1. 기존',\n",
       "   'score': 0.7443038,\n",
       "   'raw_content': None},\n",
       "  {'url': 'https://www.chosun.com/sports/world-football/2025/06/16/4WBZN4KDOD5T57NSWML4AJNQHA/',\n",
       "   'title': \"손흥민 재계약? 사우디 매각보다 토트넘에게 '득'이 크다 - 조선일보\",\n",
       "   'content': '실제로 손흥민은 다가오는 2025-2026시즌을 끝으로 토트넘과 계약이 만료된다. 토트넘은 그에게 재계약을 제안하는 대신 1년 연장 옵션을 발동하는 데 그쳤다. 이',\n",
       "   'score': 0.7316155,\n",
       "   'raw_content': None}],\n",
       " 'response_time': 1.62}"
      ]
     },
     "execution_count": 27,
     "metadata": {},
     "output_type": "execute_result"
    }
   ],
   "source": [
    "print(type(resp))\n",
    "resp"
   ]
  },
  {
   "cell_type": "code",
   "execution_count": 28,
   "metadata": {},
   "outputs": [
    {
     "data": {
      "text/plain": [
       "langchain_tavily.tavily_search.TavilySearch"
      ]
     },
     "execution_count": 28,
     "metadata": {},
     "output_type": "execute_result"
    }
   ],
   "source": [
    "type(tavily_search)"
   ]
  },
  {
   "cell_type": "code",
   "execution_count": 29,
   "metadata": {},
   "outputs": [
    {
     "name": "stdout",
     "output_type": "stream",
     "text": [
      "tool의 이름: tavily_search\n",
      "tool에 대한설명: A search engine optimized for comprehensive, accurate, and trusted results. Useful for when you need to answer questions about current events. It not only retrieves URLs and snippets, but offers advanced search depths, domain management, time range filters, and image search, this tool delivers real-time, accurate, and citation-backed results.Input should be a search query.\n"
     ]
    }
   ],
   "source": [
    "# 툴 정보.\n",
    "print(\"tool의 이름:\", tavily_search.name)\n",
    "print(\"tool에 대한설명:\", tavily_search.description) # tool 의 기능, 역할, 사용법 등에 대한 설명"
   ]
  },
  {
   "cell_type": "code",
   "execution_count": 30,
   "metadata": {},
   "outputs": [
    {
     "name": "stdout",
     "output_type": "stream",
     "text": [
      "tool의 스키마(schema):\n"
     ]
    },
    {
     "data": {
      "text/plain": [
       "{'description': 'Input for [TavilySearch]',\n",
       " 'properties': {'query': {'description': 'Search query to look up',\n",
       "   'title': 'Query',\n",
       "   'type': 'string'},\n",
       "  'include_domains': {'anyOf': [{'items': {'type': 'string'}, 'type': 'array'},\n",
       "    {'type': 'null'}],\n",
       "   'default': [],\n",
       "   'description': 'A list of domains to restrict search results to.\\n\\n        Use this parameter when:\\n        1. The user explicitly requests information from specific websites (e.g., \"Find climate data from nasa.gov\")\\n        2. The user mentions an organization or company without specifying the domain (e.g., \"Find information about iPhones from Apple\")\\n\\n        In both cases, you should determine the appropriate domains (e.g., [\"nasa.gov\"] or [\"apple.com\"]) and set this parameter.\\n\\n        Results will ONLY come from the specified domains - no other sources will be included.\\n        Default is None (no domain restriction).\\n        ',\n",
       "   'title': 'Include Domains'},\n",
       "  'exclude_domains': {'anyOf': [{'items': {'type': 'string'}, 'type': 'array'},\n",
       "    {'type': 'null'}],\n",
       "   'default': [],\n",
       "   'description': 'A list of domains to exclude from search results.\\n\\n        Use this parameter when:\\n        1. The user explicitly requests to avoid certain websites (e.g., \"Find information about climate change but not from twitter.com\")\\n        2. The user mentions not wanting results from specific organizations without naming the domain (e.g., \"Find phone reviews but nothing from Apple\")\\n\\n        In both cases, you should determine the appropriate domains to exclude (e.g., [\"twitter.com\"] or [\"apple.com\"]) and set this parameter.\\n\\n        Results will filter out all content from the specified domains.\\n        Default is None (no domain exclusion).\\n        ',\n",
       "   'title': 'Exclude Domains'},\n",
       "  'search_depth': {'anyOf': [{'enum': ['basic', 'advanced'], 'type': 'string'},\n",
       "    {'type': 'null'}],\n",
       "   'default': 'basic',\n",
       "   'description': 'Controls search thoroughness and result comprehensiveness.\\n    \\n        Use \"basic\" for simple queries requiring quick, straightforward answers.\\n        \\n        Use \"advanced\" (default) for complex queries, specialized topics, \\n        rare information, or when in-depth analysis is needed.\\n        ',\n",
       "   'title': 'Search Depth'},\n",
       "  'include_images': {'anyOf': [{'type': 'boolean'}, {'type': 'null'}],\n",
       "   'default': False,\n",
       "   'description': 'Determines if the search returns relevant images along with text results.\\n   \\n        Set to True when the user explicitly requests visuals or when images would \\n        significantly enhance understanding (e.g., \"Show me what black holes look like,\" \\n        \"Find pictures of Renaissance art\").\\n        \\n        Leave as False (default) for most informational queries where text is sufficient.\\n        ',\n",
       "   'title': 'Include Images'},\n",
       "  'time_range': {'anyOf': [{'enum': ['day', 'week', 'month', 'year'],\n",
       "     'type': 'string'},\n",
       "    {'type': 'null'}],\n",
       "   'default': None,\n",
       "   'description': 'Limits results to content published within a specific timeframe.\\n        \\n        ONLY set this when the user explicitly mentions a time period \\n        (e.g., \"latest AI news,\" \"articles from last week\").\\n        \\n        For less popular or niche topics, use broader time ranges \\n        (\"month\" or \"year\") to ensure sufficient relevant results.\\n   \\n        Options: \"day\" (24h), \"week\" (7d), \"month\" (30d), \"year\" (365d).\\n        \\n        Default is None.\\n        ',\n",
       "   'title': 'Time Range'},\n",
       "  'topic': {'anyOf': [{'enum': ['general', 'news', 'finance'],\n",
       "     'type': 'string'},\n",
       "    {'type': 'null'}],\n",
       "   'default': 'general',\n",
       "   'description': 'Specifies search category for optimized results.\\n   \\n        Use \"general\" (default) for most queries, INCLUDING those with terms like \\n        \"latest,\" \"newest,\" or \"recent\" when referring to general information.\\n\\n        Use \"finance\" for markets, investments, economic data, or financial news.\\n\\n        Use \"news\" ONLY for politics, sports, or major current events covered by \\n        mainstream media - NOT simply because a query asks for \"new\" information.\\n        ',\n",
       "   'title': 'Topic'}},\n",
       " 'required': ['query'],\n",
       " 'title': 'TavilySearchInput',\n",
       " 'type': 'object'}"
      ]
     },
     "execution_count": 30,
     "metadata": {},
     "output_type": "execute_result"
    }
   ],
   "source": [
    "print(\"tool의 스키마(schema):\") # tool의 구조에 대한 설계도.\n",
    "tavily_search.args_schema.model_json_schema()\n",
    "# \"properties\" -> 툴을 호출할때 전달해야하는 값들."
   ]
  },
  {
   "cell_type": "markdown",
   "metadata": {},
   "source": [
    "## LLM tool callings\n",
    "\n",
    "### 작동 원리\n",
    "\n",
    "![toolcalling_concept](figures/toolcalling_concept.png)\n",
    "1. Tool 생성\n",
    "2. 생성한 Tool을 tool calling을 지원하는 LLM 모델에 연결(binding)\n",
    "   - LLM 이 사용할 수있는 tool들을 등록(bind) 한다.\n",
    "    - **`Model.bind([tool_1, tool_2, ...]): RunnableBinding`**\n",
    "    - Model에 tool을 bind 하면 `Runnable` 타입의 `RunnableBinding` 객체가 반환된다.\n",
    "3. 질의가 들어오면 모델(LLM + tool) 은 tool calling 정보(어떤 툴을 어떤 query로 호출할지 schema 에 맞게 만든 정보)를 응답.\n",
    "    - 질의에 대해 tool 요청이 **필요하다고** 결정한 경우 tool들 중 어떤 tool을 어떤 query로 호출해야 하는지를 응답한다.\n",
    "    - 질의에 대해 tool 요청이 **필요 없다고** 결정한 경우는 LLM API를 호출한다.(모델이 직접 응답)\n",
    "5. 3에서 응답한 tool calling 정보를 이용해 tool 호출"
   ]
  },
  {
   "cell_type": "markdown",
   "metadata": {},
   "source": [
    "### LLM Model에 tool binding\n",
    "- `LLM.bind_tools(tools=[tool_1, tool_2, ...])`"
   ]
  },
  {
   "cell_type": "code",
   "execution_count": 31,
   "metadata": {},
   "outputs": [
    {
     "data": {
      "text/plain": [
       "(langchain_openai.chat_models.base.ChatOpenAI,\n",
       " langchain_core.runnables.base.RunnableBinding)"
      ]
     },
     "execution_count": 31,
     "metadata": {},
     "output_type": "execute_result"
    }
   ],
   "source": [
    "from langchain_openai import ChatOpenAI\n",
    "# 위에서 tavily_search 정의 안 했다면 해주기\n",
    "# from langchain_tavily import TavilySearch\n",
    "\n",
    "# tavily_search = TavilySearch(max_results=3)\n",
    "model = ChatOpenAI(model=\"gpt-4.1-mini\")\n",
    "# model에 tool(들)을 binding(붙여주기)\n",
    "tool_model = model.bind_tools(tools=[tavily_search])\n",
    "type(model), type(tool_model)"
   ]
  },
  {
   "cell_type": "markdown",
   "metadata": {},
   "source": [
    "생성한 Tool을 tool calling을 지원하는 LLM 모델에 연결(binding)\n",
    "   - LLM 이 사용할 수있는 tool들을 등록(bind) 한다.\n",
    "      - **`Model.bind([tool_1, tool_2, ...]): RunnableBinding`**\n",
    "      - Model에 tool을 bind 하면 `Runnable` 타입의 `RunnableBinding` 객체가 반환된다."
   ]
  },
  {
   "cell_type": "code",
   "execution_count": 32,
   "metadata": {},
   "outputs": [],
   "source": [
    "# 툴이 필요없는 query\n",
    "resp1 = tool_model.invoke(\"안녕하세요\")"
   ]
  },
  {
   "cell_type": "code",
   "execution_count": 33,
   "metadata": {},
   "outputs": [
    {
     "name": "stdout",
     "output_type": "stream",
     "text": [
      "AI 응답 content: 안녕하세요! 어떻게 도와드릴까요?\n",
      "AI tool 호출 정보: []\n"
     ]
    }
   ],
   "source": [
    "resp1\n",
    "print(\"AI 응답 content:\", resp1.content)\n",
    "print(\"AI tool 호출 정보:\", resp1.tool_calls)\n",
    "# RunnableBinding(model+tool들)의 응답에는 tool을 호출하는 방법을 리스트에 담어서 반환.(속성: tool_calls)"
   ]
  },
  {
   "cell_type": "code",
   "execution_count": 34,
   "metadata": {},
   "outputs": [],
   "source": [
    "# 툴 호출(tool calling) 이 필요한 요청\n",
    "# query = \"2025-2026 시즌 손흥민 이적설에 대해 정리해줘.\"\n",
    "query = \"2025-2026 시즌 손흥민, 김민재, 이강인 이적설에 대해 정리해줘.\"\n",
    "resp2 = tool_model.invoke(query)"
   ]
  },
  {
   "cell_type": "code",
   "execution_count": 100,
   "metadata": {},
   "outputs": [
    {
     "data": {
      "text/plain": [
       "AIMessage(content='', additional_kwargs={'tool_calls': [{'id': 'call_8jIBmKSdvwDdcBvuOgGa1gef', 'function': {'arguments': '{\"query\": \"2025-2026 시즌 손흥민 이적설\", \"time_range\": \"year\", \"search_depth\": \"advanced\"}', 'name': 'tavily_search'}, 'type': 'function'}, {'id': 'call_4X6g8fcKAyQwXwCMcUCoYmB5', 'function': {'arguments': '{\"query\": \"2025-2026 시즌 김민재 이적설\", \"time_range\": \"year\", \"search_depth\": \"advanced\"}', 'name': 'tavily_search'}, 'type': 'function'}, {'id': 'call_1hIBlgRAHWeNCmY6Lr8kTEtn', 'function': {'arguments': '{\"query\": \"2025-2026 시즌 이강인 이적설\", \"time_range\": \"year\", \"search_depth\": \"advanced\"}', 'name': 'tavily_search'}, 'type': 'function'}], 'refusal': None}, response_metadata={'token_usage': {'completion_tokens': 127, 'prompt_tokens': 794, 'total_tokens': 921, 'completion_tokens_details': {'accepted_prediction_tokens': 0, 'audio_tokens': 0, 'reasoning_tokens': 0, 'rejected_prediction_tokens': 0}, 'prompt_tokens_details': {'audio_tokens': 0, 'cached_tokens': 0}}, 'model_name': 'gpt-4.1-mini-2025-04-14', 'system_fingerprint': 'fp_6f2eabb9a5', 'id': 'chatcmpl-BlDCrn26flcs8ciz0asozSb9eCpqQ', 'service_tier': 'default', 'finish_reason': 'tool_calls', 'logprobs': None}, id='run--cbc5c76d-2d22-496e-8d75-4d9878b19927-0', tool_calls=[{'name': 'tavily_search', 'args': {'query': '2025-2026 시즌 손흥민 이적설', 'time_range': 'year', 'search_depth': 'advanced'}, 'id': 'call_8jIBmKSdvwDdcBvuOgGa1gef', 'type': 'tool_call'}, {'name': 'tavily_search', 'args': {'query': '2025-2026 시즌 김민재 이적설', 'time_range': 'year', 'search_depth': 'advanced'}, 'id': 'call_4X6g8fcKAyQwXwCMcUCoYmB5', 'type': 'tool_call'}, {'name': 'tavily_search', 'args': {'query': '2025-2026 시즌 이강인 이적설', 'time_range': 'year', 'search_depth': 'advanced'}, 'id': 'call_1hIBlgRAHWeNCmY6Lr8kTEtn', 'type': 'tool_call'}], usage_metadata={'input_tokens': 794, 'output_tokens': 127, 'total_tokens': 921, 'input_token_details': {'audio': 0, 'cache_read': 0}, 'output_token_details': {'audio': 0, 'reasoning': 0}})"
      ]
     },
     "execution_count": 100,
     "metadata": {},
     "output_type": "execute_result"
    }
   ],
   "source": [
    "resp2 # AIMessage 객체임."
   ]
  },
  {
   "cell_type": "markdown",
   "metadata": {},
   "source": [
    "AIMessage는 LangChain에서 LLM이 생성한 응답을 구조화해서 담는 객체예요.\n",
    "말하자면 \"LLM이 사용자에게 한 말\"을 표현하는 자료형입니다."
   ]
  },
  {
   "cell_type": "code",
   "execution_count": 36,
   "metadata": {},
   "outputs": [
    {
     "name": "stdout",
     "output_type": "stream",
     "text": [
      "\n",
      "------------------\n"
     ]
    },
    {
     "data": {
      "text/plain": [
       "[{'name': 'tavily_search',\n",
       "  'args': {'query': '2025-2026 시즌 손흥민 이적설',\n",
       "   'time_range': 'year',\n",
       "   'search_depth': 'advanced'},\n",
       "  'id': 'call_8jIBmKSdvwDdcBvuOgGa1gef',\n",
       "  'type': 'tool_call'},\n",
       " {'name': 'tavily_search',\n",
       "  'args': {'query': '2025-2026 시즌 김민재 이적설',\n",
       "   'time_range': 'year',\n",
       "   'search_depth': 'advanced'},\n",
       "  'id': 'call_4X6g8fcKAyQwXwCMcUCoYmB5',\n",
       "  'type': 'tool_call'},\n",
       " {'name': 'tavily_search',\n",
       "  'args': {'query': '2025-2026 시즌 이강인 이적설',\n",
       "   'time_range': 'year',\n",
       "   'search_depth': 'advanced'},\n",
       "  'id': 'call_1hIBlgRAHWeNCmY6Lr8kTEtn',\n",
       "  'type': 'tool_call'}]"
      ]
     },
     "execution_count": 36,
     "metadata": {},
     "output_type": "execute_result"
    }
   ],
   "source": [
    "print(resp2.content)\n",
    "print(\"------------------\")\n",
    "resp2.tool_calls"
   ]
  },
  {
   "cell_type": "markdown",
   "metadata": {},
   "source": [
    "📌 \"LLM이 어떤 도구를 써야 하는지만 알려준 상태\"   \n",
    "👉 Tool Calling만 발생했고,   \n",
    "👉 Agent 흐름은 아직 실행되지 않았어요"
   ]
  },
  {
   "cell_type": "code",
   "execution_count": 37,
   "metadata": {},
   "outputs": [],
   "source": [
    "# tavily_search.args_schema.model_json_schema()"
   ]
  },
  {
   "cell_type": "code",
   "execution_count": null,
   "metadata": {},
   "outputs": [],
   "source": []
  },
  {
   "cell_type": "markdown",
   "metadata": {},
   "source": [
    "## tool_calls 를 이용해 Tool 호출\n",
    "- LLM 모델이 tool 요청을 결정한 경우 **어떤 tool을 어떻게 호출할 지 tool_calls를 반환**한다.\n",
    "- tool_calls를 이용해 Tool을 호출한다.\n",
    "\n",
    "### 방법\n",
    "1. `tool_calls` 의 `args` 값을 전달.\n",
    "   - 즉, 응답한 것의 일부만 넣는다는 것임!\n",
    "   - `args`는 tool을 호출(invoke)할 때 전달할 정보를 dictionary로 제공한다.\n",
    "   - `tool.invoke(result.tool_calls[0]['args'])`\n",
    "   - **반환타입**: 각 tool의 반환타입\n",
    "2. tool_calls 정보를 넣어 호출\n",
    "   - 즉, 어떤 tool을 어떻게 호출할지 응답한 것 전체를 넣는다는 것임!\n",
    "   - `tool.invoke(result.tool_calls[0])`\n",
    "   - **반환타입**: `ToolMessage`\n",
    "     - Tool의 처리결과를 담는 Message Type 이다."
   ]
  },
  {
   "cell_type": "markdown",
   "metadata": {},
   "source": [
    "#### tool_calls의 args를 이용해 호출"
   ]
  },
  {
   "cell_type": "code",
   "execution_count": 38,
   "metadata": {},
   "outputs": [
    {
     "data": {
      "text/plain": [
       "{'name': 'tavily_search',\n",
       " 'args': {'query': '2025-2026 시즌 손흥민 이적설',\n",
       "  'time_range': 'year',\n",
       "  'search_depth': 'advanced'},\n",
       " 'id': 'call_8jIBmKSdvwDdcBvuOgGa1gef',\n",
       " 'type': 'tool_call'}"
      ]
     },
     "execution_count": 38,
     "metadata": {},
     "output_type": "execute_result"
    }
   ],
   "source": [
    "resp2.tool_calls[0]"
   ]
  },
  {
   "cell_type": "code",
   "execution_count": 39,
   "metadata": {},
   "outputs": [
    {
     "data": {
      "text/plain": [
       "{'query': '2025-2026 시즌 손흥민 이적설',\n",
       " 'time_range': 'year',\n",
       " 'search_depth': 'advanced'}"
      ]
     },
     "execution_count": 39,
     "metadata": {},
     "output_type": "execute_result"
    }
   ],
   "source": [
    "resp2.tool_calls[0][\"args\"]"
   ]
  },
  {
   "cell_type": "code",
   "execution_count": 40,
   "metadata": {},
   "outputs": [],
   "source": [
    "# tool객체.invoke(args)\n",
    "search_result = tavily_search.invoke(resp2.tool_calls[0][\"args\"])"
   ]
  },
  {
   "cell_type": "code",
   "execution_count": 41,
   "metadata": {},
   "outputs": [
    {
     "data": {
      "text/plain": [
       "dict"
      ]
     },
     "execution_count": 41,
     "metadata": {},
     "output_type": "execute_result"
    }
   ],
   "source": [
    "type(search_result) # dict"
   ]
  },
  {
   "cell_type": "code",
   "execution_count": 42,
   "metadata": {},
   "outputs": [
    {
     "data": {
      "text/plain": [
       "{'query': '2025-2026 시즌 손흥민 이적설',\n",
       " 'follow_up_questions': None,\n",
       " 'answer': None,\n",
       " 'images': ['https://thumbnews.nateimg.co.kr/view610/news.nateimg.co.kr/orgImg/kz/2024/11/16/news-p.v1.20240926.ad0cd8c9c02e4b35aa4c0c3b7b0c3735_P1.png',\n",
       "  'https://image.xportsnews.com/contents/images/upload/article/2024/1221/1734758534483703.jpg',\n",
       "  'https://img6.yna.co.kr/photo/etc/af/2025/01/04/PAF20250104194501009_P4.jpg',\n",
       "  'https://img-s-msn-com.akamaized.net/tenant/amp/entityid/AA1udLWy.img?w=650&h=453&m=4&q=79',\n",
       "  'https://fo-newscenter.s3.ap-northeast-2.amazonaws.com/sportal-korea/extract/2024/12/24/SK007_20241224_020101.jpg'],\n",
       " 'results': [{'url': 'https://www.sisafocus.co.kr/news/articleView.html?idxno=340357',\n",
       "   'title': \"'사우디 이적설 계속'… 손흥민, 토트넘 새 시즌 유니폼 모델로 등장\",\n",
       "   'content': '손흥민, 2025-2026시즌 토트넘 유니폼 모델로 공개된 모습. ⓒ토트넘 홋스퍼 소셜 미디어\\n\\n[시사포커스 / 이근우 기자] ‘주장’ 손흥민(32)이 토트넘 홋스퍼의 2025-2026시즌 유니폼 모델로 공개됐지만, 사우디아라비아 이적설은 여전히 수면 위에 떠 있다.\\n\\n영국 매체 텔레그래프는 3일(현지시간) “토트넘은 사우디 프로리그(SPL)가 노리는 손흥민의 이적료를 확보할 기회를 가졌다”며 “이번 여름 이적 시장에서 손흥민의 향방이 주목된다”고 전했다.\\n\\n토트넘은 2024-2025시즌 UEFA 유로파리그 우승으로 무관 탈출에 성공하며 차기 시즌 챔피언스리그(UCL) 진출권을 획득했다. 구단은 전력 보강을 위한 스쿼드 재편 가능성이 높아지면서 손흥민의 이적 여부가 큰 관심사로 떠오르고 있다.\\n\\n손흥민은 지난 1월, 토트넘이 1년 연장 옵션을 발동하며 2025년 6월 30일까지 계약이 연장된 상태다. 이와 관련해, 구단이 이적료 확보를 염두에 둔 결정이라는 분석도 이어지고 있다. [...] [![Image 4](https://www.sisafocus.co.kr/image/audioclip-b.png)](https://audioclip.naver.com/channels/7994)_바로가기_ _복사하기_ _본문 글씨 줄이기_ _본문 글씨 키우기_\\n\\n#### SNS 기사보내기\\n\\n_페이스북(으)로 기사보내기_ _트위터(으)로 기사보내기_ _카카오스토리(으)로 기사보내기_ _URL복사(으)로 기사보내기_ _이메일(으)로 기사보내기_ _다른 공유 찾기_ _기사스크랩하기_\\n\\n#### 토트넘, 손흥민 유니폼 모델로 공개… 이적료 확보 위한 포석 가능성\\n\\n![Image 5: 손흥민, 2025-2026시즌 토트넘 유니폼 모델로 공개된 모습.\\xa0 ⓒ토트넘 홋스퍼 소셜 미디어](https://cdn.sisafocus.co.kr/news/photo/202506/340357_418998_2313.jpg) [...] 홋스퍼](https://www.sisafocus.co.kr/news/articleList.html?sc_area=A&sc_word=%ED%86%A0%ED%8A%B8%EB%84%98%20%ED%99%8B%EC%8A%A4%ED%8D%BC&view_type=sm)[#2024-2025시즌](https://www.sisafocus.co.kr/news/articleList.html?sc_area=A&sc_word=2024-2025%EC%8B%9C%EC%A6%8C&view_type=sm)[#2025-2026시즌](https://www.sisafocus.co.kr/news/articleList.html?sc_area=A&sc_word=2025-2026%EC%8B%9C%EC%A6%8C&view_type=sm)[#유니폼](https://www.sisafocus.co.kr/news/articleList',\n",
       "   'score': 0.90907925,\n",
       "   'raw_content': None},\n",
       "  {'url': 'https://www.chosun.com/sports/world-football/2025/06/21/FETBEWJJO7VNAVYM5JQQT67Z4A/',\n",
       "   'title': '\"손흥민 이적, 거의 확정됐다\" 3년 1426억 돈방석 보인다! 토트넘도 ...',\n",
       "   'content': '손흥민은 올여름 토트넘을 떠날 가능성이 커지고 있다. 그는 2025-2026시즌을 끝으로 계약이 만료되기 때문. 토트넘으로서도 손흥민을 매각해 이적료를 챙길 마지막',\n",
       "   'score': 0.86136365,\n",
       "   'raw_content': None},\n",
       "  {'url': 'https://v.daum.net/v/20250604093004685',\n",
       "   'title': \"'캡틴' 손흥민, 새 시즌 토트넘 유니폼 입고 등장...'사우디 이적설' 종결?\",\n",
       "   'content': '토트넘 홋스퍼의 2025-2026시즌 유니폼 모델로 나선 손흥민. (MHN 금윤호 기자) ... 하지만 우승의 기쁨이 식자 손흥민은 최근 사우디아라비아 이적설에 시달리고 있다.',\n",
       "   'score': 0.8497846,\n",
       "   'raw_content': None}],\n",
       " 'response_time': 5.55}"
      ]
     },
     "execution_count": 42,
     "metadata": {},
     "output_type": "execute_result"
    }
   ],
   "source": [
    "search_result"
   ]
  },
  {
   "cell_type": "markdown",
   "metadata": {},
   "source": [
    "#### tool_call 정보를 넣어 Tool 호출"
   ]
  },
  {
   "cell_type": "code",
   "execution_count": 103,
   "metadata": {},
   "outputs": [
    {
     "data": {
      "text/plain": [
       "{'name': 'tavily_search',\n",
       " 'args': {'query': '2025-2026 시즌 김민재 이적설',\n",
       "  'time_range': 'year',\n",
       "  'search_depth': 'advanced'},\n",
       " 'id': 'call_4X6g8fcKAyQwXwCMcUCoYmB5',\n",
       " 'type': 'tool_call'}"
      ]
     },
     "execution_count": 103,
     "metadata": {},
     "output_type": "execute_result"
    }
   ],
   "source": [
    "resp2.tool_calls[1]\n",
    "# search_result2 = tavily_search.invoke(resp2.tool_calls[0])"
   ]
  },
  {
   "cell_type": "code",
   "execution_count": 44,
   "metadata": {},
   "outputs": [
    {
     "data": {
      "text/plain": [
       "langchain_core.messages.tool.ToolMessage"
      ]
     },
     "execution_count": 44,
     "metadata": {},
     "output_type": "execute_result"
    }
   ],
   "source": [
    "type(search_result2) # ToolMessage\n",
    "# tool이 리턴한 값을 str을 변환해서 content 속성으로 제공."
   ]
  },
  {
   "cell_type": "code",
   "execution_count": 45,
   "metadata": {},
   "outputs": [
    {
     "data": {
      "text/plain": [
       "{'content': '{\"query\": \"2025-2026 시즌 손흥민 이적설\", \"follow_up_questions\": null, \"answer\": null, \"images\": [\"https://thumbnews.nateimg.co.kr/view610/news.nateimg.co.kr/orgImg/kz/2024/11/16/news-p.v1.20240926.ad0cd8c9c02e4b35aa4c0c3b7b0c3735_P1.png\", \"https://image.xportsnews.com/contents/images/upload/article/2024/1221/1734758534483703.jpg\", \"https://img6.yna.co.kr/photo/etc/af/2025/01/04/PAF20250104194501009_P4.jpg\", \"https://img-s-msn-com.akamaized.net/tenant/amp/entityid/AA1udLWy.img?w=650&h=453&m=4&q=79\", \"https://fo-newscenter.s3.ap-northeast-2.amazonaws.com/sportal-korea/extract/2024/12/24/SK007_20241224_020101.jpg\"], \"results\": [{\"url\": \"https://www.sisafocus.co.kr/news/articleView.html?idxno=340357\", \"title\": \"\\'사우디 이적설 계속\\'… 손흥민, 토트넘 새 시즌 유니폼 모델로 등장\", \"content\": \"손흥민, 2025-2026시즌 토트넘 유니폼 모델로 공개된 모습. ⓒ토트넘 홋스퍼 소셜 미디어\\\\n\\\\n[시사포커스 / 이근우 기자] ‘주장’ 손흥민(32)이 토트넘 홋스퍼의 2025-2026시즌 유니폼 모델로 공개됐지만, 사우디아라비아 이적설은 여전히 수면 위에 떠 있다.\\\\n\\\\n영국 매체 텔레그래프는 3일(현지시간) “토트넘은 사우디 프로리그(SPL)가 노리는 손흥민의 이적료를 확보할 기회를 가졌다”며 “이번 여름 이적 시장에서 손흥민의 향방이 주목된다”고 전했다.\\\\n\\\\n토트넘은 2024-2025시즌 UEFA 유로파리그 우승으로 무관 탈출에 성공하며 차기 시즌 챔피언스리그(UCL) 진출권을 획득했다. 구단은 전력 보강을 위한 스쿼드 재편 가능성이 높아지면서 손흥민의 이적 여부가 큰 관심사로 떠오르고 있다.\\\\n\\\\n손흥민은 지난 1월, 토트넘이 1년 연장 옵션을 발동하며 2025년 6월 30일까지 계약이 연장된 상태다. 이와 관련해, 구단이 이적료 확보를 염두에 둔 결정이라는 분석도 이어지고 있다. [...] [![Image 4](https://www.sisafocus.co.kr/image/audioclip-b.png)](https://audioclip.naver.com/channels/7994)_바로가기_ _복사하기_ _본문 글씨 줄이기_ _본문 글씨 키우기_\\\\n\\\\n#### SNS 기사보내기\\\\n\\\\n_페이스북(으)로 기사보내기_ _트위터(으)로 기사보내기_ _카카오스토리(으)로 기사보내기_ _URL복사(으)로 기사보내기_ _이메일(으)로 기사보내기_ _다른 공유 찾기_ _기사스크랩하기_\\\\n\\\\n#### 토트넘, 손흥민 유니폼 모델로 공개… 이적료 확보 위한 포석 가능성\\\\n\\\\n![Image 5: 손흥민, 2025-2026시즌 토트넘 유니폼 모델로 공개된 모습.\\xa0 ⓒ토트넘 홋스퍼 소셜 미디어](https://cdn.sisafocus.co.kr/news/photo/202506/340357_418998_2313.jpg) [...] 홋스퍼](https://www.sisafocus.co.kr/news/articleList.html?sc_area=A&sc_word=%ED%86%A0%ED%8A%B8%EB%84%98%20%ED%99%8B%EC%8A%A4%ED%8D%BC&view_type=sm)[#2024-2025시즌](https://www.sisafocus.co.kr/news/articleList.html?sc_area=A&sc_word=2024-2025%EC%8B%9C%EC%A6%8C&view_type=sm)[#2025-2026시즌](https://www.sisafocus.co.kr/news/articleList.html?sc_area=A&sc_word=2025-2026%EC%8B%9C%EC%A6%8C&view_type=sm)[#유니폼](https://www.sisafocus.co.kr/news/articleList\", \"score\": 0.90907925, \"raw_content\": null}, {\"url\": \"https://www.chosun.com/sports/world-football/2025/06/21/FETBEWJJO7VNAVYM5JQQT67Z4A/\", \"title\": \"\\\\\"손흥민 이적, 거의 확정됐다\\\\\" 3년 1426억 돈방석 보인다! 토트넘도 ...\", \"content\": \"손흥민은 올여름 토트넘을 떠날 가능성이 커지고 있다. 그는 2025-2026시즌을 끝으로 계약이 만료되기 때문. 토트넘으로서도 손흥민을 매각해 이적료를 챙길 마지막\", \"score\": 0.86136365, \"raw_content\": null}, {\"url\": \"https://v.daum.net/v/20250604093004685\", \"title\": \"\\'캡틴\\' 손흥민, 새 시즌 토트넘 유니폼 입고 등장...\\'사우디 이적설\\' 종결?\", \"content\": \"토트넘 홋스퍼의 2025-2026시즌 유니폼 모델로 나선 손흥민. (MHN 금윤호 기자) ... 하지만 우승의 기쁨이 식자 손흥민은 최근 사우디아라비아 이적설에 시달리고 있다.\", \"score\": 0.8497846, \"raw_content\": null}], \"response_time\": 0.87}',\n",
       " 'additional_kwargs': {},\n",
       " 'response_metadata': {},\n",
       " 'type': 'tool',\n",
       " 'name': 'tavily_search',\n",
       " 'id': None,\n",
       " 'tool_call_id': 'call_8jIBmKSdvwDdcBvuOgGa1gef',\n",
       " 'artifact': None,\n",
       " 'status': 'success'}"
      ]
     },
     "execution_count": 45,
     "metadata": {},
     "output_type": "execute_result"
    }
   ],
   "source": [
    "vars(search_result2) # vars(): 내장 함수 확인\n",
    "# 객체 -> dictionary (instance 변수 - 키, 변수 값 - value)"
   ]
  },
  {
   "cell_type": "markdown",
   "metadata": {},
   "source": [
    "#### tool_call 이 여러개일 경우 \n",
    "- 질의에 대해 tool을 여러번 호출 해야 하는 경우 tool_calling 정보를 여러개 반환할 수 있다.\n",
    "    - 예) 검색할 키워드가 여러개인 경우. \n",
    "- `tool.batch([tool_call1, tool_call2, ..])`"
   ]
  },
  {
   "cell_type": "code",
   "execution_count": 46,
   "metadata": {},
   "outputs": [
    {
     "data": {
      "text/plain": [
       "[{'name': 'tavily_search',\n",
       "  'args': {'query': '2025-2026 시즌 손흥민 이적설',\n",
       "   'time_range': 'year',\n",
       "   'search_depth': 'advanced'},\n",
       "  'id': 'call_8jIBmKSdvwDdcBvuOgGa1gef',\n",
       "  'type': 'tool_call'},\n",
       " {'name': 'tavily_search',\n",
       "  'args': {'query': '2025-2026 시즌 김민재 이적설',\n",
       "   'time_range': 'year',\n",
       "   'search_depth': 'advanced'},\n",
       "  'id': 'call_4X6g8fcKAyQwXwCMcUCoYmB5',\n",
       "  'type': 'tool_call'},\n",
       " {'name': 'tavily_search',\n",
       "  'args': {'query': '2025-2026 시즌 이강인 이적설',\n",
       "   'time_range': 'year',\n",
       "   'search_depth': 'advanced'},\n",
       "  'id': 'call_1hIBlgRAHWeNCmY6Lr8kTEtn',\n",
       "  'type': 'tool_call'}]"
      ]
     },
     "execution_count": 46,
     "metadata": {},
     "output_type": "execute_result"
    }
   ],
   "source": [
    "resp2.tool_calls"
   ]
  },
  {
   "cell_type": "markdown",
   "metadata": {},
   "source": [
    "### Runnable을 한 번에 여러 번 호출할 때\n",
    "#### Runnable.batch([전달할 값1, 전달할 값2, ....]): [결과값1, 결과값2, ....]"
   ]
  },
  {
   "cell_type": "code",
   "execution_count": null,
   "metadata": {},
   "outputs": [],
   "source": [
    "# Runnable을 한 번에 여러 번 호출할 때\n",
    "## Runnable.batch([전달할 값1, 전달할 값2, ....]): [결과값1, 결과값2, ....]\n",
    "resp = model.batch([\"안녕하세요\", \n",
    "                    \"LLM에 대해서 20글자로 요약 설명해줘.\", \n",
    "                    \"손흥민 이적설을 20글자로 설명해줘.\"])\n"
   ]
  },
  {
   "cell_type": "code",
   "execution_count": 48,
   "metadata": {},
   "outputs": [
    {
     "data": {
      "text/plain": [
       "[AIMessage(content='안녕하세요! 무엇을 도와드릴까요?', additional_kwargs={'refusal': None}, response_metadata={'token_usage': {'completion_tokens': 11, 'prompt_tokens': 9, 'total_tokens': 20, 'completion_tokens_details': {'accepted_prediction_tokens': 0, 'audio_tokens': 0, 'reasoning_tokens': 0, 'rejected_prediction_tokens': 0}, 'prompt_tokens_details': {'audio_tokens': 0, 'cached_tokens': 0}}, 'model_name': 'gpt-4.1-mini-2025-04-14', 'system_fingerprint': 'fp_6f2eabb9a5', 'id': 'chatcmpl-BlDD35qZcFOS7xGfZTnMp7E6KQkUj', 'service_tier': 'default', 'finish_reason': 'stop', 'logprobs': None}, id='run--77987b49-853b-4889-9e8a-0ccb4b47106e-0', usage_metadata={'input_tokens': 9, 'output_tokens': 11, 'total_tokens': 20, 'input_token_details': {'audio': 0, 'cache_read': 0}, 'output_token_details': {'audio': 0, 'reasoning': 0}}),\n",
       " AIMessage(content='대규모 언어 학습 모델, 자연어 처리 기반.', additional_kwargs={'refusal': None}, response_metadata={'token_usage': {'completion_tokens': 14, 'prompt_tokens': 21, 'total_tokens': 35, 'completion_tokens_details': {'accepted_prediction_tokens': 0, 'audio_tokens': 0, 'reasoning_tokens': 0, 'rejected_prediction_tokens': 0}, 'prompt_tokens_details': {'audio_tokens': 0, 'cached_tokens': 0}}, 'model_name': 'gpt-4.1-mini-2025-04-14', 'system_fingerprint': 'fp_6f2eabb9a5', 'id': 'chatcmpl-BlDD3yS6FGTP9JtI5uMqTUvnUJyRO', 'service_tier': 'default', 'finish_reason': 'stop', 'logprobs': None}, id='run--354c70e8-19b2-413c-99f0-2d1fd8090744-0', usage_metadata={'input_tokens': 21, 'output_tokens': 14, 'total_tokens': 35, 'input_token_details': {'audio': 0, 'cache_read': 0}, 'output_token_details': {'audio': 0, 'reasoning': 0}}),\n",
       " AIMessage(content='손흥민, 빅클럽 이적설 지속 화제.', additional_kwargs={'refusal': None}, response_metadata={'token_usage': {'completion_tokens': 15, 'prompt_tokens': 22, 'total_tokens': 37, 'completion_tokens_details': {'accepted_prediction_tokens': 0, 'audio_tokens': 0, 'reasoning_tokens': 0, 'rejected_prediction_tokens': 0}, 'prompt_tokens_details': {'audio_tokens': 0, 'cached_tokens': 0}}, 'model_name': 'gpt-4.1-mini-2025-04-14', 'system_fingerprint': 'fp_6f2eabb9a5', 'id': 'chatcmpl-BlDD3RErMjpNnElfJiPmd8zISw4cM', 'service_tier': 'default', 'finish_reason': 'stop', 'logprobs': None}, id='run--0b719bf6-870c-4d94-a109-dc89120767d1-0', usage_metadata={'input_tokens': 22, 'output_tokens': 15, 'total_tokens': 37, 'input_token_details': {'audio': 0, 'cache_read': 0}, 'output_token_details': {'audio': 0, 'reasoning': 0}})]"
      ]
     },
     "execution_count": 48,
     "metadata": {},
     "output_type": "execute_result"
    }
   ],
   "source": [
    "resp"
   ]
  },
  {
   "cell_type": "code",
   "execution_count": 49,
   "metadata": {},
   "outputs": [],
   "source": [
    "search_result3 = tavily_search.batch(resp2.tool_calls)"
   ]
  },
  {
   "cell_type": "markdown",
   "metadata": {},
   "source": [
    "resp2"
   ]
  },
  {
   "cell_type": "code",
   "execution_count": 50,
   "metadata": {},
   "outputs": [
    {
     "data": {
      "text/plain": [
       "[ToolMessage(content='{\"query\": \"2025-2026 시즌 손흥민 이적설\", \"follow_up_questions\": null, \"answer\": null, \"images\": [\"https://thumbnews.nateimg.co.kr/view610/news.nateimg.co.kr/orgImg/kz/2024/11/16/news-p.v1.20240926.ad0cd8c9c02e4b35aa4c0c3b7b0c3735_P1.png\", \"https://image.xportsnews.com/contents/images/upload/article/2024/1221/1734758534483703.jpg\", \"https://img6.yna.co.kr/photo/etc/af/2025/01/04/PAF20250104194501009_P4.jpg\", \"https://img-s-msn-com.akamaized.net/tenant/amp/entityid/AA1udLWy.img?w=650&h=453&m=4&q=79\", \"https://fo-newscenter.s3.ap-northeast-2.amazonaws.com/sportal-korea/extract/2024/12/24/SK007_20241224_020101.jpg\"], \"results\": [{\"url\": \"https://www.sisafocus.co.kr/news/articleView.html?idxno=340357\", \"title\": \"\\'사우디 이적설 계속\\'… 손흥민, 토트넘 새 시즌 유니폼 모델로 등장\", \"content\": \"손흥민, 2025-2026시즌 토트넘 유니폼 모델로 공개된 모습. ⓒ토트넘 홋스퍼 소셜 미디어\\\\n\\\\n[시사포커스 / 이근우 기자] ‘주장’ 손흥민(32)이 토트넘 홋스퍼의 2025-2026시즌 유니폼 모델로 공개됐지만, 사우디아라비아 이적설은 여전히 수면 위에 떠 있다.\\\\n\\\\n영국 매체 텔레그래프는 3일(현지시간) “토트넘은 사우디 프로리그(SPL)가 노리는 손흥민의 이적료를 확보할 기회를 가졌다”며 “이번 여름 이적 시장에서 손흥민의 향방이 주목된다”고 전했다.\\\\n\\\\n토트넘은 2024-2025시즌 UEFA 유로파리그 우승으로 무관 탈출에 성공하며 차기 시즌 챔피언스리그(UCL) 진출권을 획득했다. 구단은 전력 보강을 위한 스쿼드 재편 가능성이 높아지면서 손흥민의 이적 여부가 큰 관심사로 떠오르고 있다.\\\\n\\\\n손흥민은 지난 1월, 토트넘이 1년 연장 옵션을 발동하며 2025년 6월 30일까지 계약이 연장된 상태다. 이와 관련해, 구단이 이적료 확보를 염두에 둔 결정이라는 분석도 이어지고 있다. [...] [![Image 4](https://www.sisafocus.co.kr/image/audioclip-b.png)](https://audioclip.naver.com/channels/7994)_바로가기_ _복사하기_ _본문 글씨 줄이기_ _본문 글씨 키우기_\\\\n\\\\n#### SNS 기사보내기\\\\n\\\\n_페이스북(으)로 기사보내기_ _트위터(으)로 기사보내기_ _카카오스토리(으)로 기사보내기_ _URL복사(으)로 기사보내기_ _이메일(으)로 기사보내기_ _다른 공유 찾기_ _기사스크랩하기_\\\\n\\\\n#### 토트넘, 손흥민 유니폼 모델로 공개… 이적료 확보 위한 포석 가능성\\\\n\\\\n![Image 5: 손흥민, 2025-2026시즌 토트넘 유니폼 모델로 공개된 모습.\\xa0 ⓒ토트넘 홋스퍼 소셜 미디어](https://cdn.sisafocus.co.kr/news/photo/202506/340357_418998_2313.jpg) [...] 홋스퍼](https://www.sisafocus.co.kr/news/articleList.html?sc_area=A&sc_word=%ED%86%A0%ED%8A%B8%EB%84%98%20%ED%99%8B%EC%8A%A4%ED%8D%BC&view_type=sm)[#2024-2025시즌](https://www.sisafocus.co.kr/news/articleList.html?sc_area=A&sc_word=2024-2025%EC%8B%9C%EC%A6%8C&view_type=sm)[#2025-2026시즌](https://www.sisafocus.co.kr/news/articleList.html?sc_area=A&sc_word=2025-2026%EC%8B%9C%EC%A6%8C&view_type=sm)[#유니폼](https://www.sisafocus.co.kr/news/articleList\", \"score\": 0.90907925, \"raw_content\": null}, {\"url\": \"https://www.chosun.com/sports/world-football/2025/06/21/FETBEWJJO7VNAVYM5JQQT67Z4A/\", \"title\": \"\\\\\"손흥민 이적, 거의 확정됐다\\\\\" 3년 1426억 돈방석 보인다! 토트넘도 ...\", \"content\": \"손흥민은 올여름 토트넘을 떠날 가능성이 커지고 있다. 그는 2025-2026시즌을 끝으로 계약이 만료되기 때문. 토트넘으로서도 손흥민을 매각해 이적료를 챙길 마지막\", \"score\": 0.86136365, \"raw_content\": null}, {\"url\": \"https://v.daum.net/v/20250604093004685\", \"title\": \"\\'캡틴\\' 손흥민, 새 시즌 토트넘 유니폼 입고 등장...\\'사우디 이적설\\' 종결?\", \"content\": \"토트넘 홋스퍼의 2025-2026시즌 유니폼 모델로 나선 손흥민. (MHN 금윤호 기자) ... 하지만 우승의 기쁨이 식자 손흥민은 최근 사우디아라비아 이적설에 시달리고 있다.\", \"score\": 0.8497846, \"raw_content\": null}], \"response_time\": 0.78}', name='tavily_search', tool_call_id='call_8jIBmKSdvwDdcBvuOgGa1gef'),\n",
       " ToolMessage(content='{\"query\": \"2025-2026 시즌 김민재 이적설\", \"follow_up_questions\": null, \"answer\": null, \"images\": [\"https://many-information.com/wp-content/uploads/2024/08/image-26-optimized.png\", \"https://many-information.com/wp-content/uploads/2024/08/image-28-optimized.png\", \"https://mydaily.co.kr/photos/2024/03/24/2024032410032981903_l.jpg\", \"https://rzelle.com/20230607/kimminjea-013.jpg\", \"https://cdnweb01.wikitree.co.kr/webdata/editor/202405/01/img_20240501102123_20229a49.webp\"], \"results\": [{\"url\": \"https://www.xportsnews.com/article/2013359\", \"title\": \"\\'김민재? 1100억 내든가, 무조건 잔류지\\' 양심도 없는 뮌헨 \\\\\"KIM 지킨다 ...\", \"content\": \"독일 언론들은 4월부터 계속 김민재가 방출 명단에 올라 이적 가능성을 점치기 시작했는데 상당한 고액 연봉이 그의 발목을 잡는 분위기다. 첼시, 토트넘, 리버풀, 뉴캐슬 유나이티드(이상 잉글랜드), AC밀란(이탈리아) 등이 적극적으로 관심을 보였지만, 프리미어리그 구단이나 사우디 외에는 이 연봉을 맞추기 쉽지 않다.\\\\n\\\\n 이적이 지지부진한 가운데 뮌헨은 김민재를 다시 활용하고 있다. 이미 발표된 2025-2026시즌 홈 유니폼 모델로 김민재를 발탁하는가 하면, 곧 시작하는 클럽 월드컵 출전 명단에도 그를 포함시키며 그를 활용하려는 의지를 드러내고 있다.클럽월드컵이 김민재에게는 뮌헨 잔류 가능성을 높일 기회가 될 수 있다.\\\\n\\\\n![Image 9](https://image.xportsnews.com/contents/images/upload/article/2025/0611/1749620673683604.jpg)\\\\n\\\\n 사진=연합뉴스, 뮌헨 [...] Advertisements\\\\n\\\\npnutech_xports [2.5] curation-20250616-11:02\\\\n\\\\nCANCEL\\\\n\\\\nNEXT VIDEO\\\\n\\\\nPause Play\\\\n\\\\n% buffered 00:00\\\\n\\\\n00:00\\\\n\\\\n00:00\\\\n\\\\nUnmute Mute\\\\n\\\\nPlay\\\\n\\\\nPowered by \\\\n\\\\nGliaStudio\\\\n\\\\n 여기에 튀르키예 기자 야기즈 사분쿠오글루가 최근 불거진 갈라타사라이 이적설을 언급하면서 \\\\\"김민재는 튀르키예 복귀 생각이 없다. 그가 뮌헨을 떠난다면, 그는 유럽축구연맹(UEFA) 챔피언스리그 우승 후보팀에서 뛰길 원한다\\\\\"라며 \\\\\"뮌헨도 김민재의 이적료로 대략 7000만 유로(약 1099억원)의 이적료를 원한다\\\\\"라고 밝혔다.\\\\n\\\\n 최근까지도 김민재는 뮌헨의 판매 대상으로 여겨졌다.\\\\n\\\\n![Image 6](https://image.xportsnews.com/contents/images/upload/article/2025/0612/1749716303706643.jpg) [...] ![Image 7](https://image.xportsnews.com/contents/images/upload/article/2025/0611/1749620680990069.jpg)\\\\n\\\\n 이어 \\\\\"이 선수 중에 선호하는 타깃은 없다. 지금 상황에서는 구체적이지 않다\\\\\"라면서 \\\\\"김민재의 연봉이 아틀레티코에게 문제가 될 것이다. 그의 연봉은 아틀레티코에서는 스페인에서 두 번째로 높은 앙투완 그리즈만의 연봉과 같다. 대략 1200만 유로(약 188억원)에 달한다\\\\\"라며 김민재의 고액 연봉이 이적에 걸림돌이 될 수 있다고 했다.\\\\n\\\\n 프랑스 매체 풋메르카토는 \\\\\"알나스르가 김민재 영입을 위한 노력을 강화하고 있다. 알나스르는 공격적으로 최근 선수 측을 설득하고 있다. 진전된 대화가 오갔다\\\\\"라며 \\\\\"알나스르는 김민재 영입으로 수비라인을 강화하려고 한다\\\\\"라고 밝혔다.\\\\n\\\\n 다만 사우디 쪽 보도에서는 구체적인 액수는 알려지지 않았다.\", \"score\": 0.8585411, \"raw_content\": null}, {\"url\": \"https://www.chosun.com/sports/world-football/2025/06/03/46743QTCNBPTKS5LVXT3GHCV4I/\", \"title\": \"김민재는 헌신했는데...정작 구단은 바로 대체자 + 매각 추진 - 조선일보\", \"content\": \"그러나 이런 혹사에도 바이에른은 김민재가 UCL 등에서 부진했다고 비난하기도 했다. 말 그대로 자신을 희생하면서 팀을 위해 달린 선수에 대해 부상이나 몸 상태를 전혀 고려하지 않았던 것. 이런 태도에 대해서 독일 언론에서도 비판의 목소리가 나오기도 했다.\\\\n\\\\n거기다 시즌이 끝난 지금, 김민재의 이름은 이적설과 함께 다시 헤드라인에 오르고 있다. 바이에른은 지난달 레버쿠젠의 주전 수비수 요나탄 타(29)를 영입했다. 이에 따라 김민재의 입지는 급격히 흔들리고 있다. 트랜스퍼마크트는 \\'2025-2026시즌 바이에른 예상 베스트11\\'에서 김민재를 제외하고 타-우파메카노 센터백 조합을 배치했다.\\\\n\\\\n실제 현지 매체들은 김민재를 올여름 이적시장의 방출 리스트에 올려놓고 있다고 보도했다. 빌트의 크리스티안 폴크와 토비아스 알트샤플은 \\\\\"구단 내부에서는 김민재의 활약이 기대치를 충족시키지 못했다고 판단하고 있다. 그는 매각 대상으로 분류됐다\\\\\"라고 전했다. [...] 김민재의 거취를 두고 가장 적극적인 관심을 보이는 팀은 세리에A의 유벤투스와 인터 밀란이다. 특히 유벤투스는 김민재를 나폴리 시절 데려온 크리스티아노 지운톨리 단장이 복귀를 추진 중이라는 점에서 설득력을 더한다.나폴리는 2022년 김민재를 영입한 뒤 그의 수비력에 힘입어 33년 만에 스쿠데토를 들어 올렸다. 지운톨리는 당시의 성공 경험을 바탕으로 김민재의 복귀를 강하게 희망하고 있다.\\\\n\\\\n김민재 역시 이적 가능성을 열어두고 있다. 빌트는 \\\\\"그는 올 시즌 내내 거센 비판에 직면했으며, 상황이 달라지지 않는다면 매력적인 제안이 올 경우 이적도 고려할 것\\\\\"이라고 밝혔다.\\\\n\\\\n이런 상황서 바이에른이 김민재르 혹사 가깝게 썼다는 것이 다시 한 번 알려져서 마음을 아프게 하고 있다.빌트는 \\\\\"김민재의 상태는 프리시즌까지 영향을 미칠 수 있으며, 뱅상 콤파니 감독 입장에서는 핵심 수비 전력의 공백이 뼈아플 수밖에 없다\\\\\"라고 전했다.\", \"score\": 0.8576849, \"raw_content\": null}, {\"url\": \"https://sports.news.nate.com/view/20250522n41405\", \"title\": \"김민재 행선지 터졌다! BBC급 HERE WE GO 확인 \\\\\"EPL 아니면 ...\", \"content\": \"이후 독일 언론들은 일제히 김민재를 방출 대상으로 분류하며 이번 여름 이적시장에서 팔아야 한다고 주장하고 있다.\\\\n\\\\n독일의 이적시장 전문 매체 트랜스퍼마르크트는 아예 김민재를 2025-2026시즌 바이에른 예상 베스트11에서 제외하며 김민재가 뮌헨에서 자리가 없을 거라고 전망하기도 했다.\\\\n\\\\n김민재가 뮌헨을 떠나게 된다면 프리미어리그 혹은 사우디가 유력할 것으로 보인다. 실제로 최근 첼시와 뉴캐슬 유나이티드에서 김민재에게 관심이 있다는 소식이 전해지기도 했다. 사우디에서는 호화 군단 알힐랄이 관심을 보였던 것으로 알려졌다.\\\\n\\\\n![Image 4](https://thumbnews.nateimg.co.kr/view610///news.nateimg.co.kr/orgImg/xs/2025/05/22/1747921144128180.jpg) [...] 이번 시즌 김민재는 리그 27경기 2골을 기록하며 시즌 전반기 수비 라인의 중심축으로 활약, 분데스리가 우승에 기여했다. 유럽 5대 빅리그에서 두 개 리그(세리에A·분데스리가) 우승을 모두 경험한 첫 한국인이라는 역사도 함께 쓰게 됐다.\\\\n\\\\n하지만 시즌 종료를 앞둔 상황에서 김민재는 방출설에 휘말린 상태다. 시즌 후반기 경기력이 너무 좋지 않았다는 이유 때문이다.\\\\n\\\\n![Image 3](https://thumbnews.nateimg.co.kr/view610///news.nateimg.co.kr/orgImg/xs/2025/05/22/1747921134184529.jpg)\\\\n\\\\n김민재는 지난해 10월 아인트라흐트 프랑크푸르트전에서 아킬레스건 을 다쳐 몸 상태가 안 좋아지기 시작됐고, 이후 진통제를 맞아가며 경기를 뛰었다. 그러다 유럽축구연맹(UEFA) 챔피언스리그 8강에서 인터밀란을 만나 대형 실수를 연달아 범하면서 탈락 원흉으로 찍혔다. [...] 전체 내용을 이해하기 위해서는 기사 본문 전체를 확인하는 것이 더 좋습니다.\\\\n\\\\n_AI_ 챗이 열심히 분석 중입니다. 잠시만 기다려주세요. \\\\n\\\\n[_\\\\\\\\_AI\\\\\\\\_ 챗_ 바로가기](https://m.nate.com/aichat.html)\\\\n\\\\n![Image 1: 김민재 행선지 터졌다! BBC급 HERE WE GO 확인 \\\\\"EPL 아니면 사우디…연봉이 문제야\\\\\"](https://thumbnews.nateimg.co.kr/view610///news.nateimg.co.kr/orgImg/xs/2025/05/22/1747924300363054.png)\\\\n\\\\n(엑스포츠뉴스 나승우 기자) 한국 축구 국가대표 센터백 김민재가 바이에른 뮌헨을 떠날 경우 가장 유력한 행선지는 사우디아라비아 또는 프리미어리그가 될 것으로 보인다. 문제는 김민재의 높은 연봉이다.\", \"score\": 0.8571119, \"raw_content\": null}], \"response_time\": 4.44}', name='tavily_search', tool_call_id='call_4X6g8fcKAyQwXwCMcUCoYmB5'),\n",
       " ToolMessage(content='{\"query\": \"2025-2026 시즌 이강인 이적설\", \"follow_up_questions\": null, \"answer\": null, \"images\": [\"https://i3n.news1.kr/system/photos/2024/5/20/6657541/high.jpg\", \"https://img1.daumcdn.net/thumb/R800x0/?scode=mtistory2&fname=https://blog.kakaocdn.net/dn/cpBgtJ/btsMRWIVpYf/SmvNzMPvvNiC0ykyIeA7a1/img.png\", \"https://menu.mt.co.kr/mobile/osen/data/2025/04/29/202504291158778873_320_1.jpg\", \"https://dimg1.donga.com/wps/SPORTS/IMAGE/2025/04/10/131386753.1.jpg\", \"https://news.nateimg.co.kr/orgImg/sd/2023/04/06/118707952.1.jpg\"], \"results\": [{\"url\": \"https://www.besteleven.com/news/articleView.html?idxno=231044\", \"title\": \"챔스 우승한 PSG, 수비 보강에도 1100억 베팅… 본머스 핵심 자바르니 ...\", \"content\": \"이강인이 속한 파리 생제르맹이 2025-2026시즌을 위한 전력 보강에 박차를 가하고 있다. 이번에는 AFC 본머스 수비의 핵 일리야 자바르니 영입을 위해 6,000만 파운드\", \"score\": 0.72254705, \"raw_content\": null}, {\"url\": \"https://v.daum.net/v/20250618125510579\", \"title\": \"이강인, \\'나폴리 오피셜\\' 왜 안 터지나?…\\'기존 선수 매각해야 LEE 협상 ...\", \"content\": \"나폴리 소식을 전하는 \\'아레아 나폴리\\'는 \\'코리에레 델로 스포르트\\' 보도를 인용, \\\\\"나폴리가 이강인 영입을 위해 확실한 제안을 준비하고 있다\\\\\"고 알렸다.\\\\n\\\\n이어 \\\\\"나폴리는 다음 시즌(2025-2026)을 앞두고 특히 미드필더진에 큰 변화를 준비하고 있다. 필리프 빌링을 완전 영입하지 않을 것이다. 앙드레 앙귀사, 스타니슬라프 로보트카 등 미래다 불투명하다\\\\\"고 설명했다.\\\\n\\\\n![Image 5](https://img2.daumcdn.net/thumb/R658x0.q70/?fname=https://t1.daumcdn.net/news/202506/18/xportsnews/20250618125517154qimz.jpg)\\\\n\\\\n그리고 \\\\\"나폴리는 이강인 영입을 위해 PSG와 협상 중이다. 나폴리는 그를 1년 전부터 원했다. 당시 PSG는 이강인을 거래 불가 선수로 구분했다\\\\\"며 \\\\\"지금은 상황이 달라졌다. 이강인은 누구보다 출전 기회를 받고 싶어 한다\\\\\"고 주장했다. [...] 파리 생제르맹(PSG)으로 이적 후 직전 시즌(2024-2025) 프랑스 1부리그(리그 1) 38라운드 중 30경기에 출전했다. 6득점 6도움을 기록해 팀 내 최다 공격 포인트 공동 4위를 기록했다. 또 팀 내 최다 기회 창출 2위(57회) 90분당 기대 어시스트(xA) 2위(0.35) 등 자신의 장점을 확실히 보여줬다.\\\\n\\\\n![Image 4](https://img3.daumcdn.net/thumb/R658x0.q70/?fname=https://t1.daumcdn.net/news/202506/18/xportsnews/20250618125515787ydxf.jpg)\\\\n\\\\n독일 축구 이적시장 전문 사이트 \\'트란스퍼마르크트\\'에 따르면 현재 앙귀사의 추정 몸값은 2700만 유로(약 428억원)다. 나폴리가 그를 판매 후 자금을 챙기면 이강인 영입에 적극적으로 나설 것으로 예상된다.\\\\n\\\\n나폴리는 이강인 영입에 진심이다.\", \"score\": 0.7197191, \"raw_content\": null}, {\"url\": \"https://www.chosun.com/sports/world-football/2025/06/02/RGSDT2PDRJ2P6NIL2U42SBTB2M/\", \"title\": \"\\'1170억 위한 PSG 정리 시작\\' \\'전력외\\' 이강인, PSG 떠난다... 선수단 개편\", \"content\": \"이적 대상에는 이강인과 곤살루 하무스가 포함됐다. 두 선수 모두 2024-2025시즌 유럽축구연맹(UEFA) 챔피언스리그(UCL) 우승 스쿼드에 포함됐지만 실제 출전 기회는 거의 없었다. 특히 이강인은 결승 무대에서 끝까지 벤치에 머무르며 단 1초도 그라운드를 밟지 못했다.\\\\n\\\\n이강인은 지난 여름 마요르카를 떠나 PSG로 이적했으며 2028년까지 장기 계약을 맺고 있다. 하지만 시즌 후반기 루이스 엔리케 감독의 플랜에서 밀려나면서 입지가 불안해졌다. 기술력과 경기 운영 능력을 인정받고 있지만 PSG의 전술 내에서는 역할이 제한적이었다.\\\\n\\\\n시장에서는 이미 이강인을 향한 관심이 감지되고 있다. 이탈리아 세리에A의 나폴리와 프리미어리그의 맨체스터 유나이티드가 유력한 행선지로 언급되고 있다. 두 팀 모두 창의적인 미드필더 자원을 필요로 하고 있어 이강인의 정교한 패싱과 탈압박 능력에 주목하는 분위기다. [...] 한편 PSG는 지난 1일 UCL 결승전에서 인터 밀란을 5-0으로 꺾으며 창단 55년 만에 유럽 정상에 섰다. 트로피 수집과 별개로, 루이스 엔리케 감독과 루이스 캄포스 단장은 선수단 리빌딩을 통해 2025-2026시즌에는 더욱 견고한 팀으로 도약하겠다는 구상을 그리고 있다. / 10bird@osen.co.kr\\\\n\\\\n[![Image 2: 조선일보 이벤트](https://cloudfront-ap-northeast-1.images.arcpublishing.com/chosun/4GILHKMA4FFM7OZZ5XDCRZHTUE.png)![Image 3: 조선일보 이벤트](https://cloudfront-ap-northeast-1.images.arcpublishing.com/chosun/D62M74BNPZDA3PPU5S5IU7EYIY.png)](https://members.chosun.com/arc/arc_event/ongoing/question/1264709_7686.jsp) [...] 이강인의 현재 시장 가치는 3000만 유로(469억 원)로 평가된다. PSG는 이적 제안이 이 가격대 이상에서 들어올 경우 적극적으로 협상에 나설 계획인 것으로 알려졌다.\\\\n\\\\n하무스 역시 PSG에서 입지를 굳히지 못했다. 뎀벨레, 음바페, 콜로 무아니 등과의 경쟁에서 밀리며 출전 시간이 줄었고 리버풀이 그의 영입을 고려 중이라는 보도도 나왔다. 하무스는 지난 시즌 벤피카에서 이적해왔으며 당시 PSG가 지불한 금액은 4500만 유로(700억 원)에 달했다.\\\\n\\\\n두 선수의 매각이 성사될 경우 PSG는 약 7500만 유로를 손에 쥐게 된다. 이는 단순한 매각을 넘어 연봉 구조 재편과 함께 수비진 보강 및 측면 공격수 영입을 위한 실탄으로 활용될 전망이다.\", \"score\": 0.7152057, \"raw_content\": null}], \"response_time\": 2.56}', name='tavily_search', tool_call_id='call_1hIBlgRAHWeNCmY6Lr8kTEtn')]"
      ]
     },
     "execution_count": 50,
     "metadata": {},
     "output_type": "execute_result"
    }
   ],
   "source": [
    "search_result3"
   ]
  },
  {
   "cell_type": "markdown",
   "metadata": {},
   "source": [
    "## Tool 의 처리(응답) 결과를 LLM 요청시 사용\n",
    "- ToolMessage를 prompt 에 추가하여 LLM에 요청한다.\n",
    "- ToolMessage 는 Tool Calling 정보를 가진 AIMessage 다음에 들어와야 한다.\n",
    "- Prompt 순서\n",
    "    1. 일반 prompt (system, 대화 history, .., human)\n",
    "    2. AIMessage: tool calling 정보를 가진 AIMessage. (tool_model에 질의 받은 tool calling 정보가 있는 응답)\n",
    "    3. ToolMessage:  Tool의 처리 결과"
   ]
  },
  {
   "cell_type": "code",
   "execution_count": 99,
   "metadata": {},
   "outputs": [
    {
     "data": {
      "text/plain": [
       "AIMessage(content='', additional_kwargs={'tool_calls': [{'id': 'call_8jIBmKSdvwDdcBvuOgGa1gef', 'function': {'arguments': '{\"query\": \"2025-2026 시즌 손흥민 이적설\", \"time_range\": \"year\", \"search_depth\": \"advanced\"}', 'name': 'tavily_search'}, 'type': 'function'}, {'id': 'call_4X6g8fcKAyQwXwCMcUCoYmB5', 'function': {'arguments': '{\"query\": \"2025-2026 시즌 김민재 이적설\", \"time_range\": \"year\", \"search_depth\": \"advanced\"}', 'name': 'tavily_search'}, 'type': 'function'}, {'id': 'call_1hIBlgRAHWeNCmY6Lr8kTEtn', 'function': {'arguments': '{\"query\": \"2025-2026 시즌 이강인 이적설\", \"time_range\": \"year\", \"search_depth\": \"advanced\"}', 'name': 'tavily_search'}, 'type': 'function'}], 'refusal': None}, response_metadata={'token_usage': {'completion_tokens': 127, 'prompt_tokens': 794, 'total_tokens': 921, 'completion_tokens_details': {'accepted_prediction_tokens': 0, 'audio_tokens': 0, 'reasoning_tokens': 0, 'rejected_prediction_tokens': 0}, 'prompt_tokens_details': {'audio_tokens': 0, 'cached_tokens': 0}}, 'model_name': 'gpt-4.1-mini-2025-04-14', 'system_fingerprint': 'fp_6f2eabb9a5', 'id': 'chatcmpl-BlDCrn26flcs8ciz0asozSb9eCpqQ', 'service_tier': 'default', 'finish_reason': 'tool_calls', 'logprobs': None}, id='run--cbc5c76d-2d22-496e-8d75-4d9878b19927-0', tool_calls=[{'name': 'tavily_search', 'args': {'query': '2025-2026 시즌 손흥민 이적설', 'time_range': 'year', 'search_depth': 'advanced'}, 'id': 'call_8jIBmKSdvwDdcBvuOgGa1gef', 'type': 'tool_call'}, {'name': 'tavily_search', 'args': {'query': '2025-2026 시즌 김민재 이적설', 'time_range': 'year', 'search_depth': 'advanced'}, 'id': 'call_4X6g8fcKAyQwXwCMcUCoYmB5', 'type': 'tool_call'}, {'name': 'tavily_search', 'args': {'query': '2025-2026 시즌 이강인 이적설', 'time_range': 'year', 'search_depth': 'advanced'}, 'id': 'call_1hIBlgRAHWeNCmY6Lr8kTEtn', 'type': 'tool_call'}], usage_metadata={'input_tokens': 794, 'output_tokens': 127, 'total_tokens': 921, 'input_token_details': {'audio': 0, 'cache_read': 0}, 'output_token_details': {'audio': 0, 'reasoning': 0}})"
      ]
     },
     "execution_count": 99,
     "metadata": {},
     "output_type": "execute_result"
    }
   ],
   "source": [
    "resp2"
   ]
  },
  {
   "cell_type": "code",
   "execution_count": 52,
   "metadata": {},
   "outputs": [],
   "source": [
    "from langchain.prompts import ChatPromptTemplate, MessagesPlaceholder\n",
    "prompt = ChatPromptTemplate(\n",
    "    [\n",
    "        (\"system\", \"당신은 AI 정보 제공자입니다. 제공된 정보를 바탕으로 답변해주세요.\"),\n",
    "        (\"human\", \"{user_input}\"),\n",
    "        MessagesPlaceholder(variable_name=\"messages\", optional=True)\n",
    "    ]\n",
    ")\n",
    "input_dict = {\"user_input\":query, \"messages\":[resp2,*search_result3]} # messages: [AImessage, ToolMessage, ToolMessage, ...]\n",
    "final_chain = prompt | tool_model \n",
    "final_response = final_chain.invoke(input_dict)"
   ]
  },
  {
   "cell_type": "markdown",
   "metadata": {},
   "source": [
    "AI Message도 같이 넣어줘야 함!"
   ]
  },
  {
   "cell_type": "code",
   "execution_count": 53,
   "metadata": {},
   "outputs": [
    {
     "data": {
      "text/plain": [
       "[1, 2, 3]"
      ]
     },
     "execution_count": 53,
     "metadata": {},
     "output_type": "execute_result"
    }
   ],
   "source": [
    "# 참고: list 앞에 * (`\"messages\":[, *search_result3]`)\n",
    "a = [1, 2, 3]\n",
    "[a] # [[1, 2, 3]]\n",
    "[*a] # [1, 2, 3]: 리스트 원소를 풀어서 줌"
   ]
  },
  {
   "cell_type": "code",
   "execution_count": 54,
   "metadata": {},
   "outputs": [
    {
     "data": {
      "text/plain": [
       "AIMessage(content='2025-2026 시즌을 앞두고 손흥민, 김민재, 이강인 선수의 이적설을 정리하면 다음과 같습니다.\\n\\n1. 손흥민 (Son Heung-min)\\n- 2025-2026 시즌 손흥민은 토트넘 홋스퍼 모험으로 3년 계약 연장 가능성 보도됨.\\n- 토트넘은 손흥민을 사우디 프로리그 진출에 대한 제안 검토와 조율 중이며, 손흥민의 이적 여부에 대해 조심스러운 입장임.\\n- 토트넘 측은 손흥민의 이적을 쉽게 결정하지 않을 계획이고, 2025년 6월 30일까지 계약이 유효함.\\n- 손흥민 이적설은 사우디 아라비아 이적설과 연관되어 있으나 100% 확정된 상황은 아님.\\n\\n2. 김민재 (Kim Min-jae)\\n- 김민재는 2025-2026 시즌부터 PSG(파리 생제르맹 FC)와 계약이 유력하며, 영입 관련 협상이 진행 중임.\\n- 2024-2025 시즌에는 UCL 우승을 목표로 활약했으나, 다음 시즌 이적 가능성이 높음.\\n- 김민재는 제주에서 코로나19 문제로 출전 제한을 받았던 경험이 있으며, 최근 팀내 입지를 다지고 있음.\\n- BBC 등 주요 매체에서 EPL(잉글랜드 프리미어리그) 관심과 이적설이 나오기도 했으나 PSG 이적에 무게가 실리고 있음.\\n\\n3. 이강인 (Lee Kang-in)\\n- 이강인은 2025-2026 시즌부터 프랑스 리그1 팀 파리 생제르맹(PSG)과 연장 계약 가능성 및 이적설 거론 중.\\n- 현재 A대표팀과 연동되는 여러 이적 협상이 진행 중이며, AFC 본선 대회 준비 및 미래 계획도 포함됨.\\n- 이강인 이적은 PSG와 밀접하게 연결되어 있고, 파리에서의 활약을 계속할 것으로 예상됨.\\n\\n요약하자면, 2025-2026 시즌 손흥민은 토트넘에서 잔류하거나 사우디 프로리그 이적 가능성이 있고, 김민재와 이강인은 PSG 이적 또는 연장 계약 가능성이 큽니다. 각 선수별로 이적이 확정된 것은 아니며 협상과 조율이 진행 중인 상황입니다.', additional_kwargs={'refusal': None}, response_metadata={'token_usage': {'completion_tokens': 548, 'prompt_tokens': 17162, 'total_tokens': 17710, 'completion_tokens_details': {'accepted_prediction_tokens': 0, 'audio_tokens': 0, 'reasoning_tokens': 0, 'rejected_prediction_tokens': 0}, 'prompt_tokens_details': {'audio_tokens': 0, 'cached_tokens': 0}}, 'model_name': 'gpt-4.1-mini-2025-04-14', 'system_fingerprint': 'fp_6f2eabb9a5', 'id': 'chatcmpl-BlDDAdXHoFSEE9JxSVPCNeWGTKGQJ', 'service_tier': 'default', 'finish_reason': 'stop', 'logprobs': None}, id='run--edc73731-ec47-4533-80a5-f28f40b25ec5-0', usage_metadata={'input_tokens': 17162, 'output_tokens': 548, 'total_tokens': 17710, 'input_token_details': {'audio': 0, 'cache_read': 0}, 'output_token_details': {'audio': 0, 'reasoning': 0}})"
      ]
     },
     "execution_count": 54,
     "metadata": {},
     "output_type": "execute_result"
    }
   ],
   "source": [
    "final_response"
   ]
  },
  {
   "cell_type": "code",
   "execution_count": 55,
   "metadata": {},
   "outputs": [
    {
     "name": "stdout",
     "output_type": "stream",
     "text": [
      "2025-2026 시즌을 앞두고 손흥민, 김민재, 이강인 선수의 이적설을 정리하면 다음과 같습니다.\n",
      "\n",
      "1. 손흥민 (Son Heung-min)\n",
      "- 2025-2026 시즌 손흥민은 토트넘 홋스퍼 모험으로 3년 계약 연장 가능성 보도됨.\n",
      "- 토트넘은 손흥민을 사우디 프로리그 진출에 대한 제안 검토와 조율 중이며, 손흥민의 이적 여부에 대해 조심스러운 입장임.\n",
      "- 토트넘 측은 손흥민의 이적을 쉽게 결정하지 않을 계획이고, 2025년 6월 30일까지 계약이 유효함.\n",
      "- 손흥민 이적설은 사우디 아라비아 이적설과 연관되어 있으나 100% 확정된 상황은 아님.\n",
      "\n",
      "2. 김민재 (Kim Min-jae)\n",
      "- 김민재는 2025-2026 시즌부터 PSG(파리 생제르맹 FC)와 계약이 유력하며, 영입 관련 협상이 진행 중임.\n",
      "- 2024-2025 시즌에는 UCL 우승을 목표로 활약했으나, 다음 시즌 이적 가능성이 높음.\n",
      "- 김민재는 제주에서 코로나19 문제로 출전 제한을 받았던 경험이 있으며, 최근 팀내 입지를 다지고 있음.\n",
      "- BBC 등 주요 매체에서 EPL(잉글랜드 프리미어리그) 관심과 이적설이 나오기도 했으나 PSG 이적에 무게가 실리고 있음.\n",
      "\n",
      "3. 이강인 (Lee Kang-in)\n",
      "- 이강인은 2025-2026 시즌부터 프랑스 리그1 팀 파리 생제르맹(PSG)과 연장 계약 가능성 및 이적설 거론 중.\n",
      "- 현재 A대표팀과 연동되는 여러 이적 협상이 진행 중이며, AFC 본선 대회 준비 및 미래 계획도 포함됨.\n",
      "- 이강인 이적은 PSG와 밀접하게 연결되어 있고, 파리에서의 활약을 계속할 것으로 예상됨.\n",
      "\n",
      "요약하자면, 2025-2026 시즌 손흥민은 토트넘에서 잔류하거나 사우디 프로리그 이적 가능성이 있고, 김민재와 이강인은 PSG 이적 또는 연장 계약 가능성이 큽니다. 각 선수별로 이적이 확정된 것은 아니며 협상과 조율이 진행 중인 상황입니다.\n"
     ]
    }
   ],
   "source": [
    "print(final_response.content)"
   ]
  },
  {
   "cell_type": "markdown",
   "metadata": {},
   "source": [
    "위에서 했던 것들 하나로 다 합쳐볼게용"
   ]
  },
  {
   "cell_type": "code",
   "execution_count": 56,
   "metadata": {},
   "outputs": [
    {
     "data": {
      "text/plain": [
       "True"
      ]
     },
     "execution_count": 56,
     "metadata": {},
     "output_type": "execute_result"
    }
   ],
   "source": [
    "## 요청 - 응답까지의 전체 체인을 구성\n",
    "# query -> (tool + model=RunnableBinding) -> AIMessage.tool_calls \n",
    "#       -> (Tool) -> 처리결과(검색결과)\n",
    "#       -> (prompt template) -> prompt\n",
    "#       -> LLM -> 최종 응답.\n",
    "\n",
    "from langchain_tavily import TavilySearch\n",
    "from langchain_openai import ChatOpenAI\n",
    "from langchain.prompts import ChatPromptTemplate, MessagesPlaceholder\n",
    "from langchain_core.output_parsers import StrOutputParser\n",
    "from langchain_core.runnables import chain\n",
    "from dotenv import load_dotenv\n",
    "\n",
    "load_dotenv()"
   ]
  },
  {
   "cell_type": "code",
   "execution_count": 57,
   "metadata": {},
   "outputs": [],
   "source": [
    "from datetime import date\n",
    "\n",
    "# 1. Tool 생성\n",
    "tavily_search = TavilySearch(max_results=10)\n",
    "model = ChatOpenAI(model=\"gpt-4.1\") # model+tool - 성능이 좋은 모델\n",
    "\n",
    "tool_model = model.bind_tools(tools=[tavily_search])\n",
    "prompt_template = ChatPromptTemplate(\n",
    "    [\n",
    "        (\"system\", (\"당신은 AI 어시스턴트 입니다. \"\n",
    "                    \"질문에 대해서 최신 정보를 바탕으로 답변해주세요.\"\n",
    "                    \"검색을 해야 하는 경우는 반드시 검색어에 오늘 날짜를 넣어서 검색해주세요.\"\n",
    "                    \"오늘 날짜는 {today} 입니다.\")),\n",
    "        (\"human\", \"{user_input}\"),\n",
    "        MessagesPlaceholder(variable_name=\"messages\", optional=True)\n",
    "    ],\n",
    "    partial_variables = {\"today\":{date.today().strftime(\"%Y년 %m월 %d일\")}}\n",
    ")\n",
    "\n",
    "tool_model_chain = prompt_template | tool_model\n",
    "\n",
    "@chain\n",
    "def web_search_chain(user_input: str) -> str:\n",
    "    \"\"\"\n",
    "    전체 프로세스를 처리하는 체인\n",
    "    사용자 질문 (user_input)받아서 tool 호출흘 거쳐서 응답을 처리하는 체인\n",
    "    \"\"\"\n",
    "    ai_message = tool_model_chain.invoke({\"user_input\":user_input}) # 반환. 응답 or tool calls 정보\n",
    "\n",
    "    if ai_message.tool_calls: # [{tool_call}, {tool_call}, ...] -> tool 호출\n",
    "        # tool을 호출 -> 결과 -> llm을 호출\n",
    "        # tool을 호출 # [1]\n",
    "        tool_messages = tavily_search.batch(ai_message.tool_calls) # [ToolMessage, TM, ...]   \n",
    "        input_dict = {\n",
    "            \"user_input\": user_input,\n",
    "            \"messages\":[ai_message, *tool_messages] # tool 처리 결과를 llm에 전달. \n",
    "                          # [tool_calls 값이 있는 AIMessage, Tool 처리 결과 ToolMessage]\n",
    "            } \n",
    "        return tool_model_chain.invoke(input_dict).content\n",
    "    else: # tool_cells: [] -> LLM이 직접 응답.\n",
    "        return ai_message.content\n"
   ]
  },
  {
   "cell_type": "code",
   "execution_count": 58,
   "metadata": {},
   "outputs": [
    {
     "data": {
      "text/plain": [
       "'안녕하세요! 무엇을 도와드릴까요? 😊'"
      ]
     },
     "execution_count": 58,
     "metadata": {},
     "output_type": "execute_result"
    }
   ],
   "source": [
    "response = web_search_chain.invoke(\"안녕하세요\")\n",
    "response"
   ]
  },
  {
   "cell_type": "markdown",
   "metadata": {},
   "source": [
    "[1] batch => tool message가 여러 개 들어옴. 그 리스트를 message에 그대로 넣으면 안 되기 때문에 `*tool_messages`라고 해줌으로써 리스트를 풀어주는 거임."
   ]
  },
  {
   "cell_type": "code",
   "execution_count": 59,
   "metadata": {},
   "outputs": [
    {
     "data": {
      "text/plain": [
       "'2025년 6월 23일(내일) 구미 날씨는 다음과 같습니다.\\n\\n- 기상청 예보에 따르면 구미는 구름 많음이 예상됩니다.\\n- 아침 최저기온 약 20~22도, 낮 최고기온 약 31도 입니다.\\n\\n기온차가 크니 옷차림에 참고하시고, 최신 정보는 아침에 한 번 더 확인하는 것이 좋습니다.'"
      ]
     },
     "execution_count": 59,
     "metadata": {},
     "output_type": "execute_result"
    }
   ],
   "source": [
    "response = web_search_chain.invoke(\"내일 구미 날씨 알려줘\")\n",
    "response"
   ]
  },
  {
   "cell_type": "markdown",
   "metadata": {},
   "source": [
    "# 사용자 정의 Tool 구현\n",
    "\n",
    "## @tool 사용\n",
    "- 함수로 구현하고 `@tool` 데코레이터를 사용해 tool(StructuredTool)로 정의한다.\n",
    "    - `langchain_core.tools` 모듈에 있다.\n",
    "- tool name\n",
    "    - 함수의 이름이 tool의 이름이 된다.\n",
    "- parameters\n",
    "    - 함수의 파라미터가 tool의 파라미터가 된다.\n",
    "    - **type hint**를 이용해 타입을 지정한다.  \n",
    "- description\n",
    "    - doctring이 description이 된다.\n",
    "    - RunnableBinding이 tool을 잘 찾을 수 있도록 하려면 **tool의 기능을 최대한 구체적**으로 작성한다.\n",
    "- **@tool이 적용된 함수(StructuredTool)이 tool**이므로 model에 binding 한다."
   ]
  },
  {
   "cell_type": "code",
   "execution_count": 60,
   "metadata": {},
   "outputs": [],
   "source": [
    "from langchain_core.tools import tool\n",
    "\n",
    "@tool\n",
    "def plus(num1:int|float, num2:int|float) -> int|float:\n",
    "    \"\"\"\n",
    "    두 숫자를 받아서 덧셈처리하는 tool.\n",
    "    \"\"\"\n",
    "    return num1 + num2\n",
    "\n",
    "@tool\n",
    "def multiply(num1:int|float, num2:int|float) -> int|float:\n",
    "    \"\"\"\n",
    "    두 숫자를 받아서 곱셈처리하는 tool.\n",
    "    \"\"\"\n",
    "    return num1 * num2"
   ]
  },
  {
   "cell_type": "code",
   "execution_count": 61,
   "metadata": {},
   "outputs": [
    {
     "name": "stdout",
     "output_type": "stream",
     "text": [
      "<class 'langchain_core.tools.structured.StructuredTool'>\n",
      "plus\n"
     ]
    }
   ],
   "source": [
    "print(type(plus))\n",
    "print(plus.name) # tool 이름: 따로 명시하지 않으면 함수 이름이 tool 이름이 된다."
   ]
  },
  {
   "cell_type": "code",
   "execution_count": 62,
   "metadata": {},
   "outputs": [
    {
     "name": "stdout",
     "output_type": "stream",
     "text": [
      "두 숫자를 받아서 덧셈처리하는 tool.\n"
     ]
    }
   ],
   "source": [
    "print(plus.description) # 툴 설명"
   ]
  },
  {
   "cell_type": "code",
   "execution_count": 63,
   "metadata": {},
   "outputs": [
    {
     "data": {
      "text/plain": [
       "{'description': '두 숫자를 받아서 덧셈처리하는 tool.',\n",
       " 'properties': {'num1': {'anyOf': [{'type': 'integer'}, {'type': 'number'}],\n",
       "   'title': 'Num1'},\n",
       "  'num2': {'anyOf': [{'type': 'integer'}, {'type': 'number'}],\n",
       "   'title': 'Num2'}},\n",
       " 'required': ['num1', 'num2'],\n",
       " 'title': 'plus',\n",
       " 'type': 'object'}"
      ]
     },
     "execution_count": 63,
     "metadata": {},
     "output_type": "execute_result"
    }
   ],
   "source": [
    "plus.args_schema.model_json_schema()"
   ]
  },
  {
   "cell_type": "code",
   "execution_count": 64,
   "metadata": {},
   "outputs": [],
   "source": [
    "model = ChatOpenAI(model=\"gpt-4.1-mini\")\n",
    "tool_model = model.bind_tools([plus, multiply])"
   ]
  },
  {
   "cell_type": "code",
   "execution_count": 65,
   "metadata": {},
   "outputs": [
    {
     "data": {
      "text/plain": [
       "''"
      ]
     },
     "execution_count": 65,
     "metadata": {},
     "output_type": "execute_result"
    }
   ],
   "source": [
    "resp = tool_model.invoke(\"5000원짜리 빵을 다섯 개 샀다. 얼마지?\")\n",
    "resp.content"
   ]
  },
  {
   "cell_type": "code",
   "execution_count": 66,
   "metadata": {},
   "outputs": [
    {
     "data": {
      "text/plain": [
       "[{'name': 'multiply',\n",
       "  'args': {'num1': 5000, 'num2': 5},\n",
       "  'id': 'call_VBHgnqpJlcilwH0tEJ2Iv71M',\n",
       "  'type': 'tool_call'}]"
      ]
     },
     "execution_count": 66,
     "metadata": {},
     "output_type": "execute_result"
    }
   ],
   "source": [
    "resp.tool_calls"
   ]
  },
  {
   "cell_type": "code",
   "execution_count": 67,
   "metadata": {},
   "outputs": [],
   "source": [
    "# tavily_search를 이용해서 web 검색을 처리하는 툴\n",
    "from typing import Literal\n",
    "from langchain_tavily import TavilySearch\n",
    "from langchain_core.tools import tool\n",
    "\n",
    "# type|None=None => Optional\n",
    "@tool\n",
    "def search_web(query:str, \n",
    "               max_results:int=3, \n",
    "               time_range:Literal[\"day\", \"week\", \"month\", \"year\"]|None=None\n",
    "               ) -> dict:\n",
    "    \"\"\"\n",
    "    데이터베이스에 존재하지 않는 정보나, 최신 정보를 찾기 위해서 인터넷 검색을 하는 tool이다.\n",
    "    \"\"\"\n",
    "    tavily_search = TavilySearch(max_results=max_results, time_range=time_range)\n",
    "    search_result = tavily_search.invoke(query)[\"results\"] # {..., \"results\": list[dict]}\n",
    "    if search_result: # 검색 결과가 있다면 (True)\n",
    "        return {\"result\": search_result}\n",
    "    else: # 검색 결과가 없다면\n",
    "        return {\"result\": \"검색 결과가 없습니다.\"}\n"
   ]
  },
  {
   "cell_type": "code",
   "execution_count": 68,
   "metadata": {},
   "outputs": [
    {
     "name": "stdout",
     "output_type": "stream",
     "text": [
      "name='search_web' description='데이터베이스에 존재하지 않는 정보나, 최신 정보를 찾기 위해서 인터넷 검색을 하는 tool이다.' args_schema=<class 'langchain_core.utils.pydantic.search_web'> func=<function search_web at 0x000001C4EF2A1A80>\n"
     ]
    }
   ],
   "source": [
    "print(search_web)"
   ]
  },
  {
   "cell_type": "code",
   "execution_count": 69,
   "metadata": {},
   "outputs": [
    {
     "name": "stdout",
     "output_type": "stream",
     "text": [
      "search_web\n",
      "데이터베이스에 존재하지 않는 정보나, 최신 정보를 찾기 위해서 인터넷 검색을 하는 tool이다.\n"
     ]
    },
    {
     "data": {
      "text/plain": [
       "<bound method BaseModel.model_json_schema of <class 'langchain_core.utils.pydantic.search_web'>>"
      ]
     },
     "execution_count": 69,
     "metadata": {},
     "output_type": "execute_result"
    }
   ],
   "source": [
    "print(search_web.name)\n",
    "print(search_web.description)\n",
    "search_web.args_schema.model_json_schema"
   ]
  },
  {
   "cell_type": "code",
   "execution_count": 70,
   "metadata": {},
   "outputs": [
    {
     "name": "stderr",
     "output_type": "stream",
     "text": [
      "c:\\SKN13SM\\SKN13_Sumin\\13_Langchain\\tools.py:55: LangChainBetaWarning: This API is in beta and may change in the future.\n",
      "  search_wikipedia = wikipedia_search.as_tool(\n"
     ]
    },
    {
     "data": {
      "text/plain": [
       "{'result': [{'url': 'https://m.kin.naver.com/qna/dirs/8020605/docs/480625927?qb=7ZWc7JqwIOuTseyLrCDqsIDqsqkgMTAwZ%20uLuQ==&enc=utf8&mobile',\n",
       "   'title': '한우 +1 등심 100g 9800원이면 어떤가요? : 네이버 지식iN - 지식인',\n",
       "   'content': '마트에서 한우 등심 1+ 등급을 100g당 9,800원 정도에 구매하셨다면, 현재 시세 대비 상당히 저렴하게 구매하신 편입니다. 보통 한우 등심 1+ 등급은 100g당 1만원을 훌쩍',\n",
       "   'score': 0.7923522,\n",
       "   'raw_content': None},\n",
       "  {'url': 'https://xn--zf4b19gw9af7l.kr/shop/item.php?it_id=1692685420&device=pc',\n",
       "   'title': '한우1++꽃등심 100g당 15000 > 베스트상품 - 주식회사 마장자연축산',\n",
       "   'content': '1.   마장동 자연축산 메뉴설정 1.   인사말 메뉴설정 2.   부위별특징 메뉴설정 1.   부위별특징 메뉴설정 3.   베스트상품 메뉴설정 1.   베스트상품 메뉴설정 4.   한우선물세트 메뉴설정 1.   한우선물세트 메뉴설정 5.   개인결제창 메뉴설정 6.   커뮤니티 메뉴설정 1.   공지사항 메뉴설정 2. 구매후기 메뉴설정 *   Image 14: 한우1++ 치마살 100g당 18,000 한우1++ 치마살 100g당 18,000  18,000원   *   Image 15: 한우1++ 제비추리 100g당 18,000 한우1++ 제비추리 100g당 18,000  18,000원   *   Image 20: 한우1++ 갈비살 100g당 17,000 한우1++ 갈비살 100g당 17,000  17,000원   *   Image 23: 한우1++ 치마살 100g당 18,000 한우1++ 치마살 100g당 18,000  18,000원   *   Image 24: 한우1++ 제비추리 100g당 18,000 한우1++ 제비추리 100g당 18,000  18,000원   *   Image 29: 한우1++ 갈비살 100g당 17,000 한우1++ 갈비살 100g당 17,000  17,000원   *   Image 32: 한우1++ 치마살 100g당 18,000 한우1++ 치마살 100g당 18,000  18,000원  ',\n",
       "   'score': 0.7557276,\n",
       "   'raw_content': None},\n",
       "  {'url': 'https://www.ssg.com/item/itemView.ssg?itemId=0000008041803',\n",
       "   'title': '한우 등심 구이용 1등급 (100g) (팩) - SSG.COM',\n",
       "   'content': '한우 등심 구이용 1등급 (100g) (팩) ; 원산지 · 상세설명참조 ; 최고판매가. 11,880원 ; 무이자 할부: 카드사별 무이자 혜택 ; 쇼핑혜택: 충전결제 시 최대 5% 적립 첫결제 5%,',\n",
       "   'score': 0.6680367,\n",
       "   'raw_content': None}]}"
      ]
     },
     "execution_count": 70,
     "metadata": {},
     "output_type": "execute_result"
    }
   ],
   "source": [
    "from tools import search_web as s_web\n",
    "s_web\n",
    "s_web.invoke(\"한우 100g당 가격이 얼마지?\")"
   ]
  },
  {
   "cell_type": "markdown",
   "metadata": {},
   "source": [
    "## Runnable을 tool로 정의\n",
    "- `Runnable객체.as_tool()`\n",
    "    - name, description, args_schema 파라미터를 이용해 tool의 이름, 설명, 스키마를 설정한다."
   ]
  },
  {
   "cell_type": "code",
   "execution_count": 71,
   "metadata": {},
   "outputs": [],
   "source": [
    "# %pip install wikipedia\n",
    "# 위키백과 사전의 내용을 검색하고 관리하는 라이브러리이다.\n",
    "# document_loader 중 wikipeidaLoader를 사용해서 위키백과사전 내용들을 검색할 수 있다. "
   ]
  },
  {
   "cell_type": "code",
   "execution_count": 72,
   "metadata": {},
   "outputs": [],
   "source": [
    "from langchain_community.document_loaders import WikipediaLoader\n",
    "from langchain_core.runnables import chain\n",
    "from pydantic import BaseModel, Field\n",
    "\n",
    "@chain\n",
    "def wikipedia_search(input_dict: dict) -> dict:\n",
    "    \"\"\"사용자 query에 대한 정보를 위키백과사전에서 k개 문서를 검색하는 runnable.\"\"\"\n",
    "    query = input_dict[\"query\"] # 검색어\n",
    "    max_results = input_dict.get(\"max_results\",2) # 조회 문서 최대 개수. default: 2\n",
    "\n",
    "    wiki_loader = WikipediaLoader(query=query, load_max_docs=max_results, lang=\"ko\")\n",
    "    search_result = wiki_loader.load() # list[Document]\n",
    "    if search_result: # 검색 결과가 있다면 document -> dictionary\n",
    "        result_list = []\n",
    "        for doc in search_result:\n",
    "            result_list.append({\"content\":doc.page_content, \n",
    "                                    \"url\":doc.metadata[\"source\"], \n",
    "                                    \"title\": doc.metadata[\"title\"]})\n",
    "        return {\"result\": result_list}\n",
    "        \n",
    "    else: # 검색 결과가 없다면\n",
    "        return {\"result\": \"검색 결과가 없습니다.\"}"
   ]
  },
  {
   "cell_type": "code",
   "execution_count": 73,
   "metadata": {},
   "outputs": [
    {
     "data": {
      "text/plain": [
       "[Document(metadata={'title': '국제 축구 연맹', 'summary': '국제 축구 연맹(國際蹴球聯盟; 문화어: 국제 축구 련맹; 프랑스어: Fédération internationale de football association; 영어: International Association Football Federation), 줄여서 피파(FIFA)는 축구(아식축구)와 풋살, 비치사커 종목을 총괄하는 국제 기구로, 스위스의 취리히에 FIFA 본부를 두고 있으며 4년마다 열리는 FIFA 월드컵을 비롯해서 여러 국제 대회를 운영하고 있다. 1904년 5월 21일 파리에서 결성되었으며 현 FIFA 회장은 잔니 인판티노이다.', 'source': 'https://ko.wikipedia.org/wiki/%EA%B5%AD%EC%A0%9C_%EC%B6%95%EA%B5%AC_%EC%97%B0%EB%A7%B9'}, page_content='국제 축구 연맹(國際蹴球聯盟; 문화어: 국제 축구 련맹; 프랑스어: Fédération internationale de football association; 영어: International Association Football Federation), 줄여서 피파(FIFA)는 축구(아식축구)와 풋살, 비치사커 종목을 총괄하는 국제 기구로, 스위스의 취리히에 FIFA 본부를 두고 있으며 4년마다 열리는 FIFA 월드컵을 비롯해서 여러 국제 대회를 운영하고 있다. 1904년 5월 21일 파리에서 결성되었으며 현 FIFA 회장은 잔니 인판티노이다.\\n\\n\\n== 역사 ==\\n\\n20세기 초, 축구의 인기가 영국에서 해외로 확산되면서 경기 종목을 관리할 조직체의 필요성이 대두되었다. 하지만, 그 필요성을 먼저 느낀 것은 The FA가 아닌 다른 나라의 축구인들이었다. 그 조직으로써 FIFA가 1904년 5월 21일 프랑스 파리에서 설립되었다.\\n오늘날 프랑스어를 사용하지 않는 나라들에서도 이 단체의 이름을 프랑스어로 표기하는 것은 이 단체가 처음 만들어진 곳이 프랑스이기 때문이다.\\nFIFA가 주관한 최초의 국제 경기는 1906년 열렸는데, 그다지 성공적이지 못했다. 결국 초대 회장이었던 로베르 게랭이 물러나는 계기가 되었고, 종주국인 잉글랜드 출신의 대니얼 벌리 울폴이 새 회장이 된다.\\n그 다음 열린 국제 대회는 1908년 런던 올림픽이었는데, 여덟 팀이 참가한 축구 대회는 비교적 성공적이었다. 1909년 남아프리카 공화국이 FIFA에 가입하면서 처음으로 가맹국이 유럽의 울타리를 벗어나게 되었다.\\n1912년에는 아르헨티나와 칠레가, 1913년에는 캐나다와 미국이 가입하면서 FIFA는 대서양을 중심으로 세력을 확장시킬 수 있었다.\\n제1차 세계 대전은 FIFA의 발전에 큰 타격을 주었다. 국제적인 교류는 미미한 수준으로 떨어졌고, 많은 축구선수들이 전장에 나가 희생되기도 했으며, 국제경기는 정상적으로 치를 수 없었다.\\n전쟁 이후, 회장인 울펄이 사망하고 부회장이었던 네덜란드인 카를 히르츠만이 일시적으로 FIFA를 맡게 되었다. 전쟁을 이유로 홈 네이션 4개국(잉글랜드, 스코틀랜드, 웨일스, 북아일랜드)이 FIFA를 탈퇴하면서 FIFA는 큰 위기에 봉착했고 회원국 수는 20개 국으로 줄어들었다.\\n위기에 빠진 FIFA를 재건한 사람은 48세의 프랑스인 쥘 리메였다. 그가 회장으로 재임한 33년 동안 제2차 세계 대전발발에도 불구하고 FIFA는 많은 발전을 이루었다. 1930년 최초의 월드 컵이 우루과이에서 열렸으며, 회원국들은 다시 증가했다.\\n1946년 홈 네이션들도 FIFA에 재가입하였다. 제 5회 스위스 월드컵이 열린 1954년 회원국의 수는 무려 85개국까지 늘어났고 더욱 국제적인 조직으로 발전할 수 있었다. 이 대회 직후 80세의 쥘 리메는 사임하였다. 당시 월드 컵 우승 팀에게 주어지는 우승컵의 이름은 쥘 리메 컵이었다.\\n2차 세계대전 이후, 많은 신생 독립국들이 FIFA에 가입하면서 회원국의 수는 계속 늘어났다. 당시 독립국들은 UN보다 FIFA에 먼저 가입하는 경우가 많았다. 축구 경기를 TV에서 중계하게 되면서, 축구는 좀 더 세계적인 스포츠로 발전했고 FIFA의 인지도도 같이 높아졌다.\\n이전까지 FIFA는 4년에 한 번 열리는 월드컵을 통해 수익을 얻을 수밖에 없었는데, TV 중계는 FIFA의 재정에 큰 도움이 되었다. 6대 회장인 스탠리 루스 경은 여러 사업을 통해 FIFA의 재정 안정에 큰 기여를 하였다. 이러한 공로로 루스경은 1974년 FIFA 명예회장으로 추대되었다. 다음 회장은 브라질 출신의 주앙 아벨란제 박사였다.\\n아벨란제 회장은 다소 보수적이었던 FIFA를 보다 능동적인 조직으로 탈바꿈시켰다. 스위스 취리히의 작은 건물에서 12명의 직원이 일하던 FIFA는 그 열 배가 넘는 조직으로 확장되었고, 보다 많은 수익을 얻는 기관으로 발전했다. FIFA의 상업화에는 비판의 목소리도 있었지만, FIFA의 조직 안정성은 결과적으로 산하 연맹들과 회원국들에게 이익이 되었고 1998년까지 아벨란제는 24년간 장기 집권을 할 수 있었다.\\n1998년 6월 8일 스위스 출신의 제프 블라터가 새로운 회장으로 취임하면서 2016년까지 18년간 장기 집권을 하였다. FIFA 내 부패 혐의로 미국 연방검찰의 체포 위협 때문에 회장직을 사임하였다.(스위스인은 스위스 이외 외국으로 형사강제송환되지 아니한다.)\\n2016년 2월 스위스 출신의 유럽축구연맹 사무총장 잔니 인판티노가 새로운 회장으로 취임하면서 오늘에 이르고 있다.\\n\\n\\n== 구조 ==\\nFIFA는 스위스 취리히에 본부를 두고 있기 때문에, 스위스 법의 적용을 받는 단체이다.\\nFIFA의 최고 결정기관은 FIFA 총회이며, 이는 각 가입국의 대표들로 이루어져 있다. 1년에 한번 정기회의를 가지며, 1998년부터 요청이 있을 경우에 한해 1년에 한번 더 특별회의를 열 수 있다. FIFA 총회만이 회원국 승인, 재정 등 FIFA의 주요 사항을 결정할 수 있다.\\n총회는 FIFA 회장과 부회장, 사무총장, 집행위원회를 선출한다. 회장과 사무총장은 FIFA의 주요 구성원으로서 FIFA의 관리경영을 맡게 되며, 208개 회원국과 집행위원회에 의해 실행된다.\\nFIFA 회장에 의해 임명되는 FIFA 집행위원회는, 총회가 구성되는 사이사이에 중요한 결정기관의 역할을 한다. FIFA는 분야별로 전 세계에 걸쳐 총회 또는 집행위원회의 보좌를 상설위원회를 두고 있으며, 재정위원회, 징계위원회, 심판위원회 등이 있다.\\nFIFA는 각종 기관(총회, 집행위원회 등) 외에도 국가별 축구 협회를 산하에 두고 있으며, 대륙별 축구 연맹은 FIFA의 회원이 아닌, FIFA가 관리기관으로서 만든 연맹이다. FIFA가 주관하는 대회에 참가하기 위해서는 각 국가의 축구 협회는 FIFA에 가입해야 하며, 회원가입 신청시에는 FIFA는 물론 지역적으로 자국이 속한 대륙에 회원국 등록을 신청해야 한다.\\n\\n6개 대륙별 축구연맹으로 구성되어 있다.\\n\\n유럽과 아시아의 구분이 모호한 근동 지방에 있는 나라는 소속 연맹을 선택할 수 있다. 그에 따라 러시아, 터키, 아르메니아, 아제르바이잔, 조지아, 키프로스는 국토의 일부 혹은 전체가 아시아에 위치해 있음에도 유럽 축구 연맹에 가입되어 있다. 이스라엘은 국토 전체가 완전히 아시아에 속해 있지만 중동과의 정치적인 사유로 1994년에 유럽 축구 연맹에 가입했다. 2002년에는 카자흐스탄이 아시아 축구 연맹에서 유럽 축구 연맹으로 이동했으며, 2006년 1월에는 오스트레일리아가 오세아니아 축구 연맹에서 아시아 축구 연맹으로 이동했다.\\n가이아나와 수리남은 남아메리카 대륙에 위치해있음에도 불구하고 북중미카리브 축구 연맹에 소속되어 있다.\\n오세아니아 축구 연맹에 소속된 나라들은 FIFA 가맹국이 적고 FIFA 랭킹이 낮은 편이기 때문에 대륙에서 유일하게 0.5장의 본선 티켓만 배분받아 본선 진출을 완전히 보장받지 못하고 있다. 따라서 지역 예선에서 1위를 해도 대륙 간의 플레이오프에 진출해서 승리해야만 본선에 직행할 수 있다. 물론 패배할 경우 FIFA 월드컵 본선에 직행할 수 없게 되어 오세아니아에 출전할 수 있는 나라가 없게 된다.\\n가장 최근의 예선 시스템으로는, 오세아니아 지역예선의 1위는 남아메리카 축구 연맹 지역예선의 5위와 플레이오프를 벌여야 하고, 오스트레일리아는 이 단계에서 계속 진출 실패를 거듭해왔기 때문에, 경기력의 질적 향상과 월드컵 진출상의 용이를 위해 아시아 축구 연맹으로 이동했다. 이에 따라 오스트레일리아는 AFC 아시안컵과 AFC 챔피언스리그 등 아시아 축구 연맹이 주관하는 대회에 참가할 수 있게 되었다.\\n오스트레일리아는 아시아 축구 연맹으로의 이동이 결정되고부터 불과 몇 달 후에 우루과이와의 플레이오프전에서 승부차기까지 가는 사투 끝에 2006년 FIFA 월드컵 예선을 통과했다. FIFA는 당초 2010년 FIFA 월드컵 예선으로 오세아니아 예선 1위를 아시아 월드컵 최종 예선에 포함시킬 계획이었으나, 오세아니아의 1위와 아시아 팀의 월드컵 플레이오프가 결정되면서 무산되었다.\\nFIFA는 211개 축구 협회와 각각의 남성 대표팀 및 129개의 여성 대표팀을 인정하고 있다. (축구 '),\n",
       " Document(metadata={'title': 'FIFA 클럽 월드컵', 'summary': 'FIFA 클럽 월드컵(FIFA Club World Cup)은 국제 축구 연맹(FIFA) 주관으로 1년마다 열리는 축구 대회로, 6개 대륙의 클럽간 컵 대회 우승 팀과 개최국의 1부 리그 우승 팀이 참가하는 대회이다.', 'source': 'https://ko.wikipedia.org/wiki/FIFA_%ED%81%B4%EB%9F%BD_%EC%9B%94%EB%93%9C%EC%BB%B5'}, page_content='FIFA 클럽 월드컵(FIFA Club World Cup)은 국제 축구 연맹(FIFA) 주관으로 1년마다 열리는 축구 대회로, 6개 대륙의 클럽간 컵 대회 우승 팀과 개최국의 1부 리그 우승 팀이 참가하는 대회이다.\\n\\n\\n== 역사 ==\\n2000년 1월에 브라질에서 FIFA 클럽 세계 선수권 대회(FIFA Club World Championship)라는 이름으로 첫 대회가 개최되었다. 이것은 FIFA가 인터콘티넨털컵을 대체하기 위해 만들어졌는데 당시 이 대회는 매년 일본 도쿄에서 열렸고 유럽의 UEFA 챔피언스리그 우승 팀과 남미의 코파 리베르타도레스 우승 팀이 참가하였다.\\n두 번째 대회는 2001년에 스페인에서 12개 팀이 참가하기로 계획되어 있었다. 그러나 이 대회는 여러 가지 복합적인 요인으로 취소되었는데 그 중 FIFA의 마케팅 파트너였던 인터내셔널 스포츠 앤 레저(ISL)이라는 회사가 파산한 것이 가장 결정적으로 작용하였다. 그리하여 이 대회는 2003년에 개최하기로 연기되었으나 이 계획도 실패로 돌아갔다. FIFA는 결국 도요타컵과 통합하는 데에 동의하였고 다시 시작된 세계 클럽 챔피언십 대회는 2005년에 일본에서 개최되며 첫 시작을 하였다.\\n2009년과 2010년 대회는 아랍에미리트에서 열렸고 2011년과 2012년 대회는 일본에서 다시 개최하기로 했다.\\n5위 결정전은 2007년 대회에 폐지되었으나 2008년 대회에 다시 도입되었다. 이 경기가 재도입되면서 전체 상금이 50만 미국 달러에서 1,650만 미국 달러로 늘어났다. 이 대회의 우승 팀은 500만 미국 달러를 획득하며 준우승 팀은 400만 미국 달러를, 3위 팀은 250만 미국 달러를, 4위 팀은 200만 미국 달러를, 5위 팀은 150만 미국 달러를, 6위 팀은 100만 미국 달러를, 7위 팀이 50만 미국 달러를 받는다.\\n이 대회에 가장 많이 출전한 팀은 뉴질랜드의 오클랜드 시티로 총 16번의 대회 중 9번의 대회(2006년, 2009년, 2011년, 2012년, 2013년, 2014년, 2015년, 2016년, 2017년)에 참가하였다.\\n2019년 3월 15일에 열린 FIFA 평의회에서 FIFA 컨페더레이션스컵을 폐지하는 대신에 FIFA 클럽 월드컵 참가 팀 수를 2021년 대회부터 24개 팀으로 확대하기로 결정했다. 하지만 이 계획은 코로나19 범유행의 여파로 인하여 연기된 상태이다.\\n\\n\\n== 역대 결과 ==\\n\\n\\n== 4강 진출 팀들의 기록 ==\\n\\n\\n== 국가별 기록 ==\\n\\n\\n== 같이 보기 ==\\nUEFA 챔피언스리그\\n코파 리베르타도레스\\nAFC 챔피언스리그\\nCONCACAF 챔피언스리그\\nCAF 챔피언스리그\\nOFC 챔피언스리그\\n\\n\\n== 각주 ==\\n\\n\\n== 외부 링크 ==\\n\\n(영어/스페인어/프랑스어/독일어/…) FIFA 클럽 월드컵 공식 사이트'),\n",
       " Document(metadata={'title': 'FIFA 월드컵', 'summary': 'FIFA 월드컵(영어: FIFA World Cup)은 축구 국제 기구인 국제 축구 연맹(FIFA)에 가맹한 축구 협회(연맹)의  축구 국가대표팀만 참가하는 국제 축구 대회이다.\\n4년마다 열리는 월드컵은 1930년에 첫 대회가 열렸다. 1942년과 1946년 대회는 제2차 세계 대전으로 인하여 열리지 못했다. 대회는 예선 무대와 본선 무대 등 두 부분으로 나뉜다. 예선 무대는 본선에 진출할 32팀을 가려내기 위해 본선 보다 3년 일찍 시작한다. 현재 본선은 개최국 경기장에서 한 달 남짓 32개 팀이 우승을 놓고 경쟁하는 방식으로 진행된다. 월드컵 결승전은 세계에서 가장 많은 사람이 시청하는 단일 스포츠 경기이다. 어림잡아 7억 1,510만 명이 2006년 FIFA 월드컵 결승전을 시청했다고 한다.\\n총 20번 대회가 열리는 동안 8팀이 우승을 차지했다. 가장 우승 횟수가 많은 팀은 브라질로 총 다섯 번의 우승컵을 들어올렸다. 그 다음으로 이탈리아와 독일이 네 번, 아르헨티나가 세 번, 그리고 초대 우승팀인 우루과이와 프랑스가 각각 두 차례씩, 잉글랜드와 스페인가 각각 한 차례씩 우승을 차지했다. 네덜란드는 준우승만 3번(1974·1978·2010)했다.대한민국은 4위가 최고 기록이다.(2002)\\n가장 최근에 열린 2022년 FIFA 월드컵은 카타르에서 열렸고, 아르헨티나가 우승했다. 2026년은 캐나다/멕시코/미국에서 개최된다.\\n세계적인 종합 스포츠 행사 중 하나인 올림픽과 달리 월드컵은 단일 종목 대회다. 그리고 올림픽은 고대 그리스의 전통을 따라 한 도시를 중심으로 개최되지만, 월드컵은 한 국가를 중심으로 열리며 대회 기간은 올림픽이 보통 2주 동안 열리는데 비해 월드컵은 약 한달 동안 진행된다.', 'source': 'https://ko.wikipedia.org/wiki/FIFA_%EC%9B%94%EB%93%9C%EC%BB%B5'}, page_content='FIFA 월드컵(영어: FIFA World Cup)은 축구 국제 기구인 국제 축구 연맹(FIFA)에 가맹한 축구 협회(연맹)의  축구 국가대표팀만 참가하는 국제 축구 대회이다.\\n4년마다 열리는 월드컵은 1930년에 첫 대회가 열렸다. 1942년과 1946년 대회는 제2차 세계 대전으로 인하여 열리지 못했다. 대회는 예선 무대와 본선 무대 등 두 부분으로 나뉜다. 예선 무대는 본선에 진출할 32팀을 가려내기 위해 본선 보다 3년 일찍 시작한다. 현재 본선은 개최국 경기장에서 한 달 남짓 32개 팀이 우승을 놓고 경쟁하는 방식으로 진행된다. 월드컵 결승전은 세계에서 가장 많은 사람이 시청하는 단일 스포츠 경기이다. 어림잡아 7억 1,510만 명이 2006년 FIFA 월드컵 결승전을 시청했다고 한다.\\n총 20번 대회가 열리는 동안 8팀이 우승을 차지했다. 가장 우승 횟수가 많은 팀은 브라질로 총 다섯 번의 우승컵을 들어올렸다. 그 다음으로 이탈리아와 독일이 네 번, 아르헨티나가 세 번, 그리고 초대 우승팀인 우루과이와 프랑스가 각각 두 차례씩, 잉글랜드와 스페인가 각각 한 차례씩 우승을 차지했다. 네덜란드는 준우승만 3번(1974·1978·2010)했다.대한민국은 4위가 최고 기록이다.(2002)\\n가장 최근에 열린 2022년 FIFA 월드컵은 카타르에서 열렸고, 아르헨티나가 우승했다. 2026년은 캐나다/멕시코/미국에서 개최된다.\\n세계적인 종합 스포츠 행사 중 하나인 올림픽과 달리 월드컵은 단일 종목 대회다. 그리고 올림픽은 고대 그리스의 전통을 따라 한 도시를 중심으로 개최되지만, 월드컵은 한 국가를 중심으로 열리며 대회 기간은 올림픽이 보통 2주 동안 열리는데 비해 월드컵은 약 한달 동안 진행된다.\\n\\n\\n== 역사 ==\\n\\n\\n=== 이전의 국제 대회들 ===\\n세계 최초의 A매치는 1872년 글래스고에서 열린 스코틀랜드 대 잉글랜드의 경기였으며, 1884년에 시작된 첫 국제 대회인 브리티시 홈 챔피언십(영국 정기전)의 계기가 되기도 했다. (이후 이 대회는 1984년까지 이어졌다.)  이때 축구는 영국과 아일랜드 외의 다른 나라에서는 찾아보기 어려웠다. 한 세기가 지나 다른 지역에서도 축구의 인기가 높아지면서 1900년, 1904년, 1906년 하계 올림픽에서 시범 종목으로 채택되었다. 이 대회에서 별도의 메달은 수여되지 않았다.\\n월드컵의 역사는\\nFIFA가 1904년에 설립된 이후로 FIFA가 주관하며 올림픽과는 별개로 국가대항 축구 대회를 만들고자 하는 시도가 1906년에 스위스에서 있었다. 하지만 FIFA의 공식적인 기록에 의하면 이 대회의 계획은 실패로 돌아갔다고 한다.\\n올림픽 대회가 아마추어 팀들 간에 계속 경쟁을 하는 방향으로 가는 가운데 1909년, 토머스 립튼은 토머스 립튼 트로피 선수권 대회를 토리노에서 개최한다. 립튼 선수권은 각기 한 국가를 대표하러 나온 개인 클럽간(국가 대표팀간이 아닌)의 대회였다. 대회는 때때로 첫 번째 월드컵이라고 묘사되곤 했으며, 이탈리아, 독일, 그리고 스위스의 일류 프로 클럽팀이 주로 참가했다. 그러나 잉글랜드 축구 협회는 이 대회에 관여하려 않았으며, 프로팀들을 보내달라는 제안을 거절했다. 립튼은 카운티 더럼에 있는 아마추어 팀인 웨스트 오클랜드를 잉글랜드 팀을 대표하여 대신 초대했다. 웨스트 오클랜드는 대회에서 우승했고, 1911년의 대회에서도 성공적으로 타이틀을 방어, 대회 규칙에 따라 트로피를 영원히 보유하게 되었다.\\n1914년에, FIFA는 올림픽에서의 축구 대회를 ‘세계 아마추어 축구 선수권대회’로서 승인해주었고, 대회의 관리를 맡게 되었다. 그 결과 1920년 하계 올림픽에서 세계 최초의 대륙 간 축구 대회가 열렸다. 이 대회에는 이집트와 13개의 유럽 팀들이 참가하였다. 금메달은 벨기에가 차지하였다.\\n1928년에 FIFA는 올림픽과는 별개로 직접 주관하는 대회를 개최하기로 한다. FIFA는 첫 번째 FIFA 월드컵 개최국을 1924년 하계 올림픽과 1928년 하계 올림픽의 축구 종목에서 금메달을 차지했고, 1930년에 독립 100주년을 맞이하게 되는 우루과이로 결정한다.\\n\\n\\n=== 첫 번째 월드컵 ===\\n\\n로스앤젤레스에서 열린 1932년 하계 올림픽에서는 개최국인 미국에서 미식축구의 인기 탓에 축구의 인기가 낮아 정식 종목으로 채택될 계획이 없었다. 또한, FIFA와 IOC의 아마추어 선수의 지위에 관한 의견이 일치하지 않았고 이에 따라 축구는 올림픽에서 제외되었다. 이어 당시 FIFA 회장이었던 쥘 리메는 첫 번째 월드컵 대회를 1930년 우루과이에서 개최하기로 했다. 각 국가의 축구 협회들은 대회 참가 초청을 받았지만, 유럽 지역의 팀들에는 우루과이가 대서양을 횡단해야 하는 먼 나라였기 때문에, 큰 지출과 오랜 여정이 불가피했다. 그런 이유에 따라 대회 2달 전까지도 팀을 보내겠다는 확약을 한 유럽 국가는 없었다. 결국, 쥘 리메는 유럽 팀들을 한 팀이라도 설득하기 위해 노력했으며 우루과이는 모든 체류비와 차비를 출전팀들에게 제공하겠다는 조건을 내건 끝에 여비 및 체류비용이 공짜라는 점과 쥘 리메의 눈치를 봐서 벨기에, 프랑스, 루마니아, 유고슬라비아가 대회 참가에 응했다. 이리하여 유럽에서 4팀, 북중미에서 2팀, 남미에서 7팀, 총 13개 팀이 대회에 참가하였다.\\n월드컵 개막식은 두 경기가 동시에 열렸으며, 프랑스와 미국이 각각 멕시코를 4-1로, 벨기에를 3-0으로 꺾고 승리했다. 월드컵 사상 첫 번째 득점은 프랑스의 루시앙 로랑이 기록했다.\\n우루과이는 몬테비데오에서 열린 결승전에서 93,000명의 관중 앞에서 아르헨티나를 4-2로 꺾으며 첫 번째 FIFA 월드컵 우승 팀이 되었다.\\n\\n\\n=== 월드컵 대회가 맞은 시련 ===\\n초창기 월드컵 대회가 직면했던 문제는 두 가지였다. 첫 번째는 대륙 간 장거리 여행의 어려움이었다. 첫 번째 대회가 우루과이에서 열렸을 때에는 유럽팀들이 장거리 여행의 어려움을 이유로 많은 팀이 불참했다면, 반대로 유럽에서 열린 두 번째, 세 번째 대회에서는 남미 팀들이 이와 같은 이유로 대회에 불참하였다.\\n두 번째는 전쟁 문제로, 네 번째 대회는 원래 1942년에 개최될 예정이었다. 1936년 8월 13일, 베를린에서 열린 제23차 FIFA 총회에서 독일이 공식적으로 개최 신청을 했다. 곧이어 브라질도 월드컵 개최를 신청하였다. 1939년 6월에는 아르헨티나도 개최 신청에 참여했다. 하지만, 제4회 대회의 개최국이 결정되기 전인 1939년 9월 1일, 독일이 폴란드를 침공하면서 제2차 세계 대전이 발발하여 결국 무산되었다. 이 탓에 다음 대회인 1946년 대회도 자동으로 무산되었다.\\n종전 후인 1946년 7월 26일 룩셈부르크 시에서 열린 FIFA 총회에서 제4회 대회를 1949년 브라질에서, 제5회 대회를 1953년 스위스에서 개최하기로 했다. 개최국이 결정된 다음날, 대회 준비를 이유로 개최가 한 해씩 미뤄져 제4회 대회는 1950년, 제5회 대회는 1954년 개최되게 되었다.\\n\\n\\n=== 시련 이후 계속되는 성장 ===\\n\\n1950년 FIFA 월드컵은 처음으로 영국의 팀들이 참가한 대회였다. 영국의 일부 팀들은 그들과 전쟁했던 나라들과의 대결하기를 꺼렸고 또 그들의 팀들이 다른 나라의 축구에 영향을 주는 것을 항의하고자 1920년에 FIFA에서 탈퇴했으나, 그러나 FIFA의 초청에 따라 1946년에 다시 가입했다. 추가로 1950년 월드컵은 한국 전쟁이 발발한 시각과 동일한 시각에 개막되었다. 그리고 1950년 대회에서는 또한, 제1회 대회의 우승국이었던 우루과이가 이전 두 대회의 참가 거부 끝에 복귀했다. 우루과이는 이 대회에서 다시 한 번 우승했고 이 대회는 마라카낭의 비극이라고 하는 역사상 유명한 경기로 후에 남게 되었다. 우루과이에 패배한 브라질은 그 굴욕을 참지 못해 유니폼의 색깔이 변경되었다.\\n1934년부터 1978년 대회까지는 1938년 대회에서 오스트리아가 나치 독일에 예선 통과 후에 흡수됨에 따라 15개 팀의 참가로 치러진 경우와, 1950년 대회에서 인도, 스코틀랜드, 터키가 기권해서 13개 팀의 참가로 치러진 경우를 제외하면 총 16개의 팀이 본선에서 경쟁을 치렀다. 가장 많은 참가를 한 국가들은 대부분 유럽과 남미에')]"
      ]
     },
     "execution_count": 73,
     "metadata": {},
     "output_type": "execute_result"
    }
   ],
   "source": [
    "from langchain_community.document_loaders import WikipediaLoader\n",
    "wiki_loader = WikipediaLoader(query=\"FIFA\", load_max_docs=3, lang=\"ko\")\n",
    "wiki_loader.load()"
   ]
  },
  {
   "cell_type": "code",
   "execution_count": 74,
   "metadata": {},
   "outputs": [],
   "source": [
    "# Runnable tool 생성 - runnable.as_tool(툴정보)\n",
    "class SearchWikiArgsSchema(BaseModel):\n",
    "    query: str = Field(..., description=\"위키백과사전에서 검색할 키워드, 검색어.\")\n",
    "    max_results: int = Field(default=2, description=\"검색할 문서의 최대 개수.\")\n",
    "\n",
    "\n",
    "search_wikipedia = wikipedia_search.as_tool(\n",
    "    name=\"search_wikipedia\", # 툴 이름\n",
    "    description=(\"위키백과사전에서 정보를 검색할 때 사용하는 tool.\\n\"\n",
    "                 \"사용자의 질문과 관련된 위키백과사전의 문서를 지정한 개수만큼 검색해서 반환합니다.\\n\"\n",
    "                 \"일반적인 지식이나 배경 정보가 필요한 경우 유용하게 사용할 수 있는 tool입니다. \"\n",
    "                 ),\n",
    "    args_schema=SearchWikiArgsSchema # 파라미터(argment)에 대한 설계 -> pydantic 모델 정의\n",
    ")"
   ]
  },
  {
   "cell_type": "code",
   "execution_count": 75,
   "metadata": {},
   "outputs": [
    {
     "name": "stdout",
     "output_type": "stream",
     "text": [
      "search_wikipedia\n",
      "위키백과사전에서 정보를 검색할 때 사용하는 tool.\n",
      "사용자의 질문과 관련된 위키백과사전의 문서를 지정한 개수만큼 검색해서 반환합니다.\n",
      "일반적인 지식이나 배경 정보가 필요한 경우 유용하게 사용할 수 있는 tool입니다.\n"
     ]
    }
   ],
   "source": [
    "print(search_wikipedia.name)\n",
    "print(search_wikipedia.description)"
   ]
  },
  {
   "cell_type": "code",
   "execution_count": 76,
   "metadata": {},
   "outputs": [
    {
     "data": {
      "text/plain": [
       "{'properties': {'query': {'description': '위키백과사전에서 검색할 키워드, 검색어.',\n",
       "   'title': 'Query',\n",
       "   'type': 'string'},\n",
       "  'max_results': {'default': 2,\n",
       "   'description': '검색할 문서의 최대 개수.',\n",
       "   'title': 'Max Results',\n",
       "   'type': 'integer'}},\n",
       " 'required': ['query'],\n",
       " 'title': 'SearchWikiArgsSchema',\n",
       " 'type': 'object'}"
      ]
     },
     "execution_count": 76,
     "metadata": {},
     "output_type": "execute_result"
    }
   ],
   "source": [
    "search_wikipedia.args_schema.model_json_schema()"
   ]
  },
  {
   "cell_type": "code",
   "execution_count": 77,
   "metadata": {},
   "outputs": [
    {
     "data": {
      "text/plain": [
       "{'result': [{'content': '삼국 시대(三國時代)는 기원전 1세기부터 7세기까지 고구려, 백제, 신라 삼국이 남만주와 한반도 일대에서 중앙집권적 국가로 발전한 시기를 일컫는다. 신라와 당나라 연합군에 의해 백제(660년), 고구려(668년) 차례로 멸망하면서 한반도 중남부에는 통일신라 북부에는 발해가 들어서 남북국 시대로 넘어간다. 각국의 전성기로 평가되는 시기는 백제 4세기, 고구려 5세기, 신라 6세기 순이다.\\n일부 사학자들은 실질적으로 삼국이 정립되어 삼국 시대가 전개된 것은 고구려, 백제의 기원인 부여가 멸망하고(494년), 또, 가야가 멸망한 562년 이후부터 신라가 백제를 정복한 660년까지 약 100년 동안의 기간 뿐이므로 부여, 가야를 포함하여 오국 시대 혹은 사국 시대라는 용어를 사용하기도 한다.\\n\\n\\n== 역사 ==\\n\\n\\n=== 삼국 시대의 배경과 원삼국 시대 ===\\n기원전 108년 왕검성(王儉城)을 함락시키고 고조선을 멸망시킨 한나라는 옛 고조선 지역에 네 개의 군을 설치했다. 한사군(낙랑군, 임둔군, 진번군, 현도군)의 지배 시기에 고조선 사회의 기존 상급 통합조직은 해체되었다. 중국계 주민들은 군현 내의 주요 지점에 설치된 토성에 주로 거주하면서 지배 족속으로 군림하였고, 고조선인은 촌락 단위로 군현 조직에 예속되었다. 또한 8조의 법금이 갑자기 60여 조로 늘어난 데서 알 수 있듯이, 고조선 사회의 전통적인 사회질서와 문화에 큰 혼란이 일어났다. 경제적으로도 군현의 공적인 수취 외에 한나라인들에 의한 수탈적인 상거래가 성행하였다. 이러한 결과를 강요한 한군현의 지배에 대한 저항이 곧이어 일어났고, 그 결과 2개 군이 폐지되고 1개 군이 축소되는 변동이 잇따랐다.\\n그러나 고조선 사회의 중심부였던 한반도 서북 지방에 설치된 낙랑군은 점차 지배 영역이 축소되긴 했지만 기원후 4세기 초까지 유지되었다. 3세기 초에는 낙랑군의 남부 지역에 대방군이 설치되었다. 낙랑군 관할에 있었던 조선현(朝鮮縣), 즉 평양 지역은 비단 한반도 서북부의 문화와 정치의 중심지였을 뿐 아니라, 한반도 남부와 일본 열도 지역의 주민과 중국 사이의 무역 중계지로서 번영하였다. 이 지역에는 상당수의 중국계 주민이 이주해 와 정착하였다.\\n이들이 남긴 무덤들에선 한나라에서 반입된 고급품과 낙랑군 현지에서 생산한 물품들이 출토되어 당시 번성한 낙랑군의 면모를 보여준다. 그러나 이런 높은 수준의 문물은 토성을 중심으로 거주하던 중국계 주민들과 낙랑군의 지배 조직의 말단에 편입된 일부 고조선계의 수장층에 한정되어 보급되었으며, 다수의 고조선인의 생활과는 무관한 것이었다. 나아가 이런 한나라의 군현들과 그 세력의 원천인 한나라는 군현의 외곽 지역에 거주하던 예·맥·한민족 사회의 정치적인 성장을 압박하는 외적 요소로 작용하였다. 한편 한나라 군현을 통해 유입되는 선진문물은 토착사회의 변화를 자극하였다.\\n이러한 상황에서 한편으로는 한나라 군현의 세력에 대항하고, 다른 한편으로는 그 선진 문물을 수용하면서, 예·맥·한민족 사회에서 삼한(마한, 변한, 진한), 고구려, 옥저, 동예, 부여 등 여러 국가들이 차례로 등장하였다. 이 국가들이 오랜 기간에 걸친 상호 통합의 과정을 거쳐, 고구려·백제·신라 등의 국가로 정립하게 되었다.\\n\\n\\n=== 삼국의 정립 ===\\n\\n\\n==== 고구려 ====\\n한족과의 투쟁 과정 속에서 점차 세력을 확대한 고구려는 유리왕 때에 이르러 전한의 뒤를 이어 일어난 신나라와 충돌할 정도로 그 세력이 성장하였다. 이어 태조왕 때부터는 강력한 대외 발전을 꾀하여 옥저를 복속시키고 요동군과 현도군을 자주 공격하였다. 또 고구려는 요하 지역을 차지하고 있던 공손씨를 축출하고, 중국이 삼국의 대치로 혼란에 빠진 틈을 타 위나라를 공격하는 등 정복 국가로서의 면모를 과시하며 집권 체제를 가다듬었다.\\n이후 고국천왕 대에 이르러 을파소 등의 유능한 대신이 등장하고, 진대법 등을 통해 내정의 안정을 꾀하였지만, 고국천왕 사후에 고발기를 비롯한 고국천왕의 형제들 간에 일어난 싸움으로 혼란이 일어나기도 하였다. 그러나 발기의 난에서 고발기를 진압하고 왕이 된 산상왕에 이어 동천왕이 즉위하면서부터는 다시 대륙과의 관계를 다양하게 전개, 위나라에는 능동적으로 대처하고 신라를 지속적으로 침범하였다.\\n이러한 정복전쟁 결과 고구려는 막대한 토지와 인간을 점유하였고, 왕실을 고정하고 부자상속을 확립하였으며, 또 5부를 개편하는 등 국가체제의 정비를 꾀하여 4세기에는 율령제가 갖추어진 고대 국가로서 발전하였다.\\n\\n\\n==== 신라와 가야 ====\\n지금의 경주를 중심으로 성장한 사로국은 중국의 금속 문화와 접촉할 기회가 적어서 고구려·백제보다 사회 발전이 늦었다. 그러나 점차적으로 동부 해안에서 정착해 온 석씨와 연합하여 연맹체를 이루어 갔다. 그리하여 탈해 이사금 때는 국호를 계림(鷄林)으로 고치고, 6촌을 개편하여 6부의 행정 구역으로 하였다. 이 시대에는 부족장의 칭호도 군장이라는 의미로 해석되는 ‘거서간’에서 무당 또는 제사장을 의미하는 ‘차차웅(次次雄)’으로, 그리고 다시 부족장 권한의 ‘계승자’라는 의미의 ‘이사금(尼師今)’으로 변했다. 그 후 미추왕의 즉위를 기점으로 김알지의 후손 김씨가 왕위를 차지하였다.\\n한편 금속문화의 전파가 늦었던 변한의 여러 부족 국가들도 3세기 이후에는 가야라는 연맹체를 형성하기 시작했다.\\n\\n\\n==== 백제 ====\\n백제의 경우 고구려 계통에서 시작했을 것이라고 추측된다. 고구려에서 도주한 온조 집단이 처음에 정착한 곳은 미추홀과 위례성이었고, 비류가 자살하면서 위례로 합쳐졌다. 고조선 멸망 후부터 파상적으로 피난해 온조왕·초고왕의 재위 기간을 거치는 동안 토착 부족 세력을 결합하면서 점차\\n낙랑·대방의 침략을 받은 한강 유역의 부족 국가들은 이에 대항하기 위하여, 보다 큰 연맹체가 요구되자 백제를 맹주로 공고히 단결함으로써 백제는 부족국가로 성장할 수 있었다.\\n\\n\\n=== 삼국의 발전 ===\\n대륙에서 후한(後漢)이 망하고 위(魏)·촉(蜀)·오(吳)의 세 나라가 각축을 벌이는 가운데, 반도에 대한 영향력이 점차 감소되고 있던 4세기에서 6세기에 이르는 시기에 삼국은 정치적으로 큰 발전을 이룩하였다. 그 중 하나는 고대 국가로의 발돋움을 위한 체제 정비이고, 다른 하나는 정복 국가로의 변모다.\\n한국의 고대 국가 체제 정비는 부족 국가 체제의 약화에서 시작되었다. 원래 부족장의 권한이 강대한 상태에서는 지방 분권적인 사회 조직이 유지될 뿐 강력한 왕권이 존재할 수 없었다. 부족 연맹 사회의 우두머리라 할 부족 연맹장으로서의 왕도 각 부족장의 통치권을 인정한 바탕 위에서 성립된 것이기 때문에 강력한 전제 왕권의 행사가 불가능하였다. 따라서 왕권의 세습이나 왕권의 부자상속 같은 것도 기대할 수 없었고, 다만 선거로써 왕좌(王座)가 변동되었다. 부여에서 가뭄과 장마의 책임을 왕에게 돌려 왕을 폐위하거나 죽인 사례나 고구려의 오부(五部) 사이에서 왕권의 이동이 있었던 사실, 신라의 세 성(박·석·김)이 왕위를 번갈아 이어받았던 것은 이러한 것을 잘 말해준다. \\n그러나 부족 연맹장의 세력은 점차 증대되고 부족장의 권한은 점차 약화되었을 뿐만 아니라, 지방의 부족장을 중앙으로 끌어올려 적당한 지위를 주어 귀족으로 편제시켰다. 신라의 골품제에서 나타난 진골을 비롯한 각 두품이나 17개의 관등, 또 고구려와 백제에서의 관등의 성립 등은 이러한 것을 잘 말해주고 있다. 이를 통해 단순한 부족 연맹의 군장이었던 왕은 종래의 부족장이 선출하던 연약한 왕권의 소유자에서 부자 상속이 가능한 절대적인 군주로 군림할 수 있었다.\\n또 하나, 고대 왕권의 구축과 고대 국가 체제의 정비에는 제도적인 면에 앞서서 사상 통일이 요청되었다. 과거의 지방 분권적이고 부족적인 사상 체계를 고대 국가적인 사상 체계로 승화시키는 데에는 보다 포괄적이고 고차원적인 이념과 윤리 강령이 필요하였다. 한국의 고대에서 고구려 (372년), 백제 (384년), 신라 (527년)가 각각 불교를 수입, 혹은 공인하는 것이 바로 이 시기였다는 것은 불교가 고대 국가 체제의 정비에서 관념 체계적인 역할을 감당했다는 것을 의미한다.\\n고구려에서 고대 국가 체제를 정비한 소수림왕과 고국양왕의 뒤를 이어 즉위한 광개토왕과 장수왕이 요동',\n",
       "   'url': 'https://ko.wikipedia.org/wiki/%EC%82%BC%EA%B5%AD_%EC%8B%9C%EB%8C%80',\n",
       "   'title': '삼국 시대'},\n",
       "  {'content': '삼국 시대(三國時代)는 후한이 멸망한 3세기 초부터 서로 다투던 위, 촉, 오를 서진이 통일한 3세기 후반까지를 가리키는 말이다. 따라서 사전적인 의미로는 위가 세워진 220년부터 오가 서진에게 멸망한 280년까지를 삼국시대로 본다. 하지만 후한의 통치력은 이미 훨씬 전 황건의 난을 계기로 이미 무너진 상태였기 때문에 황건의 난과 그 이후 펼쳐진 군웅할거의 시대 역시 삼국지대의 전초전으로 보는 것이 일반적이며 대중들에게도 오히려 삼국 정립 이후보다 후한 말의 군웅할거 시대가 훨씬 더 잘 알려져 있다. 중국의 다른 국가들과 이름을 구별하기 위해 역사가들은 이 시대의 삼국들을 각각 위는 조위, 촉은 촉한, 오는 동오 또는 손오라고 부르곤 한다.\\n다만 동탁이 사망한 직후에는 후한이 재건할 수 있는 마지막 기회가 잠깐 찾아왔었다. 하지만 탐욕에 절어있고 악에 받쳐있는 가후가 야반도주 하려던 이각과 곽사를 꼬드겨 후한 헌제의 군대와 맞서 싸우게 하였으며 이 전투에서 이각과 곽사군이 승리함으로서 후한은 완벽한 재기불능 상태로 전락했고 결국 이게 원인이 되어 멸망했다.\\n비록 상대적으로 짧은 기간이었지만 동아시아 문화에 큰 영향력을 끼친 시대다. 삼국 시대는 후대 많은 사람들에게 구전되었고, 오늘날까지도 TV, 영화, 비디오 게임 등 다양한 2차 창작물로 끝임없이 재생산되고 있다. 하지만 역시나 가장 잘 알려진 것은 명나라의 나관중이 쓴 삼국시대에 기반을 둔 역사 소설 삼국지연의다. 삼국지 연의의 인기는 그야말로 엄청나서 오늘날까지도 한자 문명권에서는 거의 모르는 사람이 없을 정도로 널리 읽혀지고 있다.\\n창작물이 아닌 권위있는 정통 역사 기록으로는 진수가 쓰고 배송지가 주석을 단 삼국지가 있다. 이 밖에도 후한서, 산양공일기, 영웅기 및 조만전 등이 당대의 시대상을 해석할 수 있게 도와주는 다양한 관점의 당대 기록들이 오늘날까지도 남아있다. 아무래도 하나의 강력한 단일정부가 중국을 통치했던 시대가 아니었던 만큼 기록 측면에서는 각각 다양한 관점의 다채로운 해석들이 풍부하게 남은 시대였다.\\n삼국 시대는 중국 역사 상 가장 폭력적이고 혼란스러운 시기 중 하나였다. 후한 말 인구조사에 집계된 중국의 전체 인구는 약 5,000만명 정도였으나 중국을 재통일한 서진이 전국 규모로 다시 실시한 인구조사로 파악된 인구는 약 1,600만명 정도에 불과하였다. 단 이것은 100년이란 짧은 기간 동안에 3,000만명이 넘는 인구가 증발했다는 것은 아니었다. 워낙 정국이 혼란스럽다 보니 많은 인구가 재산을 버리고 도적이나 유랑민이 되었고 혹은 지방 유지들에게 신변을 바치고 농노가 되었기 때문에 인구의 상당 부분이 중앙정부의 행정력을 벗어났던 것이다. 물론 백만이 넘는 사상자를 야기한 이각 곽사의 난처럼 조직적인 대학살도 빈번하게 벌어졌으며 전국 각지에서 전쟁이 끊이지 않은 만큼 많은 사상자가 발생한 것은 사실이다. 또한 중국 전역이 전쟁터로 전락하면서 생산력이 급감하고 행정력 역시 마비되었기 때문에 굶주림이나 전염병으로 죽은 사람도 많았다. 오늘날 학계에서는 삼국정립의 시점을 기준으로 당대 중국의 인구는 약 3,000만명 정도였을 것으로 보고 있다.\\n\\n\\n== 역사 ==\\n\\n\\n=== 황건적의 난 ===\\n\\n후한은 화제의 재위기 이후부터 눈에 띄게 쇠퇴하기 시작했으며 내.외부적으로 수많은 해결하기 어려운 문제들에 부딪치게 되었다. 많은 황제들이 최소한의 판단력도 갖추지 못한 어린 나이에 재위에 올랐으며 황제권은 외척의 전유물이 되었다. 황제들이 성년에 이르러도 외척들은 권력을 내주길 꺼려했기 때문에, 황제는 권력을 찾기 위해 환관들에게 의지할 수 밖에 없었다. 결국 한나라 최후의 100년은 환관과 외척 간의 궁중 정쟁이 잠시도 쉬지 않고 이어진 시대였으며 이 100년 간 후한 정부는 사태를 개선하기 위한 어떤 노력도 보여주지 못하였다.\\n반면 지방에서는 관료직을 독점하고 무너진 중농층들을 농노로 거둬들이며 대지주가 된 호족세력들이 실력자로 등장한지 오래였다. 이들은 각자 긴밀한 학연, 지연, 혈연으로 서로 묶여 있었으며 이들의 협조없이 지방을 통치하는 것은 사실상 불가능하였으며 모든 관직들을 이들 호족들이 독점했던 만큼 정부 관료의 수준은 갈수록 저하되었고 유능하지만 명문가 출신이 아니라 출세의 길이 막혀 버린 야심가들은 정부에 대한 불만 세력으로 변해갔다.\\n대외 요건도 좋지 않았는데 이 시기 즈음부터 시작된 소빙하기 현상으로 점차 농업 생산력이 감소하였으며 악화되는 기후를 피해 중국으로 이주하려는 이민족들이 빈번한 침입으로 안보 위협도 계속 높아지는 추세였다. 후한이 아직 건재할 때에도 이미 흉노족이 중원의 중앙인 황거강까지 습격해 들어오는 일이 빈번했으며 서쪽의 강족. 저족은 이미 반 독립세력을 갖추어 중앙정부의 통제를 벗어난지 오래였다. 이들을 통제하기 위해선 더 많은 군대를 변방에 배치해야 했지만 이미 자영농이 몰락해 버린 후한은 그럴 돈도 인력도 부족했고 결국은 가난한 빈농 혹은 변방의 반 이민족들을 용병으로 사용하는 가장 쉬운 길은 택했다. 비슷한 실수를 저지른 로마제국과 마찬가지로 결국 후한 역시 결국은 사병으로 전락한 이들 용병들로 인해 엄청난 재앙을 겪게 된다.\\n이러한 후한의 침체기는 환제와 영제의 대에 이르자 극에 달했다. 황제를 좌지우지 하는 환관들과 관료조직을 장악하고 있던 호족 지식계급 간의 갈등은 극에 달했는데, 환관들은 대표적인 명문 호족들을 관직에서 추방하는 일명 당고의 금으로 맞섰다. 단 이런 억압적인 대책은 일시적인 것일 뿐이었는데 아무리 환관들이 중앙정부를 장악하고 있다고 해봤자 이미 지방권력과 지식 패러다임을 장악하고 있는 호족들 없이 국가를 운영하는 것은 불가능했기 때문이다. 당고의 금은 당장은 환관의 승리로 보였지만 실제로는 이 시대의 대표 기득권이 정권을 본격적으로 불신임하는 신호탄이었던 것이다.\\n이런 흉흉한 분위기 속에서 184년 2월, 도교적 교단 태평도의 지배자였던 장각이 형제였던 장보와 장량과 함께 정부를 상대로 황건적의 난을 일으켰다. 장각은 뛰어난 조직력과 상상력의 갖춘 인물이었으며 의지할 곳이 없었던 빈농들을 도교 사상을 종교적으로 덧칠하고 민간 공동체를 제공하는 방법으로 사로잡았다. 이는 중국 역사 상 최초의 종교 반란이기도 하였다.\\n난은 급속도로 퍼져 수십만에 이르렀고, 중국 곳곳에서 많은 지지를 받았다. 그들은 36개의 요새를 가지고 있었고, 큰 요새는 만명 이상, 작은 요새는 6~7천명 정도의 군사를 가져 규모만 놓고 보면 한나라 공식 군대보다도 더 규모가 컸다. 그들은 \"창천이사 황천당립 세재갑자 천하대길(蒼天已死 黃天當立 歲在甲子 天下大吉: 푸른 하늘이 죽고 노란 하늘이 일어나니, 갑자년에 천하가 크게 길해지리라)\"라는 구호를 내세웠다. 당황한 한나라는 당고의 금을 해제하고 지방의 호족들에게 무장을 하고 황건적에게 대응해 줄 것을 요청하였다. 또한 각지의 실력과 야망은 있으나 신분이 미천해 빛을 발하지 못하고 있던 숨은 잠룡들도 바로 이 때를 계기로 처음으로 역사의 무대에 등장하게 된다. 삼국지연의는 바로 이 시점부터 시작된다. 황건적은 결국 패배하고 중국 각지로 흩어졌지만, 제국의 혼란스러운 상황때문에 살아남아 각지에서 도적으로 살아갔고, 이로 인해 시대의 혼란은 더욱 커졌다.\\n중국 곳곳으로 퍼진 도적떼들을 다 처리할 능력이 한나라 군대에는 없었다. 188년, 유언은 지방관들이 직접 그 지방을 통치할 수 있게 해달라 영제에게 건의했고, 영제는 이를 받아들였다. 이로써 기존에는 제한된 행정권만을 가지고 있었던 지방관들이 사실상 자기 관할지역의 전권을 차지하게 되었으며 이는 도적에 대한 대응에 있어서는 효율적이었으나 야심을 품은 지방관들이 결국엔 군벌화 하면서 중국의 혼란은 더욱 가속되었다.\\n\\n\\n=== 권력을 잡은 동탁 ===\\n이듬해에 영제가 죽자 한나라의 조정은 황제가 교체될 때마다 언제나 그랬듯이 외척과 환관 간의 싸움터가 되었다. 환관 건석은 외척이었던 대장군 하진을 죽이고 왕세자자리에 올라있던 유변을 대신해 유협을 왕세자로 바꿀 계획을 세웠으나 실패로 돌아갔다. 유변은 황제가 되어 소제가 되었고, 하진은 당시 대표적인 명문집안이었던 원씨 일가의 젊은 동량이었던 원소와 함께 그 당시 정권을 잡고 있던',\n",
       "   'url': 'https://ko.wikipedia.org/wiki/%EC%82%BC%EA%B5%AD_%EC%8B%9C%EB%8C%80_(%EC%A4%91%EA%B5%AD)',\n",
       "   'title': '삼국 시대 (중국)'}]}"
      ]
     },
     "execution_count": 77,
     "metadata": {},
     "output_type": "execute_result"
    }
   ],
   "source": [
    "search_wikipedia.invoke({\"query\":\"삼국시대\"})"
   ]
  },
  {
   "cell_type": "code",
   "execution_count": null,
   "metadata": {},
   "outputs": [],
   "source": []
  },
  {
   "cell_type": "code",
   "execution_count": null,
   "metadata": {},
   "outputs": [],
   "source": []
  },
  {
   "cell_type": "markdown",
   "metadata": {},
   "source": [
    "## Vector Store(Vector 저장소) tool\n",
    "\n",
    "### text loading -> Document 생성\n",
    "- 레스토랑 메뉴를 vector store에 저장한다.\n",
    "1. 메뉴 text 를 로딩한다.\n",
    "2. 각 메뉴의 내용(음식이름, 메뉴설명, 파일명)을 넣어 Document를 생성한다."
   ]
  },
  {
   "cell_type": "code",
   "execution_count": 78,
   "metadata": {},
   "outputs": [],
   "source": [
    "menu_path = \"data/restaurant_menu.txt\"\n",
    "with open(menu_path, \"rt\", encoding=\"utf-8\") as fr:\n",
    "    menu = fr.read()\n",
    "\n",
    "# print(menu)"
   ]
  },
  {
   "cell_type": "code",
   "execution_count": 79,
   "metadata": {},
   "outputs": [
    {
     "name": "stdout",
     "output_type": "stream",
     "text": [
      "6. 트러플 피자\n",
      "   - 가격: 26,000원\n",
      "   - 주요 재료: 트러플 오일, 모짜렐라 치즈, 얇은 피자 도우, 루꼴라\n",
      "   - 메뉴 설명: 얇고 바삭한 도우 위에 고급 트러플 오일과 모짜렐라 치즈를 얹어 구워낸 피자입니다. 루꼴라를 더해 신선하고 고소한 맛이 특징입니다. 고급스러운 한 끼를 즐기기에 완벽한 선택입니다.\n"
     ]
    },
    {
     "data": {
      "text/plain": [
       "[('6', '트러플 피자')]"
      ]
     },
     "execution_count": 79,
     "metadata": {},
     "output_type": "execute_result"
    }
   ],
   "source": [
    "menu1 = menu.split(\"\\n\\n\")[5]\n",
    "print(menu1) # 번호, 메뉴 이름 추출\n",
    "import re\n",
    "p = r\"(^\\d+)\\. ([가-힣a-zA-Z ]+)\"\n",
    "re.findall(p, menu1)"
   ]
  },
  {
   "cell_type": "code",
   "execution_count": 80,
   "metadata": {},
   "outputs": [],
   "source": [
    "# Document - 개별 메뉴. page_content: 메뉴 정보, metadata: 메뉴번호, 메뉴이름, 파일경로\n",
    "import re\n",
    "from langchain_core.documents import Document\n",
    "def menu_splitter(menu_txt:str, file_name:str) -> list[Document]:\n",
    "    \"\"\"\n",
    "        전체 메뉴 텍스트를 받아서 각 메뉴별로 Document 객체에 담아 반환\n",
    "        page_content: 메뉴 정보(내용), metadata: 메뉴번호, 메뉴이름, 파일 경로\n",
    "        Args:\n",
    "            menu_txt(str): 전체 메뉴 string\n",
    "            file_name(str): 메뉴 파일의 경로\n",
    "        Returns:\n",
    "            list[document]\n",
    "    \"\"\"\n",
    "    # 메뉴별로 분리\n",
    "    menu_list = menu_txt.split(\"\\n\\n\")\n",
    "    menu_document_list = []\n",
    "    for menu_item in menu_list:\n",
    "        pattern = p = r\"(^\\d+)\\. ([가-힣a-zA-Z ]+)\"\n",
    "        re_result = re.match(pattern, menu_item)\n",
    "        if re_result is None:\n",
    "            continue\n",
    "        menu_num = re_result.group(1)\n",
    "        menu_name = re_result.group(2)\n",
    "        doc = Document(\n",
    "            page_content=menu_item,\n",
    "            metadata={\"menu_num\":menu_num, \"menu_name\":menu_name, \"source\":file_name}\n",
    "        )\n",
    "        menu_document_list.append(doc)\n",
    "    return menu_document_list"
   ]
  },
  {
   "cell_type": "code",
   "execution_count": 81,
   "metadata": {},
   "outputs": [
    {
     "data": {
      "text/plain": [
       "[Document(metadata={'menu_num': '1', 'menu_name': '라따뚜이', 'source': 'data/restaurant_menu.txt'}, page_content='1. 라따뚜이\\n   - 가격: 17,000원\\n   - 주요 재료: 가지, 호박, 파프리카, 토마토 소스, 올리브 오일\\n   - 메뉴 설명: 프랑스 남부를 대표하는 전통 요리로, 신선한 채소를 얇게 썰어 층층이 쌓아 올리고 허브와 토마토 소스를 더해 구워냅니다. 채소 본연의 단맛과 상큼한 소스가 조화를 이룹니다. 비건 고객도 즐길 수 있는 건강한 메뉴입니다. 따뜻한 바게트와 함께 제공됩니다.'),\n",
       " Document(metadata={'menu_num': '2', 'menu_name': '카르보나라', 'source': 'data/restaurant_menu.txt'}, page_content='2. 카르보나라\\n   - 가격: 20,000원\\n   - 주요 재료: 스파게티 면, 판체타, 달걀 노른자, 파르미지아노 치즈\\n   - 메뉴 설명: 이탈리아 전통 방식으로 만든 크리미한 파스타입니다. 판체타의 풍미와 달걀 노른자가 어우러져 고소하고 깊은 맛을 자랑합니다. 신선한 파르미지아노 치즈가 풍미를 더하며, 후추를 뿌려 맛을 완성합니다.'),\n",
       " Document(metadata={'menu_num': '3', 'menu_name': '부르기뇽 스튜', 'source': 'data/restaurant_menu.txt'}, page_content='3. 부르기뇽 스튜\\n   - 가격: 28,000원\\n   - 주요 재료: 쇠고기, 적포도주, 양파, 당근, 베이컨\\n   - 메뉴 설명: 프랑스 부르고뉴 지방에서 유래된 스튜 요리로, 고기를 적포도주와 함께 오랜 시간 푹 끓여 부드럽고 진한 풍미를 자랑합니다. 신선한 허브와 채소가 맛을 풍부하게 하고, 바게트와 함께 제공됩니다.'),\n",
       " Document(metadata={'menu_num': '4', 'menu_name': '니스 샐러드', 'source': 'data/restaurant_menu.txt'}, page_content='4. 니스 샐러드\\n   - 가격: 18,000원\\n   - 주요 재료: 참치, 방울토마토, 올리브, 삶은 달걀, 그린빈\\n   - 메뉴 설명: 프랑스 니스 지방의 상큼한 샐러드로, 다양한 채소와 참치를 사용해 풍성한 맛과 식감을 제공합니다. 발사믹 비네거 드레싱이 가미되어 가볍게 즐기기 좋은 요리입니다. 신선함과 영양을 동시에 잡은 메뉴입니다.'),\n",
       " Document(metadata={'menu_num': '5', 'menu_name': '프렌치 어니언 수프', 'source': 'data/restaurant_menu.txt'}, page_content='5. 프렌치 어니언 수프\\n   - 가격: 12,000원\\n   - 주요 재료: 양파, 비프 스톡, 화이트 와인, 그뤼에르 치즈\\n   - 메뉴 설명: 달콤하게 캐러멜라이즈된 양파와 진한 비프 스톡으로 만든 프랑스 전통 수프입니다. 바삭한 바게트 위에 그뤼에르 치즈를 녹여 깊은 풍미를 더했습니다. 추운 날씨에 특히 잘 어울리는 따뜻한 메뉴입니다.'),\n",
       " Document(metadata={'menu_num': '6', 'menu_name': '트러플 피자', 'source': 'data/restaurant_menu.txt'}, page_content='6. 트러플 피자\\n   - 가격: 26,000원\\n   - 주요 재료: 트러플 오일, 모짜렐라 치즈, 얇은 피자 도우, 루꼴라\\n   - 메뉴 설명: 얇고 바삭한 도우 위에 고급 트러플 오일과 모짜렐라 치즈를 얹어 구워낸 피자입니다. 루꼴라를 더해 신선하고 고소한 맛이 특징입니다. 고급스러운 한 끼를 즐기기에 완벽한 선택입니다.'),\n",
       " Document(metadata={'menu_num': '7', 'menu_name': '밀라노풍 송아지 커틀렛', 'source': 'data/restaurant_menu.txt'}, page_content='7. 밀라노풍 송아지 커틀렛\\n   - 가격: 30,000원\\n   - 주요 재료: 송아지 고기, 빵가루, 파르미지아노 치즈, 루꼴라 샐러드\\n   - 메뉴 설명: 얇게 저민 송아지 고기를 바삭하게 튀겨 낸 이탈리아 전통 요리입니다. 레몬을 곁들여 고기의 풍미를 돋우며, 상큼한 루꼴라 샐러드가 함께 제공됩니다. 바삭한 식감과 부드러운 고기의 조화가 일품입니다.'),\n",
       " Document(metadata={'menu_num': '8', 'menu_name': '프로방스 치킨', 'source': 'data/restaurant_menu.txt'}, page_content='8. 프로방스 치킨\\n   - 가격: 22,000원\\n   - 주요 재료: 닭고기, 타임, 로즈마리, 올리브, 토마토\\n   - 메뉴 설명: 프랑스 프로방스 지방의 허브와 토마토 소스로 조리한 닭고기 요리입니다. 부드럽고 촉촉한 닭고기와 향긋한 허브가 입맛을 돋웁니다. 라이스나 바게트와 함께 즐기기 좋습니다.'),\n",
       " Document(metadata={'menu_num': '9', 'menu_name': '해산물 링귀니', 'source': 'data/restaurant_menu.txt'}, page_content='9. 해산물 링귀니\\n   - 가격: 24,000원\\n   - 주요 재료: 링귀니 면, 홍합, 새우, 오징어, 화이트 와인\\n   - 메뉴 설명: 신선한 해산물과 화이트 와인을 곁들여 만든 이탈리아 대표 파스타입니다. 면과 해산물이 풍부하게 어우러져 깊고 풍성한 맛을 자랑합니다. 바다의 풍미를 그대로 담은 특별한 메뉴입니다.'),\n",
       " Document(metadata={'menu_num': '10', 'menu_name': '토마토 브루스케타', 'source': 'data/restaurant_menu.txt'}, page_content='10. 토마토 브루스케타\\n    - 가격: 12,000원\\n    - 주요 재료: 토마토, 바질, 올리브 오일, 바게트\\n    - 메뉴 설명: 바삭하게 구운 바게트 위에 신선한 토마토와 바질을 얹고 올리브 오일로 마무리한 간단한 요리입니다. 입맛을 돋우는 상큼한 맛이 특징입니다. 가벼운 전채로 적합합니다.'),\n",
       " Document(metadata={'menu_num': '11', 'menu_name': '크림 스피나치 라자냐', 'source': 'data/restaurant_menu.txt'}, page_content='11. 크림 스피나치 라자냐\\n    - 가격: 23,000원\\n    - 주요 재료: 라자냐 면, 크림 소스, 시금치, 리코타 치즈\\n    - 메뉴 설명: 부드럽고 크리미한 소스와 신선한 시금치가 조화를 이루는 라자냐입니다. 리코타 치즈를 풍부하게 사용해 깊은 맛을 더했습니다. 따뜻하고 풍성한 한 끼로 제격입니다.'),\n",
       " Document(metadata={'menu_num': '12', 'menu_name': '바질 페스토 뇨끼', 'source': 'data/restaurant_menu.txt'}, page_content='12. 바질 페스토 뇨끼\\n    - 가격: 19,000원\\n    - 주요 재료: 감자 뇨끼, 바질 페스토, 파르미지아노 치즈\\n    - 메뉴 설명: 부드럽고 쫀득한 감자 뇨끼에 향긋한 바질 페스토를 곁들인 이탈리아 대표 요리입니다. 신선한 치즈와 허브가 요리의 맛을 풍부하게 만듭니다. 가벼운 식사로 적합합니다.'),\n",
       " Document(metadata={'menu_num': '13', 'menu_name': '티라미수', 'source': 'data/restaurant_menu.txt'}, page_content='13. 티라미수\\n    - 가격: 10,000원\\n    - 주요 재료: 마스카르포네 치즈, 에스프레소, 코코아 파우더, 사보이아르디\\n    - 메뉴 설명: 이탈리아를 대표하는 디저트로, 부드러운 마스카르포네 치즈 크림과 촉촉한 에스프레소 시트가 어우러집니다. 코코아 파우더가 위에 뿌려져 달콤쌉쌀한 맛이 특징입니다. 커피와 함께 즐기기에 완벽한 디저트입니다.'),\n",
       " Document(metadata={'menu_num': '14', 'menu_name': '크렘 브륄레', 'source': 'data/restaurant_menu.txt'}, page_content='14. 크렘 브륄레\\n    - 가격: 11,000원\\n    - 주요 재료: 크림, 설탕, 바닐라 빈, 달걀 노른자\\n    - 메뉴 설명: 부드러운 크림 베이스 위에 바삭한 캐러멜 층이 올라간 프랑스 디저트입니다. 숟가락으로 캐러멜을 부수며 즐기는 식감이 매력적입니다. 부드럽고 달콤한 맛이 입안을 가득 채웁니다.'),\n",
       " Document(metadata={'menu_num': '15', 'menu_name': '레몬 타르트', 'source': 'data/restaurant_menu.txt'}, page_content='15. 레몬 타르트\\n    - 가격: 9,000원\\n    - 주요 재료: 레몬 커드, 타르트 크러스트, 슈거 파우더\\n    - 메뉴 설명: 상큼한 레몬 커드와 바삭한 타르트 크러스트가 완벽한 조화를 이루는 디저트입니다. 달콤한 맛과 상큼한 맛이 균형을 이루며, 가볍게 즐기기 좋은 메뉴입니다. 애프터눈 티와 잘 어울립니다.')]"
      ]
     },
     "execution_count": 81,
     "metadata": {},
     "output_type": "execute_result"
    }
   ],
   "source": [
    "menu_document_list = menu_splitter(menu, menu_path)\n",
    "len(menu_document_list)\n",
    "menu_document_list"
   ]
  },
  {
   "cell_type": "code",
   "execution_count": 82,
   "metadata": {},
   "outputs": [
    {
     "data": {
      "text/plain": [
       "True"
      ]
     },
     "execution_count": 82,
     "metadata": {},
     "output_type": "execute_result"
    }
   ],
   "source": [
    "from dotenv import load_dotenv\n",
    "load_dotenv()"
   ]
  },
  {
   "cell_type": "code",
   "execution_count": null,
   "metadata": {},
   "outputs": [],
   "source": []
  },
  {
   "cell_type": "code",
   "execution_count": 83,
   "metadata": {},
   "outputs": [],
   "source": [
    "##############\n",
    "# vector store에 저장\n",
    "\n",
    "from langchain_chroma import Chroma\n",
    "from langchain_openai import OpenAIEmbeddings\n",
    "\n",
    "COLLECTION = \"restaurant_menu\"\n",
    "PERSIST_DIRECTORY = \"vector_store/chroma/restaurant_menu_db\"\n",
    "\n",
    "embedding_model = OpenAIEmbeddings(model=\"text-embedding-3-large\")\n",
    "vector_store = Chroma(\n",
    "    embedding_function=embedding_model,\n",
    "    collection_name=COLLECTION,\n",
    "    persist_directory=PERSIST_DIRECTORY\n",
    ")\n",
    "# 저장(upsert)\n",
    "add_ids = vector_store.add_documents(menu_document_list)\n",
    "\n",
    "# Retriever 생성\n",
    "menu_retriever = vector_store.as_retriever(\n",
    "    search_kwargs={\"k\":3}\n",
    ")"
   ]
  },
  {
   "cell_type": "code",
   "execution_count": 84,
   "metadata": {},
   "outputs": [
    {
     "data": {
      "text/plain": [
       "[Document(id='52fb9c43-8287-4bbc-9efb-5aafa4f3ebaf', metadata={'menu_num': '3', 'menu_name': '부르기뇽 스튜', 'source': 'data/restaurant_menu.txt'}, page_content='3. 부르기뇽 스튜\\n   - 가격: 28,000원\\n   - 주요 재료: 쇠고기, 적포도주, 양파, 당근, 베이컨\\n   - 메뉴 설명: 프랑스 부르고뉴 지방에서 유래된 스튜 요리로, 고기를 적포도주와 함께 오랜 시간 푹 끓여 부드럽고 진한 풍미를 자랑합니다. 신선한 허브와 채소가 맛을 풍부하게 하고, 바게트와 함께 제공됩니다.'),\n",
       " Document(id='d78c1a2d-4710-4963-8019-da332d8ca543', metadata={'menu_name': '해산물 링귀니', 'source': 'data/restaurant_menu.txt', 'menu_num': '9'}, page_content='9. 해산물 링귀니\\n   - 가격: 24,000원\\n   - 주요 재료: 링귀니 면, 홍합, 새우, 오징어, 화이트 와인\\n   - 메뉴 설명: 신선한 해산물과 화이트 와인을 곁들여 만든 이탈리아 대표 파스타입니다. 면과 해산물이 풍부하게 어우러져 깊고 풍성한 맛을 자랑합니다. 바다의 풍미를 그대로 담은 특별한 메뉴입니다.'),\n",
       " Document(id='d1a034b0-d6db-4e5e-8a85-9f17dec9b841', metadata={'menu_name': '라따뚜이', 'source': 'data/restaurant_menu.txt', 'menu_num': '1'}, page_content='1. 라따뚜이\\n   - 가격: 17,000원\\n   - 주요 재료: 가지, 호박, 파프리카, 토마토 소스, 올리브 오일\\n   - 메뉴 설명: 프랑스 남부를 대표하는 전통 요리로, 신선한 채소를 얇게 썰어 층층이 쌓아 올리고 허브와 토마토 소스를 더해 구워냅니다. 채소 본연의 단맛과 상큼한 소스가 조화를 이룹니다. 비건 고객도 즐길 수 있는 건강한 메뉴입니다. 따뜻한 바게트와 함께 제공됩니다.')]"
      ]
     },
     "execution_count": 84,
     "metadata": {},
     "output_type": "execute_result"
    }
   ],
   "source": [
    "menu_retriever.invoke(\"레드 와인과 어울리는 메뉴를 추천해주세요.\")"
   ]
  },
  {
   "cell_type": "code",
   "execution_count": 85,
   "metadata": {},
   "outputs": [],
   "source": [
    "# vector_store를 Tool로 정의 -> @tool 이용\n",
    "from langchain_core.tools import tool\n",
    "\n",
    "@tool\n",
    "def search_menu(query:str) -> dict:\n",
    "    \"\"\"\n",
    "        Vector Store(Vector Database)에 저장된 레스토랑의 메뉴를 검색하는 tool.\n",
    "        이 tool은 query와 가장 연관된 메뉴를 Vector Database에서 검색해서 반환한다. \n",
    "        레스토랑 메뉴와 관련된 검색은 이 tool을 사용한다. \n",
    "    \"\"\"\n",
    "    menu_result_list = menu_retriever.invoke(query)\n",
    "    result_list = []\n",
    "    for menu_doc in menu_result_list:\n",
    "        result_list.append({\"content\":menu_doc.page_content,\n",
    "                            \"title\":menu_doc.metadata[\"menu_name\"], \n",
    "                            \"url\":menu_doc.metadata[\"source\"]})\n",
    "    if not result_list: # 비었으면 -> 검색 결과가 없으면 (for문을 안 돌았겠죠?)\n",
    "        result_list = \"검색된 정보가 없습니다.\"\n",
    "    return {\"result\": result_list}"
   ]
  },
  {
   "cell_type": "code",
   "execution_count": 86,
   "metadata": {},
   "outputs": [
    {
     "name": "stdout",
     "output_type": "stream",
     "text": [
      "search_menu\n",
      "Vector Store(Vector Database)에 저장된 레스토랑의 메뉴를 검색하는 tool.\n",
      "이 tool은 query와 가장 연관된 메뉴를 Vector Database에서 검색해서 반환한다. \n",
      "레스토랑 메뉴와 관련된 검색은 이 tool을 사용한다.\n",
      "{'description': 'Vector Store(Vector Database)에 저장된 레스토랑의 메뉴를 검색하는 tool.\\n이 tool은 query와 가장 연관된 메뉴를 Vector Database에서 검색해서 반환한다. \\n레스토랑 메뉴와 관련된 검색은 이 tool을 사용한다. ', 'properties': {'query': {'title': 'Query', 'type': 'string'}}, 'required': ['query'], 'title': 'search_menu', 'type': 'object'}\n"
     ]
    }
   ],
   "source": [
    "print(search_menu.name)\n",
    "print(search_menu.description)\n",
    "print(search_menu.args_schema.model_json_schema())"
   ]
  },
  {
   "cell_type": "code",
   "execution_count": 87,
   "metadata": {},
   "outputs": [
    {
     "data": {
      "text/plain": [
       "{'result': [{'content': '3. 부르기뇽 스튜\\n   - 가격: 28,000원\\n   - 주요 재료: 쇠고기, 적포도주, 양파, 당근, 베이컨\\n   - 메뉴 설명: 프랑스 부르고뉴 지방에서 유래된 스튜 요리로, 고기를 적포도주와 함께 오랜 시간 푹 끓여 부드럽고 진한 풍미를 자랑합니다. 신선한 허브와 채소가 맛을 풍부하게 하고, 바게트와 함께 제공됩니다.',\n",
       "   'title': '부르기뇽 스튜',\n",
       "   'url': 'data/restaurant_menu.txt'},\n",
       "  {'content': '7. 밀라노풍 송아지 커틀렛\\n   - 가격: 30,000원\\n   - 주요 재료: 송아지 고기, 빵가루, 파르미지아노 치즈, 루꼴라 샐러드\\n   - 메뉴 설명: 얇게 저민 송아지 고기를 바삭하게 튀겨 낸 이탈리아 전통 요리입니다. 레몬을 곁들여 고기의 풍미를 돋우며, 상큼한 루꼴라 샐러드가 함께 제공됩니다. 바삭한 식감과 부드러운 고기의 조화가 일품입니다.',\n",
       "   'title': '밀라노풍 송아지 커틀렛',\n",
       "   'url': 'data/restaurant_menu.txt'},\n",
       "  {'content': '8. 프로방스 치킨\\n   - 가격: 22,000원\\n   - 주요 재료: 닭고기, 타임, 로즈마리, 올리브, 토마토\\n   - 메뉴 설명: 프랑스 프로방스 지방의 허브와 토마토 소스로 조리한 닭고기 요리입니다. 부드럽고 촉촉한 닭고기와 향긋한 허브가 입맛을 돋웁니다. 라이스나 바게트와 함께 즐기기 좋습니다.',\n",
       "   'title': '프로방스 치킨',\n",
       "   'url': 'data/restaurant_menu.txt'}]}"
      ]
     },
     "execution_count": 87,
     "metadata": {},
     "output_type": "execute_result"
    }
   ],
   "source": [
    "search_menu.invoke(\"소고기 요리를 추천해줘.\")"
   ]
  },
  {
   "cell_type": "code",
   "execution_count": 88,
   "metadata": {},
   "outputs": [],
   "source": [
    "#####################################################################################\n",
    "# search_web, search_wikipedia, search_menu 툴을 사용하는 식당 메뉴/음식 추천 정보 제공 agent\n",
    "#####################################################################################\n",
    "from langchain_openai import ChatOpenAI\n",
    "from langchain.prompts import ChatPromptTemplate, MessagesPlaceholder\n",
    "\n",
    "from dotenv import load_dotenv\n",
    "load_dotenv()\n",
    "\n",
    "from tools import search_web, search_wikipedia, search_menu"
   ]
  },
  {
   "cell_type": "code",
   "execution_count": 89,
   "metadata": {},
   "outputs": [],
   "source": [
    "from textwrap import dedent\n",
    "from langchain_core.runnables import chain\n",
    "\n",
    "#####################################################################################\n",
    "# search_web, search_wikipedia, search_menu 툴을 사용하는 식당 메뉴/음식 추천 정보 제공 agent\n",
    "#####################################################################################\n",
    "from langchain_openai import ChatOpenAI\n",
    "from langchain.prompts import ChatPromptTemplate, MessagesPlaceholder\n",
    "\n",
    "from dotenv import load_dotenv\n",
    "load_dotenv()\n",
    "\n",
    "from tools import search_web, search_wikipedia, search_menu\n",
    "\n",
    "model = ChatOpenAI(model=\"gpt-4.1\")\n",
    "tool_model = model.bind_tools(tools=[search_web, search_wikipedia, search_menu])\n",
    "\n",
    "agent_prompt = ChatPromptTemplate.from_messages(\n",
    "    [\n",
    "        (\"system\", dedent(\"\"\"\n",
    "            당신은 레스토랑 메뉴 정보와 일반적인 음식 관련 지식을 제공하는 AI 어시스턴트입니다. \n",
    "            주요 목표는 사용자의 요청에 대한 정확한 정보를 제공하고 메뉴를 추천하는 것입니다.\n",
    "            \n",
    "            주요 지침들(guidelines):\n",
    "            1. 레스토랑의 메뉴관련 정보를 확인하려면 search_menu 도구를 사용하십시오. 이 도구는 레스토랑의 메뉴들의 가격, 음식의 특징들에 대한 정보를 제공합니다.\n",
    "            2. 일반적인 음식 정보, 그 음식의 유래, 문화적 배경에 대한 정보는 search_wiki 도구를 사용하십시오. 이 도구는 wikipedia 에서 정보를 검색해서 제공합니다.\n",
    "            3. 추가적인 웹 검색이 필요하거나 최신 정보를 얻고 싶을 때는 search_web 도구를 사용하십시오. 이 도구는 인터넷 검색을 통해 정보를 검색해서 제공합니다.\n",
    "            4. 검색 결과를 기반으로 명확하고 간결한 답변을 제공하십시오.\n",
    "            5. 요청 받은 질문이 모호하거나 필요한 정보가 부족한 경우 정중하게 설명을 요청하세요.\n",
    "            6. 메뉴 정보를 제공할 때는 가격, 주재료, 특징 순으로 설명하세요\n",
    "            7. 메뉴를 추천 할 때는 간단하게 추천 이유를 설명해주세요.\n",
    "            8. 최종 응답은 챗봇과 같은 대화형 스타일을 유지하세요. 친근하고 매력적이며 자연스럽게 소통하되 전문성을 보이는 어조를 유지하세요.\n",
    "\n",
    "            각 도구의 목적과 기능을 정확하게 이해하고 각 적절한 상황에서 사용하세요.\n",
    "            각 도구들을 결합해서 사용자의 요청에 정확한 대답을 하세요.\n",
    "            항상 가장 최신의 정확한 정보를 제공하기 위해 노력하세요.\n",
    "            \"\"\")),\n",
    "        # MessagesPlaceholder(variable_name=\"chat_history\", optional=True),  # 메모리 기능 사용시.\n",
    "        (\"human\", \"{query}\"),\n",
    "        MessagesPlaceholder(variable_name=\"agent_scratchpad\", optional=True) # AIMessage(tool calling 정보, ToolMessage)\n",
    "    ]\n",
    ")\n",
    "\n",
    "model_chain = agent_prompt | tool_model\n",
    "\n",
    "@chain\n",
    "def agent_chain(query: str):\n",
    "    ai_message = model_chain.invoke({\"query\":query})\n",
    "    if ai_message.tool_calls: # 도구 호출을 하도록 응답.\n",
    "        # tool 이름에 맞춰서 tool들을 호출\n",
    "        tool_message_list = []\n",
    "        for tool_call in ai_message.tool_calls: # [{tool call}, {}, {}]\n",
    "            tool_name = tool_call['name']\n",
    "            # if tool_name == \"search_web\":\n",
    "            #     tool_message = search_web.invoke(tool_call)\n",
    "            # elif tool_name == \"search_wikipedia\":\n",
    "            #     tool_message = search_wikipedia.invoke(tool_call)\n",
    "            # elif tool_name == \"search_menu\":\n",
    "            #     tool_message = search_menu.invoke(tool_call)\n",
    "            # else:\n",
    "            #     raise Exception(f\"등록되지 않은 tool 이름입니다. :{tool_name}\")\n",
    "            tool_message = globals()[tool_name].invoke(tool_call) # 함수 이름과 입력값이 같기 때문에 가능\n",
    "            tool_message_list.append(tool_message)\n",
    "        \n",
    "        input_data = {\"query\":query, \"agent_scratchpad\":[ai_message, *tool_message_list]}\n",
    "        result = model_chain.invoke(input_data)\n",
    "        return result\n",
    "\n",
    "    else: # LLM 최종 답변 응답.\n",
    "        return ai_message"
   ]
  },
  {
   "cell_type": "code",
   "execution_count": 90,
   "metadata": {},
   "outputs": [
    {
     "name": "stdout",
     "output_type": "stream",
     "text": [
      "content='파스타 요리를 추천드릴게요!\\n\\n1. 카르보나라 (20,000원)\\n- 주재료: 스파게티 면, 판체타, 달걀 노른자, 파르미지아노 치즈\\n- 특징: 전통 이탈리안 방식으로 만든 크리미한 파스타입니다. 판체타 특유의 풍미와 진한 치즈, 달걀의 부드러움이 조화를 이룹니다. 부드럽고 진한 맛을 원할 때 추천드려요!\\n\\n2. 바질 페스토 뇨끼 (19,000원)\\n- 주재료: 감자 뇨끼, 바질 페스토, 파르미지아노 치즈\\n- 특징: 쫄깃한 감자 뇨끼와 향긋한 바질 소스가 잘 어우러진 대표적인 이탈리안 요리입니다. 가볍고 상쾌한 맛을 즐기고 싶다면 추천합니다!\\n\\n3. 부르기뇽 스튜 (28,000원)\\n- 주재료: 쇠고기, 적포도주, 양파, 당근, 베이컨\\n- 특징: 프랑스 지방에서 유래된 스튜 파스타로, 오랜 시간 끓여 깊은 풍미가 느껴집니다. 진한 소스와 부드러운 고기의 조합을 좋아하시면 추천드려요!\\n\\n파스타는 이탈리아에서 유래된 음식으로, 밀가루 반죽을 길고 얇게 뽑아 만든 면 요리입니다. 소스와 토핑에 따라 종류가 매우 다양하며, 유럽 뿐 아니라 전 세계적으로 사랑받고 있습니다. 그 풍미와 식감, 다양한 소스의 변주가 크게 매력적이죠!\\n\\n참고로, 오늘의 구체적인 지역 날씨가 궁금하시면 어느 지역인지 말씀해주시면 더욱 정확하게 안내해드릴 수 있어요. 필요하신 지역을 알려주시면 바로 알려드릴게요!' additional_kwargs={'refusal': None} response_metadata={'token_usage': {'completion_tokens': 445, 'prompt_tokens': 4129, 'total_tokens': 4574, 'completion_tokens_details': {'accepted_prediction_tokens': 0, 'audio_tokens': 0, 'reasoning_tokens': 0, 'rejected_prediction_tokens': 0}, 'prompt_tokens_details': {'audio_tokens': 0, 'cached_tokens': 0}}, 'model_name': 'gpt-4.1-2025-04-14', 'system_fingerprint': 'fp_51e1070cf2', 'id': 'chatcmpl-BlDEEWPpAbYUcTXwI9apJrcFHH1NC', 'service_tier': 'default', 'finish_reason': 'stop', 'logprobs': None} id='run--c4b3c6d8-06f4-4cc0-aec7-b542b62cd9c9-0' usage_metadata={'input_tokens': 4129, 'output_tokens': 445, 'total_tokens': 4574, 'input_token_details': {'audio': 0, 'cache_read': 0}, 'output_token_details': {'audio': 0, 'reasoning': 0}}\n"
     ]
    }
   ],
   "source": [
    "query = \"화이트 와인이 어울리는 메뉴를 추천해줘.\"\n",
    "query = \"파스타 요리를 추천해줘. 그리고 파스타는 어떤 음식인지 설명해줘. 오늘 날씨 알려줘.\"\n",
    "\n",
    "response = agent_chain.invoke(query)\n",
    "print(response)"
   ]
  },
  {
   "cell_type": "code",
   "execution_count": 91,
   "metadata": {},
   "outputs": [],
   "source": [
    "def test1():\n",
    "    print(\"test1\")\n",
    "\n",
    "def test2():\n",
    "    print(\"test2\")\n",
    "\n",
    "def test3():\n",
    "    print(\"test3\")"
   ]
  },
  {
   "cell_type": "code",
   "execution_count": 92,
   "metadata": {},
   "outputs": [],
   "source": [
    "v = globals() # 전역 변수들을 딕셔너리로 반환. {\"변수명\": 값} \n",
    "# locals(): 지역변수들을 딕셔너리로 반환\n",
    "# vars(객체) - 객체의 attribute들을 딕셔너리로 반환."
   ]
  },
  {
   "cell_type": "code",
   "execution_count": 93,
   "metadata": {},
   "outputs": [
    {
     "name": "stdout",
     "output_type": "stream",
     "text": [
      "test1\n",
      "test1\n"
     ]
    }
   ],
   "source": [
    "# v\n",
    "v['test1'] # 함수 반환\n",
    "v['test1']() # 함수 호출\n",
    "func_name=\"test1\"\n",
    "# if func_name == \"test\": test1()\n",
    "# elif func_name == \"test2\": test2()\n",
    "# 이렇게 하는 게 아니라\n",
    "globals()[func_name]() # 호출 방법이 동일하다면 이렇게 할 수 있다!"
   ]
  },
  {
   "cell_type": "code",
   "execution_count": 94,
   "metadata": {},
   "outputs": [
    {
     "data": {
      "text/plain": [
       "StructuredTool(name='search_wikipedia', description='위키 백과사전에서 정보를 검색할 때 사용하는 tool.\\n사용자의 질문과 관련된 위키백과사전의 문서를 지정한 개수만큼 검색해서 반환합니다.\\n일반적인 지식이나 배경 정보가 필요한 경우 유용하게 사용할 수있는 tool입니다.', args_schema=<class 'tools.SearchWikiArgsSchema'>, func=<function convert_runnable_to_tool.<locals>.invoke_wrapper at 0x000001C4EFAFC040>, coroutine=<function convert_runnable_to_tool.<locals>.ainvoke_wrapper at 0x000001C4FF9ED260>)"
      ]
     },
     "execution_count": 94,
     "metadata": {},
     "output_type": "execute_result"
    }
   ],
   "source": [
    "globals()[\"search_wikipedia\"]"
   ]
  },
  {
   "cell_type": "code",
   "execution_count": null,
   "metadata": {},
   "outputs": [],
   "source": []
  },
  {
   "cell_type": "code",
   "execution_count": null,
   "metadata": {},
   "outputs": [],
   "source": []
  },
  {
   "cell_type": "code",
   "execution_count": null,
   "metadata": {},
   "outputs": [],
   "source": []
  },
  {
   "cell_type": "markdown",
   "metadata": {},
   "source": [
    "레스토랑 메뉴 정보 조회 tool 구현"
   ]
  },
  {
   "cell_type": "code",
   "execution_count": null,
   "metadata": {},
   "outputs": [],
   "source": []
  },
  {
   "cell_type": "markdown",
   "metadata": {},
   "source": [
    "# Agent 구현\n",
    "\n",
    "- `create_tool_calling_agent()` 를 이용해 Agent 생성\n",
    "    - 파라미터\n",
    "        - llm: 에이전트로 사용할 LLM.\n",
    "        - tools: 에이전트가 접근할 수 있는 도구들의 목록.\n",
    "        - prompt_template: 에이전트의 동작을 안내하는 프롬프트 템플릿.\n",
    "            - 이름이 `agent_scratchpad` 인 MessagesPlaceholder 추가\n",
    "                - Agent 가 tool을 호출해서 받은 정보를 prompt에 추가하는 placeholder.\n",
    "- AgentExecutor를 이용해 Agent 실행\n",
    "    - Agent의 동작을 관리하는 클래스.\n",
    "    - AgentExecutor는 사용자 요청을 처리할 때 까지 적절한 tool들을 호출하고 최종 결과를 생성해 반환하는 작업을 처리한다.\n",
    "    - 파라미터\n",
    "        - agent: 실행할 Agent.\n",
    "        - tools: Agent가 사용할 tool들 목록."
   ]
  },
  {
   "cell_type": "code",
   "execution_count": 95,
   "metadata": {},
   "outputs": [],
   "source": [
    "from textwrap import dedent\n",
    "from langchain_core.runnables import chain\n",
    "\n",
    "#####################################################################################\n",
    "# search_web, search_wikipedia, search_menu 툴을 사용하는 식당 메뉴/음식 추천 정보 제공 agent\n",
    "#####################################################################################\n",
    "from langchain_openai import ChatOpenAI\n",
    "from langchain.prompts import ChatPromptTemplate, MessagesPlaceholder\n",
    "\n",
    "from dotenv import load_dotenv\n",
    "load_dotenv()\n",
    "\n",
    "from tools import search_web, search_wikipedia, search_menu\n",
    "\n",
    "model = ChatOpenAI(model=\"gpt-4.1\")\n",
    "\n",
    "agent_prompt = ChatPromptTemplate.from_messages(\n",
    "    [\n",
    "        (\"system\", dedent(\"\"\"\n",
    "            당신은 레스토랑 메뉴 정보와 일반적인 음식 관련 지식을 제공하는 AI 어시스턴트입니다. \n",
    "            주요 목표는 사용자의 요청에 대한 정확한 정보를 제공하고 메뉴를 추천하는 것입니다.\n",
    "            \n",
    "            주요 지침들(guidelines):\n",
    "            1. 레스토랑의 메뉴관련 정보를 확인하려면 search_menu 도구를 사용하십시오. 이 도구는 레스토랑의 메뉴들의 가격, 음식의 특징들에 대한 정보를 제공합니다.\n",
    "            2. 일반적인 음식 정보, 그 음식의 유래, 문화적 배경에 대한 정보는 search_wiki 도구를 사용하십시오. 이 도구는 wikipedia 에서 정보를 검색해서 제공합니다.\n",
    "            3. 추가적인 웹 검색이 필요하거나 최신 정보를 얻고 싶을 때는 search_web 도구를 사용하십시오. 이 도구는 인터넷 검색을 통해 정보를 검색해서 제공합니다.\n",
    "            4. 검색 결과를 기반으로 명확하고 간결한 답변을 제공하십시오.\n",
    "            5. 요청 받은 질문이 모호하거나 필요한 정보가 부족한 경우 정중하게 설명을 요청하세요.\n",
    "            6. 메뉴 정보를 제공할 때는 가격, 주재료, 특징 순으로 설명하세요\n",
    "            7. 메뉴를 추천 할 때는 간단하게 추천 이유를 설명해주세요.\n",
    "            8. 최종 응답은 챗봇과 같은 대화형 스타일을 유지하세요. 친근하고 매력적이며 자연스럽게 소통하되 전문성을 보이는 어조를 유지하세요.\n",
    "\n",
    "            각 도구의 목적과 기능을 정확하게 이해하고 각 적절한 상황에서 사용하세요.\n",
    "            각 도구들을 결합해서 사용자의 요청에 정확한 대답을 하세요.\n",
    "            항상 가장 최신의 정확한 정보를 제공하기 위해 노력하세요.\n",
    "            \"\"\")),\n",
    "        # MessagesPlaceholder(variable_name=\"chat_history\", optional=True),  # 메모리 기능 사용시.\n",
    "        (\"human\", \"{query}\"),\n",
    "        MessagesPlaceholder(variable_name=\"agent_scratchpad\", optional=True) # AIMessage(tool calling 정보, ToolMessage)\n",
    "    ]\n",
    ")"
   ]
  },
  {
   "cell_type": "code",
   "execution_count": 96,
   "metadata": {},
   "outputs": [],
   "source": [
    "# Agent 생성\n",
    "from langchain.agents import create_tool_calling_agent, AgentExecutor\n",
    "# create_tool_calling_agent: Agent 체인을 구성\n",
    "# AgentExecutor: Agent 체인을 실행.\n",
    "\n",
    "tools = [search_web, search_wikipedia, search_menu]\n",
    "\n",
    "# tool_model\n",
    "agent = create_tool_calling_agent(\n",
    "    llm=model, # llm 모델\n",
    "    tools=tools, # 모델에 전달할 tool들 list[Tool]\n",
    "    prompt=agent_prompt, # LLM에 요청할 때 사용할 prompt\n",
    ")\n",
    "\n",
    "# agent_chain\n",
    "agent_executor = AgentExecutor(\n",
    "    agent=agent, # tool_model Chain \n",
    "    tools=tools  # 호출할 tools\n",
    ")"
   ]
  },
  {
   "cell_type": "code",
   "execution_count": 97,
   "metadata": {},
   "outputs": [
    {
     "data": {
      "text/plain": [
       "{'query': '화이트 와인과 어울리는 요리를 추천해줘. 그 요리에 대한 설명도 부탁해.',\n",
       " 'output': '화이트 와인과 잘 어울리는 요리로는 해산물 링귀니와 프렌치 어니언 수프를 추천드려요!\\n\\n1. 해산물 링귀니 (24,000원)\\n- 신선한 링귀니 면에 홍합, 새우, 오징어 등 다양한 해산물을 듬뿍 넣고 화이트 와인을 곁들여 만든 이탈리아식 파스타입니다. 바다의 풍미와 상쾌하면서도 깊은 소스 맛이 화이트 와인과 잘 어울려요.\\n\\n2. 프렌치 어니언 수프 (12,000원)\\n- 달콤하게 캐러멜라이즈된 양파, 진한 비프 스톡, 그리고 화이트 와인이 어우러진 프랑스 전통 수프로, 바삭한 바게트와 그뤼에르 치즈가 올라가 깊은 풍미를 느낄 수 있습니다. 은은하게 남는 화이트 와인의 향과 부드러운 수프 맛이 환상적으로 조화를 이룹니다.\\n\\n두 메뉴 모두 화이트 와인의 상쾌함을 한층 살려줄 수 있어요! 어떤 요리가 더 궁금하시거나, 추천을 더 원하시면 말씀해 주세요.'}"
      ]
     },
     "execution_count": 97,
     "metadata": {},
     "output_type": "execute_result"
    }
   ],
   "source": [
    "response = agent_executor.invoke({\"query\":\"화이트 와인과 어울리는 요리를 추천해줘. 그 요리에 대한 설명도 부탁해.\"})\n",
    "response"
   ]
  },
  {
   "cell_type": "code",
   "execution_count": null,
   "metadata": {},
   "outputs": [],
   "source": []
  }
 ],
 "metadata": {
  "kernelspec": {
   "display_name": "lang_env",
   "language": "python",
   "name": "python3"
  },
  "language_info": {
   "codemirror_mode": {
    "name": "ipython",
    "version": 3
   },
   "file_extension": ".py",
   "mimetype": "text/x-python",
   "name": "python",
   "nbconvert_exporter": "python",
   "pygments_lexer": "ipython3",
   "version": "3.12.11"
  }
 },
 "nbformat": 4,
 "nbformat_minor": 4
}
