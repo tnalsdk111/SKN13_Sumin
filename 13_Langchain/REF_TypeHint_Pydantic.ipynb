{
 "cells": [
  {
   "cell_type": "markdown",
   "id": "b1aab84e-4343-4a20-8cc7-94b0ba25aefc",
   "metadata": {},
   "source": [
    "# typing 모듈\n",
    "\n",
    "- 파이썬은 동적 타입 언어로 변수의 타입을 선언하지 않아도 된다. 그러나 이런 특징은 규모가 큰 프로그램을 구현할 때 많은 문제를 야기시킨다.\n",
    "- 그래서 파이썬은 타입 힌트를 제공하며 이를 이용해 코드의 가독성과 유지보수성을 높일 수 있다.\n",
    "- **typing 모듈**은 타입 힌트를 언어 차원에서 지원하기 위해 파이썬 3.5 버전부터 추가된 표준 모듈이다. \n",
    "    - 타입 힌트를 설정 하기 위한 다양한 타입 클래스와 표현 방법을 제공한다.\n",
    "\n",
    "## type hint 표현 방법\n",
    "\n",
    "- 변수 선언: `variable이름: type [= value]`\n",
    "- 함수 선언: `def function(parameter: type) -> return_type:`\n",
    "\n",
    "## 주요 타입 클래스\n",
    "\n",
    "**컬렉션 타입**\n",
    "- `List[T]`: 리스트 타입을 표현하며 T는 요소의 타입이다.\n",
    "- `Dict[K, V]`: 키 타입 K와 값 타입 V를 가지는 딕셔너리이다.\n",
    "- `Tuple[T1, T2]`: 각 위치별 타입을 지정할 수 있는 튜플이다.\n",
    "- `Set[T]`: 요소 타입이 T인 집합이다.\n",
    "\n",
    "**특수 타입**\n",
    "- `Optional[T]`: T 타입이거나 None일 수 있음을 나타낸다.\n",
    "- `Union[T1, T2]`: T1 또는 T2 타입이 될 수 있음을 나타낸다.\n",
    "- `Final[T]`: 재할당이 불가능한 상수 타입을 나타낸다.\n",
    "- `Callable[[ArgType], ReturnType]`: 함수의 타입을 지정할 때 사용한다.\n",
    "- `Iterable[T]`: T 타입의 요소를 반복할 수 있는 Iterable 객체를 나타낸다.\n",
    "\n",
    "## Python 3.9+ 변경 사항\n",
    "\n",
    "- Python 3.9 버전부터는 컬렉션 타입을 python 내장 타입을 직접 사용할 수 있게 되었다:\n",
    "```python\n",
    "numbers: list[int] = [1, 2, 3]\n",
    "settings: dict[str, str] = {\"name\": \"value\"}\n",
    "```\n",
    "\n",
    "## Python 3.10+ 변경 사항\n",
    "- `|` 연산자를 사용하여 Union 타입을 표현할 수 있다:\n",
    "```python\n",
    "# Python 3.10+ 이전\n",
    "num: Union[int, float] = 1\n",
    "# Python 3.10+ 이후\n",
    "num: int | float = 1\n",
    "```\n",
    "- TypeAlias를 사용해 복잡한 타입을 단순화 할 수있다.\n",
    "```python\n",
    "from typing import TypeAlias\n",
    "vector: TypeAlias = list[float]\n",
    "\n",
    "num_list: vector\n",
    "```\n",
    "\n",
    "## 장점\n",
    "\n",
    "- 코드의 가독성이 향상된다.\n",
    "- IDE의 자동 완성 기능이 개선된다.\n",
    "- 정적 타입 검사를 통해 잠재적 오류를 사전에 발견할 수 있다.\n"
   ]
  },
  {
   "cell_type": "code",
   "execution_count": null,
   "id": "b35acc26-ce5a-4da5-9c50-64c0afdf0645",
   "metadata": {},
   "outputs": [],
   "source": []
  },
  {
   "cell_type": "markdown",
   "id": "e1030896-0e65-4faa-8b11-80b2487916be",
   "metadata": {},
   "source": [
    "# Pydantic\n",
    "- Pydantic은 Python 애플리케이션에서 데이터 유효성 검사를 쉽게 할 수 있도록 돕는 라이브러리이다. Langchain이나 FastAPI 등 다양한 Framework에서 데이터 유효성검사나 스키마 정의를 위해 사용된다.\n",
    "- 설치\n",
    "  - `pip install pydantic`\n",
    "- [공식문서](https://docs.pydantic.dev/latest/)\n",
    "## 주요기능\n",
    "- 타입 유효성 검사: 모델에 정의된 데이터 타입에 따라 자동으로 유효성을 검사한다.\n",
    "- 자동 형 변환: 전달된 데이터가 정의된 타입과 일치하지 않을 경우 가능한 범위 내에서 자동으로 형 변환을 시도한다.\n",
    "- 필드의 기본값 지원: 필드에 기본값을 설정하여 사용자가 데이터를 제공하지 않더라도 유효한 모델을 만들 수 있다.\n",
    "- 복잡한 데이터 구조 지원: 리스트, 딕셔너리, 중첩된 모델과 같은 복잡한 데이터 구조를 지원한다.\n",
    "- 데이터 직렬화 및 역직렬화: 모델 인스턴스를 JSON으로 직렬화하거나 JSON으로부터 역직렬화할 수 있다.\n",
    "\n",
    "## 구현\n",
    "\n",
    "- `BaseModel` 클래스를 상속받아 모델을 정의한다.\n",
    "- 필드에 각 변수가 저장할 값의 타입을 지정한다.\n",
    "- `Field`를 이용해 필요한 경우 필드에 유효성 검사를 위한 제약 조건을 추가한다."
   ]
  },
  {
   "cell_type": "code",
   "execution_count": null,
   "id": "16edefd9-1d93-47c0-b5e6-b0d0b3ec62af",
   "metadata": {},
   "outputs": [
    {
     "ename": "Exception",
     "evalue": "나이 타입이 아닙니다.",
     "output_type": "error",
     "traceback": [
      "\u001b[31m---------------------------------------------------------------------------\u001b[39m",
      "\u001b[31mException\u001b[39m                                 Traceback (most recent call last)",
      "\u001b[36mCell\u001b[39m\u001b[36m \u001b[39m\u001b[32mIn[3]\u001b[39m\u001b[32m, line 15\u001b[39m\n\u001b[32m     12\u001b[39m         \u001b[38;5;28mself\u001b[39m.address = address\n\u001b[32m     14\u001b[39m \u001b[38;5;66;03m# p  = Person(\"홍길동\", 20, \"서울\")\u001b[39;00m\n\u001b[32m---> \u001b[39m\u001b[32m15\u001b[39m p  = \u001b[43mPerson\u001b[49m\u001b[43m(\u001b[49m\u001b[33;43m\"\u001b[39;49m\u001b[33;43m홍길동\u001b[39;49m\u001b[33;43m\"\u001b[39;49m\u001b[43m,\u001b[49m\u001b[43m \u001b[49m\u001b[33;43m\"\u001b[39;49m\u001b[33;43m서른살\u001b[39;49m\u001b[33;43m\"\u001b[39;49m\u001b[43m,\u001b[49m\u001b[43m \u001b[49m\u001b[33;43m\"\u001b[39;49m\u001b[33;43m서울\u001b[39;49m\u001b[33;43m\"\u001b[39;49m\u001b[43m)\u001b[49m\n\u001b[32m     16\u001b[39m \u001b[38;5;28mprint\u001b[39m(p.name, p.age, p.address)\n",
      "\u001b[36mCell\u001b[39m\u001b[36m \u001b[39m\u001b[32mIn[3]\u001b[39m\u001b[32m, line 11\u001b[39m, in \u001b[36mPerson.__init__\u001b[39m\u001b[34m(self, name, age, address)\u001b[39m\n\u001b[32m      9\u001b[39m     \u001b[38;5;28mself\u001b[39m.age = age\n\u001b[32m     10\u001b[39m \u001b[38;5;28;01melse\u001b[39;00m:\n\u001b[32m---> \u001b[39m\u001b[32m11\u001b[39m     \u001b[38;5;28;01mraise\u001b[39;00m \u001b[38;5;167;01mException\u001b[39;00m(\u001b[33m\"\u001b[39m\u001b[33m나이 타입이 아닙니다.\u001b[39m\u001b[33m\"\u001b[39m)\n\u001b[32m     12\u001b[39m \u001b[38;5;28mself\u001b[39m.address = address\n",
      "\u001b[31mException\u001b[39m: 나이 타입이 아닙니다."
     ]
    }
   ],
   "source": [
    "# 일반적인 방식으로 DataClass를 정의\n",
    "class Person:\n",
    "\n",
    "    def __init__(self, name, age, address): #속성들\n",
    "        self.name = name\n",
    "        if isinstance(age, int):\n",
    "            self.age = age\n",
    "        else:\n",
    "            raise Exception(\"나이 타입이 아닙니다.\")\n",
    "        self.address = address\n",
    "\n",
    "# p  = Person(\"홍길동\", 20, \"서울\")\n",
    "p  = Person(\"홍길동\", \"서른살\", \"서울\")\n",
    "print(p.name, p.age, p.address)"
   ]
  },
  {
   "cell_type": "code",
   "execution_count": null,
   "id": "1aeb4774-72ee-4df8-966d-d13afe1a3908",
   "metadata": {},
   "outputs": [],
   "source": [
    "from pydantic import BaseModel\n",
    "# Pydantic으로 Data Class 구현\n",
    "class Member(BaseModel):\n",
    "    # class 변수로 attribute들을 설정: Field\n",
    "    name: str\n",
    "    age: int | float    # Union -> int 또는 float 타입을 할당.\n",
    "    nickname: str | None = None #  Optional. str 타입을 할당하는데 None을 가질 수도 있다.\n",
    "    hobby: list[str]"
   ]
  },
  {
   "cell_type": "code",
   "execution_count": 6,
   "id": "dc2a0f94",
   "metadata": {},
   "outputs": [
    {
     "name": "stdout",
     "output_type": "stream",
     "text": [
      "name='이순신' age=30 nickname='장군' hobby=['게임', '영화']\n"
     ]
    },
    {
     "data": {
      "text/plain": [
       "('이순신', 30)"
      ]
     },
     "execution_count": 6,
     "metadata": {},
     "output_type": "execute_result"
    }
   ],
   "source": [
    "m = Member(name=\"이순신\", age=30, nickname=\"장군\", hobby=[\"게임\", \"영화\"])\n",
    "print(m)\n",
    "m.name, m.age"
   ]
  },
  {
   "cell_type": "code",
   "execution_count": 9,
   "id": "01847e44",
   "metadata": {},
   "outputs": [
    {
     "data": {
      "text/plain": [
       "30.5"
      ]
     },
     "execution_count": 9,
     "metadata": {},
     "output_type": "execute_result"
    }
   ],
   "source": [
    "m.age = 30.5\n",
    "m.age"
   ]
  },
  {
   "cell_type": "code",
   "execution_count": 13,
   "id": "22c438ae",
   "metadata": {},
   "outputs": [],
   "source": [
    "# m.age = \"서른 다섯살\""
   ]
  },
  {
   "cell_type": "code",
   "execution_count": 14,
   "id": "73911a47",
   "metadata": {},
   "outputs": [
    {
     "ename": "ValidationError",
     "evalue": "2 validation errors for Member\nage.int\n  Input should be a valid integer, unable to parse string as an integer [type=int_parsing, input_value='서른살', input_type=str]\n    For further information visit https://errors.pydantic.dev/2.11/v/int_parsing\nage.float\n  Input should be a valid number, unable to parse string as a number [type=float_parsing, input_value='서른살', input_type=str]\n    For further information visit https://errors.pydantic.dev/2.11/v/float_parsing",
     "output_type": "error",
     "traceback": [
      "\u001b[31m---------------------------------------------------------------------------\u001b[39m",
      "\u001b[31mValidationError\u001b[39m                           Traceback (most recent call last)",
      "\u001b[36mCell\u001b[39m\u001b[36m \u001b[39m\u001b[32mIn[14]\u001b[39m\u001b[32m, line 1\u001b[39m\n\u001b[32m----> \u001b[39m\u001b[32m1\u001b[39m m2 = \u001b[43mMember\u001b[49m\u001b[43m(\u001b[49m\u001b[43mname\u001b[49m\u001b[43m=\u001b[49m\u001b[33;43m\"\u001b[39;49m\u001b[33;43m이순신\u001b[39;49m\u001b[33;43m\"\u001b[39;49m\u001b[43m,\u001b[49m\u001b[43m \u001b[49m\u001b[43mage\u001b[49m\u001b[43m=\u001b[49m\u001b[33;43m\"\u001b[39;49m\u001b[33;43m서른살\u001b[39;49m\u001b[33;43m\"\u001b[39;49m\u001b[43m,\u001b[49m\u001b[43m \u001b[49m\u001b[43mnickname\u001b[49m\u001b[43m=\u001b[49m\u001b[33;43m\"\u001b[39;49m\u001b[33;43m장군\u001b[39;49m\u001b[33;43m\"\u001b[39;49m\u001b[43m,\u001b[49m\u001b[43m \u001b[49m\u001b[43mhobby\u001b[49m\u001b[43m=\u001b[49m\u001b[43m[\u001b[49m\u001b[33;43m\"\u001b[39;49m\u001b[33;43m게임\u001b[39;49m\u001b[33;43m\"\u001b[39;49m\u001b[43m,\u001b[49m\u001b[43m \u001b[49m\u001b[33;43m\"\u001b[39;49m\u001b[33;43m영화\u001b[39;49m\u001b[33;43m\"\u001b[39;49m\u001b[43m]\u001b[49m\u001b[43m)\u001b[49m\n",
      "\u001b[36mFile \u001b[39m\u001b[32mc:\\Users\\Playdata\\miniconda3\\envs\\lang_env\\Lib\\site-packages\\pydantic\\main.py:253\u001b[39m, in \u001b[36mBaseModel.__init__\u001b[39m\u001b[34m(self, **data)\u001b[39m\n\u001b[32m    251\u001b[39m \u001b[38;5;66;03m# `__tracebackhide__` tells pytest and some other tools to omit this function from tracebacks\u001b[39;00m\n\u001b[32m    252\u001b[39m __tracebackhide__ = \u001b[38;5;28;01mTrue\u001b[39;00m\n\u001b[32m--> \u001b[39m\u001b[32m253\u001b[39m validated_self = \u001b[38;5;28;43mself\u001b[39;49m\u001b[43m.\u001b[49m\u001b[43m__pydantic_validator__\u001b[49m\u001b[43m.\u001b[49m\u001b[43mvalidate_python\u001b[49m\u001b[43m(\u001b[49m\u001b[43mdata\u001b[49m\u001b[43m,\u001b[49m\u001b[43m \u001b[49m\u001b[43mself_instance\u001b[49m\u001b[43m=\u001b[49m\u001b[38;5;28;43mself\u001b[39;49m\u001b[43m)\u001b[49m\n\u001b[32m    254\u001b[39m \u001b[38;5;28;01mif\u001b[39;00m \u001b[38;5;28mself\u001b[39m \u001b[38;5;129;01mis\u001b[39;00m \u001b[38;5;129;01mnot\u001b[39;00m validated_self:\n\u001b[32m    255\u001b[39m     warnings.warn(\n\u001b[32m    256\u001b[39m         \u001b[33m'\u001b[39m\u001b[33mA custom validator is returning a value other than `self`.\u001b[39m\u001b[38;5;130;01m\\n\u001b[39;00m\u001b[33m'\u001b[39m\n\u001b[32m    257\u001b[39m         \u001b[33m\"\u001b[39m\u001b[33mReturning anything other than `self` from a top level model validator isn\u001b[39m\u001b[33m'\u001b[39m\u001b[33mt supported when validating via `__init__`.\u001b[39m\u001b[38;5;130;01m\\n\u001b[39;00m\u001b[33m\"\u001b[39m\n\u001b[32m    258\u001b[39m         \u001b[33m'\u001b[39m\u001b[33mSee the `model_validator` docs (https://docs.pydantic.dev/latest/concepts/validators/#model-validators) for more details.\u001b[39m\u001b[33m'\u001b[39m,\n\u001b[32m    259\u001b[39m         stacklevel=\u001b[32m2\u001b[39m,\n\u001b[32m    260\u001b[39m     )\n",
      "\u001b[31mValidationError\u001b[39m: 2 validation errors for Member\nage.int\n  Input should be a valid integer, unable to parse string as an integer [type=int_parsing, input_value='서른살', input_type=str]\n    For further information visit https://errors.pydantic.dev/2.11/v/int_parsing\nage.float\n  Input should be a valid number, unable to parse string as a number [type=float_parsing, input_value='서른살', input_type=str]\n    For further information visit https://errors.pydantic.dev/2.11/v/float_parsing"
     ]
    }
   ],
   "source": [
    "m2 = Member(name=\"이순신\", age=\"서른살\", nickname=\"장군\", hobby=[\"게임\", \"영화\"])"
   ]
  },
  {
   "cell_type": "code",
   "execution_count": null,
   "id": "c48c55b3-46c7-4b4e-9ada-647d5bfd2f27",
   "metadata": {},
   "outputs": [],
   "source": []
  },
  {
   "cell_type": "markdown",
   "id": "4ffc3485-774d-4c69-b5b2-bf6628fa6df2",
   "metadata": {},
   "source": [
    "## `Field` 함수를 이용해 추가 정보 및 제약 조건 추가.\n",
    "- Pydantic의 `Field` 함수는 모델에 설명(Meta data)를 설정하고 유효성 검사 통과 조건을 설정하는 데 사용된다.\n",
    "- **주요 파라미터**\n",
    "  - 첫번째 인수로 `...`(Ellipsis) 가 들어가면 **필수 항목** 이다. \n",
    "  - **default**: 필드의 기본값을 지정. 기본값이 없을 경우 필드는 필수 항목으로 간주된다.\n",
    "  - **default_factory**: default값을 생성하는 함수를 정의한다.  `default`와 동시에 사용할 수 없다.\n",
    "  - **title**: 필드의 title을 지정한다. API 문서화나 데이터 스키마 생성 시 사용자가 필드의 의미를 쉽게 이해할 수 있도록 돕는 역할을 한다.\n",
    "  - **description**: 필드에 대한 설명. 주로 API 문서화나 데이터 스키마 생성 시 사용자가 필드의 의미를 쉽게 이해할 수 있도록 돕는 역할을 한다.\n",
    "  - **gt**: 조건 설정. 필드 값이 지정된 값보다 커야 한다. (greater than)\n",
    "  - **ge**: 조건 설정. 필드 값이 지정된 값보다 크거나 같아야 한다. (greater than or equal)\n",
    "  - **lt**: 조건 설정. 필드 값이 지정된 값보다 작아야 한다. (less than)\n",
    "  - **le**: 조건 설정. 필드 값이 지정된 값보다 작거나 같아야 한다. (less than or equal)\n",
    "  - **multiple_of**: 조건지정 필드 값이 지정된 값의 배수여야 한다.\n",
    "  - **min_length**: 문자열 필드의 최소 길이를 지정.\n",
    "  - **max_length**: 문자열 필드의 최대 길이를 지정.\n",
    "  - **pattern**: 문자열 필드가 일치해야 하는 정규 표현식을 지정."
   ]
  },
  {
   "cell_type": "code",
   "execution_count": 15,
   "id": "2a85357c-06a1-48d6-b28d-26aa816dd9ba",
   "metadata": {},
   "outputs": [],
   "source": [
    "from pydantic import Field, BaseModel\n",
    "\n",
    "class Member(BaseModel):\n",
    "    # class 변수로 attribute들을 설정: Field\n",
    "    name: str = Field(title=\"회원이름\", description=\"회원의 이름을 저장\")\n",
    "    age: int | float = Field(title=\"회원나이\", description=\"회원의 나이를 저장.\", gt=0)\n",
    "    nickname: str | None = Field(default=None, title=\"별명\", description=\"회원의 별명\")\n",
    "    hobby: list[str] = Field(title=\"취미\", description=\"회원의 취미\", max_length=2, min_length=1)\n",
    "    # max_length: 문자열-최대 글자수, 자료구조: 최대 원소개수 \n",
    "    # default 가 없는 Field는 None을 가질 수없다. (필수 속성.)"
   ]
  },
  {
   "cell_type": "code",
   "execution_count": 16,
   "id": "4553bf62-fa30-44aa-963a-8e615db99b83",
   "metadata": {},
   "outputs": [
    {
     "data": {
      "text/plain": [
       "Member(name='홍길동', age=20, nickname='의적', hobby=['독서', '게임'])"
      ]
     },
     "execution_count": 16,
     "metadata": {},
     "output_type": "execute_result"
    }
   ],
   "source": [
    "m = Member(name=\"홍길동\", age=20, nickname=\"의적\", hobby=['독서', '게임'])\n",
    "m"
   ]
  },
  {
   "cell_type": "code",
   "execution_count": null,
   "id": "a5e9ffc2-e895-4202-b238-46609424be65",
   "metadata": {},
   "outputs": [
    {
     "ename": "ValidationError",
     "evalue": "1 validation error for Member\nhobby\n  List should have at least 1 item after validation, not 0 [type=too_short, input_value=[], input_type=list]\n    For further information visit https://errors.pydantic.dev/2.11/v/too_short",
     "output_type": "error",
     "traceback": [
      "\u001b[31m---------------------------------------------------------------------------\u001b[39m",
      "\u001b[31mValidationError\u001b[39m                           Traceback (most recent call last)",
      "\u001b[36mCell\u001b[39m\u001b[36m \u001b[39m\u001b[32mIn[20]\u001b[39m\u001b[32m, line 3\u001b[39m\n\u001b[32m      1\u001b[39m \u001b[38;5;66;03m# m = Member( age=20, nickname=\"의적\", hobby=['독서', '게임'])\u001b[39;00m\n\u001b[32m      2\u001b[39m \u001b[38;5;66;03m# m = Member(name=\"홍길동\", age=-20, nickname=\"의적\", hobby=['독서', '게임'])\u001b[39;00m\n\u001b[32m----> \u001b[39m\u001b[32m3\u001b[39m m = \u001b[43mMember\u001b[49m\u001b[43m(\u001b[49m\u001b[43mname\u001b[49m\u001b[43m=\u001b[49m\u001b[33;43m\"\u001b[39;49m\u001b[33;43m홍길동\u001b[39;49m\u001b[33;43m\"\u001b[39;49m\u001b[43m,\u001b[49m\u001b[43m \u001b[49m\u001b[43mage\u001b[49m\u001b[43m=\u001b[49m\u001b[32;43m20\u001b[39;49m\u001b[43m,\u001b[49m\u001b[43m \u001b[49m\u001b[43mnickname\u001b[49m\u001b[43m=\u001b[49m\u001b[33;43m\"\u001b[39;49m\u001b[33;43m의적\u001b[39;49m\u001b[33;43m\"\u001b[39;49m\u001b[43m,\u001b[49m\u001b[43m \u001b[49m\u001b[43mhobby\u001b[49m\u001b[43m=\u001b[49m\u001b[43m[\u001b[49m\u001b[43m]\u001b[49m\u001b[43m)\u001b[49m\n",
      "\u001b[36mFile \u001b[39m\u001b[32mc:\\Users\\Playdata\\miniconda3\\envs\\lang_env\\Lib\\site-packages\\pydantic\\main.py:253\u001b[39m, in \u001b[36mBaseModel.__init__\u001b[39m\u001b[34m(self, **data)\u001b[39m\n\u001b[32m    251\u001b[39m \u001b[38;5;66;03m# `__tracebackhide__` tells pytest and some other tools to omit this function from tracebacks\u001b[39;00m\n\u001b[32m    252\u001b[39m __tracebackhide__ = \u001b[38;5;28;01mTrue\u001b[39;00m\n\u001b[32m--> \u001b[39m\u001b[32m253\u001b[39m validated_self = \u001b[38;5;28;43mself\u001b[39;49m\u001b[43m.\u001b[49m\u001b[43m__pydantic_validator__\u001b[49m\u001b[43m.\u001b[49m\u001b[43mvalidate_python\u001b[49m\u001b[43m(\u001b[49m\u001b[43mdata\u001b[49m\u001b[43m,\u001b[49m\u001b[43m \u001b[49m\u001b[43mself_instance\u001b[49m\u001b[43m=\u001b[49m\u001b[38;5;28;43mself\u001b[39;49m\u001b[43m)\u001b[49m\n\u001b[32m    254\u001b[39m \u001b[38;5;28;01mif\u001b[39;00m \u001b[38;5;28mself\u001b[39m \u001b[38;5;129;01mis\u001b[39;00m \u001b[38;5;129;01mnot\u001b[39;00m validated_self:\n\u001b[32m    255\u001b[39m     warnings.warn(\n\u001b[32m    256\u001b[39m         \u001b[33m'\u001b[39m\u001b[33mA custom validator is returning a value other than `self`.\u001b[39m\u001b[38;5;130;01m\\n\u001b[39;00m\u001b[33m'\u001b[39m\n\u001b[32m    257\u001b[39m         \u001b[33m\"\u001b[39m\u001b[33mReturning anything other than `self` from a top level model validator isn\u001b[39m\u001b[33m'\u001b[39m\u001b[33mt supported when validating via `__init__`.\u001b[39m\u001b[38;5;130;01m\\n\u001b[39;00m\u001b[33m\"\u001b[39m\n\u001b[32m    258\u001b[39m         \u001b[33m'\u001b[39m\u001b[33mSee the `model_validator` docs (https://docs.pydantic.dev/latest/concepts/validators/#model-validators) for more details.\u001b[39m\u001b[33m'\u001b[39m,\n\u001b[32m    259\u001b[39m         stacklevel=\u001b[32m2\u001b[39m,\n\u001b[32m    260\u001b[39m     )\n",
      "\u001b[31mValidationError\u001b[39m: 1 validation error for Member\nhobby\n  List should have at least 1 item after validation, not 0 [type=too_short, input_value=[], input_type=list]\n    For further information visit https://errors.pydantic.dev/2.11/v/too_short"
     ]
    }
   ],
   "source": [
    "# m = Member( age=20, nickname=\"의적\", hobby=['독서', '게임'])\n",
    "# m = Member(name=\"홍길동\", age=-20, nickname=\"의적\", hobby=['독서', '게임'])\n",
    "m = Member(name=\"홍길동\", age=20, nickname=\"의적\", hobby=['독서', '게임', \"영화\"])"
   ]
  }
 ],
 "metadata": {
  "kernelspec": {
   "display_name": "lang_env",
   "language": "python",
   "name": "python3"
  },
  "language_info": {
   "codemirror_mode": {
    "name": "ipython",
    "version": 3
   },
   "file_extension": ".py",
   "mimetype": "text/x-python",
   "name": "python",
   "nbconvert_exporter": "python",
   "pygments_lexer": "ipython3",
   "version": "3.12.11"
  }
 },
 "nbformat": 4,
 "nbformat_minor": 5
}
