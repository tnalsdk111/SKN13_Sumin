{
 "cells": [
  {
   "cell_type": "markdown",
   "id": "1663fa59",
   "metadata": {},
   "source": [
    "# 1. 랭그래프(Langgraph)란 어떤 프레임워크인가\n",
    "\n",
    "## **랭그래프란?**\n",
    "\n",
    "랭그래프는 LangChain 생태계에서 개발된 그래프 기반 워크플로우 프레임워크로, 복잡한 멀티 에이전트 시스템과 상태 기반 AI 애플리케이션을 개발하는 데 특화되어 있다. 기존의 선형적인 처리 방식과 달리, 노드(점)와 엣지(선)로 구성된 그래프 구조를 통해 비선형적이고 동적인 프로세스를 구성할 수 있다.\n",
    "\n",
    "랭그래프의 가장 큰 특징은 **사이클(순환 구조)**을 지원한다는 점이다4. 이는 특정 조건에 따라 이전 단계로 돌아가거나 다른 경로를 선택할 수 있음을 의미한다. 예를 들어, 검색 결과가 만족스럽지 않을 때 다시 검색을 수행하거나, 답변의 품질이 낮을 때 재생성을 요청하는 등의 복잡한 로직을 구현할 수 있다.\n",
    "\n",
    "## **랭체인과의 관계**\n",
    "\n",
    "랭그래프는 랭체인(LangChain)의 기능을 확장하여 만들어진 프레임워크이다. 두 프레임워크의 주요 차이점을 살펴보면 다음과 같다:\n",
    "\n",
    "**구조적 차이점:**\n",
    "\n",
    "- **랭체인**: 선형적이고 직선적인 체인 구조로, 정의된 순서에 따라 작업을 수행한다\n",
    "    \n",
    "- **랭그래프**: 노드와 엣지의 연결을 통해 비선형적이고 동적인 프로세스를 구성한다\n",
    "    \n",
    "\n",
    "**복잡도와 유연성:**\n",
    "\n",
    "- **랭체인**: 비교적 간단한 애플리케이션과 직선적인 워크플로우에 적합하다\n",
    "    \n",
    "- **랭그래프**: 복잡한 다단계 작업, 멀티 에이전트 협업, 동적인 의사결정 트리 등 복잡한 워크플로우를 관리하는 데 유용하다\n",
    "    \n",
    "\n",
    "**상태 관리:**\n",
    "\n",
    "- **랭체인**: 암시적이고 자동화된 상태 관리를 제공한다\n",
    "    \n",
    "- **랭그래프**: 명시적이고 세밀한 상태 관리를 통해 각 단계에서 상태를 직접 제어할 수 있다\n",
    "    \n",
    "\n",
    "## **랭그래프 프레임워크의 핵심 기능 정리**\n",
    "\n",
    "랭그래프의 핵심 기능들을 정리하면 다음과 같다:\n",
    "\n",
    "**1. 그래프 기반 워크플로우**: 노드와 엣지로 구성된 그래프 구조를 통해 복잡한 처리 흐름을 시각적으로 표현하고 관리할 수 있다.\n",
    "\n",
    "**2. 상태 기반 처리**: 전체 애플리케이션의 상태를 중앙에서 관리하며, 각 노드가 이 상태를 공유하고 업데이트할 수 있다4.\n",
    "\n",
    "**3. 조건부 분기**: 실행 중에 조건에 따라 다른 경로를 선택할 수 있는 동적 라우팅 기능을 제공한다.\n",
    "\n",
    "**4. 순환 구조 지원**: 특정 조건에서 이전 단계로 돌아가거나 반복 실행이 가능한 사이클 구조를 구현할 수 있다4.\n",
    "\n",
    "**5. 멀티 에이전트 협업**: 여러 AI 에이전트가 협력하여 복잡한 작업을 수행할 수 있는 환경을 제공한다.\n"
   ]
  },
  {
   "cell_type": "code",
   "execution_count": null,
   "id": "87e9dfb6",
   "metadata": {},
   "outputs": [],
   "source": []
  },
  {
   "cell_type": "markdown",
   "id": "b01a90cf",
   "metadata": {},
   "source": [
    "# 2. 랭그래프 기본 구조\n",
    "\n",
    "## **엣지와 노드**\n",
    "\n",
    "랭그래프의 기본 구조는 **노드(Node)**와 **엣지(Edge)**로 구성된다.\n",
    "\n",
    "**노드(Node)**: 실제 작업을 수행하는 Python 함수들로, 각각의 노드는 특정 로직을 담당한다. 노드는 현재 상태를 입력으로 받아서 작업을 수행하고, 업데이트된 상태를 반환한다. 예를 들어, LLM 호출, 문서 검색, 데이터 처리 등의 기능을 수행할 수 있다.\n",
    "\n",
    "**엣지(Edge)**: 노드 간의 연결을 정의하며, 다음에 어떤 노드를 실행할지 결정하는 역할을 한다. 엣지는 워크플로우의 흐름을 제어하고 조건부 라우팅을 가능하게 한다.\n",
    "\n",
    "## **상태(State)**\n",
    "\n",
    "상태(State)는 전체 애플리케이션의 현재 상태를 나타내는 공유 데이터 구조이다. 모든 노드가 이 상태에 접근할 수 있으며, 작업 결과에 따라 상태를 업데이트할 수 있다. 상태는 일반적으로 TypedDict 또는 Pydantic BaseModel로 정의된다.\n",
    "\n",
    "상태의 주요 역할은 다음과 같다:\n",
    "\n",
    "- **전체 워크플로우의 컨텍스트 유지**: 처리 과정에서 필요한 모든 정보를 중앙에서 관리한다\n",
    "    \n",
    "- **노드 간 정보 공유**: 한 노드에서 처리한 결과를 다른 노드에서 활용할 수 있게 한다\n",
    "    \n",
    "- **진행 상황 추적**: 현재 어떤 단계에 있는지, 어떤 작업이 완료되었는지 추적한다\n",
    "    \n",
    "\n",
    "## **StateGraph**\n",
    "\n",
    "StateGraph는 랭그래프의 핵심 클래스로, 상태 기반의 계산 그래프를 정의하는 역할을 한다. StateGraph는 에이전트의 수명 주기 전반에 걸쳐 상태가 유지되도록 하며, 그래프의 노드들이 이 상태를 업데이트할 수 있게 한다.\n",
    "\n",
    "StateGraph의 초기화 과정에서는 상태 정의를 전달하며, 이후 노드들이 키-값 형태로 상태의 속성을 반환하게 된다.\n",
    "\n",
    "## **랭그래프에서 상태관리**\n",
    "\n",
    "랭그래프에서 상태 관리는 두 가지 방식으로 이루어진다:\n",
    "\n",
    "**1. 완전 재정의 방식**: 노드가 속성의 새 값을 반환하여 기존 값을 완전히 대체하는 방식이다.\n",
    "\n",
    "**2. 업데이트 방식**: 기존 속성 값에 새로운 값을 추가하는 방식으로, `operator.add`와 같은 어노테이션을 사용하여 구현한다. 예를 들어, 메시지 리스트에 새로운 메시지를 추가할 때 사용된다."
   ]
  },
  {
   "cell_type": "code",
   "execution_count": null,
   "id": "d40bb96b",
   "metadata": {},
   "outputs": [],
   "source": []
  },
  {
   "cell_type": "markdown",
   "id": "3f77726f",
   "metadata": {},
   "source": [
    "# 3. 랭그래프 구현\n",
    "\n",
    "## **상태(State) 구조 정의**\n",
    "\n",
    "- 랭그래프를 구현하기 위해서는 먼저 State 클래스를 정의 한다.\n",
    "    - State는 `TypedDict`를 상속받아 정의하며, 각 속성에 대해 reducer 함수를 지정할 수 있다. \n",
    "    - Reducer 함수는 기존 값과 새 값을 어떻게 결합할지 정의한다 (예: 리스트 추가, 값 덮어쓰기 등)\n",
    "- State는 graph의 노드들이 공유할 데이터이다.\n",
    "- State 클래스는 state의 속성들을 정의하는 스키마(schema)이다.\n",
    "\n",
    "\n",
    "```python\n",
    "from typing import TypedDict\n",
    "class MyState(TypedDict):\n",
    "     counter: int    \n",
    "     messages: list \n",
    "```\n",
    "\n",
    "## **노드 정의**\n",
    "\n",
    "노드는 실제 작업을 수행하는 Python 함수로 정의된다. 각 노드 함수는 현재 상태를 입력으로 받아 처리 후 업데이트된 상태를 반환한다.\n",
    "\n",
    "```python\n",
    "def increment_counter(state):    \n",
    "     return {\"counter\": state[\"counter\"] + 1} \n",
    "     \n",
    "def process_message(state):\n",
    "    # 메시지 처리 로직    \n",
    "    new_message = \"처리된 메시지\"    \n",
    "    return {\"messages\": state[\"messages\"] + [new_message]}\n",
    "```\n",
    "\n",
    "\n",
    "## **엣지 정의**\n",
    "\n",
    "엣지는 노드 간의 연결을 정의하며, `add_edge` 메서드를 사용하여 추가한다. 기본적인 엣지는 한 노드에서 다른 노드로의 직접적인 연결을 의미한다.\n",
    "\n",
    "```python\n",
    "graph.add_edge(\"node1\", \"node2\") \n",
    "graph.add_edge(\"node2\", \"node3\")\n",
    "```\n",
    "\n",
    "## **그래프 구성**\n",
    "\n",
    "- 노드와 엣지를 정의한 후에는 그래프를 구성하고 컴파일해야 한다. \n",
    "  - `StateGraph`를 생성하고 그래프에 노드들을 추가한다.\n",
    "  - 각 노드들을 연결하여 엣지를 추가한다. 이 과정에서 시작점과 종료점을 설정한다.\n",
    "  - 컴파일을 통해 그래프의 구조를 검증한다.\n",
    "\n",
    "```python\n",
    "from langgraph.graph import START, END\n",
    "from langgraph.graph import StateGraph \n",
    "\n",
    "# StateGraph 생성\n",
    "graph = StateGraph(MyState)\n",
    "\n",
    "# 노드 추가 \n",
    "graph.add_node(\"increment\", increment_counter) \n",
    "graph.add_node(\"process\", process_message) \n",
    "# 엣지 추가 \n",
    "graph.add_edge(START, \"increment\") \n",
    "graph.add_edge(\"increment\", \"process\") \n",
    "graph.add_edge(\"process\", END) \n",
    "# 그래프 컴파일 \n",
    "app = graph.compile(\n",
    "```\n",
    "\n",
    "## **그래프 실행**\n",
    "\n",
    "- 실행 시에는 초기 상태(Initial state)를 제공하여 그래프를 실행한다.   \n",
    "- 그래프는 이 초기 상태부터 시작하여 정의된 노드들을 순차적으로 실행하며 상태를 업데이트한다.\n",
    "\n",
    "```python\n",
    "result = app.invoke({\"counter\": 0, \"messages\": []}) \n",
    "print(result)\n",
    "```"
   ]
  },
  {
   "cell_type": "code",
   "execution_count": 1,
   "id": "b433ef48",
   "metadata": {},
   "outputs": [],
   "source": [
    "# %pip install langgraph"
   ]
  },
  {
   "cell_type": "code",
   "execution_count": 1,
   "id": "41597cd1",
   "metadata": {},
   "outputs": [
    {
     "data": {
      "text/plain": [
       "True"
      ]
     },
     "execution_count": 1,
     "metadata": {},
     "output_type": "execute_result"
    }
   ],
   "source": [
    "from langchain_openai import ChatOpenAI\n",
    "from langgraph.graph import StateGraph, START, END\n",
    "from langgraph.graph.message import add_messages\n",
    "\n",
    "from typing_extensions import TypedDict\n",
    "from typing import Annotated\n",
    "\n",
    "from dotenv import load_dotenv\n",
    "load_dotenv()"
   ]
  },
  {
   "cell_type": "code",
   "execution_count": 2,
   "id": "f682d59d",
   "metadata": {},
   "outputs": [],
   "source": [
    "######################\n",
    "# 이름 추가, 나이 추가, 주소를 추가하는 노드\n",
    "#   - Langgraph에서 노드와 엣지의 흐름 + 상태관리개념을 살펴보자.\n",
    "######################\n",
    "\n",
    "# 1. 상태(State) 정의 - 노드들이 공유할 state값들을 설계\n",
    "class UserInfoState(TypedDict):\n",
    "    name: str\n",
    "    age: int\n",
    "    address: str"
   ]
  },
  {
   "cell_type": "code",
   "execution_count": 6,
   "id": "46127400",
   "metadata": {},
   "outputs": [],
   "source": [
    "# 노드 정의 -> 함수(callable)\n",
    "# 입력: State, 출력: State에 저장할 속성 (State)\n",
    "def add_name(state: UserInfoState):\n",
    "    print(\"add_name:\", state)\n",
    "    return {\"name\":\"홍길동\"} # UserInfoState의 field 이름: \"저장할 값\"\n",
    "\n",
    "def add_age(state:UserInfoState):\n",
    "    print(\"add_age:\", state)\n",
    "    return {\"age\":30}\n",
    "\n",
    "def add_address(state:UserInfoState):\n",
    "    print(\"add_address:\", state)\n",
    "    return {\"address\":\"무지개\"}"
   ]
  },
  {
   "cell_type": "markdown",
   "id": "fde3b632",
   "metadata": {},
   "source": [
    "리턴을 할 때 \"홍길동\"은 name이야 하고 알려줘야함 => dict"
   ]
  },
  {
   "cell_type": "code",
   "execution_count": 8,
   "id": "a88b82a5",
   "metadata": {},
   "outputs": [],
   "source": [
    "# StateGraph를 구성.\n",
    "workflow = StateGraph(UserInfoState)\n",
    "\n",
    "# 노드 추가\n",
    "workflow.add_node(\"add_name\", add_name)\n",
    "workflow.add_node(\"add_age\", add_age)\n",
    "workflow.add_node(\"add_address\", add_address)\n",
    "\n",
    "# 엣지 추가 (노드간의 연결) -> 시작: START 노드\n",
    "workflow.add_edge(START, \"add_name\")\n",
    "workflow.add_edge(\"add_name\", \"add_age\")\n",
    "workflow.add_edge(\"add_age\", \"add_address\")\n",
    "workflow.add_edge(\"add_address\", END)\n",
    "\n",
    "# State graph를 컴파일 - 실행 가능한 상태로 만든다. (그래프 검증, 최적화)\n",
    "graph = workflow.compile()"
   ]
  },
  {
   "cell_type": "code",
   "execution_count": 10,
   "id": "af2fe1f1",
   "metadata": {},
   "outputs": [
    {
     "data": {
      "image/png": "[encoded data removed]",
      "text/plain": [
       "<IPython.core.display.Image object>"
      ]
     },
     "metadata": {},
     "output_type": "display_data"
    }
   ],
   "source": [
    "# 시각화\n",
    "from IPython.display import Image\n",
    "display(Image(graph.get_graph().draw_mermaid_png()))\n",
    "# jupyter lab에서 할 때는 display를 생략 가능함. 다만 로컬에서 할 때는 display를 해야 화면에 뜸."
   ]
  },
  {
   "cell_type": "code",
   "execution_count": 11,
   "id": "3ae89cb6",
   "metadata": {},
   "outputs": [
    {
     "name": "stdout",
     "output_type": "stream",
     "text": [
      "add_name: {}\n",
      "add_age: {'name': '홍길동'}\n",
      "add_address: {'name': '홍길동', 'age': 30}\n"
     ]
    }
   ],
   "source": [
    "# 실행\n",
    "res = graph.invoke({}) # 첫번째 노드에 전달할 state를 dictionary로 전달. "
   ]
  },
  {
   "cell_type": "markdown",
   "id": "ccb0df45",
   "metadata": {},
   "source": [
    "- `res = graph.invoke({})`: 빈 딕셔너리를 넣는다 -> 전달할 값이 없는채로 들어감. \n",
    "- `add_age`는 `add_name`을 거치며 `name:홍길동` 정보가 들어간 딕셔너리를 받음"
   ]
  },
  {
   "cell_type": "code",
   "execution_count": 12,
   "id": "599aac94",
   "metadata": {},
   "outputs": [
    {
     "name": "stdout",
     "output_type": "stream",
     "text": [
      "add_name: {'age': 100}\n",
      "add_age: {'name': '홍길동', 'age': 100}\n",
      "add_address: {'name': '홍길동', 'age': 30}\n"
     ]
    }
   ],
   "source": [
    "# 실행\n",
    "res = graph.invoke({'age':100}) # 첫번째 노드에 전달할 state를 dictionary로 전달. "
   ]
  },
  {
   "cell_type": "markdown",
   "id": "17fa8a5f",
   "metadata": {},
   "source": [
    "`age:100`이라고 처음에 받았으나 `add_age`를 거치면서 `age:30`을 리턴받기 때문에 바뀜"
   ]
  },
  {
   "cell_type": "markdown",
   "id": "77ac30d0",
   "metadata": {},
   "source": [
    "근데 저는 바꾸기 싫어여.. 추가하고 싶음 => 리스트로 받아서 추가할 수 있게 만든다.   \n",
    "기본적으로는 바뀐다. "
   ]
  },
  {
   "cell_type": "code",
   "execution_count": 13,
   "id": "e5eee95f",
   "metadata": {},
   "outputs": [
    {
     "data": {
      "text/plain": [
       "{'name': '홍길동', 'age': 30, 'address': '무지개'}"
      ]
     },
     "execution_count": 13,
     "metadata": {},
     "output_type": "execute_result"
    }
   ],
   "source": [
    "res"
   ]
  },
  {
   "cell_type": "code",
   "execution_count": 15,
   "id": "a11b46c1",
   "metadata": {},
   "outputs": [
    {
     "name": "stdout",
     "output_type": "stream",
     "text": [
      "add_name: {}\n",
      "add_age: {'name': '홍길동'}\n",
      "add_address: {'name': '홍길동', 'age': 30}\n"
     ]
    }
   ],
   "source": [
    "res = graph.invoke({'혈액형':'B'}) # State에 없는 Field는 전달 안 됨."
   ]
  },
  {
   "cell_type": "markdown",
   "id": "3e0046b7",
   "metadata": {},
   "source": [
    "설계도에 혈액형이 없어서 안 들어감."
   ]
  },
  {
   "cell_type": "code",
   "execution_count": 18,
   "id": "bedb1230",
   "metadata": {},
   "outputs": [],
   "source": [
    "######################\n",
    "# Chatbot\n",
    "######################\n",
    "# 상태(State) 클래스 정의\n",
    "#  노드들이 공유할 state값들을 정의하는 클래스(타입)\n",
    "class State(TypedDict):\n",
    "    # state에 저장할 값(속성, state) 들을 정의\n",
    "    messages: Annotated[list, add_messages]  # 변수: Annotated[변수타입, 설명]\n",
    "\n",
    "    # add_messages(left:list, right:list) : return left + right"
   ]
  },
  {
   "cell_type": "code",
   "execution_count": 19,
   "id": "be1321c9",
   "metadata": {},
   "outputs": [],
   "source": [
    "model = ChatOpenAI(model='gpt-4.1-mini')\n",
    "############################\n",
    "# 노드 정의 \n",
    "# 노드 == 기능 == 함수(callable): 파라미터로 State 타입을 선언. \n",
    "def chatbot(state:State):\n",
    "    # state: Dictionary - key: State클래스에 정의한 변수들.\n",
    "    print(\"chatbot: state type:\", type(state), state)\n",
    "    # messages를 llm에 query로 전달.\n",
    "    response = model.invoke(state['messages'])  #invoke(str 또는 Message List)\n",
    "    # response를 state에 저장. -> dictionary로 구성 {저장할 state의 이름: 저장할 값}\n",
    "    return {\"messages\": [response]}  # 리턴 -> State에 저장."
   ]
  },
  {
   "cell_type": "code",
   "execution_count": 20,
   "id": "4149b94e",
   "metadata": {},
   "outputs": [],
   "source": [
    "# 그래프를 구성 (StateGraph)\n",
    "## 노드와 엣지 + state\n",
    "workflow = StateGraph(State)\n",
    "\n",
    "# graph(workflow)에 노드를 추가. 이름-함수\n",
    "workflow.add_node(\"chatbot\", chatbot)\n",
    "\n",
    "# graph에 엣지를 구성. 엣지: 노드와 노드를 연결\n",
    "## START 노드 - 엣지 구성 - (END 노드:생략가능)\n",
    "workflow.add_edge(START, \"chatbot\")  # 시작노드(이름) -> 도착노드(이름)\n",
    "workflow.add_edge(\"chatbot\", END)\n",
    "\n",
    "# 구성을 완료하면 compile -> 그래프 최적화를 하고 실행할 수있도로 만드는 작업.\n",
    "graph = workflow.compile()"
   ]
  },
  {
   "cell_type": "code",
   "execution_count": 21,
   "id": "291ac1ad",
   "metadata": {},
   "outputs": [
    {
     "data": {
      "image/png": "[encoded data removed]",
      "text/plain": [
       "<IPython.core.display.Image object>"
      ]
     },
     "execution_count": 21,
     "metadata": {},
     "output_type": "execute_result"
    }
   ],
   "source": [
    "#########################################\n",
    "# 그래프 구조 시각화 -> 실행 흐름을 확인\n",
    "from IPython.display import Image\n",
    "Image(graph.get_graph().draw_mermaid_png())"
   ]
  },
  {
   "cell_type": "code",
   "execution_count": 23,
   "id": "187b1d76",
   "metadata": {},
   "outputs": [
    {
     "name": "stdout",
     "output_type": "stream",
     "text": [
      "chatbot: state type: <class 'dict'> {'messages': [HumanMessage(content='Langgraph에 대해서 알려줘.', additional_kwargs={}, response_metadata={}, id='d9dbaa3d-865c-4d7c-98c5-39e658057fe0')]}\n"
     ]
    }
   ],
   "source": [
    "############### \n",
    "# 실행 - graph.invoke()\n",
    "###############\n",
    "from langchain_core.messages import HumanMessage\n",
    "query = \"Langgraph에 대해서 알려줘.\"\n",
    "\n",
    "init_state = {\"messages\":[HumanMessage(content=query)]}\n",
    "\n",
    "resp = graph.invoke(init_state)  # State에 넣어줄 초기값 -> 첫번째 노드가 사용."
   ]
  },
  {
   "cell_type": "code",
   "execution_count": 24,
   "id": "aa0c74f1",
   "metadata": {},
   "outputs": [
    {
     "data": {
      "text/plain": [
       "langgraph.pregel.io.AddableValuesDict"
      ]
     },
     "execution_count": 24,
     "metadata": {},
     "output_type": "execute_result"
    }
   ],
   "source": [
    "type(resp)"
   ]
  },
  {
   "cell_type": "code",
   "execution_count": 25,
   "id": "5993c7c0",
   "metadata": {},
   "outputs": [
    {
     "data": {
      "text/plain": [
       "[HumanMessage(content='Langgraph에 대해서 알려줘.', additional_kwargs={}, response_metadata={}, id='d9dbaa3d-865c-4d7c-98c5-39e658057fe0'),\n",
       " AIMessage(content='Langgraph는 텍스트 기반 데이터 처리와 자연어 처리(NLP)에 특화된 도구 또는 플랫폼을 의미할 수 있습니다. 다만, 제가 알고 있는 최신 정보(2024년 6월 기준)에는 \"Langgraph\"라는 명칭을 가진 특정 제품이나 서비스에 대한 자세한 정보가 없습니다.\\n\\n만약 Langgraph가 최근에 출시된 신제품이거나 특정 기업 또는 커뮤니티에서 사용하는 내부 도구라면, 좀 더 구체적인 설명이나 활용 목적, 관련 링크 등을 알려주시면 더 정확한 정보를 제공해드릴 수 있습니다.\\n\\n추가로, \"Langgraph\"라는 이름에서 유추해보면, 언어(Language)와 그래프(Graph)를 결합한 개념일 가능성이 있는데, 이는 자연어 처리에서 텍스트를 그래프 형태로 표현하거나, 언어 데이터를 그래프 기반으로 분석하는 기술일 수 있습니다. 예를 들어, 단어 간의 관계를 그래프로 표현하여 의미 분석, 지식 그래프 구축, 문서 요약 등에 활용될 수 있습니다.\\n\\n좀 더 구체적인 정보를 원하시면 추가 질문 부탁드립니다!', additional_kwargs={'refusal': None}, response_metadata={'token_usage': {'completion_tokens': 235, 'prompt_tokens': 14, 'total_tokens': 249, 'completion_tokens_details': {'accepted_prediction_tokens': 0, 'audio_tokens': 0, 'reasoning_tokens': 0, 'rejected_prediction_tokens': 0}, 'prompt_tokens_details': {'audio_tokens': 0, 'cached_tokens': 0}}, 'model_name': 'gpt-4.1-mini-2025-04-14', 'system_fingerprint': 'fp_6f2eabb9a5', 'id': 'chatcmpl-BlQ3Lsj9Cd2knHRfwqgE5Aj0EG8TW', 'service_tier': 'default', 'finish_reason': 'stop', 'logprobs': None}, id='run--38921808-17de-47cb-b757-8a63766fc8d4-0', usage_metadata={'input_tokens': 14, 'output_tokens': 235, 'total_tokens': 249, 'input_token_details': {'audio': 0, 'cache_read': 0}, 'output_token_details': {'audio': 0, 'reasoning': 0}})]"
      ]
     },
     "execution_count": 25,
     "metadata": {},
     "output_type": "execute_result"
    }
   ],
   "source": [
    "resp['messages']"
   ]
  },
  {
   "cell_type": "code",
   "execution_count": 26,
   "id": "8f015e29",
   "metadata": {},
   "outputs": [
    {
     "name": "stdout",
     "output_type": "stream",
     "text": [
      "Langgraph는 텍스트 기반 데이터 처리와 자연어 처리(NLP)에 특화된 도구 또는 플랫폼을 의미할 수 있습니다. 다만, 제가 알고 있는 최신 정보(2024년 6월 기준)에는 \"Langgraph\"라는 명칭을 가진 특정 제품이나 서비스에 대한 자세한 정보가 없습니다.\n",
      "\n",
      "만약 Langgraph가 최근에 출시된 신제품이거나 특정 기업 또는 커뮤니티에서 사용하는 내부 도구라면, 좀 더 구체적인 설명이나 활용 목적, 관련 링크 등을 알려주시면 더 정확한 정보를 제공해드릴 수 있습니다.\n",
      "\n",
      "추가로, \"Langgraph\"라는 이름에서 유추해보면, 언어(Language)와 그래프(Graph)를 결합한 개념일 가능성이 있는데, 이는 자연어 처리에서 텍스트를 그래프 형태로 표현하거나, 언어 데이터를 그래프 기반으로 분석하는 기술일 수 있습니다. 예를 들어, 단어 간의 관계를 그래프로 표현하여 의미 분석, 지식 그래프 구축, 문서 요약 등에 활용될 수 있습니다.\n",
      "\n",
      "좀 더 구체적인 정보를 원하시면 추가 질문 부탁드립니다!\n"
     ]
    }
   ],
   "source": [
    "print(resp['messages'][-1].content)"
   ]
  },
  {
   "cell_type": "markdown",
   "id": "9f294876",
   "metadata": {},
   "source": [
    "# 4. 다양한 엣지\n",
    "\n",
    "## **기본 엣지**\n",
    "\n",
    "- 기본 엣지(Normal Edge)는 한 노드에서 다른 노드로의 직접적인 연결을 의미한다. 이는 가장 단순한 형태의 연결로, 이전 노드의 작업이 완료되면 자동으로 다음 노드로 이동한다.\n",
    "- 기본 엣지는 다음과 같은 특징을 가진다:\n",
    "  - **고정된 흐름**: 항상 동일한 다음 노드로 이동한다      \n",
    "  - **단순한 구조**: 복잡한 조건 없이 순차적으로 실행된다      \n",
    "  - **예측 가능한 동작**: 실행 전에 전체 흐름을 예측할 수 있다    \n",
    "\n",
    "## **조건부 엣지와 라우팅**\n",
    "\n",
    "- 조건부 엣지(Conditional Edge)는 특정 조건에 따라 다음에 실행할 노드를 동적으로 결정하는 기능이다. 이는 랭그래프의 가장 강력한 기능 중 하나로, 복잡한 의사결정 로직을 구현할 수 있게 한다.\n",
    "- 조건부 엣지를 구현하기 위해서는 세 가지 구성 요소가 필요하다:\n",
    "    - **1. 소스 노드(Source Node)**\n",
    "      -  조건 평가가 시작될 노드의 이름이다.\n",
    "    - **2. 조건 함수(Condition Function)**\n",
    "      - 현재 상태를 입력받아 문자열을 반환하는 함수로, 다음에 실행할 노드를 결정하는 로직을 포함한다.\n",
    "    - **3. 조건부 엣지 매핑(Conditional Edge Mapping)**\n",
    "      -  조건 함수의 반환값과 다음 노드 이름을 매핑하는 딕셔너리이다.\n",
    "```python\n",
    "def relevance_check(state):     \n",
    "    # 관련성 체크 로직    \n",
    "    if state[\"relevance_score\"] > 0.8:        \n",
    "        return \"grounded\"    \n",
    "    else:        \n",
    "        return \"not_grounded\" \n",
    "        \n",
    "graph.add_conditional_edges(\n",
    "    \"llm_answer\",     # 소스 노드    \n",
    "    relevance_check,  # 조건 함수    \n",
    "    {        \n",
    "        \"grounded\": END,  # 조건함수반환값:이동할 노드 (grounded 이면 END 노드로 이동)\n",
    "        \"not_grounded\": \"retrieve\"  # not_grounded 이면 retrieve 노드로 이동\n",
    "    } \n",
    ")\n",
    "```\n",
    "\n",
    "## **반복 구조**\n",
    "\n",
    "- 랭그래프의 가장 큰 장점 중 하나는 반복 구조(순환 구조)를 지원한다는 점이다. 이를 통해 특정 조건이 만족될 때까지 작업을 반복하거나, 품질이 향상될 때까지 개선 과정을 반복할 수 있다.\n",
    "- 반복 구조의 활용 예시:\n",
    "  - **검색 품질 개선**\n",
    "    - 검색 결과가 만족스럽지 않을 때 쿼리를 재작성하여 다시 검색한다      \n",
    "  - **답변 품질 향상**\n",
    "    - 생성된 답변의 품질이 낮을 때 다시 생성하거나 개선한다      \n",
    "  - **할루시네이션 방지**\n",
    "    -  답변이 검색된 문서와 관련성이 낮을 때 재생성을 요청한다"
   ]
  },
  {
   "cell_type": "code",
   "execution_count": 27,
   "id": "d7bfa15b",
   "metadata": {},
   "outputs": [
    {
     "data": {
      "text/plain": [
       "RunnableBinding(bound=ChatOpenAI(client=<openai.resources.chat.completions.completions.Completions object at 0x000002D4A0676AB0>, async_client=<openai.resources.chat.completions.completions.AsyncCompletions object at 0x000002D4A08AD7F0>, root_client=<openai.OpenAI object at 0x000002D490D1CF50>, root_async_client=<openai.AsyncOpenAI object at 0x000002D492077C80>, model_name='gpt-4.1', model_kwargs={}, openai_api_key=SecretStr('**********')), kwargs={'tools': [{'type': 'function', 'function': {'name': 'tavily_search', 'description': 'A search engine optimized for comprehensive, accurate, and trusted results. Useful for when you need to answer questions about current events. It not only retrieves URLs and snippets, but offers advanced search depths, domain management, time range filters, and image search, this tool delivers real-time, accurate, and citation-backed results.Input should be a search query.', 'parameters': {'properties': {'query': {'description': 'Search query to look up', 'type': 'string'}, 'include_domains': {'anyOf': [{'items': {'type': 'string'}, 'type': 'array'}, {'type': 'null'}], 'default': [], 'description': 'A list of domains to restrict search results to.\\n\\n        Use this parameter when:\\n        1. The user explicitly requests information from specific websites (e.g., \"Find climate data from nasa.gov\")\\n        2. The user mentions an organization or company without specifying the domain (e.g., \"Find information about iPhones from Apple\")\\n\\n        In both cases, you should determine the appropriate domains (e.g., [\"nasa.gov\"] or [\"apple.com\"]) and set this parameter.\\n\\n        Results will ONLY come from the specified domains - no other sources will be included.\\n        Default is None (no domain restriction).\\n        '}, 'exclude_domains': {'anyOf': [{'items': {'type': 'string'}, 'type': 'array'}, {'type': 'null'}], 'default': [], 'description': 'A list of domains to exclude from search results.\\n\\n        Use this parameter when:\\n        1. The user explicitly requests to avoid certain websites (e.g., \"Find information about climate change but not from twitter.com\")\\n        2. The user mentions not wanting results from specific organizations without naming the domain (e.g., \"Find phone reviews but nothing from Apple\")\\n\\n        In both cases, you should determine the appropriate domains to exclude (e.g., [\"twitter.com\"] or [\"apple.com\"]) and set this parameter.\\n\\n        Results will filter out all content from the specified domains.\\n        Default is None (no domain exclusion).\\n        '}, 'search_depth': {'anyOf': [{'enum': ['basic', 'advanced'], 'type': 'string'}, {'type': 'null'}], 'default': 'basic', 'description': 'Controls search thoroughness and result comprehensiveness.\\n    \\n        Use \"basic\" for simple queries requiring quick, straightforward answers.\\n        \\n        Use \"advanced\" (default) for complex queries, specialized topics, \\n        rare information, or when in-depth analysis is needed.\\n        '}, 'include_images': {'anyOf': [{'type': 'boolean'}, {'type': 'null'}], 'default': False, 'description': 'Determines if the search returns relevant images along with text results.\\n   \\n        Set to True when the user explicitly requests visuals or when images would \\n        significantly enhance understanding (e.g., \"Show me what black holes look like,\" \\n        \"Find pictures of Renaissance art\").\\n        \\n        Leave as False (default) for most informational queries where text is sufficient.\\n        '}, 'time_range': {'anyOf': [{'enum': ['day', 'week', 'month', 'year'], 'type': 'string'}, {'type': 'null'}], 'default': None, 'description': 'Limits results to content published within a specific timeframe.\\n        \\n        ONLY set this when the user explicitly mentions a time period \\n        (e.g., \"latest AI news,\" \"articles from last week\").\\n        \\n        For less popular or niche topics, use broader time ranges \\n        (\"month\" or \"year\") to ensure sufficient relevant results.\\n   \\n        Options: \"day\" (24h), \"week\" (7d), \"month\" (30d), \"year\" (365d).\\n        \\n        Default is None.\\n        '}, 'topic': {'anyOf': [{'enum': ['general', 'news', 'finance'], 'type': 'string'}, {'type': 'null'}], 'default': 'general', 'description': 'Specifies search category for optimized results.\\n   \\n        Use \"general\" (default) for most queries, INCLUDING those with terms like \\n        \"latest,\" \"newest,\" or \"recent\" when referring to general information.\\n\\n        Use \"finance\" for markets, investments, economic data, or financial news.\\n\\n        Use \"news\" ONLY for politics, sports, or major current events covered by \\n        mainstream media - NOT simply because a query asks for \"new\" information.\\n        '}}, 'required': ['query'], 'type': 'object'}}}]}, config={}, config_factories=[])"
      ]
     },
     "execution_count": 27,
     "metadata": {},
     "output_type": "execute_result"
    }
   ],
   "source": [
    "from langchain_tavily import TavilySearch\n",
    "\n",
    "tool = TavilySearch(max_results=2)\n",
    "tools = [tool]\n",
    "tool_model = ChatOpenAI(model=\"gpt-4.1\").bind_tools(tools)\n",
    "tool_model"
   ]
  },
  {
   "cell_type": "code",
   "execution_count": null,
   "id": "9fb483c0",
   "metadata": {},
   "outputs": [],
   "source": [
    "class State(TypedDict):\n",
    "    messages: Annotated[list, add_messages]\n",
    "    # add_messages: 상태값을 저장하는 방법을 정의한 함수 -> reducer 라고 한다.\n",
    "\n",
    "# 노드 정의\n",
    "## 챗봇 노드\n",
    "def chatbot(state:State):\n",
    "    response = tool_model.invoke(state['messages'])\n",
    "    return {\"messages\":[response]}\n",
    "\n",
    "## Tool을 호출하는 노드.\n",
    "class CustomToolNode:\n",
    "    def __init__(self, tools): # Tool List를 받는다.\n",
    "        # 속성으로 툴이름 저장\n",
    "        self.tools_by_name = {tool.name: tool for tool in tools}  # dict[tool이름:Tool객체]\n",
    "\n",
    "    def __call__(self, inputs:State):  # inputs: State\n",
    "        if messages := inputs.get(\"messages\", []):\n",
    "            message = messages[-1]  # tool calls가 있는 AI Message  (messages는 메세지들이 누적되어 있으므로 마지막 Message 객체를 가져온다.)\n",
    "        else:\n",
    "            raise ValueError(\"No messages found in inputs.\")\n",
    "        \n",
    "        outputs = []\n",
    "        for tool_call in message.tool_calls:\n",
    "            tool_message = self.tools_by_name[tool_call['name']].invoke(tool_call)\n",
    "            outputs.append(tool_message)\n",
    "\n",
    "        return {\"messages\": outputs}\n",
    "    \n",
    "tool_node = CustomToolNode(tools)\n",
    "\n",
    "## Tool들을 호출하는 Prebuilt Node\n",
    "from langgraph.prebuilt import ToolNode # === CustomToolNode와 같음. \n",
    "tool_node = ToolNode(tools) # [tool, tool, ...]\n",
    "\n",
    "############################\n",
    "# 조건부 엣지 함수\n",
    "# 조건에 따라 실행할 다음 노드의 이름/식별자를 반환.\n",
    "\n",
    "def custom_tools_condition(state:State):\n",
    "    if messages := state.get(\"messages\", []):\n",
    "        ai_message = messages[-1]\n",
    "    else:\n",
    "        raise Exception(\"State에 message가 없습니다.\")\n",
    "    if hasattr(ai_message, \"tool_calls\") and len(ai_message.tool_calls)>0:\n",
    "        # AIMessage -> tool_calls가 있고, tool_calls에 한 개 이상의 tool_call 값이 있다면\n",
    "        return \"tools\" # 다음 노드의 이름 반환.\n",
    "    else:\n",
    "        return END # \"__end__\"\n",
    "    \n",
    "from langgraph.prebuilt import tools_condition # == custom_tools_condition 와 동일한 함수 \n",
    "# add_conditional_edge()에 이 함수를 넣으면 된다. "
   ]
  },
  {
   "cell_type": "code",
   "execution_count": 29,
   "id": "74ed0686",
   "metadata": {},
   "outputs": [
    {
     "data": {
      "text/plain": [
       "'툴실행 노드'"
      ]
     },
     "execution_count": 29,
     "metadata": {},
     "output_type": "execute_result"
    }
   ],
   "source": [
    "# 참고! hasattr()\n",
    "# 객체에 특정 attribute\n",
    "# hasattr(): 가 있는지 여부\n",
    "# getattr(): 의 값을 조회\n",
    "# setattr(): 에 값을 할당\n",
    "t = CustomToolNode(tools)\n",
    "hasattr(t, \"tools_by_name\"), hasattr(t, \"tools_name\")\n",
    "getattr(t, \"tools_by_name\")             # t.tools_by_name: tools_by_name이 가지고 있는 값을 조회\n",
    "setattr(t, \"name\", \"툴실행 노드\")         # t.name = \"툴 실행 노드\" \n",
    "getattr(t, \"name\")\n",
    "\n",
    "# 사용하는 이유? 문자열로 인스턴스 변수를 다룰 수 있기 때문이다!"
   ]
  },
  {
   "cell_type": "code",
   "execution_count": 30,
   "id": "d916e123",
   "metadata": {},
   "outputs": [],
   "source": [
    "# Graph 정의\n",
    "workflow = StateGraph(State)\n",
    "\n",
    "# 노드들 추가.\n",
    "workflow.add_node(\"chatbot\", chatbot)\n",
    "workflow.add_node(\"tools\", tool_node)\n",
    "\n",
    "# 노드 연결 --> 엣지\n",
    "workflow.add_edge(START, \"chatbot\")\n",
    "workflow.add_conditional_edges(\"chatbot\", \n",
    "                               custom_tools_condition,\n",
    "                               {\"tools\": \"tools\", END:END})\n",
    "workflow.add_edge(\"tools\", \"chatbot\")\n",
    "graph = workflow.compile()"
   ]
  },
  {
   "cell_type": "code",
   "execution_count": 31,
   "id": "7e675953",
   "metadata": {},
   "outputs": [
    {
     "data": {
      "image/png": "[encoded data removed]",
      "text/plain": [
       "<IPython.core.display.Image object>"
      ]
     },
     "execution_count": 31,
     "metadata": {},
     "output_type": "execute_result"
    }
   ],
   "source": [
    "Image(graph.get_graph().draw_mermaid_png())"
   ]
  },
  {
   "cell_type": "code",
   "execution_count": 32,
   "id": "76328c2f",
   "metadata": {},
   "outputs": [],
   "source": [
    "query = \"Langgraph가 뭔지 설명해줘. 검색을 해서 정확한 정보 알려줘.\"\n",
    "init_state = {\"messages\":[HumanMessage(content=query)]}\n",
    "resp = graph.invoke(init_state)"
   ]
  },
  {
   "cell_type": "code",
   "execution_count": 33,
   "id": "940382ff",
   "metadata": {},
   "outputs": [
    {
     "name": "stdout",
     "output_type": "stream",
     "text": [
      "[HumanMessage(content='Langgraph가 뭔지 설명해줘. 검색을 해서 정확한 정보 알려줘.', additional_kwargs={}, response_metadata={}, id='9b8c7b0e-a01d-424a-9669-569be055db8d'), AIMessage(content='', additional_kwargs={'tool_calls': [{'id': 'call_6QNXuomBRjttxZn1YrpcsALF', 'function': {'arguments': '{\"query\":\"Langgraph란 무엇인가\",\"search_depth\":\"advanced\"}', 'name': 'tavily_search'}, 'type': 'function'}], 'refusal': None}, response_metadata={'token_usage': {'completion_tokens': 25, 'prompt_tokens': 786, 'total_tokens': 811, 'completion_tokens_details': {'accepted_prediction_tokens': 0, 'audio_tokens': 0, 'reasoning_tokens': 0, 'rejected_prediction_tokens': 0}, 'prompt_tokens_details': {'audio_tokens': 0, 'cached_tokens': 0}}, 'model_name': 'gpt-4.1-2025-04-14', 'system_fingerprint': 'fp_51e1070cf2', 'id': 'chatcmpl-BlQJe60DLleNVOSpSyHKr8zZuDNgA', 'service_tier': 'default', 'finish_reason': 'tool_calls', 'logprobs': None}, id='run--0408f600-7bda-42ee-87c3-f9654e097b66-0', tool_calls=[{'name': 'tavily_search', 'args': {'query': 'Langgraph란 무엇인가', 'search_depth': 'advanced'}, 'id': 'call_6QNXuomBRjttxZn1YrpcsALF', 'type': 'tool_call'}], usage_metadata={'input_tokens': 786, 'output_tokens': 25, 'total_tokens': 811, 'input_token_details': {'audio': 0, 'cache_read': 0}, 'output_token_details': {'audio': 0, 'reasoning': 0}}), ToolMessage(content='{\"query\": \"Langgraph란 무엇인가\", \"follow_up_questions\": null, \"answer\": null, \"images\": [], \"results\": [{\"url\": \"https://brunch.co.kr/@@hqFh/132\", \"title\": \"23화 22. LangGraph 기본과 응용 - 브런치스토리\", \"content\": \"LangGraph(랭그래프)는 LangChain(랭체인)을 기반으로 하는 에이전트 프레임워크입니다. LangGraph(랭그래프)의 주요 특징은 복잡한 제어구조를 가진 워크플로우를 유연하게 표현할 수 있다는 점입니다. 이는 LangGraph(랭그래프)가 워크플로우 표현에 그래프를 채택하고 있기 때문입니다. 여기서 그래프란, 노드(정점)과 엣지(변)로 이루어지는 수학적 구조로 요소간에 관계성을 표현하는데 사용됩니다. [...] LangGraph(랭그래프)는 에이전트와 도구의 처리를 노드로 표현하고 노드 간의 연결을 엣지로 표현합니다. 가장자리는 다음에 실행할 노드를 지정합니다. LangGraph(랭그래프)는 노드와 엣지를 결합하여 멀티 에이전트 구현에 적합한 워크플로우를 표현합니다.\\\\n\\\\n예를 들어, 아래 그림은 LangGraph(랭그래프)를 사용하여 소프트웨어 개발팀을 멀티에이전트로 구현하는 그래프입니다. 리더(Leader), 프로그래머(Programmer), 테스터(TestWriter), 평가자(Evaluator)의 4가지 에이전트가 노드로 표현됩니다. [...] 다음으로 각 노드의 처리를 함수로 정의합니다. LangGraph(랭그래프)는 각 노드의 처리를 Python함수 또는 Runnable객체로 정의합니다. 이 함소 또는 Runnable객체의 인수는 상태정의에 지정된 유형과 일치해야 합니다. 또한 반환값은 상태를 업데이트하기 위해 사전을 반환해야 합니다. 그러면, 각 처리를 정의하는 것으로 실제로 확인해 갑니다.\\\\n\\\\nDeposit노드는 사용자의 입금을 수락하고 total, count, last\\\\\\\\_deposit을 업데이트합니다.\\\\n\\\\n![](//img1.daumcdn.net/thumb/R1280x0/?fname=http://t1.daumcdn.net/brunch/service/user/hqFh/image/9eh3-ru6AMGti_nmrqArvP2bxOE.png)\", \"score\": 0.8947989, \"raw_content\": null}, {\"url\": \"https://brunch.co.kr/@@aPda/339\", \"title\": \"13화 LangChain과 LangGgraph 어떻게 다를까? - 브런치스토리\", \"content\": \"### **2. Langgraph란 무엇인가?**\\\\n\\\\nLangGraph 역시 Langchain과 같이 RAG 개발을 도와주는 프레임워크라는 점에서는 동일합니다. **하지만 LangGraph는 한 발 더 나아가 LLM을 사용하여 상태를 유지하고 여러 에이전트를 포함한 애플리케이션을 쉽게 만들 수 있도록 도와주는 프레임워크입니다.** LangGraph에는 LangChain의 기능을 확장하여 복잡한 에이전트 런타임 개발에 필수적인 순환 그래프를 만들고 관리할 수 있는 기능을 추가되어 있습니다. LangGraph의 핵심 개념에는 그래프 구조, 상태 관리 및 조정이 포함됩니다.\\\\n\\\\n![](//img1.daumcdn.net/thumb/R1280x0/?fname=https://t1.daumcdn.net/brunch/service/user/aPda/image/iPPy1jNE1Set8GVsxjHPRuD5TxY.png)\\\\n\\\\n### **3. Langchain과 Langgraph는 어떻게 다른가?** [...] 랭체인(LangChain)과 랭그래프(LangGraph)는 둘 다 대규모 언어 모델(LLM)을 활용한 애플리케이션 개발을 위한 프레임워크이지만, 그 구조와 사용 목적에서 큰 차이를 보입니다. Langchain은 보다 직선적이고 경직되어 있는 반면에 Langgraph는 선형적이고 유연합니다.\\\\n\\\\n이러한 차이점이 생긴 이유는 애초에 LangGraph가 LangChain의 단점을 보완하기 위해 만들어진 프레임워크이기 때문입니다. **개발자들이 LLM을 통해서 일종의 파이프라인을 만들다 보면, 이전 LLM 결과에 대해서 다음 작업으로 넘길 때, LLM이 생성되는 결과가 잘못되어 전체 파이프라인 실패로 이어지는 경우가 많습니다.** 이러한 한계점을 해결하기 위해 분기 처리나 후처리 로직을 담는 방법이 있는데 LLM의 특성상 결과가 잘 제어되지 않습니다.\\xa0이러면 전반적인 구조나 결과를 보기가 쉽지 않았습니다.\", \"score\": 0.8941352, \"raw_content\": null}], \"response_time\": 1.7}', name='tavily_search', id='486597e4-9c6f-4e31-bfc5-9eaf3995f2ec', tool_call_id='call_6QNXuomBRjttxZn1YrpcsALF'), AIMessage(content='LangGraph(랭그래프)는 LangChain(랭체인)을 기반으로 만들어진 에이전트 프레임워크입니다. LangGraph의 주요 특징 및 역할은 다음과 같습니다.\\n\\n- 그래프(노드와 엣지)를 이용해 복잡하고 유연한 워크플로우를 표현할 수 있습니다.\\n- 대규모 언어 모델(LLM)과 여러 에이전트를 포함한 애플리케이션을 효율적으로 만들도록 도와줍니다.\\n- 상태 관리와 다양한 에이전트 간의 협업, 순환(루프), 분기, 후처리 등 복잡한 제어 구조를 그래프 형태로 명확하게 설계할 수 있습니다.\\n- 각 노드에는 에이전트, 도구 실행, 함수 실행 등 다양한 처리 단위를 배치할 수 있으며, 상태 업데이트 및 전이(다음 실행 노드 지정)가 가능합니다.\\n- LangChain은 직선적으로 파이프라인 기반 워크플로우를 설계하는 반면, LangGraph는 분기와 반응형 구조 등 더 복잡하고 응용력이 높은 시스템 설계가 가능합니다.\\n\\n즉, LangGraph는 LangChain을 확장하여 LLM, 멀티에이전트, 복잡한 워크플로우의 상태 관리 및 제어를 그래프 구조로 손쉽게 표현하고 개발하도록 만든 프레임워크입니다.\\n\\n참고:\\n- 브런치: LangGraph 기본과 응용 (자세한 구조/응용 예시)\\n- 브런치: LangChain과 LangGraph의 차이점 (구조 및 특징 비교)\\n\\n필요하다면 예시 구조도 설명드릴 수 있습니다!', additional_kwargs={'refusal': None}, response_metadata={'token_usage': {'completion_tokens': 363, 'prompt_tokens': 1908, 'total_tokens': 2271, 'completion_tokens_details': {'accepted_prediction_tokens': 0, 'audio_tokens': 0, 'reasoning_tokens': 0, 'rejected_prediction_tokens': 0}, 'prompt_tokens_details': {'audio_tokens': 0, 'cached_tokens': 0}}, 'model_name': 'gpt-4.1-2025-04-14', 'system_fingerprint': 'fp_51e1070cf2', 'id': 'chatcmpl-BlQJi5oxOyRcdbHgT1IgmjIUPYJND', 'service_tier': 'default', 'finish_reason': 'stop', 'logprobs': None}, id='run--a02a63f2-0faa-4832-895c-21c8f7edb14f-0', usage_metadata={'input_tokens': 1908, 'output_tokens': 363, 'total_tokens': 2271, 'input_token_details': {'audio': 0, 'cache_read': 0}, 'output_token_details': {'audio': 0, 'reasoning': 0}})]\n"
     ]
    }
   ],
   "source": [
    "resp\n",
    "print(resp[\"messages\"])"
   ]
  },
  {
   "cell_type": "markdown",
   "id": "58e0cf2d",
   "metadata": {},
   "source": [
    "# 5. 랭그래프에서 메모리 관리\n",
    "\n",
    "**랭그래프에서 메모리 관리**는 **체크포인터(Checkpointer)** 기능을 통해 구현된다. 이는 복잡한 대화형 AI 시스템 구축에 필수적인 기능으로, 상태를 저장하고 관리하는 핵심 역할을 한다.\n",
    "\n",
    "- **체크포인터의 주요 기능:**\n",
    "    - **1. 상태 지속성**\n",
    "      -  그래프 실행 중간에 상태를 저장하여 나중에 복원할 수 있다.\n",
    "    - **2. 대화 기록 유지**\n",
    "      - 이전 대화 내용을 기억하여 연속적인 대화가 가능하다.\n",
    "    - **3. 오류 복구**\n",
    "      -  실행 중 오류가 발생했을 때 이전 상태로 돌아갈 수 있다.\n",
    "-   구현\n",
    "    -  Graph를 컴파일할 때 checkpointer객체를 설정한다.\n",
    "    - Graph 실행시 대화를 저장할 때 사용할 thread_id를 `RunnableConfig`를 이용해 전달한다.\n",
    "\n",
    "```python\n",
    "\n",
    "from langgraph.checkpoint.memory import MemorySaver\n",
    "from langgraph.checkpoint.sqlite import SqliteSaver\n",
    "\n",
    "# 메모리 체크포인터 생성\n",
    "checkpointer = MemorySaver()\n",
    "# SQLite 체크포인터 생성\n",
    "# checkpointer = SqliteSaver.from_conn_string(\"checkpoints.db\")\n",
    "\n",
    "# 그래프에 연결\n",
    "graph = workflow.compile(checkpointer=checkpointer)\n",
    "\n",
    "# graph 호출시 thread_id 전달 (사용자 구분)\n",
    "config = {\"configurable\": {\"thread_id\": \"user-123\"}}\n",
    "response = graph.invoke({\"messages\": [user_message]}, config)\n",
    "```"
   ]
  },
  {
   "cell_type": "code",
   "execution_count": 36,
   "id": "3d4e7d52",
   "metadata": {},
   "outputs": [
    {
     "data": {
      "text/plain": [
       "True"
      ]
     },
     "execution_count": 36,
     "metadata": {},
     "output_type": "execute_result"
    }
   ],
   "source": [
    "from langchain_openai import ChatOpenAI\n",
    "from langchain_core.messages import HumanMessage\n",
    "from langchain.prompts import ChatPromptTemplate\n",
    "from langgraph.graph import StateGraph, START, END\n",
    "from langgraph.graph.message import add_messages\n",
    "from langgraph.checkpoint.memory import MemorySaver\n",
    "from langgraph.prebuilt import ToolNode, tools_condition\n",
    "from dotenv import load_dotenv\n",
    "from typing_extensions import TypedDict\n",
    "from typing import Annotated\n",
    "\n",
    "from tools import search_web\n",
    "\n",
    "load_dotenv()"
   ]
  },
  {
   "cell_type": "code",
   "execution_count": 37,
   "id": "89939324",
   "metadata": {},
   "outputs": [],
   "source": [
    "class State(TypedDict):\n",
    "    messages: Annotated[list, add_messages]"
   ]
  },
  {
   "cell_type": "code",
   "execution_count": 51,
   "id": "ba33c1cc",
   "metadata": {},
   "outputs": [],
   "source": [
    "# 노드 정의\n",
    "from datetime import date\n",
    "from textwrap import dedent\n",
    "class ChatbotNode:\n",
    "\n",
    "    def __init__(self, tools, model_name:str=\"gpt-4.1-mini\"):\n",
    "        prompt = ChatPromptTemplate(\n",
    "            [\n",
    "                (\"system\", dedent(\"\"\"\n",
    "                    당신은 다양한 지식을 제공하는 AI 어시스턴트입니다. \n",
    "                    주요 목표는 사용자의 요청에 대한 정확한 정보를 이해하기 쉽게 설명하는 것입니다.\n",
    "                    \n",
    "                    # Instruction:\n",
    "                    1. 정확한 답변을 위해 웹 검색이 필요하거나 최신 정보를 얻고 싶을 때는 **search_web 도구**를 사용하십시오. 이 도구는 인터넷 검색을 통해 정보를 검색해서 제공합니다.\n",
    "                    2. 최신 정보를 제공해야 할 때는 {today} 를 기준으로 합니다.\n",
    "                    3. 검색 결과를 기반으로 명확하고 간결한 답변을 제공하십시오.\n",
    "                    4. 최종 응답은 챗봇과 같은 대화형 스타일을 유지하세요. 친근하고 쉽고 자연스럽게 다변하되 전문성을 보이는 어조를 유지하세요.\n",
    "\n",
    "                    각 도구들을 결합해서 사용자의 요청에 정확한 대답을 하세요.\n",
    "                    항상 가장 최신의 정확한 정보를 제공하기 위해 노력하세요.\n",
    "                    \"\"\")),\n",
    "                (\"human\", \"{query}\")\n",
    "            ],\n",
    "            partial_variables={\"today\": date.today().strftime('%Y년 %m월 %d일')}\n",
    "        )\n",
    "        tool_model = ChatOpenAI(model=\"gpt-4.1\").bind_tools(tools)\n",
    "        self.chain = prompt | tool_model\n",
    "\n",
    "    def __call__(self, input_state:State):  # 노드가 호출될 때 실행될 함수 \n",
    "        response = self.chain.invoke({\"query\":input_state[\"messages\"]})\n",
    "        return {\"messages\": [response]}\n",
    "\n",
    "tools = [search_web]\n",
    "chatbot_node = ChatbotNode(tools)\n"
   ]
  },
  {
   "cell_type": "markdown",
   "id": "ef2079b3",
   "metadata": {},
   "source": [
    "```python\n",
    "   def __call__(self, input_state:State):  # 노드가 호출될 때 실행될 함수 \n",
    "        response = self.chain.invoke({\"query\":input_state[\"messages\"]})\n",
    "```\n",
    "input_state[\"messages\"][-1] 해버리면 저장된 메세지 이력 중 마지막 것만 들어가서 대화 이력을 기억하지 못함. "
   ]
  },
  {
   "cell_type": "code",
   "execution_count": 52,
   "id": "2c2076db",
   "metadata": {},
   "outputs": [],
   "source": [
    "# 툴 호출 처리 Node\n",
    "from langgraph.prebuilt import ToolNode\n",
    "\n",
    "tool_node = ToolNode(tools) # 위 예제의 CustomToolNode와 동일한 역할."
   ]
  },
  {
   "cell_type": "code",
   "execution_count": 53,
   "id": "26853496",
   "metadata": {},
   "outputs": [
    {
     "data": {
      "text/plain": [
       "<langgraph.graph.state.StateGraph at 0x2d4a2ca7e30>"
      ]
     },
     "execution_count": 53,
     "metadata": {},
     "output_type": "execute_result"
    }
   ],
   "source": [
    "from langgraph.prebuilt import tools_condition # custom_tools_condition 함수와 동일한 역할. \n",
    "\n",
    "# Graph 구성\n",
    "workflow = StateGraph(State)\n",
    "\n",
    "# 노드 추가\n",
    "workflow.add_node(\"chatbot\", chatbot_node)\n",
    "workflow.add_node(\"tools\", tool_node)\n",
    "\n",
    "# 엣지 연결\n",
    "workflow.add_edge(START, \"chatbot\")\n",
    "# chatbot -(tool_calls 여부에 따라)-> END | tool_node (분기 -> add_conditional_edges() 사용)\n",
    "workflow.add_conditional_edges(\"chatbot\", tools_condition, {\"tools\":\"tools\", END:END}) \n",
    "# tools_condition에 툴 이름을 주었을 때 -> 조건부 분기\n",
    "workflow.add_edge(\"tools\", \"chatbot\")"
   ]
  },
  {
   "cell_type": "markdown",
   "id": "f2e0f3e1",
   "metadata": {},
   "source": [
    "`workflow.add_conditional_edges(\"chatbot\", tools_condition, {\"tools\":\"tools\", END:END})`: chatbot -> tool이나 END\n",
    "\n",
    "`workflow.add_edge(\"tools\", \"chatbot\")`: 만약 tools로 갔다면 -> 다시 chatbot으로\n",
    "\n",
    "chatbot->tools->chatbot->tools->.. 무한 반복이 되지 않게 넣어주는 조건이 `tools_condition`"
   ]
  },
  {
   "cell_type": "markdown",
   "id": "068d74cf",
   "metadata": {},
   "source": []
  },
  {
   "cell_type": "code",
   "execution_count": 54,
   "id": "bd9877a8",
   "metadata": {},
   "outputs": [],
   "source": [
    "# 그래프 컴파일 + checkpointer를 설정: 대화 내역을 저장 관리.\n",
    "checkpointer = MemorySaver()\n",
    "graph = workflow.compile(checkpointer=checkpointer)"
   ]
  },
  {
   "cell_type": "code",
   "execution_count": 55,
   "id": "ff9c8f8f",
   "metadata": {},
   "outputs": [
    {
     "data": {
      "image/png": "[encoded data removed]",
      "text/plain": [
       "<IPython.core.display.Image object>"
      ]
     },
     "execution_count": 55,
     "metadata": {},
     "output_type": "execute_result"
    }
   ],
   "source": [
    "## 시각화\n",
    "from IPython.display import Image\n",
    "Image(graph.get_graph().draw_mermaid_png())"
   ]
  },
  {
   "cell_type": "code",
   "execution_count": 56,
   "id": "297e1dfe",
   "metadata": {},
   "outputs": [],
   "source": [
    "# 호출(invoke) -> 대화 ID를 config로 전달.\n",
    "config = {\"configurable\":{\"thread_id\":\"user-1\"}} # [1]\n",
    "user_input = \"내 이름은 홍길동입니다.\"\n",
    "init_state = {\"messages\": [HumanMessage(content=user_input)]}\n",
    "response = graph.invoke(init_state, config=config)"
   ]
  },
  {
   "cell_type": "markdown",
   "id": "39c2aa28",
   "metadata": {},
   "source": [
    "[1] runnable에게 전달해주는 값이다 => 딕셔너리를 씀. 전달해주는 값이 딕셔너리라서 딕셔너리 안에 딕셔너리가 있는 거임."
   ]
  },
  {
   "cell_type": "code",
   "execution_count": 57,
   "id": "993956d0",
   "metadata": {},
   "outputs": [
    {
     "data": {
      "text/plain": [
       "{'messages': [HumanMessage(content='내 이름은 홍길동입니다.', additional_kwargs={}, response_metadata={}, id='8aa50d71-7a85-4b10-83e9-4d19176e4af5'),\n",
       "  AIMessage(content='안녕하세요, 홍길동님! 무엇을 도와드릴까요? 궁금한 점이나 필요한 정보가 있으시면 언제든 말씀해 주세요.', additional_kwargs={'refusal': None}, response_metadata={'token_usage': {'completion_tokens': 33, 'prompt_tokens': 349, 'total_tokens': 382, 'completion_tokens_details': {'accepted_prediction_tokens': 0, 'audio_tokens': 0, 'reasoning_tokens': 0, 'rejected_prediction_tokens': 0}, 'prompt_tokens_details': {'audio_tokens': 0, 'cached_tokens': 0}}, 'model_name': 'gpt-4.1-2025-04-14', 'system_fingerprint': 'fp_b3f1157249', 'id': 'chatcmpl-BlRGtKOpyu7dgJGrazvuctmMwNagI', 'service_tier': 'default', 'finish_reason': 'stop', 'logprobs': None}, id='run--38218c78-3cc9-48e8-8ef6-ab100743920d-0', usage_metadata={'input_tokens': 349, 'output_tokens': 33, 'total_tokens': 382, 'input_token_details': {'audio': 0, 'cache_read': 0}, 'output_token_details': {'audio': 0, 'reasoning': 0}})]}"
      ]
     },
     "execution_count": 57,
     "metadata": {},
     "output_type": "execute_result"
    }
   ],
   "source": [
    "response"
   ]
  },
  {
   "cell_type": "code",
   "execution_count": 58,
   "id": "0565a460",
   "metadata": {},
   "outputs": [],
   "source": [
    "response2 = graph.invoke(\n",
    "    {\"messages\":\"내 이름의 한국 고전 소설이 있는지 확인해줘. 있으면 소개도 부탁해.\"},\n",
    "    config=config # 대화 내역 유지\n",
    "    )\n"
   ]
  },
  {
   "cell_type": "code",
   "execution_count": 59,
   "id": "9928d94b",
   "metadata": {},
   "outputs": [
    {
     "data": {
      "text/plain": [
       "{'messages': [HumanMessage(content='내 이름은 홍길동입니다.', additional_kwargs={}, response_metadata={}, id='8aa50d71-7a85-4b10-83e9-4d19176e4af5'),\n",
       "  AIMessage(content='안녕하세요, 홍길동님! 무엇을 도와드릴까요? 궁금한 점이나 필요한 정보가 있으시면 언제든 말씀해 주세요.', additional_kwargs={'refusal': None}, response_metadata={'token_usage': {'completion_tokens': 33, 'prompt_tokens': 349, 'total_tokens': 382, 'completion_tokens_details': {'accepted_prediction_tokens': 0, 'audio_tokens': 0, 'reasoning_tokens': 0, 'rejected_prediction_tokens': 0}, 'prompt_tokens_details': {'audio_tokens': 0, 'cached_tokens': 0}}, 'model_name': 'gpt-4.1-2025-04-14', 'system_fingerprint': 'fp_b3f1157249', 'id': 'chatcmpl-BlRGtKOpyu7dgJGrazvuctmMwNagI', 'service_tier': 'default', 'finish_reason': 'stop', 'logprobs': None}, id='run--38218c78-3cc9-48e8-8ef6-ab100743920d-0', usage_metadata={'input_tokens': 349, 'output_tokens': 33, 'total_tokens': 382, 'input_token_details': {'audio': 0, 'cache_read': 0}, 'output_token_details': {'audio': 0, 'reasoning': 0}}),\n",
       "  HumanMessage(content='내 이름의 한국 고전 소설이 있는지 확인해줘. 있으면 소개도 부탁해.', additional_kwargs={}, response_metadata={}, id='b9c063f8-021b-4543-a851-460f63ca887e'),\n",
       "  AIMessage(content='', additional_kwargs={'tool_calls': [{'id': 'call_NrKI6efCYUqkik099ovfp9YX', 'function': {'arguments': '{\"query\":\"홍길동 한국 고전 소설\",\"max_results\":3}', 'name': 'search_web'}, 'type': 'function'}], 'refusal': None}, response_metadata={'token_usage': {'completion_tokens': 26, 'prompt_tokens': 699, 'total_tokens': 725, 'completion_tokens_details': {'accepted_prediction_tokens': 0, 'audio_tokens': 0, 'reasoning_tokens': 0, 'rejected_prediction_tokens': 0}, 'prompt_tokens_details': {'audio_tokens': 0, 'cached_tokens': 0}}, 'model_name': 'gpt-4.1-2025-04-14', 'system_fingerprint': 'fp_b3f1157249', 'id': 'chatcmpl-BlRGttHmJ33vvUajW0DlmFihiOjxZ', 'service_tier': 'default', 'finish_reason': 'tool_calls', 'logprobs': None}, id='run--589433e1-0ffa-4cbe-beed-c7e2627f9248-0', tool_calls=[{'name': 'search_web', 'args': {'query': '홍길동 한국 고전 소설', 'max_results': 3}, 'id': 'call_NrKI6efCYUqkik099ovfp9YX', 'type': 'tool_call'}], usage_metadata={'input_tokens': 699, 'output_tokens': 26, 'total_tokens': 725, 'input_token_details': {'audio': 0, 'cache_read': 0}, 'output_token_details': {'audio': 0, 'reasoning': 0}}),\n",
       "  ToolMessage(content='{\"result\": [{\"url\": \"https://encykorea.aks.ac.kr/Article/E0063994\", \"title\": \"홍길동전(洪吉童傳) - 한국민족문화대백과사전\", \"content\": \"「홍길동전」은 조선 중기 허균이 지었다고 전하는 고전소설이다. 홍 판서의 서자로 태어난 홍길동이 신분 차별로 인한 갈등을 극복하고, 활빈당을 조직해 가난한 백성을\", \"score\": 0.829285, \"raw_content\": null}, {\"url\": \"https://lapl.overdrive.com/media/2391290\", \"title\": \"홍길동전 (한국고전소설) - Los Angeles Public Library - OverDrive\", \"content\": \"조선 중기에 허균(許筠)이 지었다고 전하는 고전소설. 허균이 ＜홍길동전＞을 지었다는 기록은 이식(李植)의 ≪택당집 澤堂集≫ 별집(別集) 권15 ＜산록 散錄＞에 전한다.\", \"score\": 0.77589405, \"raw_content\": null}, {\"url\": \"https://namu.wiki/w/%ED%99%8D%EA%B8%B8%EB%8F%99%EC%A0%84\", \"title\": \"홍길동전 - 나무위키\", \"content\": \"\\\\\"허균의 한문소설 \\'홍길동전\\'(1618년 이전)→\\'노혁전\\'(1626년)→한글 소설 \\'홍길동전\\'(1692년 이후) 여전히 허균의 \\'홍길동전\\'이 한글 소설 \\'홍길동전\", \"score\": 0.5737984, \"raw_content\": null}]}', name='search_web', id='20bd71e9-29a2-4700-bbc1-24c377eb247f', tool_call_id='call_NrKI6efCYUqkik099ovfp9YX'),\n",
       "  AIMessage(content='네, 홍길동이라는 이름은 한국 고전 소설인 『홍길동전』에서 유명하게 등장합니다.\\n\\n『홍길동전』은 조선시대 중기의 작가 허균이 지은 것으로 알려져 있으며, 한국 최초의 한글 소설 중 하나로 꼽힙니다. 이 작품은 양반 신분이지만 서자로 태어난 홍길동이 사회의 불합리한 신분제와 불평등에 맞서 싸우고, 활빈당이라는 의적 집단을 이끌어 가난한 백성을 도우며 정의를 실현하는 이야기를 그립니다.\\n\\n「홍길동전」은 신분 차별, 정의, 사회 개혁 등의 주제를 다루고 있으며, 현재까지도 많은 사람들에게 사랑받는 한국 문학의 대표작입니다.\\n\\n더 궁금한 점이나 홍길동전의 줄거리, 등장인물 등에 대한 추가 설명이 필요하다면 말씀해 주세요!', additional_kwargs={'refusal': None}, response_metadata={'token_usage': {'completion_tokens': 206, 'prompt_tokens': 1548, 'total_tokens': 1754, 'completion_tokens_details': {'accepted_prediction_tokens': 0, 'audio_tokens': 0, 'reasoning_tokens': 0, 'rejected_prediction_tokens': 0}, 'prompt_tokens_details': {'audio_tokens': 0, 'cached_tokens': 0}}, 'model_name': 'gpt-4.1-2025-04-14', 'system_fingerprint': 'fp_b3f1157249', 'id': 'chatcmpl-BlRGwr1LxYxCoVlAFvpOiMjQ9L19b', 'service_tier': 'default', 'finish_reason': 'stop', 'logprobs': None}, id='run--7689463c-64f7-4e89-b5a3-cdf476efee2f-0', usage_metadata={'input_tokens': 1548, 'output_tokens': 206, 'total_tokens': 1754, 'input_token_details': {'audio': 0, 'cache_read': 0}, 'output_token_details': {'audio': 0, 'reasoning': 0}})]}"
      ]
     },
     "execution_count": 59,
     "metadata": {},
     "output_type": "execute_result"
    }
   ],
   "source": [
    "response2"
   ]
  },
  {
   "cell_type": "code",
   "execution_count": 61,
   "id": "e2099beb",
   "metadata": {},
   "outputs": [
    {
     "data": {
      "text/plain": [
       "{'messages': [HumanMessage(content='내 이름은 홍길동입니다.', additional_kwargs={}, response_metadata={}, id='8aa50d71-7a85-4b10-83e9-4d19176e4af5'),\n",
       "  AIMessage(content='안녕하세요, 홍길동님! 무엇을 도와드릴까요? 궁금한 점이나 필요한 정보가 있으시면 언제든 말씀해 주세요.', additional_kwargs={'refusal': None}, response_metadata={'token_usage': {'completion_tokens': 33, 'prompt_tokens': 349, 'total_tokens': 382, 'completion_tokens_details': {'accepted_prediction_tokens': 0, 'audio_tokens': 0, 'reasoning_tokens': 0, 'rejected_prediction_tokens': 0}, 'prompt_tokens_details': {'audio_tokens': 0, 'cached_tokens': 0}}, 'model_name': 'gpt-4.1-2025-04-14', 'system_fingerprint': 'fp_b3f1157249', 'id': 'chatcmpl-BlRGtKOpyu7dgJGrazvuctmMwNagI', 'service_tier': 'default', 'finish_reason': 'stop', 'logprobs': None}, id='run--38218c78-3cc9-48e8-8ef6-ab100743920d-0', usage_metadata={'input_tokens': 349, 'output_tokens': 33, 'total_tokens': 382, 'input_token_details': {'audio': 0, 'cache_read': 0}, 'output_token_details': {'audio': 0, 'reasoning': 0}}),\n",
       "  HumanMessage(content='내 이름의 한국 고전 소설이 있는지 확인해줘. 있으면 소개도 부탁해.', additional_kwargs={}, response_metadata={}, id='b9c063f8-021b-4543-a851-460f63ca887e'),\n",
       "  AIMessage(content='', additional_kwargs={'tool_calls': [{'id': 'call_NrKI6efCYUqkik099ovfp9YX', 'function': {'arguments': '{\"query\":\"홍길동 한국 고전 소설\",\"max_results\":3}', 'name': 'search_web'}, 'type': 'function'}], 'refusal': None}, response_metadata={'token_usage': {'completion_tokens': 26, 'prompt_tokens': 699, 'total_tokens': 725, 'completion_tokens_details': {'accepted_prediction_tokens': 0, 'audio_tokens': 0, 'reasoning_tokens': 0, 'rejected_prediction_tokens': 0}, 'prompt_tokens_details': {'audio_tokens': 0, 'cached_tokens': 0}}, 'model_name': 'gpt-4.1-2025-04-14', 'system_fingerprint': 'fp_b3f1157249', 'id': 'chatcmpl-BlRGttHmJ33vvUajW0DlmFihiOjxZ', 'service_tier': 'default', 'finish_reason': 'tool_calls', 'logprobs': None}, id='run--589433e1-0ffa-4cbe-beed-c7e2627f9248-0', tool_calls=[{'name': 'search_web', 'args': {'query': '홍길동 한국 고전 소설', 'max_results': 3}, 'id': 'call_NrKI6efCYUqkik099ovfp9YX', 'type': 'tool_call'}], usage_metadata={'input_tokens': 699, 'output_tokens': 26, 'total_tokens': 725, 'input_token_details': {'audio': 0, 'cache_read': 0}, 'output_token_details': {'audio': 0, 'reasoning': 0}}),\n",
       "  ToolMessage(content='{\"result\": [{\"url\": \"https://encykorea.aks.ac.kr/Article/E0063994\", \"title\": \"홍길동전(洪吉童傳) - 한국민족문화대백과사전\", \"content\": \"「홍길동전」은 조선 중기 허균이 지었다고 전하는 고전소설이다. 홍 판서의 서자로 태어난 홍길동이 신분 차별로 인한 갈등을 극복하고, 활빈당을 조직해 가난한 백성을\", \"score\": 0.829285, \"raw_content\": null}, {\"url\": \"https://lapl.overdrive.com/media/2391290\", \"title\": \"홍길동전 (한국고전소설) - Los Angeles Public Library - OverDrive\", \"content\": \"조선 중기에 허균(許筠)이 지었다고 전하는 고전소설. 허균이 ＜홍길동전＞을 지었다는 기록은 이식(李植)의 ≪택당집 澤堂集≫ 별집(別集) 권15 ＜산록 散錄＞에 전한다.\", \"score\": 0.77589405, \"raw_content\": null}, {\"url\": \"https://namu.wiki/w/%ED%99%8D%EA%B8%B8%EB%8F%99%EC%A0%84\", \"title\": \"홍길동전 - 나무위키\", \"content\": \"\\\\\"허균의 한문소설 \\'홍길동전\\'(1618년 이전)→\\'노혁전\\'(1626년)→한글 소설 \\'홍길동전\\'(1692년 이후) 여전히 허균의 \\'홍길동전\\'이 한글 소설 \\'홍길동전\", \"score\": 0.5737984, \"raw_content\": null}]}', name='search_web', id='20bd71e9-29a2-4700-bbc1-24c377eb247f', tool_call_id='call_NrKI6efCYUqkik099ovfp9YX'),\n",
       "  AIMessage(content='네, 홍길동이라는 이름은 한국 고전 소설인 『홍길동전』에서 유명하게 등장합니다.\\n\\n『홍길동전』은 조선시대 중기의 작가 허균이 지은 것으로 알려져 있으며, 한국 최초의 한글 소설 중 하나로 꼽힙니다. 이 작품은 양반 신분이지만 서자로 태어난 홍길동이 사회의 불합리한 신분제와 불평등에 맞서 싸우고, 활빈당이라는 의적 집단을 이끌어 가난한 백성을 도우며 정의를 실현하는 이야기를 그립니다.\\n\\n「홍길동전」은 신분 차별, 정의, 사회 개혁 등의 주제를 다루고 있으며, 현재까지도 많은 사람들에게 사랑받는 한국 문학의 대표작입니다.\\n\\n더 궁금한 점이나 홍길동전의 줄거리, 등장인물 등에 대한 추가 설명이 필요하다면 말씀해 주세요!', additional_kwargs={'refusal': None}, response_metadata={'token_usage': {'completion_tokens': 206, 'prompt_tokens': 1548, 'total_tokens': 1754, 'completion_tokens_details': {'accepted_prediction_tokens': 0, 'audio_tokens': 0, 'reasoning_tokens': 0, 'rejected_prediction_tokens': 0}, 'prompt_tokens_details': {'audio_tokens': 0, 'cached_tokens': 0}}, 'model_name': 'gpt-4.1-2025-04-14', 'system_fingerprint': 'fp_b3f1157249', 'id': 'chatcmpl-BlRGwr1LxYxCoVlAFvpOiMjQ9L19b', 'service_tier': 'default', 'finish_reason': 'stop', 'logprobs': None}, id='run--7689463c-64f7-4e89-b5a3-cdf476efee2f-0', usage_metadata={'input_tokens': 1548, 'output_tokens': 206, 'total_tokens': 1754, 'input_token_details': {'audio': 0, 'cache_read': 0}, 'output_token_details': {'audio': 0, 'reasoning': 0}}),\n",
       "  HumanMessage(content='독산동에 맛있는 파스타집 추천해줘.', additional_kwargs={}, response_metadata={}, id='b9ea9c8b-d340-4f31-aa10-0ecd3a11afd7'),\n",
       "  AIMessage(content='', additional_kwargs={'tool_calls': [{'id': 'call_nJN7dANztPP2AszQKRsSiZpi', 'function': {'arguments': '{\"query\":\"독산동 파스타 맛집 추천\",\"max_results\":3}', 'name': 'search_web'}, 'type': 'function'}], 'refusal': None}, response_metadata={'token_usage': {'completion_tokens': 26, 'prompt_tokens': 2079, 'total_tokens': 2105, 'completion_tokens_details': {'accepted_prediction_tokens': 0, 'audio_tokens': 0, 'reasoning_tokens': 0, 'rejected_prediction_tokens': 0}, 'prompt_tokens_details': {'audio_tokens': 0, 'cached_tokens': 0}}, 'model_name': 'gpt-4.1-2025-04-14', 'system_fingerprint': 'fp_b3f1157249', 'id': 'chatcmpl-BlRJMim0Rz5WdHhvyeU1YqMIydIWZ', 'service_tier': 'default', 'finish_reason': 'tool_calls', 'logprobs': None}, id='run--56bc165c-2335-42df-b84d-bf82fd1ad70e-0', tool_calls=[{'name': 'search_web', 'args': {'query': '독산동 파스타 맛집 추천', 'max_results': 3}, 'id': 'call_nJN7dANztPP2AszQKRsSiZpi', 'type': 'tool_call'}], usage_metadata={'input_tokens': 2079, 'output_tokens': 26, 'total_tokens': 2105, 'input_token_details': {'audio': 0, 'cache_read': 0}, 'output_token_details': {'audio': 0, 'reasoning': 0}}),\n",
       "  ToolMessage(content='{\"result\": [{\"url\": \"https://www.diningcode.com/list.dc?query=%EB%8F%85%EC%82%B0%20%ED%8C%8C%EC%8A%A4%ED%83%80\", \"title\": \"\\'독산 파스타\\' 맛집 빅데이터 추천순위 Top35 - 다이닝코드\", \"content\": \"독산 파스타맛집 (35곳) · 1. 벨 구스토 독산동 · 2. 웰던 독산동 · 3. 한남동 파스타 금천구 · 4. 미들루프 독산동 · 5. 마드레파스타 독산동 · 6. 라티시크릿셰프 독산동.\", \"score\": 0.915091, \"raw_content\": null}, {\"url\": \"https://www.diningcode.com/list.dc?query=%EB%8F%85%EC%82%B0%EC%97%AD+%ED%8C%8C%EC%8A%A4%ED%83%80\", \"title\": \"\\'독산역 파스타\\' 맛집 빅데이터 추천순위 Top19 - 다이닝코드\", \"content\": \"독산역 파스타맛집 (19곳) · 1. 한남동 파스타 금천구 · 2. 마드레파스타 독산동 · 3. 37.5 가산 THE G NATION점 · 4. 불불 독산동 · 5. 옐로우피자 금천구청점 · 6. 술술\", \"score\": 0.8965509, \"raw_content\": null}, {\"url\": \"https://blog.naver.com/kkk9510/223442240602?viewType=pc\", \"title\": \"금천구 독산동 파스타,스튜 양식 맛집 [웰던] 추천 : 네이버 블로그\", \"content\": \"엄청 큰 파스타집은 아니지만 아기자기하게 꾸며져있었어요! . 웰던이라는 간판이 너무 귀엽게 되어있었는데. . 저 간판을 보고 찾아오시면 될\", \"score\": 0.7610953, \"raw_content\": null}]}', name='search_web', id='7be4ad79-6bc3-437e-a711-5527a517d68f', tool_call_id='call_nJN7dANztPP2AszQKRsSiZpi'),\n",
       "  AIMessage(content='독산동에 위치한 인기 파스타집을 추천해드릴게요!\\n\\n1. 벨 구스토 독산동  \\n독산동에서 파스타 맛집으로 꾸준히 사랑받는 곳이에요. 분위기도 좋고 다양한 파스타를 맛볼 수 있습니다.\\n\\n2. 웰던 독산동  \\n아기자기한 인테리어와 정성스러운 파스타가 인기인 곳입니다. 양식과 스튜 메뉴도 함께 즐길 수 있어요. 실제로 방문한 분들의 블로그 후기도 많아서 참고하시면 좋아요!  \\n[웰던 독산동 후기 보기](https://blog.naver.com/kkk9510/223442240602?viewType=pc)\\n\\n3. 마드레파스타 독산동  \\n깔끔한 맛과 넉넉한 양으로 인기가 많아요. 친구나 가족이랑 가기에도 무척 좋은 곳입니다.\\n\\n이 외에도 다양한 파스타집이 있으니, 자세한 순위와 후기가 궁금하다면 [다이닝코드 독산동 파스타 맛집 리스트](https://www.diningcode.com/list.dc?query=%EB%8F%85%EC%82%B0%20%ED%8C%8C%EC%8A%A4%ED%83%80)를 참고해보시는 것도 추천해드려요.\\n\\n어떤 스타일의 파스타를 좋아하시는지 말씀해주시면 더욱 구체적으로 안내해드릴 수도 있습니다!', additional_kwargs={'refusal': None}, response_metadata={'token_usage': {'completion_tokens': 321, 'prompt_tokens': 3033, 'total_tokens': 3354, 'completion_tokens_details': {'accepted_prediction_tokens': 0, 'audio_tokens': 0, 'reasoning_tokens': 0, 'rejected_prediction_tokens': 0}, 'prompt_tokens_details': {'audio_tokens': 0, 'cached_tokens': 2048}}, 'model_name': 'gpt-4.1-2025-04-14', 'system_fingerprint': 'fp_b3f1157249', 'id': 'chatcmpl-BlRJPPt2HgONxFEqovkJW6Z7UpDG6', 'service_tier': 'default', 'finish_reason': 'stop', 'logprobs': None}, id='run--d590faa7-6455-40c3-9c8e-57e8192281b4-0', usage_metadata={'input_tokens': 3033, 'output_tokens': 321, 'total_tokens': 3354, 'input_token_details': {'audio': 0, 'cache_read': 2048}, 'output_token_details': {'audio': 0, 'reasoning': 0}})]}"
      ]
     },
     "execution_count": 61,
     "metadata": {},
     "output_type": "execute_result"
    }
   ],
   "source": [
    "response3 = graph.invoke(\n",
    "    {\"messages\":\"독산동에 맛있는 파스타집 추천해줘.\"},\n",
    "    config=config\n",
    "    )\n",
    "response3"
   ]
  },
  {
   "cell_type": "markdown",
   "id": "d92ef81d",
   "metadata": {},
   "source": [
    "ToolMessage가 있다는 것 == tool을 썼다는 것."
   ]
  },
  {
   "cell_type": "code",
   "execution_count": 62,
   "id": "348832e4",
   "metadata": {},
   "outputs": [
    {
     "data": {
      "text/plain": [
       "{'messages': [HumanMessage(content='내 이름은 홍길동입니다.', additional_kwargs={}, response_metadata={}, id='8aa50d71-7a85-4b10-83e9-4d19176e4af5'),\n",
       "  AIMessage(content='안녕하세요, 홍길동님! 무엇을 도와드릴까요? 궁금한 점이나 필요한 정보가 있으시면 언제든 말씀해 주세요.', additional_kwargs={'refusal': None}, response_metadata={'token_usage': {'completion_tokens': 33, 'prompt_tokens': 349, 'total_tokens': 382, 'completion_tokens_details': {'accepted_prediction_tokens': 0, 'audio_tokens': 0, 'reasoning_tokens': 0, 'rejected_prediction_tokens': 0}, 'prompt_tokens_details': {'audio_tokens': 0, 'cached_tokens': 0}}, 'model_name': 'gpt-4.1-2025-04-14', 'system_fingerprint': 'fp_b3f1157249', 'id': 'chatcmpl-BlRGtKOpyu7dgJGrazvuctmMwNagI', 'service_tier': 'default', 'finish_reason': 'stop', 'logprobs': None}, id='run--38218c78-3cc9-48e8-8ef6-ab100743920d-0', usage_metadata={'input_tokens': 349, 'output_tokens': 33, 'total_tokens': 382, 'input_token_details': {'audio': 0, 'cache_read': 0}, 'output_token_details': {'audio': 0, 'reasoning': 0}}),\n",
       "  HumanMessage(content='내 이름의 한국 고전 소설이 있는지 확인해줘. 있으면 소개도 부탁해.', additional_kwargs={}, response_metadata={}, id='b9c063f8-021b-4543-a851-460f63ca887e'),\n",
       "  AIMessage(content='', additional_kwargs={'tool_calls': [{'id': 'call_NrKI6efCYUqkik099ovfp9YX', 'function': {'arguments': '{\"query\":\"홍길동 한국 고전 소설\",\"max_results\":3}', 'name': 'search_web'}, 'type': 'function'}], 'refusal': None}, response_metadata={'token_usage': {'completion_tokens': 26, 'prompt_tokens': 699, 'total_tokens': 725, 'completion_tokens_details': {'accepted_prediction_tokens': 0, 'audio_tokens': 0, 'reasoning_tokens': 0, 'rejected_prediction_tokens': 0}, 'prompt_tokens_details': {'audio_tokens': 0, 'cached_tokens': 0}}, 'model_name': 'gpt-4.1-2025-04-14', 'system_fingerprint': 'fp_b3f1157249', 'id': 'chatcmpl-BlRGttHmJ33vvUajW0DlmFihiOjxZ', 'service_tier': 'default', 'finish_reason': 'tool_calls', 'logprobs': None}, id='run--589433e1-0ffa-4cbe-beed-c7e2627f9248-0', tool_calls=[{'name': 'search_web', 'args': {'query': '홍길동 한국 고전 소설', 'max_results': 3}, 'id': 'call_NrKI6efCYUqkik099ovfp9YX', 'type': 'tool_call'}], usage_metadata={'input_tokens': 699, 'output_tokens': 26, 'total_tokens': 725, 'input_token_details': {'audio': 0, 'cache_read': 0}, 'output_token_details': {'audio': 0, 'reasoning': 0}}),\n",
       "  ToolMessage(content='{\"result\": [{\"url\": \"https://encykorea.aks.ac.kr/Article/E0063994\", \"title\": \"홍길동전(洪吉童傳) - 한국민족문화대백과사전\", \"content\": \"「홍길동전」은 조선 중기 허균이 지었다고 전하는 고전소설이다. 홍 판서의 서자로 태어난 홍길동이 신분 차별로 인한 갈등을 극복하고, 활빈당을 조직해 가난한 백성을\", \"score\": 0.829285, \"raw_content\": null}, {\"url\": \"https://lapl.overdrive.com/media/2391290\", \"title\": \"홍길동전 (한국고전소설) - Los Angeles Public Library - OverDrive\", \"content\": \"조선 중기에 허균(許筠)이 지었다고 전하는 고전소설. 허균이 ＜홍길동전＞을 지었다는 기록은 이식(李植)의 ≪택당집 澤堂集≫ 별집(別集) 권15 ＜산록 散錄＞에 전한다.\", \"score\": 0.77589405, \"raw_content\": null}, {\"url\": \"https://namu.wiki/w/%ED%99%8D%EA%B8%B8%EB%8F%99%EC%A0%84\", \"title\": \"홍길동전 - 나무위키\", \"content\": \"\\\\\"허균의 한문소설 \\'홍길동전\\'(1618년 이전)→\\'노혁전\\'(1626년)→한글 소설 \\'홍길동전\\'(1692년 이후) 여전히 허균의 \\'홍길동전\\'이 한글 소설 \\'홍길동전\", \"score\": 0.5737984, \"raw_content\": null}]}', name='search_web', id='20bd71e9-29a2-4700-bbc1-24c377eb247f', tool_call_id='call_NrKI6efCYUqkik099ovfp9YX'),\n",
       "  AIMessage(content='네, 홍길동이라는 이름은 한국 고전 소설인 『홍길동전』에서 유명하게 등장합니다.\\n\\n『홍길동전』은 조선시대 중기의 작가 허균이 지은 것으로 알려져 있으며, 한국 최초의 한글 소설 중 하나로 꼽힙니다. 이 작품은 양반 신분이지만 서자로 태어난 홍길동이 사회의 불합리한 신분제와 불평등에 맞서 싸우고, 활빈당이라는 의적 집단을 이끌어 가난한 백성을 도우며 정의를 실현하는 이야기를 그립니다.\\n\\n「홍길동전」은 신분 차별, 정의, 사회 개혁 등의 주제를 다루고 있으며, 현재까지도 많은 사람들에게 사랑받는 한국 문학의 대표작입니다.\\n\\n더 궁금한 점이나 홍길동전의 줄거리, 등장인물 등에 대한 추가 설명이 필요하다면 말씀해 주세요!', additional_kwargs={'refusal': None}, response_metadata={'token_usage': {'completion_tokens': 206, 'prompt_tokens': 1548, 'total_tokens': 1754, 'completion_tokens_details': {'accepted_prediction_tokens': 0, 'audio_tokens': 0, 'reasoning_tokens': 0, 'rejected_prediction_tokens': 0}, 'prompt_tokens_details': {'audio_tokens': 0, 'cached_tokens': 0}}, 'model_name': 'gpt-4.1-2025-04-14', 'system_fingerprint': 'fp_b3f1157249', 'id': 'chatcmpl-BlRGwr1LxYxCoVlAFvpOiMjQ9L19b', 'service_tier': 'default', 'finish_reason': 'stop', 'logprobs': None}, id='run--7689463c-64f7-4e89-b5a3-cdf476efee2f-0', usage_metadata={'input_tokens': 1548, 'output_tokens': 206, 'total_tokens': 1754, 'input_token_details': {'audio': 0, 'cache_read': 0}, 'output_token_details': {'audio': 0, 'reasoning': 0}}),\n",
       "  HumanMessage(content='독산동에 맛있는 파스타집 추천해줘.', additional_kwargs={}, response_metadata={}, id='b9ea9c8b-d340-4f31-aa10-0ecd3a11afd7'),\n",
       "  AIMessage(content='', additional_kwargs={'tool_calls': [{'id': 'call_nJN7dANztPP2AszQKRsSiZpi', 'function': {'arguments': '{\"query\":\"독산동 파스타 맛집 추천\",\"max_results\":3}', 'name': 'search_web'}, 'type': 'function'}], 'refusal': None}, response_metadata={'token_usage': {'completion_tokens': 26, 'prompt_tokens': 2079, 'total_tokens': 2105, 'completion_tokens_details': {'accepted_prediction_tokens': 0, 'audio_tokens': 0, 'reasoning_tokens': 0, 'rejected_prediction_tokens': 0}, 'prompt_tokens_details': {'audio_tokens': 0, 'cached_tokens': 0}}, 'model_name': 'gpt-4.1-2025-04-14', 'system_fingerprint': 'fp_b3f1157249', 'id': 'chatcmpl-BlRJMim0Rz5WdHhvyeU1YqMIydIWZ', 'service_tier': 'default', 'finish_reason': 'tool_calls', 'logprobs': None}, id='run--56bc165c-2335-42df-b84d-bf82fd1ad70e-0', tool_calls=[{'name': 'search_web', 'args': {'query': '독산동 파스타 맛집 추천', 'max_results': 3}, 'id': 'call_nJN7dANztPP2AszQKRsSiZpi', 'type': 'tool_call'}], usage_metadata={'input_tokens': 2079, 'output_tokens': 26, 'total_tokens': 2105, 'input_token_details': {'audio': 0, 'cache_read': 0}, 'output_token_details': {'audio': 0, 'reasoning': 0}}),\n",
       "  ToolMessage(content='{\"result\": [{\"url\": \"https://www.diningcode.com/list.dc?query=%EB%8F%85%EC%82%B0%20%ED%8C%8C%EC%8A%A4%ED%83%80\", \"title\": \"\\'독산 파스타\\' 맛집 빅데이터 추천순위 Top35 - 다이닝코드\", \"content\": \"독산 파스타맛집 (35곳) · 1. 벨 구스토 독산동 · 2. 웰던 독산동 · 3. 한남동 파스타 금천구 · 4. 미들루프 독산동 · 5. 마드레파스타 독산동 · 6. 라티시크릿셰프 독산동.\", \"score\": 0.915091, \"raw_content\": null}, {\"url\": \"https://www.diningcode.com/list.dc?query=%EB%8F%85%EC%82%B0%EC%97%AD+%ED%8C%8C%EC%8A%A4%ED%83%80\", \"title\": \"\\'독산역 파스타\\' 맛집 빅데이터 추천순위 Top19 - 다이닝코드\", \"content\": \"독산역 파스타맛집 (19곳) · 1. 한남동 파스타 금천구 · 2. 마드레파스타 독산동 · 3. 37.5 가산 THE G NATION점 · 4. 불불 독산동 · 5. 옐로우피자 금천구청점 · 6. 술술\", \"score\": 0.8965509, \"raw_content\": null}, {\"url\": \"https://blog.naver.com/kkk9510/223442240602?viewType=pc\", \"title\": \"금천구 독산동 파스타,스튜 양식 맛집 [웰던] 추천 : 네이버 블로그\", \"content\": \"엄청 큰 파스타집은 아니지만 아기자기하게 꾸며져있었어요! . 웰던이라는 간판이 너무 귀엽게 되어있었는데. . 저 간판을 보고 찾아오시면 될\", \"score\": 0.7610953, \"raw_content\": null}]}', name='search_web', id='7be4ad79-6bc3-437e-a711-5527a517d68f', tool_call_id='call_nJN7dANztPP2AszQKRsSiZpi'),\n",
       "  AIMessage(content='독산동에 위치한 인기 파스타집을 추천해드릴게요!\\n\\n1. 벨 구스토 독산동  \\n독산동에서 파스타 맛집으로 꾸준히 사랑받는 곳이에요. 분위기도 좋고 다양한 파스타를 맛볼 수 있습니다.\\n\\n2. 웰던 독산동  \\n아기자기한 인테리어와 정성스러운 파스타가 인기인 곳입니다. 양식과 스튜 메뉴도 함께 즐길 수 있어요. 실제로 방문한 분들의 블로그 후기도 많아서 참고하시면 좋아요!  \\n[웰던 독산동 후기 보기](https://blog.naver.com/kkk9510/223442240602?viewType=pc)\\n\\n3. 마드레파스타 독산동  \\n깔끔한 맛과 넉넉한 양으로 인기가 많아요. 친구나 가족이랑 가기에도 무척 좋은 곳입니다.\\n\\n이 외에도 다양한 파스타집이 있으니, 자세한 순위와 후기가 궁금하다면 [다이닝코드 독산동 파스타 맛집 리스트](https://www.diningcode.com/list.dc?query=%EB%8F%85%EC%82%B0%20%ED%8C%8C%EC%8A%A4%ED%83%80)를 참고해보시는 것도 추천해드려요.\\n\\n어떤 스타일의 파스타를 좋아하시는지 말씀해주시면 더욱 구체적으로 안내해드릴 수도 있습니다!', additional_kwargs={'refusal': None}, response_metadata={'token_usage': {'completion_tokens': 321, 'prompt_tokens': 3033, 'total_tokens': 3354, 'completion_tokens_details': {'accepted_prediction_tokens': 0, 'audio_tokens': 0, 'reasoning_tokens': 0, 'rejected_prediction_tokens': 0}, 'prompt_tokens_details': {'audio_tokens': 0, 'cached_tokens': 2048}}, 'model_name': 'gpt-4.1-2025-04-14', 'system_fingerprint': 'fp_b3f1157249', 'id': 'chatcmpl-BlRJPPt2HgONxFEqovkJW6Z7UpDG6', 'service_tier': 'default', 'finish_reason': 'stop', 'logprobs': None}, id='run--d590faa7-6455-40c3-9c8e-57e8192281b4-0', usage_metadata={'input_tokens': 3033, 'output_tokens': 321, 'total_tokens': 3354, 'input_token_details': {'audio': 0, 'cache_read': 2048}, 'output_token_details': {'audio': 0, 'reasoning': 0}}),\n",
       "  HumanMessage(content='두번째 식당 전화번호 알려줘.', additional_kwargs={}, response_metadata={}, id='d27a4acb-c8eb-42a9-bdfc-cda899d662c6'),\n",
       "  AIMessage(content='', additional_kwargs={'tool_calls': [{'id': 'call_QmTZGlAqeDS6E4IbjupbFKiH', 'function': {'arguments': '{\"query\":\"독산동 웰던 파스타집 전화번호\",\"max_results\":2}', 'name': 'search_web'}, 'type': 'function'}], 'refusal': None}, response_metadata={'token_usage': {'completion_tokens': 29, 'prompt_tokens': 3690, 'total_tokens': 3719, 'completion_tokens_details': {'accepted_prediction_tokens': 0, 'audio_tokens': 0, 'reasoning_tokens': 0, 'rejected_prediction_tokens': 0}, 'prompt_tokens_details': {'audio_tokens': 0, 'cached_tokens': 2944}}, 'model_name': 'gpt-4.1-2025-04-14', 'system_fingerprint': 'fp_b3f1157249', 'id': 'chatcmpl-BlRL1UqJmLEnLNBM1y5L07Mfrn3MI', 'service_tier': 'default', 'finish_reason': 'tool_calls', 'logprobs': None}, id='run--8e72b7c0-34af-415e-a5ab-acd35216853f-0', tool_calls=[{'name': 'search_web', 'args': {'query': '독산동 웰던 파스타집 전화번호', 'max_results': 2}, 'id': 'call_QmTZGlAqeDS6E4IbjupbFKiH', 'type': 'tool_call'}], usage_metadata={'input_tokens': 3690, 'output_tokens': 29, 'total_tokens': 3719, 'input_token_details': {'audio': 0, 'cache_read': 2944}, 'output_token_details': {'audio': 0, 'reasoning': 0}}),\n",
       "  ToolMessage(content='{\"result\": [{\"url\": \"https://blog.naver.com/janguh30/222449584308\", \"title\": \"[금천] 독산동 파스타 맛집 웰던(Well Done) : 네이버 블로그\", \"content\": \"위치 : 서울시 금천구 남부순환로 128길 15 · \\u200b · [운영시간] · 17:00 ~ 22:00 · 첫째 셋째주 일요일 휴무 · \\u200b · [연락처] · 0507-1318-5236.\", \"score\": 0.9197076, \"raw_content\": null}, {\"url\": \"https://blog.naver.com/bolil/223449091540?viewType=pc\", \"title\": \"독산동맛집 파스타 피자 인상적이였던 웰던 : 네이버 블로그\", \"content\": \"주소 : 서울 금천구 남부순환로128길 15 1층 · 영업시간 : 매일 11:30 - 22:00 · * 15:00 - 16:00 브레이크타임 · 전화번호 : 0507-1318-5236 · \\u200b.\", \"score\": 0.90593183, \"raw_content\": null}]}', name='search_web', id='38595349-47b4-4c2c-8cbb-754935d2ce83', tool_call_id='call_QmTZGlAqeDS6E4IbjupbFKiH'),\n",
       "  AIMessage(content=\"독산동에 있는 파스타집 '웰던(Well Done)'의 전화번호는 아래와 같습니다.\\n\\n- 전화번호: 0507-1318-5236\\n\\n위치와 영업시간 등 더 궁금한 점 있으시면 언제든 말씀해 주세요!\", additional_kwargs={'refusal': None}, response_metadata={'token_usage': {'completion_tokens': 59, 'prompt_tokens': 4443, 'total_tokens': 4502, 'completion_tokens_details': {'accepted_prediction_tokens': 0, 'audio_tokens': 0, 'reasoning_tokens': 0, 'rejected_prediction_tokens': 0}, 'prompt_tokens_details': {'audio_tokens': 0, 'cached_tokens': 3584}}, 'model_name': 'gpt-4.1-2025-04-14', 'system_fingerprint': 'fp_b3f1157249', 'id': 'chatcmpl-BlRL6rKq7gdSTUmoOppyYXUjEnNDR', 'service_tier': 'default', 'finish_reason': 'stop', 'logprobs': None}, id='run--b88b6092-1996-4979-9a6a-eb9af3459391-0', usage_metadata={'input_tokens': 4443, 'output_tokens': 59, 'total_tokens': 4502, 'input_token_details': {'audio': 0, 'cache_read': 3584}, 'output_token_details': {'audio': 0, 'reasoning': 0}})]}"
      ]
     },
     "execution_count": 62,
     "metadata": {},
     "output_type": "execute_result"
    }
   ],
   "source": [
    "response4 = graph.invoke(\n",
    "    {\"messages\":\"두번째 식당 전화번호 알려줘.\"},\n",
    "    config=config\n",
    "    )\n",
    "response4"
   ]
  },
  {
   "cell_type": "code",
   "execution_count": 64,
   "id": "0ec1d0b6",
   "metadata": {},
   "outputs": [
    {
     "data": {
      "text/plain": [
       "{'messages': [HumanMessage(content='내 이름 뭔지 기억해?', additional_kwargs={}, response_metadata={}, id='37c78ec0-4539-4b06-9140-d95f137228a0'),\n",
       "  AIMessage(content='아쉽게도 저는 이전 대화에서 사용자의 이름을 저장하거나 기억하지 않아요. 혹시 이름을 다시 알려주실 수 있을까요? 알려주시면 더 친근하게 불러드릴 수 있어요!', additional_kwargs={'refusal': None}, response_metadata={'token_usage': {'completion_tokens': 48, 'prompt_tokens': 345, 'total_tokens': 393, 'completion_tokens_details': {'accepted_prediction_tokens': 0, 'audio_tokens': 0, 'reasoning_tokens': 0, 'rejected_prediction_tokens': 0}, 'prompt_tokens_details': {'audio_tokens': 0, 'cached_tokens': 0}}, 'model_name': 'gpt-4.1-2025-04-14', 'system_fingerprint': 'fp_b3f1157249', 'id': 'chatcmpl-BlRN8u5zlp6YPnbMelGzE2EeqOM6Z', 'service_tier': 'default', 'finish_reason': 'stop', 'logprobs': None}, id='run--c47f55b1-d21a-4b93-8588-ed60fa25c49b-0', usage_metadata={'input_tokens': 345, 'output_tokens': 48, 'total_tokens': 393, 'input_token_details': {'audio': 0, 'cache_read': 0}, 'output_token_details': {'audio': 0, 'reasoning': 0}}),\n",
       "  HumanMessage(content='내 이름 뭔지 기억해?', additional_kwargs={}, response_metadata={}, id='b23af04a-ac84-4776-afe4-558f22cc06ba'),\n",
       "  AIMessage(content='아쉽게도 저는 사용자의 이름이나 이전 대화 내용을 기억하지 않습니다. 개인정보 보호와 보안을 위해 대화 내용은 저장되지 않거든요. 이름을 다시 알려주시면, 앞으로 대화에서 더 친근하게 불러드릴 수 있어요! 알려주실래요? 😊', additional_kwargs={'refusal': None}, response_metadata={'token_usage': {'completion_tokens': 65, 'prompt_tokens': 701, 'total_tokens': 766, 'completion_tokens_details': {'accepted_prediction_tokens': 0, 'audio_tokens': 0, 'reasoning_tokens': 0, 'rejected_prediction_tokens': 0}, 'prompt_tokens_details': {'audio_tokens': 0, 'cached_tokens': 0}}, 'model_name': 'gpt-4.1-2025-04-14', 'system_fingerprint': 'fp_b3f1157249', 'id': 'chatcmpl-BlRNBvkwkrUQADfSFtkB6ZA3OCnjo', 'service_tier': 'default', 'finish_reason': 'stop', 'logprobs': None}, id='run--dd6171b8-3771-46a3-b577-57fe2181f975-0', usage_metadata={'input_tokens': 701, 'output_tokens': 65, 'total_tokens': 766, 'input_token_details': {'audio': 0, 'cache_read': 0}, 'output_token_details': {'audio': 0, 'reasoning': 0}})]}"
      ]
     },
     "execution_count": 64,
     "metadata": {},
     "output_type": "execute_result"
    }
   ],
   "source": [
    "config2 = {\"configurable\": {\"thread_id\":\"test1111\"}}\n",
    "res = graph.invoke({\"messages\":\"내 이름 뭔지 기억해?\"}, config=config2)\n",
    "res"
   ]
  },
  {
   "cell_type": "markdown",
   "id": "06318db4",
   "metadata": {},
   "source": [
    "대화 아이디가 다름 => 새로운 대화가 되는 거다!"
   ]
  },
  {
   "cell_type": "code",
   "execution_count": 65,
   "id": "9b945bbf",
   "metadata": {},
   "outputs": [
    {
     "data": {
      "text/plain": [
       "{'messages': [HumanMessage(content='내 이름은 홍길동입니다.', additional_kwargs={}, response_metadata={}, id='8aa50d71-7a85-4b10-83e9-4d19176e4af5'),\n",
       "  AIMessage(content='안녕하세요, 홍길동님! 무엇을 도와드릴까요? 궁금한 점이나 필요한 정보가 있으시면 언제든 말씀해 주세요.', additional_kwargs={'refusal': None}, response_metadata={'token_usage': {'completion_tokens': 33, 'prompt_tokens': 349, 'total_tokens': 382, 'completion_tokens_details': {'accepted_prediction_tokens': 0, 'audio_tokens': 0, 'reasoning_tokens': 0, 'rejected_prediction_tokens': 0}, 'prompt_tokens_details': {'audio_tokens': 0, 'cached_tokens': 0}}, 'model_name': 'gpt-4.1-2025-04-14', 'system_fingerprint': 'fp_b3f1157249', 'id': 'chatcmpl-BlRGtKOpyu7dgJGrazvuctmMwNagI', 'service_tier': 'default', 'finish_reason': 'stop', 'logprobs': None}, id='run--38218c78-3cc9-48e8-8ef6-ab100743920d-0', usage_metadata={'input_tokens': 349, 'output_tokens': 33, 'total_tokens': 382, 'input_token_details': {'audio': 0, 'cache_read': 0}, 'output_token_details': {'audio': 0, 'reasoning': 0}}),\n",
       "  HumanMessage(content='내 이름의 한국 고전 소설이 있는지 확인해줘. 있으면 소개도 부탁해.', additional_kwargs={}, response_metadata={}, id='b9c063f8-021b-4543-a851-460f63ca887e'),\n",
       "  AIMessage(content='', additional_kwargs={'tool_calls': [{'id': 'call_NrKI6efCYUqkik099ovfp9YX', 'function': {'arguments': '{\"query\":\"홍길동 한국 고전 소설\",\"max_results\":3}', 'name': 'search_web'}, 'type': 'function'}], 'refusal': None}, response_metadata={'token_usage': {'completion_tokens': 26, 'prompt_tokens': 699, 'total_tokens': 725, 'completion_tokens_details': {'accepted_prediction_tokens': 0, 'audio_tokens': 0, 'reasoning_tokens': 0, 'rejected_prediction_tokens': 0}, 'prompt_tokens_details': {'audio_tokens': 0, 'cached_tokens': 0}}, 'model_name': 'gpt-4.1-2025-04-14', 'system_fingerprint': 'fp_b3f1157249', 'id': 'chatcmpl-BlRGttHmJ33vvUajW0DlmFihiOjxZ', 'service_tier': 'default', 'finish_reason': 'tool_calls', 'logprobs': None}, id='run--589433e1-0ffa-4cbe-beed-c7e2627f9248-0', tool_calls=[{'name': 'search_web', 'args': {'query': '홍길동 한국 고전 소설', 'max_results': 3}, 'id': 'call_NrKI6efCYUqkik099ovfp9YX', 'type': 'tool_call'}], usage_metadata={'input_tokens': 699, 'output_tokens': 26, 'total_tokens': 725, 'input_token_details': {'audio': 0, 'cache_read': 0}, 'output_token_details': {'audio': 0, 'reasoning': 0}}),\n",
       "  ToolMessage(content='{\"result\": [{\"url\": \"https://encykorea.aks.ac.kr/Article/E0063994\", \"title\": \"홍길동전(洪吉童傳) - 한국민족문화대백과사전\", \"content\": \"「홍길동전」은 조선 중기 허균이 지었다고 전하는 고전소설이다. 홍 판서의 서자로 태어난 홍길동이 신분 차별로 인한 갈등을 극복하고, 활빈당을 조직해 가난한 백성을\", \"score\": 0.829285, \"raw_content\": null}, {\"url\": \"https://lapl.overdrive.com/media/2391290\", \"title\": \"홍길동전 (한국고전소설) - Los Angeles Public Library - OverDrive\", \"content\": \"조선 중기에 허균(許筠)이 지었다고 전하는 고전소설. 허균이 ＜홍길동전＞을 지었다는 기록은 이식(李植)의 ≪택당집 澤堂集≫ 별집(別集) 권15 ＜산록 散錄＞에 전한다.\", \"score\": 0.77589405, \"raw_content\": null}, {\"url\": \"https://namu.wiki/w/%ED%99%8D%EA%B8%B8%EB%8F%99%EC%A0%84\", \"title\": \"홍길동전 - 나무위키\", \"content\": \"\\\\\"허균의 한문소설 \\'홍길동전\\'(1618년 이전)→\\'노혁전\\'(1626년)→한글 소설 \\'홍길동전\\'(1692년 이후) 여전히 허균의 \\'홍길동전\\'이 한글 소설 \\'홍길동전\", \"score\": 0.5737984, \"raw_content\": null}]}', name='search_web', id='20bd71e9-29a2-4700-bbc1-24c377eb247f', tool_call_id='call_NrKI6efCYUqkik099ovfp9YX'),\n",
       "  AIMessage(content='네, 홍길동이라는 이름은 한국 고전 소설인 『홍길동전』에서 유명하게 등장합니다.\\n\\n『홍길동전』은 조선시대 중기의 작가 허균이 지은 것으로 알려져 있으며, 한국 최초의 한글 소설 중 하나로 꼽힙니다. 이 작품은 양반 신분이지만 서자로 태어난 홍길동이 사회의 불합리한 신분제와 불평등에 맞서 싸우고, 활빈당이라는 의적 집단을 이끌어 가난한 백성을 도우며 정의를 실현하는 이야기를 그립니다.\\n\\n「홍길동전」은 신분 차별, 정의, 사회 개혁 등의 주제를 다루고 있으며, 현재까지도 많은 사람들에게 사랑받는 한국 문학의 대표작입니다.\\n\\n더 궁금한 점이나 홍길동전의 줄거리, 등장인물 등에 대한 추가 설명이 필요하다면 말씀해 주세요!', additional_kwargs={'refusal': None}, response_metadata={'token_usage': {'completion_tokens': 206, 'prompt_tokens': 1548, 'total_tokens': 1754, 'completion_tokens_details': {'accepted_prediction_tokens': 0, 'audio_tokens': 0, 'reasoning_tokens': 0, 'rejected_prediction_tokens': 0}, 'prompt_tokens_details': {'audio_tokens': 0, 'cached_tokens': 0}}, 'model_name': 'gpt-4.1-2025-04-14', 'system_fingerprint': 'fp_b3f1157249', 'id': 'chatcmpl-BlRGwr1LxYxCoVlAFvpOiMjQ9L19b', 'service_tier': 'default', 'finish_reason': 'stop', 'logprobs': None}, id='run--7689463c-64f7-4e89-b5a3-cdf476efee2f-0', usage_metadata={'input_tokens': 1548, 'output_tokens': 206, 'total_tokens': 1754, 'input_token_details': {'audio': 0, 'cache_read': 0}, 'output_token_details': {'audio': 0, 'reasoning': 0}}),\n",
       "  HumanMessage(content='독산동에 맛있는 파스타집 추천해줘.', additional_kwargs={}, response_metadata={}, id='b9ea9c8b-d340-4f31-aa10-0ecd3a11afd7'),\n",
       "  AIMessage(content='', additional_kwargs={'tool_calls': [{'id': 'call_nJN7dANztPP2AszQKRsSiZpi', 'function': {'arguments': '{\"query\":\"독산동 파스타 맛집 추천\",\"max_results\":3}', 'name': 'search_web'}, 'type': 'function'}], 'refusal': None}, response_metadata={'token_usage': {'completion_tokens': 26, 'prompt_tokens': 2079, 'total_tokens': 2105, 'completion_tokens_details': {'accepted_prediction_tokens': 0, 'audio_tokens': 0, 'reasoning_tokens': 0, 'rejected_prediction_tokens': 0}, 'prompt_tokens_details': {'audio_tokens': 0, 'cached_tokens': 0}}, 'model_name': 'gpt-4.1-2025-04-14', 'system_fingerprint': 'fp_b3f1157249', 'id': 'chatcmpl-BlRJMim0Rz5WdHhvyeU1YqMIydIWZ', 'service_tier': 'default', 'finish_reason': 'tool_calls', 'logprobs': None}, id='run--56bc165c-2335-42df-b84d-bf82fd1ad70e-0', tool_calls=[{'name': 'search_web', 'args': {'query': '독산동 파스타 맛집 추천', 'max_results': 3}, 'id': 'call_nJN7dANztPP2AszQKRsSiZpi', 'type': 'tool_call'}], usage_metadata={'input_tokens': 2079, 'output_tokens': 26, 'total_tokens': 2105, 'input_token_details': {'audio': 0, 'cache_read': 0}, 'output_token_details': {'audio': 0, 'reasoning': 0}}),\n",
       "  ToolMessage(content='{\"result\": [{\"url\": \"https://www.diningcode.com/list.dc?query=%EB%8F%85%EC%82%B0%20%ED%8C%8C%EC%8A%A4%ED%83%80\", \"title\": \"\\'독산 파스타\\' 맛집 빅데이터 추천순위 Top35 - 다이닝코드\", \"content\": \"독산 파스타맛집 (35곳) · 1. 벨 구스토 독산동 · 2. 웰던 독산동 · 3. 한남동 파스타 금천구 · 4. 미들루프 독산동 · 5. 마드레파스타 독산동 · 6. 라티시크릿셰프 독산동.\", \"score\": 0.915091, \"raw_content\": null}, {\"url\": \"https://www.diningcode.com/list.dc?query=%EB%8F%85%EC%82%B0%EC%97%AD+%ED%8C%8C%EC%8A%A4%ED%83%80\", \"title\": \"\\'독산역 파스타\\' 맛집 빅데이터 추천순위 Top19 - 다이닝코드\", \"content\": \"독산역 파스타맛집 (19곳) · 1. 한남동 파스타 금천구 · 2. 마드레파스타 독산동 · 3. 37.5 가산 THE G NATION점 · 4. 불불 독산동 · 5. 옐로우피자 금천구청점 · 6. 술술\", \"score\": 0.8965509, \"raw_content\": null}, {\"url\": \"https://blog.naver.com/kkk9510/223442240602?viewType=pc\", \"title\": \"금천구 독산동 파스타,스튜 양식 맛집 [웰던] 추천 : 네이버 블로그\", \"content\": \"엄청 큰 파스타집은 아니지만 아기자기하게 꾸며져있었어요! . 웰던이라는 간판이 너무 귀엽게 되어있었는데. . 저 간판을 보고 찾아오시면 될\", \"score\": 0.7610953, \"raw_content\": null}]}', name='search_web', id='7be4ad79-6bc3-437e-a711-5527a517d68f', tool_call_id='call_nJN7dANztPP2AszQKRsSiZpi'),\n",
       "  AIMessage(content='독산동에 위치한 인기 파스타집을 추천해드릴게요!\\n\\n1. 벨 구스토 독산동  \\n독산동에서 파스타 맛집으로 꾸준히 사랑받는 곳이에요. 분위기도 좋고 다양한 파스타를 맛볼 수 있습니다.\\n\\n2. 웰던 독산동  \\n아기자기한 인테리어와 정성스러운 파스타가 인기인 곳입니다. 양식과 스튜 메뉴도 함께 즐길 수 있어요. 실제로 방문한 분들의 블로그 후기도 많아서 참고하시면 좋아요!  \\n[웰던 독산동 후기 보기](https://blog.naver.com/kkk9510/223442240602?viewType=pc)\\n\\n3. 마드레파스타 독산동  \\n깔끔한 맛과 넉넉한 양으로 인기가 많아요. 친구나 가족이랑 가기에도 무척 좋은 곳입니다.\\n\\n이 외에도 다양한 파스타집이 있으니, 자세한 순위와 후기가 궁금하다면 [다이닝코드 독산동 파스타 맛집 리스트](https://www.diningcode.com/list.dc?query=%EB%8F%85%EC%82%B0%20%ED%8C%8C%EC%8A%A4%ED%83%80)를 참고해보시는 것도 추천해드려요.\\n\\n어떤 스타일의 파스타를 좋아하시는지 말씀해주시면 더욱 구체적으로 안내해드릴 수도 있습니다!', additional_kwargs={'refusal': None}, response_metadata={'token_usage': {'completion_tokens': 321, 'prompt_tokens': 3033, 'total_tokens': 3354, 'completion_tokens_details': {'accepted_prediction_tokens': 0, 'audio_tokens': 0, 'reasoning_tokens': 0, 'rejected_prediction_tokens': 0}, 'prompt_tokens_details': {'audio_tokens': 0, 'cached_tokens': 2048}}, 'model_name': 'gpt-4.1-2025-04-14', 'system_fingerprint': 'fp_b3f1157249', 'id': 'chatcmpl-BlRJPPt2HgONxFEqovkJW6Z7UpDG6', 'service_tier': 'default', 'finish_reason': 'stop', 'logprobs': None}, id='run--d590faa7-6455-40c3-9c8e-57e8192281b4-0', usage_metadata={'input_tokens': 3033, 'output_tokens': 321, 'total_tokens': 3354, 'input_token_details': {'audio': 0, 'cache_read': 2048}, 'output_token_details': {'audio': 0, 'reasoning': 0}}),\n",
       "  HumanMessage(content='두번째 식당 전화번호 알려줘.', additional_kwargs={}, response_metadata={}, id='d27a4acb-c8eb-42a9-bdfc-cda899d662c6'),\n",
       "  AIMessage(content='', additional_kwargs={'tool_calls': [{'id': 'call_QmTZGlAqeDS6E4IbjupbFKiH', 'function': {'arguments': '{\"query\":\"독산동 웰던 파스타집 전화번호\",\"max_results\":2}', 'name': 'search_web'}, 'type': 'function'}], 'refusal': None}, response_metadata={'token_usage': {'completion_tokens': 29, 'prompt_tokens': 3690, 'total_tokens': 3719, 'completion_tokens_details': {'accepted_prediction_tokens': 0, 'audio_tokens': 0, 'reasoning_tokens': 0, 'rejected_prediction_tokens': 0}, 'prompt_tokens_details': {'audio_tokens': 0, 'cached_tokens': 2944}}, 'model_name': 'gpt-4.1-2025-04-14', 'system_fingerprint': 'fp_b3f1157249', 'id': 'chatcmpl-BlRL1UqJmLEnLNBM1y5L07Mfrn3MI', 'service_tier': 'default', 'finish_reason': 'tool_calls', 'logprobs': None}, id='run--8e72b7c0-34af-415e-a5ab-acd35216853f-0', tool_calls=[{'name': 'search_web', 'args': {'query': '독산동 웰던 파스타집 전화번호', 'max_results': 2}, 'id': 'call_QmTZGlAqeDS6E4IbjupbFKiH', 'type': 'tool_call'}], usage_metadata={'input_tokens': 3690, 'output_tokens': 29, 'total_tokens': 3719, 'input_token_details': {'audio': 0, 'cache_read': 2944}, 'output_token_details': {'audio': 0, 'reasoning': 0}}),\n",
       "  ToolMessage(content='{\"result\": [{\"url\": \"https://blog.naver.com/janguh30/222449584308\", \"title\": \"[금천] 독산동 파스타 맛집 웰던(Well Done) : 네이버 블로그\", \"content\": \"위치 : 서울시 금천구 남부순환로 128길 15 · \\u200b · [운영시간] · 17:00 ~ 22:00 · 첫째 셋째주 일요일 휴무 · \\u200b · [연락처] · 0507-1318-5236.\", \"score\": 0.9197076, \"raw_content\": null}, {\"url\": \"https://blog.naver.com/bolil/223449091540?viewType=pc\", \"title\": \"독산동맛집 파스타 피자 인상적이였던 웰던 : 네이버 블로그\", \"content\": \"주소 : 서울 금천구 남부순환로128길 15 1층 · 영업시간 : 매일 11:30 - 22:00 · * 15:00 - 16:00 브레이크타임 · 전화번호 : 0507-1318-5236 · \\u200b.\", \"score\": 0.90593183, \"raw_content\": null}]}', name='search_web', id='38595349-47b4-4c2c-8cbb-754935d2ce83', tool_call_id='call_QmTZGlAqeDS6E4IbjupbFKiH'),\n",
       "  AIMessage(content=\"독산동에 있는 파스타집 '웰던(Well Done)'의 전화번호는 아래와 같습니다.\\n\\n- 전화번호: 0507-1318-5236\\n\\n위치와 영업시간 등 더 궁금한 점 있으시면 언제든 말씀해 주세요!\", additional_kwargs={'refusal': None}, response_metadata={'token_usage': {'completion_tokens': 59, 'prompt_tokens': 4443, 'total_tokens': 4502, 'completion_tokens_details': {'accepted_prediction_tokens': 0, 'audio_tokens': 0, 'reasoning_tokens': 0, 'rejected_prediction_tokens': 0}, 'prompt_tokens_details': {'audio_tokens': 0, 'cached_tokens': 3584}}, 'model_name': 'gpt-4.1-2025-04-14', 'system_fingerprint': 'fp_b3f1157249', 'id': 'chatcmpl-BlRL6rKq7gdSTUmoOppyYXUjEnNDR', 'service_tier': 'default', 'finish_reason': 'stop', 'logprobs': None}, id='run--b88b6092-1996-4979-9a6a-eb9af3459391-0', usage_metadata={'input_tokens': 4443, 'output_tokens': 59, 'total_tokens': 4502, 'input_token_details': {'audio': 0, 'cache_read': 3584}, 'output_token_details': {'audio': 0, 'reasoning': 0}}),\n",
       "  HumanMessage(content='내 이름 뭔지 기억해?', additional_kwargs={}, response_metadata={}, id='d32f7d2d-4c69-4ea8-9ca0-23fcc7ec6609'),\n",
       "  AIMessage(content='네! 홍길동님, 이전에 말씀해 주셨던 이름을 기억하고 있습니다. 언제든 궁금한 점이 있으시면 편하게 말씀해 주세요! 😊', additional_kwargs={'refusal': None}, response_metadata={'token_usage': {'completion_tokens': 37, 'prompt_tokens': 4823, 'total_tokens': 4860, 'completion_tokens_details': {'accepted_prediction_tokens': 0, 'audio_tokens': 0, 'reasoning_tokens': 0, 'rejected_prediction_tokens': 0}, 'prompt_tokens_details': {'audio_tokens': 0, 'cached_tokens': 1536}}, 'model_name': 'gpt-4.1-2025-04-14', 'system_fingerprint': 'fp_b3f1157249', 'id': 'chatcmpl-BlRNZI0VivPtDek1F4KyflLLIfMuQ', 'service_tier': 'default', 'finish_reason': 'stop', 'logprobs': None}, id='run--b223d388-e7ab-4bec-b6ff-ae00df0e76d6-0', usage_metadata={'input_tokens': 4823, 'output_tokens': 37, 'total_tokens': 4860, 'input_token_details': {'audio': 0, 'cache_read': 1536}, 'output_token_details': {'audio': 0, 'reasoning': 0}})]}"
      ]
     },
     "execution_count": 65,
     "metadata": {},
     "output_type": "execute_result"
    }
   ],
   "source": [
    "res = graph.invoke({\"messages\":\"내 이름 뭔지 기억해?\"}, config=config)\n",
    "res"
   ]
  },
  {
   "cell_type": "markdown",
   "id": "f0c2e6f8",
   "metadata": {},
   "source": [
    "이름을 기억하고 있다~"
   ]
  },
  {
   "cell_type": "markdown",
   "id": "7f9ffb4e",
   "metadata": {},
   "source": [
    "---\n",
    "질문. 위 코드는 단순히 tool calling이 아니고 Agent인가요?\n"
   ]
  },
  {
   "cell_type": "markdown",
   "id": "510c6b3c",
   "metadata": {},
   "source": [
    "답변.\n",
    "\n",
    "이건 단순한 **Tool Calling**이 아니라, **Agent**입니다.\n",
    "말 그대로 **“툴을 쓸지 말지 스스로 결정하고, 필요하면 실제로 호출까지 해주는”** 능동적인 시스템이기 때문입니다.\n",
    "\n",
    "---\n",
    "\n",
    "## ✅ 용어 정리\n",
    "\n",
    "| 용어               | 의미                                                            | 당신이 작성한 코드에서                                           |\n",
    "| ---------------- | ------------------------------------------------------------- | ------------------------------------------------------ |\n",
    "| **Tool Calling** | 툴을 어떻게 쓸지는 미리 정해놓고, 모델은 단순히 \"이걸 써야 해요\"라고 말만 함. 실제 실행은 외부에서 처리 | `tool_calls`로 툴 사용 의사 표시                               |\n",
    "| **Agent**        | 툴 사용 여부를 스스로 판단하고, 실제로 **툴을 호출해서** 결과까지 받아 다시 응답에 반영          | `tools_condition` → `tools 노드` → `다시 chatbot 노드` 순환 흐름 |\n",
    "\n",
    "---\n",
    "\n",
    "## ✅ 왜 Agent인가?\n",
    "\n",
    "아래의 구조를 보면 알 수 있어요:\n",
    "\n",
    "### 1. `chatbot_node` 내부\n",
    "\n",
    "```python\n",
    "response = self.chain.invoke({\"query\":input_state[\"messages\"]})\n",
    "```\n",
    "\n",
    "* 여기서 모델은 **툴이 필요하다고 판단되면** `tool_calls`를 생성해요.\n",
    "\n",
    "### 2. `tools_condition` 조건 분기\n",
    "\n",
    "```python\n",
    "workflow.add_conditional_edges(\"chatbot\", tools_condition, {\"tools\":\"tools\", END:END})\n",
    "```\n",
    "\n",
    "* 모델이 tool\\_calls를 생성했다면 → `tools` 노드로 이동\n",
    "\n",
    "### 3. `tool_node` 실행\n",
    "\n",
    "```python\n",
    "tool_message = self.tools_by_name[tool_call['name']].invoke(tool_call)\n",
    "```\n",
    "\n",
    "* 실제로 툴을 **실행**함\n",
    "* 툴의 응답을 `ToolMessage` 형태로 다시 `messages`에 저장\n",
    "\n",
    "### 4. 다시 `chatbot_node`로 돌아감\n",
    "\n",
    "```python\n",
    "workflow.add_edge(\"tools\", \"chatbot\")\n",
    "```\n",
    "\n",
    "* 툴 결과를 확인한 후 **최종 답변 생성**\n",
    "\n",
    "즉, 모델은 단순히 어떤 도구를 써야 하는지를 판단하는 데 그치지 않고,\n",
    "👉 **툴을 호출해서 나온 결과를 바탕으로** 다시 사용자에게 자연스러운 응답을 만들어내는 **루프를 갖춘 구조**예요.\n",
    "\n",
    "---\n",
    "\n",
    "## ✅ 요약하면\n",
    "\n",
    "| 질문                            | 답변                               |\n",
    "| ----------------------------- | -------------------------------- |\n",
    "| 이건 단순 Tool Calling이야?         | ❌ 아니요                            |\n",
    "| 모델이 툴을 선택해서 쓰기까지 하나요?         | ✅ 네, 완전한 Agent입니다                |\n",
    "| LangGraph 구조상 그런 흐름이 가능한 건가요? | ✅ 예. 상태 기반 처리 + 조건부 분기 덕분에 가능합니다 |\n",
    "\n",
    "---\n",
    "\n",
    "## 🔄 전체 흐름 요약 (Agent Loop)\n",
    "\n",
    "```\n",
    "사용자 입력\n",
    "   ↓\n",
    "[chatbot] → tool_calls 있음? → [tools 실행] → 결과 받음 → [chatbot 재호출] → 최종 응답\n",
    "   ↓\n",
    "tool_calls 없음 → [END]\n",
    "```\n",
    "\n",
    "궁금하면 Agent와 Tool Calling의 차이, LangGraph 내 Agent loop 구조, 더 복잡한 상태관리 방식도 이어서 설명해줄게요.\n"
   ]
  },
  {
   "cell_type": "code",
   "execution_count": null,
   "id": "d81503ab",
   "metadata": {},
   "outputs": [],
   "source": []
  }
 ],
 "metadata": {
  "kernelspec": {
   "display_name": "lang_env",
   "language": "python",
   "name": "python3"
  },
  "language_info": {
   "codemirror_mode": {
    "name": "ipython",
    "version": 3
   },
   "file_extension": ".py",
   "mimetype": "text/x-python",
   "name": "python",
   "nbconvert_exporter": "python",
   "pygments_lexer": "ipython3",
   "version": "3.12.11"
  }
 },
 "nbformat": 4,
 "nbformat_minor": 5
}
