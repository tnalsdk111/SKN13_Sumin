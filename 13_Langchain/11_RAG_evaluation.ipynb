{
 "cells": [
  {
   "cell_type": "markdown",
   "metadata": {},
   "source": [
    "# RAG 평가 개요\n",
    "- RAG 평가란 RAG 시스템이 주어진 입력에 대해 얼마나 효과적으로 관련 정보를 검색하고, 이를 기반으로 정확하고 유의미한 응답을 생성하는지를 측정하는 과정이다. \n",
    "- **평가 요소**\n",
    "    - **검색 단계 평가**\n",
    "        - 입력 질문에 대해 검색된 문서나 정보의 관련성과 정확성을 평가.\n",
    "    - **생성 단계 평가**\n",
    "        - 검색된 정보를 기반으로 생성된 응답의 품질, 정확성등을 평가.\n",
    "- **평가 방법**\n",
    "    - 온/오프라인 평가\n",
    "        1. **오프라인 평가**\n",
    "            - 미리 준비된 데이터셋을 활용하여 RAG 시스템의 성능을 측정한다.\n",
    "        2. **온라인 평가**\n",
    "            - 실제 사용자 트래픽과 피드백을 기반으로 시스템의 실시간 성능을 평가한다.\n",
    "    - 정량적/정성적 평가\n",
    "        1. 정량적 평가\n",
    "            - 자동화된 지표를 사용하여 생성된 텍스트의 품질을 평가한다.\n",
    "        2. 정성적 평가\n",
    "            - 전문가나 일반 사용자가 직접 생성된 응답의 품질을 평가하여 주관적인 지표를 평가한다."
   ]
  },
  {
   "cell_type": "markdown",
   "metadata": {},
   "source": [
    "# [RAGAS](https://www.ragas.io/)\n",
    "- RAGAS는 RAG 파이프라인을 **정량적 으로 평가하는** 오픈소스 프레임 워크이다. \n",
    "- RAGAS 문서: https://docs.ragas.io/en/stable/\n",
    "## 설치\n",
    "- `pip install ragas`"
   ]
  },
  {
   "cell_type": "code",
   "execution_count": 1,
   "metadata": {},
   "outputs": [
    {
     "data": {
      "text/plain": [
       "'0.2.15'"
      ]
     },
     "execution_count": 1,
     "metadata": {},
     "output_type": "execute_result"
    }
   ],
   "source": [
    "import ragas\n",
    "\n",
    "ragas.__version__"
   ]
  },
  {
   "cell_type": "markdown",
   "metadata": {},
   "source": [
    "## RAGAS 평가 지표 개요\n",
    "![ragas_score](figures/ragas_score.png)\n",
    "- **Generation**\n",
    "    - llm 모델이 생성한 답변에 대한 평가 지표들.\n",
    "    - **Faithfulness(신뢰성)**\n",
    "        -  생성된 답변과 검색된 문서(context)간의 관련성을 평가하는 지표\n",
    "        -  생성된 답변이 주어진 문맥(context)에 얼마나 충실한지를 평가하는 지표로 할루시네이션에 대한 평가로 볼 수있다.\n",
    "    - **Answer relevancy(답변 적합성)**\n",
    "        - 생성된 답변과 사용자의 질문간의 관련성을 평가하는 지표\n",
    "        - 생성된 답변이 사용자의 질문과 얼마나 관련성이 있는지를 평가하는 지표.\n",
    "- **Retrieval**\n",
    "    -  질문에 대해 검색한 문서(context)들에 대한 평가\n",
    "    -  **Context Precision(문맥 정밀도)**\n",
    "        -  검색된 문서(context)들 중 질문과 관련 있는 것들이 **얼마나 상위 순위에 위치하는지** 평가하는 지표.\n",
    "    -  **Context Recall(문맥 재현률)**\n",
    "        -  검색된 문서(context)가 정답(ground-truth)의 정보를 얼마나 포함하고 있는지 평가하는 지표.\n",
    "- 이러한 지표들은 RAG 파이프라인의 성능을 다각도로 평가하는 데 활용된다.\n",
    "![RAGAS_score2](figures/RAGAS_score2.png)"
   ]
  },
  {
   "cell_type": "markdown",
   "metadata": {},
   "source": [
    "## 주요 평가지표\n",
    "### Generation 평가\n",
    "- LLM이 생성한 답변에 대한 평가\n",
    "  \n",
    "#### Faithfulness (신뢰성)\n",
    "- 생성된 답변이 얼마나 주어진 검색 문서들(context)를 잘 반영해서 생성되었는지 평가한다. 할루시네이션에 대한 평가라고 할 수 있다. \n",
    "- 점수범위: **0 ~ 1** (1에 가까울수록 좋음)\n",
    "- 답변에 포함된 모든 주장이 context에서 얼마나 추출 가능한지를 확인한다.\n",
    "\n",
    "##### 평가 방법\n",
    "1. Answer에서 주장 구문(claim statement)들을 생성(추출)한다. (주장이란, 질문(user input)과 관련된 내용)\n",
    "    - 예) \n",
    "        - **질문**: 한국의 수도는 어디이고 인구는 얼마나 되나요? \n",
    "        - **LLM 답변**: 한국의 수도는 서울이고 인구수는 3000만명이다. \n",
    "        - **주장(claim)**: \n",
    "            1. 한국의 수도는 서울이다.\n",
    "            2. 인구수는 3000만명이다.\n",
    "2. 각 주장들을 context로 부터 추론 가능한지 판단한다. 이를 바탕으로 faithfulness 점수를 계산한다.\n",
    "    - 예)\n",
    "        - context: 한국은 동아시아에 위치하고 있는 나라다. 한국의 수도는 서울이다. .... 한국의 인구는 5000만명이고 서울에 1000만이 살고 있다.\n",
    "        - 위 context에서 추론 가능한 주장: \n",
    "            - 한국의 수도는 서울이다. -> context에서 추론가능한 주장.\n",
    "            - 한국의 인구는 3000만명이다. -> context에서 추론 불가능한 주장.\n",
    "3. **Faithfulness score** 를 계산한다. 총 주장 수 중에서 context로 부터 추론가능한 주장의 개수.    \n",
    "    - 예)\n",
    "        - Faithfulness Score = $\\cfrac{1}{2} = 0.5$ (두 개의 주장 중 한 개의 주장만 context에서 유추할 수있다.)\n",
    "    - LLM 답변에서 주장을 추출 하는 것과 각 주장이 context에서 추론 가능한 지를 판단하는 것은 LLM 을 활용한다.\n",
    "- 공식\n",
    "    $$\n",
    "    \\text{Faithfulness Score}\\;=\\;\\cfrac{\\text{주어진\\;context\\;에서\\;추론할\\;수\\;있는\\;주장의\\;개수}}{\\text{총\\;주장\\;개수}}\n",
    "    $$"
   ]
  },
  {
   "cell_type": "code",
   "execution_count": null,
   "metadata": {},
   "outputs": [],
   "source": []
  },
  {
   "cell_type": "markdown",
   "metadata": {},
   "source": [
    "#### Answer relevancy (답변 적합성)\n",
    "- 생성된 답변이 질문(user input)에 얼마나 잘 부합하는 지를 평가한다.\n",
    "- 점수 범위: -1~1 (1에 가까울수록 좋음)\n",
    "- LLM이 생성한 답변을 기반으로 질문들을 생성한다. 이렇게 생성한 질문들과 실제 질문(user input)의 embedding vector 간의 **코사인 유사도**를 측정한다.\n",
    "\n",
    "##### 평가방법\n",
    "1. LLM이 생성한 답변을 기반으로 질문들을 생성한다.\n",
    "    - 예) \n",
    "        - **LLM** 답변: 한국의 수도는 서울이고 인구수는 3000만명이다. \n",
    "        - **생성된 질문**: \n",
    "            1. 한국의 수도는 어디이고 인구는 얼마나 되나요?\n",
    "            2. 한국의 수도는 어디인가요?\n",
    "            3. 한국의 인구는 얼마나 되나요?\n",
    "2. 실제 질문과 생성한 질문간의 코사인 유사도를 측정한다. 그 평균이 최종 점수가 된다.\n",
    "    - 예)\n",
    "        - **실제 질문**: 한국의 수도는 어디이고 인구는 얼마나 되나요?\n",
    "        - **생성된 질문**: \n",
    "            1. 한국의 수도는 어디이고 인구는 얼마나 되나요?\n",
    "            2. 한국의 수도는 어디인가요?\n",
    "            3. 한국의 인구는 얼마나 되나요?\n",
    "- 공식\n",
    "  $$\n",
    "    \\cfrac{1}{N} \\sum_{i=1}^{N} \\text{cosine\\_similarity}(q_{\\text{user}_{_i}}, q_{\\text{generated}})\n",
    "  $$"
   ]
  },
  {
   "cell_type": "code",
   "execution_count": null,
   "metadata": {},
   "outputs": [],
   "source": []
  },
  {
   "cell_type": "markdown",
   "metadata": {},
   "source": [
    "### Retrieval 평가\n",
    "User input에 대해 Vector store에서 검색한 context에 대한 평가\n",
    "\n",
    "#### Context Precision\n",
    "- 사용자가 질문(query)에 대해 검색된 문서들이 답변 생성에 얼마나 유용한지를 평가한다.\n",
    "- 검색된 K개의 문서(context)들 중 **질문과 관련 있는 문서들이 얼마나 상위 순위**에 있는 지로 평가.\n",
    "- 점수 범위: 0~1 (1에 가까울수록 좋음)\n",
    "\n",
    "\n",
    "##### 평가방법\n",
    "\n",
    "- 공식\n",
    "$$\n",
    " \\text{Context\\;Precision@K} = \\frac{\\sum_{k=1}^{K} \\left( \\text{Precision@k} \\times v_k \\right)}{\\ 상위\\;K개\\;결과에서의\\;관련\\;항목\\;수}\n",
    "$$\n",
    "$$\n",
    " \\text{Precision@k} = \\frac{\\text{True\\;positive@k}}{(\\text{True\\;positive@k} + \\text{False\\;positive@k})} \\\\\n",
    "$$\n",
    "- $\\text{True Positive@k}$: 상위 k개의 문서 중 질문과 관련있는 문서의 개수\n",
    "- $\\text{False Positive@k}$: 상위 k개의 문서 중 질문과 관련없는 문서의 개수\n",
    "- $\\text{Precision@k}$: 상위 k개의 문서 중 질문과 관련된 문서들이 차지하는 비율\n",
    "- K: 검색한 context(문서)의 개수(chuck 수)\n",
    "- $v_k$: 질문과의 context간의 관련성 여부로 0 또는 1. (0: 관련 없음, 1: 관련 있음)\n",
    "\n",
    "##### 예시\n",
    "- 질문과 context 관련성 예\n",
    "    - 질문: 한국의 수도는 어디이고 인구는 얼마나 되나요?\n",
    "    - 높은 정밀도 context(관련성 높은 문서의 예)\n",
    "        - 한국의 수도는 서울이고 인구는 5000명 입니다. \n",
    "        - 한국의 수도는 서울입니다.\n",
    "        - 한국은 동아시아에 위치해 있는 국가로 수도는 서울입니다.\n",
    "        - 한국의 인구는 5000만명 입니다.\n",
    "    - 낮은 정밀도 context(관련성 낮은 문서의 예)\n",
    "        - 한국은 동아시아에 위치한 국가입니다.\n",
    "        - 한국의 K-pop은 전 세계적으로 유명합니다.\n",
    "        - 비빔밥, 불고기는 한국의 대표적인 음식입니다.\n",
    "    - **높은 정밀도의 context이 상위 순위에 위치했으면 높은 점수를 받는다.**\n",
    "- 점수 계산의 예\n",
    "  - 상위 5개의 검색 결과 중 1번째, 3번째, 4번째 문서가 관련이 있다고 가정\n",
    "    ```bash\n",
    "    Precision@1 = 1/1 = 1.0    # True positive@1/(True positive@1 + False positive@1).  1/1(1번 문서 계산 시에는 1개 문서만 있으므로 분모가 1이 된다.)\n",
    "    Precision@2 = 1/2 = 0.5     \n",
    "    Precision@3 = 2/3 ≈ 0.67    \n",
    "    Precision@4 = 3/4 = 0.75\n",
    "    Precision@5 = 3/5 = 0.6\n",
    "    ```\n",
    "- vk의 값\n",
    "    - 1번째: $v_1 = 1$\n",
    "    - 2번째: $v_2 = 0$\n",
    "    - 3번째: $v_3 = 1$\n",
    "    - 4번째: $v_4 = 1$\n",
    "    - 5번째: $v_5 = 0$\n",
    "\n",
    "- Context Precision@5\n",
    "$$\n",
    "\\text{Context\\;Precision@5} = \\frac{(1.0 \\times 1) + (0.5 \\times 0) + (0.67 \\times 1) + (0.75 \\times 1) + (0.6 \\times 0)}{3} = \\frac{1.0 + 0 + 0.67 + 0.75 + 0}{3} ≈ 0.807\n",
    "$$"
   ]
  },
  {
   "cell_type": "code",
   "execution_count": null,
   "metadata": {},
   "outputs": [],
   "source": []
  },
  {
   "cell_type": "markdown",
   "metadata": {},
   "source": [
    "#### Context Recall (문맥 재현률)\n",
    "- 검색된 문서(context)가 얼마나 정답(ground-truth)의 정보를 포함있는 지 평가하는 지표\n",
    "- 점수 범위: 0~1 (1에 가까울수록 좋음)\n",
    "- **정답(ground truth)의 각 주장(claim)이 검색된 context와 얼마나 일치**하는지 계산함.\n",
    "\n",
    "##### 평가방법\n",
    "1. **정답**에서 주장 문장(claim statement)들을 생성(추출)한다.\n",
    "    - 예) \n",
    "        - **정답**: 한국의 수도는 서울이고 인구수는 5000만명이다. \n",
    "        - **주장(claim)**: \n",
    "            1. 한국의 수도는 서울이다.\n",
    "            2. 인구수는 5000만명이다.\n",
    "2. 각 주장 문장(claim statement)의 정보를 검색된 context들에서 찾을 수 있는지 판별한다. 이를 바탕으로 context recall 점수를 계산한다.\n",
    "    - 예)\n",
    "        - context: 한국은 동아시아에 위치하고 있는 나라다. 한국의 수도는 서울이다.\n",
    "        - 위 context에서 추론 가능한 주장: \n",
    "            - 한국의 수도는 서울이다. -> context에서 찾을 수 있다.\n",
    "            - 한국의 인구는 5000만명이다. -> context에서 찾을 수 없다.\n",
    "3. **Context Recall Score** 를 계산한다. 총 주장 수 중에서 context로 부터 찾을 수 있는 주장의 개수.\n",
    "    - 예)\n",
    "        - Context Recall Score = $\\cfrac{1}{2} = 0.5$ (두 개의 주장 중 한 개의 주장만 context에서 찾을 수 있다.)\n",
    "\n",
    "- 공식\n",
    "    $$\n",
    "    \\text{Context Recall Score}\\;=\\;\\cfrac{\\text{GT의\\;주장\\;중\\;주어진\\;context\\;에서\\;찾을\\;수\\;있는\\;주장의\\;개수}}{\\text{GT의\\;총\\;주장\\;개수}}\n",
    "    $$ "
   ]
  },
  {
   "cell_type": "markdown",
   "metadata": {},
   "source": [
    "# RAGAS 평가 실습"
   ]
  },
  {
   "cell_type": "code",
   "execution_count": 2,
   "metadata": {},
   "outputs": [],
   "source": [
    "# %pip install ragas"
   ]
  },
  {
   "cell_type": "code",
   "execution_count": 1,
   "metadata": {},
   "outputs": [],
   "source": [
    "from langchain_openai import ChatOpenAI, OpenAIEmbeddings\n",
    "from dotenv import load_dotenv\n",
    "\n",
    "load_dotenv()\n",
    "\n",
    "model = ChatOpenAI(model=\"gpt-4.1-mini\")\n",
    "embedding_model = OpenAIEmbeddings(\n",
    "    model=\"text-embedding-3-large\"\n",
    ")\n"
   ]
  },
  {
   "cell_type": "markdown",
   "metadata": {},
   "source": [
    "환경 변수, 모델을 로드한다. "
   ]
  },
  {
   "cell_type": "code",
   "execution_count": 2,
   "metadata": {},
   "outputs": [
    {
     "name": "stdout",
     "output_type": "stream",
     "text": [
      "0\n"
     ]
    }
   ],
   "source": [
    "## ChromaDB와 연결 하고 vector store 생성\n",
    "from langchain_chroma import Chroma\n",
    "\n",
    "COLLECTION_NAME = 'olympic_info' # 벡터들을 구분하는 논리적 이름 (데이터 묶음 단위)\n",
    "PERSIST_DIRECTORY = 'vector_store/chroma/olympic_info' # 벡터 DB 파일들이 저장되는 물리적 경로 \n",
    "\n",
    "vector_store = Chroma(\n",
    "    embedding_function=embedding_model,\n",
    "    collection_name=COLLECTION_NAME,\n",
    "    persist_directory=PERSIST_DIRECTORY\n",
    ")\n",
    "print(vector_store._collection.count())"
   ]
  },
  {
   "cell_type": "markdown",
   "metadata": {},
   "source": [
    "(참고) 데이터베이스와 컬렉션?\n",
    "\n",
    "👉 마치:\n",
    "\n",
    "데이터베이스 = 도서관\n",
    "\n",
    "컬렉션 = 특정 주제의 책장 (예: \"운동\", \"요리\")"
   ]
  },
  {
   "cell_type": "code",
   "execution_count": 7,
   "metadata": {},
   "outputs": [],
   "source": [
    "from langchain_community.document_loaders import TextLoader\n",
    "from langchain.text_splitter import RecursiveCharacterTextSplitter\n",
    "\n",
    "loader = TextLoader(\"data/olympic.txt\", encoding=\"utf-8\")\n",
    "splitter = RecursiveCharacterTextSplitter(chunk_size=500, chunk_overlap=50)\n",
    "\n",
    "docs = loader.load_and_split(splitter)\n",
    "# vector_store.add_documents(docs) "
   ]
  },
  {
   "cell_type": "markdown",
   "metadata": {},
   "source": [
    "💬 요약   \n",
    "텍스트 파일 olympic.txt를 로드하고, RecursiveCharacterTextSplitter를 이용해 약 500자 단위로 문단/문장 기반으로 분할한다. 분할 기준은 줄바꿈 문자 순으로 재귀적으로 적용되며, 각 chunk 간 50자의 오버랩이 존재한다. 이를 통해 문맥을 최대한 유지하며 벡터화에 적합한 문서 조각들을 생성합니다."
   ]
  },
  {
   "cell_type": "code",
   "execution_count": 8,
   "metadata": {},
   "outputs": [
    {
     "name": "stdout",
     "output_type": "stream",
     "text": [
      "61\n"
     ]
    }
   ],
   "source": [
    "print(vector_store._collection.count())"
   ]
  },
  {
   "cell_type": "code",
   "execution_count": 10,
   "metadata": {},
   "outputs": [
    {
     "name": "stdout",
     "output_type": "stream",
     "text": [
      "감독 기구가 되었으며, 조직과 활동은 올림픽 헌장을 따른다. 오늘날 전 세계 대부분의 국가에서 올림픽 메달은 매우 큰 영예이며, 특히 올림픽 금메달리스트는 국가 영웅급의 대우를 받으며 스포츠 스타가 된다. 국가별로 올림픽 메달리스트들에게 지급하는 포상금도 크다. 대부분의 인기있는 종목들이나 일상에서 쉽게 접하고 즐길 수 있는 생활스포츠 종목들이 올림픽이라는 한 대회에서 동시에 열리고, 전 세계 대부분의 국가 출신의 선수들이 참여하는 만큼 전 세계 스포츠 팬들이 가장 많이 시청하는 이벤트이다. 2008 베이징 올림픽의 모든 종목 누적 시청자 수만 47억 명에 달하며, 이는 인류 역사상 가장 많은 수의 인구가 시청한 이벤트였다.\n"
     ]
    }
   ],
   "source": [
    "docs = vector_store._collection.get(include=['documents'])['documents']\n",
    "print(docs[2])  # 첫 번째 문서 조각"
   ]
  },
  {
   "cell_type": "markdown",
   "metadata": {},
   "source": [
    "💬 요약   \n",
    "`docs = loader.load_and_split(splitter)`에서 **분할된 문서 조각이 61개**였고,\n",
    "\n",
    "이 조각들이 `vector_store.add_documents(docs)` (주석 처리된 줄) 같은 코드로 **벡터 DB에 추가**되었다면,\n",
    "\n",
    "**각각의 조각이 임베딩(벡터화)되어 하나의 벡터로 저장**되기 때문에\n",
    "→ 총 61개의 벡터 = **61개의 문서 청크(chunk)**가 현재 collection_name='olympic_info'에 들어간 상태이다.\n",
    "\n"
   ]
  },
  {
   "cell_type": "markdown",
   "metadata": {},
   "source": [
    "## RAG Chain 구성\n",
    "- Vector Store 연결\n",
    "- Chain 응답 결과\n",
    "    - 평가를 위해 **Vector Store에서 검색한 context**들과 **LLM 응답**이 출력되도록 chain을 구성한다."
   ]
  },
  {
   "cell_type": "code",
   "execution_count": 11,
   "metadata": {},
   "outputs": [],
   "source": [
    "from langchain.prompts import PromptTemplate\n",
    "from langchain_core.runnables import RunnablePassthrough, RunnableLambda\n",
    "from langchain_core.output_parsers import StrOutputParser\n",
    "from langchain_core.documents import Document\n",
    "\n",
    "retriever = vector_store.as_retriever()\n",
    "\n",
    "template = \"\"\"# Instruction:\n",
    "당신은 정확한 정보 제공을 우선시하는 인공지능 어시스턴트입니다.\n",
    "주어진 Context에 포함된 정보만 사용해서 질문에 답변하세요.\n",
    "Context에 질문에 대한 명확한 정보가 있는 경우 그 내용을 바탕으로 답변하세요.\n",
    "Context에 질문에 대한 명확한 정보없을 경우 \"정보가 부족해서 답을 알 수 없습니다.\" 라고 대답합니다.\n",
    "절대 Context에 없는 내용을 추측하거나 일반 상식을 이용해 답을 만들어서 대답하지 않습니다.\n",
    "\n",
    "# Context:\n",
    "{context}\n",
    "\n",
    "# 질문:\n",
    "{query}\n",
    "\"\"\"\n",
    "prompt_template = PromptTemplate(template=template)"
   ]
  },
  {
   "cell_type": "markdown",
   "metadata": {},
   "source": [
    "💬 요약   \n",
    "- `retriever` **검색기** 객체를 생성해 유사 문서를 검색할 수 있도록 설정하고,\n",
    "- `PromptTemplate`을 사용해 **답변 형식**을 명확히 정의합니다."
   ]
  },
  {
   "cell_type": "code",
   "execution_count": 12,
   "metadata": {},
   "outputs": [],
   "source": [
    "def format_docs(src_dict:dict)->str:\n",
    "    \"\"\"\n",
    "    Vector_store에 조회한 문서들에서 내용(page_content)만 추출해서 str으로 합쳐서 반환.\n",
    "    \n",
    "    Args:\n",
    "        src_dict(dict): {\"context\":list[Document],  \"query\":\"사용자질문\"}\n",
    "    Returns:\n",
    "        str: 각 문서의 내용을 \"\\n\\n\"으로 연결한 string\n",
    "    \"\"\"\n",
    "    docs = src_dict[\"context\"]\n",
    "    return \"\\n\\n\".join(doc.page_content for doc in docs)\n",
    "\n",
    "def format_docs_list(src_dict:dict)->list[str]:\n",
    "    \"\"\"\n",
    "    Vector_store에 조회한 문서들에서 내용(page_content)만 추출해서 list로 묶어서 반환.\n",
    "    \n",
    "    Args:\n",
    "        src_dict(dict): {\"context\":list[Document],  \"query\":\"사용자질문\"}\n",
    "    Returns:\n",
    "        list[str]: 각 문서의 내용을 담은 list\n",
    "    \"\"\"\n",
    "    return [doc.page_content for doc in src_dict[\"context\"]]"
   ]
  },
  {
   "cell_type": "markdown",
   "metadata": {},
   "source": [
    "위 두 함수 모두 조회한 문서들에서 내용을 추출하는 건데, `format_docs`는 추출한 내용을 문자열로 합쳐서 반환하고, `format_docs_list`는 list로 묶어서 반환하는 것이다. "
   ]
  },
  {
   "cell_type": "code",
   "execution_count": 9,
   "metadata": {},
   "outputs": [],
   "source": [
    "# docs = retriever.invoke(\"올림픽 논란\")\n",
    "# docs\n",
    "# format_docs({\"context\":docs})\n",
    "# format_docs_list({\"context\":docs})"
   ]
  },
  {
   "cell_type": "code",
   "execution_count": 14,
   "metadata": {},
   "outputs": [],
   "source": [
    "# 평가를 위한 Rag Chain을 구성\n",
    "## chain의 응답: LLM 응답, Retriever가 검색한 context들 \n",
    "rag_chain = (\n",
    "    RunnablePassthrough()  # dict | dict 를 LCEL로 연결하기 위해 하는일 없는 Runnable(RunnablePassthrough) 을 추가\n",
    "    | {\"context\":retriever, \"query\":RunnablePassthrough()} # retrieve\n",
    "    | {\n",
    "        \"source_context\":format_docs_list, # list[Document] -> list[str]\n",
    "        \"llm_answer\": {\n",
    "                        \"context\":format_docs, # list[Document] -> str(문서\\n\\n문서\\n\\n...)\n",
    "                        \"query\": lambda x : x[\"query\"]    # query만 추출\n",
    "                    } | prompt_template | model | StrOutputParser()\n",
    "    } # 응답처리 - 입력: {\"context\":검색문서들, \"query\":\"사용자질문\"} \n",
    "      #          - 출력: {\"source_context\":검색한 문서들(list[str]), \"llm_answer\":LLM응답(str)}\n",
    "      #             -> 응답처리 출력이 chain의 최종 출력\n",
    "    \n",
    ")"
   ]
  },
  {
   "cell_type": "markdown",
   "metadata": {},
   "source": [
    "### ✅ RAG 체인 구성 요약\n",
    "\n",
    "- `RunnablePassthrough()`  \n",
    "  → 입력값을 그대로 넘김 (dict 파이프라인 연결용)\n",
    "\n",
    "- `{\"context\": retriever, \"query\": RunnablePassthrough()}`  \n",
    "  → query를 기반으로 문서 검색 + query는 그대로 유지\n",
    "\n",
    "- `\"source_context\": format_docs_list`  \n",
    "  → 검색된 문서들을 보기 좋게 리스트 형태로 변환 (문서 평가용)\n",
    "\n",
    "- `\"llm_answer\"`  \n",
    "  → \n",
    "  - `\"context\"`: 검색 문서들을 하나의 문자열로 합침  \n",
    "  - `\"query\"`: 입력에서 query만 추출 (`lambda x: x[\"query\"]`)  \n",
    "  → prompt_template → LLM 모델 → StrOutputParser 로 이어짐  \n",
    "  → 최종적으로 LLM의 응답을 생성하고 문자열로 파싱\n",
    "\n",
    "- **⭐최종 출력⭐**  \n",
    "  ```python\n",
    "  {\n",
    "      \"source_context\": [...],      # 검색된 문서 리스트 (str)\n",
    "      \"llm_answer\": \"...\"           # LLM 응답 (str)\n",
    "  }\n"
   ]
  },
  {
   "cell_type": "code",
   "execution_count": 15,
   "metadata": {},
   "outputs": [],
   "source": [
    "user_input = \"국제 올림픽 위원회에 대해서 설명해주세요.\"\n",
    "response = rag_chain.invoke(user_input)"
   ]
  },
  {
   "cell_type": "markdown",
   "metadata": {},
   "source": [
    "💬참고: `invoke()`   \n",
    "`invoke()`는 **LangChain의 체인이나 구성 요소(Runnable)를 실행시키는 함수**입니다.   \n",
    "일반 Python 함수에는 없고, LangChain의 체계적인 실행 방식의 일부예요.   \n",
    "RAG 체인의 전체 과정을 실행해서 응답을 받아오는 역할을 해요.   \n",
    "\n",
    "위 코드는 `rag_chain` 체인을 실행시킨 것이다. \n"
   ]
  },
  {
   "cell_type": "code",
   "execution_count": 16,
   "metadata": {},
   "outputs": [
    {
     "name": "stdout",
     "output_type": "stream",
     "text": [
      "<class 'dict'> dict_keys(['source_context', 'llm_answer'])\n"
     ]
    }
   ],
   "source": [
    "print(type(response), response.keys())"
   ]
  },
  {
   "cell_type": "code",
   "execution_count": 17,
   "metadata": {},
   "outputs": [
    {
     "name": "stdout",
     "output_type": "stream",
     "text": [
      "국제 올림픽 위원회(IOC)는 모든 올림픽 활동을 통솔하는 단체로서, 올림픽 개최 도시 선정, 계획 감독, 종목 변경, 스폰서 및 방송권 계약 체결 등의 권한을 가진 기구입니다. 올림픽 활동은 여러 국가, 국제 경기 연맹과 협회, 미디어 파트너, 선수, 직원, 심판 등이 올림픽 헌장을 지키며 진행하는 것을 의미합니다.\n",
      "\n",
      "IOC는 올림픽 활동을 크게 세 부분으로 나누는데, 국제경기연맹(IF), 국가 올림픽 위원회(NOC), 올림픽 조직 위원회(OCOG)가 그 구성 요소입니다. 국제경기연맹은 각 올림픽 종목을 주관하며, 국가 올림픽 위원회는 각국의 올림픽 활동을 감독합니다. 올림픽 조직 위원회는 올림픽 개최 기간 동안 임시로 조직되어 개막식, 폐막식 등 올림픽 총체적 운영을 책임지며 대회 종료 후 해산됩니다.\n",
      "\n",
      "IOC는 또한 올림픽 공식 언어로 프랑스어와 영어, 그리고 개최국의 공용어를 지정하며, 모든 공식 선언은 세 언어 중 적어도 한 언어로 발표됩니다.\n",
      "\n",
      "과거 IOC 위원장인 에이버리 브런디지와 후안 안토니오 사마란치는 각각 정치적 문제 개입 및 부패, 족벌 정치 등의 이유로 비판받은 바 있습니다.\n"
     ]
    }
   ],
   "source": [
    "llm_answer = response['llm_answer']\n",
    "print(llm_answer)"
   ]
  },
  {
   "cell_type": "code",
   "execution_count": 18,
   "metadata": {},
   "outputs": [
    {
     "data": {
      "text/plain": [
       "['국제 올림픽 위원회\\n올림픽 활동이란 많은 수의 국가, 국제 경기 연맹과 협회 • 미디어 파트너를 맺기 • 선수, 직원, 심판, 모든 사람과 기관이 올림픽 헌장을 지키는 것을 말한다. 국제올림픽위원회(IOC)는 모든 올림픽 활동을 통솔하는 단체로서, 올림픽 개최 도시 선정, 계획 감독, 종목 변경, 스폰서 및 방송권 계약 체결 등의 권리가 있다. 올림픽 활동은 크게 세 가지로 구성된다.\\n- 국제경기연맹(IF)은 국제적인 규모의 경기를 관리, 감독하는 기구이다. 예를 들어서 국제 축구 연맹(FIFA)는 축구를 주관하며, 국제 배구 연맹(FIVB)은 배구를 주관하는 기구이다. 올림픽에는 현재 35개의 국제경기연맹이 있고 각 종목을 대표한다. (이 중에는 올림픽 종목은 아니지만 IOC의 승인을 받은 연맹도 있다.)',\n",
       " '올림픽은 국제경기연맹(IF), 국가 올림픽 위원회(NOC), 각 올림픽의 위원회(예-벤쿠버동계올림픽조직위원회)로 구성된다. 의사 결정 기구인 IOC는 올림픽 개최 도시를 선정하며, 각 올림픽 대회마다 열리는 올림픽 종목도 IOC에서 결정한다. 올림픽 경기 개최 도시는 경기 축하 의식이 올림픽 헌장에 부합하도록 조직하고 기금을 마련해야 한다. 올림픽 축하 행사로는 여러 의식과 상징을 들 수 있는데 올림픽기나 성화가 그 예이다.',\n",
       " '- 국가 올림픽 위원회(NOC)는 각국의 올림픽 활동을 감독하는 기구이다. 예를 들어서 대한 올림픽 위원회(KOC)는 대한민국의 국가 올림픽 위원회이다. 현재 IOC에 소속된 국가 올림픽 위원회는 205개이다.\\n- 올림픽 조직 위원회(OCOG)는 임시적인 조직으로 올림픽의 총체적인 것(개막식, 페막식 등)을 책임지기 위해 구성된 조직이다. 올림픽 조직 위원회는 올림픽이 끝나면 해산되며 최종보고서를 IOC에 제출한다.\\n올림픽의 공식언어는 프랑스어와 영어와 개최국의 공용어이다. 모든 선언(예를 들어서 개막식 때 각국 소개를 할 때)들은 세 언어가 모두 나오거나 영어나 프랑스어 중에서 한 언어로만 말하기도 한다. 개최국의 공용어가 영어나 프랑스어가 아닐 때는 당연히 그 나라의 공용어도 함께 나온다.',\n",
       " '국제 올림픽 위원회(이하 IOC로 지칭)는 몇몇 위원들이 한 행위에 대해서 비판을 받고 있다. 그 예로 IOC 위원장이었던 에이버리 브런디지와 후안 안토니오 사마란치가 대표적인 사람이다. 브런디지는 20년 넘게 IOC 위원장직을 맡았고 임기 중에 올림픽을 정치적으로 휘말려들지 않게 하기 위해 보호했다. 그러나 그는 남아프리카 공화국 대표단에게 아파르트헤이트와 관련된 이슈를 건드리고 반유대정책을 함으로써 비난을 받았다. 사마란치 위원장 시기 때는 족벌 정치와 부패로 비난받았다. 사마란치가 스페인에서 프랑코 정권에 협력했다는 것도 비판의 이유가 되었다.']"
      ]
     },
     "execution_count": 18,
     "metadata": {},
     "output_type": "execute_result"
    }
   ],
   "source": [
    "context = response[\"source_context\"]\n",
    "context"
   ]
  },
  {
   "cell_type": "markdown",
   "metadata": {},
   "source": [
    "#### 💡 추가로 알아두기 1: invoke() 외에 Langchain에서 쓰이는 메서드\n",
    "| 메서드                  | 설명                          |\n",
    "| -------------------- | --------------------------- |\n",
    "| `.invoke(input)`     | 동기 방식 실행 (가장 기본적인 호출)       |\n",
    "| `.batch(inputs)`     | 여러 입력 한꺼번에 처리 (리스트 형태)      |\n",
    "| `.stream(input)`     | 스트리밍 출력 (예: 응답을 한 줄씩 보여줄 때) |\n",
    "| `.stream_log(input)` | 스트리밍 + 실행 로그 추적             |\n",
    "\n",
    "#### 💡 추가로 알아두기 2: Runnable\n",
    "Runnable은 LangChain 라이브러리에서 정의한 인터페이스(또는 추상 클래스)이고, LangChain 내부 컴포넌트들을 유연하게 연결하고 실행하기 위한 구조입니다."
   ]
  },
  {
   "cell_type": "markdown",
   "metadata": {},
   "source": [
    "## 평가"
   ]
  },
  {
   "cell_type": "code",
   "execution_count": 19,
   "metadata": {},
   "outputs": [],
   "source": [
    "# 평가데이터셋: user_input, response(정답)\n",
    "user_input = \"국제 올림픽 위원회에 대해 설명해주세요.\"\n",
    "reference = \"국제올림픽위원회(IOC)는 올림픽 활동을 통솔하는 기구로, 올림픽 개최 도시 선정, 계획 감독, 종목 변경, 스폰서 및 방송권 계약 체결 등의 역할을 수행한다.\"\n",
    "\n",
    "resp = rag_chain.invoke(user_input)\n",
    "retrieved_context = resp['source_context']  # RAG에서 검색된 문서\n",
    "response = resp['llm_answer']  # RAG의 답변"
   ]
  },
  {
   "cell_type": "code",
   "execution_count": 20,
   "metadata": {},
   "outputs": [],
   "source": [
    "from ragas import SingleTurnSample, EvaluationDataset\n",
    "\n",
    "# RAGAS의 평가 데이터셋의 구성\n",
    "# - user_input: 사용자 입력(질문)\n",
    "# - retrieved_context: RAG에서 검색한 context(문서)들\n",
    "# - response: llm의 출력(응답)\n",
    "# - reference: 정답.\n",
    "\n",
    "eval_sample1 = SingleTurnSample(  # 1개의 평가 데이터을 생성할 때 사용.\n",
    "    user_input=user_input,\n",
    "    retrieved_contexts=retrieved_context,\n",
    "    response=response,\n",
    "    reference=reference\n",
    ")\n",
    "# 평가용 Dataset을 생성\n",
    "eval_dataset = EvaluationDataset(samples=[eval_sample1])"
   ]
  },
  {
   "cell_type": "code",
   "execution_count": 21,
   "metadata": {},
   "outputs": [
    {
     "data": {
      "text/plain": [
       "EvaluationDataset(features=['user_input', 'retrieved_contexts', 'response', 'reference'], len=1)"
      ]
     },
     "execution_count": 21,
     "metadata": {},
     "output_type": "execute_result"
    }
   ],
   "source": [
    "eval_dataset"
   ]
  },
  {
   "cell_type": "code",
   "execution_count": 22,
   "metadata": {},
   "outputs": [
    {
     "data": {
      "text/html": [
       "<div>\n",
       "<style scoped>\n",
       "    .dataframe tbody tr th:only-of-type {\n",
       "        vertical-align: middle;\n",
       "    }\n",
       "\n",
       "    .dataframe tbody tr th {\n",
       "        vertical-align: top;\n",
       "    }\n",
       "\n",
       "    .dataframe thead th {\n",
       "        text-align: right;\n",
       "    }\n",
       "</style>\n",
       "<table border=\"1\" class=\"dataframe\">\n",
       "  <thead>\n",
       "    <tr style=\"text-align: right;\">\n",
       "      <th></th>\n",
       "      <th>user_input</th>\n",
       "      <th>retrieved_contexts</th>\n",
       "      <th>response</th>\n",
       "      <th>reference</th>\n",
       "    </tr>\n",
       "  </thead>\n",
       "  <tbody>\n",
       "    <tr>\n",
       "      <th>0</th>\n",
       "      <td>국제 올림픽 위원회에 대해 설명해주세요.</td>\n",
       "      <td>[국제 올림픽 위원회\\n올림픽 활동이란 많은 수의 국가, 국제 경기 연맹과 협회 •...</td>\n",
       "      <td>국제 올림픽 위원회(IOC)는 모든 올림픽 활동을 통솔하는 단체로서, 올림픽 개최 ...</td>\n",
       "      <td>국제올림픽위원회(IOC)는 올림픽 활동을 통솔하는 기구로, 올림픽 개최 도시 선정,...</td>\n",
       "    </tr>\n",
       "  </tbody>\n",
       "</table>\n",
       "</div>"
      ],
      "text/plain": [
       "               user_input                                 retrieved_contexts  \\\n",
       "0  국제 올림픽 위원회에 대해 설명해주세요.  [국제 올림픽 위원회\\n올림픽 활동이란 많은 수의 국가, 국제 경기 연맹과 협회 •...   \n",
       "\n",
       "                                            response  \\\n",
       "0  국제 올림픽 위원회(IOC)는 모든 올림픽 활동을 통솔하는 단체로서, 올림픽 개최 ...   \n",
       "\n",
       "                                           reference  \n",
       "0  국제올림픽위원회(IOC)는 올림픽 활동을 통솔하는 기구로, 올림픽 개최 도시 선정,...  "
      ]
     },
     "execution_count": 22,
     "metadata": {},
     "output_type": "execute_result"
    }
   ],
   "source": [
    "# eval_dataset을 DataFrame으로 변환\n",
    "eval_dataset.to_pandas()"
   ]
  },
  {
   "cell_type": "code",
   "execution_count": 23,
   "metadata": {},
   "outputs": [
    {
     "data": {
      "text/plain": [
       "True"
      ]
     },
     "execution_count": 23,
     "metadata": {},
     "output_type": "execute_result"
    }
   ],
   "source": [
    "##########################\n",
    "# 평가\n",
    "from ragas.metrics import (\n",
    "    LLMContextRecall, # Context recall을 계산하는 **평가함수**\n",
    "    LLMContextPrecisionWithReference, # Context Precision\n",
    "    Faithfulness,     # Faithfulness \n",
    "    AnswerRelevancy,  # AnswerRelevancy\n",
    ")\n",
    "from ragas import evaluate\n",
    "from ragas.llms import LangchainLLMWrapper\n",
    "from ragas.embeddings import LangchainEmbeddingsWrapper\n",
    "# Langchain으로 생성된 LLM 모델, 임베딩모델 객체를 RAGAS에서 사용할 있도록 wrapping하는 클래스.\n",
    "# 모든 평가 지표들이 LLM 모델을 사용한다. \n",
    "\n",
    "from langchain_openai import ChatOpenAI, OpenAIEmbeddings\n",
    "from dotenv import load_dotenv\n",
    "load_dotenv()"
   ]
  },
  {
   "cell_type": "code",
   "execution_count": 24,
   "metadata": {},
   "outputs": [
    {
     "data": {
      "application/vnd.jupyter.widget-view+json": {
       "model_id": "e3b8711c4ea7421bb6310fc45a199b8e",
       "version_major": 2,
       "version_minor": 0
      },
      "text/plain": [
       "Evaluating:   0%|          | 0/4 [00:00<?, ?it/s]"
      ]
     },
     "metadata": {},
     "output_type": "display_data"
    }
   ],
   "source": [
    "# 평가 함수(객체)에 넣어줄 LLM 모델, Embedding 모델 생성.\n",
    "llm_model = ChatOpenAI(model=\"gpt-4.1-mini\")\n",
    "e_model = OpenAIEmbeddings(model=\"text-embedding-3-large\")\n",
    "\n",
    "eval_model = LangchainLLMWrapper(llm_model) # ragas가 호출할 수 있는 형태로 바꿔준다. \n",
    "eval_embedding_model = LangchainEmbeddingsWrapper(e_model)\n",
    "\n",
    "## 평가지표 객체를 생성 -> 리스트에 묶어준다.\n",
    "metrics = [\n",
    "    LLMContextRecall(llm=eval_model),\n",
    "    LLMContextPrecisionWithReference(llm=eval_model),\n",
    "    Faithfulness(llm=eval_model),\n",
    "    AnswerRelevancy(llm=eval_model)\n",
    "]\n",
    "\n",
    "# 평가지표 객체를 이용해서 평가\n",
    "eval_result = evaluate(dataset=eval_dataset, metrics=metrics)"
   ]
  },
  {
   "cell_type": "code",
   "execution_count": 25,
   "metadata": {},
   "outputs": [
    {
     "name": "stdout",
     "output_type": "stream",
     "text": [
      "<class 'ragas.dataset_schema.EvaluationResult'>\n"
     ]
    },
    {
     "data": {
      "text/plain": [
       "{'context_recall': 1.0000, 'llm_context_precision_with_reference': 0.8333, 'faithfulness': 0.8500, 'answer_relevancy': 0.8385}"
      ]
     },
     "execution_count": 25,
     "metadata": {},
     "output_type": "execute_result"
    }
   ],
   "source": [
    "# context recall: 검색 context와 정답간의 연관성\n",
    "# context precision: 검색 context와 사용자 질문간의 연관성\n",
    "# faithfulness: LLM 답변과 검색 context간의 연관성\n",
    "# answer relevancy: LLM 답변과 사용자 질문간의 연관성.\n",
    "print(type(eval_result))\n",
    "eval_result"
   ]
  },
  {
   "cell_type": "markdown",
   "metadata": {},
   "source": [
    "💬 요약   \n",
    "1. 평가 데이터셋 준비\n",
    "2. LLM 모델이 사용자 질문을 받아 관련 문서 검색 및 답변 생성\n",
    "3. 생성된 답변을 RAGAS 지표에 따라 평가"
   ]
  },
  {
   "cell_type": "code",
   "execution_count": null,
   "metadata": {},
   "outputs": [],
   "source": []
  },
  {
   "cell_type": "code",
   "execution_count": 26,
   "metadata": {},
   "outputs": [
    {
     "data": {
      "text/html": [
       "<div>\n",
       "<style scoped>\n",
       "    .dataframe tbody tr th:only-of-type {\n",
       "        vertical-align: middle;\n",
       "    }\n",
       "\n",
       "    .dataframe tbody tr th {\n",
       "        vertical-align: top;\n",
       "    }\n",
       "\n",
       "    .dataframe thead th {\n",
       "        text-align: right;\n",
       "    }\n",
       "</style>\n",
       "<table border=\"1\" class=\"dataframe\">\n",
       "  <thead>\n",
       "    <tr style=\"text-align: right;\">\n",
       "      <th></th>\n",
       "      <th>user_input</th>\n",
       "      <th>retrieved_contexts</th>\n",
       "      <th>response</th>\n",
       "      <th>reference</th>\n",
       "      <th>context_recall</th>\n",
       "      <th>llm_context_precision_with_reference</th>\n",
       "      <th>faithfulness</th>\n",
       "      <th>answer_relevancy</th>\n",
       "    </tr>\n",
       "  </thead>\n",
       "  <tbody>\n",
       "    <tr>\n",
       "      <th>0</th>\n",
       "      <td>국제 올림픽 위원회에 대해 설명해주세요.</td>\n",
       "      <td>[국제 올림픽 위원회\\n올림픽 활동이란 많은 수의 국가, 국제 경기 연맹과 협회 •...</td>\n",
       "      <td>국제 올림픽 위원회(IOC)는 모든 올림픽 활동을 통솔하는 단체로서, 올림픽 개최 ...</td>\n",
       "      <td>국제올림픽위원회(IOC)는 올림픽 활동을 통솔하는 기구로, 올림픽 개최 도시 선정,...</td>\n",
       "      <td>1.0</td>\n",
       "      <td>0.833333</td>\n",
       "      <td>0.85</td>\n",
       "      <td>0.838532</td>\n",
       "    </tr>\n",
       "  </tbody>\n",
       "</table>\n",
       "</div>"
      ],
      "text/plain": [
       "               user_input                                 retrieved_contexts  \\\n",
       "0  국제 올림픽 위원회에 대해 설명해주세요.  [국제 올림픽 위원회\\n올림픽 활동이란 많은 수의 국가, 국제 경기 연맹과 협회 •...   \n",
       "\n",
       "                                            response  \\\n",
       "0  국제 올림픽 위원회(IOC)는 모든 올림픽 활동을 통솔하는 단체로서, 올림픽 개최 ...   \n",
       "\n",
       "                                           reference  context_recall  \\\n",
       "0  국제올림픽위원회(IOC)는 올림픽 활동을 통솔하는 기구로, 올림픽 개최 도시 선정,...             1.0   \n",
       "\n",
       "   llm_context_precision_with_reference  faithfulness  answer_relevancy  \n",
       "0                              0.833333          0.85          0.838532  "
      ]
     },
     "execution_count": 26,
     "metadata": {},
     "output_type": "execute_result"
    }
   ],
   "source": [
    "eval_result.to_pandas()"
   ]
  },
  {
   "cell_type": "markdown",
   "metadata": {},
   "source": [
    "# 평가 데이터 셋 만들기\n",
    "\n",
    "1. 문서를 Loading하고 split하여 Context 들을 만든다.\n",
    "2. Context들 중 평가에 사용할 것을 Random하게 선택한다.\n",
    "3. 선택된 context를 기반으로 LLM 모델을 이용해서 질문과 답변을 생성한다. \n",
    "4. 생성된 질문과 답변을 검토하여 품질을 높인다. \n",
    "   - 질문과 답변 자체가 맞는지 검사한다.\n",
    "   - 나올만한 질문인 지 확인한다.\n",
    "- 위 설명대로, 평가를 위해 새로운 데이터셋을 준비하는 게 아니라, 벡터 데이터베이스 안에 있는 기존 문서를 활용하는 경우가 많다. \n",
    "\n",
    "- **생성된 질문-답변의 질이 낮으면 좋은 평가를 할 수 없다.**\n",
    "    - 질문-답변 생성시 사용하는 LLM 모델은 성능이 좋은 것을 사용해야 한다. \n",
    "    - 생성된 질문-답변을 사람이 검토해서 품질을 더 높여야 한다.\n",
    "\n",
    "## 데이터셋에 포함될 내용\n",
    "- Dataset을 생성할 때는 다음 항목이 들어가야 한다.\n",
    "    -  **user_input**: 질문. `string`\n",
    "    -  **reference**: 정답. `string`\n",
    "    -  qa_context : context. `str` - QA를 만들 때 어떤 context를 사용했는지 값. 생성된 데이터셋을 확인하기 위한 것으로 **평가시에는 사용하지 않는다.**\n",
    "-  평가할 때 추가할 것\n",
    "    - **response**: RAG 시스템에서 질문에 대해 LLM 모델이 생성한 답변. `string`\n",
    "    - **retrieved_contexts**: RAG 시스템에서 질문에 대해 Vector DB에서 검색한 context들. `list(string)`"
   ]
  },
  {
   "cell_type": "code",
   "execution_count": 27,
   "metadata": {},
   "outputs": [
    {
     "data": {
      "text/plain": [
       "True"
      ]
     },
     "execution_count": 27,
     "metadata": {},
     "output_type": "execute_result"
    }
   ],
   "source": [
    "from langchain_community.document_loaders import TextLoader\n",
    "from langchain_text_splitters import RecursiveCharacterTextSplitter\n",
    "from langchain_chroma import Chroma\n",
    "\n",
    "from langchain_openai import ChatOpenAI, OpenAIEmbeddings\n",
    "from langchain.prompts import PromptTemplate\n",
    "from langchain_core.output_parsers import JsonOutputParser,StrOutputParser\n",
    "\n",
    "# from langchain import hub\n",
    "from langchain_core.runnables import RunnablePassthrough, RunnableLambda\n",
    "from langchain_core.documents import Document\n",
    "\n",
    "from ragas import EvaluationDataset, RunConfig, evaluate\n",
    "from ragas.metrics import (\n",
    "    LLMContextRecall, Faithfulness, LLMContextPrecisionWithReference, AnswerRelevancy\n",
    ")\n",
    "from ragas.llms import LangchainLLMWrapper\n",
    "from ragas.embeddings import LangchainEmbeddingsWrapper\n",
    "\n",
    "from pydantic import BaseModel, Field\n",
    "\n",
    "import random\n",
    "import pandas as pd\n",
    "\n",
    "from dotenv import load_dotenv\n",
    "\n",
    "load_dotenv()"
   ]
  },
  {
   "cell_type": "code",
   "execution_count": null,
   "metadata": {},
   "outputs": [],
   "source": [
    "# Context 를 바탕으로 질문과 답변을 생성\n",
    "# 생성된 질문을 rag_chain에 넣어서 context와 llm 응답을 생성."
   ]
  },
  {
   "cell_type": "code",
   "execution_count": 28,
   "metadata": {},
   "outputs": [
    {
     "data": {
      "text/plain": [
       "61"
      ]
     },
     "execution_count": 28,
     "metadata": {},
     "output_type": "execute_result"
    }
   ],
   "source": [
    "# context 생성\n",
    "DOC_PATH = \"data/olympic.txt\"\n",
    "\n",
    "loader = TextLoader(DOC_PATH, encoding='utf-8')\n",
    "# Vector DB에 저장한 context와 동일하게 chunking(split)을 한다.\n",
    "splitter = RecursiveCharacterTextSplitter(chunk_size=500, chunk_overlap=50)\n",
    "\n",
    "docs = loader.load_and_split(splitter)\n",
    "len(docs) #list[Document]"
   ]
  },
  {
   "cell_type": "code",
   "execution_count": 31,
   "metadata": {},
   "outputs": [
    {
     "data": {
      "text/plain": [
       "['1821년 그리스에서는 오스만 제국의 지배에 반기를 들고 독립 전쟁이 일어나면서, 이때부터 올림픽 부활에 대한 관심이 생겨났다. 시인이자 신문 편집자였던 파나요티스 수초스(Παναγιώτης Σούτσος)는 1833년에 출간한 자신의 시 \\'망자(亡者)의 대화\\'에서 최초로 올림픽 부활에 대한 제안을 내놓았다. 그리스의 부유한 박애주의자였던 에방겔리스 자파스(Ευαγγέλης Ζάππας)는 1859년에 아테네 시 광장에서 열린 \"올림픽 경기(일명 자파스 올림픽)\"를 후원하였다. 이 경기에는 그리스와 오스만 제국 출신의 선수들이 참가하였다. 에방겔리스 자파스는 이후에도 올림픽 경기를 개최할 수 있도록 고대의 경기장이었던 파나티네코 경기장을 복원하는 데도 돈을 썼다. 파나티네코 경기장에서 1870년과 1875년에 자파스 올림픽을 개최했으며, 현대 올림픽인 2004년 하계 올림픽 때는 양궁 경기장으로도 쓰였다.',\n",
       " \"이라크는 경기를 끝낸 선수들이 있었지만 탄자니아가 이끄는 올림픽 보이콧에 가세했다. 중화민국(타이완)도 1976년 몬트리올 올림픽 참가를 보이콧했는데, 그 이유는 중화인민공화국(중국)이 몬트리올 올림픽 조직위원회에게 타이완을 '중화민국'의 이름으로 참가하지 못하도록 압박을 가했기 때문이다. 타이완은 이것에 반발해서 중화민국의 국기와 중화민국의 국가를 계속 쓸 것이라고 밝혔다. 타이완은 1984년까지 올림픽에 참가하지 않았으며 그 후 참가할 때는 중화 타이베이 올림픽기와 특별한 찬가를 사용한다. 1980년과 1984년 올림픽 때는 냉전의 당사국들이 각각 반대진영에서 개최된 올림픽에 불참했다. 1980년에 열린 모스크바 올림픽 때는 소련의 아프가니스탄 침공에 대한 항의의 표시로 미국을 비롯한 65개국이 불참해서 1956년 이후 가장 적은 국가의 수인 81개국만 참가하는 대회가 되었다. 1984년에 열린 L.A 올림픽때는 루마니아와 유고슬라비아를 제외한 소련과 동구권의 14개 국가가\",\n",
       " '감독 기구가 되었으며, 조직과 활동은 올림픽 헌장을 따른다. 오늘날 전 세계 대부분의 국가에서 올림픽 메달은 매우 큰 영예이며, 특히 올림픽 금메달리스트는 국가 영웅급의 대우를 받으며 스포츠 스타가 된다. 국가별로 올림픽 메달리스트들에게 지급하는 포상금도 크다. 대부분의 인기있는 종목들이나 일상에서 쉽게 접하고 즐길 수 있는 생활스포츠 종목들이 올림픽이라는 한 대회에서 동시에 열리고, 전 세계 대부분의 국가 출신의 선수들이 참여하는 만큼 전 세계 스포츠 팬들이 가장 많이 시청하는 이벤트이다. 2008 베이징 올림픽의 모든 종목 누적 시청자 수만 47억 명에 달하며, 이는 인류 역사상 가장 많은 수의 인구가 시청한 이벤트였다.',\n",
       " '테러도 올림픽에서 공포의 대상이었다. 뮌헨 참사로 알려진 1972년에 서독 바이에른의 뮌헨에서 열린 하계 올림픽때의 사건은 테러리스트인 검은 9월단이 일으킨 사건으로서 이스라엘 선수 11명을 인질로 붙잡았다가 전원이 사망한 사건이다. 당시 미숙한 진압으로 인해 인질 9명(선수 1명과 코치 1명은 인질로 잡기 이전에 살해), 테러범 5명, 독일 경찰관 1명이 사망했으며 이 진압 작전 이전에는 인질들은 단 한 명도 죽지 않았다. 애틀란타에서 열린 1996년 하계 올림픽 때는 센테니얼 올림픽 공원(Centennial Olympic Park)에서 폭발 사건이 일어나 2명이 죽고 111명이 다치는 사건이 발생했다. 이 사건의 주모자 에릭 로버트 루돌프는 종신형을 선고받았다. 참고로 마라톤 역시 전쟁에서 유래한 것이다.',\n",
       " '올림픽은 거의 모든 국가가 참여할 정도로 규모가 커졌다. 하계 올림픽은 33개의 종목과 약 400개의 세부종목에서 13,000명이 넘는 선수들이 겨루고 그중 각 종목별 1, 2, 3위는 각각 금/은/동을 수여받는다. 전 세계 언론에서 각각 4년마다 열리는 올림픽 경기를 중계하기 때문에 이름 없는 선수가 개인적, 국가적, 세계적으로 명성을 얻을 수 있는 기회가 된다. 이와 더불어 올림픽 경기는 개최지와 개최국에게도 전 세계에 그 이름을 널리 알리는 좋은 기회가 된다.']"
      ]
     },
     "execution_count": 31,
     "metadata": {},
     "output_type": "execute_result"
    }
   ],
   "source": [
    "# docs 중에서 평가데이터를 생성할 때 사용할 문서 K개를 추출\n",
    "#### 실제 평가 데이터셋을 생성할 때는 모든 문서를 다 사용. \n",
    "total_samples = 5 # 5개 context만 사용\n",
    "\n",
    "index_list = list(range(len(docs)))\n",
    "random.shuffle(index_list)\n",
    "\n",
    "eval_context = [] # 추출한 context들을 담을 리스트\n",
    "while len(eval_context) < total_samples:\n",
    "    index = index_list.pop()\n",
    "    context = docs[index].page_content\n",
    "    if len(context) > 200: # 200글자 이상인 것만 사용.\n",
    "        eval_context.append(context)\n",
    "\n",
    "eval_context"
   ]
  },
  {
   "cell_type": "markdown",
   "metadata": {},
   "source": [
    "💬 요약   \n",
    "평가 데이터셋 생성을 위해 사용할 문서 5개를 eval_context 리스트에 랜덤으로 추출한다.   \n",
    "추출 시 문서 길이가 200자 이상인 경우만 포함하는데,   \n",
    "이는 제목이나 매우 짧은 문서(예: '올림픽'처럼 의미가 적은 내용)가 평가에 적합하지 않기 때문이다.   "
   ]
  },
  {
   "cell_type": "markdown",
   "metadata": {},
   "source": [
    "💡아래 코드 요약\n",
    "“LLM이 주어진 문서 기반으로 질문과 정답 쌍을 생성하여, 평가용 데이터셋을 만든다”"
   ]
  },
  {
   "cell_type": "code",
   "execution_count": 29,
   "metadata": {},
   "outputs": [],
   "source": [
    "# Context -> 질문과 답변을 생성하는 Chain\n",
    "# JsonOutputParser를 사용.\n",
    "## 스키마 생성.\n",
    "### LLM으로 부터 응답받을 값들을 설계.\n",
    "class EvalSchema(BaseModel):\n",
    "    user_input: str = Field(..., description=\"사용자 질문\") # 스키마 변수에 대한 설정. `...` 시작: 필수\n",
    "    reference: str = Field(..., description=\"user_input(사용자 질문)에 대한 정답\")\n",
    "    qa_context: str = Field(..., description=\"질문, 답변 쌍을 만들때 참조한 context. 입력된 context를 수정하지 않고 그대로 넣는다.\")\n",
    "\n",
    "parser = JsonOutputParser(pydantic_object=EvalSchema)\n",
    "\n",
    "template = \"\"\"# Instruction:\n",
    "당신은 RAG 평가를 위해 질문과 정답 쌍을 생성하는 인공지능 비서입니다.\n",
    "다음 [Context] 에 문서가 주어지면 해당 문서를 기반으로 {num_questions}개 질문-정답 쌍을 생성하세요. \n",
    "\n",
    "질문과 정답을 생성한 후 Output Indicator의 format으로 출력합니다.\n",
    "질문은 반드시 Context 문서에 있는 정보를 바탕으로 생성해야 합니다. Context에 없는 내용을 가지고 질문-정답을 절대 만들면 안됩니다.\n",
    "올림픽에 관심있는 일반 사용자 관점의 자연스러운 질문을 작성합니다.\n",
    "질문은 간결하게 작성합니다.\n",
    "하나의 질문에는 한 가지씩만 내용만 작성합니다.\n",
    "질문을 만들 때 \"제공된 문맥에서\", \"문서에 설명된 대로\", \"주어진 문서에 따라\" 또는 이와 유사한 말을 하지 마세요.\n",
    "정답은 반드시 Context에 있는 정보를 바탕으로 작성합니다. 없는 내용을 추가하지 않습니다.\n",
    "질문과 정답을 만들고 그 내용이 Context에 있는 항목인지 다시 한번 확인합니다.\n",
    "생성된 질문-답변 쌍은 반드시 dictionary 형태로 정의하고 list로 묶어서 반환해야 합니다.\n",
    "질문-답변 쌍은 반드시 {num_questions}개를 만들어야 합니다.\n",
    "\n",
    "#Context:\n",
    "{context}\n",
    "\n",
    "Output Indicator:\n",
    "{format_instructions}\n",
    "\"\"\"\n",
    "\n",
    "prompt_template = PromptTemplate(\n",
    "    template=template, \n",
    "    partial_variables={\"format_instructions\": parser.get_format_instructions()}\n",
    ")\n",
    "eval_model = ChatOpenAI(model=\"gpt-4.1\")\n",
    "eval_dataset_chain = prompt_template | eval_model | parser"
   ]
  },
  {
   "cell_type": "markdown",
   "metadata": {},
   "source": [
    "### 코드 요약 \n",
    "\n",
    "* **`EvalSchema`** 클래스:\n",
    "  질문-답변 쌍 생성 시 반환할 JSON 형식(스키마)을 정의\n",
    "\n",
    "  * `user_input`: 사용자 질문 (⭐평가용 질문)\n",
    "  * `reference`: 질문에 대한 정답 (⭐평가용 정답)\n",
    "  * `qa_context`: 질문-답변 생성에 참조한 원본 문서 컨텍스트\n",
    "\n",
    "* **`JsonOutputParser`**:\n",
    "  LLM 응답을 `EvalSchema` 스키마에 맞게 JSON 파싱하도록 설정\n",
    "\n",
    "* **프롬프트 템플릿**:\n",
    "  RAG 평가용 질문-정답 쌍을 생성하는 역할\n",
    "\n",
    "  * 주어진 문서(`context`) 기반으로 지정된 개수(`num_questions`)만큼 자연스러운 질문과 정답 생성 요청\n",
    "  * 질문과 답변은 모두 컨텍스트 내 정보만 사용해야 함\n",
    "  * 출력 형식은 JSON 스키마에 맞춰야 함\n",
    "\n",
    "* **`eval_dataset_chain`**:\n",
    "  프롬프트 템플릿 → LLM 모델(GPT-4.1) → JSON 파서 순서로 연결된 체인\n",
    "  → 주어진 문서를 입력받아 평가용 질문-답변 쌍을 생성하고, 정형화된 JSON으로 반환\n",
    "\n",
    "---\n",
    "```python\n",
    "  partial_variables = {\n",
    "    \"format_instructions\": parser.get_format_instructions()\n",
    "  }\n",
    "```\n",
    "위 코드의 역할은? 🤔\n",
    "- partial_variables를 통해 {format_instructions} 변수를 미리 세팅해\n",
    "- 프롬프트 생성 시 이 부분이 자동으로 채워지도록 하는 것\n",
    "- 덕분에 프롬프트를 호출할 때마다 format instructions를 별도로 넣지 않아도 됨"
   ]
  },
  {
   "cell_type": "code",
   "execution_count": 33,
   "metadata": {},
   "outputs": [
    {
     "data": {
      "text/plain": [
       "[{'user_input': '올림픽 부활을 최초로 제안한 사람은 누구인가요?',\n",
       "  'reference': \"파나요티스 수초스가 1833년 자신의 시 '망자의 대화'에서 올림픽 부활을 최초로 제안했습니다.\",\n",
       "  'qa_context': '1821년 그리스에서는 오스만 제국의 지배에 반기를 들고 독립 전쟁이 일어나면서, 이때부터 올림픽 부활에 대한 관심이 생겨났다. 시인이자 신문 편집자였던 파나요티스 수초스(Παναγιώτης Σούτσος)는 1833년에 출간한 자신의 시 \\'망자(亡者)의 대화\\'에서 최초로 올림픽 부활에 대한 제안을 내놓았다. 그리스의 부유한 박애주의자였던 에방겔리스 자파스(Ευαγγέλης Ζάππας)는 1859년에 아테네 시 광장에서 열린 \"올림픽 경기(일명 자파스 올림픽)\"를 후원하였다. 이 경기에는 그리스와 오스만 제국 출신의 선수들이 참가하였다. 에방겔리스 자파스는 이후에도 올림픽 경기를 개최할 수 있도록 고대의 경기장이었던 파나티네코 경기장을 복원하는 데도 돈을 썼다. 파나티네코 경기장에서 1870년과 1875년에 자파스 올림픽을 개최했으며, 현대 올림픽인 2004년 하계 올림픽 때는 양궁 경기장으로도 쓰였다.'},\n",
       " {'user_input': '에방겔리스 자파스가 후원한 올림픽 경기는 언제 어디서 열렸나요?',\n",
       "  'reference': '어 1859년에 아테네 시 광장에서 열린 올림픽 경기를 에방겔리스 자파스가 후원했습니다.',\n",
       "  'qa_context': '1821년 그리스에서는 오스만 제국의 지배에 반기를 들고 독립 전쟁이 일어나면서, 이때부터 올림픽 부활에 대한 관심이 생겨났다. 시인이자 신문 편집자였던 파나요티스 수초스(Παναγιώτης Σούτσος)는 1833년에 출간한 자신의 시 \\'망자(亡者)의 대화\\'에서 최초로 올림픽 부활에 대한 제안을 내놓았다. 그리스의 부유한 박애주의자였던 에방겔리스 자파스(Ευαγγέλης Ζάππας)는 1859년에 아테네 시 광장에서 열린 \"올림픽 경기(일명 자파스 올림픽)\"를 후원하였다. 이 경기에는 그리스와 오스만 제국 출신의 선수들이 참가하였다. 에방겔리스 자파스는 이후에도 올림픽 경기를 개최할 수 있도록 고대의 경기장이었던 파나티네코 경기장을 복원하는 데도 돈을 썼다. 파나티네코 경기장에서 1870년과 1875년에 자파스 올림픽을 개최했으며, 현대 올림픽인 2004년 하계 올림픽 때는 양궁 경기장으로도 쓰였다.'},\n",
       " {'user_input': '파나티네코 경기장은 어느 현대 올림픽에서 어떤 목적으로 사용되었나요?',\n",
       "  'reference': '파나티네코 경기장은 2004년 하계 올림픽 때 양궁 경기장으로 사용되었습니다.',\n",
       "  'qa_context': '1821년 그리스에서는 오스만 제국의 지배에 반기를 들고 독립 전쟁이 일어나면서, 이때부터 올림픽 부활에 대한 관심이 생겨났다. 시인이자 신문 편집자였던 파나요티스 수초스(Παναγιώτης Σούτσος)는 1833년에 출간한 자신의 시 \\'망자(亡者)의 대화\\'에서 최초로 올림픽 부활에 대한 제안을 내놓았다. 그리스의 부유한 박애주의자였던 에방겔리스 자파스(Ευαγγέλης Ζάππας)는 1859년에 아테네 시 광장에서 열린 \"올림픽 경기(일명 자파스 올림픽)\"를 후원하였다. 이 경기에는 그리스와 오스만 제국 출신의 선수들이 참가하였다. 에방겔리스 자파스는 이후에도 올림픽 경기를 개최할 수 있도록 고대의 경기장이었던 파나티네코 경기장을 복원하는 데도 돈을 썼다. 파나티네코 경기장에서 1870년과 1875년에 자파스 올림픽을 개최했으며, 현대 올림픽인 2004년 하계 올림픽 때는 양궁 경기장으로도 쓰였다.'}]"
      ]
     },
     "execution_count": 33,
     "metadata": {},
     "output_type": "execute_result"
    }
   ],
   "source": [
    "eval_dataset_chain.invoke({\"context\":eval_context[0], \"num_questions\":3})"
   ]
  },
  {
   "cell_type": "code",
   "execution_count": 32,
   "metadata": {},
   "outputs": [
    {
     "data": {
      "text/plain": [
       "'1821년 그리스에서는 오스만 제국의 지배에 반기를 들고 독립 전쟁이 일어나면서, 이때부터 올림픽 부활에 대한 관심이 생겨났다. 시인이자 신문 편집자였던 파나요티스 수초스(Παναγιώτης Σούτσος)는 1833년에 출간한 자신의 시 \\'망자(亡者)의 대화\\'에서 최초로 올림픽 부활에 대한 제안을 내놓았다. 그리스의 부유한 박애주의자였던 에방겔리스 자파스(Ευαγγέλης Ζάππας)는 1859년에 아테네 시 광장에서 열린 \"올림픽 경기(일명 자파스 올림픽)\"를 후원하였다. 이 경기에는 그리스와 오스만 제국 출신의 선수들이 참가하였다. 에방겔리스 자파스는 이후에도 올림픽 경기를 개최할 수 있도록 고대의 경기장이었던 파나티네코 경기장을 복원하는 데도 돈을 썼다. 파나티네코 경기장에서 1870년과 1875년에 자파스 올림픽을 개최했으며, 현대 올림픽인 2004년 하계 올림픽 때는 양궁 경기장으로도 쓰였다.'"
      ]
     },
     "execution_count": 32,
     "metadata": {},
     "output_type": "execute_result"
    }
   ],
   "source": [
    "eval_context[0]"
   ]
  },
  {
   "cell_type": "code",
   "execution_count": 34,
   "metadata": {},
   "outputs": [],
   "source": [
    "# context당 5개씩 질문을 생성\n",
    "eval_dataset_list = []\n",
    "num_questions = 5\n",
    "for context in eval_context:\n",
    "    eval_data = eval_dataset_chain.invoke({\"context\":context, \"num_questions\":num_questions})\n",
    "    eval_dataset_list.extend(eval_data)"
   ]
  },
  {
   "cell_type": "code",
   "execution_count": 35,
   "metadata": {},
   "outputs": [
    {
     "data": {
      "text/plain": [
       "25"
      ]
     },
     "execution_count": 35,
     "metadata": {},
     "output_type": "execute_result"
    }
   ],
   "source": [
    "len(eval_dataset_list)"
   ]
  },
  {
   "cell_type": "markdown",
   "metadata": {},
   "source": [
    "context당 5개씩 질문 생성 * context가 5개 = 총 25개"
   ]
  },
  {
   "cell_type": "code",
   "execution_count": 36,
   "metadata": {},
   "outputs": [
    {
     "data": {
      "text/plain": [
       "{'user_input': '에방겔리스 자파스가 복원에 힘쓴 고대 경기장은 무엇인가요?',\n",
       " 'reference': '에방겔리스 자파스가 복원에 힘쓴 고대 경기장은 파나티네코 경기장입니다.',\n",
       " 'qa_context': '1821년 그리스에서는 오스만 제국의 지배에 반기를 들고 독립 전쟁이 일어나면서, 이때부터 올림픽 부활에 대한 관심이 생겨났다. 시인이자 신문 편집자였던 파나요티스 수초스(Παναγιώτης Σούτσος)는 1833년에 출간한 자신의 시 \\'망자(亡者)의 대화\\'에서 최초로 올림픽 부활에 대한 제안을 내놓았다. 그리스의 부유한 박애주의자였던 에방겔리스 자파스(Ευαγγέλης Ζάππας)는 1859년에 아테네 시 광장에서 열린 \"올림픽 경기(일명 자파스 올림픽)\"를 후원하였다. 이 경기에는 그리스와 오스만 제국 출신의 선수들이 참가하였다. 에방겔리스 자파스는 이후에도 올림픽 경기를 개최할 수 있도록 고대의 경기장이었던 파나티네코 경기장을 복원하는 데도 돈을 썼다. 파나티네코 경기장에서 1870년과 1875년에 자파스 올림픽을 개최했으며, 현대 올림픽인 2004년 하계 올림픽 때는 양궁 경기장으로도 쓰였다.'}"
      ]
     },
     "execution_count": 36,
     "metadata": {},
     "output_type": "execute_result"
    }
   ],
   "source": [
    "################# 생성된 질문 쌍을 반드시 검토 해야 한다.#################\n",
    "eval_dataset_list[3]"
   ]
  },
  {
   "cell_type": "code",
   "execution_count": 37,
   "metadata": {},
   "outputs": [
    {
     "data": {
      "text/html": [
       "<div>\n",
       "<style scoped>\n",
       "    .dataframe tbody tr th:only-of-type {\n",
       "        vertical-align: middle;\n",
       "    }\n",
       "\n",
       "    .dataframe tbody tr th {\n",
       "        vertical-align: top;\n",
       "    }\n",
       "\n",
       "    .dataframe thead th {\n",
       "        text-align: right;\n",
       "    }\n",
       "</style>\n",
       "<table border=\"1\" class=\"dataframe\">\n",
       "  <thead>\n",
       "    <tr style=\"text-align: right;\">\n",
       "      <th></th>\n",
       "      <th>user_input</th>\n",
       "      <th>reference</th>\n",
       "      <th>qa_context</th>\n",
       "    </tr>\n",
       "  </thead>\n",
       "  <tbody>\n",
       "    <tr>\n",
       "      <th>0</th>\n",
       "      <td>올림픽 부활에 대한 최초의 제안은 누가 했나요?</td>\n",
       "      <td>시인이자 신문 편집자였던 파나요티스 수초스가 1833년에 자신의 시 '망자(亡者)의...</td>\n",
       "      <td>1821년 그리스에서는 오스만 제국의 지배에 반기를 들고 독립 전쟁이 일어나면서, ...</td>\n",
       "    </tr>\n",
       "    <tr>\n",
       "      <th>1</th>\n",
       "      <td>1859년에 아테네에서는 어떤 올림픽 경기가 열렸나요?</td>\n",
       "      <td>아테네 시 광장에서 1859년에 \"올림픽 경기(일명 자파스 올림픽)\"가 열렸습니다.</td>\n",
       "      <td>1821년 그리스에서는 오스만 제국의 지배에 반기를 들고 독립 전쟁이 일어나면서, ...</td>\n",
       "    </tr>\n",
       "    <tr>\n",
       "      <th>2</th>\n",
       "      <td>자파스 올림픽에는 어떤 나라 출신의 선수들이 참가했나요?</td>\n",
       "      <td>자파스 올림픽에는 그리스와 오스만 제국 출신의 선수들이 참가했습니다.</td>\n",
       "      <td>1821년 그리스에서는 오스만 제국의 지배에 반기를 들고 독립 전쟁이 일어나면서, ...</td>\n",
       "    </tr>\n",
       "    <tr>\n",
       "      <th>3</th>\n",
       "      <td>에방겔리스 자파스가 복원에 힘쓴 고대 경기장은 무엇인가요?</td>\n",
       "      <td>에방겔리스 자파스가 복원에 힘쓴 고대 경기장은 파나티네코 경기장입니다.</td>\n",
       "      <td>1821년 그리스에서는 오스만 제국의 지배에 반기를 들고 독립 전쟁이 일어나면서, ...</td>\n",
       "    </tr>\n",
       "    <tr>\n",
       "      <th>4</th>\n",
       "      <td>파나티네코 경기장은 2004년 하계 올림픽에서 어떤 종목 경기에 사용되었나요?</td>\n",
       "      <td>파나티네코 경기장은 2004년 하계 올림픽에서 양궁 경기장으로 사용되었습니다.</td>\n",
       "      <td>1821년 그리스에서는 오스만 제국의 지배에 반기를 들고 독립 전쟁이 일어나면서, ...</td>\n",
       "    </tr>\n",
       "  </tbody>\n",
       "</table>\n",
       "</div>"
      ],
      "text/plain": [
       "                                    user_input  \\\n",
       "0                   올림픽 부활에 대한 최초의 제안은 누가 했나요?   \n",
       "1               1859년에 아테네에서는 어떤 올림픽 경기가 열렸나요?   \n",
       "2              자파스 올림픽에는 어떤 나라 출신의 선수들이 참가했나요?   \n",
       "3             에방겔리스 자파스가 복원에 힘쓴 고대 경기장은 무엇인가요?   \n",
       "4  파나티네코 경기장은 2004년 하계 올림픽에서 어떤 종목 경기에 사용되었나요?   \n",
       "\n",
       "                                           reference  \\\n",
       "0  시인이자 신문 편집자였던 파나요티스 수초스가 1833년에 자신의 시 '망자(亡者)의...   \n",
       "1     아테네 시 광장에서 1859년에 \"올림픽 경기(일명 자파스 올림픽)\"가 열렸습니다.   \n",
       "2             자파스 올림픽에는 그리스와 오스만 제국 출신의 선수들이 참가했습니다.   \n",
       "3            에방겔리스 자파스가 복원에 힘쓴 고대 경기장은 파나티네코 경기장입니다.   \n",
       "4        파나티네코 경기장은 2004년 하계 올림픽에서 양궁 경기장으로 사용되었습니다.   \n",
       "\n",
       "                                          qa_context  \n",
       "0  1821년 그리스에서는 오스만 제국의 지배에 반기를 들고 독립 전쟁이 일어나면서, ...  \n",
       "1  1821년 그리스에서는 오스만 제국의 지배에 반기를 들고 독립 전쟁이 일어나면서, ...  \n",
       "2  1821년 그리스에서는 오스만 제국의 지배에 반기를 들고 독립 전쟁이 일어나면서, ...  \n",
       "3  1821년 그리스에서는 오스만 제국의 지배에 반기를 들고 독립 전쟁이 일어나면서, ...  \n",
       "4  1821년 그리스에서는 오스만 제국의 지배에 반기를 들고 독립 전쟁이 일어나면서, ...  "
      ]
     },
     "execution_count": 37,
     "metadata": {},
     "output_type": "execute_result"
    }
   ],
   "source": [
    "# DataFrame으로 생성\n",
    "import pandas as pd\n",
    "eval_df = pd.DataFrame(eval_dataset_list)\n",
    "eval_df.head()"
   ]
  },
  {
   "cell_type": "code",
   "execution_count": 38,
   "metadata": {},
   "outputs": [
    {
     "name": "stdout",
     "output_type": "stream",
     "text": [
      "<class 'pandas.core.frame.DataFrame'>\n",
      "RangeIndex: 25 entries, 0 to 24\n",
      "Data columns (total 3 columns):\n",
      " #   Column      Non-Null Count  Dtype \n",
      "---  ------      --------------  ----- \n",
      " 0   user_input  25 non-null     object\n",
      " 1   reference   25 non-null     object\n",
      " 2   qa_context  25 non-null     object\n",
      "dtypes: object(3)\n",
      "memory usage: 732.0+ bytes\n"
     ]
    }
   ],
   "source": [
    "eval_df.info()"
   ]
  },
  {
   "cell_type": "code",
   "execution_count": null,
   "metadata": {},
   "outputs": [],
   "source": [
    "#### 평가할 RAG chain(rag_chain)을 이용해서 context 문서들과 llm 응답을 받아서 \n",
    "##        평가 데이터셋을 완성.\n",
    "# user_input -> (rag_chain) -> {llm_answer, source_context}\n",
    "context_list = []  # source_context들을 저장할 리스트\n",
    "response_list = [] # llm_answer들을 저장할 리스트\n",
    "\n",
    "for user_input in eval_df['user_input']:\n",
    "    resp = rag_chain.invoke(user_input)\n",
    "    context_list.append(resp['source_context'])\n",
    "    response_list.append(resp['llm_answer'])"
   ]
  },
  {
   "cell_type": "markdown",
   "metadata": {},
   "source": [
    "💬 요약   \n",
    "평가 시작! 위에서 만든 질문-답변 쌍은 평가 데이터셋으로, 각각 평가를 위해 넣을 사용자 질문(Input), 그에 기대되는 정답이다.    \n",
    "질문을 평가할 모델에 넣어서 답변을 생성한 뒤, 이를 정답과 비교하는 거다! "
   ]
  },
  {
   "cell_type": "code",
   "execution_count": 40,
   "metadata": {},
   "outputs": [
    {
     "data": {
      "text/plain": [
       "(25, 25)"
      ]
     },
     "execution_count": 40,
     "metadata": {},
     "output_type": "execute_result"
    }
   ],
   "source": [
    "len(context_list), len(response_list)"
   ]
  },
  {
   "cell_type": "code",
   "execution_count": 41,
   "metadata": {},
   "outputs": [
    {
     "data": {
      "text/plain": [
       "'올림픽 부활에 대한 최초의 제안은 누가 했나요?'"
      ]
     },
     "execution_count": 41,
     "metadata": {},
     "output_type": "execute_result"
    }
   ],
   "source": [
    "eval_df.loc[0, 'user_input']"
   ]
  },
  {
   "cell_type": "code",
   "execution_count": 42,
   "metadata": {},
   "outputs": [
    {
     "data": {
      "text/plain": [
       "\"올림픽 부활에 대한 최초의 제안은 시인이자 신문 편집자였던 파나요티스 수초스(Παναγιώτης Σούτσος)가 1833년에 출간한 자신의 시 '망자(亡者)의 대화'에서 했습니다.\""
      ]
     },
     "execution_count": 42,
     "metadata": {},
     "output_type": "execute_result"
    }
   ],
   "source": [
    "response_list[0]"
   ]
  },
  {
   "cell_type": "code",
   "execution_count": 43,
   "metadata": {},
   "outputs": [
    {
     "data": {
      "text/plain": [
       "['1821년 그리스에서는 오스만 제국의 지배에 반기를 들고 독립 전쟁이 일어나면서, 이때부터 올림픽 부활에 대한 관심이 생겨났다. 시인이자 신문 편집자였던 파나요티스 수초스(Παναγιώτης Σούτσος)는 1833년에 출간한 자신의 시 \\'망자(亡者)의 대화\\'에서 최초로 올림픽 부활에 대한 제안을 내놓았다. 그리스의 부유한 박애주의자였던 에방겔리스 자파스(Ευαγγέλης Ζάππας)는 1859년에 아테네 시 광장에서 열린 \"올림픽 경기(일명 자파스 올림픽)\"를 후원하였다. 이 경기에는 그리스와 오스만 제국 출신의 선수들이 참가하였다. 에방겔리스 자파스는 이후에도 올림픽 경기를 개최할 수 있도록 고대의 경기장이었던 파나티네코 경기장을 복원하는 데도 돈을 썼다. 파나티네코 경기장에서 1870년과 1875년에 자파스 올림픽을 개최했으며, 현대 올림픽인 2004년 하계 올림픽 때는 양궁 경기장으로도 쓰였다.',\n",
       " \"근대올림픽\\n고대 올림피아 경기를 제대로 구현한 최초의 시도는 혁명 시대의 프랑스에서 1796년부터 1798년까지 3년동안 실시했던 프랑스 국내 올림픽인 '공화국 올림픽'(L'Olympiade de la République)이었다. 이 대회의 종목 중에는 고대 그리스 올림피아 경기 때 행한 일부 종목도 있었다. 특히 1798년 공화국 올림픽 대회는 미터법을 최초로 스포츠에 도입시킨 대회이기도 하다. 이후 52년뒤인 1850년에는 잉글랜드 슈롭셔주의 웬록에서 올림픽급의 대회가 열리기 시작하였다. 이 대회는 1859년에 아테네에서 열렸을 때 웬록 올림픽으로 명칭이 변경되었으며 지금도 열리고 있다. 브룩스 박사는 1859년에 아테네에서 열린 올림픽 경기의 내용을 이후 경기에 채택하였다. 1866년 런던의 수정궁에서는 윌리엄 페니 브룩스가 영국의 국가 올림픽 대회를 만들었다.\",\n",
       " '역사학자였던 쿠베르탱은 프로이센-프랑스 전쟁(1870–1871)에서 프랑스의 패배 원인을 분석하면서 군사들이 체계적인 체력 훈련을 받지 않았기 때문에 전쟁에서 패배했다고 말한 인물이다. 1890년 웬록 올림픽에 참석한 쿠베르탱은 그 이후부터 올림픽을 대규모로 부활시킬 수 있으리라 생각했다. 쿠베르탱은 웬록 올림픽과 자파스 올림픽을 토대로 하여 올림픽 경기를 국제적으로 시행하기 위해 나라별로 올림픽을 번갈아가며 개최하는 방식을 생각해냈다. 그는 이 방안을 새로 설립된 국제 올림픽 위원회(IOC)의 첫 올림픽 의회 기간 중에 언급했다. 총회는 파리의 소르본 대학교에서 1894년 6월 16일부터 6월 23일까지 7일간 지속되었으며, 총회 마지막날, 2년 후인 1896년에 아테네에서 국제적 규모의 올림픽 대회를 열기로 결정되었다. IOC는 올림픽을 조직하는 데에 모든 책임을 졌으며, 초대 위원장으로는 그리스의 작가였던 디미트리오스 비켈라스(Δημήτριος Βικέλας)가 선출되었다.',\n",
       " '국제올림픽위원회(IOC)는 근대 올림픽은 순환 개최로 열리는 세계적인 행사가 되어야 한다고 생각했다. 결국 2회 올림픽은 프랑스 파리에서 열기로 결정되었다.']"
      ]
     },
     "execution_count": 43,
     "metadata": {},
     "output_type": "execute_result"
    }
   ],
   "source": [
    "context_list[0]"
   ]
  },
  {
   "cell_type": "code",
   "execution_count": 44,
   "metadata": {},
   "outputs": [],
   "source": [
    "eval_df['response'] = response_list\n",
    "eval_df['retrieved_contexts'] = context_list"
   ]
  },
  {
   "cell_type": "code",
   "execution_count": 45,
   "metadata": {},
   "outputs": [
    {
     "data": {
      "text/html": [
       "<div>\n",
       "<style scoped>\n",
       "    .dataframe tbody tr th:only-of-type {\n",
       "        vertical-align: middle;\n",
       "    }\n",
       "\n",
       "    .dataframe tbody tr th {\n",
       "        vertical-align: top;\n",
       "    }\n",
       "\n",
       "    .dataframe thead th {\n",
       "        text-align: right;\n",
       "    }\n",
       "</style>\n",
       "<table border=\"1\" class=\"dataframe\">\n",
       "  <thead>\n",
       "    <tr style=\"text-align: right;\">\n",
       "      <th></th>\n",
       "      <th>user_input</th>\n",
       "      <th>reference</th>\n",
       "      <th>qa_context</th>\n",
       "      <th>response</th>\n",
       "      <th>retrieved_contexts</th>\n",
       "    </tr>\n",
       "  </thead>\n",
       "  <tbody>\n",
       "    <tr>\n",
       "      <th>0</th>\n",
       "      <td>올림픽 부활에 대한 최초의 제안은 누가 했나요?</td>\n",
       "      <td>시인이자 신문 편집자였던 파나요티스 수초스가 1833년에 자신의 시 '망자(亡者)의...</td>\n",
       "      <td>1821년 그리스에서는 오스만 제국의 지배에 반기를 들고 독립 전쟁이 일어나면서, ...</td>\n",
       "      <td>올림픽 부활에 대한 최초의 제안은 시인이자 신문 편집자였던 파나요티스 수초스(Παν...</td>\n",
       "      <td>[1821년 그리스에서는 오스만 제국의 지배에 반기를 들고 독립 전쟁이 일어나면서,...</td>\n",
       "    </tr>\n",
       "    <tr>\n",
       "      <th>1</th>\n",
       "      <td>1859년에 아테네에서는 어떤 올림픽 경기가 열렸나요?</td>\n",
       "      <td>아테네 시 광장에서 1859년에 \"올림픽 경기(일명 자파스 올림픽)\"가 열렸습니다.</td>\n",
       "      <td>1821년 그리스에서는 오스만 제국의 지배에 반기를 들고 독립 전쟁이 일어나면서, ...</td>\n",
       "      <td>1859년에 아테네 시 광장에서 \"자파스 올림픽\"이라고 불리는 올림픽 경기가 열렸습...</td>\n",
       "      <td>[1859년 자파스 올림픽에 참가한 선수의 수는 250명을 넘지 못했다. 에방겔리스...</td>\n",
       "    </tr>\n",
       "    <tr>\n",
       "      <th>2</th>\n",
       "      <td>자파스 올림픽에는 어떤 나라 출신의 선수들이 참가했나요?</td>\n",
       "      <td>자파스 올림픽에는 그리스와 오스만 제국 출신의 선수들이 참가했습니다.</td>\n",
       "      <td>1821년 그리스에서는 오스만 제국의 지배에 반기를 들고 독립 전쟁이 일어나면서, ...</td>\n",
       "      <td>정보가 부족해서 답을 알 수 없습니다.</td>\n",
       "      <td>[1859년 자파스 올림픽에 참가한 선수의 수는 250명을 넘지 못했다. 에방겔리스...</td>\n",
       "    </tr>\n",
       "    <tr>\n",
       "      <th>3</th>\n",
       "      <td>에방겔리스 자파스가 복원에 힘쓴 고대 경기장은 무엇인가요?</td>\n",
       "      <td>에방겔리스 자파스가 복원에 힘쓴 고대 경기장은 파나티네코 경기장입니다.</td>\n",
       "      <td>1821년 그리스에서는 오스만 제국의 지배에 반기를 들고 독립 전쟁이 일어나면서, ...</td>\n",
       "      <td>에방겔리스 자파스가 복원에 힘쓴 고대 경기장은 파나티네코 경기장입니다.</td>\n",
       "      <td>[1859년 자파스 올림픽에 참가한 선수의 수는 250명을 넘지 못했다. 에방겔리스...</td>\n",
       "    </tr>\n",
       "    <tr>\n",
       "      <th>4</th>\n",
       "      <td>파나티네코 경기장은 2004년 하계 올림픽에서 어떤 종목 경기에 사용되었나요?</td>\n",
       "      <td>파나티네코 경기장은 2004년 하계 올림픽에서 양궁 경기장으로 사용되었습니다.</td>\n",
       "      <td>1821년 그리스에서는 오스만 제국의 지배에 반기를 들고 독립 전쟁이 일어나면서, ...</td>\n",
       "      <td>정보가 부족해서 답을 알 수 없습니다.</td>\n",
       "      <td>[2002년에 열린 제114차 IOC 총회에서는 하계 올림픽 종목은 최대 28부문 ...</td>\n",
       "    </tr>\n",
       "  </tbody>\n",
       "</table>\n",
       "</div>"
      ],
      "text/plain": [
       "                                    user_input  \\\n",
       "0                   올림픽 부활에 대한 최초의 제안은 누가 했나요?   \n",
       "1               1859년에 아테네에서는 어떤 올림픽 경기가 열렸나요?   \n",
       "2              자파스 올림픽에는 어떤 나라 출신의 선수들이 참가했나요?   \n",
       "3             에방겔리스 자파스가 복원에 힘쓴 고대 경기장은 무엇인가요?   \n",
       "4  파나티네코 경기장은 2004년 하계 올림픽에서 어떤 종목 경기에 사용되었나요?   \n",
       "\n",
       "                                           reference  \\\n",
       "0  시인이자 신문 편집자였던 파나요티스 수초스가 1833년에 자신의 시 '망자(亡者)의...   \n",
       "1     아테네 시 광장에서 1859년에 \"올림픽 경기(일명 자파스 올림픽)\"가 열렸습니다.   \n",
       "2             자파스 올림픽에는 그리스와 오스만 제국 출신의 선수들이 참가했습니다.   \n",
       "3            에방겔리스 자파스가 복원에 힘쓴 고대 경기장은 파나티네코 경기장입니다.   \n",
       "4        파나티네코 경기장은 2004년 하계 올림픽에서 양궁 경기장으로 사용되었습니다.   \n",
       "\n",
       "                                          qa_context  \\\n",
       "0  1821년 그리스에서는 오스만 제국의 지배에 반기를 들고 독립 전쟁이 일어나면서, ...   \n",
       "1  1821년 그리스에서는 오스만 제국의 지배에 반기를 들고 독립 전쟁이 일어나면서, ...   \n",
       "2  1821년 그리스에서는 오스만 제국의 지배에 반기를 들고 독립 전쟁이 일어나면서, ...   \n",
       "3  1821년 그리스에서는 오스만 제국의 지배에 반기를 들고 독립 전쟁이 일어나면서, ...   \n",
       "4  1821년 그리스에서는 오스만 제국의 지배에 반기를 들고 독립 전쟁이 일어나면서, ...   \n",
       "\n",
       "                                            response  \\\n",
       "0  올림픽 부활에 대한 최초의 제안은 시인이자 신문 편집자였던 파나요티스 수초스(Παν...   \n",
       "1  1859년에 아테네 시 광장에서 \"자파스 올림픽\"이라고 불리는 올림픽 경기가 열렸습...   \n",
       "2                              정보가 부족해서 답을 알 수 없습니다.   \n",
       "3            에방겔리스 자파스가 복원에 힘쓴 고대 경기장은 파나티네코 경기장입니다.   \n",
       "4                              정보가 부족해서 답을 알 수 없습니다.   \n",
       "\n",
       "                                  retrieved_contexts  \n",
       "0  [1821년 그리스에서는 오스만 제국의 지배에 반기를 들고 독립 전쟁이 일어나면서,...  \n",
       "1  [1859년 자파스 올림픽에 참가한 선수의 수는 250명을 넘지 못했다. 에방겔리스...  \n",
       "2  [1859년 자파스 올림픽에 참가한 선수의 수는 250명을 넘지 못했다. 에방겔리스...  \n",
       "3  [1859년 자파스 올림픽에 참가한 선수의 수는 250명을 넘지 못했다. 에방겔리스...  \n",
       "4  [2002년에 열린 제114차 IOC 총회에서는 하계 올림픽 종목은 최대 28부문 ...  "
      ]
     },
     "execution_count": 45,
     "metadata": {},
     "output_type": "execute_result"
    }
   ],
   "source": [
    "eval_df.head()"
   ]
  },
  {
   "cell_type": "markdown",
   "metadata": {},
   "source": [
    "`reference`가 정답, `response`가 llm 응답이다. 이 둘을 비교해서 평가한다."
   ]
  },
  {
   "cell_type": "code",
   "execution_count": 46,
   "metadata": {},
   "outputs": [
    {
     "data": {
      "text/plain": [
       "EvaluationDataset(features=['user_input', 'retrieved_contexts', 'response', 'reference'], len=25)"
      ]
     },
     "execution_count": 46,
     "metadata": {},
     "output_type": "execute_result"
    }
   ],
   "source": [
    "###################################\n",
    "#  RAGAS 의 EvaluationDataset 생성\n",
    "###################################\n",
    "# feature로 \"user_input\", \"response\", \"retrieved_contexts\", \"referece\"를 가진 DataFrame으로부터\n",
    "#     EvaluationDataset생성\n",
    "evaludation_dataset = EvaluationDataset.from_pandas(eval_df)\n",
    "evaludation_dataset"
   ]
  },
  {
   "cell_type": "code",
   "execution_count": 47,
   "metadata": {},
   "outputs": [
    {
     "data": {
      "application/vnd.jupyter.widget-view+json": {
       "model_id": "0b6e206b9d514544addb21a1b7a2d3d8",
       "version_major": 2,
       "version_minor": 0
      },
      "text/plain": [
       "Evaluating:   0%|          | 0/100 [00:00<?, ?it/s]"
      ]
     },
     "metadata": {},
     "output_type": "display_data"
    }
   ],
   "source": [
    "#################################\n",
    "# 평가\n",
    "#################################\n",
    "eval_llm = LangchainLLMWrapper(ChatOpenAI(model=\"gpt-4.1-mini\"))\n",
    "eval_embedding = LangchainEmbeddingsWrapper(OpenAIEmbeddings(model=\"text-embedding-3-large\"))\n",
    "metrics = [\n",
    "    LLMContextPrecisionWithReference(llm=eval_llm),\n",
    "    LLMContextRecall(llm=eval_llm),\n",
    "    Faithfulness(llm=eval_llm),\n",
    "    AnswerRelevancy(llm=eval_llm, embeddings=eval_embedding)\n",
    "]\n",
    "\n",
    "eval_result = evaluate(dataset=evaludation_dataset, metrics=metrics)"
   ]
  },
  {
   "cell_type": "code",
   "execution_count": 48,
   "metadata": {},
   "outputs": [
    {
     "data": {
      "text/plain": [
       "{'llm_context_precision_with_reference': 0.7167, 'context_recall': 0.8800, 'faithfulness': 0.8700, 'answer_relevancy': 0.5657}"
      ]
     },
     "execution_count": 48,
     "metadata": {},
     "output_type": "execute_result"
    }
   ],
   "source": [
    "eval_result"
   ]
  },
  {
   "cell_type": "code",
   "execution_count": 49,
   "metadata": {},
   "outputs": [
    {
     "data": {
      "text/html": [
       "<div>\n",
       "<style scoped>\n",
       "    .dataframe tbody tr th:only-of-type {\n",
       "        vertical-align: middle;\n",
       "    }\n",
       "\n",
       "    .dataframe tbody tr th {\n",
       "        vertical-align: top;\n",
       "    }\n",
       "\n",
       "    .dataframe thead th {\n",
       "        text-align: right;\n",
       "    }\n",
       "</style>\n",
       "<table border=\"1\" class=\"dataframe\">\n",
       "  <thead>\n",
       "    <tr style=\"text-align: right;\">\n",
       "      <th></th>\n",
       "      <th>user_input</th>\n",
       "      <th>retrieved_contexts</th>\n",
       "      <th>response</th>\n",
       "      <th>reference</th>\n",
       "      <th>llm_context_precision_with_reference</th>\n",
       "      <th>context_recall</th>\n",
       "      <th>faithfulness</th>\n",
       "      <th>answer_relevancy</th>\n",
       "    </tr>\n",
       "  </thead>\n",
       "  <tbody>\n",
       "    <tr>\n",
       "      <th>0</th>\n",
       "      <td>올림픽 부활에 대한 최초의 제안은 누가 했나요?</td>\n",
       "      <td>[1821년 그리스에서는 오스만 제국의 지배에 반기를 들고 독립 전쟁이 일어나면서,...</td>\n",
       "      <td>올림픽 부활에 대한 최초의 제안은 시인이자 신문 편집자였던 파나요티스 수초스(Παν...</td>\n",
       "      <td>시인이자 신문 편집자였던 파나요티스 수초스가 1833년에 자신의 시 '망자(亡者)의...</td>\n",
       "      <td>1.000000</td>\n",
       "      <td>1.0</td>\n",
       "      <td>1.00</td>\n",
       "      <td>0.631045</td>\n",
       "    </tr>\n",
       "    <tr>\n",
       "      <th>1</th>\n",
       "      <td>1859년에 아테네에서는 어떤 올림픽 경기가 열렸나요?</td>\n",
       "      <td>[1859년 자파스 올림픽에 참가한 선수의 수는 250명을 넘지 못했다. 에방겔리스...</td>\n",
       "      <td>1859년에 아테네 시 광장에서 \"자파스 올림픽\"이라고 불리는 올림픽 경기가 열렸습...</td>\n",
       "      <td>아테네 시 광장에서 1859년에 \"올림픽 경기(일명 자파스 올림픽)\"가 열렸습니다.</td>\n",
       "      <td>0.916667</td>\n",
       "      <td>1.0</td>\n",
       "      <td>1.00</td>\n",
       "      <td>0.351685</td>\n",
       "    </tr>\n",
       "    <tr>\n",
       "      <th>2</th>\n",
       "      <td>자파스 올림픽에는 어떤 나라 출신의 선수들이 참가했나요?</td>\n",
       "      <td>[1859년 자파스 올림픽에 참가한 선수의 수는 250명을 넘지 못했다. 에방겔리스...</td>\n",
       "      <td>정보가 부족해서 답을 알 수 없습니다.</td>\n",
       "      <td>자파스 올림픽에는 그리스와 오스만 제국 출신의 선수들이 참가했습니다.</td>\n",
       "      <td>0.000000</td>\n",
       "      <td>0.0</td>\n",
       "      <td>0.00</td>\n",
       "      <td>0.000000</td>\n",
       "    </tr>\n",
       "    <tr>\n",
       "      <th>3</th>\n",
       "      <td>에방겔리스 자파스가 복원에 힘쓴 고대 경기장은 무엇인가요?</td>\n",
       "      <td>[1859년 자파스 올림픽에 참가한 선수의 수는 250명을 넘지 못했다. 에방겔리스...</td>\n",
       "      <td>에방겔리스 자파스가 복원에 힘쓴 고대 경기장은 파나티네코 경기장입니다.</td>\n",
       "      <td>에방겔리스 자파스가 복원에 힘쓴 고대 경기장은 파나티네코 경기장입니다.</td>\n",
       "      <td>1.000000</td>\n",
       "      <td>1.0</td>\n",
       "      <td>1.00</td>\n",
       "      <td>0.490382</td>\n",
       "    </tr>\n",
       "    <tr>\n",
       "      <th>4</th>\n",
       "      <td>파나티네코 경기장은 2004년 하계 올림픽에서 어떤 종목 경기에 사용되었나요?</td>\n",
       "      <td>[2002년에 열린 제114차 IOC 총회에서는 하계 올림픽 종목은 최대 28부문 ...</td>\n",
       "      <td>정보가 부족해서 답을 알 수 없습니다.</td>\n",
       "      <td>파나티네코 경기장은 2004년 하계 올림픽에서 양궁 경기장으로 사용되었습니다.</td>\n",
       "      <td>0.000000</td>\n",
       "      <td>0.0</td>\n",
       "      <td>0.00</td>\n",
       "      <td>0.000000</td>\n",
       "    </tr>\n",
       "    <tr>\n",
       "      <th>5</th>\n",
       "      <td>이라크가 올림픽에 참가하지 않은 이유는 무엇인가요?</td>\n",
       "      <td>[이라크는 경기를 끝낸 선수들이 있었지만 탄자니아가 이끄는 올림픽 보이콧에 가세했다...</td>\n",
       "      <td>이라크는 경기를 끝낸 선수들이 있었지만 탄자니아가 이끄는 올림픽 보이콧에 가세했기 ...</td>\n",
       "      <td>이라크는 경기를 끝낸 선수들이 있었지만 탄자니아가 이끄는 올림픽 보이콧에 가세했습니다.</td>\n",
       "      <td>1.000000</td>\n",
       "      <td>1.0</td>\n",
       "      <td>0.75</td>\n",
       "      <td>0.819970</td>\n",
       "    </tr>\n",
       "    <tr>\n",
       "      <th>6</th>\n",
       "      <td>중화민국이 1976년 몬트리올 올림픽을 보이콧한 이유는 무엇인가요?</td>\n",
       "      <td>[이라크는 경기를 끝낸 선수들이 있었지만 탄자니아가 이끄는 올림픽 보이콧에 가세했다...</td>\n",
       "      <td>중화민국(타이완)이 1976년 몬트리올 올림픽을 보이콧한 이유는 중화인민공화국(중국...</td>\n",
       "      <td>중화인민공화국(중국)이 몬트리올 올림픽 조직위원회에게 타이완을 '중화민국'의 이름으...</td>\n",
       "      <td>1.000000</td>\n",
       "      <td>1.0</td>\n",
       "      <td>1.00</td>\n",
       "      <td>0.600912</td>\n",
       "    </tr>\n",
       "    <tr>\n",
       "      <th>7</th>\n",
       "      <td>중화민국은 1984년 이후 어떤 이름과 상징으로 올림픽에 참가하나요?</td>\n",
       "      <td>[이라크는 경기를 끝낸 선수들이 있었지만 탄자니아가 이끄는 올림픽 보이콧에 가세했다...</td>\n",
       "      <td>중화민국(타이완)은 1984년 이후 올림픽에 참가할 때 중화 타이베이 올림픽기와 특...</td>\n",
       "      <td>1984년 이후 올림픽에 참가할 때는 중화 타이베이 올림픽기와 특별한 찬가를 사용합니다.</td>\n",
       "      <td>1.000000</td>\n",
       "      <td>1.0</td>\n",
       "      <td>1.00</td>\n",
       "      <td>0.534074</td>\n",
       "    </tr>\n",
       "    <tr>\n",
       "      <th>8</th>\n",
       "      <td>1980년 모스크바 올림픽에 몇 개국이 참가했나요?</td>\n",
       "      <td>[열린 L.A 올림픽때는 루마니아와 유고슬라비아를 제외한 소련과 동구권의 14개 국...</td>\n",
       "      <td>1980년 모스크바 올림픽에는 81개국이 참가했습니다.</td>\n",
       "      <td>1980년 모스크바 올림픽에는 81개국만 참가했습니다.</td>\n",
       "      <td>0.333333</td>\n",
       "      <td>1.0</td>\n",
       "      <td>1.00</td>\n",
       "      <td>0.806452</td>\n",
       "    </tr>\n",
       "    <tr>\n",
       "      <th>9</th>\n",
       "      <td>1984년 LA 올림픽에서 불참한 주요 국가는 어디였나요?</td>\n",
       "      <td>[열린 L.A 올림픽때는 루마니아와 유고슬라비아를 제외한 소련과 동구권의 14개 국...</td>\n",
       "      <td>1984년 LA 올림픽에서 불참한 주요 국가는 소련과 동구권의 14개 국가입니다. ...</td>\n",
       "      <td>1984년 LA 올림픽에서는 루마니아와 유고슬라비아를 제외한 소련과 동구권의 14개...</td>\n",
       "      <td>1.000000</td>\n",
       "      <td>1.0</td>\n",
       "      <td>1.00</td>\n",
       "      <td>0.756823</td>\n",
       "    </tr>\n",
       "    <tr>\n",
       "      <th>10</th>\n",
       "      <td>올림픽에서 금메달리스트가 어떤 대우를 받나요?</td>\n",
       "      <td>[감독 기구가 되었으며, 조직과 활동은 올림픽 헌장을 따른다. 오늘날 전 세계 대부...</td>\n",
       "      <td>올림픽 금메달리스트는 매우 큰 영예를 받으며 국가 영웅급의 대우를 받고 스포츠 스타...</td>\n",
       "      <td>올림픽 금메달리스트는 국가 영웅급의 대우를 받으며 스포츠 스타가 됩니다.</td>\n",
       "      <td>1.000000</td>\n",
       "      <td>1.0</td>\n",
       "      <td>1.00</td>\n",
       "      <td>0.690805</td>\n",
       "    </tr>\n",
       "    <tr>\n",
       "      <th>11</th>\n",
       "      <td>올림픽 메달리스트에게 지급되는 포상금이 어떻게 되나요?</td>\n",
       "      <td>[개인 혹은 팀으로 경기에 출전해서 1위, 2위, 3위를 한 선수는 메달을 받는다....</td>\n",
       "      <td>정보가 부족해서 답을 알 수 없습니다.</td>\n",
       "      <td>국가별로 올림픽 메달리스트들에게 지급하는 포상금도 큽니다.</td>\n",
       "      <td>0.500000</td>\n",
       "      <td>1.0</td>\n",
       "      <td>0.00</td>\n",
       "      <td>0.000000</td>\n",
       "    </tr>\n",
       "    <tr>\n",
       "      <th>12</th>\n",
       "      <td>올림픽에서 어떤 종목들이 진행되나요?</td>\n",
       "      <td>[올림픽 경기 종목\\n올림픽 경기 종목은 총 33개부문 52개 종목에서 약 400개...</td>\n",
       "      <td>올림픽 경기 종목은 총 33개 부문, 52개 종목에서 약 400개의 경기로 이루어져...</td>\n",
       "      <td>대부분의 인기있는 종목들이나 일상에서 쉽게 접하고 즐길 수 있는 생활스포츠 종목들이...</td>\n",
       "      <td>0.000000</td>\n",
       "      <td>0.0</td>\n",
       "      <td>1.00</td>\n",
       "      <td>0.526760</td>\n",
       "    </tr>\n",
       "    <tr>\n",
       "      <th>13</th>\n",
       "      <td>올림픽은 어느 정도 많은 국가들이 참여하나요?</td>\n",
       "      <td>[올림픽에 참가하는 나라는 UN에 등록된 국가의 수 193개보다 많다. 다른 국제조...</td>\n",
       "      <td>올림픽에 참가하는 나라는 UN에 등록된 국가 193개보다 더 많으며, 2008년 하...</td>\n",
       "      <td>전 세계 대부분의 국가 출신의 선수들이 참여합니다.</td>\n",
       "      <td>1.000000</td>\n",
       "      <td>1.0</td>\n",
       "      <td>1.00</td>\n",
       "      <td>0.618693</td>\n",
       "    </tr>\n",
       "    <tr>\n",
       "      <th>14</th>\n",
       "      <td>2008 베이징 올림픽의 시청자 수는 얼마나 되었나요?</td>\n",
       "      <td>[감독 기구가 되었으며, 조직과 활동은 올림픽 헌장을 따른다. 오늘날 전 세계 대부...</td>\n",
       "      <td>2008 베이징 올림픽의 모든 종목 누적 시청자 수는 47억 명에 달했습니다.</td>\n",
       "      <td>2008 베이징 올림픽의 모든 종목 누적 시청자 수는 47억 명에 달했습니다.</td>\n",
       "      <td>1.000000</td>\n",
       "      <td>1.0</td>\n",
       "      <td>1.00</td>\n",
       "      <td>0.771485</td>\n",
       "    </tr>\n",
       "    <tr>\n",
       "      <th>15</th>\n",
       "      <td>1972년 뮌헨 올림픽에서 발생한 테러 사건의 주동자는 누구였나요?</td>\n",
       "      <td>[테러도 올림픽에서 공포의 대상이었다. 뮌헨 참사로 알려진 1972년에 서독 바이에...</td>\n",
       "      <td>1972년 뮌헨 올림픽에서 발생한 테러 사건의 주동자는 테러리스트인 검은 9월단입니다.</td>\n",
       "      <td>검은 9월단이 1972년 뮌헨 올림픽의 테러 사건을 일으켰습니다.</td>\n",
       "      <td>1.000000</td>\n",
       "      <td>1.0</td>\n",
       "      <td>1.00</td>\n",
       "      <td>0.800614</td>\n",
       "    </tr>\n",
       "    <tr>\n",
       "      <th>16</th>\n",
       "      <td>뮌헨 참사에서 이스라엘 선수들은 어떻게 되었나요?</td>\n",
       "      <td>[테러도 올림픽에서 공포의 대상이었다. 뮌헨 참사로 알려진 1972년에 서독 바이에...</td>\n",
       "      <td>뮌헨 참사에서 이스라엘 선수 11명이 테러리스트인 검은 9월단에게 인질로 붙잡혔고,...</td>\n",
       "      <td>이스라엘 선수 11명은 인질로 붙잡혔다가 전원이 사망했습니다.</td>\n",
       "      <td>1.000000</td>\n",
       "      <td>1.0</td>\n",
       "      <td>1.00</td>\n",
       "      <td>0.572065</td>\n",
       "    </tr>\n",
       "    <tr>\n",
       "      <th>17</th>\n",
       "      <td>1996년 애틀란타 올림픽에서 폭발 사건이 발생한 장소는 어디인가요?</td>\n",
       "      <td>[테러도 올림픽에서 공포의 대상이었다. 뮌헨 참사로 알려진 1972년에 서독 바이에...</td>\n",
       "      <td>1996년 애틀란타 올림픽에서 폭발 사건이 발생한 장소는 센테니얼 올림픽 공원(Ce...</td>\n",
       "      <td>센테니얼 올림픽 공원(Centennial Olympic Park)에서 폭발 사건이 ...</td>\n",
       "      <td>1.000000</td>\n",
       "      <td>1.0</td>\n",
       "      <td>1.00</td>\n",
       "      <td>0.790604</td>\n",
       "    </tr>\n",
       "    <tr>\n",
       "      <th>18</th>\n",
       "      <td>애틀란타 올림픽 테러 사건의 주모자는 누구였나요?</td>\n",
       "      <td>[테러도 올림픽에서 공포의 대상이었다. 뮌헨 참사로 알려진 1972년에 서독 바이에...</td>\n",
       "      <td>애틀란타 올림픽 테러 사건의 주모자는 에릭 로버트 루돌프입니다.</td>\n",
       "      <td>이 사건의 주모자는 에릭 로버트 루돌프였습니다.</td>\n",
       "      <td>1.000000</td>\n",
       "      <td>1.0</td>\n",
       "      <td>1.00</td>\n",
       "      <td>0.662051</td>\n",
       "    </tr>\n",
       "    <tr>\n",
       "      <th>19</th>\n",
       "      <td>마라톤은 어떤 것에서 유래한 종목인가요?</td>\n",
       "      <td>[고대의 올림픽 경기(올림피아 경기)는 고대 그리스의 여러 도시 국가의 대표선수들이...</td>\n",
       "      <td>마라톤은 전쟁에서 유래한 종목입니다.</td>\n",
       "      <td>마라톤은 전쟁에서 유래한 종목입니다.</td>\n",
       "      <td>0.333333</td>\n",
       "      <td>1.0</td>\n",
       "      <td>1.00</td>\n",
       "      <td>0.583541</td>\n",
       "    </tr>\n",
       "    <tr>\n",
       "      <th>20</th>\n",
       "      <td>하계 올림픽에서는 몇 개의 종목이 열리나요?</td>\n",
       "      <td>[올림픽 경기 종목\\n올림픽 경기 종목은 총 33개부문 52개 종목에서 약 400개...</td>\n",
       "      <td>하계 올림픽에서는 33개의 종목이 열립니다.</td>\n",
       "      <td>하계 올림픽은 33개의 종목이 열린다.</td>\n",
       "      <td>0.250000</td>\n",
       "      <td>1.0</td>\n",
       "      <td>1.00</td>\n",
       "      <td>0.505893</td>\n",
       "    </tr>\n",
       "    <tr>\n",
       "      <th>21</th>\n",
       "      <td>올림픽에서 몇 명 이상의 선수가 참가하나요?</td>\n",
       "      <td>[2002년에 열린 제114차 IOC 총회에서는 하계 올림픽 종목은 최대 28부문 ...</td>\n",
       "      <td>올림픽에서는 10,500명 이상의 선수가 참가합니다.</td>\n",
       "      <td>하계 올림픽에는 13,000명이 넘는 선수들이 참가한다.</td>\n",
       "      <td>0.500000</td>\n",
       "      <td>1.0</td>\n",
       "      <td>1.00</td>\n",
       "      <td>0.531772</td>\n",
       "    </tr>\n",
       "    <tr>\n",
       "      <th>22</th>\n",
       "      <td>올림픽 경기에서 1, 2, 3위 선수들에게는 어떤 메달이 수여되나요?</td>\n",
       "      <td>[개인 혹은 팀으로 경기에 출전해서 1위, 2위, 3위를 한 선수는 메달을 받는다....</td>\n",
       "      <td>올림픽 경기에서 1위 선수에게는 금메달, 2위 선수에게는 은메달, 3위 선수에게는 ...</td>\n",
       "      <td>각 종목별 1위는 금, 2위는 은, 3위는 동메달을 수여받는다.</td>\n",
       "      <td>1.000000</td>\n",
       "      <td>1.0</td>\n",
       "      <td>1.00</td>\n",
       "      <td>0.753483</td>\n",
       "    </tr>\n",
       "    <tr>\n",
       "      <th>23</th>\n",
       "      <td>올림픽 경기는 몇 년마다 열리나요?</td>\n",
       "      <td>[올림픽(영어: Olympic Games, 프랑스어: Jeux olympiques)...</td>\n",
       "      <td>올림픽 경기는 2년마다 열리며, 하계 올림픽과 동계 올림픽이 번갈아 열린다. 다만,...</td>\n",
       "      <td>올림픽 경기는 4년마다 열린다.</td>\n",
       "      <td>0.333333</td>\n",
       "      <td>1.0</td>\n",
       "      <td>1.00</td>\n",
       "      <td>0.561611</td>\n",
       "    </tr>\n",
       "    <tr>\n",
       "      <th>24</th>\n",
       "      <td>올림픽은 개최지와 개최국에게 어떤 기회를 제공하나요?</td>\n",
       "      <td>[감독 기구가 되었으며, 조직과 활동은 올림픽 헌장을 따른다. 오늘날 전 세계 대부...</td>\n",
       "      <td>올림픽 경기는 개최지와 개최국에게 전 세계에 그 이름을 널리 알리는 좋은 기회를 제...</td>\n",
       "      <td>올림픽 경기는 개최지와 개최국에게 전 세계에 그 이름을 널리 알리는 좋은 기회가 된다.</td>\n",
       "      <td>0.750000</td>\n",
       "      <td>1.0</td>\n",
       "      <td>1.00</td>\n",
       "      <td>0.781329</td>\n",
       "    </tr>\n",
       "  </tbody>\n",
       "</table>\n",
       "</div>"
      ],
      "text/plain": [
       "                                     user_input  \\\n",
       "0                    올림픽 부활에 대한 최초의 제안은 누가 했나요?   \n",
       "1                1859년에 아테네에서는 어떤 올림픽 경기가 열렸나요?   \n",
       "2               자파스 올림픽에는 어떤 나라 출신의 선수들이 참가했나요?   \n",
       "3              에방겔리스 자파스가 복원에 힘쓴 고대 경기장은 무엇인가요?   \n",
       "4   파나티네코 경기장은 2004년 하계 올림픽에서 어떤 종목 경기에 사용되었나요?   \n",
       "5                  이라크가 올림픽에 참가하지 않은 이유는 무엇인가요?   \n",
       "6         중화민국이 1976년 몬트리올 올림픽을 보이콧한 이유는 무엇인가요?   \n",
       "7        중화민국은 1984년 이후 어떤 이름과 상징으로 올림픽에 참가하나요?   \n",
       "8                  1980년 모스크바 올림픽에 몇 개국이 참가했나요?   \n",
       "9              1984년 LA 올림픽에서 불참한 주요 국가는 어디였나요?   \n",
       "10                    올림픽에서 금메달리스트가 어떤 대우를 받나요?   \n",
       "11               올림픽 메달리스트에게 지급되는 포상금이 어떻게 되나요?   \n",
       "12                         올림픽에서 어떤 종목들이 진행되나요?   \n",
       "13                    올림픽은 어느 정도 많은 국가들이 참여하나요?   \n",
       "14               2008 베이징 올림픽의 시청자 수는 얼마나 되었나요?   \n",
       "15        1972년 뮌헨 올림픽에서 발생한 테러 사건의 주동자는 누구였나요?   \n",
       "16                  뮌헨 참사에서 이스라엘 선수들은 어떻게 되었나요?   \n",
       "17       1996년 애틀란타 올림픽에서 폭발 사건이 발생한 장소는 어디인가요?   \n",
       "18                  애틀란타 올림픽 테러 사건의 주모자는 누구였나요?   \n",
       "19                       마라톤은 어떤 것에서 유래한 종목인가요?   \n",
       "20                     하계 올림픽에서는 몇 개의 종목이 열리나요?   \n",
       "21                     올림픽에서 몇 명 이상의 선수가 참가하나요?   \n",
       "22       올림픽 경기에서 1, 2, 3위 선수들에게는 어떤 메달이 수여되나요?   \n",
       "23                          올림픽 경기는 몇 년마다 열리나요?   \n",
       "24                올림픽은 개최지와 개최국에게 어떤 기회를 제공하나요?   \n",
       "\n",
       "                                   retrieved_contexts  \\\n",
       "0   [1821년 그리스에서는 오스만 제국의 지배에 반기를 들고 독립 전쟁이 일어나면서,...   \n",
       "1   [1859년 자파스 올림픽에 참가한 선수의 수는 250명을 넘지 못했다. 에방겔리스...   \n",
       "2   [1859년 자파스 올림픽에 참가한 선수의 수는 250명을 넘지 못했다. 에방겔리스...   \n",
       "3   [1859년 자파스 올림픽에 참가한 선수의 수는 250명을 넘지 못했다. 에방겔리스...   \n",
       "4   [2002년에 열린 제114차 IOC 총회에서는 하계 올림픽 종목은 최대 28부문 ...   \n",
       "5   [이라크는 경기를 끝낸 선수들이 있었지만 탄자니아가 이끄는 올림픽 보이콧에 가세했다...   \n",
       "6   [이라크는 경기를 끝낸 선수들이 있었지만 탄자니아가 이끄는 올림픽 보이콧에 가세했다...   \n",
       "7   [이라크는 경기를 끝낸 선수들이 있었지만 탄자니아가 이끄는 올림픽 보이콧에 가세했다...   \n",
       "8   [열린 L.A 올림픽때는 루마니아와 유고슬라비아를 제외한 소련과 동구권의 14개 국...   \n",
       "9   [열린 L.A 올림픽때는 루마니아와 유고슬라비아를 제외한 소련과 동구권의 14개 국...   \n",
       "10  [감독 기구가 되었으며, 조직과 활동은 올림픽 헌장을 따른다. 오늘날 전 세계 대부...   \n",
       "11  [개인 혹은 팀으로 경기에 출전해서 1위, 2위, 3위를 한 선수는 메달을 받는다....   \n",
       "12  [올림픽 경기 종목\\n올림픽 경기 종목은 총 33개부문 52개 종목에서 약 400개...   \n",
       "13  [올림픽에 참가하는 나라는 UN에 등록된 국가의 수 193개보다 많다. 다른 국제조...   \n",
       "14  [감독 기구가 되었으며, 조직과 활동은 올림픽 헌장을 따른다. 오늘날 전 세계 대부...   \n",
       "15  [테러도 올림픽에서 공포의 대상이었다. 뮌헨 참사로 알려진 1972년에 서독 바이에...   \n",
       "16  [테러도 올림픽에서 공포의 대상이었다. 뮌헨 참사로 알려진 1972년에 서독 바이에...   \n",
       "17  [테러도 올림픽에서 공포의 대상이었다. 뮌헨 참사로 알려진 1972년에 서독 바이에...   \n",
       "18  [테러도 올림픽에서 공포의 대상이었다. 뮌헨 참사로 알려진 1972년에 서독 바이에...   \n",
       "19  [고대의 올림픽 경기(올림피아 경기)는 고대 그리스의 여러 도시 국가의 대표선수들이...   \n",
       "20  [올림픽 경기 종목\\n올림픽 경기 종목은 총 33개부문 52개 종목에서 약 400개...   \n",
       "21  [2002년에 열린 제114차 IOC 총회에서는 하계 올림픽 종목은 최대 28부문 ...   \n",
       "22  [개인 혹은 팀으로 경기에 출전해서 1위, 2위, 3위를 한 선수는 메달을 받는다....   \n",
       "23  [올림픽(영어: Olympic Games, 프랑스어: Jeux olympiques)...   \n",
       "24  [감독 기구가 되었으며, 조직과 활동은 올림픽 헌장을 따른다. 오늘날 전 세계 대부...   \n",
       "\n",
       "                                             response  \\\n",
       "0   올림픽 부활에 대한 최초의 제안은 시인이자 신문 편집자였던 파나요티스 수초스(Παν...   \n",
       "1   1859년에 아테네 시 광장에서 \"자파스 올림픽\"이라고 불리는 올림픽 경기가 열렸습...   \n",
       "2                               정보가 부족해서 답을 알 수 없습니다.   \n",
       "3             에방겔리스 자파스가 복원에 힘쓴 고대 경기장은 파나티네코 경기장입니다.   \n",
       "4                               정보가 부족해서 답을 알 수 없습니다.   \n",
       "5   이라크는 경기를 끝낸 선수들이 있었지만 탄자니아가 이끄는 올림픽 보이콧에 가세했기 ...   \n",
       "6   중화민국(타이완)이 1976년 몬트리올 올림픽을 보이콧한 이유는 중화인민공화국(중국...   \n",
       "7   중화민국(타이완)은 1984년 이후 올림픽에 참가할 때 중화 타이베이 올림픽기와 특...   \n",
       "8                      1980년 모스크바 올림픽에는 81개국이 참가했습니다.   \n",
       "9   1984년 LA 올림픽에서 불참한 주요 국가는 소련과 동구권의 14개 국가입니다. ...   \n",
       "10  올림픽 금메달리스트는 매우 큰 영예를 받으며 국가 영웅급의 대우를 받고 스포츠 스타...   \n",
       "11                              정보가 부족해서 답을 알 수 없습니다.   \n",
       "12  올림픽 경기 종목은 총 33개 부문, 52개 종목에서 약 400개의 경기로 이루어져...   \n",
       "13  올림픽에 참가하는 나라는 UN에 등록된 국가 193개보다 더 많으며, 2008년 하...   \n",
       "14        2008 베이징 올림픽의 모든 종목 누적 시청자 수는 47억 명에 달했습니다.   \n",
       "15   1972년 뮌헨 올림픽에서 발생한 테러 사건의 주동자는 테러리스트인 검은 9월단입니다.   \n",
       "16  뮌헨 참사에서 이스라엘 선수 11명이 테러리스트인 검은 9월단에게 인질로 붙잡혔고,...   \n",
       "17  1996년 애틀란타 올림픽에서 폭발 사건이 발생한 장소는 센테니얼 올림픽 공원(Ce...   \n",
       "18                애틀란타 올림픽 테러 사건의 주모자는 에릭 로버트 루돌프입니다.   \n",
       "19                               마라톤은 전쟁에서 유래한 종목입니다.   \n",
       "20                           하계 올림픽에서는 33개의 종목이 열립니다.   \n",
       "21                      올림픽에서는 10,500명 이상의 선수가 참가합니다.   \n",
       "22  올림픽 경기에서 1위 선수에게는 금메달, 2위 선수에게는 은메달, 3위 선수에게는 ...   \n",
       "23  올림픽 경기는 2년마다 열리며, 하계 올림픽과 동계 올림픽이 번갈아 열린다. 다만,...   \n",
       "24  올림픽 경기는 개최지와 개최국에게 전 세계에 그 이름을 널리 알리는 좋은 기회를 제...   \n",
       "\n",
       "                                            reference  \\\n",
       "0   시인이자 신문 편집자였던 파나요티스 수초스가 1833년에 자신의 시 '망자(亡者)의...   \n",
       "1      아테네 시 광장에서 1859년에 \"올림픽 경기(일명 자파스 올림픽)\"가 열렸습니다.   \n",
       "2              자파스 올림픽에는 그리스와 오스만 제국 출신의 선수들이 참가했습니다.   \n",
       "3             에방겔리스 자파스가 복원에 힘쓴 고대 경기장은 파나티네코 경기장입니다.   \n",
       "4         파나티네코 경기장은 2004년 하계 올림픽에서 양궁 경기장으로 사용되었습니다.   \n",
       "5    이라크는 경기를 끝낸 선수들이 있었지만 탄자니아가 이끄는 올림픽 보이콧에 가세했습니다.   \n",
       "6   중화인민공화국(중국)이 몬트리올 올림픽 조직위원회에게 타이완을 '중화민국'의 이름으...   \n",
       "7   1984년 이후 올림픽에 참가할 때는 중화 타이베이 올림픽기와 특별한 찬가를 사용합니다.   \n",
       "8                      1980년 모스크바 올림픽에는 81개국만 참가했습니다.   \n",
       "9   1984년 LA 올림픽에서는 루마니아와 유고슬라비아를 제외한 소련과 동구권의 14개...   \n",
       "10           올림픽 금메달리스트는 국가 영웅급의 대우를 받으며 스포츠 스타가 됩니다.   \n",
       "11                   국가별로 올림픽 메달리스트들에게 지급하는 포상금도 큽니다.   \n",
       "12  대부분의 인기있는 종목들이나 일상에서 쉽게 접하고 즐길 수 있는 생활스포츠 종목들이...   \n",
       "13                       전 세계 대부분의 국가 출신의 선수들이 참여합니다.   \n",
       "14        2008 베이징 올림픽의 모든 종목 누적 시청자 수는 47억 명에 달했습니다.   \n",
       "15               검은 9월단이 1972년 뮌헨 올림픽의 테러 사건을 일으켰습니다.   \n",
       "16                 이스라엘 선수 11명은 인질로 붙잡혔다가 전원이 사망했습니다.   \n",
       "17  센테니얼 올림픽 공원(Centennial Olympic Park)에서 폭발 사건이 ...   \n",
       "18                         이 사건의 주모자는 에릭 로버트 루돌프였습니다.   \n",
       "19                               마라톤은 전쟁에서 유래한 종목입니다.   \n",
       "20                              하계 올림픽은 33개의 종목이 열린다.   \n",
       "21                    하계 올림픽에는 13,000명이 넘는 선수들이 참가한다.   \n",
       "22                각 종목별 1위는 금, 2위는 은, 3위는 동메달을 수여받는다.   \n",
       "23                                  올림픽 경기는 4년마다 열린다.   \n",
       "24   올림픽 경기는 개최지와 개최국에게 전 세계에 그 이름을 널리 알리는 좋은 기회가 된다.   \n",
       "\n",
       "    llm_context_precision_with_reference  context_recall  faithfulness  \\\n",
       "0                               1.000000             1.0          1.00   \n",
       "1                               0.916667             1.0          1.00   \n",
       "2                               0.000000             0.0          0.00   \n",
       "3                               1.000000             1.0          1.00   \n",
       "4                               0.000000             0.0          0.00   \n",
       "5                               1.000000             1.0          0.75   \n",
       "6                               1.000000             1.0          1.00   \n",
       "7                               1.000000             1.0          1.00   \n",
       "8                               0.333333             1.0          1.00   \n",
       "9                               1.000000             1.0          1.00   \n",
       "10                              1.000000             1.0          1.00   \n",
       "11                              0.500000             1.0          0.00   \n",
       "12                              0.000000             0.0          1.00   \n",
       "13                              1.000000             1.0          1.00   \n",
       "14                              1.000000             1.0          1.00   \n",
       "15                              1.000000             1.0          1.00   \n",
       "16                              1.000000             1.0          1.00   \n",
       "17                              1.000000             1.0          1.00   \n",
       "18                              1.000000             1.0          1.00   \n",
       "19                              0.333333             1.0          1.00   \n",
       "20                              0.250000             1.0          1.00   \n",
       "21                              0.500000             1.0          1.00   \n",
       "22                              1.000000             1.0          1.00   \n",
       "23                              0.333333             1.0          1.00   \n",
       "24                              0.750000             1.0          1.00   \n",
       "\n",
       "    answer_relevancy  \n",
       "0           0.631045  \n",
       "1           0.351685  \n",
       "2           0.000000  \n",
       "3           0.490382  \n",
       "4           0.000000  \n",
       "5           0.819970  \n",
       "6           0.600912  \n",
       "7           0.534074  \n",
       "8           0.806452  \n",
       "9           0.756823  \n",
       "10          0.690805  \n",
       "11          0.000000  \n",
       "12          0.526760  \n",
       "13          0.618693  \n",
       "14          0.771485  \n",
       "15          0.800614  \n",
       "16          0.572065  \n",
       "17          0.790604  \n",
       "18          0.662051  \n",
       "19          0.583541  \n",
       "20          0.505893  \n",
       "21          0.531772  \n",
       "22          0.753483  \n",
       "23          0.561611  \n",
       "24          0.781329  "
      ]
     },
     "execution_count": 49,
     "metadata": {},
     "output_type": "execute_result"
    }
   ],
   "source": [
    "eval_result.to_pandas()"
   ]
  },
  {
   "cell_type": "markdown",
   "metadata": {},
   "source": [
    "# 생성한 평가 데이터셋을 Huggingface에 저장/로드"
   ]
  },
  {
   "cell_type": "code",
   "execution_count": 50,
   "metadata": {},
   "outputs": [],
   "source": [
    "# %pip install transformers"
   ]
  },
  {
   "cell_type": "code",
   "execution_count": null,
   "metadata": {},
   "outputs": [],
   "source": [
    "from huggingface_hub import login\n",
    "import os\n",
    "HF_KEY = os.getenv(\"HUGGINGFACE_API_KEY\")\n",
    "login(HF_KEY)"
   ]
  },
  {
   "cell_type": "code",
   "execution_count": 91,
   "metadata": {},
   "outputs": [
    {
     "data": {
      "text/plain": [
       "Dataset({\n",
       "    features: ['user_input', 'reference', 'qa_context', 'response', 'retrieved_contexts'],\n",
       "    num_rows: 25\n",
       "})"
      ]
     },
     "execution_count": 91,
     "metadata": {},
     "output_type": "execute_result"
    }
   ],
   "source": [
    "# %pip install datasets\n",
    "from datasets import Dataset\n",
    "eval_dataset = Dataset.from_pandas(eval_df)\n",
    "eval_dataset"
   ]
  },
  {
   "cell_type": "code",
   "execution_count": 93,
   "metadata": {},
   "outputs": [
    {
     "data": {
      "application/vnd.jupyter.widget-view+json": {
       "model_id": "ddfa75b2b4fa43dca0aaae9ec015c572",
       "version_major": 2,
       "version_minor": 0
      },
      "text/plain": [
       "Uploading the dataset shards:   0%|          | 0/1 [00:00<?, ?it/s]"
      ]
     },
     "metadata": {},
     "output_type": "display_data"
    },
    {
     "data": {
      "application/vnd.jupyter.widget-view+json": {
       "model_id": "50093836b3b844f6a225421738d17821",
       "version_major": 2,
       "version_minor": 0
      },
      "text/plain": [
       "Creating parquet from Arrow format:   0%|          | 0/1 [00:00<?, ?ba/s]"
      ]
     },
     "metadata": {},
     "output_type": "display_data"
    },
    {
     "data": {
      "text/plain": [
       "CommitInfo(commit_url='https://huggingface.co/datasets/kgmyh/wiki_olympic_rag_eval_dataset/commit/87324ab3471274908e541e12644214b2792d7dcf', commit_message='Upload dataset', commit_description='', oid='87324ab3471274908e541e12644214b2792d7dcf', pr_url=None, repo_url=RepoUrl('https://huggingface.co/datasets/kgmyh/wiki_olympic_rag_eval_dataset', endpoint='https://huggingface.co', repo_type='dataset', repo_id='kgmyh/wiki_olympic_rag_eval_dataset'), pr_revision=None, pr_num=None)"
      ]
     },
     "execution_count": 93,
     "metadata": {},
     "output_type": "execute_result"
    }
   ],
   "source": [
    "# huggingface에  upload\n",
    "eval_dataset.push_to_hub(\"wiki_olympic_rag_eval_dataset\") # dataset_id : 계정/id"
   ]
  },
  {
   "cell_type": "code",
   "execution_count": null,
   "metadata": {},
   "outputs": [
    {
     "data": {
      "application/vnd.jupyter.widget-view+json": {
       "model_id": "86b7fe22c04341d49a7be3b1f6d8e737",
       "version_major": 2,
       "version_minor": 0
      },
      "text/plain": [
       "README.md:   0%|          | 0.00/535 [00:00<?, ?B/s]"
      ]
     },
     "metadata": {},
     "output_type": "display_data"
    },
    {
     "name": "stderr",
     "output_type": "stream",
     "text": [
      "c:\\Users\\Playdata\\miniconda3\\envs\\lang_env\\Lib\\site-packages\\huggingface_hub\\file_download.py:143: UserWarning: `huggingface_hub` cache-system uses symlinks by default to efficiently store duplicated files but your machine does not support them in C:\\Users\\Playdata\\.cache\\huggingface\\hub\\datasets--kgmyh--wiki_olympic_rag_eval_dataset. Caching files will still work but in a degraded version that might require more space on your disk. This warning can be disabled by setting the `HF_HUB_DISABLE_SYMLINKS_WARNING` environment variable. For more details, see https://huggingface.co/docs/huggingface_hub/how-to-cache#limitations.\n",
      "To support symlinks on Windows, you either need to activate Developer Mode or to run Python as an administrator. In order to activate developer mode, see this article: https://docs.microsoft.com/en-us/windows/apps/get-started/enable-your-device-for-development\n",
      "  warnings.warn(message)\n"
     ]
    },
    {
     "data": {
      "application/vnd.jupyter.widget-view+json": {
       "model_id": "512fdcdd672f4349872d6304321e7f7e",
       "version_major": 2,
       "version_minor": 0
      },
      "text/plain": [
       "train-00000-of-00001.parquet:   0%|          | 0.00/33.9k [00:00<?, ?B/s]"
      ]
     },
     "metadata": {},
     "output_type": "display_data"
    },
    {
     "data": {
      "application/vnd.jupyter.widget-view+json": {
       "model_id": "d8cf7ac2defe4c24a365afd0670444a2",
       "version_major": 2,
       "version_minor": 0
      },
      "text/plain": [
       "Generating train split:   0%|          | 0/25 [00:00<?, ? examples/s]"
      ]
     },
     "metadata": {},
     "output_type": "display_data"
    },
    {
     "data": {
      "text/plain": [
       "DatasetDict({\n",
       "    train: Dataset({\n",
       "        features: ['user_input', 'reference', 'qa_context', 'response', 'retrieved_contexts'],\n",
       "        num_rows: 25\n",
       "    })\n",
       "})"
      ]
     },
     "execution_count": 94,
     "metadata": {},
     "output_type": "execute_result"
    }
   ],
   "source": [
    "from datasets import load_dataset\n",
    "\n",
    "# Login using e.g. `huggingface-cli login` to access this dataset\n",
    "load_eval_dataset = load_dataset(\"tnalsdk111/wiki_olympic_rag_eval_dataset\")\n",
    "load_eval_dataset"
   ]
  },
  {
   "cell_type": "code",
   "execution_count": null,
   "metadata": {},
   "outputs": [],
   "source": []
  },
  {
   "cell_type": "code",
   "execution_count": null,
   "metadata": {},
   "outputs": [],
   "source": []
  }
 ],
 "metadata": {
  "kernelspec": {
   "display_name": "lang_env",
   "language": "python",
   "name": "python3"
  },
  "language_info": {
   "codemirror_mode": {
    "name": "ipython",
    "version": 3
   },
   "file_extension": ".py",
   "mimetype": "text/x-python",
   "name": "python",
   "nbconvert_exporter": "python",
   "pygments_lexer": "ipython3",
   "version": "3.12.11"
  }
 },
 "nbformat": 4,
 "nbformat_minor": 4
}
