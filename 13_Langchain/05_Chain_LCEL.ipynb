{
 "cells": [
  {
   "cell_type": "markdown",
   "id": "35ee8245-0329-4185-971d-21bf20cc780e",
   "metadata": {},
   "source": [
    "# Chain\n",
    "\n",
    "**Chain**(체인)은 여러 컴포넌트(요소)를 정해진 순서대로 연결하여 **복잡한 AI 작업을 단계별로 자동화**할 수 있도록 돕는 구조이다.\n",
    "\n",
    "- 각 컴포넌트는 입력을 받아 특정 처리를 수행한 후 다음 단계로 결과를 전달한다.\n",
    "- 복잡한 작업을 여러 개의 단순한 단계로 나누고, 각 단계를 순차적으로 실행함으로써 전체 작업을 체계적으로 구성할 수 있다.\n",
    "\n",
    "## 기본 개념\n",
    "\n",
    "- 체인은 하나의 LLM 호출에 그치지 않고 **여러 LLM 호출이나 도구 실행을 순차적으로 연결**할 수 있다.\n",
    "- 예를 들어, 사용자의 질문 → 검색 → 요약 → 응답 생성 같은 일련의 작업을 체인으로 구성할 수 있다.\n",
    "- 체인을 사용하면 코드의 재사용성과 유지 보수성이 향상된다.\n",
    "\n",
    "## LangChain에서의 Chain 구성 방식\n",
    "\n",
    "LangChain은 다음 두 가지 방식을 통해 체인을 구성할 수 있다.\n",
    "\n",
    "### 1. Off-the-shelf Chains 방식 (클래식 방식)\n",
    "\n",
    "- LangChain에서 제공하는 **미리 정의된 Chain 클래스**(예: `LLMChain`, `SequentialChain`, `SimpleSequentialChain`)를 활용하는 방식이다.\n",
    "- 이 방식은 LangChain의 **초기 구조**이며, 대부분의 클래스는 현재 **더 이상 사용되지 않음(deprecated)** 상태이다.\n",
    "\n",
    "> 현재 LangChain에서는 이 방식을 권장하지 않는다.\n",
    "\n",
    "### 2. LCEL (LangChain Expression Language) 방식\n",
    "\n",
    "- 체인을 함수형 방식으로 선언할 수 있는 **표현식 기반의 체인 구성 언어**이다.\n",
    "- LCEL 방식은 간결하고 선언적인 문법을 제공하여 **직관적이고 확장성 있는 체인 구성**이 가능하다.\n",
    "- `Runnable`이라는 공통 인터페이스를 기반으로 다양한 요소를 조합하여 체인을 구성한다.\n",
    "- 체인의 각 구성 요소는 `invoke()` 메서드로 실행된다."
   ]
  },
  {
   "cell_type": "code",
   "execution_count": 2,
   "id": "80122a92",
   "metadata": {},
   "outputs": [],
   "source": [
    "# off-the-shelf 방식\n",
    "from dotenv import load_dotenv\n",
    "from langchain.prompts import PromptTemplate\n",
    "from langchain_openai import ChatOpenAI\n",
    "from langchain_core.output_parsers import StrOutputParser\n",
    "\n",
    "load_dotenv()\n",
    "\n",
    "prompt_template = PromptTemplate(\n",
    "    template=\"{item}에 어울리는 이름 {count}개를 만들어 주세요.\"\n",
    ")\n",
    "model = ChatOpenAI(model_name=\"gpt-4o-mini\")\n",
    "parser = StrOutputParser()\n",
    "\n",
    "# 변수:값 -> (prompt_template) -prompt-> (model) -응답결과-> (parser) -> 최종결과"
   ]
  },
  {
   "cell_type": "code",
   "execution_count": 2,
   "id": "53f7e5d8",
   "metadata": {},
   "outputs": [
    {
     "name": "stderr",
     "output_type": "stream",
     "text": [
      "C:\\Users\\안수민\\AppData\\Local\\Temp\\ipykernel_35764\\1686607166.py:2: LangChainDeprecationWarning: The class `LLMChain` was deprecated in LangChain 0.1.17 and will be removed in 1.0. Use :meth:`~RunnableSequence, e.g., `prompt | llm`` instead.\n",
      "  chain = LLMChain(\n"
     ]
    }
   ],
   "source": [
    "from langchain import LLMChain\n",
    "chain = LLMChain(\n",
    "    prompt=prompt_template,\n",
    "    llm=model, \n",
    "    output_parser=parser\n",
    ")\n",
    "response = chain.invoke({\"item\":\"가방\", \"count\":5})"
   ]
  },
  {
   "cell_type": "code",
   "execution_count": 3,
   "id": "999b4d27",
   "metadata": {},
   "outputs": [
    {
     "data": {
      "text/plain": [
       "{'item': '가방',\n",
       " 'count': 5,\n",
       " 'text': '물론이죠! 가방에 어울리는 이름 5개를 제안해 드릴게요.\\n\\n1. **에코 트레블러** - 환경 친화적인 소재로 만든 여행용 가방\\n2. **도시의 정수** - 도시에서 필요한 모든 것을 담을 수 있는 멀티 백\\n3. **스타일 문** - 시크하고 세련된 디자인의 핸드백\\n4. **내가 만든 이야기** - 개인의 개성을 담은 맞춤형 가방\\n5. **편안한 동반자** - 일상에서 쉽게 들고 다닐 수 있는 캐주얼 가방\\n\\n이름들이 가방의 특성이나 디자인에 잘 어울리길 바랍니다!'}"
      ]
     },
     "execution_count": 3,
     "metadata": {},
     "output_type": "execute_result"
    }
   ],
   "source": [
    "response"
   ]
  },
  {
   "cell_type": "code",
   "execution_count": 4,
   "id": "ea60d799",
   "metadata": {},
   "outputs": [
    {
     "name": "stdout",
     "output_type": "stream",
     "text": [
      "물론이죠! 가방에 어울리는 이름 5개를 제안해 드릴게요.\n",
      "\n",
      "1. **에코 트레블러** - 환경 친화적인 소재로 만든 여행용 가방\n",
      "2. **도시의 정수** - 도시에서 필요한 모든 것을 담을 수 있는 멀티 백\n",
      "3. **스타일 문** - 시크하고 세련된 디자인의 핸드백\n",
      "4. **내가 만든 이야기** - 개인의 개성을 담은 맞춤형 가방\n",
      "5. **편안한 동반자** - 일상에서 쉽게 들고 다닐 수 있는 캐주얼 가방\n",
      "\n",
      "이름들이 가방의 특성이나 디자인에 잘 어울리길 바랍니다!\n"
     ]
    }
   ],
   "source": [
    "print(response[\"text\"])"
   ]
  },
  {
   "cell_type": "markdown",
   "id": "59ba00ec-6c7c-496e-b31f-f3978b74bdba",
   "metadata": {},
   "source": [
    "# [LCEL](https://python.langchain.com/docs/how_to/#langchain-expression-language-lcel) (LangChain Expression Language)\n",
    "- LCEL은 LangChain의 핵심 기능인 체인(Chain)을 더욱 간결하고 유연하게 구성할 수 있도록 고안된 **선언형 체인(chain) 구성 언어**이다.\n",
    "- 파이프 연산자 `|`를 사용해 선언적 방법으로 여러 작업을 연결한다.\n",
    "- 체인을 구성하는 각 요소는 [1]`Runnable` 타입이나 [2] 함수 등의 `Callable` 객체로, 체인 내에서 실행 가능한 단위이다.\n",
    "- 각 단계는 invoke() 메서드를 통해 실행되며, 앞 단계의 출력이 다음 단계의 입력으로 자동 전달된다.\n",
    "    - [Runnable 컴포넌트별 입출력 타입](https://python.langchain.com/docs/concepts/runnables/#input-and-output-types)\n",
    "    - 각 컴포넌트의 input과 output 타입에 맞춰 값이 전달되도록 한다.\n",
    "- https://python.langchain.com/v0.2/docs/concepts/#langchain-expression-language-lcel"
   ]
  },
  {
   "cell_type": "markdown",
   "id": "05961d1b",
   "metadata": {},
   "source": [
    "참고: Class 객체도 `__call__()` 메소드를 정의하면 Callable이므로 체인 내에서 실행 가능하다."
   ]
  },
  {
   "cell_type": "markdown",
   "id": "b3f0d52c-23da-4ec6-87cc-925e3d6259ea",
   "metadata": {},
   "source": [
    "## [Runnable](https://python.langchain.com/api_reference/core/runnables/langchain_core.runnables.base.Runnable.html)\n",
    "- LangChain의 Runnable은 실행 가능한 작업 단위를 캡슐화한 개념으로, 데이터 흐름의 각 단계를 정의하고 **체인(chain) 에 포함 되어**  복잡한 작업의 각 단계를 수행 한다.\n",
    "- Chain을 구성하는 class들은 Runnable의 상속 받아 구현한다.\n",
    "- **Prompt Template클래스**, **Chat 모델, LLM 모델 클래스**, **Output Parser 클래스** 등 다양한 컴포넌트가 Runnable을 상속받아 구현된다.\n",
    "\n",
    "### 주요 특징\n",
    "- 작업 단위의 캡슐화:\n",
    "    - Runnable은 특정 작업(예: 프롬프트 생성, LLM 호출, 출력 파싱 등)을 수행하는 독립적인 컴포넌트이다.\n",
    "    - 각 컴포넌트는 독립적으로 테스트 및 재사용이 가능하며, 조합하여 복잡한 체인을 구성할 수 있다.\n",
    "- 체인 연결 및 작업 흐름 관리:\n",
    "    - Runnable은 체인(chain, 일련의 연결된 작업 흐름)을 구성하는 기본 단위로 사용된다.\n",
    "    - LangChain Expression Language(LCEL)를 사용하면 | 연산자를 통해 여러 Runnable을 쉽게 연결할 수 있다.\n",
    "    - 입력과 출력의 형식을 일관되게 유지하여 각 단계가 자연스럽게 연결된다.\n",
    "- 모듈화 및 디버깅 용이성:\n",
    "    - 각 단계가 명확히 분리되어 문제 발생 시 어느 단계에서 오류가 발생했는지 쉽게 확인할 수 있다.\n",
    "    - 복잡한 작업을 작은 단위로 나누어 체계적으로 관리할 수 있다.\n",
    "      \n",
    "### Runnable의 표준 메소드\n",
    "- 모든 Runnable이 구현하는 공통 메소드\n",
    "    - `invoke()`: 단일 입력을 처리하여 결과를 반환.\n",
    "    - `batch()`: 여러 입력 데이터들을 한 번에 처리.\n",
    "    - `stream()`: 입력에 대해 스트리밍 방식으로 응답을 반환.\n",
    "    - `ainvoke()`: 비동기 방식으로 입력을 처리하여 결과를 반환.\n",
    "\n",
    "### Runnable의 주요 구현체(하위 클래스)\n",
    "\n",
    "- `RunnableSequence`\n",
    "    - 여러 `Runnable`을 순차적으로 연결하여 실행하는 구성이다.\n",
    "    - 각 단계의 출력이 다음 단계의 입력으로 전달된다.\n",
    "    - LCEL을 사용하여 체인을 구성할 경우 자동으로 `RunnableSequence`로 변환된다.\n",
    "-  `RunnablePassthrough`\n",
    "    - 입력 데이터를 가공하지 않고 그대로 다음 단계로 전달하는 `Runnable`이다.\n",
    "    - 선택적으로 미리 정의된 키-값 쌍을 함께 전달할 수 있다.\n",
    "\n",
    "- `RunnableParallel`\n",
    "    - 여러 `Runnable`을 병렬로 실행한 후, 결과를 결합하여 다음 단계로 전달한다.\n",
    "    - 병렬 처리를 통해 처리 속도를 개선할 수 있다.\n",
    "\n",
    "- `RunnableLambda`\n",
    "    - 일반 함수 또는 `lambda` 함수를 `Runnable`로 변환하여 체인에 포함할 수 있다.\n",
    "    - 사용자 정의 함수로 동작을 확장할 때 유용하다."
   ]
  },
  {
   "cell_type": "code",
   "execution_count": 5,
   "id": "90946853",
   "metadata": {},
   "outputs": [
    {
     "data": {
      "text/plain": [
       "True"
      ]
     },
     "execution_count": 5,
     "metadata": {},
     "output_type": "execute_result"
    }
   ],
   "source": [
    "from dotenv import load_dotenv\n",
    "load_dotenv()"
   ]
  },
  {
   "cell_type": "markdown",
   "id": "ad98816c-6666-4d36-a91d-4b4f64519de4",
   "metadata": {},
   "source": [
    "#### Runnable 예제"
   ]
  },
  {
   "cell_type": "code",
   "execution_count": 6,
   "id": "6f4040f4-b373-4f15-9c34-9026541ad755",
   "metadata": {},
   "outputs": [],
   "source": [
    "from langchain_core.runnables import Runnable  # 모든 Runnable의 최상위.\n",
    "# 사용자정의 Runnable\n",
    "class MyRunnable(Runnable):\n",
    "\n",
    "    def invoke(self, input_data:str, config:dict=None):\n",
    "        # invoke(): 구현하는 Runnable이 해야하는 작업을 구현하는 메소드.\n",
    "        # input_data: 입력값\n",
    "        # config: 일할 때 필요한 설정값들.\n",
    "        if config is not None and config.get('lang') == \"en\":\n",
    "            return f\"Explain {input_data} in one sentences.\"\n",
    "        return f\"{input_data}에 대해서 한 문장으로 설명해줘.\""
   ]
  },
  {
   "cell_type": "code",
   "execution_count": 7,
   "id": "bf2ce763",
   "metadata": {},
   "outputs": [
    {
     "data": {
      "text/plain": [
       "'Explain Apple in one sentences.'"
      ]
     },
     "execution_count": 7,
     "metadata": {},
     "output_type": "execute_result"
    }
   ],
   "source": [
    "my_runnable = MyRunnable()\n",
    "my_runnable.invoke(\"사과\")\n",
    "my_runnable.invoke(\"컴퓨터\")\n",
    "my_runnable.invoke(\"Apple\", {\"lang\":\"en\"})"
   ]
  },
  {
   "cell_type": "code",
   "execution_count": 8,
   "id": "a23b6c62",
   "metadata": {},
   "outputs": [
    {
     "name": "stdout",
     "output_type": "stream",
     "text": [
      "content='LangChain은 언어 모델과 외부 리소스를 연결하여 복잡한 애플리케이션을 구축할 수 있도록 도와주는 프레임워크입니다.' additional_kwargs={'refusal': None} response_metadata={'token_usage': {'completion_tokens': 36, 'prompt_tokens': 19, 'total_tokens': 55, 'completion_tokens_details': {'accepted_prediction_tokens': 0, 'audio_tokens': 0, 'reasoning_tokens': 0, 'rejected_prediction_tokens': 0}, 'prompt_tokens_details': {'audio_tokens': 0, 'cached_tokens': 0}}, 'model_name': 'gpt-4o-mini-2024-07-18', 'system_fingerprint': 'fp_34a54ae93c', 'id': 'chatcmpl-Bh3ew2WBnRJ8zNR7bnPgr7pros6DM', 'service_tier': 'default', 'finish_reason': 'stop', 'logprobs': None} id='run--9c3e73c5-044c-45ec-86f7-637507dd8647-0' usage_metadata={'input_tokens': 19, 'output_tokens': 36, 'total_tokens': 55, 'input_token_details': {'audio': 0, 'cache_read': 0}, 'output_token_details': {'audio': 0, 'reasoning': 0}}\n"
     ]
    }
   ],
   "source": [
    "from langchain_openai import ChatOpenAI\n",
    "\n",
    "my_runnable = MyRunnable()\n",
    "model = ChatOpenAI(model_name=\"gpt-4o-mini\")\n",
    "\n",
    "prompt = my_runnable.invoke(\"Apple\", {\"lang\":\"en\"})\n",
    "prompt = my_runnable.invoke(\"Langchain\")\n",
    "response = model.invoke(prompt)\n",
    "print(response)"
   ]
  },
  {
   "cell_type": "code",
   "execution_count": 9,
   "id": "4d9c1cfe",
   "metadata": {},
   "outputs": [
    {
     "name": "stdout",
     "output_type": "stream",
     "text": [
      "content='과일 배는 부드럽고 달콤한 맛의 과일로, 주로 식용으로 소비되며, 다양한 품종이 존재해 각각의 특징과 맛이 다양합니다.' additional_kwargs={'refusal': None} response_metadata={'token_usage': {'completion_tokens': 42, 'prompt_tokens': 20, 'total_tokens': 62, 'completion_tokens_details': {'accepted_prediction_tokens': 0, 'audio_tokens': 0, 'reasoning_tokens': 0, 'rejected_prediction_tokens': 0}, 'prompt_tokens_details': {'audio_tokens': 0, 'cached_tokens': 0}}, 'model_name': 'gpt-4o-mini-2024-07-18', 'system_fingerprint': 'fp_34a54ae93c', 'id': 'chatcmpl-Bh3f00ASL1TiuYcL5mhEKgIHBGyHW', 'service_tier': 'default', 'finish_reason': 'stop', 'logprobs': None} id='run--6a9960e3-78c8-46a9-b6fe-94503abbaa3c-0' usage_metadata={'input_tokens': 20, 'output_tokens': 42, 'total_tokens': 62, 'input_token_details': {'audio': 0, 'cache_read': 0}, 'output_token_details': {'audio': 0, 'reasoning': 0}}\n"
     ]
    }
   ],
   "source": [
    "# chain -> Runnable | Runnable | Runnable\n",
    "chain = my_runnable | model\n",
    "# chain 호출 -> invoke\n",
    "res = chain.invoke(\"과일 배\")\n",
    "print(res)"
   ]
  },
  {
   "cell_type": "code",
   "execution_count": 10,
   "id": "d07bf0fc",
   "metadata": {},
   "outputs": [
    {
     "name": "stdout",
     "output_type": "stream",
     "text": [
      "<class 'langchain_core.runnables.base.RunnableSequence'>\n"
     ]
    }
   ],
   "source": [
    "# 기본 체인 구성: prompt_template -> model -> output parser\n",
    "from langchain_openai import ChatOpenAI\n",
    "from langchain.prompts import ChatPromptTemplate\n",
    "from langchain_core.output_parsers import StrOutputParser, CommaSeparatedListOutputParser\n",
    "\n",
    "# role: system, user/human, ai/assistant\n",
    "#       system: 채팅  전체에 적용되는 공통 지침을 지정하는 role\n",
    "prompt_template = ChatPromptTemplate(\n",
    "    messages=[\n",
    "        (\"system\", \"당신은 오랜 경력의 한국 관광 가이드입니다. 여행객들에게 설명하듯이 친절하게 답변을 해주세요.\"),\n",
    "        (\"human\", \"{query}\")\n",
    "    ]\n",
    ")\n",
    "model = ChatOpenAI(model_name=\"gpt-4o-mini\", temperature=1.0)\n",
    "\n",
    "guide_chain = prompt_template | model | StrOutputParser()\n",
    "\n",
    "print(type(guide_chain)) # RunnableSequence: Runnable 타입 \n",
    "#                           ==> chain도 다른 chain의 구성요소로 포함될 수있다."
   ]
  },
  {
   "cell_type": "code",
   "execution_count": 11,
   "id": "565fac1e",
   "metadata": {},
   "outputs": [],
   "source": [
    "query = \"서울에서 꼭 가봐야되는 여행지를 세 곳만 알려줘.\"\n",
    "response = guide_chain.invoke({\"query\":query})"
   ]
  },
  {
   "cell_type": "code",
   "execution_count": 12,
   "id": "4764facb",
   "metadata": {},
   "outputs": [
    {
     "name": "stdout",
     "output_type": "stream",
     "text": [
      "서울은 역사와 현대 문화가 어우러진 멋진 도시입니다. 꼭 가봐야 할 여행지를 세 곳 추천해 드릴게요!\n",
      "\n",
      "1. **경복궁**: 서울의 대표적인 고궁인 경복궁은 조선시대 왕실의 중심지였습니다. 화려한 건축물과 아름다운 정원, 그리고 국립민속박물관까지 함께 방문할 수 있어요. 특히 수문장 교대식은 꼭 보셔야 할 볼거리입니다. 전통의 멋을 느껴보세요!\n",
      "\n",
      "2. **명동**: 쇼핑과 먹거리의 천국인 명동은 방문객들에게 인기가 많은 지역입니다. 다양한 패션 브랜드는 물론, 길거리 음식도 즐길 수 있어요. 특히 호떡, 떡볶이, 그리고 갓 구운 마카롱 등 맛있는 음식들이 가득하니 놓치지 마세요!\n",
      "\n",
      "3. **홍대**: 젊은이들의 문화가 살아 있는 홍대는 예술과 음악으로 가득한 공간입니다. 거리 공연과 독특한 카페, 그리고 예술가들의 갤러리를 탐방해 보세요. 밤에는 다양한 클럽과 바에서 활기찬 분위기를 느낄 수 있습니다.\n",
      "\n",
      "이 세 곳은 서울의 매력을 잘 보여주는 장소들이니 꼭 방문해 보시길 바랍니다!\n"
     ]
    }
   ],
   "source": [
    "print(response)"
   ]
  },
  {
   "cell_type": "code",
   "execution_count": 14,
   "id": "be870c95",
   "metadata": {},
   "outputs": [
    {
     "name": "stdout",
     "output_type": "stream",
     "text": [
      "User: 두부로 할 수 있는 요리 알려줘\n",
      "AI: 안녕하세요! 두부는 매우 다양하게 요리할 수 있는 재료입니다. 여러 가지 요리를 소개해드릴게요.\n",
      "\n",
      "1. **두부 스테이크**:\n",
      "   두부를 두툼하게 썰어 팬에 구운 후, 간장과 마늘로 만든 소스를 얹어 드시면 아주 맛있습니다. 채소와 함께 곁들이면 더욱 훌륭한 한 끼가 됩니다.\n",
      "\n",
      "2. **두부 찌개**:\n",
      "   순두부찌개나 두부김치찌개는 한국에서 매우 인기 있는 요리입니다. 두부와 돼지고기 또는 해산물, 채소를 넣고 매운 고추장이나 된장을 넣어 끓이면 깊은 맛의 찌개가 완성됩니다.\n",
      "\n",
      "3. **두부 볶음**:\n",
      "   두부를 큼직큼직하게 썰어 채소, 고기와 함께 볶아 간장 또는 굴 소스를 첨가하면 간편하면서도 맛있는 반찬이 됩니다.\n",
      "\n",
      "4. **두부 샐러드**:\n",
      "   깍둑 썬 두부를 신선한 채소와 함께 드레싱과 곁들여 드시면 맛있고 건강한 샐러드가 됩니다.\n",
      "\n",
      "5. **두부전**:\n",
      "   두부에 전분과 다양한 채소를 섞어 반죽한 후 부쳐서 전을 만들면 간단한 간식이나 안주로 좋습니다.\n",
      "\n",
      "6. **된장 두부무침**:\n",
      "   부드러운 두부를 으깨고, 된장, 다진 채소, 고추 등을 섞어 무쳐내면 한입에 쏙 넣기 좋은 반찬이 됩니다.\n",
      "\n",
      "두부는 단백질이 풍부하고 건강에도 좋기 때문에 다양한 방식으로 즐겨보시면 좋아요. 어떤 요리를 시도해보실 건가요? 😊\n",
      "--------------------------------------------------\n"
     ]
    }
   ],
   "source": [
    "while True:\n",
    "    query = input(\"질문:\")\n",
    "    if query == \"!quit\":\n",
    "        break\n",
    "    resp = guide_chain.invoke({\"query\":query})\n",
    "    print(\"User:\", query)\n",
    "    print(\"AI:\", resp)\n",
    "    print(\"-\"* 50)"
   ]
  },
  {
   "cell_type": "markdown",
   "id": "9d6c137e-35bb-4e4d-8561-859b0650b62f",
   "metadata": {},
   "source": [
    "#### RunnableLambda 예제"
   ]
  },
  {
   "cell_type": "code",
   "execution_count": 15,
   "id": "7a5ac9fd-2616-4031-a079-a1822d784e93",
   "metadata": {},
   "outputs": [
    {
     "data": {
      "text/plain": [
       "'LLM를 한 문장으로 설명해줘.'"
      ]
     },
     "execution_count": 15,
     "metadata": {},
     "output_type": "execute_result"
    }
   ],
   "source": [
    "from langchain_core.runnables import RunnableLambda\n",
    "# RunnableLambda(함수) -> 함수를 실행하는 Runnable을 생성.\n",
    "my_runnable2 = RunnableLambda(lambda input_data : f\"{input_data}를 한 문장으로 설명해줘.\")\n",
    "my_runnable2.invoke(\"LLM\") "
   ]
  },
  {
   "cell_type": "code",
   "execution_count": 16,
   "id": "87d20e5f",
   "metadata": {},
   "outputs": [
    {
     "data": {
      "text/plain": [
       "AIMessage(content='LLM(대형 언어 모델)은 대량의 텍스트 데이터를 기반으로 자연어 처리를 수행하며, 사람의 언어를 이해하고 생성하는 AI 시스템입니다.', additional_kwargs={'refusal': None}, response_metadata={'token_usage': {'completion_tokens': 38, 'prompt_tokens': 18, 'total_tokens': 56, 'completion_tokens_details': {'accepted_prediction_tokens': 0, 'audio_tokens': 0, 'reasoning_tokens': 0, 'rejected_prediction_tokens': 0}, 'prompt_tokens_details': {'audio_tokens': 0, 'cached_tokens': 0}}, 'model_name': 'gpt-4o-mini-2024-07-18', 'system_fingerprint': 'fp_34a54ae93c', 'id': 'chatcmpl-Bh4PprrjYCFHC97EEUmLowmeE1Lvy', 'service_tier': 'default', 'finish_reason': 'stop', 'logprobs': None}, id='run--c6264fe8-3561-48f9-b18a-7c4f817193ee-0', usage_metadata={'input_tokens': 18, 'output_tokens': 38, 'total_tokens': 56, 'input_token_details': {'audio': 0, 'cache_read': 0}, 'output_token_details': {'audio': 0, 'reasoning': 0}})"
      ]
     },
     "execution_count": 16,
     "metadata": {},
     "output_type": "execute_result"
    }
   ],
   "source": [
    "chain = my_runnable2 | model\n",
    "chain.invoke(\"LLM\")"
   ]
  },
  {
   "cell_type": "code",
   "execution_count": 19,
   "id": "07baec0f",
   "metadata": {},
   "outputs": [
    {
     "data": {
      "text/plain": [
       "30"
      ]
     },
     "execution_count": 19,
     "metadata": {},
     "output_type": "execute_result"
    }
   ],
   "source": [
    "def sum(nums:dict):\n",
    "    return nums[0] + nums[1]\n",
    "\n",
    "my_runnable2 = RunnableLambda(sum)\n",
    "my_runnable2.invoke({0:10, 1:20})\n",
    "\n",
    "# invoke(입력데이터:str|dict, 설정정보:dict)\n",
    "## 입력데이터가 여러개일 경우 dict등의 자료구조를 이용해서 받는다."
   ]
  },
  {
   "cell_type": "markdown",
   "id": "b884fd4c-feaa-46f1-af21-c5779900e502",
   "metadata": {},
   "source": [
    "#### RunnablePassthrough 예제"
   ]
  },
  {
   "cell_type": "code",
   "execution_count": 13,
   "id": "6e43fcf5-e5c7-4502-830f-b722b832f3bf",
   "metadata": {},
   "outputs": [
    {
     "data": {
      "text/plain": [
       "{'Key': 'value'}"
      ]
     },
     "execution_count": 13,
     "metadata": {},
     "output_type": "execute_result"
    }
   ],
   "source": [
    "# 1 앞 Runnable이 처리한 결과를 다음 Runnable에 \"그대로\" 전달.\n",
    "from langchain_core.runnables import RunnablePassthrough\n",
    "\n",
    "RunnablePassthrough().invoke(\"안녕하세요\")\n",
    "RunnablePassthrough().invoke({\"Key\":\"value\"})"
   ]
  },
  {
   "cell_type": "code",
   "execution_count": 17,
   "id": "2d70e25f",
   "metadata": {},
   "outputs": [
    {
     "data": {
      "text/plain": [
       "{'name': '홍길동', 'address': '서울시 금천구', 'phone': '010-1111-2222'}"
      ]
     },
     "execution_count": 17,
     "metadata": {},
     "output_type": "execute_result"
    }
   ],
   "source": [
    "# 2. 앞 Runnable이 처리한 결과에 Item을 추가해서 다음 Runnable에 전달.\n",
    "#   -> 입력으로 dictionary 받아서 거기에 item을 추가.\n",
    "# RunnablePassthrough.assign(key1=Runnable, key2=Runnable, ...)\n",
    "#  - 받은 dictionary에 \"key1\":Runnable반환값, \"key2\":Runnable반환값, .. 추가해서 다음으로 전달.\n",
    "address_runnable = RunnableLambda(lambda x: \"서울시 금천구\")  #\"서울시 금천구\" 를 반환.\n",
    "phone_runnable = RunnableLambda(lambda x: \"010-1111-2222\")\n",
    "\n",
    "RunnablePassthrough.assign(address=address_runnable, phone=phone_runnable).invoke({\"name\":\"홍길동\"})"
   ]
  },
  {
   "cell_type": "markdown",
   "id": "6e3ba482-5dab-41df-96d1-c6649ecb8cee",
   "metadata": {},
   "source": [
    "#### RunnableSequence 예제"
   ]
  },
  {
   "cell_type": "code",
   "execution_count": 18,
   "id": "afd2c247-a4e3-4b1b-a494-400b077eba54",
   "metadata": {},
   "outputs": [
    {
     "name": "stdout",
     "output_type": "stream",
     "text": [
      "<class 'langchain_core.runnables.base.RunnableSequence'>\n"
     ]
    },
    {
     "data": {
      "text/plain": [
       "62"
      ]
     },
     "execution_count": 18,
     "metadata": {},
     "output_type": "execute_result"
    }
   ],
   "source": [
    "from langchain_core.runnables import RunnableSequence\n",
    "\n",
    "run1 = RunnableLambda(lambda x: x + 1)\n",
    "run2 = RunnableLambda(lambda x: x * 2)\n",
    "\n",
    "chain = run1 | run2\n",
    "print(type(chain))\n",
    "chain.invoke(30)\n"
   ]
  },
  {
   "cell_type": "code",
   "execution_count": 22,
   "id": "ea6efc5c",
   "metadata": {},
   "outputs": [
    {
     "data": {
      "text/plain": [
       "202"
      ]
     },
     "execution_count": 22,
     "metadata": {},
     "output_type": "execute_result"
    }
   ],
   "source": [
    "chain2 = RunnableSequence(run1, run2)  #(prompt_template, model,  output_parser)\n",
    "chain2.invoke(100)"
   ]
  },
  {
   "cell_type": "markdown",
   "id": "4c1531bb-ad33-4d1b-a59b-62cf08cb4457",
   "metadata": {},
   "source": [
    "#### RunnableParallel 예제"
   ]
  },
  {
   "cell_type": "code",
   "execution_count": 23,
   "id": "cce6992c-85e1-4a2f-b16f-e294c50a3c1a",
   "metadata": {},
   "outputs": [
    {
     "data": {
      "text/plain": [
       "{'result1': 21, 'result2': 40, 'result3': 6, 'result4': 20}"
      ]
     },
     "execution_count": 23,
     "metadata": {},
     "output_type": "execute_result"
    }
   ],
   "source": [
    "from langchain_core.runnables import RunnableParallel, RunnableLambda\n",
    "\n",
    "run1 = RunnableLambda(lambda x: x + 1)\n",
    "run2 = RunnableLambda(lambda x: x * 2)\n",
    "run3 = RunnableLambda(lambda x: x // 3)\n",
    "\n",
    "runnable = RunnableParallel(\n",
    "    {\n",
    "        \"result1\":run1,\n",
    "        \"result2\":run2,\n",
    "        \"result3\":run3,\n",
    "        \"result4\":RunnablePassthrough()  # 앞에서 받은 값을 그대로 다음에 전달.\n",
    "    }\n",
    ")\n",
    "# Runnable들을 각각 실행하고 그 결과를 key에 할당한 Dictionary를 반환.\n",
    "runnable.invoke(20)"
   ]
  },
  {
   "cell_type": "code",
   "execution_count": 26,
   "id": "fd9f5498",
   "metadata": {},
   "outputs": [
    {
     "data": {
      "text/plain": [
       "{'result1': 121, 'result2': 240, 'result3': 40}"
      ]
     },
     "execution_count": 26,
     "metadata": {},
     "output_type": "execute_result"
    }
   ],
   "source": [
    "run0 = RunnableLambda(lambda x: x + 100)\n",
    "# run0 -> {run1, run2, run3} -> ..\n",
    "chain = run0 | {\"result1\":run1, \"result2\":run2, \"result3\":run3}\n",
    "# 딕셔너리를 LCEL 안에 넣어야 parallel이 된다. \n",
    "# LCEL 안에 넣지 않으려면 `RunnableParallel`을 써야 한다.\n",
    "chain.invoke(20)\n",
    "# 20을 run0에 넣음 -> 120 도출\n",
    "# 120을 {}로 묶인 Parallel에 넣는다\n",
    "# run1, run2, run3에 넣어 처리한 결과를 chain에 넣는다. "
   ]
  },
  {
   "cell_type": "markdown",
   "id": "1fe6327f-591c-4d0b-87b2-796d41ad6b98",
   "metadata": {},
   "source": [
    "#### LCEL Chain 예제"
   ]
  },
  {
   "cell_type": "code",
   "execution_count": 32,
   "id": "bc112ef8",
   "metadata": {},
   "outputs": [],
   "source": [
    "# 음식 이름을 받아서 레시피를 출력하는 chain을 구성\n",
    "# prompt template -> model -> output parser \n",
    "from langchain.prompts import PromptTemplate\n",
    "from langchain_openai import ChatOpenAI\n",
    "from langchain_core.output_parsers import StrOutputParser\n",
    "from textwrap import dedent\n",
    "prompt_template = PromptTemplate(\n",
    "    template=dedent(\"\"\"\n",
    "    # Instruction\n",
    "    당신은 숙련된 요리 연구가입니다. 요청한 음식의 레시피를 작성해 주세요.\n",
    "                    \n",
    "    # Input data\n",
    "    음식이름: {food}\n",
    "    \"\"\")\n",
    ")\n",
    "model = ChatOpenAI(model_name=\"gpt-4o-mini\")\n",
    "food_chain = prompt_template | model | StrOutputParser()\n"
   ]
  },
  {
   "cell_type": "code",
   "execution_count": 28,
   "id": "0d930417",
   "metadata": {},
   "outputs": [],
   "source": [
    "response = food_chain.invoke({\"food\":\"pasta\"})"
   ]
  },
  {
   "cell_type": "code",
   "execution_count": 29,
   "id": "0ffa8001",
   "metadata": {},
   "outputs": [
    {
     "name": "stdout",
     "output_type": "stream",
     "text": [
      "## 기본 파스타 레시피\n",
      "\n",
      "### 재료\n",
      "1. 스파게티 또는 원하는 파스타 200g\n",
      "2. 소금 1큰술 (물에 넣기 위함)\n",
      "3. 올리브 오일 2큰술\n",
      "4. 마늘 3쪽 (다진 것)\n",
      "5. 양파 1개 (다진 것)\n",
      "6. 토마토 400g (토마토 소스 또는 신선한 토마토 다진 것)\n",
      "7. 바질 잎 몇 장 (선택 사항)\n",
      "8. 파르미지아노 레지아노 치즈 (Grated, 선택 사항)\n",
      "9. 후추 (맛을 내기 위함)\n",
      "\n",
      "### 조리 도구\n",
      "- 큰 냄비\n",
      "- 팬\n",
      "- 나무 숟가락 또는 주걱\n",
      "- 체\n",
      "\n",
      "### 조리 방법\n",
      "\n",
      "1. **파스타 삶기**\n",
      "   - 큰 냄비에 물을 충분히 붓고, 소금을 넣고 끓입니다.\n",
      "   - 물이 끓으면 파스타를 넣고 포장지에 적힌 시간에 따라 알 덴테로 삶습니다. (보통 8-10분)\n",
      "   - 삶은 후 체에 옮겨 물기를 빼고, 다시 팬에 옮겨 놓습니다.\n",
      "\n",
      "2. **소스 만들기**\n",
      "   - 팬에 올리브 오일을 약한 불에서 가열합니다.\n",
      "   - 다진 마늘과 양파를 넣고, 양파가 투명해질 때까지 볶습니다. (약 3-5분)\n",
      "   - 그 후 다진 토마토를 넣고 잘 섞어줍니다.\n",
      "   - 소금과 후추로 간을 하고 중불에서 약 10분간 끓입니다. 토마토가 부드러워지고 소스가 농축될 때까지 끓입니다.\n",
      "\n",
      "3. **파스타와 소스 혼합**\n",
      "   - 삶은 파스타를 팬에 추가하고, 소스와 잘 섞이도록 저어줍니다. \n",
      "   - 필요하다면 파스타의 삶은 물을 조금 더 추가하여 소스를 조절합니다.\n",
      "\n",
      "4. **마무리 및 서빙**\n",
      "   - 다 볶아진 파스타에 신선한 바질 잎을 찢어 넣고 잘 섞습니다.\n",
      "   - 그릇에 담고, 그 위에 파르미지아노 레지아노 치즈를 갈아 올립니다.\n",
      "   - 원하면 추가적으로 올리브 오일을 약간 뿌려줍니다.\n",
      "\n",
      "### 팁\n",
      "- 다양한 야채(버섯, 시금치, 등)를 추가하여 영양을 더욱 풍부하게 만들 수 있습니다.\n",
      "- 고기를 좋아하신다면, 볶은 소시지나 닭고기를 추가해도 좋습니다.\n",
      "\n",
      "이 기본 파스타 레시피를 바탕으로 다양한 변형 요리를 시도해 보세요! 즐거운 요리 되시길 바랍니다.\n"
     ]
    }
   ],
   "source": [
    "print(response)"
   ]
  },
  {
   "cell_type": "code",
   "execution_count": 33,
   "id": "e1891e66",
   "metadata": {},
   "outputs": [],
   "source": [
    "# 번역 chain -> 입력된 내용을 지정한(입력한) 언어로 번역하는 체인.\n",
    "# prompt template -> model -> output parser \n",
    "\n",
    "prompt_template_trans = PromptTemplate(\n",
    "    template=dedent(\"\"\"\n",
    "    # Instruction\n",
    "    당신은 다국어가능한 숙력된 번역가입니다. \n",
    "    요청된 문장을 {language} 로 번역해 주세요.\n",
    "                    \n",
    "    # Input data(번역할 문장)\n",
    "    {content}\n",
    "                    \n",
    "    # Output Indicator\n",
    "    - 번역한 내용만 출력해 주세요.\n",
    "    \"\"\")\n",
    ")\n",
    "\n",
    "translate_chain = prompt_template_trans | model | StrOutputParser()\n"
   ]
  },
  {
   "cell_type": "code",
   "execution_count": 34,
   "id": "f4d79530",
   "metadata": {},
   "outputs": [
    {
     "data": {
      "text/plain": [
       "'Hallo'"
      ]
     },
     "execution_count": 34,
     "metadata": {},
     "output_type": "execute_result"
    }
   ],
   "source": [
    "translate_chain.invoke({\"content\":\"안녕하세요\", \"language\":\"독일어\"})\n",
    "# 안녕하세요->독일어로 번역한 응답.\n",
    "\n"
   ]
  },
  {
   "cell_type": "code",
   "execution_count": 35,
   "id": "e916435d-e288-4ca3-9e32-b3c17e95d5ad",
   "metadata": {},
   "outputs": [],
   "source": [
    "response_kor = translate_chain.invoke({\"content\":response, \"language\":\"한국어\"})"
   ]
  },
  {
   "cell_type": "code",
   "execution_count": 36,
   "id": "34d85e2f",
   "metadata": {},
   "outputs": [
    {
     "name": "stdout",
     "output_type": "stream",
     "text": [
      "## 기본 파스타 레시피\n",
      "\n",
      "### 재료\n",
      "1. 스파게티 또는 원하는 파스타 200g\n",
      "2. 소금 1큰술 (물에 넣기 위함)\n",
      "3. 올리브 오일 2큰술\n",
      "4. 마늘 3쪽 (다진 것)\n",
      "5. 양파 1개 (다진 것)\n",
      "6. 토마토 400g (토마토 소스 또는 신선한 토마토 다진 것)\n",
      "7. 바질 잎 몇 장 (선택 사항)\n",
      "8. 파르미지아노 레지아노 치즈 (간 것, 선택 사항)\n",
      "9. 후추 (맛을 내기 위함)\n",
      "\n",
      "### 조리 도구\n",
      "- 큰 냄비\n",
      "- 팬\n",
      "- 나무 숟가락 또는 주걱\n",
      "- 체\n",
      "\n",
      "### 조리 방법\n",
      "\n",
      "1. **파스타 삶기**\n",
      "   - 큰 냄비에 물을 충분히 붓고, 소금을 넣고 끓입니다.\n",
      "   - 물이 끓으면 파스타를 넣고 포장지에 적힌 시간에 따라 알 덴테로 삶습니다. (보통 8-10분)\n",
      "   - 삶은 후 체에 옮겨 물기를 빼고, 다시 팬에 옮겨 놓습니다.\n",
      "\n",
      "2. **소스 만들기**\n",
      "   - 팬에 올리브 오일을 약한 불에서 가열합니다.\n",
      "   - 다진 마늘과 양파를 넣고, 양파가 투명해질 때까지 볶습니다. (약 3-5분)\n",
      "   - 그 후 다진 토마토를 넣고 잘 섞어줍니다.\n",
      "   - 소금과 후추로 간을 하고 중불에서 약 10분간 끓입니다. 토마토가 부드러워지고 소스가 농축될 때까지 끓입니다.\n",
      "\n",
      "3. **파스타와 소스 혼합**\n",
      "   - 삶은 파스타를 팬에 추가하고, 소스와 잘 섞이도록 저어줍니다.\n",
      "   - 필요하다면 파스타의 삶은 물을 조금 더 추가하여 소스를 조절합니다.\n",
      "\n",
      "4. **마무리 및 서빙**\n",
      "   - 다 볶아진 파스타에 신선한 바질 잎을 찢어 넣고 잘 섞습니다.\n",
      "   - 그릇에 담고, 그 위에 파르미지아노 레지아노 치즈를 갈아 올립니다.\n",
      "   - 원하면 추가적으로 올리브 오일을 약간 뿌려줍니다.\n",
      "\n",
      "### 팁\n",
      "- 다양한 야채(버섯, 시금치 등)를 추가하여 영양을 더욱 풍부하게 만들 수 있습니다.\n",
      "- 고기를 좋아하신다면, 볶은 소시지나 닭고기를 추가해도 좋습니다.\n",
      "\n",
      "이 기본 파스타 레시피를 바탕으로 다양한 변형 요리를 시도해 보세요! 즐거운 요리 되시길 바랍니다.\n"
     ]
    }
   ],
   "source": [
    "print(response_kor)"
   ]
  },
  {
   "cell_type": "code",
   "execution_count": 37,
   "id": "022e9958",
   "metadata": {},
   "outputs": [
    {
     "data": {
      "text/plain": [
       "'## 基本のパスタレシピ\\n\\n### 材料\\n1. スパゲッティまたはお好みのパスタ 200g\\n2. 塩 大さじ1（お湯に入れるため）\\n3. オリーブオイル 大さじ2\\n4. ニンニク 3片（みじん切り）\\n5. 玉ねぎ 1個（みじん切り）\\n6. トマト 400g（トマトソースまたは新鮮なトマトのみじん切り）\\n7. バジルの葉 数枚（お好みで）\\n8. パルミジャーノ・レッジャーノチーズ（おろし、オプション）\\n9. 黒胡椒（味付け用）\\n\\n### 調理器具\\n- 大きな鍋\\n- フライパン\\n- 木製スプーンまたはへら\\n- ざる\\n\\n### 調理方法\\n\\n1. **パスタを茹でる**\\n   - 大きな鍋に十分な水を入れ、塩を加えて沸騰させます。\\n   - 水が沸騰したらパスタを入れ、パッケージに書かれた時間に従ってアルデンテになるまで茹でます。（通常8-10分）\\n   - 茹でたらざるに移して水気を切り、再びフライパンに移します。\\n\\n2. **ソースを作る**\\n   - フライパンにオリーブオイルを弱火で熱します。\\n   - みじん切りのニンニクと玉ねぎを加え、玉ねぎが透明になるまで炒めます。（約3-5分）\\n   - その後、みじん切りのトマトを加えてよく混ぜます。\\n   - 塩と黒胡椒で味を調え、中火で約10分間煮ます。トマトが柔らかくなり、ソースが濃縮されるまで煮ます。\\n\\n3. **パスタとソースを混ぜる**\\n   - 茹でたパスタをフライパンに加え、ソースとよく混ぜるようにかき混ぜます。\\n   - 必要に応じて、パスタの茹で汁を少し加えてソースを調整します。\\n\\n4. **仕上げと盛り付け**\\n   - 炒めたパスタに新鮮なバジルの葉をちぎって加え、よく混ぜます。\\n   - お皿に盛り、上にパルミジャーノ・レッジャーノチーズをおろして乗せます。\\n   - お好みでオリーブオイルを少し振りかけます。\\n\\n### ヒント\\n- さまざまな野菜（キノコ、ほうれん草など）を加えて栄養をさらに豊富にすることができます。\\n- お肉が好きな方は、炒めたソーセージや鶏肉を追加しても良いです。\\n\\nこの基本のパスタレシピを元に、さまざまなアレンジ料理を試してみてください！楽しい料理を楽しんでください。'"
      ]
     },
     "execution_count": 37,
     "metadata": {},
     "output_type": "execute_result"
    }
   ],
   "source": [
    "translate_chain.invoke({\"content\":response, \"language\":\"일본어\"})"
   ]
  },
  {
   "cell_type": "markdown",
   "id": "70cfbc5c-6c03-48fc-9e4d-ddf8f34893f5",
   "metadata": {},
   "source": [
    "## Chain과 Chain간의 연결"
   ]
  },
  {
   "cell_type": "code",
   "execution_count": 38,
   "id": "a673c4b7",
   "metadata": {},
   "outputs": [],
   "source": [
    "# food_chain ----> translate_chain\n",
    "## food_chain_prompt: 변수 - food\n",
    "## translate_chain : 변수 - language, content\n",
    "\n",
    "# RunnableParallel({\"key\":Runnable, \"key2\":Runnable})\n",
    "# LCEL에서 RunnableParallel => {\"key\":Runnable, \"key2\":Runnable} |\n",
    "chain = {\"content\":food_chain, \n",
    "         \"language\":RunnableLambda(lambda x : x[\"language\"]) } | translate_chain"
   ]
  },
  {
   "cell_type": "code",
   "execution_count": 39,
   "id": "1e4fbef2",
   "metadata": {},
   "outputs": [],
   "source": [
    "# chain = {\"content\":food_chain, \n",
    "#          \"language\":RunnableLambda(lambda x : x[\"language\"]) } | RunnablePassthrough()\n",
    "# chain.invoke({\"food\":\"파스타\", \"language\":\"영어\"})"
   ]
  },
  {
   "cell_type": "code",
   "execution_count": 40,
   "id": "50b83d55",
   "metadata": {},
   "outputs": [],
   "source": [
    "res = chain.invoke({\"food\":\"파스타\", \"language\":\"영어\"})\n",
    "# food -> food_chain, language -> translate_chain\n",
    "# food_chain 최종결과(레시피) => {\"content\":레시피} -전달-> translate_chain\n"
   ]
  },
  {
   "cell_type": "code",
   "execution_count": null,
   "id": "a6fbc496",
   "metadata": {},
   "outputs": [
    {
     "name": "stdout",
     "output_type": "stream",
     "text": [
      "## Basic Pasta Recipe\n",
      "\n",
      "### Ingredients\n",
      "- Pasta (spaghetti, penne, etc.) 200g\n",
      "- Olive oil 2 tablespoons\n",
      "- Minced garlic 3 cloves\n",
      "- Onion 1 (medium size)\n",
      "- Cherry tomatoes 200g\n",
      "- Salt & pepper\n",
      "- Basil (fresh or dried) to taste\n",
      "- Parmesan cheese (optional)\n",
      "\n",
      "### Cooking Tools\n",
      "- Large pot\n",
      "- Pan\n",
      "- Strainer\n",
      "\n",
      "### Cooking Method\n",
      "\n",
      "1. **Cooking Pasta:**\n",
      "   - Boil water in a large pot and add enough salt. (1 tablespoon of salt per liter of water)\n",
      "   - Add the pasta to the boiling water and cook for the time indicated on the package (usually 8-12 minutes).\n",
      "   - Drain the cooked pasta using a strainer, and drizzle with olive oil if desired.\n",
      "\n",
      "2. **Preparing the Sauce:**\n",
      "   - Heat olive oil in a pan over medium heat.\n",
      "   - Add minced garlic and chopped onion, and sauté until the onion becomes translucent.\n",
      "   - Cut the cherry tomatoes in half and add them to the pan, seasoning with salt and pepper. (Sauté for about 5-7 minutes.)\n",
      "\n",
      "3. **Mixing:**\n",
      "   - Add the cooked pasta to the pan and stir well to combine all the ingredients.\n",
      "   - Tear in fresh basil and mix everything together.\n",
      "\n",
      "4. **Serving:**\n",
      "   - Place the pasta on a plate and, if desired, sprinkle grated Parmesan cheese on top.\n",
      "   - You can add extra basil or pepper to taste for added flavor.\n",
      "\n",
      "### Tips\n",
      "- You can add various ingredients. For example, make your own pasta by using shrimp, bacon, or vegetables (spinach, mushrooms, etc.).\n",
      "- Adding red pepper flakes while making the sauce can give it a spicy kick.\n",
      "\n",
      "Enjoy your delicious creation!\n"
     ]
    }
   ],
   "source": [
    "print(res)"
   ]
  },
  {
   "cell_type": "code",
   "execution_count": null,
   "id": "98e306d3-430f-4bfa-982c-a806e1910f23",
   "metadata": {},
   "outputs": [
    {
     "data": {
      "text/plain": [
       "'### Халуун ногооны жор\\n\\n#### Орц\\n* Халуун ногооны будаа (булгасны будаа эсвэл гурилан будаа) 200г\\n* Шөлийг (үхрийн шөл эсвэл загасны шөл) 1L\\n* Сүү (2 том халбага)\\n* Цуу (2 том халбага)\\n* Элсэн чихэр (1 том халбага)\\n* Үхрийн саримс (1 жижиг халбага)\\n* Огурцы (1 ш)\\n* Нэрс (эсвэл алим) (1/2 ш)\\n* Төмс (2 ш)\\n* Нори (цамцлаг)\\n* Улаан перец (сонголт)\\n* Сансар (сонголт)\\n\\n#### Шөл бэлтгэх\\n1. **Шөл хийх:** Үхрийн 200г болон 1L ус тавагтаа хийж буцалгана. Буцалж эхлэхэд дунд гал дээр 30 минут орчим буцалгана.\\n2. **Шөлний амт тохируулах:** Шөл ууж идэж, амт нь гүнзгий байх үед 2 том халбага сүү, 1 жижиг халбага үхрийн саримсыг нэмж дахин буцалгаад, галын тагийг хааж хөргөнө.\\n\\n#### Будаа бэлтгэх\\n1. **Будаа буцалгах:** Тавагт ус буцалгаж, халуун ногооны будааг хийнэ. Савны зааварт заасан буцалгах хугацааг анхаарч үзүүлэхэд тохиромжтой хугацаагаар буцална.\\n2. **Будаагаа хүйтэн усаар угаах:** Будаа буцалсны дараа хүйтэн усанд хэд хэдэн удаа угааж, гадаргуу нь жигд чипс мэт байх хэрэгтэй.\\n\\n#### Багц бэлтгэх\\n1. **Огурцыг нарийн хэрчэх:** Огурцыг сайтар угааж, нарийн хэрчиж бэлтгэнэ.\\n2. **Нэрсийг хэрчих:** Нэрсийг хагас хувааж, үрийг нь арилгаж, нарийн хэрчиж бэлтгэнэ.\\n3. **Төмсийг буцалгах:** Төмсийг буцалж буй усанд хийгээд 8-10 минутын хугацаанд буцална. Хальсалж, хагас хувааж бэлтгэнэ.\\n\\n#### Халуун ногоо хийх\\n1. **Аяга дотор будаа хийх:** Бэлдсэн халуун ногооны будааг аяга дотор хийж.\\n2. **Шөл асгах:** Хөргөсөн шөлийг будааны дээр асгаж.\\n3. **Багц нэмэх:** Нарийн хэрчсэн огурцы, нэрс, хагас хуваасан төмсийг дээр нь нэмнэ.\\n4. **Нори, улаан перец, сансар нэмэх:** Сонирхлын дагуу нори, улаан перец, сансарыг дээр нь цацаж өгнө.\\n\\n#### Төгсгөл\\n1. **Цуу болон элсэн чихэр нэмэх:** Эцэст нь сонирхлын дагуу бага зэрэг цуу болон элсэн чихэр нэмээд амтыг тохируулна.\\n2. **Сольж идэх:** Будаа болон шөл сайн хольж, шинэ амтыг таалдаг.\\n\\n#### Зөвлөмж\\n- Шөлийг урьдчилан бэлтгэх бол илүү амттай болно.\\n- Зун цагт мөс нэмэхэд илүү сэрүүн амттай болно.\\n\\nАмттай идээрэй!'"
      ]
     },
     "execution_count": 79,
     "metadata": {},
     "output_type": "execute_result"
    }
   ],
   "source": [
    "chain.invoke({\"food\":\"냉면\", \"language\":\"몽골어\"})"
   ]
  },
  {
   "cell_type": "code",
   "execution_count": null,
   "id": "7d1ab4d0-0f9f-4227-a821-5d9751d49942",
   "metadata": {},
   "outputs": [],
   "source": []
  },
  {
   "cell_type": "markdown",
   "id": "c6b59505-5ef9-4bc5-9a32-9e359d3bf0a1",
   "metadata": {},
   "source": [
    "# 사용자 함수를 Chain에 적용하기\n",
    "함수를 RunnableLambda로 만들거나 Chain으로 정의\n",
    "\n",
    "## 사용자 함수를 Runnable로 정의 (RunnableLambda)\n",
    "- 임의의 함수를 Runnable로 정의 할 수있다.\n",
    "  - chain에 포함할 기능을 함수로 정의할 때 주로 사용. \n",
    "- `RunnableLambda(함수)` 사용\n",
    "  - 함수는 invoke() 메소드를 통해 입력받은 값을 받을 **한개의 파라미터**를 선언해야 한다.\n",
    "\n",
    "## 사용자 함수를 Chain으로 정의\n",
    "- Chain 을 구성하는 작업 사이에 추가 작업이 필요할 경우, 중간 결과를 모두 사용해야 하는 경우 함수로 구현한다.\n",
    "- `@chain` 데코레이터를 사용해 함수에 선언한다.\n",
    "\n",
    "### Runnable 에 사용할 **사용자 정의 함수** 구문\n",
    "- 이전 Chain의 출력을 입력 받는 **파라미터를 한개** 선언한다. (첫번째 파라미터)\n",
    "- `invoke()`로 호출 할때 전달 하는 추가 설정을 입력받는 파라미터를 선언한다.(두번째 파라미터 - Optional)\n",
    "  - RunnableConfig 타입의 값을 받는데 Dictionary 형식으로 `{\"configuable\": {\"설정이름\":\"설정값\"}}` 형식으로 받는다.\n",
    "- 만약 함수가 여러개의 인자를 받는 경우 단일 입력을 받아들이고 이를 여러 인수로 풀어내는 래퍼 함수를 작성하여 Runnable로 만든다.\n",
    "  ```python\n",
    "  def plus(num1, num2):\n",
    "      ...\n",
    "\n",
    "  def wrapper_plus(nums:dict|list):\n",
    "      return plus(nums['num1'], nums['num2'])\n",
    "  ```"
   ]
  },
  {
   "cell_type": "markdown",
   "id": "e79be28c",
   "metadata": {},
   "source": [
    "Lambda 함수를 넣는 게 아니라, 기존에 정의된 함수를 이용하고 싶다면?"
   ]
  },
  {
   "cell_type": "code",
   "execution_count": 42,
   "id": "2c0de6e8-4bcf-412c-8983-9be3d7679ae5",
   "metadata": {},
   "outputs": [
    {
     "data": {
      "text/plain": [
       "6"
      ]
     },
     "execution_count": 42,
     "metadata": {},
     "output_type": "execute_result"
    }
   ],
   "source": [
    "from langchain_core.runnables import RunnableLambda\n",
    "\n",
    "# 기존에 정의된 함수. 이 함수를 Runnable로 정의\n",
    "def plus(num1, num2, num3):\n",
    "    return num1 + num2 + num3\n",
    "# run1.invoke(1, 2, 3) (X)\n",
    "\n",
    "def wrapper_plus(nums:list):\n",
    "    return plus(nums[0], nums[1], nums[2])\n",
    "\n",
    "run1 = RunnableLambda(wrapper_plus)\n",
    "run1.invoke([1, 2, 3])\n",
    "\n"
   ]
  },
  {
   "cell_type": "markdown",
   "id": "1c575105",
   "metadata": {},
   "source": [
    "`invoke()` 함수에는 인자를 최대 두 개만 넣을 수 있다!   \n",
    "plus는 인자가 세 개 필요한데요ㅠㅠ? -> `plus` 함수를 호출하는 함수를 하나 더 만듭시다!"
   ]
  },
  {
   "cell_type": "code",
   "execution_count": 2,
   "id": "69710192-a281-43a2-b944-ccd3705d3b1b",
   "metadata": {},
   "outputs": [
    {
     "data": {
      "text/plain": [
       "True"
      ]
     },
     "execution_count": 2,
     "metadata": {},
     "output_type": "execute_result"
    }
   ],
   "source": [
    "# 소재를 이용해서 이야기를 생성하는 chain\n",
    "# 장문을 입력 받아서 요약하는 chain\n",
    "from langchain.prompts import PromptTemplate\n",
    "from langchain_openai import ChatOpenAI\n",
    "from langchain_core.output_parsers import StrOutputParser\n",
    "from dotenv import load_dotenv\n",
    "from textwrap import dedent\n",
    "\n",
    "load_dotenv()"
   ]
  },
  {
   "cell_type": "markdown",
   "id": "f4636a82",
   "metadata": {},
   "source": [
    "story 모델, summary 모델에 tem를 각각 다르게 줄 수 있다. "
   ]
  },
  {
   "cell_type": "code",
   "execution_count": 17,
   "id": "370c44ce-3e5b-4992-9ddf-cb2835c361be",
   "metadata": {},
   "outputs": [],
   "source": [
    "story_model = ChatOpenAI(model_name = \"gpt-4o-mini\", temperature=1.0)\n",
    "story_prompt_template = PromptTemplate(\n",
    "    template=dedent(\"\"\"\n",
    "    # Instruction\n",
    "    당신은 아이들을 위한 이야기를 창작하는 스토리텔러입니다.\n",
    "    주어진 소재로 잠자리에서 아이들에게 들려줄 재미있는 이야기를 만들어 주세요. \n",
    "\n",
    "    # Input Data\n",
    "    소재: {topic}\n",
    "                    \n",
    "    # Output Indicator\n",
    "    - 이야기는 30문장 이내로 구성해주세요.\n",
    "    - 이야기를 구어체로 작성해주세요.\n",
    "\n",
    "\"\"\")\n",
    ")\n",
    " \n",
    "story_chain = story_prompt_template | story_model | StrOutputParser()"
   ]
  },
  {
   "cell_type": "code",
   "execution_count": 20,
   "id": "e16a4f94",
   "metadata": {},
   "outputs": [],
   "source": [
    "# 요약 chain\n",
    "summary_model = ChatOpenAI(model_name = \"gpt-4o-mini\", temperature=0.1)\n",
    "summary_prompt = PromptTemplate(\n",
    "    template=dedent(\"\"\"\n",
    "    # Instruction\n",
    "    주어진 문장 내용을 3문장으로 요약 해주세요.\n",
    "    \n",
    "    # Input Data\n",
    "    {content}\n",
    "\"\"\")\n",
    ")\n",
    "\n",
    "summary_chain = summary_prompt | summary_model | StrOutputParser()"
   ]
  },
  {
   "cell_type": "code",
   "execution_count": 21,
   "id": "aa88676f",
   "metadata": {},
   "outputs": [
    {
     "data": {
      "text/plain": [
       "'옛날 깊은 숲속에 무서운 호랑이가 살았지만, 그는 외로움을 느끼고 있었다. 작은 토끼가 호랑이에게 다가가자, 다른 동물들도 호랑이와 친구가 되고 싶어 했고, 호랑이는 그들의 친절로 행복해졌다. 결국 호랑이는 숲속의 영웅이 되어 모든 동물들과 함께 즐거운 시간을 보내며 존경받는 존재가 되었다.'"
      ]
     },
     "execution_count": 21,
     "metadata": {},
     "output_type": "execute_result"
    }
   ],
   "source": [
    "chain = story_chain | summary_chain\n",
    "chain.invoke({\"topic\":\"호랑이\"})"
   ]
  },
  {
   "cell_type": "code",
   "execution_count": 15,
   "id": "5dffa837",
   "metadata": {},
   "outputs": [],
   "source": [
    "from langchain_core.runnables import chain\n",
    "\n",
    "# 사용자 정의 체인 -> 흐름을 원하는 구조로 정의할 수 있다. \n",
    "@chain\n",
    "def custom_chain(topic:str)->dict[str, str]:\n",
    "    # story_chain과 summary_chain을 원하는 흐름으로 구현.\n",
    "    # story_chain의 결과와 summary_chain의 결과를 모두 반환하도록 처리.\n",
    "    story = story_chain.invoke({\"topic\":topic})\n",
    "    summary = summary_chain.invoke({\"content\":story})\n",
    "\n",
    "    return {\"전체이야기\":story, \"이야기요약\":summary}"
   ]
  },
  {
   "cell_type": "code",
   "execution_count": 12,
   "id": "5abe8f6f",
   "metadata": {},
   "outputs": [
    {
     "data": {
      "text/plain": [
       "langchain_core.runnables.base.RunnableLambda"
      ]
     },
     "execution_count": 12,
     "metadata": {},
     "output_type": "execute_result"
    }
   ],
   "source": [
    "type(custom_chain) # RunnableLambda가 되었다"
   ]
  },
  {
   "cell_type": "code",
   "execution_count": 13,
   "id": "83edc52d",
   "metadata": {},
   "outputs": [],
   "source": [
    "res = custom_chain.invoke(\"호랑이\")"
   ]
  },
  {
   "cell_type": "code",
   "execution_count": 14,
   "id": "d277eb3f",
   "metadata": {},
   "outputs": [
    {
     "name": "stdout",
     "output_type": "stream",
     "text": [
      "<class 'dict'>\n",
      "dict_keys(['전체이야기', '이야기요약'])\n"
     ]
    }
   ],
   "source": [
    "print(type(res))\n",
    "print(res.keys())"
   ]
  },
  {
   "cell_type": "code",
   "execution_count": null,
   "id": "a0d9bc91",
   "metadata": {},
   "outputs": [],
   "source": []
  },
  {
   "cell_type": "markdown",
   "id": "1c8b48ae-b4b2-412f-a7b5-17e9c1ebc1a4",
   "metadata": {},
   "source": [
    "# Cache (임시 저장)\n",
    "\n",
    "- 응답 결과를 저장해서 같은 질문이 들어오면 LLM에 요청하지 않고 저장된 결과를 보여주도록 한다.\n",
    "    - 처리속도와 비용을 절감할 수 있다.\n",
    "    - 특히 chatbot같이 비슷한 질문을 하는 경우 유용하다.\n",
    "- 저장 방식은 `메모리`, `sqlite` 등 다양한 방식을 지원한다.\n",
    "  \n",
    "    ```python\n",
    "    set_llm_cache(Cache객체)\n",
    "    ```"
   ]
  },
  {
   "cell_type": "code",
   "execution_count": 22,
   "id": "3e8c002f-7f0c-4357-b3ae-efe8569f04cf",
   "metadata": {},
   "outputs": [],
   "source": [
    "from langchain_openai import ChatOpenAI\n",
    "from langchain.globals import set_llm_cache\n",
    "from langchain.cache import InMemoryCache, SQLiteCache\n",
    "\n",
    "# 대화내역을 캐시에 저장 시작\n",
    "set_llm_cache(InMemoryCache())\n",
    "model = ChatOpenAI(model_name=\"gpt-4o-mini\")\n",
    "response = model.invoke(\"주요 프로그래밍 언어 5개를 소개해줘\")"
   ]
  },
  {
   "cell_type": "markdown",
   "id": "71503fde",
   "metadata": {},
   "source": [
    "처음 질문할 때: 10초 걸림"
   ]
  },
  {
   "cell_type": "code",
   "execution_count": 23,
   "id": "b74a46a8-703c-452b-9d57-e80749c3f528",
   "metadata": {},
   "outputs": [
    {
     "name": "stdout",
     "output_type": "stream",
     "text": [
      "다양한 프로그래밍 언어들이 있지만, 아래의 5개 언어는 특히 널리 사용되며 중요한 역할을 하고 있습니다:\n",
      "\n",
      "1. **파이썬 (Python)**:\n",
      "   - 범용 프로그래밍 언어로, 문법이 간결하고 읽기 쉬워 초보자에게 적합합니다.\n",
      "   - 데이터 분석, 인공지능, 웹 개발, 자동화 등의 분야에서 많이 사용됩니다.\n",
      "   - 풍부한 라이브러리와 프레임워크(예: NumPy, Pandas, Flask, Django)를 제공합니다.\n",
      "\n",
      "2. **자바스크립트 (JavaScript)**:\n",
      "   - 웹 개발의 표준 언어로, 클라이언트 사이드와 서버 사이드 모두에서 사용됩니다.\n",
      "   - HTML과 CSS와 함께 웹 페이지의 동적 기능을 구현합니다.\n",
      "   - Node.js와 같은 프레임워크를 통해 서버 개발에서도 활용됩니다.\n",
      "\n",
      "3. **자바 (Java)**:\n",
      "   - 객체지향 프로그래밍 언어로, '한 번 작성하면 어디서든 실행된다'는 슬로건을 가지고 있습니다.\n",
      "   - 기업 애플리케이션, 안드로이드 앱 개발 등에서 널리 사용됩니다.\n",
      "   - 다양한 플랫폼에서 실행할 수 있도록 설계되어 있습니다.\n",
      "\n",
      "4. **C# (C Sharp)**:\n",
      "   - 마이크로소프트에서 개발한 언어로, 주로 .NET 플랫폼에서 사용됩니다.\n",
      "   - 웹 애플리케이션, 데스크톱 애플리케이션, 게임 개발(특히 Unity에서) 등 다양한 분야에 사용됩니다.\n",
      "   - 객체지향 프로그래밍의 특징을 가지고 있으며, 강력한 타입 시스템을 제공합니다.\n",
      "\n",
      "5. **C++**:\n",
      "   - C 언어를 기반으로 한 객체지향 프로그래밍 언어로, 시스템 소프트웨어, 게임 개발, 성능이 중요한 응용 프로그램에서 많이 사용됩니다.\n",
      "   - 메모리 관리와 포인터를 직접 다룰 수 있어 고급 프로그래밍 기법을 지원합니다.\n",
      "   - 성능이 중요시되는 분야에서 여전히 많이 사용되고 있습니다.\n",
      "\n",
      "각 언어는 고유한 특성과 장점을 가지고 있으므로, 특정 용도나 프로젝트에 따라 적절한 언어를 선택하는 것이 중요합니다.\n"
     ]
    }
   ],
   "source": [
    "print(response.content)"
   ]
  },
  {
   "cell_type": "code",
   "execution_count": 24,
   "id": "520effd5-677c-46e3-9068-553e973bfea4",
   "metadata": {},
   "outputs": [],
   "source": [
    "response = model.invoke(\"주요 프로그래밍 언어 5개를 소개해줘\")"
   ]
  },
  {
   "cell_type": "markdown",
   "id": "4a1d6d6a",
   "metadata": {},
   "source": [
    "똑같은 질문 -> 바로 답이 나옴. 똑같은 내용 출력"
   ]
  },
  {
   "cell_type": "code",
   "execution_count": 25,
   "id": "679c767a",
   "metadata": {},
   "outputs": [
    {
     "name": "stdout",
     "output_type": "stream",
     "text": [
      "다양한 프로그래밍 언어들이 있지만, 아래의 5개 언어는 특히 널리 사용되며 중요한 역할을 하고 있습니다:\n",
      "\n",
      "1. **파이썬 (Python)**:\n",
      "   - 범용 프로그래밍 언어로, 문법이 간결하고 읽기 쉬워 초보자에게 적합합니다.\n",
      "   - 데이터 분석, 인공지능, 웹 개발, 자동화 등의 분야에서 많이 사용됩니다.\n",
      "   - 풍부한 라이브러리와 프레임워크(예: NumPy, Pandas, Flask, Django)를 제공합니다.\n",
      "\n",
      "2. **자바스크립트 (JavaScript)**:\n",
      "   - 웹 개발의 표준 언어로, 클라이언트 사이드와 서버 사이드 모두에서 사용됩니다.\n",
      "   - HTML과 CSS와 함께 웹 페이지의 동적 기능을 구현합니다.\n",
      "   - Node.js와 같은 프레임워크를 통해 서버 개발에서도 활용됩니다.\n",
      "\n",
      "3. **자바 (Java)**:\n",
      "   - 객체지향 프로그래밍 언어로, '한 번 작성하면 어디서든 실행된다'는 슬로건을 가지고 있습니다.\n",
      "   - 기업 애플리케이션, 안드로이드 앱 개발 등에서 널리 사용됩니다.\n",
      "   - 다양한 플랫폼에서 실행할 수 있도록 설계되어 있습니다.\n",
      "\n",
      "4. **C# (C Sharp)**:\n",
      "   - 마이크로소프트에서 개발한 언어로, 주로 .NET 플랫폼에서 사용됩니다.\n",
      "   - 웹 애플리케이션, 데스크톱 애플리케이션, 게임 개발(특히 Unity에서) 등 다양한 분야에 사용됩니다.\n",
      "   - 객체지향 프로그래밍의 특징을 가지고 있으며, 강력한 타입 시스템을 제공합니다.\n",
      "\n",
      "5. **C++**:\n",
      "   - C 언어를 기반으로 한 객체지향 프로그래밍 언어로, 시스템 소프트웨어, 게임 개발, 성능이 중요한 응용 프로그램에서 많이 사용됩니다.\n",
      "   - 메모리 관리와 포인터를 직접 다룰 수 있어 고급 프로그래밍 기법을 지원합니다.\n",
      "   - 성능이 중요시되는 분야에서 여전히 많이 사용되고 있습니다.\n",
      "\n",
      "각 언어는 고유한 특성과 장점을 가지고 있으므로, 특정 용도나 프로젝트에 따라 적절한 언어를 선택하는 것이 중요합니다.\n"
     ]
    }
   ],
   "source": [
    "print(response.content)"
   ]
  },
  {
   "cell_type": "markdown",
   "id": "55d075bf",
   "metadata": {},
   "source": [
    "커널 다시 시작. "
   ]
  },
  {
   "cell_type": "code",
   "execution_count": 5,
   "id": "0a641751",
   "metadata": {},
   "outputs": [
    {
     "data": {
      "text/plain": [
       "True"
      ]
     },
     "execution_count": 5,
     "metadata": {},
     "output_type": "execute_result"
    }
   ],
   "source": [
    "from dotenv import load_dotenv\n",
    "load_dotenv()"
   ]
  },
  {
   "cell_type": "code",
   "execution_count": 3,
   "id": "7c4c52eb",
   "metadata": {},
   "outputs": [],
   "source": [
    "from langchain_openai import ChatOpenAI\n",
    "from langchain.globals import set_llm_cache\n",
    "from langchain.cache import InMemoryCache, SQLiteCache\n",
    "\n",
    "# 대화내역을 캐시에 저장 시작\n",
    "# set_llm_cache(InMemoryCache()) # 메모리에 저장\n",
    "\n",
    "set_llm_cache(SQLiteCache(\"llm_cache.sqlite\"))\n",
    "\n",
    "model = ChatOpenAI(model_name=\"gpt-4o-mini\")\n",
    "response = model.invoke(\"주요 프로그래밍 언어 5개를 소개해줘\")"
   ]
  },
  {
   "cell_type": "code",
   "execution_count": 4,
   "id": "79738c19",
   "metadata": {},
   "outputs": [
    {
     "name": "stdout",
     "output_type": "stream",
     "text": [
      "물론입니다! 여기 주요 프로그래밍 언어 다섯 가지를 소개합니다.\n",
      "\n",
      "1. **파이썬 (Python)**:\n",
      "   - 사용 용도: 웹 개발, 데이터 분석, 인공지능, 자동화 등\n",
      "   - 특징: 간결하고 읽기 쉬운 문법, 방대한 라이브러리 지원, 대규모 커뮤니티.\n",
      "\n",
      "2. **자바 (Java)**:\n",
      "   - 사용 용도: 웹 애플리케이션, 모바일 애플리케이션(Android), 기업 소프트웨어 등\n",
      "   - 특징: 플랫폼 독립성(Write Once, Run Anywhere), 객체 지향 프로그래밍 지원, 안정성과 성능.\n",
      "\n",
      "3. **자바스크립트 (JavaScript)**:\n",
      "   - 사용 용도: 웹 개발(프론트엔드 및 백엔드), 서버 애플리케이션, 모바일 앱 등\n",
      "   - 특징: 클라이언트 측과 서버 측 모두에서 실행 가능, 비동기 프로그래밍 지원, 다양한 프레임워크와 라이브러리.\n",
      "\n",
      "4. **C++**:\n",
      "   - 사용 용도: 시스템 소프트웨어, 게임 개발, 고성능 애플리케이션 등\n",
      "   - 특징: 속도와 성능이 뛰남, 객체 지향 프로그래밍 지원, 메모리 관리에 대한 높은 유연성.\n",
      "\n",
      "5. **C#**:\n",
      "   - 사용 용도: 윈도우 애플리케이션, 게임 개발(Unity), 웹 애플리케이션 등\n",
      "   - 특징: .NET 프레임워크와의 통합, 강력한 타입 시스템, 객체 지향 프로그래밍 지원.\n",
      "\n",
      "이 언어들은 각각의 강점과 용도가 있으며, 개발자가 필요에 따라 선택하여 사용할 수 있습니다.\n"
     ]
    }
   ],
   "source": [
    "print(response.content)"
   ]
  },
  {
   "cell_type": "markdown",
   "id": "e306a8be",
   "metadata": {},
   "source": [
    "# Streaming 방식 응답 처리\n",
    "- LLM 응답의 완료를 기다리지 않고 실시간으로 생성되는 토큰.청크를 받아서 처리한다. \n",
    "- `모델.invoke(input, config)->응답데이터`: 모델의 응답을 기다렸다가 완료되면 한 번에 반환\n",
    "- `model.stream(input, config)->Iterator`: 모델이 토큰을 생성하면 바로바로 반환한다. \n",
    "\n",
    "=> 결과가 나오면 한 번에 쫙 보여주는 게 아니라, 나오는 순서대로 보여준당"
   ]
  },
  {
   "cell_type": "code",
   "execution_count": 7,
   "id": "4dbe1f10",
   "metadata": {},
   "outputs": [
    {
     "name": "stdout",
     "output_type": "stream",
     "text": [
      "<class 'generator'>\n"
     ]
    }
   ],
   "source": [
    "from langchain_openai import ChatOpenAI\n",
    "\n",
    "model = ChatOpenAI(model_name=\"gpt-4o-mini\")\n",
    "res = model.stream(\"AI에 대해서 설명해줘.\")\n",
    "print(type(res))"
   ]
  },
  {
   "cell_type": "markdown",
   "id": "8e8ed906",
   "metadata": {},
   "source": [
    "값을 주는 게 아니라, 값을 제공하는 것을 준다.\n"
   ]
  },
  {
   "cell_type": "code",
   "execution_count": 9,
   "id": "e8d67032",
   "metadata": {},
   "outputs": [
    {
     "name": "stdout",
     "output_type": "stream",
     "text": [
      "\n",
      "AI\n",
      "(\n",
      "인\n",
      "공지\n",
      "능\n",
      ")는\n",
      " 인간\n",
      "의\n",
      " 지\n",
      "능\n",
      "을\n",
      " 모\n",
      "방\n",
      "하여\n",
      " 학\n",
      "습\n",
      ",\n",
      " 문제\n",
      " 해결\n",
      ",\n",
      " 의\n",
      "사\n",
      " 결정\n",
      " 등을\n",
      " 수행\n",
      "할\n",
      " 수\n",
      " 있는\n",
      " 컴\n",
      "퓨터\n",
      " 시스템\n",
      "이나\n",
      " 프로그램\n",
      "을\n",
      " 의미\n",
      "합니다\n",
      ".\n",
      " AI\n",
      "는\n",
      " 여러\n",
      " 분야\n",
      "에\n",
      " 걸\n",
      "쳐\n",
      " 사용\n",
      "되\n",
      "며\n",
      ",\n",
      " 그\n",
      " 주요\n",
      " 목적\n",
      "은\n",
      " 특정\n",
      " 작업\n",
      "을\n",
      " 자동\n",
      "화\n",
      "하거나\n",
      " 인간\n",
      "의\n",
      " 능\n",
      "력을\n",
      " 확\n",
      "장\n",
      "하는\n",
      " 것입니다\n",
      ".\n",
      "\n",
      "\n",
      "AI\n",
      "는\n",
      " 일반\n",
      "적으로\n",
      " 두\n",
      " 가지\n",
      " 주요\n",
      " 범\n",
      "주\n",
      "로\n",
      " 나\n",
      "눌\n",
      " 수\n",
      " 있습니다\n",
      ":\n",
      "\n",
      "\n",
      "1\n",
      ".\n",
      " **\n",
      "약\n",
      "한\n",
      " AI\n",
      " (\n",
      "N\n",
      "arrow\n",
      " AI\n",
      ")**\n",
      ":\n",
      " 특정\n",
      " 작업\n",
      "에\n",
      " 특\n",
      "화\n",
      "된\n",
      " AI\n",
      "로\n",
      ",\n",
      " 예\n",
      "를\n",
      " 들어\n",
      " 음\n",
      "성\n",
      " 인\n",
      "식\n",
      ",\n",
      " 이미지\n",
      " 인\n",
      "식\n",
      ",\n",
      " 번\n",
      "역\n",
      " 서비스\n",
      " 등\n",
      " 특정\n",
      " 문제\n",
      "를\n",
      " 해결\n",
      "하는\n",
      " 데\n",
      " 중\n",
      "점을\n",
      " 둡\n",
      "니다\n",
      ".\n",
      " 현재\n",
      " 상\n",
      "용\n",
      "화\n",
      "된\n",
      " 많은\n",
      " AI\n",
      " 기술\n",
      "은\n",
      " 이\n",
      " 범\n",
      "주\n",
      "에\n",
      " 해당\n",
      "합니다\n",
      ".\n",
      "\n",
      "\n",
      "2\n",
      ".\n",
      " **\n",
      "강\n",
      "한\n",
      " AI\n",
      " (\n",
      "General\n",
      " AI\n",
      ")**\n",
      ":\n",
      " 인간\n",
      "과\n",
      " 같은\n",
      " 수준\n",
      "의\n",
      " 범\n",
      "용\n",
      " 지\n",
      "능\n",
      "을\n",
      " 갖\n",
      "춘\n",
      " AI\n",
      "로\n",
      ",\n",
      " 다양한\n",
      " 문제\n",
      "를\n",
      " 해결\n",
      "하고\n",
      " 인간\n",
      "과\n",
      " 유\n",
      "사\n",
      "한\n",
      " 사고\n",
      " 능\n",
      "력을\n",
      " 가지고\n",
      " 있는\n",
      " 것을\n",
      " 목표\n",
      "로\n",
      " 합니다\n",
      ".\n",
      " 현재\n",
      "로\n",
      "서는\n",
      " 강\n",
      "한\n",
      " AI\n",
      "는\n",
      " 이\n",
      "론\n",
      "적인\n",
      " 개\n",
      "념\n",
      "에\n",
      " 가\n",
      "깝\n",
      "고\n",
      ",\n",
      " 실제\n",
      "로\n",
      " 구현\n",
      "된\n",
      " 사례\n",
      "는\n",
      " 없습니다\n",
      ".\n",
      "\n",
      "\n",
      "AI\n",
      " 기술\n",
      "의\n",
      " 핵\n",
      "심\n",
      "은\n",
      " 머신\n",
      "러\n",
      "닝\n",
      "(\n",
      "기\n",
      "계\n",
      " 학\n",
      "습\n",
      ")\n",
      "과\n",
      " 딥\n",
      "러\n",
      "닝\n",
      "(\n",
      "심\n",
      "층\n",
      " 학\n",
      "습\n",
      ")\n",
      "입니다\n",
      ".\n",
      " 머신\n",
      "러\n",
      "닝\n",
      "은\n",
      " 데이터\n",
      "에서\n",
      " 패\n",
      "턴\n",
      "을\n",
      " 학\n",
      "습\n",
      "하여\n",
      " 예\n",
      "측\n",
      " 및\n",
      " 결\n",
      "정을\n",
      " 내\n",
      "리는\n",
      " 기술\n",
      "이고\n",
      ",\n",
      " 딥\n",
      "러\n",
      "닝\n",
      "은\n",
      " 신\n",
      "경\n",
      "망\n",
      "을\n",
      " 사용\n",
      "하여\n",
      " 더욱\n",
      " 복\n",
      "잡\n",
      "한\n",
      " 데이터\n",
      " 구조\n",
      "를\n",
      " 분석\n",
      "하는\n",
      " 방법\n",
      "입니다\n",
      ".\n",
      "\n",
      "\n",
      "AI\n",
      "는\n",
      " 의료\n",
      ",\n",
      " 금융\n",
      ",\n",
      " 자\n",
      "율\n",
      "주\n",
      "행\n",
      "차\n",
      ",\n",
      " 고객\n",
      " 서비스\n",
      " 등\n",
      " 다양한\n",
      " 분야\n",
      "에서\n",
      " 활\n",
      "발\n",
      "하게\n",
      " 활용\n",
      "되고\n",
      " 있으며\n",
      ",\n",
      " 그\n",
      " 발전\n",
      "과\n",
      " 함께\n",
      " 윤\n",
      "리\n",
      "적\n",
      ",\n",
      " 사회\n",
      "적\n",
      " 문제\n",
      "도\n",
      " 함께\n",
      " 논\n",
      "의\n",
      "되고\n",
      " 있습니다\n",
      ".\n",
      "\n"
     ]
    }
   ],
   "source": [
    "for token in model.stream(\"AI에 대해 설명해줘.\"):\n",
    "    print(token.content)"
   ]
  },
  {
   "cell_type": "code",
   "execution_count": null,
   "id": "24fc50d1",
   "metadata": {},
   "outputs": [],
   "source": []
  }
 ],
 "metadata": {
  "kernelspec": {
   "display_name": "lang_env",
   "language": "python",
   "name": "python3"
  },
  "language_info": {
   "codemirror_mode": {
    "name": "ipython",
    "version": 3
   },
   "file_extension": ".py",
   "mimetype": "text/x-python",
   "name": "python",
   "nbconvert_exporter": "python",
   "pygments_lexer": "ipython3",
   "version": "3.12.11"
  }
 },
 "nbformat": 4,
 "nbformat_minor": 5
}
