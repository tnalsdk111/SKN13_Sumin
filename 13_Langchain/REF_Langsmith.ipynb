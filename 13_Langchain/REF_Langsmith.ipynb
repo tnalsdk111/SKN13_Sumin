{
 "cells": [
  {
   "cell_type": "markdown",
   "metadata": {},
   "source": [
    "# Lang Smith\n",
    "\n",
    "\n",
    "LangSmith는 LangChain 생태계의 일부로, 대규모 언어 모델(LLM) 애플리케이션의 개발, 테스트, 평가, 모니터링을 위한 플랫폼이다. LangSmith는 주로 LLM을 활용한 애플리케이션의 성능을 모니터링하고, 잘못된 답변을 생성했을 때의 오류를 분석하는 데 사용된다.\n",
    "\n",
    "**1. 회원가입, API Key 생성**\n",
    "\n",
    "- LangSmith를 사용하려면 먼저 [LangSmith 웹사이트](https://www.langchain.com/langsmith)에 가입 한다.\n",
    "- <1> 로그인 후 왼쪽 메뉴바에서 settings를 선택하여 설정 페이지로 이동한다.\n",
    "- <3> Description에 식별 이름을 입력하고 생성한다.\n",
    "- 생성된 API Key를 안전한 곳에 저장한다.\n",
    "  - 환경변수에 `LANGCHAIN_API_KEY` 이름으로 저장한다. (.env 파일에 저장)\n",
    "\n",
    "![langsmith_apikey.png](figures/langsmith_apikey.png)\n",
    "\n",
    "**2. 프로젝트 생성**\n",
    "- LangSmith에서는 프로젝트 단위로 LLM 애플리케이션의 실행을 관리할 수 있다. 프로젝트를 생성하고, 각 프로젝트에 대해 실행 카운트, 에러 발생률, 토큰 사용량 등을 추적할 수 있다.\n",
    "- **프로젝트 생성**\n",
    "  -  왼쪽 menu bar에서 `tracing projects`(위에서 두번째 아이콘) 를 선택하고 `+New Project` 버튼을 클릭한다.\n",
    "  -  프로젝트 이름을 입력하고 환경변수를 카피한다.\n",
    "     - 복사한 환경변수를 `.env` 파일에 저장한다.  \n",
    "  -  **Langchain 코드를 실행하면 자동으로 프로젝트가 생성 되고 로그가 기록되어 관리된다.**\n",
    "  \n",
    "  ![langsmith_project.png](figures/langsmith_project.png)\n",
    "\n",
    "\n",
    "## 주요 기능\n",
    "\n",
    "**1. 디버깅 및 모니터링**\n",
    "\n",
    "- LangSmith는 강력한 디버깅 기능을 제공하여 LLM 애플리케이션의 오류를 효율적으로 식별하고 해결할 수 있다. 또한, 애플리케이션의 성능을 지속적으로 모니터링하고 개선할 수 있는 도구를 제공한다.\n",
    "- 실행 속도가 느려지거나 예상과 다른 결과가 나올 때 문제를 추적하는 데 유용하다.\n",
    "\n",
    "**2. 프롬프트 및 데이터셋 관리**\n",
    "\n",
    "- LangSmith는 다양한 프롬프트를 제공하며, 사용자는 이를 검색하여 자신의 프로젝트에 맞게 수정할 수 있다. 또한, 직접 프롬프트를 작성하여 등록할 수도 있다\n",
    "- 데이터셋을 생성하여 LLM의 성능을 평가할 수 있다. 데이터셋은 일반적으로 질문과 답변 쌍으로 구성되며, 이를 통해 모델의 응답을 테스트하고 개선할 수 있다.\n",
    "\n",
    "\n",
    "**3. 평가 및 테스트**\n",
    "\n",
    "- LangSmith는 LLM의 성능을 다양한 기준으로 평가할 수 있는 도구를 제공한다. "
   ]
  },
  {
   "cell_type": "code",
   "execution_count": null,
   "metadata": {
    "vscode": {
     "languageId": "plaintext"
    }
   },
   "outputs": [],
   "source": []
  }
 ],
 "metadata": {
  "kernelspec": {
   "display_name": "Python 3 (ipykernel)",
   "language": "python",
   "name": "python3"
  },
  "language_info": {
   "codemirror_mode": {
    "name": "ipython",
    "version": 3
   },
   "file_extension": ".py",
   "mimetype": "text/x-python",
   "name": "python",
   "nbconvert_exporter": "python",
   "pygments_lexer": "ipython3",
   "version": "3.12.2"
  }
 },
 "nbformat": 4,
 "nbformat_minor": 4
}
