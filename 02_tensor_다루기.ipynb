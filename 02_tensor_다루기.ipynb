{
  "cells": [
    {
      "cell_type": "markdown",
      "metadata": {
        "id": "view-in-github",
        "colab_type": "text"
      },
      "source": [
        "<a href=\"https://colab.research.google.com/github/tnalsdk111/SKN13_Sumin/blob/main/02_tensor_%EB%8B%A4%EB%A3%A8%EA%B8%B0.ipynb\" target=\"_parent\"><img src=\"https://colab.research.google.com/assets/colab-badge.svg\" alt=\"Open In Colab\"/></a>"
      ]
    },
    {
      "cell_type": "markdown",
      "id": "84c0614b",
      "metadata": {
        "id": "84c0614b"
      },
      "source": [
        "# Tensor 생성\n",
        "- 파이토치에서 데이터를 저장하는 자료구조\n",
        "- ndarray와 성격, 사용법이 유사하다. (numpy)\n",
        "\n",
        "> **pytorch의 tensor는 숫자 데이터 타입만 지원한다.**"
      ]
    },
    {
      "cell_type": "markdown",
      "id": "06d118ec",
      "metadata": {
        "id": "06d118ec"
      },
      "source": [
        "##  원하는 형태(shape) 텐서 생성\n",
        "- **torch.tensor(자료구조 \\[, dtype\\])**\n",
        "    - 지정한 dtype(Data type)에 맞는 Tensor객체를 생성해서 반환한다.\n",
        "    - torch는 모듈, tensor는 함수\n",
        "      \n",
        "## 특정 타입의 Tensor를 직접 생성\n",
        "- torch.tensor()로 생성하면서 dtype을 지정하면 아래 타입의 Tensor객체가 생성된다.\n",
        "- 원하는 Type의 Tensor클래스를 이용해 직접 생성해도 된다.\n",
        "- **torch.FloatTensor(자료구조)**\n",
        "    - float32 타입 텐서 생성\n",
        "- **torch.LongTensor(자료구조)**\n",
        "    - int64 타입 텐서생성\n",
        "- 그외\n",
        "    - BoolTensor(bool), CharTensor(int8), ShortTensor(int16), IntTensor(int32), DoubleTensor(float64)\n",
        "    \n",
        "## tensor 상태 조회\n",
        "- **tensor.shape, tensor.size(\\[축번호\\])**\n",
        "    -  tensor의 shape조회\n",
        "- **tensor.dtype, tensor.type()**\n",
        "    - tensor 원소들의 데이터타입 조회\n",
        "    - dtype은 **data type**을 type()은 tensor **객체의 클래스 타입**을 반환한다.\n",
        "- **tensor.ndim, tensor.dim()**  : tensor 차원\n",
        "- **tensor.numel()**: 전체 원소 개수\n",
        "\n"
      ]
    },
    {
      "cell_type": "code",
      "execution_count": null,
      "id": "8f81163c",
      "metadata": {
        "id": "8f81163c"
      },
      "outputs": [],
      "source": [
        "import torch\n",
        "import numpy as np"
      ]
    },
    {
      "cell_type": "code",
      "execution_count": null,
      "id": "a5a312ec-094a-459d-9962-841d3decd8c3",
      "metadata": {
        "id": "a5a312ec-094a-459d-9962-841d3decd8c3",
        "colab": {
          "base_uri": "https://localhost:8080/"
        },
        "outputId": "b41512fc-de57-4666-9694-37e65ae9608b"
      },
      "outputs": [
        {
          "output_type": "execute_result",
          "data": {
            "text/plain": [
              "array([1, 2, 3], dtype=int8)"
            ]
          },
          "metadata": {},
          "execution_count": 2
        }
      ],
      "source": [
        "np.array([1, 2, 3], dtype=np.int8)#\"int8\")"
      ]
    },
    {
      "cell_type": "markdown",
      "source": [
        "numpy 자료구조의 경우 dtype은 \"int8\"과 같이 문자열로 지정해줄 수도 있다.\n",
        "근데 torch는 안 돼용\n",
        "\n",
        "> 인용구 추가\n",
        "\n"
      ],
      "metadata": {
        "id": "jvOzooeAdBZf"
      },
      "id": "jvOzooeAdBZf"
    },
    {
      "cell_type": "code",
      "execution_count": null,
      "id": "1a471610-e0d4-477c-bbe7-03f8a8d7202c",
      "metadata": {
        "id": "1a471610-e0d4-477c-bbe7-03f8a8d7202c",
        "colab": {
          "base_uri": "https://localhost:8080/"
        },
        "outputId": "43e00a09-214d-4296-c266-9c542a236dc2"
      },
      "outputs": [
        {
          "output_type": "stream",
          "name": "stdout",
          "text": [
            "torch Data types\n",
            "float: torch.float16 torch.float32 torch.float64 torch.float32 torch.float64\n",
            "int: torch.int8 torch.int16 torch.int32 torch.int64 torch.int16 torch.int32 torch.int64\n",
            "uint: torch.uint8 torch.uint16 torch.uint32 torch.uint64\n",
            "bool: torch.bool\n"
          ]
        }
      ],
      "source": [
        "print('torch Data types')\n",
        "print(\"float:\", torch.float16, torch.float32, torch.float64, torch.float, torch.double)  #torch.float: float32\n",
        "print(\"int:\", torch.int8, torch.int16, torch.int32, torch.int64, torch.short, torch.int, torch.long)# 가능\n",
        "print(\"uint:\", torch.uint8, torch.uint16, torch.uint32, torch.uint64)\n",
        "print(\"bool:\", torch.bool)"
      ]
    },
    {
      "cell_type": "code",
      "execution_count": null,
      "id": "370e0dcd",
      "metadata": {
        "id": "370e0dcd",
        "colab": {
          "base_uri": "https://localhost:8080/"
        },
        "outputId": "3c2cc01f-b77a-477c-c428-88406fea55e7"
      },
      "outputs": [
        {
          "output_type": "stream",
          "name": "stdout",
          "text": [
            "shape: torch.Size([2, 2]) torch.Size([2, 2])\n",
            "0축 크기: 2 2\n",
            "type: torch.FloatTensor torch.float32\n",
            "차원크기: 2 2\n",
            "원소개수: 4\n",
            "device: cpu\n"
          ]
        }
      ],
      "source": [
        "a = torch.tensor([[1,2],[3,4]], dtype=torch.float32)\n",
        "\n",
        "\n",
        "print(\"shape:\", a.shape, a.size())\n",
        "print(\"0축 크기:\", a.shape[0], a.size(0))\n",
        "print(\"type:\", a.type(), a.dtype)  # type(): Tensor 객체 타입. dtype: data type => 둘은 좀 다르다.\n",
        "print('차원크기:', a.dim(), a.ndim)\n",
        "print('원소개수:', a.numel())\n",
        "print(\"device:\", a.device)  # tensor를 다루는 processor(메모리위치) - cpu, cuda(gpu)"
      ]
    },
    {
      "cell_type": "markdown",
      "source": [
        "- device: cpu => RAM 쓰고 있구나~\n",
        "\n",
        "\n",
        "- gpu => VRAM 쓰고 있구나~"
      ],
      "metadata": {
        "id": "yrZrLVGnj7vk"
      },
      "id": "yrZrLVGnj7vk"
    },
    {
      "cell_type": "markdown",
      "source": [
        "type은 클래스 객체 타입, dtype은 데이터 타입을 의미함."
      ],
      "metadata": {
        "id": "2mHuJg7peEG1"
      },
      "id": "2mHuJg7peEG1"
    },
    {
      "cell_type": "code",
      "execution_count": null,
      "id": "27f077a1",
      "metadata": {
        "id": "27f077a1",
        "colab": {
          "base_uri": "https://localhost:8080/",
          "height": 53
        },
        "outputId": "a528d357-179d-4f91-8910-b0ae05ed02ad"
      },
      "outputs": [
        {
          "output_type": "stream",
          "name": "stdout",
          "text": [
            "tensor([0, 1, 2, 3, 4, 5, 6, 7, 8, 9])\n"
          ]
        },
        {
          "output_type": "execute_result",
          "data": {
            "text/plain": [
              "'torch.LongTensor'"
            ],
            "application/vnd.google.colaboratory.intrinsic+json": {
              "type": "string"
            }
          },
          "metadata": {},
          "execution_count": 6
        }
      ],
      "source": [
        "aa = torch.tensor(range(10))\n",
        "print(aa)\n",
        "aa.type()"
      ]
    },
    {
      "cell_type": "code",
      "execution_count": null,
      "id": "e40a7f96",
      "metadata": {
        "id": "e40a7f96",
        "colab": {
          "base_uri": "https://localhost:8080/"
        },
        "outputId": "b48af263-021b-4730-9ca1-c07454d2895c"
      },
      "outputs": [
        {
          "output_type": "stream",
          "name": "stdout",
          "text": [
            "torch.float32\n"
          ]
        }
      ],
      "source": [
        "#Float, Double(32, 64bit 실수)/Int, Long(32, 64 bit 정수) type Tensor\n",
        "b = torch.FloatTensor([1,3,7])  #float32\n",
        "print(b.dtype)\n",
        "# c = torch.IntTensor([10,20,30])    # int32\n",
        "# print(c.dtype)\n",
        "# d = torch.DoubleTensor([1, 2, 3])  # float64\n",
        "# print(d.dtype)\n",
        "# e = torch.LongTensor([10, 20, 30]) # int64\n",
        "# print(e.dtype)"
      ]
    },
    {
      "cell_type": "markdown",
      "id": "b57bc602",
      "metadata": {
        "id": "b57bc602"
      },
      "source": [
        "## 동일한 값을 원소로 가지는 Tensor 생성\n",
        "- **torch.zeros(\\*size), zeros_like(텐서)**: 0으로 구성된 tensor 생성\n",
        "- **torch.ones(\\*size), ones_like(텐서)**: 1로 구성된 tensor생성\n",
        "- **torch.full(size, fill_value), full_like(텐서, fill_value)**: 지정한 값으로 구성된 tensor생성\n",
        "  - size\n",
        "    - shape을 지정한다.\n",
        "    - zeros, ones는 가변인자이므로 축별 size를 순서대로 서정\n",
        "    - full 은 tuple/list로 shape을 지정한다.\n",
        "    "
      ]
    },
    {
      "cell_type": "code",
      "execution_count": null,
      "id": "801e4ffc",
      "metadata": {
        "scrolled": true,
        "id": "801e4ffc",
        "colab": {
          "base_uri": "https://localhost:8080/"
        },
        "outputId": "edc6edfb-c60d-4006-b3e7-00ed9096d3c2"
      },
      "outputs": [
        {
          "output_type": "execute_result",
          "data": {
            "text/plain": [
              "tensor([[100, 100],\n",
              "        [100, 100],\n",
              "        [100, 100]])"
            ]
          },
          "metadata": {},
          "execution_count": 15
        }
      ],
      "source": [
        "# a = torch.zeros(3,2,3) # 3 x 2 x 3\n",
        "# print(a.dtype)\n",
        "# a\n",
        "# torch.ones(2,3)  # 2 X 3\n",
        "torch.full([3,2], fill_value=100) # 3 x 2"
      ]
    },
    {
      "cell_type": "code",
      "execution_count": null,
      "id": "1697cfd6",
      "metadata": {
        "id": "1697cfd6",
        "colab": {
          "base_uri": "https://localhost:8080/"
        },
        "outputId": "2a7c0e2f-b030-4ff9-e689-00ca11fc021f"
      },
      "outputs": [
        {
          "output_type": "stream",
          "name": "stdout",
          "text": [
            "torch.Size([2, 2])\n",
            "torch.Size([2, 2]) torch.int64\n"
          ]
        },
        {
          "output_type": "execute_result",
          "data": {
            "text/plain": [
              "tensor([[0, 0],\n",
              "        [0, 0]])"
            ]
          },
          "metadata": {},
          "execution_count": 16
        }
      ],
      "source": [
        "# 특정 배열과 동일한 shape의 tensor 생성.\n",
        "a = torch.tensor([[1, 2],[3, 4]]) # 2 x 2\n",
        "\n",
        "print(a.shape)\n",
        "b = torch.zeros_like(a)  # a와 같은 shape, dtype 으로 생성.\n",
        "# b = torch.ones_like(a)\n",
        "# b = torch.full_like(a, 20)\n",
        "print(b.shape, b.dtype)\n",
        "b"
      ]
    },
    {
      "cell_type": "markdown",
      "id": "01301e5c",
      "metadata": {
        "id": "01301e5c"
      },
      "source": [
        "## 동일한 간격으로 떨어진 값들로 구성된 배열생성\n",
        "- **torch.arange(start=0, end, step=1)**\n",
        "- **torch.linspace(start, end, steps,)** : steps - 원소개수"
      ]
    },
    {
      "cell_type": "code",
      "execution_count": null,
      "id": "f9b9fd1b",
      "metadata": {
        "id": "f9b9fd1b",
        "colab": {
          "base_uri": "https://localhost:8080/"
        },
        "outputId": "90557bf1-d714-4155-9bf7-d6b75baac0c4"
      },
      "outputs": [
        {
          "output_type": "execute_result",
          "data": {
            "text/plain": [
              "tensor([0, 1, 2, 3, 4, 5, 6, 7, 8, 9])"
            ]
          },
          "metadata": {},
          "execution_count": 17
        }
      ],
      "source": [
        "torch.arange(10)  # end. 0 ~ 10-1 1씩 증가\n",
        "# torch.arange(0, 1, 0.1) # 0 ~ 1-0.1, 0.1\n",
        "# torch.arange(10, 1, -1) # 10 ~ 1-(-1), -1"
      ]
    },
    {
      "cell_type": "code",
      "execution_count": null,
      "id": "afa883dd",
      "metadata": {
        "id": "afa883dd",
        "colab": {
          "base_uri": "https://localhost:8080/"
        },
        "outputId": "82fb0257-5cde-4631-8441-20012d799ea4"
      },
      "outputs": [
        {
          "output_type": "execute_result",
          "data": {
            "text/plain": [
              "tensor([0.0000, 0.1000, 0.2000, 0.3000, 0.4000, 0.5000, 0.6000, 0.7000, 0.8000,\n",
              "        0.9000, 1.0000])"
            ]
          },
          "metadata": {},
          "execution_count": 20
        }
      ],
      "source": [
        "torch.linspace(0, 10, 5) # 0 ~ 10, 5개원소\n",
        "torch.linspace(0, 1, 11)\n"
      ]
    },
    {
      "cell_type": "markdown",
      "id": "f2bd2a03",
      "metadata": {
        "id": "f2bd2a03"
      },
      "source": [
        "## 빈 tensor 생성\n",
        "- **torch.empty(\\*size)**"
      ]
    },
    {
      "cell_type": "code",
      "execution_count": null,
      "id": "f9a865f4",
      "metadata": {
        "collapsed": true,
        "jupyter": {
          "outputs_hidden": true
        },
        "id": "f9a865f4",
        "colab": {
          "base_uri": "https://localhost:8080/"
        },
        "outputId": "534aa4c3-42fc-4a53-fdd1-0f613bafe3d0"
      },
      "outputs": [
        {
          "output_type": "execute_result",
          "data": {
            "text/plain": [
              "tensor([[[1.3298e-17, 4.4536e-41, 1.8249e-32, 0.0000e+00, 4.7659e-34,\n",
              "          4.4536e-41, 0.0000e+00],\n",
              "         [0.0000e+00, 0.0000e+00, 0.0000e+00, 0.0000e+00, 0.0000e+00,\n",
              "          0.0000e+00, 0.0000e+00]],\n",
              "\n",
              "        [[0.0000e+00, 0.0000e+00, 0.0000e+00, 0.0000e+00, 0.0000e+00,\n",
              "          0.0000e+00, 0.0000e+00],\n",
              "         [0.0000e+00, 0.0000e+00, 0.0000e+00, 0.0000e+00, 0.0000e+00,\n",
              "          0.0000e+00, 0.0000e+00]],\n",
              "\n",
              "        [[0.0000e+00, 0.0000e+00, 9.1835e-41, 0.0000e+00, 0.0000e+00,\n",
              "          0.0000e+00, 0.0000e+00],\n",
              "         [0.0000e+00, 0.0000e+00, 0.0000e+00, 0.0000e+00, 0.0000e+00,\n",
              "          0.0000e+00, 0.0000e+00]]])"
            ]
          },
          "metadata": {},
          "execution_count": 21
        }
      ],
      "source": [
        "torch.empty(3,2,7) # 3 X 2 X 7"
      ]
    },
    {
      "cell_type": "markdown",
      "source": [
        "빈 텐서를 만드는데, 안을 비워놓을 수는 없어서 -> 0에 가까운 값들로 임의로 채워넣는다. zeros랑 비슷함. 이런 게 있다는 것만 알아두자~~"
      ],
      "metadata": {
        "id": "y2oOwg7pmNId"
      },
      "id": "y2oOwg7pmNId"
    },
    {
      "cell_type": "markdown",
      "id": "6ec59585",
      "metadata": {
        "id": "6ec59585"
      },
      "source": [
        "## 난수를 이용한 생성\n",
        "\n",
        "- **torch.rand(\\*size)**: 0 ~ 1사이 실수로 구성된 배열을 생성. 각 값은 균등분포를 따른다.\n",
        "- **torch.randn(\\*size)**: 표준정규분포(평균:0, 표준편차:1)를 따르는 실수로 구성된 배열 생성\n",
        "- **torch.randint(low=0, high, size)**: 지정한 범위의 정수로 구성된 배열 생성\n",
        "- **torch.randperm(n)**: 0 ~ n-1 사이의 정수를 랜덤하게 섞은 값을 원소로 가지는 배열 생성"
      ]
    },
    {
      "cell_type": "code",
      "execution_count": null,
      "id": "def1448b",
      "metadata": {
        "id": "def1448b",
        "colab": {
          "base_uri": "https://localhost:8080/"
        },
        "outputId": "663e5995-12f8-4085-f710-8487b61cf0a5"
      },
      "outputs": [
        {
          "output_type": "execute_result",
          "data": {
            "text/plain": [
              "tensor([44, 19, 93, 90, 71, 69, 37, 95, 53, 91, 81, 42, 80, 85, 74, 56, 76, 63,\n",
              "        82, 40, 26, 92, 57, 10, 16, 66, 89, 41, 97,  8, 31, 24, 35, 30, 65,  7,\n",
              "        98, 23, 20, 29, 78, 61, 94, 15,  4, 52, 59,  5, 54, 46,  3, 28,  2, 70,\n",
              "         6, 60, 49, 68, 55, 72, 79, 77, 45,  1, 32, 34, 11,  0, 22, 12, 87, 50,\n",
              "        25, 47, 36, 96,  9, 83, 62, 84, 18, 17, 75, 67, 13, 48, 39, 21, 64, 88,\n",
              "        38, 27, 14, 73, 33, 58, 86, 43, 99, 51])"
            ]
          },
          "metadata": {},
          "execution_count": 35
        }
      ],
      "source": [
        "torch.manual_seed(0)  # seed 설정\n",
        "# torch.rand(1, 3, 5) # 100 x 3 x 5\n",
        "# torch.randn(30, 3) # 30 X 3\n",
        "# torch.randint(1, 100, (3, 3, 6))\n",
        "torch.randperm(100) # 0 ~ 99 를 섞어서 구성 # 인덱스 만들 때 자주 쓴다."
      ]
    },
    {
      "cell_type": "code",
      "execution_count": null,
      "id": "8e9b7c88-3511-4c26-8282-5fc9ad857b98",
      "metadata": {
        "id": "8e9b7c88-3511-4c26-8282-5fc9ad857b98",
        "colab": {
          "base_uri": "https://localhost:8080/"
        },
        "outputId": "52f3cf98-5f5c-4e0e-8d97-dec4b0683cb3"
      },
      "outputs": [
        {
          "output_type": "execute_result",
          "data": {
            "text/plain": [
              "tensor([ 0,  1,  2,  3,  4,  5,  6,  7,  8,  9, 10, 11, 12, 13, 14, 15, 16, 17,\n",
              "        18, 19, 20, 21, 22, 23, 24, 25, 26, 27, 28, 29, 30, 31, 32, 33, 34, 35,\n",
              "        36, 37, 38, 39, 40, 41, 42, 43, 44, 45, 46, 47, 48, 49, 50, 51, 52, 53,\n",
              "        54, 55, 56, 57, 58, 59, 60, 61, 62, 63, 64, 65, 66, 67, 68, 69, 70, 71,\n",
              "        72, 73, 74, 75, 76, 77, 78, 79, 80, 81, 82, 83, 84, 85, 86, 87, 88, 89,\n",
              "        90, 91, 92, 93, 94, 95, 96, 97, 98, 99])"
            ]
          },
          "metadata": {},
          "execution_count": 42
        }
      ],
      "source": [
        "a = torch.arange(100)\n",
        "a\n",
        "# a 섞기\n",
        "idx = torch.randperm(100) # 0 ~ 99 섞어서 반환. -> index\n",
        "idx\n",
        "b = a[idx]\n",
        "a"
      ]
    },
    {
      "cell_type": "code",
      "source": [
        "idx"
      ],
      "metadata": {
        "colab": {
          "base_uri": "https://localhost:8080/"
        },
        "id": "QitXfZaxn14n",
        "outputId": "28f130ac-07ac-4b70-e6d3-013b0be9db20"
      },
      "id": "QitXfZaxn14n",
      "execution_count": null,
      "outputs": [
        {
          "output_type": "execute_result",
          "data": {
            "text/plain": [
              "tensor([55, 28, 72, 48, 42, 52,  2, 18, 19, 38, 41, 34, 17, 95, 23, 73, 29, 80,\n",
              "         9,  7, 93, 46, 13, 58, 16, 10,  8, 40, 67, 74, 82, 99, 98, 26, 68, 59,\n",
              "        39, 64,  6, 24, 79, 89, 15, 45, 51, 63,  0, 86, 91, 11, 87, 12, 53, 85,\n",
              "        76, 65, 49,  3, 92,  5, 61, 77, 90, 30, 78, 37, 21, 57, 33, 60, 75, 66,\n",
              "        22, 96,  4, 69, 97, 20, 47, 83, 27, 43,  1, 35, 88, 62, 44, 32, 50, 31,\n",
              "        14, 71, 70, 25, 56, 54, 94, 36, 81, 84])"
            ]
          },
          "metadata": {},
          "execution_count": 43
        }
      ]
    },
    {
      "cell_type": "code",
      "execution_count": null,
      "id": "ac21cd7e-1f92-49ce-b0ae-54a2be6cd15d",
      "metadata": {
        "id": "ac21cd7e-1f92-49ce-b0ae-54a2be6cd15d",
        "colab": {
          "base_uri": "https://localhost:8080/"
        },
        "outputId": "01af810a-366c-4958-ef66-da0eb8c392a1"
      },
      "outputs": [
        {
          "output_type": "execute_result",
          "data": {
            "text/plain": [
              "tensor([55, 28, 72, 48, 42, 52,  2, 18, 19, 38, 41, 34, 17, 95, 23, 73, 29, 80,\n",
              "         9,  7, 93, 46, 13, 58, 16, 10,  8, 40, 67, 74, 82, 99, 98, 26, 68, 59,\n",
              "        39, 64,  6, 24, 79, 89, 15, 45, 51, 63,  0, 86, 91, 11, 87, 12, 53, 85,\n",
              "        76, 65, 49,  3, 92,  5, 61, 77, 90, 30, 78, 37, 21, 57, 33, 60, 75, 66,\n",
              "        22, 96,  4, 69, 97, 20, 47, 83, 27, 43,  1, 35, 88, 62, 44, 32, 50, 31,\n",
              "        14, 71, 70, 25, 56, 54, 94, 36, 81, 84])"
            ]
          },
          "metadata": {},
          "execution_count": 44
        }
      ],
      "source": [
        "b"
      ]
    },
    {
      "cell_type": "code",
      "source": [
        "b.device"
      ],
      "metadata": {
        "colab": {
          "base_uri": "https://localhost:8080/"
        },
        "id": "7HAGNTQqoC1f",
        "outputId": "2edf74ec-37eb-4320-b244-a44749c1ec37"
      },
      "id": "7HAGNTQqoC1f",
      "execution_count": null,
      "outputs": [
        {
          "output_type": "execute_result",
          "data": {
            "text/plain": [
              "device(type='cpu')"
            ]
          },
          "metadata": {},
          "execution_count": 45
        }
      ]
    },
    {
      "cell_type": "markdown",
      "id": "d8494a6a",
      "metadata": {
        "id": "d8494a6a"
      },
      "source": [
        "## Tensor gpu/cpu 메모리로 옮기기\n",
        "\n",
        "- pytorch는 데이터셋인 tensor를 cpu메모리와 gpu 메모리로 서로 옮길 수 있다.\n",
        "    - 데이터에 대한 연산처리를 어디서 하느냐에 따라 메모리를 선택한다.\n",
        "    - 장치는 문자열로 설정한다.\n",
        "        - CPU 사용: \"cpu\"\n",
        "        - nvida GPU: \"cuda\"\n",
        "        - Apple m1: \"mps\"\n",
        "            - pytorch 1.12 부터 지원\n",
        "- 옮기기\n",
        "    - tensor 생성시 `device` 파라미터를 이용해 설정\n",
        "    - `tensor.to(device)`를 이용해 설정\n",
        "- 현재 실행환경에서 어떤 장비를 사용할 수 있는지 확인\n",
        "    - nvidia gpu 사용가능확인\n",
        "        - `torch.cuda.is_available()` - nvida gpu 사용가능 여부\n",
        "        - `torch.backends.mps.is_available()` - M1 사용가능 여부\n",
        "        - False 나오면 못쓴다는 뜻"
      ]
    },
    {
      "cell_type": "code",
      "execution_count": null,
      "id": "9bf69bd8",
      "metadata": {
        "id": "9bf69bd8",
        "colab": {
          "base_uri": "https://localhost:8080/",
          "height": 35
        },
        "outputId": "ec80aaf5-cd8a-476f-f184-2e4b2fbf9d63"
      },
      "outputs": [
        {
          "output_type": "execute_result",
          "data": {
            "text/plain": [
              "'cuda'"
            ],
            "application/vnd.google.colaboratory.intrinsic+json": {
              "type": "string"
            }
          },
          "metadata": {},
          "execution_count": 2
        }
      ],
      "source": [
        "import torch\n",
        "device = 'cuda' if torch.cuda.is_available() else 'cpu'\n",
        "\n",
        "# device = 'mps' if torch.backends.mps.is_available() else 'cpu'\n",
        "# device = 'cuda' if torch.cuda.is_available() else 'mps' if torch.backends.mps.is_available() else 'cpu'\n",
        "device"
      ]
    },
    {
      "cell_type": "markdown",
      "source": [
        "로컬 컴퓨터에서는 CPU가 나온다. mac에서는 mps"
      ],
      "metadata": {
        "id": "HK-4pgGXo7PF"
      },
      "id": "HK-4pgGXo7PF"
    },
    {
      "cell_type": "markdown",
      "source": [
        "런타임 유형 GPU로 변경하면 기존에 쓰던 컴퓨터는 반납되고 GPU 쓸 수 있는 컴퓨터를 빌려온다. -> 기존 연결은 끊어진다."
      ],
      "metadata": {
        "id": "TIv1EKQNpTRB"
      },
      "id": "TIv1EKQNpTRB"
    },
    {
      "cell_type": "code",
      "execution_count": null,
      "id": "3c7fce59-a925-45ae-b201-d9f39a443f8f",
      "metadata": {
        "id": "3c7fce59-a925-45ae-b201-d9f39a443f8f",
        "colab": {
          "base_uri": "https://localhost:8080/"
        },
        "outputId": "f51d488a-9d25-4ce6-bae8-0bcba6de1b95"
      },
      "outputs": [
        {
          "output_type": "stream",
          "name": "stdout",
          "text": [
            "tensor([1., 2., 3.], device='cuda:0') cuda:0\n"
          ]
        }
      ],
      "source": [
        "t = torch.tensor([1, 2, 3], dtype=torch.float32, device=device) #생성할 때 device 지정.\n",
        "print(t, t.device) # tensor가 어느 device에 있는지 확인"
      ]
    },
    {
      "cell_type": "markdown",
      "source": [
        "cuda:0은 0번째 gpu(=첫번째)라는 뜻. 현재 gpu 하나밖에 없으니 0이 나오는 것임."
      ],
      "metadata": {
        "id": "p1w0J8zoqEyJ"
      },
      "id": "p1w0J8zoqEyJ"
    },
    {
      "cell_type": "code",
      "execution_count": null,
      "id": "fbaee501-8187-4104-8dc0-3114a57dca29",
      "metadata": {
        "id": "fbaee501-8187-4104-8dc0-3114a57dca29",
        "colab": {
          "base_uri": "https://localhost:8080/"
        },
        "outputId": "28f96f78-2b9c-4ac5-84f1-95fd9a0010d4"
      },
      "outputs": [
        {
          "output_type": "stream",
          "name": "stdout",
          "text": [
            "tensor([1., 2., 3.]) cpu\n"
          ]
        }
      ],
      "source": [
        "t2 = t.to(\"cpu\")  # 다른 device로 옮기기.\n",
        "print(t2, t2.device)"
      ]
    },
    {
      "cell_type": "code",
      "source": [
        "t3 = t2.to(\"cuda\")\n",
        "print(t3, t3.device)"
      ],
      "metadata": {
        "colab": {
          "base_uri": "https://localhost:8080/"
        },
        "id": "IaXLXV9tqSsA",
        "outputId": "c8e89a0e-21e8-4e9e-9368-3a9fd4affab4"
      },
      "id": "IaXLXV9tqSsA",
      "execution_count": null,
      "outputs": [
        {
          "output_type": "stream",
          "name": "stdout",
          "text": [
            "tensor([1., 2., 3.], device='cuda:0') cuda:0\n"
          ]
        }
      ]
    },
    {
      "cell_type": "markdown",
      "source": [
        "런타임 다시 CPU로 옮길게용 아래는 gpu 필요 없어서~ ~~귀찮으면 GPU 유료결제~~"
      ],
      "metadata": {
        "id": "hNRhoqlRqsK6"
      },
      "id": "hNRhoqlRqsK6"
    },
    {
      "cell_type": "markdown",
      "id": "eb9df51a",
      "metadata": {
        "id": "eb9df51a"
      },
      "source": [
        "## tensor를 상수로 변환\n",
        "- torch.Tensor객체를 파이썬 상수로 변환.\n",
        "- tensor객체.item()\n",
        "    - Scalar(상수) 또는 원소가 하나인 tensor를 python 상수로 변환"
      ]
    },
    {
      "cell_type": "code",
      "source": [
        "import torch"
      ],
      "metadata": {
        "id": "ItI1lDhdq3dg"
      },
      "id": "ItI1lDhdq3dg",
      "execution_count": null,
      "outputs": []
    },
    {
      "cell_type": "code",
      "execution_count": null,
      "id": "88d14aa5-a06a-4f25-bcec-b94c1d554de8",
      "metadata": {
        "id": "88d14aa5-a06a-4f25-bcec-b94c1d554de8",
        "colab": {
          "base_uri": "https://localhost:8080/"
        },
        "outputId": "30052c34-0863-470b-b426-16bfc5d44cf3"
      },
      "outputs": [
        {
          "output_type": "stream",
          "name": "stdout",
          "text": [
            "tensor(30)\n"
          ]
        }
      ],
      "source": [
        "print(torch.tensor(30)) # 0차원 텐서 (상수)"
      ]
    },
    {
      "cell_type": "markdown",
      "source": [
        "pytorch에 0차원 tensor 30이 있는데, 이걸 빼서 python int형 30으로 만드려고 한다. 단, [10, 20]과 같이 값이 여러 개 있으면 안 된다."
      ],
      "metadata": {
        "id": "cODR7CjBrVli"
      },
      "id": "cODR7CjBrVli"
    },
    {
      "cell_type": "markdown",
      "source": [
        "item()을 이용해 원소를 뽑아보아요"
      ],
      "metadata": {
        "id": "1P6_wRGLrnYp"
      },
      "id": "1P6_wRGLrnYp"
    },
    {
      "cell_type": "code",
      "execution_count": null,
      "id": "9e24dc70",
      "metadata": {
        "scrolled": true,
        "id": "9e24dc70",
        "colab": {
          "base_uri": "https://localhost:8080/"
        },
        "outputId": "599faf14-692b-41ab-d7b9-fc9e0a759e62"
      },
      "outputs": [
        {
          "output_type": "stream",
          "name": "stdout",
          "text": [
            "tensor(10) 0\n",
            "10\n",
            "<class 'torch.Tensor'> <class 'int'>\n"
          ]
        }
      ],
      "source": [
        "a = torch.tensor(10)  # 상수(scalar) => 0차원 Tensor\n",
        "print(a, a.ndim) # 0차원\n",
        "print(a.item())\n",
        "print(type(a), type(a.item()))"
      ]
    },
    {
      "cell_type": "markdown",
      "source": [
        "tensor(10) -> 10으로 빼준다. python int 타입으로!!"
      ],
      "metadata": {
        "id": "F6aR1vhQrwTP"
      },
      "id": "F6aR1vhQrwTP"
    },
    {
      "cell_type": "code",
      "execution_count": null,
      "id": "d62c3168",
      "metadata": {
        "id": "d62c3168",
        "colab": {
          "base_uri": "https://localhost:8080/"
        },
        "outputId": "ab0ec2df-3077-487c-d2a4-1215c1329217"
      },
      "outputs": [
        {
          "output_type": "stream",
          "name": "stdout",
          "text": [
            "tensor([[20]]) 2\n",
            "20\n"
          ]
        }
      ],
      "source": [
        "b = torch.tensor([[20]]) # 원소가 하나인 N차원 배열\n",
        "print(b, b.dim())\n",
        "print(b.item()) #원소가 하나인 배열(텐서) 변환 가능"
      ]
    },
    {
      "cell_type": "code",
      "execution_count": null,
      "id": "cefb6f7b",
      "metadata": {
        "scrolled": true,
        "id": "cefb6f7b",
        "colab": {
          "base_uri": "https://localhost:8080/"
        },
        "outputId": "ce23091c-5faa-4490-f5e0-0496e648a8fb"
      },
      "outputs": [
        {
          "output_type": "stream",
          "name": "stdout",
          "text": [
            "tensor([  1,  10, 100])\n"
          ]
        }
      ],
      "source": [
        "c = torch.tensor([1, 10, 100])\n",
        "print(c)\n",
        "# print(c.item()) #원소가 여러개일 경우 Exception발생"
      ]
    },
    {
      "cell_type": "markdown",
      "source": [
        "c처럼 원소가 두 개 이상이면 안 됩니다."
      ],
      "metadata": {
        "id": "XN3gCsX2sD-r"
      },
      "id": "XN3gCsX2sD-r"
    },
    {
      "cell_type": "code",
      "execution_count": null,
      "id": "06f1ae95",
      "metadata": {
        "id": "06f1ae95"
      },
      "outputs": [],
      "source": [
        "d = torch.tensor([10], device='cuda')\n",
        "print(d)\n",
        "print(d.item())"
      ]
    },
    {
      "cell_type": "markdown",
      "id": "a8709f0b",
      "metadata": {
        "id": "a8709f0b"
      },
      "source": [
        "## ndarray 호환\n",
        "\n",
        "- ndarray를 tensor로 생성\n",
        "    - **torch.tensor(ndarray)**\n",
        "    - **torch.from_numpy(ndarray)**\n",
        "- tensor를 ndarray로 변환\n",
        "    - **tensor.numpy()**\n",
        "    - tensor가 gpu에 있을 경우 cpu로 옮긴 뒤 변환해야 한다."
      ]
    },
    {
      "cell_type": "code",
      "execution_count": null,
      "id": "ff396b21",
      "metadata": {
        "id": "ff396b21"
      },
      "outputs": [],
      "source": [
        "import numpy as np\n",
        "import torch"
      ]
    },
    {
      "cell_type": "code",
      "execution_count": null,
      "id": "2c1d1b90",
      "metadata": {
        "id": "2c1d1b90",
        "colab": {
          "base_uri": "https://localhost:8080/"
        },
        "outputId": "ed5e88af-523d-4b65-dd7e-6e048e51e627"
      },
      "outputs": [
        {
          "output_type": "execute_result",
          "data": {
            "text/plain": [
              "tensor([1, 2, 3, 4, 5, 6, 7, 8, 9])"
            ]
          },
          "metadata": {},
          "execution_count": 13
        }
      ],
      "source": [
        "# ndarray -> tensor\n",
        "arr = np.arange(1,10)\n",
        "\n",
        "torch.tensor(arr, dtype=torch.float32)\n",
        "torch.from_numpy(arr)"
      ]
    },
    {
      "cell_type": "code",
      "execution_count": null,
      "id": "4a5fa181",
      "metadata": {
        "id": "4a5fa181",
        "colab": {
          "base_uri": "https://localhost:8080/"
        },
        "outputId": "92e885df-8760-42b6-cb95-7912f614e045"
      },
      "outputs": [
        {
          "output_type": "stream",
          "name": "stdout",
          "text": [
            "tensor([[ 0.2517, -0.9471, -0.0636],\n",
            "        [-0.3745, -0.1760, -0.3322],\n",
            "        [ 0.2072,  1.7419,  0.6559]])\n"
          ]
        },
        {
          "output_type": "execute_result",
          "data": {
            "text/plain": [
              "array([[ 0.25173888, -0.9470678 , -0.06356384],\n",
              "       [-0.37448442, -0.17597902, -0.3322332 ],\n",
              "       [ 0.20716366,  1.7419001 ,  0.65588737]], dtype=float32)"
            ]
          },
          "metadata": {},
          "execution_count": 14
        }
      ],
      "source": [
        "# tensor -> ndarray\n",
        "t = torch.randn(3,3)\n",
        "print(t)\n",
        "t.to(\"cpu\").numpy()"
      ]
    },
    {
      "cell_type": "code",
      "execution_count": null,
      "id": "d85bf50c",
      "metadata": {
        "id": "d85bf50c"
      },
      "outputs": [],
      "source": [
        "# t2 = torch.randn(2,2, device=\"cuda\")\n",
        "# t2"
      ]
    },
    {
      "cell_type": "code",
      "execution_count": null,
      "id": "28c9d47a",
      "metadata": {
        "scrolled": true,
        "id": "28c9d47a"
      },
      "outputs": [],
      "source": [
        "# t2.numpy()\n",
        "# t2.to(\"cpu\").numpy()"
      ]
    },
    {
      "cell_type": "markdown",
      "id": "f10f4911",
      "metadata": {
        "id": "f10f4911"
      },
      "source": [
        "# 원소 조회및 변경\n",
        "\n",
        "## indexing/slicing\n",
        "\n",
        "- 대부분 Numpy 와 동일\n",
        "    - **slicing에서 step을 <u>음수로 지정할 수 없다.</u>** => 역순 조회가 안 된다.\n"
      ]
    },
    {
      "cell_type": "markdown",
      "source": [
        "딥러닝은 데이터셋이 워낙 크니까 데이터를 조회할 일이 별로 없으나.. 조회 한 번 해볼게요잉"
      ],
      "metadata": {
        "id": "Y6ZGUn1gw4ty"
      },
      "id": "Y6ZGUn1gw4ty"
    },
    {
      "cell_type": "code",
      "execution_count": null,
      "id": "2300078c",
      "metadata": {
        "id": "2300078c",
        "colab": {
          "base_uri": "https://localhost:8080/"
        },
        "outputId": "e8c3d65b-b89c-4570-9095-e1867709d072"
      },
      "outputs": [
        {
          "output_type": "execute_result",
          "data": {
            "text/plain": [
              "tensor([  2,  -4,  -6,  -1,   5,  -1,  -2, -10,   8,  -3,   6,  -6,  -5,   0,\n",
              "          3,  -8,  -6,   7,   5,   0,   1,  -8,   8,  -3,   2,   2,  -1,   9,\n",
              "         -6,  -6,  -9,  -1,   4,  -2,   4,   2,   6,  -1,   0,  -3,   2,  -4,\n",
              "          9,  -8,  -9,  -3,  -2,   0,   3,   4,   3,   7,   6,  -2,   5,  -8,\n",
              "          0,   0,   3,   6,   7,  -2,   3,  -4,   8,   1,  -6,   4,   4, -10,\n",
              "         -4,   6,  -5,   3,  -2,   6,   2,   6,   7,   6,   3,  -5,  -2,   7,\n",
              "         -2,  -4,   7,   3,  -6,   8,   0,  -1,   8,  -7,   6,   7, -10,  -2,\n",
              "         -9,   9])"
            ]
          },
          "metadata": {},
          "execution_count": 18
        }
      ],
      "source": [
        "t = torch.randint(-10, 10, (100, ))\n",
        "t"
      ]
    },
    {
      "cell_type": "code",
      "execution_count": null,
      "id": "a28537ed",
      "metadata": {
        "id": "a28537ed",
        "colab": {
          "base_uri": "https://localhost:8080/"
        },
        "outputId": "3c0dc01a-29aa-48b4-c402-f3366d93de89"
      },
      "outputs": [
        {
          "output_type": "execute_result",
          "data": {
            "text/plain": [
              "tensor(2)"
            ]
          },
          "metadata": {},
          "execution_count": 19
        }
      ],
      "source": [
        "t[0]\n",
        "# t[[1, 5, -1]] # 여러개 조회-> fancy indexing"
      ]
    },
    {
      "cell_type": "code",
      "execution_count": null,
      "id": "73763041",
      "metadata": {
        "id": "73763041",
        "colab": {
          "base_uri": "https://localhost:8080/"
        },
        "outputId": "606e951a-4ce4-46fb-bfec-9ce7987cdf0f"
      },
      "outputs": [
        {
          "output_type": "execute_result",
          "data": {
            "text/plain": [
              "tensor([ -3, -10,  -1,  -1,  -4])"
            ]
          },
          "metadata": {},
          "execution_count": 25
        }
      ],
      "source": [
        "t[:5]\n",
        "# t[10:15]\n",
        "# t[90:]\n",
        "# t[3:30:3]\n",
        "\n",
        "####### step 음수 안된다. 그래서 reverse(역순 조회)가 안됨. reverse하려면 flip() 사용\n",
        "# t[10:1:-2]\n",
        "t[1:10:2].flip(dims=(0,)) #reverse"
      ]
    },
    {
      "cell_type": "markdown",
      "source": [
        "위는 역순, 아래는 원본"
      ],
      "metadata": {
        "id": "0E7rjRcDxvTv"
      },
      "id": "0E7rjRcDxvTv"
    },
    {
      "cell_type": "code",
      "execution_count": null,
      "id": "4ecfc6db-5a07-4c50-954c-ec2691652958",
      "metadata": {
        "id": "4ecfc6db-5a07-4c50-954c-ec2691652958",
        "colab": {
          "base_uri": "https://localhost:8080/"
        },
        "outputId": "ce99d0ee-4c09-4280-9225-f0c3b2dc59a4"
      },
      "outputs": [
        {
          "output_type": "execute_result",
          "data": {
            "text/plain": [
              "tensor([ -4,  -1,  -1, -10,  -3])"
            ]
          },
          "metadata": {},
          "execution_count": 21
        }
      ],
      "source": [
        "t[1:10:2]"
      ]
    },
    {
      "cell_type": "markdown",
      "id": "292f1a3e",
      "metadata": {
        "id": "292f1a3e"
      },
      "source": [
        "## boolean index\n",
        "- 논리 연산은 &, |, ~ 을 사용한다."
      ]
    },
    {
      "cell_type": "code",
      "execution_count": null,
      "id": "81965586",
      "metadata": {
        "id": "81965586",
        "colab": {
          "base_uri": "https://localhost:8080/"
        },
        "outputId": "41c3b6de-6b44-4730-ef13-090288d2087e"
      },
      "outputs": [
        {
          "output_type": "execute_result",
          "data": {
            "text/plain": [
              "tensor([2, 5, 8, 6, 3, 7, 5, 1, 8, 2, 2, 9, 4, 4, 2, 6, 2, 9, 3, 4, 3, 7, 6, 5,\n",
              "        3, 6, 7, 3, 8, 1, 4, 4, 6, 3, 6, 2, 6, 7, 6, 3, 7, 7, 3, 8, 8, 6, 7, 9])"
            ]
          },
          "metadata": {},
          "execution_count": 27
        }
      ],
      "source": [
        "# boolean index\n",
        "t[t > 0] # 0보다 큰 원소를 조회한다."
      ]
    },
    {
      "cell_type": "markdown",
      "source": [
        "elementwise 연산 지원 => 원소별로 T/F가 나온다."
      ],
      "metadata": {
        "id": "zc0hNsgQx807"
      },
      "id": "zc0hNsgQx807"
    },
    {
      "cell_type": "code",
      "execution_count": null,
      "id": "49576bbe",
      "metadata": {
        "id": "49576bbe",
        "colab": {
          "base_uri": "https://localhost:8080/"
        },
        "outputId": "72e2b0d9-a74f-4cde-d3f3-efa34e0158d4"
      },
      "outputs": [
        {
          "output_type": "execute_result",
          "data": {
            "text/plain": [
              "tensor([2, 3, 1, 2, 2, 4, 4, 2, 2, 3, 4, 3, 3, 3, 1, 4, 4, 3, 2, 3, 3])"
            ]
          },
          "metadata": {},
          "execution_count": 28
        }
      ],
      "source": [
        "t[(t > 0) & (t < 5)]"
      ]
    },
    {
      "cell_type": "markdown",
      "source": [
        "논리연산자로 &(and), |(or), ~(not)을 쓸 수 있다. python에서 쓰던 and, or 이런 건 못 쓴다."
      ],
      "metadata": {
        "id": "7CVLS72pyCIc"
      },
      "id": "7CVLS72pyCIc"
    },
    {
      "cell_type": "code",
      "execution_count": null,
      "id": "e8f93620",
      "metadata": {
        "id": "e8f93620",
        "colab": {
          "base_uri": "https://localhost:8080/"
        },
        "outputId": "60873dbc-26b2-4fea-f669-f33ef3035705"
      },
      "outputs": [
        {
          "output_type": "execute_result",
          "data": {
            "text/plain": [
              "tensor([2, 5, 8, 6, 3, 7, 5, 1, 8, 2, 2, 9, 4, 4, 2, 6, 2, 9, 3, 4, 3, 7, 6, 5,\n",
              "        3, 6, 7, 3, 8, 1, 4, 4, 6, 3, 6, 2, 6, 7, 6, 3, 7, 7, 3, 8, 8, 6, 7, 9])"
            ]
          },
          "metadata": {},
          "execution_count": 29
        }
      ],
      "source": [
        "# boolean index 처리 함수.\n",
        "t.masked_select(t > 0)"
      ]
    },
    {
      "cell_type": "code",
      "execution_count": null,
      "id": "28e13041-ca1b-4a4d-8bd7-a85c9b7cc832",
      "metadata": {
        "id": "28e13041-ca1b-4a4d-8bd7-a85c9b7cc832",
        "colab": {
          "base_uri": "https://localhost:8080/"
        },
        "outputId": "ea15a21c-f468-45db-8751-459c4312822a"
      },
      "outputs": [
        {
          "output_type": "execute_result",
          "data": {
            "text/plain": [
              "tensor([  2,  -4,  -6,  -1,   5,  -1,  -2, -10,   8,  -3,   6,  -6,  -5,   0,\n",
              "          3,  -8,  -6,   7,   5,   0,   1,  -8,   8,  -3,   2,   2,  -1,   9,\n",
              "         -6,  -6,  -9,  -1,   4,  -2,   4,   2,   6,  -1,   0,  -3,   2,  -4,\n",
              "          9,  -8,  -9,  -3,  -2,   0,   3,   4,   3,   7,   6,  -2,   5,  -8,\n",
              "          0,   0,   3,   6,   7,  -2,   3,  -4,   8,   1,  -6,   4,   4, -10,\n",
              "         -4,   6,  -5,   3,  -2,   6,   2,   6,   7,   6,   3,  -5,  -2,   7,\n",
              "         -2,  -4,   7,   3,  -6,   8,   0,  -1,   8,  -7,   6,   7, -10,  -2,\n",
              "         -9,   9])"
            ]
          },
          "metadata": {},
          "execution_count": 30
        }
      ],
      "source": [
        "t"
      ]
    },
    {
      "cell_type": "code",
      "execution_count": null,
      "id": "03a01027",
      "metadata": {
        "scrolled": true,
        "id": "03a01027",
        "colab": {
          "base_uri": "https://localhost:8080/"
        },
        "outputId": "9f28114e-f00e-4d38-8dda-98a88b95b6d9"
      },
      "outputs": [
        {
          "output_type": "execute_result",
          "data": {
            "text/plain": [
              "tensor([100,  -4,  -6,  -1,   5,  -1,  -2, -10,   8,  -3,   6,  -6,  -5,   0,\n",
              "          3,  -8,  -6,   7,   5,   0,   1,  -8,   8,  -3,   2,   2,  -1,   9,\n",
              "         -6,  -6,  -9,  -1,   4,  -2,   4,   2,   6,  -1,   0,  -3,   2,  -4,\n",
              "          9,  -8,  -9,  -3,  -2,   0,   3,   4,   3,   7,   6,  -2,   5,  -8,\n",
              "          0,   0,   3,   6,   7,  -2,   3,  -4,   8,   1,  -6,   4,   4, -10,\n",
              "         -4,   6,  -5,   3,  -2,   6,   2,   6,   7,   6,   3,  -5,  -2,   7,\n",
              "         -2,  -4,   7,   3,  -6,   8,   0,  -1,   8,  -7,   6,   7, -10,  -2,\n",
              "         -9,   9])"
            ]
          },
          "metadata": {},
          "execution_count": 31
        }
      ],
      "source": [
        "# 변경\n",
        "t[0] = 100\n",
        "t"
      ]
    },
    {
      "cell_type": "code",
      "execution_count": null,
      "id": "49419f63",
      "metadata": {
        "id": "49419f63",
        "colab": {
          "base_uri": "https://localhost:8080/"
        },
        "outputId": "e06c9db5-26ff-4b75-b3c3-58e1e7be39de"
      },
      "outputs": [
        {
          "output_type": "execute_result",
          "data": {
            "text/plain": [
              "tensor([[1, 2, 3],\n",
              "        [4, 5, 6],\n",
              "        [7, 8, 9]])"
            ]
          },
          "metadata": {},
          "execution_count": 32
        }
      ],
      "source": [
        "t = torch.arange(1, 10).reshape(3,3)\n",
        "t"
      ]
    },
    {
      "cell_type": "code",
      "execution_count": null,
      "id": "67affa22",
      "metadata": {
        "id": "67affa22",
        "colab": {
          "base_uri": "https://localhost:8080/"
        },
        "outputId": "4e101fec-2670-49ea-ccec-eb1c7dfc9fe3"
      },
      "outputs": [
        {
          "output_type": "execute_result",
          "data": {
            "text/plain": [
              "3"
            ]
          },
          "metadata": {},
          "execution_count": 36
        }
      ],
      "source": [
        "# t[ 0축, 1축 ]\n",
        "t[1, 2].item() # 6\n",
        "t[0, 2].item() # 3"
      ]
    },
    {
      "cell_type": "code",
      "execution_count": null,
      "id": "15855bcf",
      "metadata": {
        "id": "15855bcf",
        "colab": {
          "base_uri": "https://localhost:8080/"
        },
        "outputId": "7520c625-f9ef-4490-82fe-e8d43609fa51"
      },
      "outputs": [
        {
          "output_type": "execute_result",
          "data": {
            "text/plain": [
              "tensor([6, 3])"
            ]
          },
          "metadata": {},
          "execution_count": 37
        }
      ],
      "source": [
        "t[[1,0], [2,2]]  #(1,2), (0,2)\n",
        "# t[[첫번째값, 두번째값]-0축, [첫번째값, 두번째값]-1축]"
      ]
    },
    {
      "cell_type": "code",
      "execution_count": null,
      "id": "a89cfb06",
      "metadata": {
        "id": "a89cfb06"
      },
      "outputs": [],
      "source": []
    },
    {
      "cell_type": "markdown",
      "id": "a02f14d8",
      "metadata": {
        "id": "a02f14d8"
      },
      "source": [
        "# Reshape"
      ]
    },
    {
      "cell_type": "markdown",
      "id": "221e70f8",
      "metadata": {
        "id": "221e70f8"
      },
      "source": [
        "## shape 변경\n",
        "- tensor객체.reshape(\\*shape) / view(\\*shape) 이용\n",
        "    - 변환 후 값을 변경하면 원본 배열의 값도 같이 바뀐다.\n",
        "    - shape 변환하는 건 얕은 복사. 만약 12 x 1 a를 3 x 4 b로 바꾼다면 -> b는 a의 shape을 바꿔서 '보여주는 것'임. 즉 b에서 원소 값을 변경하면 a 값도 변경된다. 이를 막으려면 deep copy를 해야하고, clone()을 통해 할 수 있다.\n",
        " > tensor.clone(): tensor를 복제한다."
      ]
    },
    {
      "cell_type": "code",
      "execution_count": null,
      "id": "71f88268",
      "metadata": {
        "id": "71f88268",
        "colab": {
          "base_uri": "https://localhost:8080/"
        },
        "outputId": "1e51f2f3-dce6-4545-f996-f5d9df520937"
      },
      "outputs": [
        {
          "output_type": "stream",
          "name": "stdout",
          "text": [
            "torch.Size([12]) torch.Size([3, 4]) torch.Size([3, 2, 2]) torch.Size([3, 2, 2])\n"
          ]
        }
      ],
      "source": [
        "a=torch.rand(12) # (12,)\n",
        "a2 = a.reshape(3,4)\n",
        "a3 = a.reshape((3,2,2))\n",
        "a4 = a.reshape((3,2,-1))  #한 개 axis는 -1로 설정가능하고 그럼 계산해서 알아서 설정해 준다.\n",
        "print(a.shape, a2.size(), a3.shape, a4.shape)\n"
      ]
    },
    {
      "cell_type": "code",
      "execution_count": null,
      "id": "6744974f",
      "metadata": {
        "id": "6744974f",
        "colab": {
          "base_uri": "https://localhost:8080/"
        },
        "outputId": "e7729cee-11b0-4676-dfe3-5b2a871bf9a8"
      },
      "outputs": [
        {
          "output_type": "stream",
          "name": "stdout",
          "text": [
            "torch.Size([12]) torch.Size([3, 4]) torch.Size([3, 2, 2]) torch.Size([3, 2, 2])\n"
          ]
        }
      ],
      "source": [
        "a5 = a.view(3,4)\n",
        "a6 = a.view((3,2,2))\n",
        "a7 = a.view((3,2,-1))  #한개 axis는 -1로 설정가능\n",
        "print(a.shape, a5.size(), a6.shape, a7.shape)"
      ]
    },
    {
      "cell_type": "code",
      "execution_count": null,
      "id": "8ace33cf",
      "metadata": {
        "id": "8ace33cf",
        "colab": {
          "base_uri": "https://localhost:8080/"
        },
        "outputId": "24d8de9f-3a2c-4020-f501-0da8abd9ada8"
      },
      "outputs": [
        {
          "output_type": "stream",
          "name": "stdout",
          "text": [
            "tensor([[ 0.7615, 15.1000,  0.9977,  0.7697],\n",
            "        [ 0.5953,  0.1529,  0.0965,  0.2169],\n",
            "        [ 0.2511,  0.2488,  0.2611,  0.1998]])\n"
          ]
        }
      ],
      "source": [
        "# a5[0, 0] = 12.1\n",
        "a2[0, 1] = 15.1\n",
        "\n",
        "print(a2)"
      ]
    },
    {
      "cell_type": "code",
      "execution_count": null,
      "id": "88561ee6",
      "metadata": {
        "id": "88561ee6",
        "colab": {
          "base_uri": "https://localhost:8080/"
        },
        "outputId": "4308eded-198f-4ef8-c575-e7a60beb0f91"
      },
      "outputs": [
        {
          "output_type": "stream",
          "name": "stdout",
          "text": [
            "tensor([ 0.7615, 15.1000,  0.9977,  0.7697,  0.5953,  0.1529,  0.0965,  0.2169,\n",
            "         0.2511,  0.2488,  0.2611,  0.1998])\n"
          ]
        }
      ],
      "source": [
        "# tensor복사: clone() 메소드\n",
        "r = a.reshape(3, 4).clone()\n",
        "r[0,0] = 100.1\n",
        "print(a)"
      ]
    },
    {
      "cell_type": "code",
      "execution_count": null,
      "id": "220d6190-0c95-46f8-80c7-626d4ade8b0f",
      "metadata": {
        "id": "220d6190-0c95-46f8-80c7-626d4ade8b0f",
        "colab": {
          "base_uri": "https://localhost:8080/"
        },
        "outputId": "7837ce94-df59-4578-d5dc-b8278047cf25"
      },
      "outputs": [
        {
          "output_type": "execute_result",
          "data": {
            "text/plain": [
              "tensor([[1.0010e+02, 1.5100e+01, 9.9771e-01, 7.6966e-01],\n",
              "        [5.9532e-01, 1.5285e-01, 9.6542e-02, 2.1690e-01],\n",
              "        [2.5109e-01, 2.4881e-01, 2.6111e-01, 1.9983e-01]])"
            ]
          },
          "metadata": {},
          "execution_count": 44
        }
      ],
      "source": [
        "r"
      ]
    },
    {
      "cell_type": "markdown",
      "id": "fa8c2fa4",
      "metadata": {
        "id": "fa8c2fa4"
      },
      "source": [
        "## dummy 축 늘리기\n",
        "\n",
        "- None을 이용 (numpy의 newaxis 대신 None을 사용한다.)\n",
        "- unsqueeze(dim=축번호)"
      ]
    },
    {
      "cell_type": "markdown",
      "source": [
        "numpy에서는 a[np.na, ...] 이런 식으로 '...'을 붙여 만들어주었죠? tensor에서는 이 방식을 지원하지 않습니다. 대신 None을 사용하고 :를 사용한다."
      ],
      "metadata": {
        "id": "qQOWM3_B1brp"
      },
      "id": "qQOWM3_B1brp"
    },
    {
      "cell_type": "code",
      "execution_count": null,
      "id": "356a078c",
      "metadata": {
        "id": "356a078c",
        "colab": {
          "base_uri": "https://localhost:8080/"
        },
        "outputId": "ae77f1b7-63d3-46f4-b32a-8913de626055"
      },
      "outputs": [
        {
          "output_type": "stream",
          "name": "stdout",
          "text": [
            "torch.Size([2, 2])\n",
            "torch.Size([1, 2, 2]) torch.Size([1, 2, 2])\n",
            "torch.Size([2, 2, 1]) torch.Size([2, 2, 1])\n"
          ]
        }
      ],
      "source": [
        "import torch\n",
        "a = torch.tensor([[10,20],[10,20]])\n",
        "print(a.shape)\n",
        "\n",
        "# 앞에 더미축, 뒤는 그대로\n",
        "# None이 dummy, :는 그대로 넣어준다는 뜻\n",
        "a1, a2 = a[None, :], a.unsqueeze(dim=0) # dim=정수만가능\n",
        "print(a1.shape, a2.shape)\n",
        "\n",
        "# 앞은 그대로, 뒤는 더미축이라면 다르다\n",
        "# 축별로 :를 각각 넣어야 한다.\n",
        "# a[:, :, None]: 0번 축 그대로(2), 1번 축 그대로(2), 2번 축 더미(1)\n",
        "# 이때는 unsqueeze를 쓰는 게 더 편하다\n",
        "a3, a4 = a[:, :, None], a.unsqueeze(dim=-1)   # a[:, None] # 0축 :, 1축 None, 2번축 지정안함 -> 원래대로 그래서 (2, 1, 2) 가됨.\n",
        "print(a3.shape, a4.shape)\n",
        "\n",
        "# a5, a6 = a3[:,None,:,:, None],  a3.unsqueeze(dim=1)  # unsqueeze(): dim=정수만가능 (한번에 dummy축은 하나만 추가가능.)\n",
        "# print(a5.shape, a6.shape)"
      ]
    },
    {
      "cell_type": "markdown",
      "id": "9947b6ac",
      "metadata": {
        "id": "9947b6ac"
      },
      "source": [
        "## dummy 축 제거\n",
        "- squeeze(\\[dim=축번호\\]) 이용"
      ]
    },
    {
      "cell_type": "code",
      "execution_count": null,
      "id": "4e40b9cf",
      "metadata": {
        "id": "4e40b9cf",
        "colab": {
          "base_uri": "https://localhost:8080/"
        },
        "outputId": "ee5d3c63-eca9-4dff-ef85-640e56197681"
      },
      "outputs": [
        {
          "output_type": "stream",
          "name": "stdout",
          "text": [
            "torch.Size([3, 1, 4, 1, 5, 1])\n",
            "torch.Size([3, 4, 5])\n",
            "torch.Size([3, 4, 1, 5, 1])\n",
            "torch.Size([3, 4, 5, 1])\n"
          ]
        }
      ],
      "source": [
        "t = torch.rand(3, 1, 4, 1, 5, 1)\n",
        "print(t.shape)\n",
        "#print(t)\n",
        "\n",
        "r1 = t.squeeze()  #축을 명시 하지 않으면 모두 제거\n",
        "print(r1.shape)\n",
        "\n",
        "r2 = t.squeeze(dim=1) # 특정 axis 제거\n",
        "print(r2.shape)\n",
        "\n",
        "r3 = t.squeeze(dim=[1,3]) # 여러 axis의 dummy 축 제거\n",
        "print(r3.shape)"
      ]
    },
    {
      "cell_type": "markdown",
      "id": "b3018717",
      "metadata": {
        "id": "b3018717"
      },
      "source": [
        "# tensor 합치기\n",
        "torch.cat([tensorA, tensorB, ...], dim=0) : 기준축 default 는 0"
      ]
    },
    {
      "cell_type": "markdown",
      "source": [
        "합치려고 하는 기준축이 있으면 나머지 축은 size가 다 같아야 함"
      ],
      "metadata": {
        "id": "BDAgQYL_3qFH"
      },
      "id": "BDAgQYL_3qFH"
    },
    {
      "cell_type": "markdown",
      "source": [
        "(3, 4, 5, 6)과 (5, 4, 5, 6)을 0번 축 기준으로 합친다면 = (8, 4, 5, 6)\n",
        "\n",
        "나머지 축으로는 합칠 수 없다."
      ],
      "metadata": {
        "id": "IG2zfgNB353q"
      },
      "id": "IG2zfgNB353q"
    },
    {
      "cell_type": "code",
      "execution_count": null,
      "id": "7564c2b5",
      "metadata": {
        "id": "7564c2b5"
      },
      "outputs": [],
      "source": [
        "a = torch.arange(10).reshape(2,5)\n",
        "b = torch.arange(10,20).reshape(2,5)\n",
        "c = torch.arange(20,30).reshape(2,5)\n",
        "d = torch.arange(10,19).reshape(3,3) # 얘만 shape이 달라요"
      ]
    },
    {
      "cell_type": "markdown",
      "source": [
        "합칠 때는 cat() 함수를 쓰면 됩니다."
      ],
      "metadata": {
        "id": "NQ_QOL_G4TNH"
      },
      "id": "NQ_QOL_G4TNH"
    },
    {
      "cell_type": "code",
      "execution_count": null,
      "id": "a633d695",
      "metadata": {
        "collapsed": true,
        "jupyter": {
          "outputs_hidden": true
        },
        "id": "a633d695",
        "colab": {
          "base_uri": "https://localhost:8080/"
        },
        "outputId": "5b15456b-1c36-43d7-e483-15a1c2577c05"
      },
      "outputs": [
        {
          "output_type": "execute_result",
          "data": {
            "text/plain": [
              "tensor([[ 0,  1,  2,  3,  4],\n",
              "        [ 5,  6,  7,  8,  9],\n",
              "        [10, 11, 12, 13, 14],\n",
              "        [15, 16, 17, 18, 19]])"
            ]
          },
          "metadata": {},
          "execution_count": 63
        }
      ],
      "source": [
        "torch.cat([a, b], dim=0) # a와 b를 0번 축으로 합칠 것이다."
      ]
    },
    {
      "cell_type": "markdown",
      "source": [
        "(2, 5)와 (2, 5)를 0번 축 기준으로 합친다 => (2+2, 5)\n",
        "\n",
        "둘 다 1번 축이 5라서 가능한 것임."
      ],
      "metadata": {
        "id": "zrRGPR6n4dTt"
      },
      "id": "zrRGPR6n4dTt"
    },
    {
      "cell_type": "code",
      "execution_count": null,
      "id": "6ee08217",
      "metadata": {
        "collapsed": true,
        "jupyter": {
          "outputs_hidden": true
        },
        "id": "6ee08217",
        "colab": {
          "base_uri": "https://localhost:8080/"
        },
        "outputId": "e872f602-0633-42cb-e3eb-32b3b7da4d2f"
      },
      "outputs": [
        {
          "output_type": "execute_result",
          "data": {
            "text/plain": [
              "tensor([[ 0,  1,  2,  3,  4],\n",
              "        [ 5,  6,  7,  8,  9],\n",
              "        [10, 11, 12, 13, 14],\n",
              "        [15, 16, 17, 18, 19],\n",
              "        [20, 21, 22, 23, 24],\n",
              "        [25, 26, 27, 28, 29]])"
            ]
          },
          "metadata": {},
          "execution_count": 65
        }
      ],
      "source": [
        "torch.cat([a, b, c], dim=0) # 6 X 5"
      ]
    },
    {
      "cell_type": "code",
      "execution_count": null,
      "id": "edb2f33a",
      "metadata": {
        "id": "edb2f33a",
        "colab": {
          "base_uri": "https://localhost:8080/"
        },
        "outputId": "21e7d6f0-e088-4259-bf1f-9fbd083c2c8f"
      },
      "outputs": [
        {
          "output_type": "execute_result",
          "data": {
            "text/plain": [
              "tensor([[ 0,  1,  2,  3,  4, 10, 11, 12, 13, 14],\n",
              "        [ 5,  6,  7,  8,  9, 15, 16, 17, 18, 19]])"
            ]
          },
          "metadata": {},
          "execution_count": 66
        }
      ],
      "source": [
        "torch.cat([a, b], axis=1) # dim 대신 axis사용가능"
      ]
    },
    {
      "cell_type": "markdown",
      "source": [
        "numpy에서 axis를 쓰거든요.. 축이 0번이든 1번이든 상관없이 axis 써도 ㄱㅊ"
      ],
      "metadata": {
        "id": "9xmdbIBP4uct"
      },
      "id": "9xmdbIBP4uct"
    },
    {
      "cell_type": "code",
      "execution_count": null,
      "id": "25f7277a",
      "metadata": {
        "id": "25f7277a",
        "colab": {
          "base_uri": "https://localhost:8080/"
        },
        "outputId": "a2e70493-8926-4c9d-e5e0-00b0ab488c7c"
      },
      "outputs": [
        {
          "output_type": "execute_result",
          "data": {
            "text/plain": [
              "tensor([[ 0,  1,  2,  3,  4, 10, 11, 12, 13, 14, 20, 21, 22, 23, 24],\n",
              "        [ 5,  6,  7,  8,  9, 15, 16, 17, 18, 19, 25, 26, 27, 28, 29]])"
            ]
          },
          "metadata": {},
          "execution_count": 67
        }
      ],
      "source": [
        "torch.cat([a, b, c], axis=1)"
      ]
    },
    {
      "cell_type": "code",
      "execution_count": null,
      "id": "82477d9e",
      "metadata": {
        "id": "82477d9e",
        "colab": {
          "base_uri": "https://localhost:8080/"
        },
        "outputId": "7a013308-2a9c-418f-a14a-a4d459d1a50a"
      },
      "outputs": [
        {
          "output_type": "execute_result",
          "data": {
            "text/plain": [
              "tensor([[ 0,  1,  2,  3,  4, 10, 11, 12, 13, 14],\n",
              "        [ 5,  6,  7,  8,  9, 15, 16, 17, 18, 19]])"
            ]
          },
          "metadata": {},
          "execution_count": 68
        }
      ],
      "source": [
        "torch.cat([a, b], axis=-1)  # -1: 마지막 axis"
      ]
    },
    {
      "cell_type": "code",
      "execution_count": null,
      "id": "f441999c",
      "metadata": {
        "id": "f441999c",
        "colab": {
          "base_uri": "https://localhost:8080/"
        },
        "outputId": "72367b7b-4787-4e08-d0b3-e8da179d45dc"
      },
      "outputs": [
        {
          "output_type": "execute_result",
          "data": {
            "text/plain": [
              "(torch.Size([2, 5]), torch.Size([3, 3]))"
            ]
          },
          "metadata": {},
          "execution_count": 72
        }
      ],
      "source": [
        "a.shape, d.shape\n",
        "# 합치는 기준축 이외의 축 size는 같아야 한다.\n",
        "# torch.cat([a, d])  #dim=0, Error  1축 size가 달라서 Error\n",
        "# 0번 축을 붙이는 거니까 0번 축끼리는 달라도 괜찮은데, 1번 축은 같아야 함."
      ]
    },
    {
      "cell_type": "markdown",
      "id": "c1aaa81f",
      "metadata": {
        "id": "c1aaa81f"
      },
      "source": [
        "# 값의 위치(index) 변경\n",
        "- tensor 원소의 index의 위치를 바꾼다.\n",
        "- `tensor.transpose(axis1, axis2)`\n",
        "    - 두 축의 자리만 변경 할 수 있다.\n",
        "- `tensor.permute(axis1, axis2, axis3, ..)`\n",
        "    - 두 개 이상의 축 자리를 변경한다.\n",
        "\n",
        "- 넘파이에서는 transpose만 지원, tensor는 위 두 가지를 다 지원한다."
      ]
    },
    {
      "cell_type": "markdown",
      "source": [
        "reshape하고는 다르다. 값의 '위치' 자체를 바꾸는 것임."
      ],
      "metadata": {
        "id": "OsZCU96s-kYZ"
      },
      "id": "OsZCU96s-kYZ"
    },
    {
      "cell_type": "code",
      "execution_count": null,
      "id": "c621ab2d",
      "metadata": {
        "id": "c621ab2d",
        "colab": {
          "base_uri": "https://localhost:8080/"
        },
        "outputId": "8eff001d-ddbc-41b7-a838-35c49d1afd88"
      },
      "outputs": [
        {
          "output_type": "stream",
          "name": "stdout",
          "text": [
            "torch.Size([2, 3, 4])\n",
            "torch.Size([2, 4, 3])\n",
            "torch.Size([4, 2, 3])\n"
          ]
        }
      ],
      "source": [
        "X = torch.arange(24).reshape(2, 3, 4)\n",
        "print(X.shape)\n",
        "\n",
        "y = X.transpose(1, 2) # 1번 축과 2번 축을 바꿔라.\n",
        "print(y.shape)\n",
        "\n",
        "z = X.permute(2, 0, 1)\n",
        "print(z.shape)"
      ]
    },
    {
      "cell_type": "code",
      "source": [
        "X"
      ],
      "metadata": {
        "colab": {
          "base_uri": "https://localhost:8080/"
        },
        "id": "LO4TDUwY-r1h",
        "outputId": "3a7d0032-4284-454e-a945-98ccc6f229eb"
      },
      "id": "LO4TDUwY-r1h",
      "execution_count": null,
      "outputs": [
        {
          "output_type": "execute_result",
          "data": {
            "text/plain": [
              "tensor([[[ 0,  1,  2,  3],\n",
              "         [ 4,  5,  6,  7],\n",
              "         [ 8,  9, 10, 11]],\n",
              "\n",
              "        [[12, 13, 14, 15],\n",
              "         [16, 17, 18, 19],\n",
              "         [20, 21, 22, 23]]])"
            ]
          },
          "metadata": {},
          "execution_count": 75
        }
      ]
    },
    {
      "cell_type": "code",
      "source": [
        "y"
      ],
      "metadata": {
        "colab": {
          "base_uri": "https://localhost:8080/"
        },
        "id": "67XUj5wE-tp7",
        "outputId": "3d2fed91-b3a4-4f60-b3dc-050b2c9e957d"
      },
      "id": "67XUj5wE-tp7",
      "execution_count": null,
      "outputs": [
        {
          "output_type": "execute_result",
          "data": {
            "text/plain": [
              "tensor([[[ 0,  4,  8],\n",
              "         [ 1,  5,  9],\n",
              "         [ 2,  6, 10],\n",
              "         [ 3,  7, 11]],\n",
              "\n",
              "        [[12, 16, 20],\n",
              "         [13, 17, 21],\n",
              "         [14, 18, 22],\n",
              "         [15, 19, 23]]])"
            ]
          },
          "metadata": {},
          "execution_count": 76
        }
      ]
    },
    {
      "cell_type": "markdown",
      "source": [
        "X에서 21은 [1, 2, 1] 위치에 있었음\n",
        "\n",
        "그런데 y에서는 1번 축과 2번 축의 인덱스를 바꾼 거니까\n",
        "[1, 1, 2]가 된다.\n",
        "\n",
        "shape만 보는 게 아니라 값도 봐야 한다."
      ],
      "metadata": {
        "id": "D-3H3r7E-4Jf"
      },
      "id": "D-3H3r7E-4Jf"
    },
    {
      "cell_type": "markdown",
      "source": [
        "numpy에서는 transpose로 다 했다면, tensor는 transpose와 permute 둘 다 사용한다."
      ],
      "metadata": {
        "id": "Xp4Ws19u_fRK"
      },
      "id": "Xp4Ws19u_fRK"
    },
    {
      "cell_type": "markdown",
      "id": "2bfe8a88",
      "metadata": {
        "id": "2bfe8a88"
      },
      "source": [
        "# tensor 연산 및 주요 함수\n",
        "\n",
        "## element-wise 연산\n",
        "- tensor와 상수 연산시, tensor와 tensor간 연산시 원소별로 처리한다.\n",
        "- 행렬곱 연산을 제외하고 tensor간 연산시 피연산자 **tensor간에 shape이 같아야 한다.**\n",
        "    - shape이 다를 경우 조건이 맞으면 broadcasting을 한 뒤에 연산한다. (size가 다른 축의 경우 한개의 피연산자 size가 1일 경우 복사하여 shape을 맞춘다.)\n",
        "    "
      ]
    },
    {
      "cell_type": "markdown",
      "source": [
        "(3, 2)와 (2,)를 연산 -> broadcasting 연산: (3, 2)와 (1, 2) - 차원이 적은 쪽 앞에 더미 축을 추가한다."
      ],
      "metadata": {
        "id": "NIMe0XY6ADq9"
      },
      "id": "NIMe0XY6ADq9"
    },
    {
      "cell_type": "code",
      "execution_count": null,
      "id": "85d3d7a3",
      "metadata": {
        "id": "85d3d7a3",
        "colab": {
          "base_uri": "https://localhost:8080/"
        },
        "outputId": "9216bbc6-2d17-45be-92c6-4d6ed843d2b2"
      },
      "outputs": [
        {
          "output_type": "stream",
          "name": "stdout",
          "text": [
            "tensor([[0, 1, 2, 3, 4],\n",
            "        [5, 6, 7, 8, 9]])\n",
            "tensor([[10, 11, 12, 13, 14],\n",
            "        [15, 16, 17, 18, 19]])\n",
            "tensor([50, 51, 52, 53, 54])\n"
          ]
        }
      ],
      "source": [
        "import torch\n",
        "\n",
        "a = torch.arange(10).reshape(2,5)\n",
        "b = torch.arange(10,20).reshape(2,5)\n",
        "c = torch.arange(50, 55)\n",
        "\n",
        "print(a)\n",
        "print(b)\n",
        "print(c)"
      ]
    },
    {
      "cell_type": "markdown",
      "source": [
        "원소별로 연산한다~~"
      ],
      "metadata": {
        "id": "tk8FZLVqASS4"
      },
      "id": "tk8FZLVqASS4"
    },
    {
      "cell_type": "code",
      "execution_count": null,
      "id": "24f4f435",
      "metadata": {
        "id": "24f4f435",
        "colab": {
          "base_uri": "https://localhost:8080/"
        },
        "outputId": "ae4013cb-c6d6-4527-c83d-0c7c96c7f477"
      },
      "outputs": [
        {
          "output_type": "stream",
          "name": "stdout",
          "text": [
            "tensor([[100, 101, 102, 103, 104],\n",
            "        [105, 106, 107, 108, 109]])\n",
            "tensor([[-100,  -99,  -98,  -97,  -96],\n",
            "        [ -95,  -94,  -93,  -92,  -91]])\n",
            "tensor([[ True,  True,  True,  True,  True],\n",
            "        [False, False, False, False, False]])\n"
          ]
        }
      ],
      "source": [
        "print(a + 100)\n",
        "print(a - 100)\n",
        "print(a < 5)"
      ]
    },
    {
      "cell_type": "code",
      "execution_count": null,
      "id": "1a5ed369",
      "metadata": {
        "id": "1a5ed369",
        "colab": {
          "base_uri": "https://localhost:8080/"
        },
        "outputId": "47b4be62-5ddb-47a9-c8da-ac7a2338f036"
      },
      "outputs": [
        {
          "output_type": "stream",
          "name": "stdout",
          "text": [
            "tensor([[10, 12, 14, 16, 18],\n",
            "        [20, 22, 24, 26, 28]])\n",
            "tensor([[False, False, False, False, False],\n",
            "        [False, False, False, False, False]])\n"
          ]
        }
      ],
      "source": [
        "print(a + b)\n",
        "print(a == b)"
      ]
    },
    {
      "cell_type": "code",
      "execution_count": null,
      "id": "46ceb3e6-ecd2-41b0-b3c8-c2e87e05171f",
      "metadata": {
        "id": "46ceb3e6-ecd2-41b0-b3c8-c2e87e05171f",
        "colab": {
          "base_uri": "https://localhost:8080/"
        },
        "outputId": "4ab52e79-a152-411e-e312-1c23daf9fb6d"
      },
      "outputs": [
        {
          "output_type": "execute_result",
          "data": {
            "text/plain": [
              "(torch.Size([2, 5]), torch.Size([5]))"
            ]
          },
          "metadata": {},
          "execution_count": 81
        }
      ],
      "source": [
        "a.size(), c.size()"
      ]
    },
    {
      "cell_type": "code",
      "execution_count": null,
      "id": "15256a5e",
      "metadata": {
        "id": "15256a5e",
        "colab": {
          "base_uri": "https://localhost:8080/"
        },
        "outputId": "a71f73e1-0e4b-4147-a761-1bf69edd526d"
      },
      "outputs": [
        {
          "output_type": "stream",
          "name": "stdout",
          "text": [
            "tensor([[50, 52, 54, 56, 58],\n",
            "        [55, 57, 59, 61, 63]])\n"
          ]
        }
      ],
      "source": [
        "# broadcasting\n",
        "print(a + c)"
      ]
    },
    {
      "cell_type": "markdown",
      "source": [
        "(2, 5) + (5,) => (2, 5) + (1, 5)\n",
        "\n",
        "마치 상수를 더하듯이 처리해주겠다"
      ],
      "metadata": {
        "id": "dLkA9VP3AkBJ"
      },
      "id": "dLkA9VP3AkBJ"
    },
    {
      "cell_type": "markdown",
      "id": "729874b2",
      "metadata": {
        "id": "729874b2"
      },
      "source": [
        "## 주요 연산함수\n",
        "\n",
        "### 주요 상수\n",
        "#### 자연상수 E"
      ]
    },
    {
      "cell_type": "code",
      "execution_count": null,
      "id": "22a50df6",
      "metadata": {
        "id": "22a50df6",
        "colab": {
          "base_uri": "https://localhost:8080/"
        },
        "outputId": "706b7851-182d-4a02-b193-f6fd1a1b0c8f"
      },
      "outputs": [
        {
          "output_type": "execute_result",
          "data": {
            "text/plain": [
              "(2.718281828459045, 2.718281828459045, 3.141592653589793, 3.141592653589793)"
            ]
          },
          "metadata": {},
          "execution_count": 84
        }
      ],
      "source": [
        "torch.e, np.e, torch.pi, np.pi"
      ]
    },
    {
      "cell_type": "markdown",
      "id": "b81d7323",
      "metadata": {
        "id": "b81d7323"
      },
      "source": [
        "#### torch.nan, torch.inf\n",
        "- nan: Not a Number, 주로 결측치를 표현한다.\n",
        "- inf: infinit 무한.\n",
        "    - torch.inf: 양의 무한\n",
        "    - -torch.inf: 음의 무한\n",
        "- torch.isnan(tensor)\n",
        "    - 원소별 결측치 확인\n",
        "- torch.isinf(tensor)    \n",
        "    - 원소별 inf 확인"
      ]
    },
    {
      "cell_type": "code",
      "execution_count": null,
      "id": "7a91f59b",
      "metadata": {
        "id": "7a91f59b",
        "colab": {
          "base_uri": "https://localhost:8080/"
        },
        "outputId": "8b5c6c95-9327-44ec-e3b6-8cf60b707f81"
      },
      "outputs": [
        {
          "output_type": "stream",
          "name": "stdout",
          "text": [
            "True False\n",
            "True False\n"
          ]
        }
      ],
      "source": [
        "print(torch.inf > 10000000000000000, torch.inf < 10000000000)\n",
        "print(-torch.inf < -1000000000000000000000, -torch.inf > 10)\n"
      ]
    },
    {
      "cell_type": "code",
      "execution_count": null,
      "id": "f0f9cdda",
      "metadata": {
        "id": "f0f9cdda",
        "colab": {
          "base_uri": "https://localhost:8080/"
        },
        "outputId": "afd301c6-fa10-4b9d-ce4c-1fd756cbc1e8"
      },
      "outputs": [
        {
          "output_type": "stream",
          "name": "stdout",
          "text": [
            "tensor(nan)\n",
            "tensor([False, False,  True, False, False])\n",
            "tensor([False, False, False, False,  True])\n"
          ]
        }
      ],
      "source": [
        "print(torch.log(torch.tensor(-1))) # nan (계산결과가 없으므로-없는값-nan 반환)\n",
        "print(torch.isnan(torch.tensor([1,2,torch.nan,3,4])))  # nan 여부 확인\n",
        "print(torch.isinf(torch.tensor([1,2,3,4,torch.inf])))  # inf 여부 확인"
      ]
    },
    {
      "cell_type": "markdown",
      "source": [
        "e의 몇 제곱을 해야 -1이 되느냐 -> 계산 불가. nan"
      ],
      "metadata": {
        "id": "9M160V_HB0Q5"
      },
      "id": "9M160V_HB0Q5"
    },
    {
      "cell_type": "markdown",
      "id": "86fdcb35",
      "metadata": {
        "id": "86fdcb35"
      },
      "source": [
        "## 주요 연산 함수"
      ]
    },
    {
      "cell_type": "markdown",
      "source": [
        "원소별로 계산한다. (element-wise 계산)\n",
        "\n",
        "아래는 전부 3x3 형태로 나온다~!"
      ],
      "metadata": {
        "id": "Ve4--Tb5CXLt"
      },
      "id": "Ve4--Tb5CXLt"
    },
    {
      "cell_type": "code",
      "execution_count": null,
      "id": "6fc6ac19",
      "metadata": {
        "collapsed": true,
        "jupyter": {
          "outputs_hidden": true
        },
        "scrolled": true,
        "id": "6fc6ac19",
        "colab": {
          "base_uri": "https://localhost:8080/"
        },
        "outputId": "dfaf1723-125b-4677-99c6-7f3b134570f8"
      },
      "outputs": [
        {
          "output_type": "stream",
          "name": "stdout",
          "text": [
            "tensor([[-4, -3, -2],\n",
            "        [-1,  0,  1],\n",
            "        [ 2,  3,  4]])\n",
            "tensor([[4, 3, 2],\n",
            "        [1, 0, 1],\n",
            "        [2, 3, 4]])\n",
            "tensor([[2.0000, 1.7321, 1.4142],\n",
            "        [1.0000, 0.0000, 1.0000],\n",
            "        [1.4142, 1.7321, 2.0000]])\n",
            "tensor([[1.8316e-02, 4.9787e-02, 1.3534e-01],\n",
            "        [3.6788e-01, 1.0000e+00, 2.7183e+00],\n",
            "        [7.3891e+00, 2.0086e+01, 5.4598e+01]])\n",
            "tensor([[1.3863, 1.0986, 0.6931],\n",
            "        [0.0000,   -inf, 0.0000],\n",
            "        [0.6931, 1.0986, 1.3863]])\n",
            "tensor(1.)\n",
            "tensor(1.)\n",
            "tensor(1.)\n"
          ]
        }
      ],
      "source": [
        "x=torch.arange(-4, 5).reshape(3,3)\n",
        "print(x)\n",
        "print(torch.abs(x)) # 절대값\n",
        "print(torch.sqrt(torch.abs(x))) #  제곱근\n",
        "print(torch.exp(x))  # torch.e**x\n",
        "print(torch.log(torch.abs(x))) # log에 음수 들어가면 안 되니까 절댓값 취해서 넣어준다.\n",
        "print(torch.log(torch.exp(torch.tensor(1))))  # torch.log() 밑이 e인 로그계산\n",
        "print(torch.log10(torch.tensor(10)))         # torch.log10() 밑이 10인 로그계산\n",
        "print(torch.log2(torch.tensor(2)))           # torch.log2() 밑이 2인 로그계산"
      ]
    },
    {
      "cell_type": "code",
      "execution_count": null,
      "id": "026192bd",
      "metadata": {
        "collapsed": true,
        "jupyter": {
          "outputs_hidden": true
        },
        "scrolled": true,
        "id": "026192bd",
        "colab": {
          "base_uri": "https://localhost:8080/"
        },
        "outputId": "19a401a3-815d-4514-ee73-f82c180a976e"
      },
      "outputs": [
        {
          "output_type": "stream",
          "name": "stdout",
          "text": [
            "tensor([[-3.5758, -3.0718, -1.3374],\n",
            "        [-2.6256,  0.5567,  1.2187],\n",
            "        [ 0.7943,  2.4605,  3.0070]])\n",
            "tensor([[-4., -3., -1.],\n",
            "        [-3.,  1.,  1.],\n",
            "        [ 1.,  2.,  3.]])\n",
            "tensor([[-3.5800, -3.0700, -1.3400],\n",
            "        [-2.6300,  0.5600,  1.2200],\n",
            "        [ 0.7900,  2.4600,  3.0100]])\n",
            "tensor([[-4., -4., -2.],\n",
            "        [-3.,  0.,  1.],\n",
            "        [ 0.,  2.,  3.]])\n",
            "tensor([[-3., -3., -1.],\n",
            "        [-2.,  1.,  2.],\n",
            "        [ 1.,  3.,  4.]])\n"
          ]
        }
      ],
      "source": [
        "y = x + torch.randn((3,3))\n",
        "print(y)\n",
        "print(torch.round(y)) # 반올림\n",
        "print(torch.round(y, decimals=2)) # 소수점 둘째자리 이하에서 반올림\n",
        "print(torch.floor(y)) # 내림\n",
        "print(torch.ceil(y)) # 올림"
      ]
    },
    {
      "cell_type": "code",
      "source": [
        "# 필기를 꼼꼼히 본 프린세스만 볼 수 있는 코드\n",
        "# 오늘 점심 오봉집 먹을 거야 히힛!"
      ],
      "metadata": {
        "id": "fmvUlfPcCytk"
      },
      "id": "fmvUlfPcCytk",
      "execution_count": null,
      "outputs": []
    },
    {
      "cell_type": "markdown",
      "source": [
        "decimal을 양수로 주면 소수점 쪽으로 내려가고, 음수로 주면 정수 쪽으로 올라간다."
      ],
      "metadata": {
        "id": "PqKBX_vBCmmi"
      },
      "id": "PqKBX_vBCmmi"
    },
    {
      "cell_type": "markdown",
      "id": "358832d4",
      "metadata": {
        "id": "358832d4"
      },
      "source": [
        "### 행렬곱\n",
        "- `@` 연산자 또는 `torch.matmul(tensor1, tensor2)` 함수 이용 (matrix multiply)"
      ]
    },
    {
      "cell_type": "code",
      "execution_count": null,
      "id": "ac6cfff6",
      "metadata": {
        "id": "ac6cfff6"
      },
      "outputs": [],
      "source": [
        "import torch"
      ]
    },
    {
      "cell_type": "code",
      "execution_count": null,
      "id": "eb349ca8",
      "metadata": {
        "id": "eb349ca8",
        "colab": {
          "base_uri": "https://localhost:8080/"
        },
        "outputId": "4c70dd53-aa6b-4d4c-ea17-daa20317a777"
      },
      "outputs": [
        {
          "output_type": "execute_result",
          "data": {
            "text/plain": [
              "(torch.Size([3, 2]), torch.Size([2, 2]))"
            ]
          },
          "metadata": {},
          "execution_count": 94
        }
      ],
      "source": [
        "x = torch.FloatTensor([[1, 2],[3, 4],[5, 6]])\n",
        "\n",
        "y = torch.FloatTensor([[1, 2],[1, 2],])\n",
        "x.size(), y.shape"
      ]
    },
    {
      "cell_type": "markdown",
      "source": [
        "x의 열 2 = y의 행 2 => 행렬 곱 연산이 가능하다."
      ],
      "metadata": {
        "id": "ys8Wq3exDWyX"
      },
      "id": "ys8Wq3exDWyX"
    },
    {
      "cell_type": "code",
      "source": [
        "x"
      ],
      "metadata": {
        "colab": {
          "base_uri": "https://localhost:8080/"
        },
        "id": "9_oPZRtSDMCg",
        "outputId": "549ded08-fdbe-4fe9-9310-18d9ed6c51ff"
      },
      "id": "9_oPZRtSDMCg",
      "execution_count": null,
      "outputs": [
        {
          "output_type": "execute_result",
          "data": {
            "text/plain": [
              "tensor([[1., 2.],\n",
              "        [3., 4.],\n",
              "        [5., 6.]])"
            ]
          },
          "metadata": {},
          "execution_count": 99
        }
      ]
    },
    {
      "cell_type": "code",
      "source": [
        "y"
      ],
      "metadata": {
        "colab": {
          "base_uri": "https://localhost:8080/"
        },
        "id": "Y8GnuqsLDPIa",
        "outputId": "1fc177dc-a9c2-4e56-dcfd-05edbe9c745a"
      },
      "id": "Y8GnuqsLDPIa",
      "execution_count": null,
      "outputs": [
        {
          "output_type": "execute_result",
          "data": {
            "text/plain": [
              "tensor([[1., 2.],\n",
              "        [1., 2.]])"
            ]
          },
          "metadata": {},
          "execution_count": 100
        }
      ]
    },
    {
      "cell_type": "markdown",
      "source": [
        "z1, z2 연산 결과는 동일하다."
      ],
      "metadata": {
        "id": "kloPff8BDckm"
      },
      "id": "kloPff8BDckm"
    },
    {
      "cell_type": "code",
      "execution_count": null,
      "id": "4283adae",
      "metadata": {
        "id": "4283adae",
        "colab": {
          "base_uri": "https://localhost:8080/"
        },
        "outputId": "7b93f816-d837-4115-e802-a9ccb5d86766"
      },
      "outputs": [
        {
          "output_type": "stream",
          "name": "stdout",
          "text": [
            "torch.Size([3, 2]) torch.Size([3, 2])\n",
            "tensor([[ 3.,  6.],\n",
            "        [ 7., 14.],\n",
            "        [11., 22.]])\n",
            "tensor([[ 3.,  6.],\n",
            "        [ 7., 14.],\n",
            "        [11., 22.]])\n"
          ]
        }
      ],
      "source": [
        "z1 = x @ y\n",
        "z2 = torch.matmul(x, y)\n",
        "print(z1.shape, z2.shape)\n",
        "print(z1)\n",
        "print(z2)"
      ]
    },
    {
      "cell_type": "code",
      "execution_count": null,
      "id": "004d5f21",
      "metadata": {
        "id": "004d5f21",
        "colab": {
          "base_uri": "https://localhost:8080/"
        },
        "outputId": "3a15cc5b-4d1b-490f-cd2c-1479370163b7"
      },
      "outputs": [
        {
          "output_type": "execute_result",
          "data": {
            "text/plain": [
              "torch.Size([3, 4, 5])"
            ]
          },
          "metadata": {},
          "execution_count": 103
        }
      ],
      "source": [
        "# Batch 행렬곱(Batch matrix muliplication) - bmm()\n",
        "# 피연산자로 두개의 3차원 tensor를 axis (1, 2)를 기준으로 행렬곱을 처리한다.\n",
        "import torch\n",
        "x = torch.FloatTensor(3,4,2) # 4 x 2 짜리가 3개씩 있다\n",
        "y = torch.FloatTensor(3,2,5) # 2 x 5 짜리가 3개씩 있다\n",
        "# 4x2, 2x5는 연산 가능 => element-wise 연산\n",
        "z = torch.bmm(x, y)\n",
        "z.shape\n",
        "# 결과적으로 4x5짜리가 3개가 나온다."
      ]
    },
    {
      "cell_type": "markdown",
      "id": "2214bd73",
      "metadata": {
        "id": "2214bd73"
      },
      "source": [
        "## 기술통계함수"
      ]
    },
    {
      "cell_type": "code",
      "execution_count": null,
      "id": "11a0d448",
      "metadata": {
        "id": "11a0d448",
        "colab": {
          "base_uri": "https://localhost:8080/"
        },
        "outputId": "01cbc170-79b7-4146-9c30-c46f7ca3b3c0"
      },
      "outputs": [
        {
          "output_type": "stream",
          "name": "stdout",
          "text": [
            "tensor([[ 0.7609,  1.1464,  1.1595, -1.2916],\n",
            "        [-0.2028,  0.5914, -0.6485, -0.5638],\n",
            "        [ 0.5058, -1.2843,  0.5818,  0.7728]])\n"
          ]
        }
      ],
      "source": [
        "X=torch.randn(3,4)\n",
        "print(X)"
      ]
    },
    {
      "cell_type": "code",
      "execution_count": null,
      "id": "7b696371",
      "metadata": {
        "collapsed": true,
        "jupyter": {
          "outputs_hidden": true
        },
        "id": "7b696371",
        "colab": {
          "base_uri": "https://localhost:8080/"
        },
        "outputId": "2448d884-7900-426f-e012-407a0a9b769c"
      },
      "outputs": [
        {
          "output_type": "stream",
          "name": "stdout",
          "text": [
            "tensor(1.5277)\n",
            "tensor([ 1.7752, -0.8237,  0.5761])\n",
            "tensor([[ 1.7752],\n",
            "        [-0.8237],\n",
            "        [ 0.5761]])\n"
          ]
        }
      ],
      "source": [
        "print(torch.sum(X))  # default: 전체기준으로 계산. dim=None\n",
        "print(torch.sum(X, dim=1)) #dim/axis 지정: 지정한 axis의 index가 다른 값끼리 계산.\n",
        "print(torch.sum(X, dim=1, keepdims=True)) # 기술통계함수들을 실행하면 차원이 줄어든다. keepdims=True로 하면 차원유지"
      ]
    },
    {
      "cell_type": "code",
      "execution_count": null,
      "id": "99c06f26",
      "metadata": {
        "id": "99c06f26",
        "colab": {
          "base_uri": "https://localhost:8080/"
        },
        "outputId": "9e4fbb06-c1da-4ea3-cc91-288e4facfbf8"
      },
      "outputs": [
        {
          "output_type": "stream",
          "name": "stdout",
          "text": [
            "tensor(0.1273)\n",
            "tensor([ 0.3546,  0.1512,  0.3643, -0.3609])\n",
            "tensor([[ 0.3546,  0.1512,  0.3643, -0.3609]])\n"
          ]
        }
      ],
      "source": [
        "print(torch.mean(X))\n",
        "print(torch.mean(X, dim=0))\n",
        "print(torch.mean(X, dim=0, keepdims=True)) # 2차원으로"
      ]
    },
    {
      "cell_type": "code",
      "execution_count": null,
      "id": "db8d8f1e",
      "metadata": {
        "id": "db8d8f1e",
        "colab": {
          "base_uri": "https://localhost:8080/"
        },
        "outputId": "c6834bab-9ab0-4b48-b845-665d23d13f0b"
      },
      "outputs": [
        {
          "output_type": "stream",
          "name": "stdout",
          "text": [
            "tensor(0.8884)\n",
            "tensor(0.7892)\n",
            "tensor([0.2493, 1.6225, 0.8527, 1.0964])\n"
          ]
        }
      ],
      "source": [
        "print(torch.std(X)) # standard deviation 표준 편차\n",
        "print(torch.var(X)) # variance\n",
        "print(torch.var(X, dim=0))"
      ]
    },
    {
      "cell_type": "code",
      "execution_count": null,
      "id": "51ecc064",
      "metadata": {
        "id": "51ecc064",
        "colab": {
          "base_uri": "https://localhost:8080/"
        },
        "outputId": "25655970-f295-4e86-c351-25ad555470e7"
      },
      "outputs": [
        {
          "output_type": "stream",
          "name": "stdout",
          "text": [
            "tensor([[ 1.7752],\n",
            "        [-0.8237],\n",
            "        [ 0.5761]])\n",
            "tensor([[ 0.4438],\n",
            "        [-0.2059],\n",
            "        [ 0.1440]])\n",
            "tensor(0.8884)\n"
          ]
        }
      ],
      "source": [
        "# tensor.메소드()\n",
        "print(X.sum(dim=1, keepdims=True))\n",
        "print(X.mean(dim=1, keepdims=True))\n",
        "print(X.std())"
      ]
    },
    {
      "cell_type": "code",
      "execution_count": null,
      "id": "f72865f1-80e6-4433-a366-02449bc493df",
      "metadata": {
        "id": "f72865f1-80e6-4433-a366-02449bc493df",
        "colab": {
          "base_uri": "https://localhost:8080/"
        },
        "outputId": "1fb0debb-eb36-4f46-9e1b-57e0357bf05e"
      },
      "outputs": [
        {
          "output_type": "execute_result",
          "data": {
            "text/plain": [
              "tensor([[ 0.7609,  1.1464,  1.1595, -1.2916],\n",
              "        [-0.2028,  0.5914, -0.6485, -0.5638],\n",
              "        [ 0.5058, -1.2843,  0.5818,  0.7728]])"
            ]
          },
          "metadata": {},
          "execution_count": 110
        }
      ],
      "source": [
        "X"
      ]
    },
    {
      "cell_type": "markdown",
      "source": [
        "dim=0: 맨 안 쪽 (열)\n",
        "dim=1: 그 바깥쪽 (행)"
      ],
      "metadata": {
        "id": "Tx2OGKXgFzW3"
      },
      "id": "Tx2OGKXgFzW3"
    },
    {
      "cell_type": "code",
      "execution_count": null,
      "id": "afe123ff",
      "metadata": {
        "id": "afe123ff",
        "colab": {
          "base_uri": "https://localhost:8080/"
        },
        "outputId": "358a865a-a307-4294-a84a-f245919977f6"
      },
      "outputs": [
        {
          "output_type": "stream",
          "name": "stdout",
          "text": [
            "tensor(1.1595)\n",
            "torch.return_types.max(\n",
            "values=tensor([0.7609, 1.1464, 1.1595, 0.7728]),\n",
            "indices=tensor([0, 0, 0, 2]))\n",
            "torch.return_types.max(\n",
            "values=tensor([1.1595, 0.5914, 0.7728]),\n",
            "indices=tensor([2, 1, 3]))\n",
            "tensor([1.1595, 0.5914, 0.7728]) || tensor([2, 1, 3])\n"
          ]
        }
      ],
      "source": [
        "print(torch.max(X)) # dim을 지정하지 않으면 전체 기준 max값 계산.\n",
        "print(torch.max(X, dim=0))  # 축을 지정하면 return_types.max 타입객체로 반환. max값과 max값의 index를 묶어서 반환\n",
        "print(torch.max(X, dim=1))\n",
        "print(torch.max(X, dim=1).values, torch.max(X, dim=1).indices, sep=\" || \") # 값과 인덱스 각각 추출\n",
        "\n",
        "\n",
        "# print(torch.max(X, dim=0, keepdims=True))  #keepdims=True : 차원(rank)를 유지\n",
        "# print(torch.max(X, dim=1, keepdims=True))"
      ]
    },
    {
      "cell_type": "code",
      "execution_count": null,
      "id": "234df8b9",
      "metadata": {
        "id": "234df8b9",
        "colab": {
          "base_uri": "https://localhost:8080/"
        },
        "outputId": "c5eda0b0-700d-4329-9231-f5eaef3addca"
      },
      "outputs": [
        {
          "output_type": "stream",
          "name": "stdout",
          "text": [
            "tensor(-1.2916)\n",
            "torch.return_types.min(\n",
            "values=tensor([-0.2028, -1.2843, -0.6485, -1.2916]),\n",
            "indices=tensor([1, 2, 1, 0]))\n"
          ]
        }
      ],
      "source": [
        "print(torch.min(X))\n",
        "print(torch.min(X, dim=0)) # return_types.min 타입객체로 반환. min값과 min값의 index를 묶어서 반환\n",
        "# print(torch.min(X, dim=1))"
      ]
    },
    {
      "cell_type": "code",
      "execution_count": null,
      "id": "33c01aed",
      "metadata": {
        "id": "33c01aed",
        "colab": {
          "base_uri": "https://localhost:8080/"
        },
        "outputId": "934f5cc6-1d3b-4c62-c22b-f20081611842"
      },
      "outputs": [
        {
          "output_type": "stream",
          "name": "stdout",
          "text": [
            "tensor(2)\n",
            "tensor([0, 0, 0, 2])\n",
            "tensor([2, 1, 3])\n"
          ]
        }
      ],
      "source": [
        "print(torch.argmax(X)) # 전체 중 가장 큰 값의 index -> flatten(1차원으로변환)한 뒤 index를 반환. # 1.1595\n",
        "print(torch.argmax(X, dim=0)) # 각 열에서 가장 큰 애가 존재하는 인덱스\n",
        "print(torch.argmax(X, dim=1)) # 각 행에서 가장 큰 애가 존재하는 인덱스"
      ]
    },
    {
      "cell_type": "code",
      "execution_count": null,
      "id": "642696a3-bfe3-41f5-a4fc-397075454e2d",
      "metadata": {
        "id": "642696a3-bfe3-41f5-a4fc-397075454e2d",
        "colab": {
          "base_uri": "https://localhost:8080/"
        },
        "outputId": "9a43c758-7e69-4388-c40c-2f333e63f0c4"
      },
      "outputs": [
        {
          "output_type": "stream",
          "name": "stdout",
          "text": [
            "tensor([0.7609, 1.1464, 1.1595, 0.7728])\n",
            "tensor([0, 0, 0, 2])\n"
          ]
        }
      ],
      "source": [
        "a = torch.max(X, dim=0)\n",
        "print(a.values)\n",
        "print(a.indices)"
      ]
    },
    {
      "cell_type": "markdown",
      "id": "a02bf59a",
      "metadata": {
        "id": "a02bf59a"
      },
      "source": [
        "# autograd(자동미분) ⭐\n",
        "- 자동 미분을 이용해 gradient(미분계수)를 계산하는 pytorch system.\n",
        "- 딥러닝 모델에서 weight와 bias tensor들(Parameter)은 backpropagation(역전파)를 이용해 gradient를 구해서 loss가 줄어드는 방향으로 update를 하게된다.\n",
        "- pytorch는 이런 미분 수행을 자동으로 처리해 준다.\n",
        "    - gradient(기울기)를 구한다는 것은 미분을 한다는 것을 말한다.\n",
        "- tensor가 미분 가능하려면(gradient 계산 대상 변수) `requires_grad=True` 로 설정되 있어야 한다. (default: False)\n",
        "\n",
        "> - **미분**\n",
        ">   -  (순간) 변화율을 계산한다.\n",
        ">   - $$\\frac{\\partial y}{\\partial x}$$\n",
        ">       - x에 대한 y의 변화율. 즉 x가 변하면 y는 얼마나 변할까?"
      ]
    },
    {
      "cell_type": "code",
      "execution_count": null,
      "id": "4148abde",
      "metadata": {
        "id": "4148abde"
      },
      "outputs": [],
      "source": [
        "import torch"
      ]
    },
    {
      "cell_type": "code",
      "execution_count": null,
      "id": "636c340f",
      "metadata": {
        "id": "636c340f",
        "colab": {
          "base_uri": "https://localhost:8080/"
        },
        "outputId": "aae7ad41-90b9-4825-9a2f-9bda55557a3d"
      },
      "outputs": [
        {
          "output_type": "stream",
          "name": "stdout",
          "text": [
            "False\n"
          ]
        }
      ],
      "source": [
        "x = torch.tensor([1, 0])\n",
        "print(x.requires_grad) # x가 gradient를 구해야 하는 애야? (False)"
      ]
    },
    {
      "cell_type": "markdown",
      "source": [
        "x 텐서 안에 있는 거: data, r_grad, grad"
      ],
      "metadata": {
        "id": "hI_NbWhaevuf"
      },
      "id": "hI_NbWhaevuf"
    },
    {
      "cell_type": "code",
      "execution_count": null,
      "id": "80eed801",
      "metadata": {
        "id": "80eed801",
        "colab": {
          "base_uri": "https://localhost:8080/"
        },
        "outputId": "50ba1086-a16e-44b3-b5fc-1d01097589cc"
      },
      "outputs": [
        {
          "output_type": "stream",
          "name": "stdout",
          "text": [
            "True\n"
          ]
        }
      ],
      "source": [
        "# Gradient를 계산할 대상인지 여부\n",
        "## True: x를 이용한 계산을 할 때 gradient 함수(도함수)를 정의해서 저장한다.\n",
        "x = torch.tensor([1.0], requires_grad=True)\n",
        "print(x.requires_grad) # x가 gradient를 구해야 하는 애야? (False)\n",
        "# x.requires_grad = True # 속성이라서 나중에 바꿀 수 있어요."
      ]
    },
    {
      "cell_type": "code",
      "execution_count": null,
      "id": "f754482a",
      "metadata": {
        "id": "f754482a",
        "colab": {
          "base_uri": "https://localhost:8080/"
        },
        "outputId": "18497422-9158-4d0e-bbe0-4a0cf8f05620"
      },
      "outputs": [
        {
          "output_type": "stream",
          "name": "stdout",
          "text": [
            "tensor([1.])\n",
            "None\n"
          ]
        }
      ],
      "source": [
        "# Tensor의 속성\n",
        "## data - Tensor가 가지는 값들을 저장하는 변수(속성)\n",
        "print(x.data) # tensor([1.])\n",
        "## grad - Gradient 값을 저장하는 변수(속성)\n",
        "print(x.grad)"
      ]
    },
    {
      "cell_type": "code",
      "execution_count": null,
      "id": "eeda5aa3",
      "metadata": {
        "id": "eeda5aa3",
        "colab": {
          "base_uri": "https://localhost:8080/"
        },
        "outputId": "1a0b3914-1009-4933-dbed-bc448b88f97f"
      },
      "outputs": [
        {
          "output_type": "execute_result",
          "data": {
            "text/plain": [
              "tensor([1.], grad_fn=<PowBackward0>)"
            ]
          },
          "metadata": {},
          "execution_count": 29
        }
      ],
      "source": [
        "y = x**2\n",
        "y # tensor([1.], grad_fn=<PowBackward0>)\n",
        "# 도함수를 생성해 y에 저장"
      ]
    },
    {
      "cell_type": "code",
      "execution_count": null,
      "id": "d2d6db62-c2ba-46ca-a869-fe7ed47c3fe4",
      "metadata": {
        "id": "d2d6db62-c2ba-46ca-a869-fe7ed47c3fe4",
        "colab": {
          "base_uri": "https://localhost:8080/"
        },
        "outputId": "1ca0fe37-20ea-414d-9f2e-1efaa2df8373"
      },
      "outputs": [
        {
          "output_type": "execute_result",
          "data": {
            "text/plain": [
              "<PowBackward0 at 0x7af3b87036d0>"
            ]
          },
          "metadata": {},
          "execution_count": 30
        }
      ],
      "source": [
        "y.grad_fn # gradient 게산함수(도함수)가 저장된 변수(속성)\n",
        "# dy/dx (x(requires_grad=True)에 대한 y의 변화율)을 저장한 것임."
      ]
    },
    {
      "cell_type": "markdown",
      "source": [
        "y = x ** 2이니까\n",
        "\n",
        "y.grad_fn = 2 * x가 저장된 것임"
      ],
      "metadata": {
        "id": "eiQCMWfkdapG"
      },
      "id": "eiQCMWfkdapG"
    },
    {
      "cell_type": "code",
      "source": [
        "# gradient 계산\n",
        "y.backward()\n",
        "## dy/dx(x의 변화에 대한 y의 변화율)을 계산해 그 결과를 x.grad에 저장한다."
      ],
      "metadata": {
        "id": "-nQX3Ti9dkrP"
      },
      "id": "-nQX3Ti9dkrP",
      "execution_count": null,
      "outputs": []
    },
    {
      "cell_type": "code",
      "source": [
        "x.grad"
      ],
      "metadata": {
        "colab": {
          "base_uri": "https://localhost:8080/"
        },
        "id": "w34KFtxQdyOM",
        "outputId": "e1d8d49b-b332-4027-c985-01f6842da10e"
      },
      "id": "w34KFtxQdyOM",
      "execution_count": null,
      "outputs": [
        {
          "output_type": "execute_result",
          "data": {
            "text/plain": [
              "tensor([2.])"
            ]
          },
          "metadata": {},
          "execution_count": 32
        }
      ]
    },
    {
      "cell_type": "code",
      "source": [
        "x.data, x.grad, y.grad_fn\n",
        "# (tensor([1.]), tensor([2.]), <PowBackward0 at 0x7af3b87036d0>)"
      ],
      "metadata": {
        "colab": {
          "base_uri": "https://localhost:8080/"
        },
        "id": "Af3kYaeFfUB-",
        "outputId": "19a639cd-85a6-4b35-8df7-39d75f8640c0"
      },
      "id": "Af3kYaeFfUB-",
      "execution_count": null,
      "outputs": [
        {
          "output_type": "execute_result",
          "data": {
            "text/plain": [
              "(tensor([1.]), tensor([2.]), <PowBackward0 at 0x7af3b87036d0>)"
            ]
          },
          "metadata": {},
          "execution_count": 35
        }
      ]
    },
    {
      "cell_type": "markdown",
      "source": [
        "data 1.0을 y_grad(2\\*x)를 통해 계산 -> 2 * 1.0 = 2.0 -> 이 값을 **x.grad**에 넣음"
      ],
      "metadata": {
        "id": "zhUdM2ioe3Rx"
      },
      "id": "zhUdM2ioe3Rx"
    },
    {
      "cell_type": "code",
      "source": [
        "a = torch.tensor([2.0], requires_grad=True)\n",
        "b = torch.tensor([3.0])\n",
        "c = a**2 + b**3 # grad_fn 생성\n",
        "c.backward() # gradient를 계산한다."
      ],
      "metadata": {
        "id": "GLOnQPwffiZ2"
      },
      "id": "GLOnQPwffiZ2",
      "execution_count": null,
      "outputs": []
    },
    {
      "cell_type": "markdown",
      "source": [
        "c는 a에 대해서만 gradient를 계산한다. a만 requires_grad = True이기 때문이다."
      ],
      "metadata": {
        "id": "irHShdo4f2QD"
      },
      "id": "irHShdo4f2QD"
    },
    {
      "cell_type": "code",
      "source": [
        "c.grad_fn, a.data, a.grad\n",
        "# (<AddBackward0 at 0x7af39f597c70>, tensor([2.]), tensor([4.]))"
      ],
      "metadata": {
        "colab": {
          "base_uri": "https://localhost:8080/"
        },
        "id": "ASBwc445f1A-",
        "outputId": "29172972-a34e-4cc1-e9e2-14a1fbee1b7b"
      },
      "id": "ASBwc445f1A-",
      "execution_count": null,
      "outputs": [
        {
          "output_type": "execute_result",
          "data": {
            "text/plain": [
              "(<AddBackward0 at 0x7af39f597c70>, tensor([2.]), tensor([4.]))"
            ]
          },
          "metadata": {},
          "execution_count": 40
        }
      ]
    },
    {
      "cell_type": "code",
      "source": [
        "b.grad # None -> 아무것도 안 나옴\n",
        "print(b.grad)"
      ],
      "metadata": {
        "colab": {
          "base_uri": "https://localhost:8080/"
        },
        "id": "jzlkn4irgVKr",
        "outputId": "27ee1129-3604-43a4-e764-427cb216dd8c"
      },
      "id": "jzlkn4irgVKr",
      "execution_count": null,
      "outputs": [
        {
          "output_type": "stream",
          "name": "stdout",
          "text": [
            "None\n"
          ]
        }
      ]
    },
    {
      "cell_type": "code",
      "source": [
        "a = torch.tensor([2.0], requires_grad=True)\n",
        "b = torch.tensor([3.0], requires_grad=True)\n",
        "c = a**2 + b**3 # grad_fn 생성\n",
        "c.backward() # gradient를 계산한다."
      ],
      "metadata": {
        "id": "3NryMAnWgdK0"
      },
      "id": "3NryMAnWgdK0",
      "execution_count": null,
      "outputs": []
    },
    {
      "cell_type": "code",
      "source": [
        "c.grad_fn, a.data, a.grad\n",
        "# (<AddBackward0 at 0x7af39f597c70>, tensor([2.]), tensor([4.]))"
      ],
      "metadata": {
        "colab": {
          "base_uri": "https://localhost:8080/"
        },
        "id": "kBz_wLNpgiNV",
        "outputId": "c73adf74-17e9-42d8-e2bf-1044575c0018"
      },
      "id": "kBz_wLNpgiNV",
      "execution_count": null,
      "outputs": [
        {
          "output_type": "execute_result",
          "data": {
            "text/plain": [
              "(<AddBackward0 at 0x7af39f4cefe0>, tensor([2.]), tensor([4.]))"
            ]
          },
          "metadata": {},
          "execution_count": 46
        }
      ]
    },
    {
      "cell_type": "code",
      "source": [
        "c.grad_fn, b.data, b.grad\n",
        "# (<AddBackward0 at 0x7af39f597c70>, tensor([3.]), tensor([27.]))\n",
        "# 도함수는 3 * b^2 => 3 * 3^2 = 27"
      ],
      "metadata": {
        "colab": {
          "base_uri": "https://localhost:8080/"
        },
        "id": "iAHxv1GQgiGy",
        "outputId": "aa4f79e8-ebb6-4612-e239-7cb618491b68"
      },
      "id": "iAHxv1GQgiGy",
      "execution_count": null,
      "outputs": [
        {
          "output_type": "execute_result",
          "data": {
            "text/plain": [
              "(<AddBackward0 at 0x7af39f4cefe0>, tensor([3.]), tensor([27.]))"
            ]
          },
          "metadata": {},
          "execution_count": 49
        }
      ]
    },
    {
      "cell_type": "code",
      "source": [],
      "metadata": {
        "id": "NyoOJFcwqLgQ"
      },
      "id": "NyoOJFcwqLgQ",
      "execution_count": null,
      "outputs": []
    },
    {
      "cell_type": "code",
      "source": [
        "# 간단한 경사하강법 구현\n",
        "input_data = torch.tensor([30.2]) # x\n",
        "output_data = torch.tensor([10.5]) # y\n",
        "\n",
        "weight = torch.tensor([0.2], requires_grad=True) # parameter\n",
        "y_pred = weight * input_data # 모델 예측값\n",
        "\n",
        "loss = (output_data - y_pred)**2 # 오차계산. MSE (여기서는 데이터가 하나밖에 없음)"
      ],
      "metadata": {
        "id": "to-rTLfUg09i"
      },
      "id": "to-rTLfUg09i",
      "execution_count": null,
      "outputs": []
    },
    {
      "cell_type": "code",
      "source": [
        "loss # 19.8916"
      ],
      "metadata": {
        "colab": {
          "base_uri": "https://localhost:8080/"
        },
        "id": "pcgefiShhkBa",
        "outputId": "58676e2c-8804-42ab-fa15-392e1933e51d"
      },
      "id": "pcgefiShhkBa",
      "execution_count": null,
      "outputs": [
        {
          "output_type": "execute_result",
          "data": {
            "text/plain": [
              "tensor([19.8916], grad_fn=<PowBackward0>)"
            ]
          },
          "metadata": {},
          "execution_count": 72
        }
      ]
    },
    {
      "cell_type": "code",
      "source": [
        "y_pred # 6.0400"
      ],
      "metadata": {
        "colab": {
          "base_uri": "https://localhost:8080/"
        },
        "id": "TboKqh9HhoMb",
        "outputId": "9bbe3785-4bd9-4cce-c9c0-aaf174b78c0c"
      },
      "id": "TboKqh9HhoMb",
      "execution_count": null,
      "outputs": [
        {
          "output_type": "execute_result",
          "data": {
            "text/plain": [
              "tensor([6.0400], grad_fn=<MulBackward0>)"
            ]
          },
          "metadata": {},
          "execution_count": 73
        }
      ]
    },
    {
      "cell_type": "code",
      "source": [
        "y_pred.grad_fn, loss.grad_fn"
      ],
      "metadata": {
        "colab": {
          "base_uri": "https://localhost:8080/"
        },
        "id": "UMKfsbc4huZg",
        "outputId": "3ecf01df-dbba-481f-8a79-de9b23f017c0"
      },
      "id": "UMKfsbc4huZg",
      "execution_count": null,
      "outputs": [
        {
          "output_type": "execute_result",
          "data": {
            "text/plain": [
              "(<MulBackward0 at 0x7af39f2c2e60>, <PowBackward0 at 0x7af39f2c1450>)"
            ]
          },
          "metadata": {},
          "execution_count": 74
        }
      ]
    },
    {
      "cell_type": "markdown",
      "source": [
        "1. weight: requires_grad = True\n",
        "\n",
        "2. y_pred도 r_grad = True가 된다.\n",
        "\n",
        "3. loss도 r_grad = True가 된다.\n",
        "\n",
        "loss <- y_pred <- weight"
      ],
      "metadata": {
        "id": "kEQM7IPmh8lQ"
      },
      "id": "kEQM7IPmh8lQ"
    },
    {
      "cell_type": "markdown",
      "source": [
        "우리는 마지막 최종 함수에만 backward()를 걸어주면 된다 => `loss.backward()`"
      ],
      "metadata": {
        "id": "OsrzJa8kp-7d"
      },
      "id": "OsrzJa8kp-7d"
    },
    {
      "cell_type": "code",
      "source": [
        "loss.backward()"
      ],
      "metadata": {
        "id": "aJZLtDlNiexq"
      },
      "id": "aJZLtDlNiexq",
      "execution_count": null,
      "outputs": []
    },
    {
      "cell_type": "code",
      "source": [
        "weight.grad"
      ],
      "metadata": {
        "colab": {
          "base_uri": "https://localhost:8080/"
        },
        "id": "70J7YWYwiho4",
        "outputId": "60987d11-154c-46ab-b59d-249d70253799"
      },
      "id": "70J7YWYwiho4",
      "execution_count": null,
      "outputs": [
        {
          "output_type": "execute_result",
          "data": {
            "text/plain": [
              "tensor([-269.3840])"
            ]
          },
          "metadata": {},
          "execution_count": 76
        }
      ]
    },
    {
      "cell_type": "code",
      "source": [
        "new_weight = weight.data - weight.grad * 0.0001\n",
        "# weight.data: 현재 weight\n",
        "# weight.grad: 계산한 거\n",
        "# 0.0001: 학습률\n",
        "new_weight"
      ],
      "metadata": {
        "colab": {
          "base_uri": "https://localhost:8080/"
        },
        "id": "gPM6m83GilUx",
        "outputId": "dce262b7-e0a1-476b-b6bd-7b79b8d33d3c"
      },
      "id": "gPM6m83GilUx",
      "execution_count": null,
      "outputs": [
        {
          "output_type": "execute_result",
          "data": {
            "text/plain": [
              "tensor([0.2269])"
            ]
          },
          "metadata": {},
          "execution_count": 77
        }
      ]
    },
    {
      "cell_type": "markdown",
      "source": [
        "chain rule\n",
        "\n",
        "dL/dw = dL/dy * dy/dw"
      ],
      "metadata": {
        "id": "dpErny-Ho8Ua"
      },
      "id": "dpErny-Ho8Ua"
    },
    {
      "cell_type": "markdown",
      "id": "a304c280",
      "metadata": {
        "id": "a304c280"
      },
      "source": [
        "## torch.no_grad()\n",
        "- no_grad()를 with 구문에서 연산을 할 경우 with block 내에서 requires_grad=True로 설정된 변수를 이용한 계산식이 있더라도 grad_fn을 생성하지 않는다. 즉 gradient를 계산하지 않는다.\n",
        "- 딥러닝 모델을 평가 하거나 추론을할 때는 gradient를 계산할 필요가 없기 때문에 no_grad 구문을 사용한다.\n"
      ]
    },
    {
      "cell_type": "code",
      "execution_count": null,
      "id": "9de65a7d",
      "metadata": {
        "id": "9de65a7d",
        "colab": {
          "base_uri": "https://localhost:8080/"
        },
        "outputId": "d4bafd0e-4f10-4cb5-beee-d8989a9b85c6"
      },
      "outputs": [
        {
          "output_type": "stream",
          "name": "stdout",
          "text": [
            "결과: tensor([1.])\n",
            "grad_fn: <PowBackward0 object at 0x7af39f5953c0>\n"
          ]
        }
      ],
      "source": [
        "x = torch.tensor([1.0], requires_grad=True)\n",
        "y = x**2\n",
        "print(\"결과:\", y.data)\n",
        "print(\"grad_fn:\", y.grad_fn)"
      ]
    },
    {
      "cell_type": "code",
      "execution_count": null,
      "id": "1bfa3986",
      "metadata": {
        "id": "1bfa3986",
        "colab": {
          "base_uri": "https://localhost:8080/"
        },
        "outputId": "eb77fe7f-59e3-4535-f2fb-53b2d15036e6"
      },
      "outputs": [
        {
          "output_type": "stream",
          "name": "stdout",
          "text": [
            "결과: tensor([1.])\n",
            "grad_fn: None\n"
          ]
        }
      ],
      "source": [
        "with torch.no_grad():\n",
        "  y = x**2\n",
        "  print(\"결과:\", y.data)\n",
        "  print(\"grad_fn:\", y.grad_fn) # r_grad=False가 되면서 grad_fn이 None이 된다."
      ]
    },
    {
      "cell_type": "markdown",
      "source": [
        "예제~"
      ],
      "metadata": {
        "id": "mO_ryj_As5N4"
      },
      "id": "mO_ryj_As5N4"
    },
    {
      "cell_type": "code",
      "execution_count": null,
      "id": "2e04d635",
      "metadata": {
        "id": "2e04d635",
        "colab": {
          "base_uri": "https://localhost:8080/"
        },
        "outputId": "54fc3c81-1ec7-4c79-db12-92c2ec0a663e"
      },
      "outputs": [
        {
          "output_type": "stream",
          "name": "stdout",
          "text": [
            "None\n",
            "tensor([2.])\n"
          ]
        }
      ],
      "source": [
        "x = torch.tensor([1.0], requires_grad=True)\n",
        "print(x.grad)\n",
        "y = x**2\n",
        "y.backward()\n",
        "print(x.grad)"
      ]
    },
    {
      "cell_type": "code",
      "execution_count": null,
      "id": "59bea7a3",
      "metadata": {
        "id": "59bea7a3"
      },
      "outputs": [],
      "source": [
        "# x를 이용한 새로운 계산\\\n",
        "x.grad = None # 초기화\n",
        "# GRAD 값을 초기화 하지 않으면 이전 계산된 grad 값이 남아있게 된다.\n",
        "# 그리고 새로운 grad 값을 구하게 되면 기존 값에 더한다.\n",
        "# 이 경우 2.0 + 3.0 + 3.0 = 8.0\n",
        "z = x ** 3\n",
        "z.backward() # 3 * x^2"
      ]
    },
    {
      "cell_type": "code",
      "source": [
        "print(x.grad)"
      ],
      "metadata": {
        "colab": {
          "base_uri": "https://localhost:8080/"
        },
        "id": "yyW9OR5Ctm-5",
        "outputId": "e303cc36-a409-40d8-e0c4-c53706d62de9"
      },
      "id": "yyW9OR5Ctm-5",
      "execution_count": null,
      "outputs": [
        {
          "output_type": "stream",
          "name": "stdout",
          "text": [
            "tensor([3.])\n"
          ]
        }
      ]
    },
    {
      "cell_type": "markdown",
      "source": [
        "gradient를 계속 누적 시킨다. 2.0 + 3.0 (계산값) + 2.0 + 3.0 + 3.0"
      ],
      "metadata": {
        "id": "Fb-xRS9ouDJ_"
      },
      "id": "Fb-xRS9ouDJ_"
    },
    {
      "cell_type": "markdown",
      "id": "b3811c4b",
      "metadata": {
        "id": "b3811c4b"
      },
      "source": [
        "## gradient 값 초기화\n",
        "- backward() 에서 계산되어 저장된 gradient값을 초기화한다.\n",
        "- 반복 학습을 할 경우 gradient가 누적되는 문제가 발생한다. 그래서 한번 학습이 끝나면 다음 학습 전에 초기화하는 작업을 해야 한다."
      ]
    },
    {
      "cell_type": "code",
      "execution_count": null,
      "id": "60622e6b",
      "metadata": {
        "id": "60622e6b"
      },
      "outputs": [],
      "source": []
    },
    {
      "cell_type": "code",
      "execution_count": null,
      "id": "5d55ff89",
      "metadata": {
        "id": "5d55ff89"
      },
      "outputs": [],
      "source": []
    },
    {
      "cell_type": "code",
      "execution_count": null,
      "id": "60daa5fe",
      "metadata": {
        "id": "60daa5fe"
      },
      "outputs": [],
      "source": []
    }
  ],
  "metadata": {
    "kernelspec": {
      "display_name": "Python 3",
      "name": "python3"
    },
    "language_info": {
      "codemirror_mode": {
        "name": "ipython",
        "version": 3
      },
      "file_extension": ".py",
      "mimetype": "text/x-python",
      "name": "python",
      "nbconvert_exporter": "python",
      "pygments_lexer": "ipython3",
      "version": "3.12.7"
    },
    "toc": {
      "base_numbering": 1,
      "nav_menu": {},
      "number_sections": true,
      "sideBar": true,
      "skip_h1_title": false,
      "title_cell": "Table of Contents",
      "title_sidebar": "Contents",
      "toc_cell": false,
      "toc_position": {},
      "toc_section_display": true,
      "toc_window_display": false
    },
    "varInspector": {
      "cols": {
        "lenName": 16,
        "lenType": 16,
        "lenVar": 40
      },
      "kernels_config": {
        "python": {
          "delete_cmd_postfix": "",
          "delete_cmd_prefix": "del ",
          "library": "var_list.py",
          "varRefreshCmd": "print(var_dic_list())"
        },
        "r": {
          "delete_cmd_postfix": ") ",
          "delete_cmd_prefix": "rm(",
          "library": "var_list.r",
          "varRefreshCmd": "cat(var_dic_list()) "
        }
      },
      "types_to_exclude": [
        "module",
        "function",
        "builtin_function_or_method",
        "instance",
        "_Feature"
      ],
      "window_display": false
    },
    "colab": {
      "provenance": [],
      "include_colab_link": true
    }
  },
  "nbformat": 4,
  "nbformat_minor": 5
}