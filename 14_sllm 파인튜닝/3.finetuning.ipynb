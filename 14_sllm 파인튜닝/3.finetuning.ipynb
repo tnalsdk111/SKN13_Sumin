{
 "cells": [
  {
   "cell_type": "markdown",
   "id": "2591659b-83e1-45d7-b166-2c85a2f74367",
   "metadata": {},
   "source": [
    "##  필요한 패키지 설치"
   ]
  },
  {
   "cell_type": "code",
   "execution_count": 1,
   "id": "a1f59b7f",
   "metadata": {},
   "outputs": [
    {
     "name": "stdout",
     "output_type": "stream",
     "text": [
      "\u001b[33mWARNING: Running pip as the 'root' user can result in broken permissions and conflicting behaviour with the system package manager, possibly rendering your system unusable. It is recommended to use a virtual environment instead: https://pip.pypa.io/warnings/venv. Use the --root-user-action option if you know what you are doing and want to suppress this warning.\u001b[0m\u001b[33m\n",
      "\u001b[0m\n",
      "\u001b[1m[\u001b[0m\u001b[34;49mnotice\u001b[0m\u001b[1;39;49m]\u001b[0m\u001b[39;49m A new release of pip is available: \u001b[0m\u001b[31;49m25.0.1\u001b[0m\u001b[39;49m -> \u001b[0m\u001b[32;49m25.1.1\u001b[0m\n",
      "\u001b[1m[\u001b[0m\u001b[34;49mnotice\u001b[0m\u001b[1;39;49m]\u001b[0m\u001b[39;49m To update, run: \u001b[0m\u001b[32;49mpython -m pip install --upgrade pip\u001b[0m\n",
      "Note: you may need to restart the kernel to use updated packages.\n"
     ]
    }
   ],
   "source": [
    "%pip install transformers datasets accelerate trl peft langchain python-dotenv -qU"
   ]
  },
  {
   "cell_type": "markdown",
   "id": "1226ced1",
   "metadata": {},
   "source": [
    "# Dataset Loading"
   ]
  },
  {
   "cell_type": "code",
   "execution_count": 2,
   "id": "79eb0bd5-8cee-41df-8385-758601e8051c",
   "metadata": {},
   "outputs": [
    {
     "name": "stdout",
     "output_type": "stream",
     "text": [
      "True\n"
     ]
    }
   ],
   "source": [
    "import os\n",
    "from huggingface_hub import login\n",
    "from dotenv import load_dotenv\n",
    "\n",
    "print(load_dotenv(\"env\"))\n",
    "\n",
    "login(os.getenv('HUGGINGFACE_API_KEY'))"
   ]
  },
  {
   "cell_type": "code",
   "execution_count": 3,
   "id": "ef323ce1-aeb4-446d-a331-6468e83d42c2",
   "metadata": {},
   "outputs": [
    {
     "data": {
      "application/vnd.jupyter.widget-view+json": {
       "model_id": "9f008b9c3995412eb047fd509f4dcd71",
       "version_major": 2,
       "version_minor": 0
      },
      "text/plain": [
       "README.md:   0%|          | 0.00/615 [00:00<?, ?B/s]"
      ]
     },
     "metadata": {},
     "output_type": "display_data"
    },
    {
     "data": {
      "application/vnd.jupyter.widget-view+json": {
       "model_id": "3b65da435cbb4581ace49b0568415476",
       "version_major": 2,
       "version_minor": 0
      },
      "text/plain": [
       "train-00000-of-00001.parquet:   0%|          | 0.00/203k [00:00<?, ?B/s]"
      ]
     },
     "metadata": {},
     "output_type": "display_data"
    },
    {
     "data": {
      "application/vnd.jupyter.widget-view+json": {
       "model_id": "7e132d1093834977a0d278b8f9844b5f",
       "version_major": 2,
       "version_minor": 0
      },
      "text/plain": [
       "test-00000-of-00001.parquet:   0%|          | 0.00/40.8k [00:00<?, ?B/s]"
      ]
     },
     "metadata": {},
     "output_type": "display_data"
    },
    {
     "data": {
      "application/vnd.jupyter.widget-view+json": {
       "model_id": "39f63ec72e0247549ae0fb60d06de4bb",
       "version_major": 2,
       "version_minor": 0
      },
      "text/plain": [
       "Generating train split:   0%|          | 0/90 [00:00<?, ? examples/s]"
      ]
     },
     "metadata": {},
     "output_type": "display_data"
    },
    {
     "data": {
      "application/vnd.jupyter.widget-view+json": {
       "model_id": "ddbe8b999279435e8db244708c7f2af3",
       "version_major": 2,
       "version_minor": 0
      },
      "text/plain": [
       "Generating test split:   0%|          | 0/10 [00:00<?, ? examples/s]"
      ]
     },
     "metadata": {},
     "output_type": "display_data"
    }
   ],
   "source": [
    "from datasets import load_dataset\n",
    "\n",
    "# data_id = \"kgmyh/naver_economy_news_stock_instruct_dataset\"\n",
    "data_id = \"kgmyh/naver_economy_news_stock_instruct_dataset-100\"\n",
    "dataset = load_dataset(data_id)\n",
    "\n",
    "train_set = dataset['train']\n",
    "test_set = dataset['test']"
   ]
  },
  {
   "cell_type": "markdown",
   "id": "d8e70e3c",
   "metadata": {},
   "source": [
    "# sLLM Model Load\n",
    "\n",
    "## Base Model Load\n",
    "- 한국어를 충분히 학습한 모델을 선택한다.\n",
    "\n",
    "- kakao의 kanana 모델을 base 모델로 파인튜닝을 진행한다.\n",
    "  - https://tech.kakao.com/posts/660\n",
    "  - https://github.com/kakao/kanana\n",
    "  - 2.1b 모델을 open source로 공개함. \n"
   ]
  },
  {
   "cell_type": "code",
   "execution_count": 4,
   "id": "212cd2a7-ac0b-4c8c-8926-c1d5d80f2171",
   "metadata": {},
   "outputs": [
    {
     "data": {
      "application/vnd.jupyter.widget-view+json": {
       "model_id": "b9b6d633c19248cca208c001783fe195",
       "version_major": 2,
       "version_minor": 0
      },
      "text/plain": [
       "config.json:   0%|          | 0.00/715 [00:00<?, ?B/s]"
      ]
     },
     "metadata": {},
     "output_type": "display_data"
    },
    {
     "data": {
      "application/vnd.jupyter.widget-view+json": {
       "model_id": "5cd94c80666c435b802a820c81c48271",
       "version_major": 2,
       "version_minor": 0
      },
      "text/plain": [
       "model.safetensors:   0%|          | 0.00/4.63G [00:00<?, ?B/s]"
      ]
     },
     "metadata": {},
     "output_type": "display_data"
    },
    {
     "data": {
      "application/vnd.jupyter.widget-view+json": {
       "model_id": "03db210dda2d486eb08107808be0259f",
       "version_major": 2,
       "version_minor": 0
      },
      "text/plain": [
       "generation_config.json:   0%|          | 0.00/147 [00:00<?, ?B/s]"
      ]
     },
     "metadata": {},
     "output_type": "display_data"
    },
    {
     "data": {
      "application/vnd.jupyter.widget-view+json": {
       "model_id": "e8ae448088ff496b82c10626fa56ba5d",
       "version_major": 2,
       "version_minor": 0
      },
      "text/plain": [
       "tokenizer_config.json:   0%|          | 0.00/66.2k [00:00<?, ?B/s]"
      ]
     },
     "metadata": {},
     "output_type": "display_data"
    },
    {
     "data": {
      "application/vnd.jupyter.widget-view+json": {
       "model_id": "1f5628a67cff4ae7bdd1c1ee0b4cd33a",
       "version_major": 2,
       "version_minor": 0
      },
      "text/plain": [
       "tokenizer.json:   0%|          | 0.00/17.2M [00:00<?, ?B/s]"
      ]
     },
     "metadata": {},
     "output_type": "display_data"
    },
    {
     "data": {
      "application/vnd.jupyter.widget-view+json": {
       "model_id": "05b1505c57204164a61b3746e8364789",
       "version_major": 2,
       "version_minor": 0
      },
      "text/plain": [
       "special_tokens_map.json:   0%|          | 0.00/444 [00:00<?, ?B/s]"
      ]
     },
     "metadata": {},
     "output_type": "display_data"
    }
   ],
   "source": [
    "import torch\n",
    "from transformers import AutoModelForCausalLM, AutoTokenizer\n",
    "\n",
    "\n",
    "model_id = \"kakaocorp/kanana-1.5-2.1b-instruct-2505\" # JSON 포멧은 잘 지켜서 나오는데 회사나 이런게 없는 회사가 나오고 한다.\n",
    "\n",
    "model = AutoModelForCausalLM.from_pretrained(\n",
    "    model_id,\n",
    "    device_map=\"auto\",\n",
    "    torch_dtype=torch.bfloat16,\n",
    "    attn_implementation=\"eager\" \n",
    ")\n",
    "\n",
    "tokenizer = AutoTokenizer.from_pretrained(model_id)"
   ]
  },
  {
   "cell_type": "markdown",
   "id": "515577ed",
   "metadata": {},
   "source": [
    "### 사용해보기"
   ]
  },
  {
   "cell_type": "code",
   "execution_count": 5,
   "id": "8d1fa57b-c012-4220-9259-b33d760b148d",
   "metadata": {},
   "outputs": [
    {
     "name": "stdout",
     "output_type": "stream",
     "text": [
      "<|begin_of_text|><|start_header_id|>system<|end_header_id|>\n",
      "\n",
      "\n",
      "<|eot_id|><|start_header_id|>system<|end_header_id|>\n",
      "\n",
      "당신은 인공지능 날씨 예보관입니다.<|eot_id|><|start_header_id|>user<|end_header_id|>\n",
      "\n",
      "오늘 서울 날씨 어때요? 모르면 모른다고 답하세요.<|eot_id|><|start_header_id|>assistant<|end_header_id|>\n",
      "\n",
      "\n"
     ]
    }
   ],
   "source": [
    "####################################################################################################################################################\n",
    "#  입력 프롬프트 생성\n",
    "#\n",
    "#  - kanana, Llama 동일한 프롬프트 형식 (자세한 형식은 아래 있다.)\n",
    "#    - Instruction 모델이 학습할 때 사용한 prompt 형식에 맞춰 입력데이터를 변환을 해야 한다.\n",
    "#  - `apply_chat_template`: 입력 형태 기본: {\"role\":\"역할\", \"content\":\"content\"}  이 형식으로 입력을 하면 모델의 입력형식으로 변환해 주는 메소드.\n",
    "####################################################################################################################################################\n",
    "# content = \"오늘 서울 날씨 어때요?\"\n",
    "content = \"오늘 서울 날씨 어때요? 모르면 모른다고 답하세요.\"\n",
    "message = [  \n",
    "        {\"role\": \"system\", \"content\": \"당신은 인공지능 날씨 예보관입니다.\"},\n",
    "        {\"role\": \"user\", \"content\": content},\n",
    "]\n",
    "prompt = tokenizer.apply_chat_template(\n",
    "    message,\n",
    "    tokenize=False,            # 토큰 id로 반환할 지 여부 (여기서는 텍스트 확인을 위해 False)\n",
    "    add_generation_prompt=True # 마지막에 assistant  role에 대한 역할 식별자를 붙일 지 여부. (마지막에 `답변:` 이렇게 넣는 것과 같다.)\n",
    ")\n",
    "print(prompt)\n"
   ]
  },
  {
   "cell_type": "code",
   "execution_count": 28,
   "id": "f16771bd-15b7-469e-8afb-d696be4b47fd",
   "metadata": {},
   "outputs": [],
   "source": [
    "# tokenizer.chat_template # jinja2"
   ]
  },
  {
   "cell_type": "code",
   "execution_count": 6,
   "id": "6966af9c",
   "metadata": {},
   "outputs": [
    {
     "name": "stdout",
     "output_type": "stream",
     "text": [
      "{'input_ids': tensor([[128000, 128000, 128006,   9125, 128007,   1432, 128009, 128006,   9125,\n",
      "         128007,    271,  65895,  83628,  34804,  59777, 103896,  67119, 105605,\n",
      "         107497,  96717,  42771, 101106,  80052,     13, 128009, 128006,    882,\n",
      "         128007,    271,  58368, 105622, 106010, 105605, 107497, 101139, 106745,\n",
      "          36811,     30, 117215,  33390,  55170,  84065, 105954, 108386,  92245,\n",
      "             13, 128009, 128006,  78191, 128007,    271]], device='cuda:0'), 'attention_mask': tensor([[1, 1, 1, 1, 1, 1, 1, 1, 1, 1, 1, 1, 1, 1, 1, 1, 1, 1, 1, 1, 1, 1, 1, 1,\n",
      "         1, 1, 1, 1, 1, 1, 1, 1, 1, 1, 1, 1, 1, 1, 1, 1, 1, 1, 1, 1, 1, 1, 1, 1,\n",
      "         1, 1, 1]], device='cuda:0')}\n"
     ]
    }
   ],
   "source": [
    "########################\n",
    "# 토큰화\n",
    "########################\n",
    "\n",
    "inputs = tokenizer(prompt, return_tensors=\"pt\").to(model.device)\n",
    "print(inputs)"
   ]
  },
  {
   "cell_type": "code",
   "execution_count": 7,
   "id": "9fd07ff0-f8b9-4b73-b73d-db28c9a2c8b4",
   "metadata": {},
   "outputs": [
    {
     "data": {
      "text/plain": [
       "dict_keys(['input_ids', 'attention_mask'])"
      ]
     },
     "execution_count": 7,
     "metadata": {},
     "output_type": "execute_result"
    }
   ],
   "source": [
    "inputs.keys() \n",
    "# ['input_ids' : text를 token_id로 변환한 값들\n",
    "#, 'attention_mask': text와 padding을 구분하는 값. 1: text, 0: 패딩]"
   ]
  },
  {
   "cell_type": "code",
   "execution_count": 8,
   "id": "25256f7a-8401-4b24-ba07-e96d753340f3",
   "metadata": {},
   "outputs": [],
   "source": [
    "################### \n",
    "# 생성\n",
    "###################\n",
    "\n",
    "import torch\n",
    "with torch.no_grad():\n",
    "    output = model.generate(\n",
    "        **inputs,\n",
    "        max_new_tokens=100,  # 답변 토큰 수 제한\n",
    "        do_sample=True,      # 확률 분포에 따라 다음 토큰을 무작위로 선택(True - top-k, temperature와 같이 쓰인다.), False: 가장 높은 확률의 토큰만 선택\n",
    "        top_p=0.95,          # 뉴클리어스(nucleus) 샘플링의 누적 확률 임계값 - 다음에 올 확률 순으로 토큰들 정렬 → 누적 → 0.95(지정한값) 도달 시점까지 상위토큰만 남긴다. ->  집합에서 샘플링. 낮으면(예: 0.5) 창의성↓, 너무 높으면(1.0) 창의성↑\n",
    "        temperature=0.8,     # 토큰의 다양성을 지정. 낮을수록(0에 가까울수록) 높은 확률의 토큰을 더욱 선택. 낮으면(예: 0.5) 창의성↓, 너무 높으면(1.0) 창의성↑\n",
    "        pad_token_id=tokenizer.eos_token_id,  # 패딩 토큰 ID. 대다수 LLM은 별도의 pad_token이 없이 eos_token(end of sequence token)으로 대신함\n",
    "    )"
   ]
  },
  {
   "cell_type": "code",
   "execution_count": 9,
   "id": "42b83e1c-c5bb-497d-9063-8873e1aba0ac",
   "metadata": {},
   "outputs": [
    {
     "data": {
      "text/plain": [
       "tensor([[128000, 128000, 128006,   9125, 128007,   1432, 128009, 128006,   9125,\n",
       "         128007,    271,  65895,  83628,  34804,  59777, 103896,  67119, 105605,\n",
       "         107497,  96717,  42771, 101106,  80052,     13, 128009, 128006,    882,\n",
       "         128007,    271,  58368, 105622, 106010, 105605, 107497, 101139, 106745,\n",
       "          36811,     30, 117215,  33390,  55170,  84065, 105954, 108386,  92245,\n",
       "             13, 128009, 128006,  78191, 128007,    271,  58368, 105622, 106010,\n",
       "          21028, 105605, 107497,  18918, 116023, 124365, 115284,     13, 111530,\n",
       "         106010,  34804,  62060,  50643,  17835,  34085,    239,  34804,  55000,\n",
       "         105622, 116100, 116443,  82068, 103386, 112722,    119,  24486,  55216,\n",
       "         102837,  18359,  64432, 109816, 103924,     13, 120889, 102772,    220,\n",
       "            868,     93,    508,  49085, 111297,  21028,  55216, 102837,  13094,\n",
       "         124208, 113191, 111590,  96717,  57002,  65219, 101203,     11, 101412,\n",
       "          42529, 113624,  22035, 113729,  49085,  49085,  64432, 102233,  29833,\n",
       "         102611,  80052,     13,  50467,  73653,     11,  39623,  45780,  75309,\n",
       "         102772, 105131,  63375,  13094,  59877,  64254,  13094, 104519,    120,\n",
       "         109745, 101228,  61415, 109957, 104350,  96451,  33931,  49085,  36439,\n",
       "         118081,     11, 103807,  71023,  45618, 119884, 111132]],\n",
       "       device='cuda:0')"
      ]
     },
     "execution_count": 9,
     "metadata": {},
     "output_type": "execute_result"
    }
   ],
   "source": [
    "output"
   ]
  },
  {
   "cell_type": "code",
   "execution_count": 10,
   "id": "8e33bf3f-83b0-4e8f-83f7-5c23a367dbf9",
   "metadata": {},
   "outputs": [
    {
     "name": "stdout",
     "output_type": "stream",
     "text": [
      "<|begin_of_text|><|begin_of_text|><|start_header_id|>system<|end_header_id|>\n",
      "\n",
      "\n",
      "<|eot_id|><|start_header_id|>system<|end_header_id|>\n",
      "\n",
      "당신은 인공지능 날씨 예보관입니다.<|eot_id|><|start_header_id|>user<|end_header_id|>\n",
      "\n",
      "오늘 서울 날씨 어때요? 모르면 모른다고 답하세요.<|eot_id|><|start_header_id|>assistant<|end_header_id|>\n",
      "\n",
      "오늘 서울의 날씨를 알려드리겠습니다. 현재 서울은 대체로 맑은 하늘 아래 비교적 따뜻한 기온을 보이고 있습니다. 낮에는 15~20도 정도의 기온이 유지될 것으로 예상되며, 미세먼지 농도도 보통 수준입니다. 다만, 오후에는 간간이 구름이 끼거나 소나기가 올 가능성도 있으니, 외출 시 참고하시\n"
     ]
    }
   ],
   "source": [
    "print(tokenizer.decode(output[0]))"
   ]
  },
  {
   "cell_type": "code",
   "execution_count": 34,
   "id": "5d1b3d25-c663-497a-9586-f548030fb64c",
   "metadata": {},
   "outputs": [
    {
     "data": {
      "text/plain": [
       "torch.Size([1, 51])"
      ]
     },
     "execution_count": 34,
     "metadata": {},
     "output_type": "execute_result"
    }
   ],
   "source": [
    "inputs[\"input_ids\"].shape  # 입력 token크기\n",
    "# 답변[입력토큰 크기:]"
   ]
  },
  {
   "cell_type": "code",
   "execution_count": 11,
   "id": "3e14dd02",
   "metadata": {},
   "outputs": [
    {
     "name": "stdout",
     "output_type": "stream",
     "text": [
      "오늘 서울의 날씨를 알려드리겠습니다. 현재 서울은 대체로 맑은 하늘 아래 비교적 따뜻한 기온을 보이고 있습니다. 낮에는 15~20도 정도의 기온이 유지될 것으로 예상되며, 미세먼지 농도도 보통 수준입니다. 다만, 오후에는 간간이 구름이 끼거나 소나기가 올 가능성도 있으니, 외출 시 참고하시\n"
     ]
    }
   ],
   "source": [
    "response = tokenizer.decode(output[0][inputs[\"input_ids\"].shape[-1]:], skip_special_tokens=True)\n",
    "print(response)"
   ]
  },
  {
   "cell_type": "markdown",
   "id": "f2375848",
   "metadata": {},
   "source": [
    "# 학습 전에 추론 시켜 성능 확인"
   ]
  },
  {
   "cell_type": "markdown",
   "id": "c8c6f0af",
   "metadata": {},
   "source": [
    "### 추론용 프롬프트 만들기"
   ]
  },
  {
   "cell_type": "code",
   "execution_count": 12,
   "id": "ddc3fccc",
   "metadata": {},
   "outputs": [],
   "source": [
    "######################################\n",
    "#  System 프롬프트\n",
    "######################################\n",
    "\n",
    "system_prompt = '''# Instruction\n",
    "당신은 금융 뉴스의 핵심 내용을 요약해 설명하고, 뉴스가 특정 상장 종목에 미치는 긍정/부정 영향 여부, 이유, 근거 등을 분석하는 금융 분석 전문가입니다.\n",
    "사용자에 의해 입력된 뉴스 기사를 분석해서 **한국에 상장된 주식 종목에 영향을 주는지 판단**하고, Output Indicator에 제시된 기준에 따라 구조화된 JSON 형식으로 결과를 출력하세요.\n",
    "\n",
    "## 분석 기준\n",
    "1. 뉴스가 **한국 주식 종목에 영향을 주는지 판단**하세요.\n",
    "2. 영향을 준다면 다음 항목을 출력하세요.\n",
    "   - `\"is_stock_related\": true`\n",
    "   - 뉴스에 **긍정적** 영향을 받는 **회사이름들**\n",
    "   - 뉴스에 **부정적** 영향을 받는 **회사이름들**\n",
    "   - 뉴스가 각 회사에 **긍정적 또는 부정적 영향을 주는지 이유**\n",
    "     - 반드시 **뉴스기사에 언급된 내용 기반으로 작성한다.** 뉴스기사에 없는 내용을 꾸며서 임의로로 작성하지 않습니다.\n",
    "     - `None`, 유추, 추정, 일반 논평 금지합니다.\n",
    "   - 뉴스 요약 (3줄 이내)\n",
    "3. 뉴스가 한국 주식 종목에 영향을 주지 않는다면 다음 항목을 출력하세요.\n",
    "   - `\"is_stock_related\": false`\n",
    "   - 뉴스 요약 (3줄 이내)\n",
    "\n",
    "# 출력 지시사항 (Output Indicator)\n",
    "The output should be formatted as a JSON instance that conforms to the JSON schema below.\n",
    "\n",
    "As an example, for the schema {\"properties\": {\"foo\": {\"title\": \"Foo\", \"description\": \"a list of strings\", \"type\": \"array\", \"items\": {\"type\": \"string\"}}}, \"required\": [\"foo\"]}\n",
    "the object {\"foo\": [\"bar\", \"baz\"]} is a well-formatted instance of the schema. The object {\"properties\": {\"foo\": [\"bar\", \"baz\"]}} is not well-formatted.\n",
    "\n",
    "Here is the output schema:\n",
    "```\n",
    "{\"properties\": {\"is_stock_related\": {\"description\": \"한국 주식과 관련있는 뉴스인지 여부\", \"title\": \"Is Stock Related\", \"type\": \"boolean\"}, \"positive_stocks\": {\"description\": \"뉴스기사에 긍정적인 영향을 받는 회사들의 이름들.\", \"items\": {\"type\": \"string\"}, \"title\": \"Positive Stocks\", \"type\": \"array\"}, \"positive_reason\": {\"description\": \"뉴스내용 중 positive_stocks에 있는 각 회사들에 긍정적 영향을 주는 내용. {\\\"회사이름\\\":\\\"긍정적인 이유\\\"}\", \"items\": {\"additionalProperties\": {\"type\": \"string\"}, \"type\": \"object\"}, \"title\": \"Positive Reason\", \"type\": \"array\"}, \"negative_stocks\": {\"description\": \"뉴스기사에 부정적인 영향을 받는 회사들의 이름들.\", \"items\": {\"type\": \"string\"}, \"title\": \"Negative Stocks\", \"type\": \"array\"}, \"negative_reason\": {\"description\": \"뉴스내용 중 negative_stocks에 있는 각 회사들에 부정적 영향을 주는 내용. {\\\"회사이름\\\":\\\"부정적인 이유\\\"}\", \"items\": {\"additionalProperties\": {\"type\": \"string\"}, \"type\": \"object\"}, \"title\": \"Negative Reason\", \"type\": \"array\"}, \"summary\": {\"description\": \"뉴스기사 요약\", \"title\": \"Summary\", \"type\": \"string\"}}, \"required\": [\"is_stock_related\", \"positive_stocks\", \"positive_reason\", \"negative_stocks\", \"negative_reason\", \"summary\"]}\n",
    "```\n",
    "\n",
    "## 출력 조건:\n",
    "- 뉴스에 영향을 받은 회사들은 **반드시 한국 증시에 상장된 종목** 이어야 합니다.\n",
    "- 뉴스에 있는 내용만 출력결과에 포함시킵니다.\n",
    "- 긍정/부정 종목은 실제 뉴스기사에 영향을 받는 회사들만 포함하세요.\n",
    "- 모든 문자열은 큰따옴표(`\"`)로 감쌉니다.\n",
    "- 문자열 안에 따옴표가 필요하면 작은따옴표(`'`)를 사용합니다.\n",
    "- 모든 키(Key)는 출력 지시사항에 명시된 property들과 정확히 일치해야 합니다.\n",
    "- `\"positive_reasons\"` 및 `\"negative_reasons\"`의 값은 `None`이 될 수 없습니다.\n",
    "- json format을 잘 지켜 응답데이터를 만듭니다. 배열이나 object의 마지막 항목 뒤에 `,` 를 붙이지 마세요.\n",
    "- 오직 유효한 JSON 문자열(UTF-8, RFC8259 준수)만 출력합니다.\n",
    "- 절대 다른 텍스트, 주석, 설명, 코드 블록 표기(```), 또는 따옴표 외의 문자열을 추가하면 안 됩니다.\n",
    "\n",
    "## 출력 예시 (Examples)\n",
    "\n",
    "### 뉴스가 특정 주식종목들에 **긍정적 영향이 주는 경우**:\n",
    "{'is_stock_related': True,\n",
    " 'negative_reasons': [],\n",
    " 'negative_stocks': [],\n",
    " 'positive_reasons': [{'세라젬': '루게릭병 환우 지원 캠페인 후원과 의료가전 지원 등 사회공헌활동을 통해 기업 이미지와 브랜드 가치가 긍정적으로 부각됨'}],\n",
    " 'positive_stocks': ['세라젬'],\n",
    " 'summary': '세라젬이 루게릭병 환우를 위한 아이스버킷 챌린지 런 행사를 후원하며 의료가전과 건강기능식품 등을 지원했다. 캠페인은 루게릭병 환우 지원과 기부 문화 확산을 목표로 한다. 세라젬은 다양한 사회공헌활동을 지속하고 있다.'\n",
    "}\n",
    "\n",
    "### 뉴스의 내용이 특정 주식종목들에 **부정적 영향이 주는 경우**:\n",
    "{\n",
    "    \"is_stock_related\": true,\n",
    "    \"positive_stocks\": [],\n",
    "    \"positive_reasons\": [],\n",
    "    \"negative_stocks\": [\n",
    "        \"포스코\",\n",
    "        \"현대제철\"\n",
    "    ],\n",
    "    \"negative_reasons\": [\n",
    "        {\"포스코\": \"정부가 수입규제국 조사에 적극 대응하고 비관세장벽 해소를 위해 민관 협력 강화 방침을 밝혀 철강 분야에서 수출 피해 최소화 기대\"},\n",
    "        {\"현대제철\": \"철강·금속 품목에 대한 수입규제 대응 강화로 불합리한 무역제한 조치 개선 가능성이 높아져 수출 환경 개선 기대\"}\n",
    "    ],\n",
    "    \"summary\": \"산업부는 수입 규제국의 조사에 대응하고 비관세장벽 해소를 위한 협의를 진행했다. 규제 대상 국가는 26개국, 건수는 199건에 달한다.\"\n",
    "}\n",
    "\n",
    "### **뉴스기사가 주식 종목과 관련 없는 경우**:\n",
    "{\n",
    "    \"is_stock_related\": false,\n",
    "    \"positive_stocks\": [],\n",
    "    \"positive_reasons\": [],\n",
    "    \"negative_stocks\": [],\n",
    "    \"negative_reasons\": [],\n",
    "    \"summary\": \"정황근 농림축산식품부 장관이 단순가공식품 부가가치세 면제 시행 상황을 점검했다. 된장, 고추장 코너를 방문하며 현장을 살폈다.\"\n",
    "}'''\n"
   ]
  },
  {
   "cell_type": "code",
   "execution_count": 13,
   "id": "7946cdab-71fb-458a-a7f8-fd6f64104059",
   "metadata": {},
   "outputs": [
    {
     "data": {
      "text/plain": [
       "[{'role': 'system',\n",
       "  'content': '# Instruction\\n당신은 금융 뉴스의 핵심 내용을 요약해 설명하고, 뉴스가 특정 상장 종목에 미치는 긍정/부정 영향 여부, 이유, 근거 등을 분석하는 금융 분석 전문가입니다.\\n사용자에 의해 입력된 뉴스 기사를 분석해서 **한국에 상장된 주식 종목에 영향을 주는지 판단**하고, Output Indicator에 제시된 기준에 따라 구조화된 JSON 형식으로 결과를 출력하세요.\\n\\n## 분석 기준\\n1. 뉴스가 **한국 주식 종목에 영향을 주는지 판단**하세요.\\n2. 영향을 준다면 다음 항목을 출력하세요.\\n   - `\"is_stock_related\": true`\\n   - 뉴스에 **긍정적** 영향을 받는 **회사이름들**\\n   - 뉴스에 **부정적** 영향을 받는 **회사이름들**\\n   - 뉴스가 각 회사에 **긍정적 또는 부정적 영향을 주는지 이유**\\n     - 반드시 **뉴스기사에 언급된 내용 기반으로 작성한다.** 뉴스기사에 없는 내용을 꾸며서 임의로로 작성하지 않습니다.\\n     - `None`, 유추, 추정, 일반 논평 금지합니다.\\n   - 뉴스 요약 (3줄 이내)\\n3. 뉴스가 한국 주식 종목에 영향을 주지 않는다면 다음 항목을 출력하세요.\\n   - `\"is_stock_related\": false`\\n   - 뉴스 요약 (3줄 이내)\\n\\n# 출력 지시사항 (Output Indicator)\\nThe output should be formatted as a JSON instance that conforms to the JSON schema below.\\n\\nAs an example, for the schema {\"properties\": {\"foo\": {\"title\": \"Foo\", \"description\": \"a list of strings\", \"type\": \"array\", \"items\": {\"type\": \"string\"}}}, \"required\": [\"foo\"]}\\nthe object {\"foo\": [\"bar\", \"baz\"]} is a well-formatted instance of the schema. The object {\"properties\": {\"foo\": [\"bar\", \"baz\"]}} is not well-formatted.\\n\\nHere is the output schema:\\n```\\n{\"properties\": {\"is_stock_related\": {\"description\": \"한국 주식과 관련있는 뉴스인지 여부\", \"title\": \"Is Stock Related\", \"type\": \"boolean\"}, \"positive_stocks\": {\"description\": \"뉴스기사에 긍정적인 영향을 받는 회사들의 이름들.\", \"items\": {\"type\": \"string\"}, \"title\": \"Positive Stocks\", \"type\": \"array\"}, \"positive_reason\": {\"description\": \"뉴스내용 중 positive_stocks에 있는 각 회사들에 긍정적 영향을 주는 내용. {\"회사이름\":\"긍정적인 이유\"}\", \"items\": {\"additionalProperties\": {\"type\": \"string\"}, \"type\": \"object\"}, \"title\": \"Positive Reason\", \"type\": \"array\"}, \"negative_stocks\": {\"description\": \"뉴스기사에 부정적인 영향을 받는 회사들의 이름들.\", \"items\": {\"type\": \"string\"}, \"title\": \"Negative Stocks\", \"type\": \"array\"}, \"negative_reason\": {\"description\": \"뉴스내용 중 negative_stocks에 있는 각 회사들에 부정적 영향을 주는 내용. {\"회사이름\":\"부정적인 이유\"}\", \"items\": {\"additionalProperties\": {\"type\": \"string\"}, \"type\": \"object\"}, \"title\": \"Negative Reason\", \"type\": \"array\"}, \"summary\": {\"description\": \"뉴스기사 요약\", \"title\": \"Summary\", \"type\": \"string\"}}, \"required\": [\"is_stock_related\", \"positive_stocks\", \"positive_reason\", \"negative_stocks\", \"negative_reason\", \"summary\"]}\\n```\\n\\n## 출력 조건:\\n- 뉴스에 영향을 받은 회사들은 **반드시 한국 증시에 상장된 종목** 이어야 합니다.\\n- 뉴스에 있는 내용만 출력결과에 포함시킵니다.\\n- 긍정/부정 종목은 실제 뉴스기사에 영향을 받는 회사들만 포함하세요.\\n- 모든 문자열은 큰따옴표(`\"`)로 감쌉니다.\\n- 문자열 안에 따옴표가 필요하면 작은따옴표(`\\'`)를 사용합니다.\\n- 모든 키(Key)는 출력 지시사항에 명시된 property들과 정확히 일치해야 합니다.\\n- `\"positive_reasons\"` 및 `\"negative_reasons\"`의 값은 `None`이 될 수 없습니다.\\n- json format을 잘 지켜 응답데이터를 만듭니다. 배열이나 object의 마지막 항목 뒤에 `,` 를 붙이지 마세요.\\n- 오직 유효한 JSON 문자열(UTF-8, RFC8259 준수)만 출력합니다.\\n- 절대 다른 텍스트, 주석, 설명, 코드 블록 표기(```), 또는 따옴표 외의 문자열을 추가하면 안 됩니다.\\n\\n## 출력 예시 (Examples)\\n\\n### 뉴스가 특정 주식종목들에 **긍정적 영향이 주는 경우**:\\n{\\'is_stock_related\\': True,\\n \\'negative_reasons\\': [],\\n \\'negative_stocks\\': [],\\n \\'positive_reasons\\': [{\\'세라젬\\': \\'루게릭병 환우 지원 캠페인 후원과 의료가전 지원 등 사회공헌활동을 통해 기업 이미지와 브랜드 가치가 긍정적으로 부각됨\\'}],\\n \\'positive_stocks\\': [\\'세라젬\\'],\\n \\'summary\\': \\'세라젬이 루게릭병 환우를 위한 아이스버킷 챌린지 런 행사를 후원하며 의료가전과 건강기능식품 등을 지원했다. 캠페인은 루게릭병 환우 지원과 기부 문화 확산을 목표로 한다. 세라젬은 다양한 사회공헌활동을 지속하고 있다.\\'\\n}\\n\\n### 뉴스의 내용이 특정 주식종목들에 **부정적 영향이 주는 경우**:\\n{\\n    \"is_stock_related\": true,\\n    \"positive_stocks\": [],\\n    \"positive_reasons\": [],\\n    \"negative_stocks\": [\\n        \"포스코\",\\n        \"현대제철\"\\n    ],\\n    \"negative_reasons\": [\\n        {\"포스코\": \"정부가 수입규제국 조사에 적극 대응하고 비관세장벽 해소를 위해 민관 협력 강화 방침을 밝혀 철강 분야에서 수출 피해 최소화 기대\"},\\n        {\"현대제철\": \"철강·금속 품목에 대한 수입규제 대응 강화로 불합리한 무역제한 조치 개선 가능성이 높아져 수출 환경 개선 기대\"}\\n    ],\\n    \"summary\": \"산업부는 수입 규제국의 조사에 대응하고 비관세장벽 해소를 위한 협의를 진행했다. 규제 대상 국가는 26개국, 건수는 199건에 달한다.\"\\n}\\n\\n### **뉴스기사가 주식 종목과 관련 없는 경우**:\\n{\\n    \"is_stock_related\": false,\\n    \"positive_stocks\": [],\\n    \"positive_reasons\": [],\\n    \"negative_stocks\": [],\\n    \"negative_reasons\": [],\\n    \"summary\": \"정황근 농림축산식품부 장관이 단순가공식품 부가가치세 면제 시행 상황을 점검했다. 된장, 고추장 코너를 방문하며 현장을 살폈다.\"\\n}'},\n",
       " {'role': 'user',\n",
       "  'content': '유류세 인하폭 30%에서 37%로 확대\\n\\n서울 연합뉴스 강민지 기자 정부 유류세 추가 인하분이 반영된 1일 오전 서울 강서구 알뜰목화주유소에서 박일준 산업부 제2차관 등이 전날 유가정보를 교체하고 있다.'}]"
      ]
     },
     "execution_count": 13,
     "metadata": {},
     "output_type": "execute_result"
    }
   ],
   "source": [
    "################################################################\n",
    "# 추론할 1개의 샘플 데이터 생성\n",
    "# 뉴스 기사 제목 + \"\\n\\n\" + 뉴스 기사 내용\n",
    "################################################################\n",
    "\n",
    "idx = 5\n",
    "\n",
    "sample = dataset['train'][idx]\n",
    "user_input = sample[\"title\"]+\"\\n\\n\"+sample['document']\n",
    "prompt = [\n",
    "    {\"role\":\"system\", \"content\":system_prompt},\n",
    "    {\"role\":\"user\", \"content\": user_input}\n",
    "]\n",
    "prompt"
   ]
  },
  {
   "cell_type": "code",
   "execution_count": 14,
   "id": "720d9515-d939-456f-8da4-271ca3f83caf",
   "metadata": {},
   "outputs": [
    {
     "name": "stderr",
     "output_type": "stream",
     "text": [
      "Device set to use cuda:0\n"
     ]
    }
   ],
   "source": [
    "#########################################################\n",
    "# Pipeline을 이용해 실행\n",
    "#  - task: text-generation\n",
    "#  - pipeline은 (role base) chat format 으로 입력한다. \n",
    "#########################################################\n",
    "from transformers import pipeline\n",
    "\n",
    "pipe = pipeline(task=\"text-generation\", model=model, tokenizer=tokenizer )\n",
    "res = pipe(prompt,  max_new_tokens=200)"
   ]
  },
  {
   "cell_type": "code",
   "execution_count": 15,
   "id": "43ab329c",
   "metadata": {
    "scrolled": true
   },
   "outputs": [
    {
     "name": "stdout",
     "output_type": "stream",
     "text": [
      "[{'generated_text': [{'role': 'system', 'content': '# Instruction\\n당신은 금융 뉴스의 핵심 내용을 요약해 설명하고, 뉴스가 특정 상장 종목에 미치는 긍정/부정 영향 여부, 이유, 근거 등을 분석하는 금융 분석 전문가입니다.\\n사용자에 의해 입력된 뉴스 기사를 분석해서 **한국에 상장된 주식 종목에 영향을 주는지 판단**하고, Output Indicator에 제시된 기준에 따라 구조화된 JSON 형식으로 결과를 출력하세요.\\n\\n## 분석 기준\\n1. 뉴스가 **한국 주식 종목에 영향을 주는지 판단**하세요.\\n2. 영향을 준다면 다음 항목을 출력하세요.\\n   - `\"is_stock_related\": true`\\n   - 뉴스에 **긍정적** 영향을 받는 **회사이름들**\\n   - 뉴스에 **부정적** 영향을 받는 **회사이름들**\\n   - 뉴스가 각 회사에 **긍정적 또는 부정적 영향을 주는지 이유**\\n     - 반드시 **뉴스기사에 언급된 내용 기반으로 작성한다.** 뉴스기사에 없는 내용을 꾸며서 임의로로 작성하지 않습니다.\\n     - `None`, 유추, 추정, 일반 논평 금지합니다.\\n   - 뉴스 요약 (3줄 이내)\\n3. 뉴스가 한국 주식 종목에 영향을 주지 않는다면 다음 항목을 출력하세요.\\n   - `\"is_stock_related\": false`\\n   - 뉴스 요약 (3줄 이내)\\n\\n# 출력 지시사항 (Output Indicator)\\nThe output should be formatted as a JSON instance that conforms to the JSON schema below.\\n\\nAs an example, for the schema {\"properties\": {\"foo\": {\"title\": \"Foo\", \"description\": \"a list of strings\", \"type\": \"array\", \"items\": {\"type\": \"string\"}}}, \"required\": [\"foo\"]}\\nthe object {\"foo\": [\"bar\", \"baz\"]} is a well-formatted instance of the schema. The object {\"properties\": {\"foo\": [\"bar\", \"baz\"]}} is not well-formatted.\\n\\nHere is the output schema:\\n```\\n{\"properties\": {\"is_stock_related\": {\"description\": \"한국 주식과 관련있는 뉴스인지 여부\", \"title\": \"Is Stock Related\", \"type\": \"boolean\"}, \"positive_stocks\": {\"description\": \"뉴스기사에 긍정적인 영향을 받는 회사들의 이름들.\", \"items\": {\"type\": \"string\"}, \"title\": \"Positive Stocks\", \"type\": \"array\"}, \"positive_reason\": {\"description\": \"뉴스내용 중 positive_stocks에 있는 각 회사들에 긍정적 영향을 주는 내용. {\"회사이름\":\"긍정적인 이유\"}\", \"items\": {\"additionalProperties\": {\"type\": \"string\"}, \"type\": \"object\"}, \"title\": \"Positive Reason\", \"type\": \"array\"}, \"negative_stocks\": {\"description\": \"뉴스기사에 부정적인 영향을 받는 회사들의 이름들.\", \"items\": {\"type\": \"string\"}, \"title\": \"Negative Stocks\", \"type\": \"array\"}, \"negative_reason\": {\"description\": \"뉴스내용 중 negative_stocks에 있는 각 회사들에 부정적 영향을 주는 내용. {\"회사이름\":\"부정적인 이유\"}\", \"items\": {\"additionalProperties\": {\"type\": \"string\"}, \"type\": \"object\"}, \"title\": \"Negative Reason\", \"type\": \"array\"}, \"summary\": {\"description\": \"뉴스기사 요약\", \"title\": \"Summary\", \"type\": \"string\"}}, \"required\": [\"is_stock_related\", \"positive_stocks\", \"positive_reason\", \"negative_stocks\", \"negative_reason\", \"summary\"]}\\n```\\n\\n## 출력 조건:\\n- 뉴스에 영향을 받은 회사들은 **반드시 한국 증시에 상장된 종목** 이어야 합니다.\\n- 뉴스에 있는 내용만 출력결과에 포함시킵니다.\\n- 긍정/부정 종목은 실제 뉴스기사에 영향을 받는 회사들만 포함하세요.\\n- 모든 문자열은 큰따옴표(`\"`)로 감쌉니다.\\n- 문자열 안에 따옴표가 필요하면 작은따옴표(`\\'`)를 사용합니다.\\n- 모든 키(Key)는 출력 지시사항에 명시된 property들과 정확히 일치해야 합니다.\\n- `\"positive_reasons\"` 및 `\"negative_reasons\"`의 값은 `None`이 될 수 없습니다.\\n- json format을 잘 지켜 응답데이터를 만듭니다. 배열이나 object의 마지막 항목 뒤에 `,` 를 붙이지 마세요.\\n- 오직 유효한 JSON 문자열(UTF-8, RFC8259 준수)만 출력합니다.\\n- 절대 다른 텍스트, 주석, 설명, 코드 블록 표기(```), 또는 따옴표 외의 문자열을 추가하면 안 됩니다.\\n\\n## 출력 예시 (Examples)\\n\\n### 뉴스가 특정 주식종목들에 **긍정적 영향이 주는 경우**:\\n{\\'is_stock_related\\': True,\\n \\'negative_reasons\\': [],\\n \\'negative_stocks\\': [],\\n \\'positive_reasons\\': [{\\'세라젬\\': \\'루게릭병 환우 지원 캠페인 후원과 의료가전 지원 등 사회공헌활동을 통해 기업 이미지와 브랜드 가치가 긍정적으로 부각됨\\'}],\\n \\'positive_stocks\\': [\\'세라젬\\'],\\n \\'summary\\': \\'세라젬이 루게릭병 환우를 위한 아이스버킷 챌린지 런 행사를 후원하며 의료가전과 건강기능식품 등을 지원했다. 캠페인은 루게릭병 환우 지원과 기부 문화 확산을 목표로 한다. 세라젬은 다양한 사회공헌활동을 지속하고 있다.\\'\\n}\\n\\n### 뉴스의 내용이 특정 주식종목들에 **부정적 영향이 주는 경우**:\\n{\\n    \"is_stock_related\": true,\\n    \"positive_stocks\": [],\\n    \"positive_reasons\": [],\\n    \"negative_stocks\": [\\n        \"포스코\",\\n        \"현대제철\"\\n    ],\\n    \"negative_reasons\": [\\n        {\"포스코\": \"정부가 수입규제국 조사에 적극 대응하고 비관세장벽 해소를 위해 민관 협력 강화 방침을 밝혀 철강 분야에서 수출 피해 최소화 기대\"},\\n        {\"현대제철\": \"철강·금속 품목에 대한 수입규제 대응 강화로 불합리한 무역제한 조치 개선 가능성이 높아져 수출 환경 개선 기대\"}\\n    ],\\n    \"summary\": \"산업부는 수입 규제국의 조사에 대응하고 비관세장벽 해소를 위한 협의를 진행했다. 규제 대상 국가는 26개국, 건수는 199건에 달한다.\"\\n}\\n\\n### **뉴스기사가 주식 종목과 관련 없는 경우**:\\n{\\n    \"is_stock_related\": false,\\n    \"positive_stocks\": [],\\n    \"positive_reasons\": [],\\n    \"negative_stocks\": [],\\n    \"negative_reasons\": [],\\n    \"summary\": \"정황근 농림축산식품부 장관이 단순가공식품 부가가치세 면제 시행 상황을 점검했다. 된장, 고추장 코너를 방문하며 현장을 살폈다.\"\\n}'}, {'role': 'user', 'content': '유류세 인하폭 30%에서 37%로 확대\\n\\n서울 연합뉴스 강민지 기자 정부 유류세 추가 인하분이 반영된 1일 오전 서울 강서구 알뜰목화주유소에서 박일준 산업부 제2차관 등이 전날 유가정보를 교체하고 있다.'}, {'role': 'assistant', 'content': '### 분석 결과 (JSON 형식)\\n\\n```json\\n{\\n  \"is_stock_related\": true,\\n  \"positive_stocks\": [],\\n  \"positive_reasons\": [],\\n  \"negative_stocks\": [],\\n  \"negative_reasons\": [],\\n  \"summary\": \"정부가 유류세 인하폭을 기존 30%에서 37%로 확대한다는 내용의 뉴스입니다. 유류세 인하 확대는 내수경기 및 소비자 부담 완화에 긍정적 영향을 줄 것으로 예상됩니다.\"\\n}\\n```\\n\\n---\\n\\n### 설명\\n\\n- **영향 주체**: 유류세 인하폭 확대는 소비자, 기업, 내수경제 등에 직접적 영향을 미칠 수 있으나, 개별 주식(예: 석유화학, 정유, 유통 등)에 대한 직접적 긍정/부정은 단정하기 어렵습니다.\\n- **긍정적 영향'}]}]\n"
     ]
    }
   ],
   "source": [
    "print(res)"
   ]
  },
  {
   "cell_type": "code",
   "execution_count": 16,
   "id": "b3343d32",
   "metadata": {},
   "outputs": [
    {
     "data": {
      "text/plain": [
       "'### 분석 결과 (JSON 형식)\\n\\n```json\\n{\\n  \"is_stock_related\": true,\\n  \"positive_stocks\": [],\\n  \"positive_reasons\": [],\\n  \"negative_stocks\": [],\\n  \"negative_reasons\": [],\\n  \"summary\": \"정부가 유류세 인하폭을 기존 30%에서 37%로 확대한다는 내용의 뉴스입니다. 유류세 인하 확대는 내수경기 및 소비자 부담 완화에 긍정적 영향을 줄 것으로 예상됩니다.\"\\n}\\n```\\n\\n---\\n\\n### 설명\\n\\n- **영향 주체**: 유류세 인하폭 확대는 소비자, 기업, 내수경제 등에 직접적 영향을 미칠 수 있으나, 개별 주식(예: 석유화학, 정유, 유통 등)에 대한 직접적 긍정/부정은 단정하기 어렵습니다.\\n- **긍정적 영향'"
      ]
     },
     "execution_count": 16,
     "metadata": {},
     "output_type": "execute_result"
    }
   ],
   "source": [
    "len(res[0][\"generated_text\"])\n",
    "response = res[0]['generated_text'][-1]\n",
    "response['content']"
   ]
  },
  {
   "cell_type": "markdown",
   "id": "ca101393",
   "metadata": {},
   "source": [
    "# 파인 튜닝 \n",
    "\n",
    "## 데이터셋 만들기\n",
    "\n",
    "### 프롬프트 생성\n",
    "- LLM 모델은 학습할때 사용한 프롬프트 형식이 있다.\n",
    "    - 모델 마다 형식이 다르기 때문에 확인이 필요하다.\n",
    "    - 모델이 사용한 tokenizer의 chat_template 속성을 이용해 조회할 수 있다.\n",
    "      - `tokenizer.chat_template`\n",
    "      - `jija2` 템플릿 엔진 문법으로 작성됨.\n",
    "- 학습데이터를 LLM의 프롬프트 형식으로 생성한다.\n",
    "\n",
    "### Llama 모델의 chat template 형식\n",
    "```\n",
    "<|begin_of_text|>\n",
    "<|start_header_id|>system<|end_header_id|>\n",
    "[시스템 역할 지침]<|eot_id|>\n",
    "<|start_header_id|>user<|end_header_id|>\n",
    "[유저 질문]<|eot_id|>\n",
    "<|start_header_id|>assistant<|end_header_id|>\n",
    "[모델의 답변]<|eot_id|>\n",
    "```\n",
    "- `<|begin_of_text|>`: 시퀀스의 시작을 나타내는 토큰.\n",
    "- `<|start_header_id|>ROLE<|end_header_id|>`: Role(발화자) 지정 - system | user | assistant\n",
    "- `메세지 내용<|eot_id|>`:  Role 메세지. 시퀀스 종료를 나타내는 토큰(`<|eot_id|>`)\n",
    "\n",
    "#### 예\n",
    "```\n",
    "<|begin_of_text|><|start_header_id|>system<|end_header_id|>\n",
    "당신은 인공지는 날씨 예보관입니다.<|eot_id|>\n",
    "<|start_header_id|>user<|end_header_id|>\n",
    "오늘 서울 날씨 어때요?<|eot_id|>\n",
    "```\n",
    "> ### Gemma format chat template 형식\n",
    "> \n",
    "> ```xml\n",
    "> <bos><start_of_turn>Role\n",
    "> {사용자 입력-input}<end_of_turn>\n",
    "> <start_of_turn>model\n",
    "> {AI 답변-label}<end_of_turn>\n",
    "> ```\n",
    "> -\t`<bos>`: 시퀀스의 시작을 나타내는 토큰.\n",
    "> -\t`<start_of_turn>`: 각 대화의 시작을 나타낸다.\n",
    "> -\t`Role`: Role(발화자) 지정 - **user** | **model** \n",
    ">   - gemma는 user와 model 두가지 role을 이용해 instruction 모델을 학습함.\n",
    ">   - gemma 는 system role을 사용하지 않는다. 그래서 **system prompt는 user role의 content에 넣어준다.**\n",
    "> - `메세지`\n",
    ">   - Role 다음 줄에 이어서 메세지를 입력한다.\n",
    "> - `<end_of_turn>`: 대화의 끝을 나타냅니다.\n",
    "> - 예\n",
    "> ```xml\n",
    "> <bos><start_of_turn>user\n",
    "> AI에 대해 설명해주세요.<end_of_turn>\n",
    "> <start_of_turn>model\n",
    "> AI은 컴퓨터 시스템이 인간의 지능적 기능을 모방하여 데이터를 처리하고 의사결정을 수행하는 기술입니다.<end_of_turn>\n",
    "> ```\n",
    "\n",
    "> ### Alapaca format chat template\n",
    "> ```\n",
    "> ### Instruction:\n",
    "> [시스템 역할 지침]\n",
    "> \n",
    "> [유저 질문]\n",
    "> \n",
    "> ### Response:\n",
    "> [모델의 답변]\n",
    "> ```\n",
    "> - `### Instruction`: - 사용자 입력/질문\n",
    "> - `### Response`: - 모델의 답변\n",
    "> - 특수 토큰 대신 마크다운 스타일의 헤더 사용\n",
    "> - 보통 맨 앞에 표준 instruction 문구 포함\n"
   ]
  },
  {
   "cell_type": "markdown",
   "id": "f16af714-fc82-404b-a072-300b9a394da3",
   "metadata": {},
   "source": [
    "### InputPromptCreator(프롬프트 생성 클래스) 정의\n",
    "\n",
    "- `create_pipeline_prompt()`:\n",
    "    - 뉴스기사 제목, 뉴스기사내용을 받아서 파이프라인에 입력할 chat 형식 프롬프트생성한다\n",
    "- `create_generate_prompt:()`:\n",
    "    - 뉴스기사 제목, 뉴스기사내용을 받아서  모델의 자체 chat 형식의 프롬프트를 생성한다.\n",
    "- `create_train_prompt()`:\n",
    "    - Dataset의 개별 데이터를 입력받아서 모델 학습을 위한 chat 프롬프트생성"
   ]
  },
  {
   "cell_type": "code",
   "execution_count": 17,
   "id": "a610af68-8ee5-44eb-b372-fceac8eb935b",
   "metadata": {},
   "outputs": [],
   "source": [
    "####################################################################\n",
    "# 학습 용 프롬프트 생성 함수\n",
    "####################################################################\n",
    "\n",
    "\n",
    "from textwrap import dedent\n",
    "class InputPromptCreator:\n",
    "    \"\"\"모델별 형식에 맞춰 입력 프롬프트를 생성한다.\n",
    "    \"\"\"\n",
    "    def __init__(self, tokenizer=None):\n",
    "        \"\"\"\n",
    "        모델의 chat template을 제공하는 tokenizer와 system 프롬프트를 받아서 초기화\n",
    "        \"\"\"\n",
    "        self.tokenizer = tokenizer\n",
    "        self.system_prompt = dedent('''\n",
    "        # Instruction\n",
    "        당신은 금융 뉴스의 핵심 내용을 요약해 설명하고, 뉴스가 특정 상장 종목에 미치는 긍정/부정 영향 여부, 이유, 근거 등을 분석하는 금융 분석 전문가입니다.\n",
    "        사용자에 의해 입력된 뉴스 기사를 분석해서 **한국에 상장된 주식 종목에 영향을 주는지 판단**하고, Output Indicator에 제시된 기준에 따라 구조화된 JSON 형식으로 결과를 출력하세요.\n",
    "        \n",
    "        ## 분석 기준\n",
    "        1. 뉴스가 **한국 주식 종목에 영향을 주는지 판단**하세요.\n",
    "        2. 영향을 준다면 다음 항목을 출력하세요.\n",
    "           - `\"is_stock_related\": true`\n",
    "           - 뉴스에 **긍정적** 영향을 받는 **회사이름들**\n",
    "           - 뉴스에 **부정적** 영향을 받는 **회사이름들**\n",
    "           - 뉴스가 각 회사에 **긍정적 또는 부정적 영향을 주는지 이유**\n",
    "             - 반드시 **뉴스기사에 언급된 내용 기반으로 작성한다.** 뉴스기사에 없는 내용을 꾸며서 임의로로 작성하지 않습니다.\n",
    "             - `None`, 유추, 추정, 일반 논평 금지합니다.\n",
    "           - 뉴스 요약 (3줄 이내)\n",
    "        3. 뉴스가 한국 주식 종목에 영향을 주지 않는다면 다음 항목을 출력하세요.\n",
    "           - `\"is_stock_related\": false`\n",
    "           - 뉴스 요약 (3줄 이내)\n",
    "        \n",
    "        # 출력 지시사항 (Output Indicator)\n",
    "        The output should be formatted as a JSON instance that conforms to the JSON schema below.\n",
    "        \n",
    "        As an example, for the schema {\"properties\": {\"foo\": {\"title\": \"Foo\", \"description\": \"a list of strings\", \"type\": \"array\", \"items\": {\"type\": \"string\"}}}, \"required\": [\"foo\"]}\n",
    "        the object {\"foo\": [\"bar\", \"baz\"]} is a well-formatted instance of the schema. The object {\"properties\": {\"foo\": [\"bar\", \"baz\"]}} is not well-formatted.\n",
    "        \n",
    "        Here is the output schema:\n",
    "        ```\n",
    "        {\"properties\": {\"is_stock_related\": {\"description\": \"한국 주식과 관련있는 뉴스인지 여부\", \"title\": \"Is Stock Related\", \"type\": \"boolean\"}, \"positive_stocks\": {\"description\": \"뉴스기사에 긍정적인 영향을 받는 회사들의 이름들.\", \"items\": {\"type\": \"string\"}, \"title\": \"Positive Stocks\", \"type\": \"array\"}, \"positive_reason\": {\"description\": \"뉴스내용 중 positive_stocks에 있는 각 회사들에 긍정적 영향을 주는 내용. {\\\"회사이름\\\":\\\"긍정적인 이유\\\"}\", \"items\": {\"additionalProperties\": {\"type\": \"string\"}, \"type\": \"object\"}, \"title\": \"Positive Reason\", \"type\": \"array\"}, \"negative_stocks\": {\"description\": \"뉴스기사에 부정적인 영향을 받는 회사들의 이름들.\", \"items\": {\"type\": \"string\"}, \"title\": \"Negative Stocks\", \"type\": \"array\"}, \"negative_reason\": {\"description\": \"뉴스내용 중 negative_stocks에 있는 각 회사들에 부정적 영향을 주는 내용. {\\\"회사이름\\\":\\\"부정적인 이유\\\"}\", \"items\": {\"additionalProperties\": {\"type\": \"string\"}, \"type\": \"object\"}, \"title\": \"Negative Reason\", \"type\": \"array\"}, \"summary\": {\"description\": \"뉴스기사 요약\", \"title\": \"Summary\", \"type\": \"string\"}}, \"required\": [\"is_stock_related\", \"positive_stocks\", \"positive_reason\", \"negative_stocks\", \"negative_reason\", \"summary\"]}\n",
    "        ```\n",
    "        \n",
    "        ## 출력 조건:\n",
    "        - 뉴스에 영향을 받은 회사들은 **반드시 한국 증시에 상장된 종목** 이어야 합니다.\n",
    "        - 뉴스에 있는 내용만 출력결과에 포함시킵니다.\n",
    "        - 긍정/부정 종목은 실제 뉴스기사에 영향을 받는 회사들만 포함하세요.\n",
    "        - 모든 문자열은 큰따옴표(`\"`)로 감쌉니다.\n",
    "        - 문자열 안에 따옴표가 필요하면 작은따옴표(`'`)를 사용합니다.\n",
    "        - 모든 키(Key)는 출력 지시사항에 명시된 property들과 정확히 일치해야 합니다.\n",
    "        - `\"positive_reasons\"` 및 `\"negative_reasons\"`의 값은 `None`이 될 수 없습니다.\n",
    "        - json format을 잘 지켜 응답데이터를 만듭니다. 배열이나 object의 마지막 항목 뒤에 `,` 를 붙이지 마세요.\n",
    "        - 오직 유효한 JSON 문자열(UTF-8, RFC8259 준수)만 출력합니다.\n",
    "        - 절대 다른 텍스트, 주석, 설명, 코드 블록 표기(```), 또는 따옴표 외의 문자열을 추가하면 안 됩니다.\n",
    "        \n",
    "        ## 출력 예시 (Examples)\n",
    "        \n",
    "        ### 뉴스가 특정 주식종목들에 **긍정적 영향이 주는 경우**:\n",
    "        {'is_stock_related': True,\n",
    "         'negative_reasons': [],\n",
    "         'negative_stocks': [],\n",
    "         'positive_reasons': [{'세라젬': '루게릭병 환우 지원 캠페인 후원과 의료가전 지원 등 사회공헌활동을 통해 기업 이미지와 브랜드 가치가 긍정적으로 부각됨'}],\n",
    "         'positive_stocks': ['세라젬'],\n",
    "         'summary': '세라젬이 루게릭병 환우를 위한 아이스버킷 챌린지 런 행사를 후원하며 의료가전과 건강기능식품 등을 지원했다. 캠페인은 루게릭병 환우 지원과 기부 문화 확산을 목표로 한다. 세라젬은 다양한 사회공헌활동을 지속하고 있다.'\n",
    "        }\n",
    "        \n",
    "        ### 뉴스의 내용이 특정 주식종목들에 **부정적 영향이 주는 경우**:\n",
    "        {\n",
    "            \"is_stock_related\": true,\n",
    "            \"positive_stocks\": [],\n",
    "            \"positive_reasons\": [],\n",
    "            \"negative_stocks\": [\n",
    "                \"포스코\",\n",
    "                \"현대제철\"\n",
    "            ],\n",
    "            \"negative_reasons\": [\n",
    "                {\"포스코\": \"정부가 수입규제국 조사에 적극 대응하고 비관세장벽 해소를 위해 민관 협력 강화 방침을 밝혀 철강 분야에서 수출 피해 최소화 기대\"},\n",
    "                {\"현대제철\": \"철강·금속 품목에 대한 수입규제 대응 강화로 불합리한 무역제한 조치 개선 가능성이 높아져 수출 환경 개선 기대\"}\n",
    "            ],\n",
    "            \"summary\": \"산업부는 수입 규제국의 조사에 대응하고 비관세장벽 해소를 위한 협의를 진행했다. 규제 대상 국가는 26개국, 건수는 199건에 달한다.\"\n",
    "        }\n",
    "        \n",
    "        ### **뉴스기사가 주식 종목과 관련 없는 경우**:\n",
    "        {\n",
    "            \"is_stock_related\": false,\n",
    "            \"positive_stocks\": [],\n",
    "            \"positive_reasons\": [],\n",
    "            \"negative_stocks\": [],\n",
    "            \"negative_reasons\": [],\n",
    "            \"summary\": \"정황근 농림축산식품부 장관이 단순가공식품 부가가치세 면제 시행 상황을 점검했다. 된장, 고추장 코너를 방문하며 현장을 살폈다.\"\n",
    "        }''')\n",
    "\n",
    "    def create_pipeline_prompt(self, news_title:str, news_document:str) -> list[dict]:\n",
    "        \"\"\"파이프라인에 입력할 chat 형식 프롬프트생성한다.\n",
    "        ```\n",
    "        [\n",
    "            {\"role\":\"system\", \"content\":시스템프롬프트},\n",
    "            {\"role\":\"user\", \"content\": news_title+\"\\n\\n\"+news_document}\n",
    "        ]\n",
    "        ```\n",
    "        \"\"\"\n",
    "        news = news_title+\"\\n\\n\"+news_document\n",
    "        message = [\n",
    "            {\"role\":\"system\", \"content\":self.system_prompt},\n",
    "            {\"role\":\"user\", \"content\": news}\n",
    "        ]\n",
    "        return message\n",
    "\n",
    "    def create_generate_prompt(self, news_title:str, news_document:str) -> str:\n",
    "        \"\"\"뉴스 제목과 내용을 받아서 tokenizer를 이용해 모델의 자체 chat 형식의 프롬프트를 생성한다.\n",
    "        \"\"\"\n",
    "        if self.tokenizer is None:\n",
    "            raise Exception(\"Tokenizer가 없습니다. generate_prompt를 사용하려면 모델의 tokenizer가 필요합니다.\")\n",
    "        message = self.create_pipeline_prompt(news_title, news_document)\n",
    "        prompt =  tokenizer.apply_chat_template(\n",
    "            message,\n",
    "            tokenize=False,\n",
    "            add_generation_prompt=True\n",
    "        )\n",
    "        return prompt\n",
    "\n",
    "    def create_train_prompt(self, datapoint:dict) -> dict:\n",
    "        \"\"\"\n",
    "        Dataset의 개별 데이터를 입력받아서 모델 학습을 위한 chat 프롬프트생성\n",
    "        프롬프트 형식\n",
    "        ```\n",
    "        <|begin_of_text|>\n",
    "        <|start_header_id|>system<|end_header_id|>\n",
    "        {시스템 프롬프트}<|eot_id|>\n",
    "        <|start_header_id|>user<|end_header_id|>\n",
    "        {입력 - title+document}<|eot_id|>\n",
    "        <|start_header_id|>assistant<|end_header_id|>\n",
    "        {답변 - Label}<|eot_id|>\n",
    "        ```\n",
    "        Args:\n",
    "            datapoint (dict): 변환할 데이터\n",
    "    \n",
    "        Returns:\n",
    "            str: 모델 학습을 위한 프롬프트. \n",
    "        \"\"\"\n",
    "        chat_template = dedent('''\n",
    "            <|begin_of_text|>\n",
    "            <|start_header_id|>system<|end_header_id|>\n",
    "            {system_prompt}<|eot_id|>\n",
    "            <|start_header_id|>user<|end_header_id|>\n",
    "            {input_content}<|eot_id|>\n",
    "            <|start_header_id|>assistant<|end_header_id|>\n",
    "            {label}<|eot_id|>''')\n",
    "    \n",
    "        content = datapoint['title']+\"\\n\"+datapoint['document']\n",
    "        prompt = chat_template.format(system_prompt=self.system_prompt, \n",
    "                                      input_content=content, \n",
    "                                      label=datapoint['label'])\n",
    "\n",
    "        return {\"train_prompt\":prompt}"
   ]
  },
  {
   "cell_type": "code",
   "execution_count": 46,
   "id": "c6103ce1-ae09-4e36-8aee-08b29034c23b",
   "metadata": {
    "collapsed": true,
    "jupyter": {
     "outputs_hidden": true
    },
    "scrolled": true
   },
   "outputs": [
    {
     "data": {
      "text/plain": [
       "[{'role': 'system',\n",
       "  'content': '\\n# Instruction\\n당신은 금융 뉴스의 핵심 내용을 요약해 설명하고, 뉴스가 특정 상장 종목에 미치는 긍정/부정 영향 여부, 이유, 근거 등을 분석하는 금융 분석 전문가입니다.\\n사용자에 의해 입력된 뉴스 기사를 분석해서 **한국에 상장된 주식 종목에 영향을 주는지 판단**하고, Output Indicator에 제시된 기준에 따라 구조화된 JSON 형식으로 결과를 출력하세요.\\n\\n## 분석 기준\\n1. 뉴스가 **한국 주식 종목에 영향을 주는지 판단**하세요.\\n2. 영향을 준다면 다음 항목을 출력하세요.\\n   - `\"is_stock_related\": true`\\n   - 뉴스에 **긍정적** 영향을 받는 **회사이름들**\\n   - 뉴스에 **부정적** 영향을 받는 **회사이름들**\\n   - 뉴스가 각 회사에 **긍정적 또는 부정적 영향을 주는지 이유**\\n     - 반드시 **뉴스기사에 언급된 내용 기반으로 작성한다.** 뉴스기사에 없는 내용을 꾸며서 임의로로 작성하지 않습니다.\\n     - `None`, 유추, 추정, 일반 논평 금지합니다.\\n   - 뉴스 요약 (3줄 이내)\\n3. 뉴스가 한국 주식 종목에 영향을 주지 않는다면 다음 항목을 출력하세요.\\n   - `\"is_stock_related\": false`\\n   - 뉴스 요약 (3줄 이내)\\n\\n# 출력 지시사항 (Output Indicator)\\nThe output should be formatted as a JSON instance that conforms to the JSON schema below.\\n\\nAs an example, for the schema {\"properties\": {\"foo\": {\"title\": \"Foo\", \"description\": \"a list of strings\", \"type\": \"array\", \"items\": {\"type\": \"string\"}}}, \"required\": [\"foo\"]}\\nthe object {\"foo\": [\"bar\", \"baz\"]} is a well-formatted instance of the schema. The object {\"properties\": {\"foo\": [\"bar\", \"baz\"]}} is not well-formatted.\\n\\nHere is the output schema:\\n```\\n{\"properties\": {\"is_stock_related\": {\"description\": \"한국 주식과 관련있는 뉴스인지 여부\", \"title\": \"Is Stock Related\", \"type\": \"boolean\"}, \"positive_stocks\": {\"description\": \"뉴스기사에 긍정적인 영향을 받는 회사들의 이름들.\", \"items\": {\"type\": \"string\"}, \"title\": \"Positive Stocks\", \"type\": \"array\"}, \"positive_reason\": {\"description\": \"뉴스내용 중 positive_stocks에 있는 각 회사들에 긍정적 영향을 주는 내용. {\"회사이름\":\"긍정적인 이유\"}\", \"items\": {\"additionalProperties\": {\"type\": \"string\"}, \"type\": \"object\"}, \"title\": \"Positive Reason\", \"type\": \"array\"}, \"negative_stocks\": {\"description\": \"뉴스기사에 부정적인 영향을 받는 회사들의 이름들.\", \"items\": {\"type\": \"string\"}, \"title\": \"Negative Stocks\", \"type\": \"array\"}, \"negative_reason\": {\"description\": \"뉴스내용 중 negative_stocks에 있는 각 회사들에 부정적 영향을 주는 내용. {\"회사이름\":\"부정적인 이유\"}\", \"items\": {\"additionalProperties\": {\"type\": \"string\"}, \"type\": \"object\"}, \"title\": \"Negative Reason\", \"type\": \"array\"}, \"summary\": {\"description\": \"뉴스기사 요약\", \"title\": \"Summary\", \"type\": \"string\"}}, \"required\": [\"is_stock_related\", \"positive_stocks\", \"positive_reason\", \"negative_stocks\", \"negative_reason\", \"summary\"]}\\n```\\n\\n## 출력 조건:\\n- 뉴스에 영향을 받은 회사들은 **반드시 한국 증시에 상장된 종목** 이어야 합니다.\\n- 뉴스에 있는 내용만 출력결과에 포함시킵니다.\\n- 긍정/부정 종목은 실제 뉴스기사에 영향을 받는 회사들만 포함하세요.\\n- 모든 문자열은 큰따옴표(`\"`)로 감쌉니다.\\n- 문자열 안에 따옴표가 필요하면 작은따옴표(`\\'`)를 사용합니다.\\n- 모든 키(Key)는 출력 지시사항에 명시된 property들과 정확히 일치해야 합니다.\\n- `\"positive_reasons\"` 및 `\"negative_reasons\"`의 값은 `None`이 될 수 없습니다.\\n- json format을 잘 지켜 응답데이터를 만듭니다. 배열이나 object의 마지막 항목 뒤에 `,` 를 붙이지 마세요.\\n- 오직 유효한 JSON 문자열(UTF-8, RFC8259 준수)만 출력합니다.\\n- 절대 다른 텍스트, 주석, 설명, 코드 블록 표기(```), 또는 따옴표 외의 문자열을 추가하면 안 됩니다.\\n\\n## 출력 예시 (Examples)\\n\\n### 뉴스가 특정 주식종목들에 **긍정적 영향이 주는 경우**:\\n{\\'is_stock_related\\': True,\\n \\'negative_reasons\\': [],\\n \\'negative_stocks\\': [],\\n \\'positive_reasons\\': [{\\'세라젬\\': \\'루게릭병 환우 지원 캠페인 후원과 의료가전 지원 등 사회공헌활동을 통해 기업 이미지와 브랜드 가치가 긍정적으로 부각됨\\'}],\\n \\'positive_stocks\\': [\\'세라젬\\'],\\n \\'summary\\': \\'세라젬이 루게릭병 환우를 위한 아이스버킷 챌린지 런 행사를 후원하며 의료가전과 건강기능식품 등을 지원했다. 캠페인은 루게릭병 환우 지원과 기부 문화 확산을 목표로 한다. 세라젬은 다양한 사회공헌활동을 지속하고 있다.\\'\\n}\\n\\n### 뉴스의 내용이 특정 주식종목들에 **부정적 영향이 주는 경우**:\\n{\\n    \"is_stock_related\": true,\\n    \"positive_stocks\": [],\\n    \"positive_reasons\": [],\\n    \"negative_stocks\": [\\n        \"포스코\",\\n        \"현대제철\"\\n    ],\\n    \"negative_reasons\": [\\n        {\"포스코\": \"정부가 수입규제국 조사에 적극 대응하고 비관세장벽 해소를 위해 민관 협력 강화 방침을 밝혀 철강 분야에서 수출 피해 최소화 기대\"},\\n        {\"현대제철\": \"철강·금속 품목에 대한 수입규제 대응 강화로 불합리한 무역제한 조치 개선 가능성이 높아져 수출 환경 개선 기대\"}\\n    ],\\n    \"summary\": \"산업부는 수입 규제국의 조사에 대응하고 비관세장벽 해소를 위한 협의를 진행했다. 규제 대상 국가는 26개국, 건수는 199건에 달한다.\"\\n}\\n\\n### **뉴스기사가 주식 종목과 관련 없는 경우**:\\n{\\n    \"is_stock_related\": false,\\n    \"positive_stocks\": [],\\n    \"positive_reasons\": [],\\n    \"negative_stocks\": [],\\n    \"negative_reasons\": [],\\n    \"summary\": \"정황근 농림축산식품부 장관이 단순가공식품 부가가치세 면제 시행 상황을 점검했다. 된장, 고추장 코너를 방문하며 현장을 살폈다.\"\\n}'},\n",
       " {'role': 'user', 'content': '>>>>>>>>>뉴스기사제목\\n\\n<<<<<<<뉴스내용'}]"
      ]
     },
     "execution_count": 46,
     "metadata": {},
     "output_type": "execute_result"
    }
   ],
   "source": [
    "prompt_creator = InputPromptCreator(tokenizer=tokenizer)\n",
    "prompt_creator.create_pipeline_prompt(\">>>>>>>>>뉴스기사제목\",\"<<<<<<<뉴스내용\" )"
   ]
  },
  {
   "cell_type": "code",
   "execution_count": 47,
   "id": "0b14dc12-3c25-4d9e-8537-4b4f23fc1fff",
   "metadata": {
    "collapsed": true,
    "jupyter": {
     "outputs_hidden": true
    },
    "scrolled": true
   },
   "outputs": [
    {
     "data": {
      "text/plain": [
       "'<|begin_of_text|><|start_header_id|>system<|end_header_id|>\\n\\n\\n<|eot_id|><|start_header_id|>system<|end_header_id|>\\n\\n\\n# Instruction\\n당신은 금융 뉴스의 핵심 내용을 요약해 설명하고, 뉴스가 특정 상장 종목에 미치는 긍정/부정 영향 여부, 이유, 근거 등을 분석하는 금융 분석 전문가입니다.\\n사용자에 의해 입력된 뉴스 기사를 분석해서 **한국에 상장된 주식 종목에 영향을 주는지 판단**하고, Output Indicator에 제시된 기준에 따라 구조화된 JSON 형식으로 결과를 출력하세요.\\n\\n## 분석 기준\\n1. 뉴스가 **한국 주식 종목에 영향을 주는지 판단**하세요.\\n2. 영향을 준다면 다음 항목을 출력하세요.\\n   - `\"is_stock_related\": true`\\n   - 뉴스에 **긍정적** 영향을 받는 **회사이름들**\\n   - 뉴스에 **부정적** 영향을 받는 **회사이름들**\\n   - 뉴스가 각 회사에 **긍정적 또는 부정적 영향을 주는지 이유**\\n     - 반드시 **뉴스기사에 언급된 내용 기반으로 작성한다.** 뉴스기사에 없는 내용을 꾸며서 임의로로 작성하지 않습니다.\\n     - `None`, 유추, 추정, 일반 논평 금지합니다.\\n   - 뉴스 요약 (3줄 이내)\\n3. 뉴스가 한국 주식 종목에 영향을 주지 않는다면 다음 항목을 출력하세요.\\n   - `\"is_stock_related\": false`\\n   - 뉴스 요약 (3줄 이내)\\n\\n# 출력 지시사항 (Output Indicator)\\nThe output should be formatted as a JSON instance that conforms to the JSON schema below.\\n\\nAs an example, for the schema {\"properties\": {\"foo\": {\"title\": \"Foo\", \"description\": \"a list of strings\", \"type\": \"array\", \"items\": {\"type\": \"string\"}}}, \"required\": [\"foo\"]}\\nthe object {\"foo\": [\"bar\", \"baz\"]} is a well-formatted instance of the schema. The object {\"properties\": {\"foo\": [\"bar\", \"baz\"]}} is not well-formatted.\\n\\nHere is the output schema:\\n```\\n{\"properties\": {\"is_stock_related\": {\"description\": \"한국 주식과 관련있는 뉴스인지 여부\", \"title\": \"Is Stock Related\", \"type\": \"boolean\"}, \"positive_stocks\": {\"description\": \"뉴스기사에 긍정적인 영향을 받는 회사들의 이름들.\", \"items\": {\"type\": \"string\"}, \"title\": \"Positive Stocks\", \"type\": \"array\"}, \"positive_reason\": {\"description\": \"뉴스내용 중 positive_stocks에 있는 각 회사들에 긍정적 영향을 주는 내용. {\"회사이름\":\"긍정적인 이유\"}\", \"items\": {\"additionalProperties\": {\"type\": \"string\"}, \"type\": \"object\"}, \"title\": \"Positive Reason\", \"type\": \"array\"}, \"negative_stocks\": {\"description\": \"뉴스기사에 부정적인 영향을 받는 회사들의 이름들.\", \"items\": {\"type\": \"string\"}, \"title\": \"Negative Stocks\", \"type\": \"array\"}, \"negative_reason\": {\"description\": \"뉴스내용 중 negative_stocks에 있는 각 회사들에 부정적 영향을 주는 내용. {\"회사이름\":\"부정적인 이유\"}\", \"items\": {\"additionalProperties\": {\"type\": \"string\"}, \"type\": \"object\"}, \"title\": \"Negative Reason\", \"type\": \"array\"}, \"summary\": {\"description\": \"뉴스기사 요약\", \"title\": \"Summary\", \"type\": \"string\"}}, \"required\": [\"is_stock_related\", \"positive_stocks\", \"positive_reason\", \"negative_stocks\", \"negative_reason\", \"summary\"]}\\n```\\n\\n## 출력 조건:\\n- 뉴스에 영향을 받은 회사들은 **반드시 한국 증시에 상장된 종목** 이어야 합니다.\\n- 뉴스에 있는 내용만 출력결과에 포함시킵니다.\\n- 긍정/부정 종목은 실제 뉴스기사에 영향을 받는 회사들만 포함하세요.\\n- 모든 문자열은 큰따옴표(`\"`)로 감쌉니다.\\n- 문자열 안에 따옴표가 필요하면 작은따옴표(`\\'`)를 사용합니다.\\n- 모든 키(Key)는 출력 지시사항에 명시된 property들과 정확히 일치해야 합니다.\\n- `\"positive_reasons\"` 및 `\"negative_reasons\"`의 값은 `None`이 될 수 없습니다.\\n- json format을 잘 지켜 응답데이터를 만듭니다. 배열이나 object의 마지막 항목 뒤에 `,` 를 붙이지 마세요.\\n- 오직 유효한 JSON 문자열(UTF-8, RFC8259 준수)만 출력합니다.\\n- 절대 다른 텍스트, 주석, 설명, 코드 블록 표기(```), 또는 따옴표 외의 문자열을 추가하면 안 됩니다.\\n\\n## 출력 예시 (Examples)\\n\\n### 뉴스가 특정 주식종목들에 **긍정적 영향이 주는 경우**:\\n{\\'is_stock_related\\': True,\\n \\'negative_reasons\\': [],\\n \\'negative_stocks\\': [],\\n \\'positive_reasons\\': [{\\'세라젬\\': \\'루게릭병 환우 지원 캠페인 후원과 의료가전 지원 등 사회공헌활동을 통해 기업 이미지와 브랜드 가치가 긍정적으로 부각됨\\'}],\\n \\'positive_stocks\\': [\\'세라젬\\'],\\n \\'summary\\': \\'세라젬이 루게릭병 환우를 위한 아이스버킷 챌린지 런 행사를 후원하며 의료가전과 건강기능식품 등을 지원했다. 캠페인은 루게릭병 환우 지원과 기부 문화 확산을 목표로 한다. 세라젬은 다양한 사회공헌활동을 지속하고 있다.\\'\\n}\\n\\n### 뉴스의 내용이 특정 주식종목들에 **부정적 영향이 주는 경우**:\\n{\\n    \"is_stock_related\": true,\\n    \"positive_stocks\": [],\\n    \"positive_reasons\": [],\\n    \"negative_stocks\": [\\n        \"포스코\",\\n        \"현대제철\"\\n    ],\\n    \"negative_reasons\": [\\n        {\"포스코\": \"정부가 수입규제국 조사에 적극 대응하고 비관세장벽 해소를 위해 민관 협력 강화 방침을 밝혀 철강 분야에서 수출 피해 최소화 기대\"},\\n        {\"현대제철\": \"철강·금속 품목에 대한 수입규제 대응 강화로 불합리한 무역제한 조치 개선 가능성이 높아져 수출 환경 개선 기대\"}\\n    ],\\n    \"summary\": \"산업부는 수입 규제국의 조사에 대응하고 비관세장벽 해소를 위한 협의를 진행했다. 규제 대상 국가는 26개국, 건수는 199건에 달한다.\"\\n}\\n\\n### **뉴스기사가 주식 종목과 관련 없는 경우**:\\n{\\n    \"is_stock_related\": false,\\n    \"positive_stocks\": [],\\n    \"positive_reasons\": [],\\n    \"negative_stocks\": [],\\n    \"negative_reasons\": [],\\n    \"summary\": \"정황근 농림축산식품부 장관이 단순가공식품 부가가치세 면제 시행 상황을 점검했다. 된장, 고추장 코너를 방문하며 현장을 살폈다.\"\\n}<|eot_id|><|start_header_id|>user<|end_header_id|>\\n\\n>>>>>>>>>뉴스기사제목\\n\\n<<<<<<<뉴스내용<|eot_id|><|start_header_id|>assistant<|end_header_id|>\\n\\n'"
      ]
     },
     "execution_count": 47,
     "metadata": {},
     "output_type": "execute_result"
    }
   ],
   "source": [
    "prompt_creator.create_generate_prompt(\">>>>>>>>>뉴스기사제목\",\"<<<<<<<뉴스내용\")"
   ]
  },
  {
   "cell_type": "code",
   "execution_count": 50,
   "id": "bb886b27-8d58-4110-90d6-48b1cc8f123b",
   "metadata": {
    "collapsed": true,
    "jupyter": {
     "outputs_hidden": true
    },
    "scrolled": true
   },
   "outputs": [
    {
     "data": {
      "text/plain": [
       "{'train_prompt': '\\n<|begin_of_text|>\\n<|start_header_id|>system<|end_header_id|>\\n\\n# Instruction\\n당신은 금융 뉴스의 핵심 내용을 요약해 설명하고, 뉴스가 특정 상장 종목에 미치는 긍정/부정 영향 여부, 이유, 근거 등을 분석하는 금융 분석 전문가입니다.\\n사용자에 의해 입력된 뉴스 기사를 분석해서 **한국에 상장된 주식 종목에 영향을 주는지 판단**하고, Output Indicator에 제시된 기준에 따라 구조화된 JSON 형식으로 결과를 출력하세요.\\n\\n## 분석 기준\\n1. 뉴스가 **한국 주식 종목에 영향을 주는지 판단**하세요.\\n2. 영향을 준다면 다음 항목을 출력하세요.\\n   - `\"is_stock_related\": true`\\n   - 뉴스에 **긍정적** 영향을 받는 **회사이름들**\\n   - 뉴스에 **부정적** 영향을 받는 **회사이름들**\\n   - 뉴스가 각 회사에 **긍정적 또는 부정적 영향을 주는지 이유**\\n     - 반드시 **뉴스기사에 언급된 내용 기반으로 작성한다.** 뉴스기사에 없는 내용을 꾸며서 임의로로 작성하지 않습니다.\\n     - `None`, 유추, 추정, 일반 논평 금지합니다.\\n   - 뉴스 요약 (3줄 이내)\\n3. 뉴스가 한국 주식 종목에 영향을 주지 않는다면 다음 항목을 출력하세요.\\n   - `\"is_stock_related\": false`\\n   - 뉴스 요약 (3줄 이내)\\n\\n# 출력 지시사항 (Output Indicator)\\nThe output should be formatted as a JSON instance that conforms to the JSON schema below.\\n\\nAs an example, for the schema {\"properties\": {\"foo\": {\"title\": \"Foo\", \"description\": \"a list of strings\", \"type\": \"array\", \"items\": {\"type\": \"string\"}}}, \"required\": [\"foo\"]}\\nthe object {\"foo\": [\"bar\", \"baz\"]} is a well-formatted instance of the schema. The object {\"properties\": {\"foo\": [\"bar\", \"baz\"]}} is not well-formatted.\\n\\nHere is the output schema:\\n```\\n{\"properties\": {\"is_stock_related\": {\"description\": \"한국 주식과 관련있는 뉴스인지 여부\", \"title\": \"Is Stock Related\", \"type\": \"boolean\"}, \"positive_stocks\": {\"description\": \"뉴스기사에 긍정적인 영향을 받는 회사들의 이름들.\", \"items\": {\"type\": \"string\"}, \"title\": \"Positive Stocks\", \"type\": \"array\"}, \"positive_reason\": {\"description\": \"뉴스내용 중 positive_stocks에 있는 각 회사들에 긍정적 영향을 주는 내용. {\"회사이름\":\"긍정적인 이유\"}\", \"items\": {\"additionalProperties\": {\"type\": \"string\"}, \"type\": \"object\"}, \"title\": \"Positive Reason\", \"type\": \"array\"}, \"negative_stocks\": {\"description\": \"뉴스기사에 부정적인 영향을 받는 회사들의 이름들.\", \"items\": {\"type\": \"string\"}, \"title\": \"Negative Stocks\", \"type\": \"array\"}, \"negative_reason\": {\"description\": \"뉴스내용 중 negative_stocks에 있는 각 회사들에 부정적 영향을 주는 내용. {\"회사이름\":\"부정적인 이유\"}\", \"items\": {\"additionalProperties\": {\"type\": \"string\"}, \"type\": \"object\"}, \"title\": \"Negative Reason\", \"type\": \"array\"}, \"summary\": {\"description\": \"뉴스기사 요약\", \"title\": \"Summary\", \"type\": \"string\"}}, \"required\": [\"is_stock_related\", \"positive_stocks\", \"positive_reason\", \"negative_stocks\", \"negative_reason\", \"summary\"]}\\n```\\n\\n## 출력 조건:\\n- 뉴스에 영향을 받은 회사들은 **반드시 한국 증시에 상장된 종목** 이어야 합니다.\\n- 뉴스에 있는 내용만 출력결과에 포함시킵니다.\\n- 긍정/부정 종목은 실제 뉴스기사에 영향을 받는 회사들만 포함하세요.\\n- 모든 문자열은 큰따옴표(`\"`)로 감쌉니다.\\n- 문자열 안에 따옴표가 필요하면 작은따옴표(`\\'`)를 사용합니다.\\n- 모든 키(Key)는 출력 지시사항에 명시된 property들과 정확히 일치해야 합니다.\\n- `\"positive_reasons\"` 및 `\"negative_reasons\"`의 값은 `None`이 될 수 없습니다.\\n- json format을 잘 지켜 응답데이터를 만듭니다. 배열이나 object의 마지막 항목 뒤에 `,` 를 붙이지 마세요.\\n- 오직 유효한 JSON 문자열(UTF-8, RFC8259 준수)만 출력합니다.\\n- 절대 다른 텍스트, 주석, 설명, 코드 블록 표기(```), 또는 따옴표 외의 문자열을 추가하면 안 됩니다.\\n\\n## 출력 예시 (Examples)\\n\\n### 뉴스가 특정 주식종목들에 **긍정적 영향이 주는 경우**:\\n{\\'is_stock_related\\': True,\\n \\'negative_reasons\\': [],\\n \\'negative_stocks\\': [],\\n \\'positive_reasons\\': [{\\'세라젬\\': \\'루게릭병 환우 지원 캠페인 후원과 의료가전 지원 등 사회공헌활동을 통해 기업 이미지와 브랜드 가치가 긍정적으로 부각됨\\'}],\\n \\'positive_stocks\\': [\\'세라젬\\'],\\n \\'summary\\': \\'세라젬이 루게릭병 환우를 위한 아이스버킷 챌린지 런 행사를 후원하며 의료가전과 건강기능식품 등을 지원했다. 캠페인은 루게릭병 환우 지원과 기부 문화 확산을 목표로 한다. 세라젬은 다양한 사회공헌활동을 지속하고 있다.\\'\\n}\\n\\n### 뉴스의 내용이 특정 주식종목들에 **부정적 영향이 주는 경우**:\\n{\\n    \"is_stock_related\": true,\\n    \"positive_stocks\": [],\\n    \"positive_reasons\": [],\\n    \"negative_stocks\": [\\n        \"포스코\",\\n        \"현대제철\"\\n    ],\\n    \"negative_reasons\": [\\n        {\"포스코\": \"정부가 수입규제국 조사에 적극 대응하고 비관세장벽 해소를 위해 민관 협력 강화 방침을 밝혀 철강 분야에서 수출 피해 최소화 기대\"},\\n        {\"현대제철\": \"철강·금속 품목에 대한 수입규제 대응 강화로 불합리한 무역제한 조치 개선 가능성이 높아져 수출 환경 개선 기대\"}\\n    ],\\n    \"summary\": \"산업부는 수입 규제국의 조사에 대응하고 비관세장벽 해소를 위한 협의를 진행했다. 규제 대상 국가는 26개국, 건수는 199건에 달한다.\"\\n}\\n\\n### **뉴스기사가 주식 종목과 관련 없는 경우**:\\n{\\n    \"is_stock_related\": false,\\n    \"positive_stocks\": [],\\n    \"positive_reasons\": [],\\n    \"negative_stocks\": [],\\n    \"negative_reasons\": [],\\n    \"summary\": \"정황근 농림축산식품부 장관이 단순가공식품 부가가치세 면제 시행 상황을 점검했다. 된장, 고추장 코너를 방문하며 현장을 살폈다.\"\\n}<|eot_id|>\\n<|start_header_id|>user<|end_header_id|>\\n대법 에스모 주가조작범 징역12년… 일부무죄에도 감형 못받아\\n코스닥 상장사 에스모 머티리얼즈의 주가를 조작해 부당 이득을 챙긴 주범이 파기환송심에서도 징역 12년형을 선고받았습니다. 서울고법은 오늘 6일 자본시장법 위반 등 혐의로 기소된 이모씨의 파기환송심에서 징역 12년형과 벌금 300억원을 선고했습니다. 파기환송 전 2심 재판부가 이씨에게 선고했던 것과 같은 형량입니다. 함께 기소된 공범 강모씨도 파기환송 전 2심과 마찬가지로 징역 6년형과 벌금 5억원이 선고됐습니다.<|eot_id|>\\n<|start_header_id|>assistant<|end_header_id|>\\n{\\'is_stock_related\\': True, \\'positive_stocks\\': [], \\'positive_reason\\': [], \\'negative_stocks\\': [\\'에스모 머티리얼즈\\'], \\'negative_reason\\': [{\\'에스모 머티리얼즈\\': \\'주가 조작 사건으로 인해 주범과 공범이 중형을 선고받으면서 투자자 신뢰에 악영향을 줄 수 있음\\'}], \\'summary\\': \\'코스닥 상장사 에스모 머티리얼즈의 주가를 조작한 주범이 파기환송심에서도 징역 12년과 벌금 300억원을 선고받았다. 공범도 중형을 선고받았다. 실형은 기존 판결과 동일하게 유지됐다.\\'}<|eot_id|>'}"
      ]
     },
     "execution_count": 50,
     "metadata": {},
     "output_type": "execute_result"
    }
   ],
   "source": [
    "prompt_creator.create_train_prompt(train_set[0])"
   ]
  },
  {
   "cell_type": "markdown",
   "id": "5addeaa7",
   "metadata": {},
   "source": [
    "### InputPromptCreator.create_train_prompt()를 이용해 입력 프롬프트 만들기"
   ]
  },
  {
   "cell_type": "code",
   "execution_count": 51,
   "id": "e139e878-8fff-43ce-8977-ba0ef7ab5190",
   "metadata": {},
   "outputs": [
    {
     "data": {
      "text/plain": [
       "Dataset({\n",
       "    features: ['date', 'category', 'press', 'title', 'document', 'link', 'summary', 'label'],\n",
       "    num_rows: 90\n",
       "})"
      ]
     },
     "execution_count": 51,
     "metadata": {},
     "output_type": "execute_result"
    }
   ],
   "source": [
    "train_set"
   ]
  },
  {
   "cell_type": "code",
   "execution_count": 19,
   "id": "68b3ac1b",
   "metadata": {},
   "outputs": [
    {
     "data": {
      "application/vnd.jupyter.widget-view+json": {
       "model_id": "079f0fbe5cf945de8ec50fc3d33fbefc",
       "version_major": 2,
       "version_minor": 0
      },
      "text/plain": [
       "Map:   0%|          | 0/90 [00:00<?, ? examples/s]"
      ]
     },
     "metadata": {},
     "output_type": "display_data"
    },
    {
     "data": {
      "text/plain": [
       "Dataset({\n",
       "    features: ['train_prompt'],\n",
       "    num_rows: 90\n",
       "})"
      ]
     },
     "execution_count": 19,
     "metadata": {},
     "output_type": "execute_result"
    }
   ],
   "source": [
    "##########################\n",
    "# Trainset\n",
    "##########################\n",
    "\n",
    "llama_input_creator = InputPromptCreator(tokenizer)\n",
    "# Dataset.map(함수) -> 개별 데이터를 함수에 전달. \n",
    "#   함수의 반환값({feature이름:값})을 Dataset에 추가. \n",
    "trainset = train_set.map(llama_input_creator.create_train_prompt, remove_columns=list(train_set.features))\n",
    "trainset"
   ]
  },
  {
   "cell_type": "code",
   "execution_count": 20,
   "id": "09653c2a-77be-4a72-9e6f-b72ef8812069",
   "metadata": {},
   "outputs": [
    {
     "data": {
      "application/vnd.jupyter.widget-view+json": {
       "model_id": "a8bee0f7d27f405b848fe6ef0469922d",
       "version_major": 2,
       "version_minor": 0
      },
      "text/plain": [
       "Map:   0%|          | 0/10 [00:00<?, ? examples/s]"
      ]
     },
     "metadata": {},
     "output_type": "display_data"
    },
    {
     "data": {
      "text/plain": [
       "Dataset({\n",
       "    features: ['train_prompt'],\n",
       "    num_rows: 10\n",
       "})"
      ]
     },
     "execution_count": 20,
     "metadata": {},
     "output_type": "execute_result"
    }
   ],
   "source": [
    "### # Testset\n",
    "##########################\n",
    "\n",
    "testset = test_set.map(llama_input_creator.create_train_prompt, remove_columns=list(test_set.features))\n",
    "testset"
   ]
  },
  {
   "cell_type": "markdown",
   "id": "801263cf-ac85-4e26-9fc6-dbd057552905",
   "metadata": {},
   "source": [
    "## 파인튜닝\n",
    "\n",
    "### Data Collator\n",
    "\n",
    "- 학습 도중 입력 데이터를 받아 전처리하는 함수\n",
    "  - Dataset -> Data Collator함수 -> 모델\n",
    "    - 데이터셋에서 모델에 전달되는 batch를 받아서 모델에 입력전에 해야하는 처리를 담당하는 함수(Callable).\n",
    "\n",
    "- 구현할 내용\n",
    "  - 모델 chat 형식의 문자열을 transformers 모델에 입력하기 위한 inputs를 만든다.\n",
    "    \n",
    "  ```json\n",
    "  {\n",
    "  \"input_ids\":입력 sequence의 토큰 ID들,\n",
    "  \"attention_mask\":입력토큰과 padding구분,\n",
    "  \"labels\": input_ids에서 답변부분 masking. 답변은 토큰ID 나머지는 -100으로 채운다. \n",
    "  }\n",
    "  ```"
   ]
  },
  {
   "cell_type": "code",
   "execution_count": 56,
   "id": "0bc43b21-c0ea-4abf-97f2-4b4fbb852a24",
   "metadata": {},
   "outputs": [
    {
     "data": {
      "text/plain": [
       "[128000, 128006, 78191, 128007, 198]"
      ]
     },
     "execution_count": 56,
     "metadata": {},
     "output_type": "execute_result"
    }
   ],
   "source": [
    "tokenizer.encode(\"<|start_header_id|>assistant<|end_header_id|>\\n\")\n",
    "[128000, 128006, 78191, 128007, 198]"
   ]
  },
  {
   "cell_type": "code",
   "execution_count": 21,
   "id": "fdea864d",
   "metadata": {},
   "outputs": [],
   "source": [
    "import torch\n",
    "\n",
    "max_seq_length = 8192\n",
    "\n",
    "def collate_fn(batch):\n",
    "    # batch: list[dict]\n",
    "    #  dict - {\"train_prompt\":input text}\n",
    "    new_batch = {\n",
    "        \"input_ids\": [],\n",
    "        \"attention_mask\": [],\n",
    "        \"labels\": []\n",
    "    }\n",
    "    \n",
    "    for prompt in batch:\n",
    "        \n",
    "        text = prompt['train_prompt'].strip()\n",
    "        \n",
    "        tokenized = tokenizer(\n",
    "            text,\n",
    "            truncation=True,\n",
    "            max_length=max_seq_length, # max_length이하는 자른다. truncation=True\n",
    "            padding=False,             # padding은 뒤에서 수동으로 처리할 것이기 때문에 padding처리하지 않는다.\n",
    "            return_tensors=None,  # list로 반환.\n",
    "        )\n",
    "\n",
    "        input_ids = tokenized[\"input_ids\"]\n",
    "        attention_mask = tokenized[\"attention_mask\"]\n",
    "        labels = [-100] * len(input_ids) #모델 응답 부분만 label로 지정: input_ids에서 \"system/user 프롬프트는 -100\", \"label은 실제 토큰값\" 으로 masking한다. 그것을 위해서 input_ids와 동일한 크기의 -100으로 채워진 리스트 생성한다.\n",
    "                                         # -100인 이유: PyTorch의 CrossEntropyLoss(ignore_index=-100)가 loss계산시 무시하는 값이다.\n",
    "\n",
    "        ########################################################\n",
    "        # chat prompt에서 답변 부분을 찾아서 labels를 구성한다. \n",
    "        ########################################################\n",
    "        assistant_header = \"<|start_header_id|>assistant<|end_header_id|>\\n\"\n",
    "        assistant_tokens = tokenizer.encode(assistant_header, add_special_tokens=False)  # assistant_header 토큰 index로 변환\n",
    "\n",
    "        eot_token = \"<|eot_id|>\"\n",
    "        eot_tokens = tokenizer.encode(eot_token, add_special_tokens=False)\n",
    "\n",
    "        i = 0\n",
    "        while i <= len(input_ids) - len(assistant_tokens):\n",
    "            if input_ids[i:i + len(assistant_tokens)] == assistant_tokens:\n",
    "                start = i + len(assistant_tokens)\n",
    "                end = start\n",
    "                while end <= len(input_ids) - len(eot_tokens):\n",
    "                    if input_ids[end:end + len(eot_tokens)] == eot_tokens:\n",
    "                        break\n",
    "                    end += 1\n",
    "                for j in range(start, end): # assistant 토큰(정답) 을 -100에서 정답토큰값으로 변환.\n",
    "                    labels[j] = input_ids[j]\n",
    "                for j in range(end, end + len(eot_tokens)): # eot 토큰을 다시 -100으로 변환\n",
    "                    labels[j] = input_ids[j]\n",
    "                break\n",
    "            i += 1\n",
    "        \n",
    "        ##################################################################\n",
    "        # 생성된 input_ids, attention_mask, labels를 new_batch에 추가한다.\n",
    "        ##################################################################\n",
    "        new_batch[\"input_ids\"].append(input_ids)\n",
    "        new_batch[\"attention_mask\"].append(attention_mask)\n",
    "        new_batch[\"labels\"].append(labels)\n",
    "    \n",
    "\n",
    "    ######################################################\n",
    "    #  패딩 처리 \n",
    "    #  -  배치내 입력중 가장 긴 sample에 길이를 맞춘다.\n",
    "    ######################################################\n",
    "    max_length = max(len(ids) for ids in new_batch[\"input_ids\"])            \n",
    "    for i in range(len(new_batch[\"input_ids\"])):\n",
    "        pad_len = max_length - len(new_batch[\"input_ids\"][i]) \n",
    "        new_batch[\"input_ids\"][i].extend([tokenizer.pad_token_id] * pad_len)\n",
    "        new_batch[\"attention_mask\"][i].extend([0] * pad_len)\n",
    "        new_batch[\"labels\"][i].extend([-100] * pad_len)\n",
    "\n",
    "    # list -> torch.Tensor로 변환.\n",
    "    for k in new_batch:\n",
    "        new_batch[k] = torch.tensor(new_batch[k])\n",
    "\n",
    "    return new_batch"
   ]
  },
  {
   "cell_type": "code",
   "execution_count": 22,
   "id": "1c284a5e-ca60-4df7-93d1-1539f407e212",
   "metadata": {},
   "outputs": [
    {
     "name": "stdout",
     "output_type": "stream",
     "text": [
      "batch:\n",
      "input_ids 크기: torch.Size([3, 2582])\n",
      "attention_mask 크기: torch.Size([3, 2582])\n",
      "labels 크기: torch.Size([3, 2582])\n"
     ]
    }
   ],
   "source": [
    "######################\n",
    "# 확인\n",
    "######################\n",
    "example = [trainset[11], trainset[2], trainset[3]]\n",
    "batch = collate_fn(example)\n",
    "\n",
    "print(\"batch:\")\n",
    "print(\"input_ids 크기:\", batch[\"input_ids\"].shape)\n",
    "print(\"attention_mask 크기:\", batch[\"attention_mask\"].shape)\n",
    "print(\"labels 크기:\", batch[\"labels\"].shape)"
   ]
  },
  {
   "cell_type": "markdown",
   "id": "89da2145",
   "metadata": {},
   "source": [
    "## SFTConfig 설정\n",
    "\n",
    "### LoRA 설정\n",
    "\n",
    "- LoRAConfig 주요 매개변수\n",
    "\n",
    "| 매개변수                | 의미/역할                                         | 주요 옵션·예시                                                                                                             |\n",
    "| ------------------- | --------------------------------------------- | -------------------------------------------------------------------------------------------------------------------- |\n",
    "| **lora\\_alpha**     | LoRA 어댑터의 학습 스케일 팩터(변화 강도). 값이 크면 학습 변화가 완만해짐 | 16, 32, 64 등                                                                                                         |\n",
    "| **lora\\_dropout**   | 어댑터에만 적용되는 드롭아웃 확률. 과적합 방지                    | 0.05, 0.1 등                                                                                                          |\n",
    "| **r**               | LoRA 어댑터의 랭크(정보량/두께). 값이 크면 더 많은 정보, 메모리 사용↑  | 8, 16, 32 등                                                                                                          |\n",
    "| **bias**            | 기존 모델의 bias 파라미터도 LoRA로 튜닝할지 여부               | \"none\"(권장), \"all\"                                                                                                    |\n",
    "| **target\\_modules** | LoRA를 어떤 레이어(부분)에 적용할지 지정                     | \"q\\_proj\", \"v\\_proj\", \"o\\_proj\", \"up\\_proj\" 등<br>(모델 구조에 따라 다름)                                                      |\n",
    "| **task\\_type**      | LoRA가 적용될 문제 유형(파인튜닝 목적)                      | \"CAUSAL\\_LM\"(생성), \"SEQ\\_CLS\"(분류),<br>\"SEQ\\_2\\_SEQ\\_LM\"(번역/요약),<br>\"TOKEN\\_CLS\"(토큰분류),<br>\"QUESTION\\_ANSWERING\"(질의응답) |"
   ]
  },
  {
   "cell_type": "code",
   "execution_count": 23,
   "id": "2266ebe9-d3ce-4fed-956b-6a830acfe0a8",
   "metadata": {},
   "outputs": [],
   "source": [
    "###############################\n",
    "# Peft(LoRA) 어뎁터 설정\n",
    "###############################\n",
    "\n",
    "from peft import LoraConfig\n",
    "from trl import SFTConfig\n",
    "\n",
    "peft_config = LoraConfig(\n",
    "        r=8,\n",
    "        lora_alpha=32,   # r X 4 로 보통 지정.  \n",
    "        lora_dropout=0.1, # 0.1, 0.05\n",
    "        bias=\"none\",\n",
    "        target_modules=[\"q_proj\", \"v_proj\"], # self-attn: query, value 에 LoRA Adapter를 붙인다.\n",
    "        task_type=\"CAUSAL_LM\",\n",
    ")"
   ]
  },
  {
   "cell_type": "markdown",
   "id": "f2068ea4",
   "metadata": {},
   "source": [
    "### SFTConfig 설정\n",
    "- 전체 학습관련 설정\n",
    "\n",
    "### SFTConfig 주요 매개변수\n",
    "\n",
    "| 매개변수                                | 설명                                                  | 주요 예시 값/옵션                       |\n",
    "| ----------------------------------- | --------------------------------------------------- | ---------------------------------------       |\n",
    "| **output\\_dir**                     | 결과 모델/로그를 저장할 경로 또는 저장소 ID                          | `\"./results\"`                |\n",
    "| **num\\_train\\_epochs**              | 전체 데이터를 몇 번 반복 학습할지(에포크 수)                          | `3`, `5`                    |\n",
    "| **per\\_device\\_train\\_batch\\_size** | 각 GPU(디바이스)에서 한 번에 입력할 데이터 수(배치 크기)                 | `2`, `4`, `8`            |\n",
    "| **gradient\\_accumulation\\_steps**   | 여러 미니배치를 모아 한 번에 업데이트(실질 배치 크기 키우기)                 | `1`, `2`, `4`        |\n",
    "| **gradient\\_checkpointing**         | 메모리 절약 기능(필요할 때만 중간 계산값 저장)                         | `True`, `False`            |\n",
    "| **optim**                           | 최적화 알고리즘(학습 방법)                                     | `\"adamw_torch_fused\"`              |\n",
    "| **logging\\_steps**                  | 몇 step마다 로그를 출력할지                                   | `10`, `50`, `100`                   |\n",
    "| **save\\_strategy**                  | 모델 저장 방식(주기)                                        | `\"steps\"`, `\"epoch\"`                  |\n",
    "| **save\\_steps**                     | 몇 step마다 모델을 저장할지                                   | `50`, `100`                         |\n",
    "| **bf16**                            | bfloat16 연산 사용(GPU 메모리 절약)                          | `True`, `False`                      |\n",
    "| **learning\\_rate**                  | 파라미터 업데이트 속도(학습률)                                   | `1e-4`, `5e-5`                   |\n",
    "| **max\\_grad\\_norm**                 | 그래디언트 클리핑 임계값(학습 안정화)                               | `0.3`, `1.0`                  |\n",
    "| **warmup\\_ratio**                   | 워밍업 단계 비율(초기 학습률 천천히 증가)                            | `0.03`, `0.1`                |\n",
    "| **lr\\_scheduler\\_type**             | 학습률 조정 방식                                           | `\"constant\"`, `\"linear\"`               |\n",
    "| **push\\_to\\_hub**                   | 학습 결과를 Hugging Face Hub로 업로드할지 여부                   | `True`, `False`                  |\n",
    "| **hub\\_model\\_id**                  | 업로드할 Hugging Face Hub 저장소 ID                        |                                        |\n",
    "| **hub\\_token**                      | Hugging Face Hub 인증 토큰 사용 여부                        | `True`                                 |\n",
    "| **remove\\_unused\\_columns**         | 학습에 안 쓰는 데이터 컬럼 자동 제거 여부                            | `True`, `False`               |\n",
    "| **dataset\\_kwargs**                 | 데이터셋 추가 옵션(딕셔너리 형태)                                 | `{\"skip_prepare_dataset\": True}` |\n",
    "| **report\\_to**                      | 학습 로그를 기록할 대상(예: wandb, tensorboard, 빈 리스트면 기록 안 함) | `None`, `[\"wandb\"]`        |\n",
    "| **max\\_seq\\_length**                | 한 입력에 허용되는 최대 토큰(단어) 수                              | `2048`, `4096`, `8192`          |\n",
    "| **label\\_names**                    | Trainer가 label로 인식할 컬럼명                             | `[\"labels\"]`                           |\n"
   ]
  },
  {
   "cell_type": "code",
   "execution_count": 24,
   "id": "d5ae4257-f495-4a5a-a7e6-852455deb61b",
   "metadata": {},
   "outputs": [
    {
     "name": "stderr",
     "output_type": "stream",
     "text": [
      "average_tokens_across_devices is set to True but it is invalid when world size is1. Turn it to False automatically.\n"
     ]
    }
   ],
   "source": [
    "epochs = 10\n",
    "\n",
    "model_id = \"kanana-1.5-2.1b-instruct-2505-finace_news-finetuning-100\"\n",
    "args = SFTConfig(\n",
    "    output_dir=model_id,\n",
    "    num_train_epochs=epochs,\n",
    "    per_device_train_batch_size=2,\n",
    "    gradient_accumulation_steps=4, \n",
    "    gradient_checkpointing=True,\n",
    "    optim=\"adamw_torch_fused\", \n",
    "    logging_steps=20,\n",
    "    save_strategy=\"steps\",\n",
    "    save_steps=50,\n",
    "    bf16=True,\n",
    "    learning_rate=1e-4,\n",
    "    max_grad_norm=0.3, \n",
    "    warmup_ratio=0.03,\n",
    "    lr_scheduler_type=\"constant\",\n",
    "    \n",
    "    push_to_hub=True,\n",
    "    hub_model_id=f\"kgmyh/{model_id}\",\n",
    "    hub_token=True,\n",
    "    \n",
    "    remove_unused_columns=False,\n",
    "    dataset_kwargs={\"skip_prepare_dataset\": True},\n",
    "    max_seq_length=max_seq_length,\n",
    "    label_names=[\"labels\"],\n",
    "    report_to=None\n",
    ")"
   ]
  },
  {
   "cell_type": "markdown",
   "id": "53cc5ff1-ea33-4ef2-a1dc-a6efd97cbbe4",
   "metadata": {},
   "source": [
    "## 학습하기"
   ]
  },
  {
   "cell_type": "code",
   "execution_count": 25,
   "id": "fe99cff0-d149-4ed5-8e8d-b62642165aff",
   "metadata": {
    "scrolled": true
   },
   "outputs": [],
   "source": [
    "from trl import SFTTrainer\n",
    "\n",
    "trainer = SFTTrainer(\n",
    "    model=model,\n",
    "    args=args,\n",
    "    train_dataset=trainset,\n",
    "    data_collator=collate_fn,\n",
    "    peft_config=peft_config\n",
    ")"
   ]
  },
  {
   "cell_type": "code",
   "execution_count": 26,
   "id": "31b610a8-79e8-4dfe-ab1d-fe66c5aace1c",
   "metadata": {},
   "outputs": [
    {
     "name": "stderr",
     "output_type": "stream",
     "text": [
      "`use_cache=True` is incompatible with gradient checkpointing. Setting `use_cache=False`.\n"
     ]
    },
    {
     "data": {
      "text/html": [
       "\n",
       "    <div>\n",
       "      \n",
       "      <progress value='120' max='120' style='width:300px; height:20px; vertical-align: middle;'></progress>\n",
       "      [120/120 15:00, Epoch 10/10]\n",
       "    </div>\n",
       "    <table border=\"1\" class=\"dataframe\">\n",
       "  <thead>\n",
       " <tr style=\"text-align: left;\">\n",
       "      <th>Step</th>\n",
       "      <th>Training Loss</th>\n",
       "    </tr>\n",
       "  </thead>\n",
       "  <tbody>\n",
       "    <tr>\n",
       "      <td>20</td>\n",
       "      <td>0.721000</td>\n",
       "    </tr>\n",
       "    <tr>\n",
       "      <td>40</td>\n",
       "      <td>0.569600</td>\n",
       "    </tr>\n",
       "    <tr>\n",
       "      <td>60</td>\n",
       "      <td>0.478100</td>\n",
       "    </tr>\n",
       "    <tr>\n",
       "      <td>80</td>\n",
       "      <td>0.389100</td>\n",
       "    </tr>\n",
       "    <tr>\n",
       "      <td>100</td>\n",
       "      <td>0.270000</td>\n",
       "    </tr>\n",
       "    <tr>\n",
       "      <td>120</td>\n",
       "      <td>0.215700</td>\n",
       "    </tr>\n",
       "  </tbody>\n",
       "</table><p>"
      ],
      "text/plain": [
       "<IPython.core.display.HTML object>"
      ]
     },
     "metadata": {},
     "output_type": "display_data"
    },
    {
     "data": {
      "text/plain": [
       "TrainOutput(global_step=120, training_loss=0.44059969584147135, metrics={'train_runtime': 907.9757, 'train_samples_per_second': 0.991, 'train_steps_per_second': 0.132, 'total_flos': 2.7941027672024064e+16, 'train_loss': 0.44059969584147135})"
      ]
     },
     "execution_count": 26,
     "metadata": {},
     "output_type": "execute_result"
    }
   ],
   "source": [
    "#############################\n",
    "#  학습 시작\n",
    "#############################\n",
    "trainer.train()"
   ]
  },
  {
   "cell_type": "code",
   "execution_count": null,
   "id": "220591cc-a64b-417e-a799-c95591887802",
   "metadata": {},
   "outputs": [],
   "source": [
    "#############################\n",
    "# 모델 저장\n",
    "#############################\n",
    "trainer.save_model()"
   ]
  },
  {
   "cell_type": "code",
   "execution_count": 27,
   "id": "6213488a-a572-4518-a099-441df4801a5b",
   "metadata": {},
   "outputs": [
    {
     "name": "stderr",
     "output_type": "stream",
     "text": [
      "No files have been modified since last commit. Skipping to prevent empty commit.\n"
     ]
    },
    {
     "data": {
      "application/vnd.jupyter.widget-view+json": {
       "model_id": "e4a4a74c884740528661e54825c725c7",
       "version_major": 2,
       "version_minor": 0
      },
      "text/plain": [
       "README.md:   0%|          | 0.00/1.64k [00:00<?, ?B/s]"
      ]
     },
     "metadata": {},
     "output_type": "display_data"
    },
    {
     "name": "stderr",
     "output_type": "stream",
     "text": [
      "No files have been modified since last commit. Skipping to prevent empty commit.\n"
     ]
    },
    {
     "data": {
      "text/plain": [
       "CommitInfo(commit_url='https://huggingface.co/kgmyh/kanana-1.5-2.1b-instruct-2505-finace_news-finetuning/commit/d3330ee6ca9f9e07d100540f5dea4330ed193fc6', commit_message='Upload tokenizer', commit_description='', oid='d3330ee6ca9f9e07d100540f5dea4330ed193fc6', pr_url=None, repo_url=RepoUrl('https://huggingface.co/kgmyh/kanana-1.5-2.1b-instruct-2505-finace_news-finetuning', endpoint='https://huggingface.co', repo_type='model', repo_id='kgmyh/kanana-1.5-2.1b-instruct-2505-finace_news-finetuning'), pr_revision=None, pr_num=None)"
      ]
     },
     "execution_count": 27,
     "metadata": {},
     "output_type": "execute_result"
    }
   ],
   "source": [
    "####################################################################################################################\n",
    "#  수동으로 huggingface hub에 올리기\n",
    "#  - 모델과 토크나이저를 같이 올린다.\n",
    "#  - 학습도중 업로드되도록 했어도 토크나이저는 upload 되지 않기 때문에 수동으로 올려준다.\n",
    "####################################################################################################################\n",
    "trainer.push_to_hub()\n",
    "tokenizer.push_to_hub(\"kanana-1.5-2.1b-instruct-2505-finace_news-finetuning\")"
   ]
  },
  {
   "cell_type": "code",
   "execution_count": null,
   "id": "553003cb-32b3-4163-868a-f88feab8548f",
   "metadata": {},
   "outputs": [],
   "source": []
  },
  {
   "cell_type": "markdown",
   "id": "d1a78dac-8258-41f6-9e1a-b049ca8f0ba9",
   "metadata": {},
   "source": [
    "# 테스트"
   ]
  },
  {
   "cell_type": "markdown",
   "id": "75d7ab74",
   "metadata": {},
   "source": [
    "## LoRA 파인튜닝 모델 사용법\n",
    "\n",
    "- 위 과정에서 LoRA(Low-Rank Adaptation) 어댑터를 파인튜닝하여 Hugging Face Hub에 업로드한 상태\n",
    "- LoRA는 전체 모델을 학습하는 대신 작은 어댑터만 학습하는 효율적인 방법\n",
    "\n",
    "- **사용 시 필요한 구성 요소**\n",
    "    - Base Model (기본 모델)\n",
    "    - LoRA Adapter (파인튜닝된 어댑터)\n",
    "    - 이 둘을 merge해서 사용한다. \n",
    "- **사용 방법 2가지**\n",
    "    1. **개별 로드 후 병합**\n",
    "        - 기본 모델과 LoRA 어댑터를 각각 다운로드\n",
    "        - 런타임에서 두 구성 요소를 병합하여 사용\n",
    "\n",
    "    2. **병합된 모델 직접 사용**\n",
    "        - 미리 병합된 상태의 모델을 다운로드\n",
    "        - 바로 사용 가능\n",
    "    - 첫 번째 방법은 메모리 효율성과 유연성을 제공하고, 두 번째 방법은 사용 편의성을 제공합니다."
   ]
  },
  {
   "cell_type": "code",
   "execution_count": 28,
   "id": "02062bf9",
   "metadata": {},
   "outputs": [
    {
     "data": {
      "application/vnd.jupyter.widget-view+json": {
       "model_id": "8c0c8e2b04d04bf8b00ddf0ad24f3120",
       "version_major": 2,
       "version_minor": 0
      },
      "text/plain": [
       "adapter_config.json:   0%|          | 0.00/793 [00:00<?, ?B/s]"
      ]
     },
     "metadata": {},
     "output_type": "display_data"
    },
    {
     "data": {
      "application/vnd.jupyter.widget-view+json": {
       "model_id": "e55a357dca2c47ad905117a15d3008fb",
       "version_major": 2,
       "version_minor": 0
      },
      "text/plain": [
       "adapter_model.safetensors:   0%|          | 0.00/7.88M [00:00<?, ?B/s]"
      ]
     },
     "metadata": {},
     "output_type": "display_data"
    },
    {
     "name": "stderr",
     "output_type": "stream",
     "text": [
      "Device set to use cuda:0\n"
     ]
    }
   ],
   "source": [
    "from transformers import AutoModelForCausalLM, AutoTokenizer, pipeline\n",
    "from peft import PeftModel\n",
    "\n",
    "base_model_id = \"kakaocorp/kanana-1.5-2.1b-instruct-2505\"\n",
    "lora_model_id = \"kgmyh/kanana-1.5-2.1b-instruct-2505-finace_news-finetuning\"  # 1500 개 데이터 학습\n",
    "\n",
    "\n",
    "tokenizer = AutoTokenizer.from_pretrained(base_model_id)\n",
    "llama_input_creator = InputPromptCreator(tokenizer)\n",
    "\n",
    "base_model = AutoModelForCausalLM.from_pretrained(\n",
    "    base_model_id,\n",
    "    device_map=\"auto\",\n",
    "    torch_dtype=torch.bfloat16\n",
    ")\n",
    "\n",
    "model = PeftModel.from_pretrained(base_model, lora_model_id) # base모델, LoRA경로 => base모델에 LoRA adapter를 추가한 모델을 반환.\n",
    "# merged_model = model.merge_and_unload() # 둘을 병합한 모델\n",
    "pipe = pipeline(task=\"text-generation\", model=model, tokenizer=tokenizer)"
   ]
  },
  {
   "cell_type": "code",
   "execution_count": 29,
   "id": "b7af557b",
   "metadata": {},
   "outputs": [],
   "source": [
    "news_title = \"\\\"분위기 좀 좋아지나 했는데...\\\" 삼성전자·SK하이닉스 또 애태운다\"\n",
    "news_document = \"\"\"미 도널드 트럼프 행정부가 중국 내 반도체 공장에 미국산 장비 반입을 제한하겠다는 입장을 전달한 것으로 알려졌는데 중국에 생산 기지를 둔 삼성전자와 SK하이닉스도 긴장하고 있다. 이대로라면 새 반도체 장비를 중국으로 들여올 때마다 미 정부 승인을 받아야 하기에 중국 공장 운영에 차질을 빚을 수 있다는 걱정이 나온다.\n",
    "22일 전자업계에 따르면 미 월스트리트저널(WSJ)은 20일 미 상무부가 대표적 메모리반도체 제조사인 삼성전자·SK하이닉스와 세계 파운드리(반도체 위탁생산) 1위 기업인 대만 TSMC에 미국서 만든 반도체 제조 장비의 중국에 공급할 때 줬던 '사전 허가 면제 조치'를 철회할 수 있다고 했다고 보도했다. 삼성전자와 SK하이닉스는 입장을 내놓지 않은 채 상황을 지켜보고 있다.\n",
    "2022년 조 바이든 미국 행정부는 미국산 장비의 중국 반입을 규제하는 조치를 발표했지만 삼성전자·하이닉스·TSMC 등이 운영하던 공장에는 2023년 검증된 최종 사용자(VEU) 자격을 줘 사실상 이 규제를 무기한 유예했다. 이 때문에 삼성전자와 하이닉스는 허가 없이도 장비를 중국에 들여보냈다. 새 방침은 확정된 것은 아니고 미국 정부 내에서도 의견이 엇갈린 것으로 전해졌다.\n",
    "VEU 자격 철폐설에 정부도 \"업계 우려 전달\"\n",
    "도널드 트럼프(왼쪽) 미국 대통령과 키어 스타머 영국 총리가 16일 캐나다 앨버타주 캐내내스키스에서 열린 주요 7개국(G7) 회의 도중 양국 간 무역협정 서명문을 들고 기념촬영을 하고 있다. 캐내내스키스=로이터 연합\n",
    "도널드 트럼프(왼쪽) 미국 대통령과 키어 스타머 영국 총리가 16일 캐나다 앨버타주 캐내내스키스에서 열린 주요 7개국(G7) 회의 도중 양국 간 무역협정 서명문을 들고 기념촬영을 하고 있다. 캐내내스키스=로이터 연합뉴스\n",
    "삼성전자는 중국 시안에 낸드플래시 메모리 공장이, 쑤저우에는 후공정(패키징) 공장이 있다. SK하이닉스는 우시에서 D램 공장, 충칭에서 후공정 공장, 다롄에서 인텔로부터 인수한 낸드플래시 공장을 가동 중이다. 트럼프 정부가 최첨단 극자외선(EUV) 노광 장비의 중국 내 반입은 VEU와 상관없이 통제하고 있어 이들 공장은 최신 제품보다 범용(레거시) 반도체 공급에 활용된다.\n",
    "업계에서는 실제 규제가 생기면 당장은 아니더라도 장기적으로는 공장 운영에 차질을 빚을 수 있다고 본다. 한 관계자는 \"공정을 점검하고 고장이 나면 새 장비를 들여야 한다\"면서 \"중국 공장 운영에 불확실성이 생기는 것\"이라고 설명했다.\n",
    "여한구 산업자원부 통상교섭본부장은 22일 미국 측과 관세 협상을 위해 출국을 앞두고 \"미 상무부와 무역대표부, 백악관 쪽과 접촉해 우리 업계의 우려 사항을 충분히 전달할 것\"이라며 \"건설적으로 협의해 나갈 부분이 있는지 최대한 신경 쓰겠다\"고 말했다.\"\"\"\n",
    "\n",
    "message = llama_input_creator.create_pipeline_prompt(news_title=news_title, news_document=news_document)"
   ]
  },
  {
   "cell_type": "code",
   "execution_count": 39,
   "id": "360cd3e5-1487-4990-9975-f677eb0af2ef",
   "metadata": {},
   "outputs": [],
   "source": [
    "news_title = \"가덕도신공항 사업조건 완화 가능성에 대형 건설사들 \\\"참여 검토\\\"\"\n",
    "news_document = \"\"\"[파이낸셜뉴스] 국토교통부가 오는 7월 중으로 가덕도신공항 부지조성 공사 선정을 위한 재입찰 공고를 준비하고 있는 가운데, 대형 건설사들이 내부적으로 사업 참여를 검토하고 있는 것으로 파악됐다.\n",
    "\n",
    "24일 건설업계에 따르면 롯데건설, 한화 건설부문, DL이앤씨 등 대형 건설사들은 가덕도신공항 부지조성 공사 참여를 검토하고 있다.\n",
    "\n",
    "건설사들은 공사기간 등 사업 조건 완화 가능성을 염두에 두고 참여를 검토하고 있다. 롯데건설 관계자는 \"참여가 결정된 것은 아니지만 내부 검토를 진행하고 있다\"고 말했다. 한화 건설부문도 조건이 완화될 가능성이 나오자 사업 참여를 긍정적으로 검토 중이다. DL이앤씨는 \"기초적인 수준에서 검토 중\"이라고 했다.\n",
    "\n",
    "가덕도신공항 부지조상 공사는 4차례 유찰 끝에 지난해 10월 현대건설 컨소시엄이 우선협상대상자로 선정됐다.\n",
    "\n",
    "그러나 현대건설은 지난 4월 공사기간을 84개월에서 108개월로 연장하고, 공사비도 1조원 증액해야 한다는 입장을 냈다. 이후 국토부가 이를 거부하며 현대건설은 지난달 30일 사업 포기 의사를 밝힌 바 있다.\"\"\"\n",
    "\n",
    "message = llama_input_creator.create_pipeline_prompt(news_title=news_title, news_document=news_document)"
   ]
  },
  {
   "cell_type": "code",
   "execution_count": 30,
   "id": "baa313bc-7cdf-4e1e-9c4f-de9e64c5e7fc",
   "metadata": {
    "collapsed": true,
    "jupyter": {
     "outputs_hidden": true
    },
    "scrolled": true
   },
   "outputs": [
    {
     "data": {
      "text/plain": [
       "[{'role': 'system',\n",
       "  'content': '\\n# Instruction\\n당신은 금융 뉴스의 핵심 내용을 요약해 설명하고, 뉴스가 특정 상장 종목에 미치는 긍정/부정 영향 여부, 이유, 근거 등을 분석하는 금융 분석 전문가입니다.\\n사용자에 의해 입력된 뉴스 기사를 분석해서 **한국에 상장된 주식 종목에 영향을 주는지 판단**하고, Output Indicator에 제시된 기준에 따라 구조화된 JSON 형식으로 결과를 출력하세요.\\n\\n## 분석 기준\\n1. 뉴스가 **한국 주식 종목에 영향을 주는지 판단**하세요.\\n2. 영향을 준다면 다음 항목을 출력하세요.\\n   - `\"is_stock_related\": true`\\n   - 뉴스에 **긍정적** 영향을 받는 **회사이름들**\\n   - 뉴스에 **부정적** 영향을 받는 **회사이름들**\\n   - 뉴스가 각 회사에 **긍정적 또는 부정적 영향을 주는지 이유**\\n     - 반드시 **뉴스기사에 언급된 내용 기반으로 작성한다.** 뉴스기사에 없는 내용을 꾸며서 임의로로 작성하지 않습니다.\\n     - `None`, 유추, 추정, 일반 논평 금지합니다.\\n   - 뉴스 요약 (3줄 이내)\\n3. 뉴스가 한국 주식 종목에 영향을 주지 않는다면 다음 항목을 출력하세요.\\n   - `\"is_stock_related\": false`\\n   - 뉴스 요약 (3줄 이내)\\n\\n# 출력 지시사항 (Output Indicator)\\nThe output should be formatted as a JSON instance that conforms to the JSON schema below.\\n\\nAs an example, for the schema {\"properties\": {\"foo\": {\"title\": \"Foo\", \"description\": \"a list of strings\", \"type\": \"array\", \"items\": {\"type\": \"string\"}}}, \"required\": [\"foo\"]}\\nthe object {\"foo\": [\"bar\", \"baz\"]} is a well-formatted instance of the schema. The object {\"properties\": {\"foo\": [\"bar\", \"baz\"]}} is not well-formatted.\\n\\nHere is the output schema:\\n```\\n{\"properties\": {\"is_stock_related\": {\"description\": \"한국 주식과 관련있는 뉴스인지 여부\", \"title\": \"Is Stock Related\", \"type\": \"boolean\"}, \"positive_stocks\": {\"description\": \"뉴스기사에 긍정적인 영향을 받는 회사들의 이름들.\", \"items\": {\"type\": \"string\"}, \"title\": \"Positive Stocks\", \"type\": \"array\"}, \"positive_reason\": {\"description\": \"뉴스내용 중 positive_stocks에 있는 각 회사들에 긍정적 영향을 주는 내용. {\"회사이름\":\"긍정적인 이유\"}\", \"items\": {\"additionalProperties\": {\"type\": \"string\"}, \"type\": \"object\"}, \"title\": \"Positive Reason\", \"type\": \"array\"}, \"negative_stocks\": {\"description\": \"뉴스기사에 부정적인 영향을 받는 회사들의 이름들.\", \"items\": {\"type\": \"string\"}, \"title\": \"Negative Stocks\", \"type\": \"array\"}, \"negative_reason\": {\"description\": \"뉴스내용 중 negative_stocks에 있는 각 회사들에 부정적 영향을 주는 내용. {\"회사이름\":\"부정적인 이유\"}\", \"items\": {\"additionalProperties\": {\"type\": \"string\"}, \"type\": \"object\"}, \"title\": \"Negative Reason\", \"type\": \"array\"}, \"summary\": {\"description\": \"뉴스기사 요약\", \"title\": \"Summary\", \"type\": \"string\"}}, \"required\": [\"is_stock_related\", \"positive_stocks\", \"positive_reason\", \"negative_stocks\", \"negative_reason\", \"summary\"]}\\n```\\n\\n## 출력 조건:\\n- 뉴스에 영향을 받은 회사들은 **반드시 한국 증시에 상장된 종목** 이어야 합니다.\\n- 뉴스에 있는 내용만 출력결과에 포함시킵니다.\\n- 긍정/부정 종목은 실제 뉴스기사에 영향을 받는 회사들만 포함하세요.\\n- 모든 문자열은 큰따옴표(`\"`)로 감쌉니다.\\n- 문자열 안에 따옴표가 필요하면 작은따옴표(`\\'`)를 사용합니다.\\n- 모든 키(Key)는 출력 지시사항에 명시된 property들과 정확히 일치해야 합니다.\\n- `\"positive_reasons\"` 및 `\"negative_reasons\"`의 값은 `None`이 될 수 없습니다.\\n- json format을 잘 지켜 응답데이터를 만듭니다. 배열이나 object의 마지막 항목 뒤에 `,` 를 붙이지 마세요.\\n- 오직 유효한 JSON 문자열(UTF-8, RFC8259 준수)만 출력합니다.\\n- 절대 다른 텍스트, 주석, 설명, 코드 블록 표기(```), 또는 따옴표 외의 문자열을 추가하면 안 됩니다.\\n\\n## 출력 예시 (Examples)\\n\\n### 뉴스가 특정 주식종목들에 **긍정적 영향이 주는 경우**:\\n{\\'is_stock_related\\': True,\\n \\'negative_reasons\\': [],\\n \\'negative_stocks\\': [],\\n \\'positive_reasons\\': [{\\'세라젬\\': \\'루게릭병 환우 지원 캠페인 후원과 의료가전 지원 등 사회공헌활동을 통해 기업 이미지와 브랜드 가치가 긍정적으로 부각됨\\'}],\\n \\'positive_stocks\\': [\\'세라젬\\'],\\n \\'summary\\': \\'세라젬이 루게릭병 환우를 위한 아이스버킷 챌린지 런 행사를 후원하며 의료가전과 건강기능식품 등을 지원했다. 캠페인은 루게릭병 환우 지원과 기부 문화 확산을 목표로 한다. 세라젬은 다양한 사회공헌활동을 지속하고 있다.\\'\\n}\\n\\n### 뉴스의 내용이 특정 주식종목들에 **부정적 영향이 주는 경우**:\\n{\\n    \"is_stock_related\": true,\\n    \"positive_stocks\": [],\\n    \"positive_reasons\": [],\\n    \"negative_stocks\": [\\n        \"포스코\",\\n        \"현대제철\"\\n    ],\\n    \"negative_reasons\": [\\n        {\"포스코\": \"정부가 수입규제국 조사에 적극 대응하고 비관세장벽 해소를 위해 민관 협력 강화 방침을 밝혀 철강 분야에서 수출 피해 최소화 기대\"},\\n        {\"현대제철\": \"철강·금속 품목에 대한 수입규제 대응 강화로 불합리한 무역제한 조치 개선 가능성이 높아져 수출 환경 개선 기대\"}\\n    ],\\n    \"summary\": \"산업부는 수입 규제국의 조사에 대응하고 비관세장벽 해소를 위한 협의를 진행했다. 규제 대상 국가는 26개국, 건수는 199건에 달한다.\"\\n}\\n\\n### **뉴스기사가 주식 종목과 관련 없는 경우**:\\n{\\n    \"is_stock_related\": false,\\n    \"positive_stocks\": [],\\n    \"positive_reasons\": [],\\n    \"negative_stocks\": [],\\n    \"negative_reasons\": [],\\n    \"summary\": \"정황근 농림축산식품부 장관이 단순가공식품 부가가치세 면제 시행 상황을 점검했다. 된장, 고추장 코너를 방문하며 현장을 살폈다.\"\\n}'},\n",
       " {'role': 'user',\n",
       "  'content': '\"분위기 좀 좋아지나 했는데...\" 삼성전자·SK하이닉스 또 애태운다\\n\\n미 도널드 트럼프 행정부가 중국 내 반도체 공장에 미국산 장비 반입을 제한하겠다는 입장을 전달한 것으로 알려졌는데 중국에 생산 기지를 둔 삼성전자와 SK하이닉스도 긴장하고 있다. 이대로라면 새 반도체 장비를 중국으로 들여올 때마다 미 정부 승인을 받아야 하기에 중국 공장 운영에 차질을 빚을 수 있다는 걱정이 나온다.\\n22일 전자업계에 따르면 미 월스트리트저널(WSJ)은 20일 미 상무부가 대표적 메모리반도체 제조사인 삼성전자·SK하이닉스와 세계 파운드리(반도체 위탁생산) 1위 기업인 대만 TSMC에 미국서 만든 반도체 제조 장비의 중국에 공급할 때 줬던 \\'사전 허가 면제 조치\\'를 철회할 수 있다고 했다고 보도했다. 삼성전자와 SK하이닉스는 입장을 내놓지 않은 채 상황을 지켜보고 있다.\\n2022년 조 바이든 미국 행정부는 미국산 장비의 중국 반입을 규제하는 조치를 발표했지만 삼성전자·하이닉스·TSMC 등이 운영하던 공장에는 2023년 검증된 최종 사용자(VEU) 자격을 줘 사실상 이 규제를 무기한 유예했다. 이 때문에 삼성전자와 하이닉스는 허가 없이도 장비를 중국에 들여보냈다. 새 방침은 확정된 것은 아니고 미국 정부 내에서도 의견이 엇갈린 것으로 전해졌다.\\nVEU 자격 철폐설에 정부도 \"업계 우려 전달\"\\n도널드 트럼프(왼쪽) 미국 대통령과 키어 스타머 영국 총리가 16일 캐나다 앨버타주 캐내내스키스에서 열린 주요 7개국(G7) 회의 도중 양국 간 무역협정 서명문을 들고 기념촬영을 하고 있다. 캐내내스키스=로이터 연합\\n도널드 트럼프(왼쪽) 미국 대통령과 키어 스타머 영국 총리가 16일 캐나다 앨버타주 캐내내스키스에서 열린 주요 7개국(G7) 회의 도중 양국 간 무역협정 서명문을 들고 기념촬영을 하고 있다. 캐내내스키스=로이터 연합뉴스\\n삼성전자는 중국 시안에 낸드플래시 메모리 공장이, 쑤저우에는 후공정(패키징) 공장이 있다. SK하이닉스는 우시에서 D램 공장, 충칭에서 후공정 공장, 다롄에서 인텔로부터 인수한 낸드플래시 공장을 가동 중이다. 트럼프 정부가 최첨단 극자외선(EUV) 노광 장비의 중국 내 반입은 VEU와 상관없이 통제하고 있어 이들 공장은 최신 제품보다 범용(레거시) 반도체 공급에 활용된다.\\n업계에서는 실제 규제가 생기면 당장은 아니더라도 장기적으로는 공장 운영에 차질을 빚을 수 있다고 본다. 한 관계자는 \"공정을 점검하고 고장이 나면 새 장비를 들여야 한다\"면서 \"중국 공장 운영에 불확실성이 생기는 것\"이라고 설명했다.\\n여한구 산업자원부 통상교섭본부장은 22일 미국 측과 관세 협상을 위해 출국을 앞두고 \"미 상무부와 무역대표부, 백악관 쪽과 접촉해 우리 업계의 우려 사항을 충분히 전달할 것\"이라며 \"건설적으로 협의해 나갈 부분이 있는지 최대한 신경 쓰겠다\"고 말했다.'}]"
      ]
     },
     "execution_count": 30,
     "metadata": {},
     "output_type": "execute_result"
    }
   ],
   "source": [
    "message"
   ]
  },
  {
   "cell_type": "code",
   "execution_count": 40,
   "id": "2266fd6c",
   "metadata": {},
   "outputs": [],
   "source": [
    "response = pipe(message, max_new_tokens=1000)"
   ]
  },
  {
   "cell_type": "code",
   "execution_count": 41,
   "id": "2a952ea2-e0f3-4c28-b19c-1a8e2b315c67",
   "metadata": {
    "collapsed": true,
    "jupyter": {
     "outputs_hidden": true
    }
   },
   "outputs": [
    {
     "data": {
      "text/plain": [
       "[{'generated_text': [{'role': 'system',\n",
       "    'content': '\\n# Instruction\\n당신은 금융 뉴스의 핵심 내용을 요약해 설명하고, 뉴스가 특정 상장 종목에 미치는 긍정/부정 영향 여부, 이유, 근거 등을 분석하는 금융 분석 전문가입니다.\\n사용자에 의해 입력된 뉴스 기사를 분석해서 **한국에 상장된 주식 종목에 영향을 주는지 판단**하고, Output Indicator에 제시된 기준에 따라 구조화된 JSON 형식으로 결과를 출력하세요.\\n\\n## 분석 기준\\n1. 뉴스가 **한국 주식 종목에 영향을 주는지 판단**하세요.\\n2. 영향을 준다면 다음 항목을 출력하세요.\\n   - `\"is_stock_related\": true`\\n   - 뉴스에 **긍정적** 영향을 받는 **회사이름들**\\n   - 뉴스에 **부정적** 영향을 받는 **회사이름들**\\n   - 뉴스가 각 회사에 **긍정적 또는 부정적 영향을 주는지 이유**\\n     - 반드시 **뉴스기사에 언급된 내용 기반으로 작성한다.** 뉴스기사에 없는 내용을 꾸며서 임의로로 작성하지 않습니다.\\n     - `None`, 유추, 추정, 일반 논평 금지합니다.\\n   - 뉴스 요약 (3줄 이내)\\n3. 뉴스가 한국 주식 종목에 영향을 주지 않는다면 다음 항목을 출력하세요.\\n   - `\"is_stock_related\": false`\\n   - 뉴스 요약 (3줄 이내)\\n\\n# 출력 지시사항 (Output Indicator)\\nThe output should be formatted as a JSON instance that conforms to the JSON schema below.\\n\\nAs an example, for the schema {\"properties\": {\"foo\": {\"title\": \"Foo\", \"description\": \"a list of strings\", \"type\": \"array\", \"items\": {\"type\": \"string\"}}}, \"required\": [\"foo\"]}\\nthe object {\"foo\": [\"bar\", \"baz\"]} is a well-formatted instance of the schema. The object {\"properties\": {\"foo\": [\"bar\", \"baz\"]}} is not well-formatted.\\n\\nHere is the output schema:\\n```\\n{\"properties\": {\"is_stock_related\": {\"description\": \"한국 주식과 관련있는 뉴스인지 여부\", \"title\": \"Is Stock Related\", \"type\": \"boolean\"}, \"positive_stocks\": {\"description\": \"뉴스기사에 긍정적인 영향을 받는 회사들의 이름들.\", \"items\": {\"type\": \"string\"}, \"title\": \"Positive Stocks\", \"type\": \"array\"}, \"positive_reason\": {\"description\": \"뉴스내용 중 positive_stocks에 있는 각 회사들에 긍정적 영향을 주는 내용. {\"회사이름\":\"긍정적인 이유\"}\", \"items\": {\"additionalProperties\": {\"type\": \"string\"}, \"type\": \"object\"}, \"title\": \"Positive Reason\", \"type\": \"array\"}, \"negative_stocks\": {\"description\": \"뉴스기사에 부정적인 영향을 받는 회사들의 이름들.\", \"items\": {\"type\": \"string\"}, \"title\": \"Negative Stocks\", \"type\": \"array\"}, \"negative_reason\": {\"description\": \"뉴스내용 중 negative_stocks에 있는 각 회사들에 부정적 영향을 주는 내용. {\"회사이름\":\"부정적인 이유\"}\", \"items\": {\"additionalProperties\": {\"type\": \"string\"}, \"type\": \"object\"}, \"title\": \"Negative Reason\", \"type\": \"array\"}, \"summary\": {\"description\": \"뉴스기사 요약\", \"title\": \"Summary\", \"type\": \"string\"}}, \"required\": [\"is_stock_related\", \"positive_stocks\", \"positive_reason\", \"negative_stocks\", \"negative_reason\", \"summary\"]}\\n```\\n\\n## 출력 조건:\\n- 뉴스에 영향을 받은 회사들은 **반드시 한국 증시에 상장된 종목** 이어야 합니다.\\n- 뉴스에 있는 내용만 출력결과에 포함시킵니다.\\n- 긍정/부정 종목은 실제 뉴스기사에 영향을 받는 회사들만 포함하세요.\\n- 모든 문자열은 큰따옴표(`\"`)로 감쌉니다.\\n- 문자열 안에 따옴표가 필요하면 작은따옴표(`\\'`)를 사용합니다.\\n- 모든 키(Key)는 출력 지시사항에 명시된 property들과 정확히 일치해야 합니다.\\n- `\"positive_reasons\"` 및 `\"negative_reasons\"`의 값은 `None`이 될 수 없습니다.\\n- json format을 잘 지켜 응답데이터를 만듭니다. 배열이나 object의 마지막 항목 뒤에 `,` 를 붙이지 마세요.\\n- 오직 유효한 JSON 문자열(UTF-8, RFC8259 준수)만 출력합니다.\\n- 절대 다른 텍스트, 주석, 설명, 코드 블록 표기(```), 또는 따옴표 외의 문자열을 추가하면 안 됩니다.\\n\\n## 출력 예시 (Examples)\\n\\n### 뉴스가 특정 주식종목들에 **긍정적 영향이 주는 경우**:\\n{\\'is_stock_related\\': True,\\n \\'negative_reasons\\': [],\\n \\'negative_stocks\\': [],\\n \\'positive_reasons\\': [{\\'세라젬\\': \\'루게릭병 환우 지원 캠페인 후원과 의료가전 지원 등 사회공헌활동을 통해 기업 이미지와 브랜드 가치가 긍정적으로 부각됨\\'}],\\n \\'positive_stocks\\': [\\'세라젬\\'],\\n \\'summary\\': \\'세라젬이 루게릭병 환우를 위한 아이스버킷 챌린지 런 행사를 후원하며 의료가전과 건강기능식품 등을 지원했다. 캠페인은 루게릭병 환우 지원과 기부 문화 확산을 목표로 한다. 세라젬은 다양한 사회공헌활동을 지속하고 있다.\\'\\n}\\n\\n### 뉴스의 내용이 특정 주식종목들에 **부정적 영향이 주는 경우**:\\n{\\n    \"is_stock_related\": true,\\n    \"positive_stocks\": [],\\n    \"positive_reasons\": [],\\n    \"negative_stocks\": [\\n        \"포스코\",\\n        \"현대제철\"\\n    ],\\n    \"negative_reasons\": [\\n        {\"포스코\": \"정부가 수입규제국 조사에 적극 대응하고 비관세장벽 해소를 위해 민관 협력 강화 방침을 밝혀 철강 분야에서 수출 피해 최소화 기대\"},\\n        {\"현대제철\": \"철강·금속 품목에 대한 수입규제 대응 강화로 불합리한 무역제한 조치 개선 가능성이 높아져 수출 환경 개선 기대\"}\\n    ],\\n    \"summary\": \"산업부는 수입 규제국의 조사에 대응하고 비관세장벽 해소를 위한 협의를 진행했다. 규제 대상 국가는 26개국, 건수는 199건에 달한다.\"\\n}\\n\\n### **뉴스기사가 주식 종목과 관련 없는 경우**:\\n{\\n    \"is_stock_related\": false,\\n    \"positive_stocks\": [],\\n    \"positive_reasons\": [],\\n    \"negative_stocks\": [],\\n    \"negative_reasons\": [],\\n    \"summary\": \"정황근 농림축산식품부 장관이 단순가공식품 부가가치세 면제 시행 상황을 점검했다. 된장, 고추장 코너를 방문하며 현장을 살폈다.\"\\n}'},\n",
       "   {'role': 'user',\n",
       "    'content': '가덕도신공항 사업조건 완화 가능성에 대형 건설사들 \"참여 검토\"\\n\\n[파이낸셜뉴스] 국토교통부가 오는 7월 중으로 가덕도신공항 부지조성 공사 선정을 위한 재입찰 공고를 준비하고 있는 가운데, 대형 건설사들이 내부적으로 사업 참여를 검토하고 있는 것으로 파악됐다.\\n\\n24일 건설업계에 따르면 롯데건설, 한화 건설부문, DL이앤씨 등 대형 건설사들은 가덕도신공항 부지조성 공사 참여를 검토하고 있다.\\n\\n건설사들은 공사기간 등 사업 조건 완화 가능성을 염두에 두고 참여를 검토하고 있다. 롯데건설 관계자는 \"참여가 결정된 것은 아니지만 내부 검토를 진행하고 있다\"고 말했다. 한화 건설부문도 조건이 완화될 가능성이 나오자 사업 참여를 긍정적으로 검토 중이다. DL이앤씨는 \"기초적인 수준에서 검토 중\"이라고 했다.\\n\\n가덕도신공항 부지조상 공사는 4차례 유찰 끝에 지난해 10월 현대건설 컨소시엄이 우선협상대상자로 선정됐다.\\n\\n그러나 현대건설은 지난 4월 공사기간을 84개월에서 108개월로 연장하고, 공사비도 1조원 증액해야 한다는 입장을 냈다. 이후 국토부가 이를 거부하며 현대건설은 지난달 30일 사업 포기 의사를 밝힌 바 있다.'},\n",
       "   {'role': 'assistant',\n",
       "    'content': \"{'is_stock_related': True, 'positive_stocks': ['롯데건설', '한화', 'DL이앤씨'], 'positive_reason': [{'롯데건설': '가덕도신공항 부지조성 공사 재입찰 가능성이 염두에 두어지며 내부적으로 참여 검토 중임이 밝혀짐'}, {'한화': '가덕도신공항 사업 조건 완화 가능성이 제기되며 한화 건설부문도 사업 참여를 긍정적으로 검토 중임이 언급됨'}, {'DL이앤씨': '가덕도신공항 부지조성 공사 검토를 기초 수준에서 진행 중임이 밝혀짐'}], 'negative_stocks': [], 'negative_reason': [],'summary': '가덕도신공항 부지조성 공사 재입찰 가능성이 제기되며 대형 건설사들이 참여 검토에 들어갔다. 롯데건설, 한화, DL이앤씨 등이 내부적으로 사업 참여를 검토 중이다. 사업 조건 완화 가능성이 언급되며 건설사들의 관심이 모이고 있다.'}\"}]}]"
      ]
     },
     "execution_count": 41,
     "metadata": {},
     "output_type": "execute_result"
    }
   ],
   "source": [
    "response"
   ]
  },
  {
   "cell_type": "code",
   "execution_count": 42,
   "id": "a3df5fbf",
   "metadata": {},
   "outputs": [
    {
     "name": "stdout",
     "output_type": "stream",
     "text": [
      "{'is_stock_related': True, 'positive_stocks': ['롯데건설', '한화', 'DL이앤씨'], 'positive_reason': [{'롯데건설': '가덕도신공항 부지조성 공사 재입찰 가능성이 염두에 두어지며 내부적으로 참여 검토 중임이 밝혀짐'}, {'한화': '가덕도신공항 사업 조건 완화 가능성이 제기되며 한화 건설부문도 사업 참여를 긍정적으로 검토 중임이 언급됨'}, {'DL이앤씨': '가덕도신공항 부지조성 공사 검토를 기초 수준에서 진행 중임이 밝혀짐'}], 'negative_stocks': [], 'negative_reason': [],'summary': '가덕도신공항 부지조성 공사 재입찰 가능성이 제기되며 대형 건설사들이 참여 검토에 들어갔다. 롯데건설, 한화, DL이앤씨 등이 내부적으로 사업 참여를 검토 중이다. 사업 조건 완화 가능성이 언급되며 건설사들의 관심이 모이고 있다.'}\n"
     ]
    }
   ],
   "source": [
    "print(response[0]['generated_text'][-1][\"content\"])"
   ]
  },
  {
   "cell_type": "code",
   "execution_count": 34,
   "id": "de3bcd40",
   "metadata": {},
   "outputs": [
    {
     "data": {
      "application/vnd.jupyter.widget-view+json": {
       "model_id": "ea5fdb79ed7047fc85d98d0d339e1444",
       "version_major": 2,
       "version_minor": 0
      },
      "text/plain": [
       "tokenizer_config.json:   0%|          | 0.00/51.2k [00:00<?, ?B/s]"
      ]
     },
     "metadata": {},
     "output_type": "display_data"
    },
    {
     "data": {
      "application/vnd.jupyter.widget-view+json": {
       "model_id": "19362298ffe5402a930373991a121f03",
       "version_major": 2,
       "version_minor": 0
      },
      "text/plain": [
       "tokenizer.json:   0%|          | 0.00/17.2M [00:00<?, ?B/s]"
      ]
     },
     "metadata": {},
     "output_type": "display_data"
    },
    {
     "data": {
      "application/vnd.jupyter.widget-view+json": {
       "model_id": "d74108f7987b47af9c0ab7e81c202b24",
       "version_major": 2,
       "version_minor": 0
      },
      "text/plain": [
       "special_tokens_map.json:   0%|          | 0.00/444 [00:00<?, ?B/s]"
      ]
     },
     "metadata": {},
     "output_type": "display_data"
    },
    {
     "data": {
      "application/vnd.jupyter.widget-view+json": {
       "model_id": "af5780cf91c649aba0a608e2e31d334a",
       "version_major": 2,
       "version_minor": 0
      },
      "text/plain": [
       "chat_template.jinja:   0%|          | 0.00/14.3k [00:00<?, ?B/s]"
      ]
     },
     "metadata": {},
     "output_type": "display_data"
    },
    {
     "name": "stderr",
     "output_type": "stream",
     "text": [
      "Device set to use cuda:0\n"
     ]
    }
   ],
   "source": [
    "#####################################\n",
    "# Merge된 모델 한번에 받아오기\n",
    "#####################################\n",
    "\n",
    "from peft import AutoPeftModelForCausalLM\n",
    "fine_tuned_model = AutoPeftModelForCausalLM.from_pretrained(lora_model_id, device_map=\"auto\", torch_dtype=torch.bfloat16)\n",
    "pipe2 = pipeline(\"text-generation\", model=fine_tuned_model, tokenizer=tokenizer)"
   ]
  },
  {
   "cell_type": "code",
   "execution_count": 43,
   "id": "d4bee5ae",
   "metadata": {},
   "outputs": [],
   "source": [
    "response2 = pipe2(message, max_new_tokens=1000)"
   ]
  },
  {
   "cell_type": "code",
   "execution_count": 44,
   "id": "9c054923",
   "metadata": {},
   "outputs": [
    {
     "name": "stdout",
     "output_type": "stream",
     "text": [
      "{'is_stock_related': True, 'positive_stocks': ['롯데건설', '한화', 'DL이앤씨'], 'positive_reason': [{'롯데건설': '가덕도신공항 부지조성 공사 재입찰 가능성이 염두에 두어지며 내부적으로 참여 검토 중임이 밝혀짐'}, {'한화': '가덕도신공항 사업 조건 완화 가능성이 제기되며 한화 건설부문도 사업 참여를 긍정적으로 검토 중임이 언급됨'}, {'DL이앤씨': '가덕도신공항 부지조성 공사 검토를 기초 수준에서 진행 중임이 밝혀짐'}], 'negative_stocks': [], 'negative_reason': [],'summary': '가덕도신공항 부지조성 공사 재입찰 가능성이 제기되며 대형 건설사들이 참여 검토에 들어갔다. 롯데건설, 한화, DL이앤씨 등이 내부적으로 사업 참여를 검토 중이다. 사업 조건 완화 가능성이 언급되며 건설사들의 관심이 모이고 있다.'}\n"
     ]
    }
   ],
   "source": [
    "print(response[0]['generated_text'][-1][\"content\"])"
   ]
  },
  {
   "cell_type": "code",
   "execution_count": 45,
   "id": "2b1cadfd",
   "metadata": {},
   "outputs": [
    {
     "name": "stderr",
     "output_type": "stream",
     "text": [
      "Device set to use cuda:0\n"
     ]
    }
   ],
   "source": [
    "####################################\n",
    "#  기반 모델로 테스트\n",
    "####################################\n",
    "\n",
    "base_pipe = pipeline(task='text-generation', model=base_model, tokenizer=tokenizer)\n",
    "response_base = base_pipe(message)"
   ]
  },
  {
   "cell_type": "code",
   "execution_count": 46,
   "id": "2b655537",
   "metadata": {},
   "outputs": [
    {
     "name": "stdout",
     "output_type": "stream",
     "text": [
      "{'is_stock_related': True, 'positive_stocks': ['롯데건설', '한화', 'DL이앤씨'], 'positive_reason': [{'롯데건설': '가덕도신공항 부지조성 공사 재입찰 가능성이 언급되며, 대형 건설사가 사업 참여를 내부적으로 검토 중임이 밝혀짐'}, {'한화': '가덕도신공항 사업 조건 완화 가능성에 따라 한화 건설부문이 사업 참여를 긍정적으로 검토 중임이 밝혀짐'}, {'DL이앤씨': '가덕도신공항 부지조성 공사 참여를 기초적 수준에서 검토 중임이 밝혀짐'}], 'negative_stocks': [], 'negative_reason': [],'summary': '가덕도신공항 부지조성 공사 재입찰 가능성이 언급되며 롯데건설, 한화, DL이앤씨 등 대형 건설사들이 참여를 검토하고 있다. 공사 조건 완화 가능성에 따라 내부적으로 검토가 진행 중이다. 현대건설은 이미 사업 포기 의\n"
     ]
    }
   ],
   "source": [
    "print(response_base[0]['generated_text'][-1][\"content\"])"
   ]
  },
  {
   "cell_type": "code",
   "execution_count": 48,
   "id": "3c2c859d",
   "metadata": {},
   "outputs": [],
   "source": [
    "class Predict:\n",
    "\n",
    "    def __init__(self, pipeline):\n",
    "        self.pipeline = pipeline\n",
    "        self.prompt_creator = InputPromptCreator(pipeline.tokenizer)\n",
    "\n",
    "    def __call__(self, title, content):\n",
    "        message = self.prompt_creator.create_pipeline_prompt(title, content)\n",
    "        response = self.pipeline(message)\n",
    "        return response[0]['generated_text'][-1]['content']"
   ]
  },
  {
   "cell_type": "code",
   "execution_count": 51,
   "id": "cf9a7921-83f0-4e7b-bc70-6d221ce03c3a",
   "metadata": {},
   "outputs": [
    {
     "data": {
      "text/plain": [
       "\"{'is_stock_related': True, 'positive_stocks': ['롯데건설', '한화', 'DL이앤씨'], 'positive_reason': [{'롯데건설': '가덕도신공항 부지조성 공사 참여를 검토 중이며, 사업 조건 완화 가능성이 염두에 들어 긍정적으로 검토되고 있다고 밝힘'}, {'한화': '가덕도신공항 부지조성 공사 참여를 긍정적으로 검토 중이며, 사업 조건 완화 가능성에 따라 사업 참여를 적극적으로 검토함'}, {'DL이앤씨': '기초적인 수준에서 가덕도신공항 부지조성 공사 참여를 검토 중임을 밝힘'}], 'negative_stocks': [], 'negative_reason': [],'summary': '가덕도신공항 부지조성 공사 선정을 위한 재입찰이 준비되며, 롯데건설, 한화, DL이앤씨 등 대형 건설사들이 참여를 검토하고 있다. 사업 조건 완화 가능성이 부각되며 내부적으로 검토가 진행 중이다. 해당 건설사\""
      ]
     },
     "execution_count": 51,
     "metadata": {},
     "output_type": "execute_result"
    }
   ],
   "source": [
    "predict = Predict(pipe)\n",
    "predict(news_title, news_document)"
   ]
  }
 ],
 "metadata": {
  "kernelspec": {
   "display_name": "lang_env",
   "language": "python",
   "name": "python3"
  },
  "language_info": {
   "codemirror_mode": {
    "name": "ipython",
    "version": 3
   },
   "file_extension": ".py",
   "mimetype": "text/x-python",
   "name": "python",
   "nbconvert_exporter": "python",
   "pygments_lexer": "ipython3",
   "version": "3.12.11"
  }
 },
 "nbformat": 4,
 "nbformat_minor": 5
}
