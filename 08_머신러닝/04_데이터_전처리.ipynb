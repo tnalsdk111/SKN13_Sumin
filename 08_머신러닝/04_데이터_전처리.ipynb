{
 "cells": [
  {
   "cell_type": "markdown",
   "metadata": {
    "slideshow": {
     "slide_type": "slide"
    }
   },
   "source": [
    "# Data 전처리(Data Preprocessing)란\n",
    "\n",
    "-   모델링 전에 데이터를 미리 조정하는 거~~~\n",
    "-   데이터 분석이나 머신러닝 모델에 적합한 형태로 데이터셋을 변환 또는 조정하는 과정을 말한다.\n",
    "-   데이터 분석, 머신러닝 모델링 전에 수행하는 작업이다.\n",
    "-   Garbage in, Garbage out.\n",
    "    -   좋은 dataset으로 학습 해야 좋은 예측 결과를 만드는 모델을 학습할 수 있다.\n",
    "    -   좋은 train dataset을 만드는 것은 모델의 성능에 가장 큰 영향을 준다.\n",
    "-   Data 전처리에는 다음과 같은 작업이 있다.\n",
    "    -   **Data Cleaning (데이터 정제)**\n",
    "        -   데이터셋에 있는 오류값, 불필요한 값, 결측치, 중복값 등을 제거하는 작업\n",
    "    -   **컬럼 선택 및 파생변수 생성**\n",
    "        -   컬럼들 중 분석에 필요한 컬럼들만 선택하거나 기존 컬럼들을 계산한 결과값을 가지는 파생변수를 생성한다.\n",
    "    -   **Feature의 데이터 타입별 변환**\n",
    "        -   문자열을 날짜 타입으로 변환, 범주형을 수치형으로 변환등과 같이 원래 데이터의 형식에 맞게 변환하는 작업.\n",
    "        -   **수치형 데이터 Feature Scaling**\n",
    "            -   수치형 컬럼들의 scale(척도) 를 맞춰 주는 작업.\n",
    "        -   **범주형 데이터 인코딩**\n",
    "            -   문자열 형태로 되어있는 범주형 데이터를 숫자 형태로 변경하는 작업.\n"
   ]
  },
  {
   "cell_type": "markdown",
   "metadata": {
    "slideshow": {
     "slide_type": "slide"
    }
   },
   "source": [
    "# 결측치(Missing Value) 처리\n",
    "\n",
    "-   결측치(Missing Value)\n",
    "    -   수집하지 못한 값. 모르는 값. 없는 값\n",
    "    -   결측치 값은 `NA, NaN, None, null` 로 표현한다. (언어마다 차이가 있다.)\n",
    "-   결측치는 데이터 분석이나 머신러닝 모델링 전의 데이터 전처리 과정에서 처리해줘야 한다.\n"
   ]
  },
  {
   "cell_type": "markdown",
   "metadata": {},
   "source": [
    "(정리)\n",
    "- 데이터셋에서 **결측치가 어떤 의미인가 파악**하는 것이 필요하다. 결측치는 '실제로 없는 값'일 수도 있고, '실제로 있는데 수집하지 못한 값'일 수도 있다.\n",
    "- 따라서, **[1]적절히 채워주거나 [2]지워주는** 처리를 해줘야 한다."
   ]
  },
  {
   "cell_type": "markdown",
   "metadata": {
    "slideshow": {
     "slide_type": "fragment"
    }
   },
   "source": [
    "### 결측치 처리 방법\n",
    "\n",
    "결측치를 처리하기 전에 **\"이 값이 기록되지 않아서 누락된 것인가, 아니면 존재하지 않아서 누락된 것인가?\"** 를 확인해야 한다.  \n",
    "존재하지 않아서 누락된 값이라면 이것은 어떤 값일까 추측할 필요 없이 결측치로 유지하면 되지만  \n",
    "값이 기록되지 않아서(수집하지 못해서) 누락된 경우는 해당 열과 행의 다른 값을 기반으로 값이 무엇이었을지 추측해 볼 수 있다\n"
   ]
  },
  {
   "cell_type": "markdown",
   "metadata": {},
   "source": [
    "- #### 결측치 삭제(Complete Case Analysis):\n",
    "- 행을 날리거나 열을 날린다. 1차원 단위로 삭제한다. \n",
    "    -   리스트와이즈 삭제(Listwise Deletion)\n",
    "        -   결측치가 있는 행들을 삭제한다.\n",
    "        -   수집한 데이터도 같이 삭제되는 단점이 있다.\n",
    "        -   데이터가 충분히 크고 결측치가 많지 않을 때 적합하다.\n",
    "    -   컬럼 삭제 (Drop column)\n",
    "        -   컬럼자체에 결측차가 너무 많을 경우 컬럼을 제거할 수도 있다."
   ]
  },
  {
   "cell_type": "code",
   "execution_count": null,
   "metadata": {},
   "outputs": [],
   "source": [
    "import pandas as pd\n",
    "import numpy as np\n",
    "data = {\n",
    "    \"name\":['김영희', '이명수', '박진우', '이수영', '오영미'],\n",
    "    \"age\": [23, 18, 25, 32, np.nan], \n",
    "    \"weight\":[np.nan, 80, np.nan, 57, 48]\n",
    "}\n",
    "df = pd.DataFrame(data)\n",
    "df"
   ]
  },
  {
   "cell_type": "code",
   "execution_count": null,
   "metadata": {},
   "outputs": [],
   "source": [
    "# 결측치 확인 - 전체\n",
    "df.isna().sum() # 컬럼별 결측치 개수"
   ]
  },
  {
   "cell_type": "code",
   "execution_count": null,
   "metadata": {},
   "outputs": [],
   "source": [
    "## 결측치 값 확인\n",
    "import numpy as np\n",
    "print(pd.isna(None))\n",
    "print(pd.isna(np.nan))\n",
    "print(np.nan == None)\n",
    "print(np.nan == np.nan)"
   ]
  },
  {
   "cell_type": "markdown",
   "metadata": {},
   "source": [
    "3, 4번 코드: **결측치 = 모르는 값**이다! 따라서 비교를 할 때 모르는 값을 가지고 비교를 하니 False가 나오는 거"
   ]
  },
  {
   "cell_type": "code",
   "execution_count": null,
   "metadata": {},
   "outputs": [],
   "source": [
    "# 제거 - 행단위(리스트와즈, 0축 기준 제거: default)\n",
    "df.dropna()"
   ]
  },
  {
   "cell_type": "code",
   "execution_count": null,
   "metadata": {},
   "outputs": [],
   "source": [
    "# 컬럼단위 (1축 기준 삭제)\n",
    "df.dropna(axis=1)"
   ]
  },
  {
   "cell_type": "markdown",
   "metadata": {},
   "source": [
    "#### 2. 결측치 대체(imputation)\n",
    "\n",
    "결측치가 수집하지 못해 누락된 경우 그 값일 가능성이 가장 높은 값으로 대체할 수 있다.  \n",
    "대체할 값으로 일정한 값을 사용하는 경우와 분석을 통해 찾는 방법이 있다.\n",
    "\n",
    "-   **평균/중앙값/최빈값 대체**\n",
    "    -   수치형 변수의 경우 평균이나 중앙값으로, 범주형 변수의 경우 최빈값으로 결측치를 대체한다.\n",
    "    -   **평균으로 대체** - 수치형 컬럼으로 outlier(극단치)의 영향을 받지 않는 모델이거나 컬럼의 데이터들이 **정규 분포를 따르거나 outlier(극단치)가 없는 경우** 적합.\n",
    "    -   **중앙값으로 대체**\n",
    "        -   수치형 컬럼으로 outlier(극단치)가 존재하거나 데이터 분포가 비대칭인 컬럼의 결측치 대체에 적합.\n",
    "        -   보통 평균보다 중앙값을 사용한다.\n",
    "    -   **최빈값으로 대체**\n",
    "        -   범주형 컬럼의 경우 대푯값인 최빈값으로 대체한다.\n",
    "    \n",
    "-   **모델링 기반 대체**\n",
    "    -   결측치가 있는 컬럼을 output(종속변수)으로 결측치가 없는 행들(독립변수)을 input으로 하여 **결측치를 예측하는 모델**을 정의한다.\n",
    "    -   **K-최근접 이웃(K-NN) 대체**\n",
    "        -   결측치가 있는 데이터 포인트와 가장 가까운 K개의 데이터 포인트를 찾아, 그 값들의 평균(수치형 데이터)이나 최빈값(범주형 데이터)으로 결측치를 대체한다.\n",
    "-   **결측치를 표현하는 값으로 대체**\n",
    "    -   예를 들어 나이컬럼의 nan을 -1, 혈액형의 nan을 \"없음\" 등과 같이 그 컬럼이 가질 수없는 값을 nan 대신 사용한다.\n",
    "-   #### 다중 대체 (multiple imputation)\n",
    "    -   여러 방식으로 결측치를 대체한 데이터셋을 만든다. 각 데이터셋마다 분석하고 추론한 뒤 그 결과들을 합쳐서 최종 결론을 낸다.\n"
   ]
  },
  {
   "cell_type": "code",
   "execution_count": null,
   "metadata": {},
   "outputs": [],
   "source": [
    "import pandas as pd\n",
    "import numpy as np\n",
    "\n",
    "df = pd.DataFrame([\n",
    "        [0.1, 2.2, np.nan],\n",
    "        [0.3, 4.1, 1], \n",
    "        [np.nan, 6, 1],\n",
    "        [0.08, np.nan, 2],\n",
    "        [0.12, 2.4, 1],\n",
    "        [np.nan, 1.1, 3]\n",
    "    ], columns=['A', 'B', 'C']\n",
    ")\n",
    "org = df.copy()"
   ]
  },
  {
   "cell_type": "code",
   "execution_count": null,
   "metadata": {},
   "outputs": [],
   "source": [
    "df"
   ]
  },
  {
   "cell_type": "code",
   "execution_count": null,
   "metadata": {},
   "outputs": [],
   "source": [
    "# 컬럼별(속성) 처리.\n",
    "### 평균 대체\n",
    "df['A']  = df['A'].fillna(df['A'].mean())\n",
    "df"
   ]
  },
  {
   "cell_type": "code",
   "execution_count": null,
   "metadata": {
    "collapsed": true,
    "jupyter": {
     "outputs_hidden": true
    }
   },
   "outputs": [],
   "source": [
    "### 중앙값\n",
    "df['B'] = df['B'].fillna(df['B'].median())\n",
    "df"
   ]
  },
  {
   "cell_type": "code",
   "execution_count": null,
   "metadata": {},
   "outputs": [],
   "source": [
    "df['C'].mode()[0]"
   ]
  },
  {
   "cell_type": "code",
   "execution_count": null,
   "metadata": {},
   "outputs": [],
   "source": [
    "### 최빈값(범주형)\n",
    "df['C'] = df['C'].fillna(df['C'].mode()[0])  # mode(): Series를 반환.\n",
    "df"
   ]
  },
  {
   "cell_type": "code",
   "execution_count": null,
   "metadata": {},
   "outputs": [],
   "source": [
    "df = org.copy()\n",
    "df"
   ]
  },
  {
   "cell_type": "markdown",
   "metadata": {},
   "source": [
    "## scikit-learn 전처리기 이용한 대체\n",
    "\n",
    "### SimpleImputer\n",
    "\n",
    "- **SimpleImputer**는 결측값을 대체하는 데 사용되는 전처리 클래스로  결측값을 평균, 중앙값, 최빈값 으로 대체한다.\n",
    "- **메소드**\n",
    "  - **initializer** 파라미터\n",
    "    - **strategy**: 어떤 값으로 대체할지 지정. \"median\": 중앙값, \"mean\": 평균, \"most_frequent\": 최빈값, \"constant\": 상수(fill_value=채울값) 중 하나 사용.\n",
    "  \n",
    "  \n",
    "### KNNImputer\n",
    "- KNN(K-최근접 이웃(K-Nearest Neighbors) **머신러닝 알고리즘을 이용해 결측치를 추정해서 대체**한다.\n",
    "- 결측값이 있는 샘플의 최근접 이웃을 찾아 그 이웃들의 값을 평균내어 결측값을 대체한다.\n",
    "\n",
    "#### 공통 메소드(모든 전처리기의 공통)\n",
    "- fit()\n",
    "  - 변환할 때 필요한 값들을 찾아서 instance변수에 저장. (컬럼별 평균, 중앙값)\n",
    "- transform()\n",
    "  - fit에서 찾은 값을 이용해 결측치를 대체한다.\n",
    "- fit_transform() : fit(), transform()을 순서대로 한번에 처리."
   ]
  },
  {
   "cell_type": "code",
   "execution_count": 2,
   "metadata": {},
   "outputs": [],
   "source": [
    "# df['C']# .to_frame()"
   ]
  },
  {
   "cell_type": "code",
   "execution_count": null,
   "metadata": {},
   "outputs": [],
   "source": [
    "########################################################\n",
    "# SimpleImputer 예제\n",
    "########################################################\n",
    "df = org.copy()\n",
    "\n",
    "from sklearn.impute import SimpleImputer\n",
    "# A, B (수치형) => 중앙값, C(범주형) => 최빈값\n",
    "imputer1 = SimpleImputer(strategy=\"median\")\n",
    "imputer2 = SimpleImputer(strategy=\"most_frequent\")\n",
    "\n",
    "imputer1.fit(df[['A', 'B']])  # 결측치를 어떤 값으로 바꿀지 학습. (2차원 -> 0축 기준으로 계산)\n",
    "result1 = imputer1.transform(df[['A', 'B']])  # 변환작업 (fit에서 찾은 중앙값으로 결측치를 대체)\n",
    "\n",
    "result2 = imputer2.fit_transform(df['C'].to_frame()) #series.to_frame() : Series->DataFrame\n",
    "# fit/transform 을 순서대로 실행. fit/transform을 같은 데이터셋으로 할 경우 사용.\n",
    "\n",
    "# result1, result2 하나로 합치기.\n",
    "## ndarray 합치는 함수: np.concatenate([대상 배열들], axis=합칠방향(default: 0))\n",
    "result = np.concatenate([result1, result2], axis=1)\n",
    "print(result.shape)\n",
    "result"
   ]
  },
  {
   "cell_type": "code",
   "execution_count": null,
   "metadata": {},
   "outputs": [],
   "source": [
    "result1.shape, result2.shape"
   ]
  },
  {
   "cell_type": "code",
   "execution_count": null,
   "metadata": {},
   "outputs": [],
   "source": [
    "########################################################\n",
    "# KNNImputer 예제\n",
    "########################################################\n",
    "df = org.copy()\n",
    "from sklearn.impute import KNNImputer\n",
    "\n",
    "imputer = KNNImputer(n_neighbors=3)  # K - 가까운 데이터포인트 몇개를 확인 할지.\n",
    "result = imputer.fit_transform(df)\n",
    "# imputer.fit(df) -> imputer.transform(df)\n",
    "print(result)"
   ]
  },
  {
   "cell_type": "code",
   "execution_count": null,
   "metadata": {},
   "outputs": [],
   "source": []
  },
  {
   "cell_type": "markdown",
   "metadata": {
    "slideshow": {
     "slide_type": "slide"
    }
   },
   "source": [
    "# 이상치(Outlier) 처리\n",
    "\n",
    "-   데이터 집합에서 다른 관측치들과 크게 다른 값을 가지는 데이터 포인트를 말한다.\n",
    "    -   잘못된 값이나 극단치가 있다.\n",
    "-   이상치가 생기는 원인은 데이터 수집과정에서의 문제, 측정 오류, 극단적 변이가 반영된 값(엄청 튀는 값)이 수집된 경우 등이 있다.\n",
    "-   이상치는 이상치들은 일반적인 경향에서 벗어난 값이므로 **정확하게 식별하고 처리하는 것이 분석의 정확성과 신뢰성을 높이는데 중요하다.**\n"
   ]
  },
  {
   "cell_type": "markdown",
   "metadata": {},
   "source": [
    "## 분포에서 벗어난 이상치(Outlier) 식별\n",
    "\n",
    "-   통계적 기준과 도메인 기준이 있다.\n",
    "\n",
    "### 통계적 기준\n",
    "\n",
    "-   **표준편차 기준**\n",
    "    -   데이터가 **정규분포**를 따른다고 가정할 때 평균으로 부터 _k_ 표준편차 범위 밖으로 떨어진 데이터 포인트를 outlier 로 판단한다.\n",
    "\n",
    "\\begin{align}\n",
    "&정상범위\\,값: \\mu - k \\times \\sigma \\ \\leq value \\leq \\mu + k \\times \\sigma \\\\\n",
    "&\\mu: 평균,\\, \\sigma: 표준편차\n",
    "\\end{align}\n",
    "\n",
    "-   **분위수 기준**\n",
    "    -   IQR(Inter quantile Range) 을 이용해 Outlier 여부를 찾는다.\n",
    "    -   1분위, 3분위 에서 IQR \\* 1.5 보다 더 떨어진 값을 outlier로 판단한다. 단 정상 범위를 조정하려고 할때는 1.5값을 변경할 수 있다.\n",
    "\n",
    "\\begin{align}\n",
    "&IQR = 3분위 - 1분위 \\\\\n",
    "&정상범위\\,값:  (1분위 - 1.5\\times IQR) \\leq value \\leq  (3분위 + 1.5\\times IQR)\n",
    "\\end{align}"
   ]
  },
  {
   "cell_type": "markdown",
   "metadata": {
    "slideshow": {
     "slide_type": "fragment"
    }
   },
   "source": [
    "-   **극단치(분포에서 벗어난 값) 처리** \n",
    "    -   정상적이 값이지만 다른 값들과 다른 패턴을 가지는 값.\n",
    "    -   일반적으로 극단적으로 크거나 작은 값\n",
    "    -   처리\n",
    "        1. 제거한다.\n",
    "            - 결측치로 대체 하거나 데이터 포인트(행)를 제거한다.\n",
    "            - outlier가 분석 결과에 부정적 영항을 미치는 경우.\n",
    "            - outlier값이 대상 집단을 대표하지 않는다고 판단할 경우 .\n",
    "            - 명확히 잘못수집 된 오류값일 경우\n",
    "        1. 윈저화 (Winsorization)\n",
    "            - 최소값과 최값을 정해 놓고 그 범위를 넘어서는 작은 값은 최소값으로 범위를 넘어서 큰 값은 최대값으로 대체한다.\n",
    "        1. 대체 (Imputation)\n",
    "            - 평균, 중앙값, 최빈값 등으로 대체한다.\n"
   ]
  },
  {
   "cell_type": "code",
   "execution_count": null,
   "metadata": {},
   "outputs": [],
   "source": [
    "import pandas as pd\n",
    "import numpy as np\n",
    "np.random.seed(0)\n",
    "\n",
    "df = pd.DataFrame(np.random.normal(10, 2, size=(10, 3)), columns=['a', 'b', 'c'])\n",
    "df.iloc[[0, 3], [0, 2]] = [[100, 200],[300,-100]]\n",
    "df"
   ]
  },
  {
   "cell_type": "code",
   "execution_count": null,
   "metadata": {},
   "outputs": [],
   "source": [
    "import matplotlib.pyplot as plt\n",
    "\n",
    "# Boxplot을 이용해 이상치 확인\n",
    "df.boxplot()\n",
    "plt.title('Boxplot')\n",
    "plt.show()"
   ]
  },
  {
   "cell_type": "code",
   "execution_count": null,
   "metadata": {},
   "outputs": [],
   "source": [
    "####################################################################\n",
    "# # 4 분위수 기준으로 outlier를 찾기(식별)\n",
    "# 1. \"1분위(100분위기준 25분위), 3분위(100분위 기준 75분위)\" 계산.\n",
    "# 2. \"IQR(Inter Quartile Range) = 3분위수 - 1분위수\" 계산\n",
    "# 3. \"정상범위: v < 1분위값 - 1.5*iqr, v > 3분위 + 1.5*iqr\" 조건으로 outlier를 찾기\n",
    "####################################################################\n",
    "# \"a\" 컬럼에서 outlier를 찾기\n",
    "q1, q3 = df['a'].quantile(q=[0.25, 0.75])\n",
    "iqr = q3 - q1\n",
    "whis = 1.5\n",
    "iqr = iqr * whis\n",
    "df['a'][~df['a'].between(q1 - iqr, q3 + iqr)]  #series boolean indexing\n",
    "df.loc[~df['a'].between(q1 - iqr, q3 + iqr)]"
   ]
  },
  {
   "cell_type": "code",
   "execution_count": null,
   "metadata": {},
   "outputs": [],
   "source": [
    "# 함수화 하기.\n",
    "def find_outliers(df, column_name, whis=1.5):\n",
    "    \"\"\"\n",
    "    분위수 기준으로 이상치를 찾는 함수\n",
    "\n",
    "    Args:\n",
    "        df (pd.DataFrame): 데이터프레임\n",
    "        column_name (str): 이상치를 찾을 컬럼명\n",
    "\n",
    "    Returns:\n",
    "        pd.Series: 이상치 값들\n",
    "    \"\"\"\n",
    "    q1, q3 = df[column_name].quantile(q=[0.25, 0.75])\n",
    "    iqr = q3 - q1\n",
    "    iqr *= whis\n",
    "\n",
    "    return df.loc[~df[column_name].between(q1 - iqr, q3 + iqr), column_name]"
   ]
  },
  {
   "cell_type": "code",
   "execution_count": null,
   "metadata": {},
   "outputs": [],
   "source": []
  },
  {
   "cell_type": "markdown",
   "metadata": {
    "slideshow": {
     "slide_type": "slide"
    }
   },
   "source": [
    "# Feature 타입 별 전처리\n",
    "\n",
    "## Feature(변수)의 타입\n",
    "\n",
    "-   **범주형(Categorical) 변수**\n",
    "    -   범주를 구분하는 이름을 가지는 변수.\n",
    "        -   **범주(範疇)** 의미: 동일한 성질을 가진 부류나 범위\n",
    "        -   각 값 사이에 값이 없는 이산적 특징을 가진다.\n",
    "        -   값이 될 수있는 값들이 정해져 있다.\n",
    "    -   **명목(Norminal) 변수/비서열(Unordered) 변수**\n",
    "        -   범주에 속한 값간에 서열(순위)가 없는 변수\n",
    "        -   성별, 혈액형, 지역\n",
    "    -   **순위(Ordinal) 변수/서열(Ordered) 변수**\n",
    "        -   범주에 속한 값 간에 서열(순위)가 있는 변수\n",
    "        -   성적, 직급, 만족도\n",
    "-   **수치형(Numeric) 변수**\n",
    "    -   수량을 표현하는 값들을 가지는 변수.\n",
    "    -   **이산형(Discrete) 변수**\n",
    "        -   수치를 표현하지만 소수점의 형태로 표현되지 못하는 데이터. 정수형 값들을 가진다.\n",
    "        -   예) 하루 방문 고객수, 가격(원화), 물건의 개수\n",
    "    -   **연속형(Continuous) 변수**\n",
    "        -   수치를 표현하며 소수점으로 표현가능한 데이터. 실수형 값들을 가진다.\n",
    "        -   예) 키, 몸무게, 시간\n"
   ]
  },
  {
   "cell_type": "code",
   "execution_count": null,
   "metadata": {},
   "outputs": [],
   "source": []
  },
  {
   "cell_type": "markdown",
   "metadata": {
    "slideshow": {
     "slide_type": "slide"
    }
   },
   "source": [
    "## 범주형 데이터 전처리\n",
    "\n",
    "-   Scikit-learn의 머신러닝 API들은 Feature나 Label의 값들이 숫자(정수/실수)인 것만 처리할 수 있다.\n",
    "-   문자열(str)일 경우 숫자 형으로 변환해야 한다.\n",
    "    -   **범주형 변수의 경우** 전처리를 통해 정수값으로 변환한다.\n",
    "    -   범주형이 아닌 **단순 문자열인** 경우 일반적으로 제거한다.\n"
   ]
  },
  {
   "cell_type": "markdown",
   "metadata": {
    "slideshow": {
     "slide_type": "fragment"
    }
   },
   "source": [
    "### 범주형 Feature의 처리\n",
    "\n",
    "-   Label Encoding\n",
    "-   One-Hot Encoding\n"
   ]
  },
  {
   "attachments": {
    "image.png": {
     "image/png": "[encoded data removed]"
    }
   },
   "cell_type": "markdown",
   "metadata": {
    "slideshow": {
     "slide_type": "slide"
    }
   },
   "source": [
    "### 레이블 인코딩(Label encoding)\n",
    "\n",
    "-   범주형 Feature의 고유값들 오름차순 정렬 후 0 부터 1씩 증가하는 값으로 변환\n",
    "-   **숫자의 크기의 차이가 모델에 영향을 주지 않는 트리 계열 모델(의사결정나무, 랜덤포레스트)에 적용한다.**\n",
    "-   **숫자의 크기의 차이가 모델에 영향을 미치는 선형 계열 모델(로지스틱회귀, SVM, 신경망)에는 사용하면 안된다.**\n",
    "\n",
    "![image.png](attachment:image.png)\n"
   ]
  },
  {
   "cell_type": "markdown",
   "metadata": {
    "slideshow": {
     "slide_type": "fragment"
    }
   },
   "source": [
    "-   **sklearn.preprocessing.LabelEncoder** 사용\n",
    "    -   fit(): 어떻게 변환할 지 학습\n",
    "    -   transform(): 문자열를 숫자로 변환\n",
    "    -   fit_transform(): 학습과 변환을 한번에 처리\n",
    "    -   inverse_transform():숫자를 문자열로 변환\n",
    "    -   classes\\_ : 인코딩한 클래스 조회\n"
   ]
  },
  {
   "cell_type": "code",
   "execution_count": null,
   "metadata": {
    "ExecuteTime": {
     "end_time": "2023-01-27T01:43:33.294558Z",
     "start_time": "2023-01-27T01:43:33.283093Z"
    }
   },
   "outputs": [],
   "source": [
    "import pandas as pd\n",
    "# LabelEncoder는 1차원 자료구조(iterable)을 받아서 변환.\n",
    "items = pd.Series(['TV', '냉장고', '컴퓨터', '컴퓨터', '냉장고', '에어콘',  'TV', '에어콘'])"
   ]
  },
  {
   "cell_type": "code",
   "execution_count": null,
   "metadata": {},
   "outputs": [],
   "source": [
    "import numpy as np\n",
    "from sklearn.preprocessing import LabelEncoder\n",
    "\n",
    "# LabelEncoder의 instance 생성\n",
    "le = LabelEncoder()\n",
    "\n",
    "# 학습: 각 고유값들을 어떤 정수로 바꿀지 계산.\n",
    "le.fit(['TV', '냉장고', '컴퓨터', '에어콘', '공기 청정기', '정수기'])  # 인코딩 대상을 넣어 학습한다.\n",
    "\n",
    "# 변환: 학습 결과에 맞춰서 값들을 변환\n",
    "result1 = le.transform(items)\n",
    "print(result1)"
   ]
  },
  {
   "cell_type": "code",
   "execution_count": null,
   "metadata": {},
   "outputs": [],
   "source": [
    "# 어떤 값을 어떻게 바꿨는지 조회, 값: 고유값, index: encoding 한 값\n",
    "print(le.classes_)\n",
    "type(le.classes_)"
   ]
  },
  {
   "cell_type": "code",
   "execution_count": null,
   "metadata": {},
   "outputs": [],
   "source": [
    "le.classes_[result1] # fancy indexing"
   ]
  },
  {
   "cell_type": "code",
   "execution_count": null,
   "metadata": {},
   "outputs": [],
   "source": [
    "le.inverse_transform(result1)"
   ]
  },
  {
   "cell_type": "code",
   "execution_count": null,
   "metadata": {},
   "outputs": [],
   "source": [
    "# fit 대상과 transform 대상이 동일한 경우. -> fit_transform() 한번에 변환.\n",
    "le2 = LabelEncoder()\n",
    "result2 = le2.fit_transform(items)\n",
    "print(le2.classes_)\n",
    "result2"
   ]
  },
  {
   "cell_type": "code",
   "execution_count": null,
   "metadata": {},
   "outputs": [],
   "source": [
    "### encoding 값을 원래 값으로 원복시키기(Decoding)\n",
    "le2.inverse_transform([1, 1, 1, 2, 2 ])"
   ]
  },
  {
   "cell_type": "code",
   "execution_count": null,
   "metadata": {
    "collapsed": true,
    "jupyter": {
     "outputs_hidden": true
    },
    "scrolled": true
   },
   "outputs": [],
   "source": [
    "# le2.transform(['마우스', '컴퓨터']) #fit() 할 때 없는 것을 변환하면 KeyError발생."
   ]
  },
  {
   "cell_type": "code",
   "execution_count": null,
   "metadata": {},
   "outputs": [],
   "source": []
  },
  {
   "attachments": {
    "image.png": {
     "image/png": "[encoded data removed]"
    }
   },
   "cell_type": "markdown",
   "metadata": {
    "slideshow": {
     "slide_type": "slide"
    }
   },
   "source": [
    "## 원핫 인코딩(One-Hot encoding)\n",
    "\n",
    "-   N개의 클래스를 N 차원의 One-Hot 벡터로 표현되도록 변환\n",
    "    -   고유값들을 피처(컬럼)로 만들고 정답에 해당하는 열은 1로 나머진 0으로 표시한다..\n",
    "-   **숫자의 크기 차이가 모델에 영향을 미치는 선형 계열 모델(로지스틱회귀, SVM, 신경망)에서 범주형 데이터 변환시 Label Encoding보다 One Hot Encoding을 사용한다.**\n",
    "-   **DecisionTree 계열의 알고리즘은 Feature에 0이 많은 경우(Sparse Matrix라고 한다.) 성능이 떨어지기 때문에 Label Encoding을 한다.**\n",
    "\n",
    "    ![image.png](attachment:image.png)\n"
   ]
  },
  {
   "cell_type": "markdown",
   "metadata": {
    "slideshow": {
     "slide_type": "slide"
    }
   },
   "source": [
    "### One-Hot Encoding 변환 처리\n",
    "\n",
    "-   **sklearn.preprocessing.OneHotEncoder**\n",
    "    -   fit(데이터셋): 데이터셋을 기준으로 어떻게 변환할 지 학습\n",
    "    -   transform(데이터셋): Argument로 받은 데이터셋을 원핫인코딩 처리\n",
    "    -   fit_transform(데이터셋): 학습과 변환을 한번에 처리\n",
    "    -   **get_feature_names_out()** : 원핫인코딩으로 변환된 Feature(컬럼)들의 이름을 반환\n",
    "    -   **데이터셋은 2차원 배열을 전달 하며 Feature별로 원핫인코딩 처리한다.**\n",
    "        -   DataFrame도 가능\n",
    "        -   원핫인코딩 처리시 모든 타입의 값들을 다 변환한다. (연속형 값들도 변환) 그래서 변환려는 변수들만 모아서 처리해야 한다.\n"
   ]
  },
  {
   "cell_type": "markdown",
   "metadata": {
    "slideshow": {
     "slide_type": "slide"
    }
   },
   "source": [
    "> OneHotEncoder객체 생성시 sparse 매개변수의 값을 False로 설정하지 않으면 scipy의 csr_matrix(희소행렬 객체)로 반환.  \n",
    "> 희소행렬은 대부분 0으로 구성된 행렬과 계산이나 메모리 효율을 이용해 0이 아닌 값의 index만 관리한다.  \n",
    "> csr_matrix.toarray()로 ndarray로 바꿀수 있다.\n"
   ]
  },
  {
   "cell_type": "code",
   "execution_count": null,
   "metadata": {
    "scrolled": true
   },
   "outputs": [],
   "source": [
    "import numpy as np\n",
    "# 원핫 인코딩은 열 단위로 처리하므로 2차원 형태의 자료구조를 입력한다.\n",
    "items=np.array([['TV'],['냉장고'],['전자렌지'],['컴퓨터'],['선풍기'],['선풍기'],['믹서'],['믹서']])\n",
    "print(np.shape(items)) # items.shape\n",
    "items  "
   ]
  },
  {
   "cell_type": "code",
   "execution_count": null,
   "metadata": {},
   "outputs": [],
   "source": [
    "from sklearn.preprocessing import OneHotEncoder\n",
    "# 객체 생성\n",
    "ohe = OneHotEncoder()\n",
    "# 학습 - 어떻게 바꿀지 학습.\n",
    "ohe.fit(items)\n",
    "# 변환\n",
    "result = ohe.transform(items)\n",
    "# ohe.fit_transform(items)"
   ]
  },
  {
   "cell_type": "code",
   "execution_count": null,
   "metadata": {},
   "outputs": [],
   "source": [
    "print(type(result))\n",
    "result"
   ]
  },
  {
   "cell_type": "code",
   "execution_count": null,
   "metadata": {},
   "outputs": [],
   "source": [
    "print(result)"
   ]
  },
  {
   "cell_type": "code",
   "execution_count": null,
   "metadata": {},
   "outputs": [],
   "source": [
    "result.toarray() # ndarray로 변환."
   ]
  },
  {
   "cell_type": "code",
   "execution_count": null,
   "metadata": {},
   "outputs": [],
   "source": [
    "ohe.get_feature_names_out()\n",
    "# one hot encoding된 각 열(컬럼)이 어떤 class(고유값)을 나타내는지 조회."
   ]
  },
  {
   "cell_type": "code",
   "execution_count": null,
   "metadata": {},
   "outputs": [],
   "source": [
    "## 학습대상과 변환대상이 같은 경우 - fit_transform()\n",
    "ohe2 = OneHotEncoder(sparse_output=False)  # ndarray로 결과를 반환.\n",
    "result2  = ohe2.fit_transform(items)\n",
    "result2"
   ]
  },
  {
   "cell_type": "code",
   "execution_count": null,
   "metadata": {},
   "outputs": [],
   "source": []
  },
  {
   "cell_type": "markdown",
   "metadata": {
    "slideshow": {
     "slide_type": "slide"
    }
   },
   "source": [
    "### adult dataset - one-hot encoding 적용\n",
    "#### 데이터셋 소개\n",
    "-   Adult 데이터셋은 1994년 인구조사 데이터 베이스에서 추출한 미국 성인의 소득 데이터셋.\n",
    "-   target 은 income 이며 수입이 $50,000 이하인지 초과인지 두개의 class를 가진다.\n",
    "-   https://archive.ics.uci.edu/ml/datasets/adult\n",
    "\n",
    "#### 처리\n",
    "-   범주형 컬럼을 원핫인코딩 처리한다.\n",
    "-   범주형 Feature중 **income은 출력 데이터이므로 Label Encoding 처리**를 한 뒤 y로 뺀다."
   ]
  },
  {
   "cell_type": "code",
   "execution_count": 3,
   "metadata": {},
   "outputs": [],
   "source": [
    "import pandas as pd\n",
    "import numpy as np"
   ]
  },
  {
   "cell_type": "code",
   "execution_count": 4,
   "metadata": {},
   "outputs": [],
   "source": [
    "cols = ['age', 'workclass','fnlwgt','education', 'education-num', 'marital-status', 'occupation','relationship', 'race', 'gender','capital-gain','capital-loss', 'hours-per-week','native-country', 'income']\n",
    "category_columns = ['workclass','education','marital-status', 'occupation','relationship','race','gender','native-country', 'income']\n",
    "number_columns = ['age','fnlwgt', 'education-num','capital-gain','capital-loss','hours-per-week']"
   ]
  },
  {
   "cell_type": "markdown",
   "metadata": {
    "slideshow": {
     "slide_type": "slide"
    }
   },
   "source": [
    "##### 데이터 로딩\n"
   ]
  },
  {
   "cell_type": "markdown",
   "metadata": {},
   "source": [
    "- ㅁㅁㅁ, ㄷㄷㄷ, ...\n",
    "- 이런 식으로 '공백'을 가독성을 위해 넣음\n",
    "- => 공백을 제거하고 데이터를 읽어들여야 한다. "
   ]
  },
  {
   "cell_type": "code",
   "execution_count": 5,
   "metadata": {},
   "outputs": [
    {
     "data": {
      "text/plain": [
       "(32561, 15)"
      ]
     },
     "execution_count": 5,
     "metadata": {},
     "output_type": "execute_result"
    }
   ],
   "source": [
    "import pandas as pd\n",
    "\n",
    "data = pd.read_csv(\n",
    "    'data/adult.data', \n",
    "    header=None,      # 첫번째 라인부터 데이터일 경우.\n",
    "    names=cols,       # header(컬럼명) 지정\n",
    "    na_values='?',    # 결측치로 읽을 값 설정.\n",
    "    skipinitialspace=True # 값 앞의 공백을 제거하고 읽는다. , abc -> ' abc', 'abc'\n",
    ")\n",
    "data.shape"
   ]
  },
  {
   "cell_type": "code",
   "execution_count": 6,
   "metadata": {},
   "outputs": [
    {
     "name": "stdout",
     "output_type": "stream",
     "text": [
      "<class 'pandas.core.frame.DataFrame'>\n",
      "RangeIndex: 32561 entries, 0 to 32560\n",
      "Data columns (total 15 columns):\n",
      " #   Column          Non-Null Count  Dtype \n",
      "---  ------          --------------  ----- \n",
      " 0   age             32561 non-null  int64 \n",
      " 1   workclass       30725 non-null  object\n",
      " 2   fnlwgt          32561 non-null  int64 \n",
      " 3   education       32561 non-null  object\n",
      " 4   education-num   32561 non-null  int64 \n",
      " 5   marital-status  32561 non-null  object\n",
      " 6   occupation      30718 non-null  object\n",
      " 7   relationship    32561 non-null  object\n",
      " 8   race            32561 non-null  object\n",
      " 9   gender          32561 non-null  object\n",
      " 10  capital-gain    32561 non-null  int64 \n",
      " 11  capital-loss    32561 non-null  int64 \n",
      " 12  hours-per-week  32561 non-null  int64 \n",
      " 13  native-country  31978 non-null  object\n",
      " 14  income          32561 non-null  object\n",
      "dtypes: int64(6), object(9)\n",
      "memory usage: 3.7+ MB\n"
     ]
    }
   ],
   "source": [
    "data.info()"
   ]
  },
  {
   "cell_type": "code",
   "execution_count": 7,
   "metadata": {},
   "outputs": [
    {
     "data": {
      "text/plain": [
       "age                  0\n",
       "workclass         1836\n",
       "fnlwgt               0\n",
       "education            0\n",
       "education-num        0\n",
       "marital-status       0\n",
       "occupation        1843\n",
       "relationship         0\n",
       "race                 0\n",
       "gender               0\n",
       "capital-gain         0\n",
       "capital-loss         0\n",
       "hours-per-week       0\n",
       "native-country     583\n",
       "income               0\n",
       "dtype: int64"
      ]
     },
     "execution_count": 7,
     "metadata": {},
     "output_type": "execute_result"
    }
   ],
   "source": [
    "data.isnull().sum()"
   ]
  },
  {
   "cell_type": "code",
   "execution_count": 8,
   "metadata": {},
   "outputs": [
    {
     "data": {
      "text/plain": [
       "workclass\n",
       "Private             22696\n",
       "Self-emp-not-inc     2541\n",
       "Local-gov            2093\n",
       "State-gov            1298\n",
       "Self-emp-inc         1116\n",
       "Federal-gov           960\n",
       "Without-pay            14\n",
       "Never-worked            7\n",
       "Name: count, dtype: int64"
      ]
     },
     "execution_count": 8,
     "metadata": {},
     "output_type": "execute_result"
    }
   ],
   "source": [
    "### 결측치 있는 범주형 값들 조회\n",
    "data['workclass'].value_counts()"
   ]
  },
  {
   "cell_type": "code",
   "execution_count": 9,
   "metadata": {},
   "outputs": [
    {
     "data": {
      "text/plain": [
       "occupation\n",
       "Prof-specialty       4140\n",
       "Craft-repair         4099\n",
       "Exec-managerial      4066\n",
       "Adm-clerical         3770\n",
       "Sales                3650\n",
       "Other-service        3295\n",
       "Machine-op-inspct    2002\n",
       "Transport-moving     1597\n",
       "Handlers-cleaners    1370\n",
       "Farming-fishing       994\n",
       "Tech-support          928\n",
       "Protective-serv       649\n",
       "Priv-house-serv       149\n",
       "Armed-Forces            9\n",
       "Name: count, dtype: int64"
      ]
     },
     "execution_count": 9,
     "metadata": {},
     "output_type": "execute_result"
    }
   ],
   "source": [
    "data['occupation'].value_counts()"
   ]
  },
  {
   "cell_type": "code",
   "execution_count": 10,
   "metadata": {},
   "outputs": [
    {
     "data": {
      "text/plain": [
       "native-country\n",
       "United-States                 29170\n",
       "Mexico                          643\n",
       "Philippines                     198\n",
       "Germany                         137\n",
       "Canada                          121\n",
       "Puerto-Rico                     114\n",
       "El-Salvador                     106\n",
       "India                           100\n",
       "Cuba                             95\n",
       "England                          90\n",
       "Jamaica                          81\n",
       "South                            80\n",
       "China                            75\n",
       "Italy                            73\n",
       "Dominican-Republic               70\n",
       "Vietnam                          67\n",
       "Guatemala                        64\n",
       "Japan                            62\n",
       "Poland                           60\n",
       "Columbia                         59\n",
       "Taiwan                           51\n",
       "Haiti                            44\n",
       "Iran                             43\n",
       "Portugal                         37\n",
       "Nicaragua                        34\n",
       "Peru                             31\n",
       "France                           29\n",
       "Greece                           29\n",
       "Ecuador                          28\n",
       "Ireland                          24\n",
       "Hong                             20\n",
       "Trinadad&Tobago                  19\n",
       "Cambodia                         19\n",
       "Thailand                         18\n",
       "Laos                             18\n",
       "Yugoslavia                       16\n",
       "Outlying-US(Guam-USVI-etc)       14\n",
       "Honduras                         13\n",
       "Hungary                          13\n",
       "Scotland                         12\n",
       "Holand-Netherlands                1\n",
       "Name: count, dtype: int64"
      ]
     },
     "execution_count": 10,
     "metadata": {},
     "output_type": "execute_result"
    }
   ],
   "source": [
    "data['native-country'].value_counts()"
   ]
  },
  {
   "cell_type": "code",
   "execution_count": 28,
   "metadata": {},
   "outputs": [
    {
     "data": {
      "text/plain": [
       "age               0\n",
       "workclass         0\n",
       "fnlwgt            0\n",
       "education         0\n",
       "education-num     0\n",
       "marital-status    0\n",
       "occupation        0\n",
       "relationship      0\n",
       "race              0\n",
       "gender            0\n",
       "capital-gain      0\n",
       "capital-loss      0\n",
       "hours-per-week    0\n",
       "native-country    0\n",
       "income            0\n",
       "dtype: int64"
      ]
     },
     "execution_count": 28,
     "metadata": {},
     "output_type": "execute_result"
    }
   ],
   "source": [
    "### 결측치 처리 - 최빈값으로 대체\n",
    "from sklearn.impute import SimpleImputer\n",
    "df = data.copy()\n",
    "\n",
    "imputer = SimpleImputer(strategy=\"most_frequent\")\n",
    "df[['workclass', 'occupation', 'native-country']] = imputer.fit_transform(df[['workclass', 'occupation', 'native-country']])\n",
    "# 세 개의 컬럼을 imputer에 넣어 fit and transform\n",
    "df.isnull().sum() # 결측치가 사라짐. 최빈값으로 다 채워 넣었기 때문이다. "
   ]
  },
  {
   "cell_type": "code",
   "execution_count": 29,
   "metadata": {},
   "outputs": [],
   "source": [
    "#### 결측치 처리한 DataFrame 저장\n",
    "df.to_csv('data/adult_imputer.csv', index=False)"
   ]
  },
  {
   "cell_type": "code",
   "execution_count": 16,
   "metadata": {},
   "outputs": [],
   "source": [
    "#### 제거 (행단위)\n",
    "data.isnull().sum()\n",
    "drop_df = data.dropna()\n",
    "drop_df.reset_index(drop=True, inplace=True) # index name 정리\n",
    "data.shape, drop_df.shape\n",
    "\n",
    "drop_df.to_csv(\"data/adult_dropna.csv\", index=False)"
   ]
  },
  {
   "cell_type": "code",
   "execution_count": null,
   "metadata": {},
   "outputs": [],
   "source": []
  },
  {
   "cell_type": "markdown",
   "metadata": {},
   "source": [
    "#### encoding 처리\n"
   ]
  },
  {
   "cell_type": "code",
   "execution_count": 17,
   "metadata": {},
   "outputs": [
    {
     "data": {
      "text/plain": [
       "(array([0, 1]), array([24720,  7841]))"
      ]
     },
     "execution_count": 17,
     "metadata": {},
     "output_type": "execute_result"
    }
   ],
   "source": [
    "from sklearn.preprocessing import LabelEncoder, OneHotEncoder\n",
    "# income: label encoding\n",
    "le = LabelEncoder()\n",
    "y = le.fit_transform(df['income'])\n",
    "np.unique(y, return_counts=True)"
   ]
  },
  {
   "cell_type": "code",
   "execution_count": 30,
   "metadata": {},
   "outputs": [],
   "source": [
    "X = df.drop(columns='income')"
   ]
  },
  {
   "cell_type": "code",
   "execution_count": 33,
   "metadata": {},
   "outputs": [],
   "source": [
    "ohe = OneHotEncoder()\n",
    "cate = ohe.fit_transform(X[category_columns[:-1]]) # 맨 마지막 열에 있는 income(y)를 뺀다\n",
    "# cate = ohe.fit_transform(df) 모든 컬럼을 다 넣는다면? -> ohe는 데이터가 범주형인지 연속형인지 구분하지 못함\n",
    "# 따라서 범주형 컬럼만 넣어줘야 한다. ohe가 알아서 하지 않는다. ㅠ ㅠ"
   ]
  },
  {
   "cell_type": "code",
   "execution_count": 35,
   "metadata": {},
   "outputs": [
    {
     "data": {
      "text/plain": [
       "(32561, 99)"
      ]
     },
     "execution_count": 35,
     "metadata": {},
     "output_type": "execute_result"
    }
   ],
   "source": [
    "cate.shape\n",
    "# 원래 범주형 컬럼은 9개였는데, 원-핫 벡터화 해서 99개로 늘어난 거다!"
   ]
  },
  {
   "cell_type": "code",
   "execution_count": 24,
   "metadata": {},
   "outputs": [
    {
     "data": {
      "text/plain": [
       "array([0., 0., 0., 0., 0., 0., 1., 0., 0., 0., 0., 0., 0., 0., 0., 0., 0.,\n",
       "       1., 0., 0., 0., 0., 0., 0., 0., 0., 0., 0., 1., 0., 0., 1., 0., 0.,\n",
       "       0., 0., 0., 0., 0., 0., 0., 0., 0., 0., 0., 0., 1., 0., 0., 0., 0.,\n",
       "       0., 0., 0., 0., 1., 0., 1., 0., 0., 0., 0., 0., 0., 0., 0., 0., 0.,\n",
       "       0., 0., 0., 0., 0., 0., 0., 0., 0., 0., 0., 0., 0., 0., 0., 0., 0.,\n",
       "       0., 0., 0., 0., 0., 0., 0., 0., 0., 0., 0., 1., 0., 0., 1., 0.])"
      ]
     },
     "execution_count": 24,
     "metadata": {},
     "output_type": "execute_result"
    }
   ],
   "source": [
    "cate.toarray()\n",
    "cate.toarray()[0] # 첫번째 원소"
   ]
  },
  {
   "cell_type": "code",
   "execution_count": 26,
   "metadata": {
    "collapsed": true,
    "jupyter": {
     "outputs_hidden": true
    }
   },
   "outputs": [
    {
     "data": {
      "text/plain": [
       "array(['workclass_Federal-gov', 'workclass_Local-gov',\n",
       "       'workclass_Never-worked', 'workclass_Private',\n",
       "       'workclass_Self-emp-inc', 'workclass_Self-emp-not-inc',\n",
       "       'workclass_State-gov', 'workclass_Without-pay', 'education_10th',\n",
       "       'education_11th', 'education_12th', 'education_1st-4th',\n",
       "       'education_5th-6th', 'education_7th-8th', 'education_9th',\n",
       "       'education_Assoc-acdm', 'education_Assoc-voc',\n",
       "       'education_Bachelors', 'education_Doctorate', 'education_HS-grad',\n",
       "       'education_Masters', 'education_Preschool',\n",
       "       'education_Prof-school', 'education_Some-college',\n",
       "       'marital-status_Divorced', 'marital-status_Married-AF-spouse',\n",
       "       'marital-status_Married-civ-spouse',\n",
       "       'marital-status_Married-spouse-absent',\n",
       "       'marital-status_Never-married', 'marital-status_Separated',\n",
       "       'marital-status_Widowed', 'occupation_Adm-clerical',\n",
       "       'occupation_Armed-Forces', 'occupation_Craft-repair',\n",
       "       'occupation_Exec-managerial', 'occupation_Farming-fishing',\n",
       "       'occupation_Handlers-cleaners', 'occupation_Machine-op-inspct',\n",
       "       'occupation_Other-service', 'occupation_Priv-house-serv',\n",
       "       'occupation_Prof-specialty', 'occupation_Protective-serv',\n",
       "       'occupation_Sales', 'occupation_Tech-support',\n",
       "       'occupation_Transport-moving', 'relationship_Husband',\n",
       "       'relationship_Not-in-family', 'relationship_Other-relative',\n",
       "       'relationship_Own-child', 'relationship_Unmarried',\n",
       "       'relationship_Wife', 'race_Amer-Indian-Eskimo',\n",
       "       'race_Asian-Pac-Islander', 'race_Black', 'race_Other',\n",
       "       'race_White', 'gender_Female', 'gender_Male',\n",
       "       'native-country_Cambodia', 'native-country_Canada',\n",
       "       'native-country_China', 'native-country_Columbia',\n",
       "       'native-country_Cuba', 'native-country_Dominican-Republic',\n",
       "       'native-country_Ecuador', 'native-country_El-Salvador',\n",
       "       'native-country_England', 'native-country_France',\n",
       "       'native-country_Germany', 'native-country_Greece',\n",
       "       'native-country_Guatemala', 'native-country_Haiti',\n",
       "       'native-country_Holand-Netherlands', 'native-country_Honduras',\n",
       "       'native-country_Hong', 'native-country_Hungary',\n",
       "       'native-country_India', 'native-country_Iran',\n",
       "       'native-country_Ireland', 'native-country_Italy',\n",
       "       'native-country_Jamaica', 'native-country_Japan',\n",
       "       'native-country_Laos', 'native-country_Mexico',\n",
       "       'native-country_Nicaragua',\n",
       "       'native-country_Outlying-US(Guam-USVI-etc)', 'native-country_Peru',\n",
       "       'native-country_Philippines', 'native-country_Poland',\n",
       "       'native-country_Portugal', 'native-country_Puerto-Rico',\n",
       "       'native-country_Scotland', 'native-country_South',\n",
       "       'native-country_Taiwan', 'native-country_Thailand',\n",
       "       'native-country_Trinadad&Tobago', 'native-country_United-States',\n",
       "       'native-country_Vietnam', 'native-country_Yugoslavia',\n",
       "       'income_<=50K', 'income_>50K'], dtype=object)"
      ]
     },
     "execution_count": 26,
     "metadata": {},
     "output_type": "execute_result"
    }
   ],
   "source": [
    "ohe.get_feature_names_out() # 뭘 바꾼 건데? -> get_feature_names_out\n",
    "# workclass_Federal-gov: 0, workclass_Local-gov: 0, ..."
   ]
  },
  {
   "cell_type": "code",
   "execution_count": 37,
   "metadata": {},
   "outputs": [
    {
     "data": {
      "text/plain": [
       "(32561, 105)"
      ]
     },
     "execution_count": 37,
     "metadata": {},
     "output_type": "execute_result"
    }
   ],
   "source": [
    "# ohe hot encoding 결과 + number 타입 컬럼 \n",
    "## Series/DataFrame.values : ndarray 변환\n",
    "X = np.concatenate([cate.toarray(), df[number_columns].values], axis=1)\n",
    "# df[number_columns]는 nparray가 아니니까 .values을 써서 넘파이 배열로 바꾸는 거다. \n",
    "X.shape"
   ]
  },
  {
   "cell_type": "markdown",
   "metadata": {},
   "source": [
    "#### 모델링"
   ]
  },
  {
   "cell_type": "code",
   "execution_count": 38,
   "metadata": {},
   "outputs": [],
   "source": [
    "from sklearn.model_selection import train_test_split, cross_val_score\n",
    "from sklearn.tree import DecisionTreeClassifier\n",
    "from sklearn.linear_model import LogisticRegression # 선형 계열 모델\n",
    "from sklearn.metrics import accuracy_score"
   ]
  },
  {
   "cell_type": "code",
   "execution_count": 39,
   "metadata": {},
   "outputs": [
    {
     "data": {
      "text/plain": [
       "((19536, 105), (6512, 105), (6513, 105))"
      ]
     },
     "execution_count": 39,
     "metadata": {},
     "output_type": "execute_result"
    }
   ],
   "source": [
    "# train / validation / test set 분리\n",
    "X_train, X_test, y_train, y_test = train_test_split(X, y, test_size=0.2, stratify=y, random_state=0)\n",
    "X_train, X_valid, y_train, y_valid = train_test_split(X_train, y_train, test_size=0.25, stratify=y_train, random_state=0)\n",
    "X_train.shape, X_valid.shape, X_test.shape"
   ]
  },
  {
   "cell_type": "code",
   "execution_count": null,
   "metadata": {},
   "outputs": [],
   "source": []
  },
  {
   "cell_type": "code",
   "execution_count": 40,
   "metadata": {},
   "outputs": [
    {
     "name": "stdout",
     "output_type": "stream",
     "text": [
      "train set accuracy: 0.8462837837837838\n",
      "validation set  accuracy: 0.8416769041769042\n"
     ]
    }
   ],
   "source": [
    "# 모델 학습: 모델: DecisionTreeClassifier (max_depth, random_state=고정), 평가지표: accuracy\n",
    "## 모델 생성\n",
    "tree = DecisionTreeClassifier(max_depth=3, random_state=0)\n",
    "\n",
    "## fit() - train set\n",
    "tree.fit(X_train, y_train)\n",
    "\n",
    "## 검증 - validation set\n",
    "pred_train = tree.predict(X_train)\n",
    "pred_val = tree.predict(X_valid)\n",
    "\n",
    "train_acc = accuracy_score(y_train, pred_train)\n",
    "val_acc = accuracy_score(y_valid, pred_val)\n",
    "\n",
    "print(f\"train set accuracy: {train_acc}\")\n",
    "print(f\"validation set  accuracy: {val_acc}\")"
   ]
  },
  {
   "cell_type": "code",
   "execution_count": 41,
   "metadata": {},
   "outputs": [
    {
     "name": "stdout",
     "output_type": "stream",
     "text": [
      "test set 정확도: 0.8387839705204975\n"
     ]
    }
   ],
   "source": [
    "# 최종 평가 - test set\n",
    "\n",
    "pred_test = tree.predict(X_test)\n",
    "test_acc = accuracy_score(y_test, pred_test)\n",
    "print(f'test set 정확도: {test_acc}')"
   ]
  },
  {
   "cell_type": "markdown",
   "metadata": {
    "slideshow": {
     "slide_type": "slide"
    }
   },
   "source": [
    "# 수치형 데이터 전처리\n",
    "\n",
    "-   연속형 데이터는 변수가 가지는 값들이 연속된 값인 경우로 보통 정해진 범위 안의 모든 실수가 값이 될 수 있다.\n",
    "\n",
    "## Feature Scaling(정규화)\n",
    "\n",
    "-   각 피처들간의 값의 범위(척도-Scale)가 다를 경우 이 값의 범위를 일정한 범위로 맞추는 작업\n",
    "-   트리계열을 제외한 대부분의 머신러닝 알고리즘들이 Feature간의 서로 다른 척도(Scale)에 영향을 받는다.\n",
    "    -   선형모델, SVM 모델, 신경망 모델\n",
    "-   **Scaling(정규화)은 train set으로 fitting 한다. test set이나 예측할 새로운 데이터는 train set으로 fitting한 것으로 변환한다.**\n",
    "    -   Train Set으로 학습한 scaler를 이용해 Train/Validation/Test set들을 변환한다.\n",
    "    - (질문) train, val, test 데이터 전체를 이용해 min max 하면 되는 거 아닌가요?: train, val, test 전체로 0 ~ 1 값으로 변환한다면, 범위 밖의 데이터가 들어왔을 때 대처를 못 할 수도 있다. train으로만 min max해서 0 ~ 1로 변환하고, val을 이용해 예상 밖 범위 데이터를 한 번 대처해본 후 -> test data를 시험하면: val에서 범위 밖 데이터를 처리해 본 경험이 있기에 test data를 좀 더 처리할 수 있다.\n"
   ]
  },
  {
   "cell_type": "markdown",
   "metadata": {
    "slideshow": {
     "slide_type": "fragment"
    }
   },
   "source": [
    "### 종류\n",
    "\n",
    "-   표준화(Standardization) Scaling\n",
    "    -   StandardScaler 사용\n",
    "-   Min Max Scaling\n",
    "    -   MinMaxScaler 사용\n"
   ]
  },
  {
   "cell_type": "markdown",
   "metadata": {
    "slideshow": {
     "slide_type": "fragment"
    }
   },
   "source": [
    "### 메소드\n",
    "\n",
    "-   fit(): 어떻게 변환할 지 학습\n",
    "    -   2차원 배열을 받으면 0축을 기준으로 학습한다. (DataFrame으로는 컬럼기준)\n",
    "-   transform(): 변환\n",
    "    -   2차원 배열을 받으며 0축을 기준으로 변환한다. (DataFrame으로는 컬럼기준)\n",
    "-   fit_transform(): 학습과 변환을 한번에 처리\n",
    "-   inverse_transform(): 변환된 값을 원래값으로 복원\n"
   ]
  },
  {
   "cell_type": "markdown",
   "metadata": {
    "slideshow": {
     "slide_type": "slide"
    }
   },
   "source": [
    "## 표준화(StandardScaler)\n",
    "\n",
    "-   피쳐의 값들이 평균이 0이고 표준편차가 1인 범위에 있도록 변환한다.\n",
    "    -   0을 기준으로 모든 데이터들이 모여있게 된다\n",
    "\n",
    "\\begin{align}\n",
    "&New\\,x_i = \\cfrac{X_i-\\mu}{\\sigma}\\\\\n",
    "&\\mu-평균,\\; \\sigma-표준편차\n",
    "\\end{align}\n",
    "\n",
    "-   **sklearn.preprocessing.StandardScaler** 를 이용\n"
   ]
  },
  {
   "cell_type": "code",
   "execution_count": 42,
   "metadata": {
    "scrolled": true
   },
   "outputs": [
    {
     "name": "stdout",
     "output_type": "stream",
     "text": [
      "(3, 1)\n"
     ]
    },
    {
     "data": {
      "text/plain": [
       "array([[10],\n",
       "       [ 2],\n",
       "       [30]])"
      ]
     },
     "execution_count": 42,
     "metadata": {},
     "output_type": "execute_result"
    }
   ],
   "source": [
    "import numpy as np\n",
    "data = np.array([[10], [2], [30]])  # ndarray 생성.\n",
    "print(data.shape)\n",
    "data"
   ]
  },
  {
   "cell_type": "code",
   "execution_count": 43,
   "metadata": {},
   "outputs": [
    {
     "name": "stdout",
     "output_type": "stream",
     "text": [
      "14.0 --- 11.775681155103795\n"
     ]
    }
   ],
   "source": [
    "# 평균, 표준편차 계산\n",
    "m = data.mean() # 평균\n",
    "s = data.std()  # 표준편차\n",
    "print(m, s, sep=\" --- \")"
   ]
  },
  {
   "cell_type": "code",
   "execution_count": 45,
   "metadata": {},
   "outputs": [
    {
     "data": {
      "text/plain": [
       "array([[-0.33968311],\n",
       "       [-1.01904933],\n",
       "       [ 1.35873244]])"
      ]
     },
     "execution_count": 45,
     "metadata": {},
     "output_type": "execute_result"
    }
   ],
   "source": [
    "# Standard Scaling\n",
    "result = (data - m)/s # 표준화\n",
    "result"
   ]
  },
  {
   "cell_type": "code",
   "execution_count": 46,
   "metadata": {},
   "outputs": [
    {
     "name": "stdout",
     "output_type": "stream",
     "text": [
      "0.0 1.0\n"
     ]
    }
   ],
   "source": [
    "print(result.mean(), result.std())"
   ]
  },
  {
   "cell_type": "markdown",
   "metadata": {},
   "source": [
    "위 아래 두 코드의 동작은 동일하다. "
   ]
  },
  {
   "cell_type": "code",
   "execution_count": 47,
   "metadata": {},
   "outputs": [
    {
     "data": {
      "text/plain": [
       "array([[-0.33968311],\n",
       "       [-1.01904933],\n",
       "       [ 1.35873244]])"
      ]
     },
     "execution_count": 47,
     "metadata": {},
     "output_type": "execute_result"
    }
   ],
   "source": [
    "from sklearn.preprocessing import StandardScaler\n",
    "# 객체 생성\n",
    "s_scaler = StandardScaler()\n",
    "# 어떻게 변환할지 학습 \n",
    "s_scaler.fit(data) # feature별 평균과 표준편차 계산\n",
    "result2 = s_scaler.transform(data)\n",
    "# result3 = s_scaler.fit_transform(data) # 학습/변환 대상이 같은 경우.\n",
    "result2"
   ]
  },
  {
   "cell_type": "markdown",
   "metadata": {
    "slideshow": {
     "slide_type": "slide"
    }
   },
   "source": [
    "## MinMaxScaler\n",
    "\n",
    "-   데이터셋의 모든 값을 0(Min value)과 1(Max value) 사이의 값으로 변환한다.\n",
    "    $$\n",
    "    New\\,x_i = \\cfrac{x_i - min(X)}{max(X) - min(X)}\n",
    "    $$\n"
   ]
  },
  {
   "cell_type": "markdown",
   "metadata": {
    "slideshow": {
     "slide_type": "slide"
    }
   },
   "source": [
    "##### 예제\n"
   ]
  },
  {
   "cell_type": "code",
   "execution_count": 48,
   "metadata": {
    "ExecuteTime": {
     "end_time": "2023-01-30T05:12:17.195687Z",
     "start_time": "2023-01-30T05:12:17.184871Z"
    }
   },
   "outputs": [
    {
     "data": {
      "text/plain": [
       "array([[10],\n",
       "       [ 2],\n",
       "       [30]])"
      ]
     },
     "execution_count": 48,
     "metadata": {},
     "output_type": "execute_result"
    }
   ],
   "source": [
    "data = np.array([[10], [2], [30]])\n",
    "data"
   ]
  },
  {
   "cell_type": "code",
   "execution_count": 49,
   "metadata": {
    "scrolled": true
   },
   "outputs": [
    {
     "name": "stdout",
     "output_type": "stream",
     "text": [
      "2 30\n"
     ]
    }
   ],
   "source": [
    "minimum = data.min() #axis=0)\n",
    "maximum = data.max()\n",
    "print(minimum, maximum)"
   ]
  },
  {
   "cell_type": "code",
   "execution_count": 50,
   "metadata": {},
   "outputs": [
    {
     "data": {
      "text/plain": [
       "array([[0.28571429],\n",
       "       [0.        ],\n",
       "       [1.        ]])"
      ]
     },
     "execution_count": 50,
     "metadata": {},
     "output_type": "execute_result"
    }
   ],
   "source": [
    "# 변환\n",
    "result = (data - minimum) / (maximum - minimum)\n",
    "result"
   ]
  },
  {
   "cell_type": "code",
   "execution_count": 53,
   "metadata": {},
   "outputs": [
    {
     "data": {
      "text/plain": [
       "array([[0.28571429],\n",
       "       [0.        ],\n",
       "       [1.        ]])"
      ]
     },
     "execution_count": 53,
     "metadata": {},
     "output_type": "execute_result"
    }
   ],
   "source": [
    "from sklearn.preprocessing import MinMaxScaler\n",
    "\n",
    "# 객체 생성\n",
    "mm_scaler = MinMaxScaler()\n",
    "# 학습\n",
    "mm_scaler.fit(data) # feature별로 min/max 값 계산\n",
    "# 변환\n",
    "result2 = mm_scaler.transform(data)\n",
    "# result3 = mm_scaler.fit_transform(data)  # 학습/변환 대상이 같은 경우.\n",
    "result2"
   ]
  },
  {
   "cell_type": "code",
   "execution_count": 54,
   "metadata": {},
   "outputs": [
    {
     "data": {
      "text/plain": [
       "array([[10.],\n",
       "       [ 2.],\n",
       "       [30.]])"
      ]
     },
     "execution_count": 54,
     "metadata": {},
     "output_type": "execute_result"
    }
   ],
   "source": [
    "mm_scaler.inverse_transform(result2) # 원래 상태로 되돌린다. "
   ]
  },
  {
   "cell_type": "code",
   "execution_count": 55,
   "metadata": {},
   "outputs": [
    {
     "data": {
      "text/plain": [
       "array([[ 4.8],\n",
       "       [24.4],\n",
       "       [13.2]])"
      ]
     },
     "execution_count": 55,
     "metadata": {},
     "output_type": "execute_result"
    }
   ],
   "source": [
    "mm_scaler.inverse_transform([[0.1], [0.8], [.4]]) # 원래 상태로 되돌린다. "
   ]
  },
  {
   "cell_type": "markdown",
   "metadata": {},
   "source": [
    "전처리 - fit()을 할 때는 전체 데이터 셋으로 하는 게 아니다. **train dataset**으로 하는 거다! train dataset으로 하고, 그걸로 val, test에 적용시키는 거다. 물론 전체로 해도 되지만.. 모델이 학습할 때는 train set으로 하고, val과 test는 평가할 때 쓰는 거니까. 학습은 val, test로 안 하면서 전처리 할 때는 쓰면 안 되겠죠? = data leak (데이터 누수)"
   ]
  },
  {
   "cell_type": "markdown",
   "metadata": {
    "slideshow": {
     "slide_type": "slide"
    }
   },
   "source": [
    "## 위스콘신 유방암 데이터셋으로 Scaling\n",
    "\n",
    "-   위스콘신 대학교에서 제공한 유방암 진단결과 데이터\n",
    "    -   https://archive.ics.uci.edu/dataset/15/breast+cancer+wisconsin+original\n",
    "-   Feature: 종양 측정값들\n",
    "    -   모든 Feature들은 **연속형(continous)** 이다.\n",
    "-   target: 악성, 양성 여부\n",
    "-   scikit-learn 패키지에서 toy dataset으로 제공한다.\n",
    "    -   load_breast_cancer() 함수 이용\n"
   ]
  },
  {
   "cell_type": "markdown",
   "metadata": {},
   "source": [
    "### 데이터 로딩 및 전처리"
   ]
  },
  {
   "cell_type": "code",
   "execution_count": 56,
   "metadata": {},
   "outputs": [
    {
     "data": {
      "text/plain": [
       "((569, 30), (569,))"
      ]
     },
     "execution_count": 56,
     "metadata": {},
     "output_type": "execute_result"
    }
   ],
   "source": [
    "from sklearn.datasets import load_breast_cancer\n",
    "\n",
    "data = load_breast_cancer()\n",
    "feature = data['data']   # 속성 - 종양 검사 기록\n",
    "target = data['target']   # 타겟 - 악성/양성 종양 여부.\n",
    "\n",
    "feature.shape, target.shape"
   ]
  },
  {
   "cell_type": "code",
   "execution_count": 57,
   "metadata": {},
   "outputs": [
    {
     "data": {
      "text/plain": [
       "array(['malignant', 'benign'], dtype='<U9')"
      ]
     },
     "execution_count": 57,
     "metadata": {},
     "output_type": "execute_result"
    }
   ],
   "source": [
    "data['feature_names']\n",
    "data['target_names']"
   ]
  },
  {
   "cell_type": "code",
   "execution_count": 58,
   "metadata": {
    "collapsed": true,
    "jupyter": {
     "outputs_hidden": true
    }
   },
   "outputs": [
    {
     "data": {
      "text/plain": [
       "array([[1.799e+01, 1.038e+01, 1.228e+02, 1.001e+03, 1.184e-01, 2.776e-01,\n",
       "        3.001e-01, 1.471e-01, 2.419e-01, 7.871e-02, 1.095e+00, 9.053e-01,\n",
       "        8.589e+00, 1.534e+02, 6.399e-03, 4.904e-02, 5.373e-02, 1.587e-02,\n",
       "        3.003e-02, 6.193e-03, 2.538e+01, 1.733e+01, 1.846e+02, 2.019e+03,\n",
       "        1.622e-01, 6.656e-01, 7.119e-01, 2.654e-01, 4.601e-01, 1.189e-01],\n",
       "       [2.057e+01, 1.777e+01, 1.329e+02, 1.326e+03, 8.474e-02, 7.864e-02,\n",
       "        8.690e-02, 7.017e-02, 1.812e-01, 5.667e-02, 5.435e-01, 7.339e-01,\n",
       "        3.398e+00, 7.408e+01, 5.225e-03, 1.308e-02, 1.860e-02, 1.340e-02,\n",
       "        1.389e-02, 3.532e-03, 2.499e+01, 2.341e+01, 1.588e+02, 1.956e+03,\n",
       "        1.238e-01, 1.866e-01, 2.416e-01, 1.860e-01, 2.750e-01, 8.902e-02],\n",
       "       [1.969e+01, 2.125e+01, 1.300e+02, 1.203e+03, 1.096e-01, 1.599e-01,\n",
       "        1.974e-01, 1.279e-01, 2.069e-01, 5.999e-02, 7.456e-01, 7.869e-01,\n",
       "        4.585e+00, 9.403e+01, 6.150e-03, 4.006e-02, 3.832e-02, 2.058e-02,\n",
       "        2.250e-02, 4.571e-03, 2.357e+01, 2.553e+01, 1.525e+02, 1.709e+03,\n",
       "        1.444e-01, 4.245e-01, 4.504e-01, 2.430e-01, 3.613e-01, 8.758e-02]])"
      ]
     },
     "execution_count": 58,
     "metadata": {},
     "output_type": "execute_result"
    }
   ],
   "source": [
    "feature[:3]"
   ]
  },
  {
   "cell_type": "code",
   "execution_count": 59,
   "metadata": {},
   "outputs": [
    {
     "data": {
      "text/plain": [
       "array([1.41272917e+01, 1.92896485e+01, 9.19690334e+01, 6.54889104e+02,\n",
       "       9.63602812e-02, 1.04340984e-01, 8.87993158e-02, 4.89191459e-02,\n",
       "       1.81161863e-01, 6.27976098e-02, 4.05172056e-01, 1.21685343e+00,\n",
       "       2.86605923e+00, 4.03370791e+01, 7.04097891e-03, 2.54781388e-02,\n",
       "       3.18937163e-02, 1.17961371e-02, 2.05422988e-02, 3.79490387e-03,\n",
       "       1.62691898e+01, 2.56772232e+01, 1.07261213e+02, 8.80583128e+02,\n",
       "       1.32368594e-01, 2.54265044e-01, 2.72188483e-01, 1.14606223e-01,\n",
       "       2.90075571e-01, 8.39458172e-02])"
      ]
     },
     "execution_count": 59,
     "metadata": {},
     "output_type": "execute_result"
    }
   ],
   "source": [
    "# 평균, 표준편차\n",
    "feature.mean(axis=0)"
   ]
  },
  {
   "cell_type": "code",
   "execution_count": 60,
   "metadata": {},
   "outputs": [
    {
     "data": {
      "text/plain": [
       "array([3.52095076e+00, 4.29725464e+00, 2.42776193e+01, 3.51604754e+02,\n",
       "       1.40517641e-02, 5.27663291e-02, 7.96497253e-02, 3.87687325e-02,\n",
       "       2.73901809e-02, 7.05415588e-03, 2.77068942e-01, 5.51163427e-01,\n",
       "       2.02007710e+00, 4.54510134e+01, 2.99987837e-03, 1.78924359e-02,\n",
       "       3.01595231e-02, 6.16486075e-03, 8.25910439e-03, 2.64374475e-03,\n",
       "       4.82899258e+00, 6.14085432e+00, 3.35730016e+01, 5.68856459e+02,\n",
       "       2.28123569e-02, 1.57198171e-01, 2.08440875e-01, 6.56745545e-02,\n",
       "       6.18130785e-02, 1.80453893e-02])"
      ]
     },
     "execution_count": 60,
     "metadata": {},
     "output_type": "execute_result"
    }
   ],
   "source": [
    "feature.std(axis=0)"
   ]
  },
  {
   "cell_type": "code",
   "execution_count": 61,
   "metadata": {
    "collapsed": true,
    "jupyter": {
     "outputs_hidden": true
    }
   },
   "outputs": [
    {
     "data": {
      "text/plain": [
       "array([[0.52103744, 0.0226581 , 0.54598853, 0.36373277, 0.59375282,\n",
       "        0.7920373 , 0.70313964, 0.73111332, 0.68636364, 0.60551811,\n",
       "        0.35614702, 0.12046941, 0.3690336 , 0.27381126, 0.15929565,\n",
       "        0.35139844, 0.13568182, 0.30062512, 0.31164518, 0.18304244,\n",
       "        0.62077552, 0.14152452, 0.66831017, 0.45069799, 0.60113584,\n",
       "        0.61929156, 0.56861022, 0.91202749, 0.59846245, 0.41886396],\n",
       "       [0.64314449, 0.27257355, 0.61578329, 0.50159067, 0.28987993,\n",
       "        0.18176799, 0.20360825, 0.34875746, 0.37979798, 0.14132266,\n",
       "        0.15643672, 0.08258929, 0.12444047, 0.12565979, 0.11938675,\n",
       "        0.08132304, 0.0469697 , 0.25383595, 0.08453875, 0.0911101 ,\n",
       "        0.60690146, 0.30357143, 0.53981772, 0.43521431, 0.34755332,\n",
       "        0.15456336, 0.19297125, 0.63917526, 0.23358959, 0.22287813],\n",
       "       [0.60149557, 0.3902604 , 0.59574321, 0.44941676, 0.51430893,\n",
       "        0.4310165 , 0.46251172, 0.63568588, 0.50959596, 0.21124684,\n",
       "        0.22962158, 0.09430251, 0.18037035, 0.16292179, 0.15083115,\n",
       "        0.2839547 , 0.09676768, 0.38984656, 0.20569032, 0.12700551,\n",
       "        0.55638563, 0.36007463, 0.50844166, 0.37450845, 0.48358978,\n",
       "        0.38537513, 0.35974441, 0.83505155, 0.40370589, 0.21343303],\n",
       "       [0.2100904 , 0.36083869, 0.23350149, 0.10290562, 0.81132075,\n",
       "        0.81136127, 0.5656045 , 0.52286282, 0.77626263, 1.        ,\n",
       "        0.13909107, 0.17587518, 0.12665504, 0.03815479, 0.25145324,\n",
       "        0.54321507, 0.14295455, 0.35366547, 0.72814769, 0.28720479,\n",
       "        0.24831021, 0.38592751, 0.24134668, 0.09400806, 0.9154725 ,\n",
       "        0.8140117 , 0.54864217, 0.88487973, 1.        , 0.77371114],\n",
       "       [0.62989256, 0.15657761, 0.63098611, 0.4892895 , 0.43035118,\n",
       "        0.34789277, 0.46391753, 0.51838966, 0.37828283, 0.1868155 ,\n",
       "        0.2338222 , 0.09306489, 0.2205626 , 0.16368757, 0.33235884,\n",
       "        0.16791841, 0.14363636, 0.3570752 , 0.13617943, 0.14579965,\n",
       "        0.51974386, 0.1239339 , 0.50694756, 0.34157491, 0.4373638 ,\n",
       "        0.17241513, 0.31948882, 0.55841924, 0.15750049, 0.14259478]])"
      ]
     },
     "execution_count": 61,
     "metadata": {},
     "output_type": "execute_result"
    }
   ],
   "source": [
    "s_scaler = StandardScaler()\n",
    "mm_scaler = MinMaxScaler()\n",
    "result = s_scaler.fit_transform(feature)\n",
    "result2 = mm_scaler.fit_transform(feature)\n",
    "result2[:5]"
   ]
  },
  {
   "cell_type": "code",
   "execution_count": 66,
   "metadata": {},
   "outputs": [
    {
     "data": {
      "text/plain": [
       "array([ 1.09706398, -2.07333501,  1.26993369,  0.9843749 ,  1.56846633,\n",
       "        3.28351467,  2.65287398,  2.53247522,  2.21751501,  2.25574689,\n",
       "        2.48973393, -0.56526506,  2.83303087,  2.48757756, -0.21400165,\n",
       "        1.31686157,  0.72402616,  0.66081994,  1.14875667,  0.90708308,\n",
       "        1.88668963, -1.35929347,  2.30360062,  2.00123749,  1.30768627,\n",
       "        2.61666502,  2.10952635,  2.29607613,  2.75062224,  1.93701461])"
      ]
     },
     "execution_count": 66,
     "metadata": {},
     "output_type": "execute_result"
    }
   ],
   "source": [
    "result[0]"
   ]
  },
  {
   "cell_type": "code",
   "execution_count": 62,
   "metadata": {
    "collapsed": true,
    "jupyter": {
     "outputs_hidden": true
    }
   },
   "outputs": [
    {
     "data": {
      "text/plain": [
       "array([-3.16286735e-15, -6.53060890e-15, -7.07889127e-16, -8.79983452e-16,\n",
       "        6.13217737e-15, -1.12036918e-15, -4.42138027e-16,  9.73249991e-16,\n",
       "       -1.97167024e-15, -1.45363120e-15, -9.07641468e-16, -8.85349205e-16,\n",
       "        1.77367396e-15, -8.29155139e-16, -7.54180940e-16, -3.92187747e-16,\n",
       "        7.91789988e-16, -2.73946068e-16, -3.10823423e-16, -3.36676596e-16,\n",
       "       -2.33322442e-15,  1.76367415e-15, -1.19802625e-15,  5.04966114e-16,\n",
       "       -5.21317026e-15, -2.17478837e-15,  6.85645643e-16, -1.41265636e-16,\n",
       "       -2.28956670e-15,  2.57517109e-15])"
      ]
     },
     "execution_count": 62,
     "metadata": {},
     "output_type": "execute_result"
    }
   ],
   "source": [
    "result.mean(axis=0)"
   ]
  },
  {
   "cell_type": "code",
   "execution_count": 63,
   "metadata": {},
   "outputs": [
    {
     "data": {
      "text/plain": [
       "array([1., 1., 1., 1., 1., 1., 1., 1., 1., 1., 1., 1., 1., 1., 1., 1., 1.,\n",
       "       1., 1., 1., 1., 1., 1., 1., 1., 1., 1., 1., 1., 1.])"
      ]
     },
     "execution_count": 63,
     "metadata": {},
     "output_type": "execute_result"
    }
   ],
   "source": [
    "result.std(axis=0)"
   ]
  },
  {
   "cell_type": "code",
   "execution_count": 64,
   "metadata": {},
   "outputs": [
    {
     "data": {
      "text/plain": [
       "array([0., 0., 0., 0., 0., 0., 0., 0., 0., 0., 0., 0., 0., 0., 0., 0., 0.,\n",
       "       0., 0., 0., 0., 0., 0., 0., 0., 0., 0., 0., 0., 0.])"
      ]
     },
     "execution_count": 64,
     "metadata": {},
     "output_type": "execute_result"
    }
   ],
   "source": [
    "result2.min(axis=0)"
   ]
  },
  {
   "cell_type": "code",
   "execution_count": 65,
   "metadata": {},
   "outputs": [
    {
     "data": {
      "text/plain": [
       "array([1., 1., 1., 1., 1., 1., 1., 1., 1., 1., 1., 1., 1., 1., 1., 1., 1.,\n",
       "       1., 1., 1., 1., 1., 1., 1., 1., 1., 1., 1., 1., 1.])"
      ]
     },
     "execution_count": 65,
     "metadata": {},
     "output_type": "execute_result"
    }
   ],
   "source": [
    "result2.max(axis=0)"
   ]
  },
  {
   "cell_type": "markdown",
   "metadata": {},
   "source": [
    "### 모델링"
   ]
  },
  {
   "cell_type": "code",
   "execution_count": 67,
   "metadata": {},
   "outputs": [
    {
     "data": {
      "text/plain": [
       "((364, 30), (91, 30), (114, 30))"
      ]
     },
     "execution_count": 67,
     "metadata": {},
     "output_type": "execute_result"
    }
   ],
   "source": [
    "# train set/test set/validation set\n",
    "from sklearn.model_selection import train_test_split\n",
    "\n",
    "# fit() -> trainset\n",
    "# transform() -> train/valid/test set (trainset으로 학습한 Scalar 객체를 이용한다. )\n",
    "\n",
    "X_train, X_test, y_train, y_test = train_test_split(feature, target, test_size=0.2, stratify=target, \n",
    "                                                    random_state=0)\n",
    "X_train, X_valid, y_train, y_valid = train_test_split(X_train, y_train, test_size=0.2, stratify=y_train, \n",
    "                                                      random_state=0)\n",
    "\n",
    "X_train.shape, X_valid.shape, X_test.shape"
   ]
  },
  {
   "cell_type": "code",
   "execution_count": 68,
   "metadata": {},
   "outputs": [
    {
     "name": "stdout",
     "output_type": "stream",
     "text": [
      "[-2.57349087e-15 -1.32921757e-15 -6.43105837e-16  2.44310067e-16\n",
      " -8.97938622e-16  4.88620133e-16  4.11148527e-16 -5.05395481e-16\n",
      " -1.67997484e-15  2.69198583e-15 -3.18807862e-16  8.82688306e-16\n",
      " -4.05810916e-16  6.43563347e-16  7.83179992e-16 -3.52434809e-16\n",
      "  5.37573649e-16 -8.97824245e-16 -1.95623432e-15  1.57078258e-16\n",
      " -2.40116230e-16 -7.12189770e-17 -1.59483995e-15  1.17412185e-15\n",
      "  5.79512018e-15  1.85504847e-15  2.56205313e-17 -3.49232243e-16\n",
      "  5.84392120e-16 -1.46769044e-15] [1. 1. 1. 1. 1. 1. 1. 1. 1. 1. 1. 1. 1. 1. 1. 1. 1. 1. 1. 1. 1. 1. 1. 1.\n",
      " 1. 1. 1. 1. 1. 1.]\n",
      "[-0.04530476  0.06442814 -0.04763283 -0.04718105  0.0491703  -0.00465532\n",
      " -0.04430904 -0.00228626  0.1440289   0.03409771  0.11236541  0.01312549\n",
      "  0.11299126  0.09671882  0.133951   -0.00739747 -0.05742507  0.02280448\n",
      "  0.04359547  0.06701324 -0.02866774 -0.0063776  -0.02648608 -0.03962948\n",
      "  0.0723013  -0.01883656 -0.0728466  -0.01860934  0.00212971  0.03249858] [0.96981196 1.13202563 0.96287472 0.97321049 0.92786375 0.89304191\n",
      " 0.88414863 0.91687287 0.97523208 0.99508411 1.34745454 1.03051739\n",
      " 1.41507225 1.43801477 1.10875145 0.84112243 0.65835526 1.02390639\n",
      " 0.87661422 0.93664941 0.95081831 1.07521562 0.93717511 0.90525973\n",
      " 0.93842502 0.84528365 0.82088875 0.88541812 0.7471073  0.89478853]\n",
      "[-0.02755451  0.08462339 -0.02558239 -0.04735788 -0.03309878  0.0199306\n",
      "  0.04675048 -0.02365148  0.04530622  0.0629339   0.02884174  0.02607431\n",
      " -0.00372309 -0.02113176 -0.04401728  0.04237617  0.13306188 -0.00117358\n",
      "  0.00600558  0.1279736  -0.01388783  0.06839493 -0.02027369 -0.03423181\n",
      " -0.00644577 -0.001337    0.04174787 -0.02712696  0.02481148  0.00464659] [0.88433744 0.95827143 0.88627684 0.83094529 1.04597474 1.04610933\n",
      " 1.14094474 0.96973869 1.05451593 1.05316398 0.91982235 0.88073149\n",
      " 0.86254023 0.80623181 0.88080149 1.16601392 1.56666028 1.10542899\n",
      " 0.92873118 1.63861554 0.90372594 0.95059555 0.89584693 0.84229665\n",
      " 1.00673109 1.02452928 1.08144878 0.91045547 1.04668334 1.06908734]\n"
     ]
    }
   ],
   "source": [
    "##### Standard Scaling\n",
    "from sklearn.preprocessing import StandardScaler, MinMaxScaler\n",
    "\n",
    "scaler = StandardScaler()\n",
    "X_train_scaled1 = scaler.fit_transform(X_train) # 1. 먼저 train dataset으로 fit과 transform을 해준다. \n",
    "X_valid_scaled1 = scaler.transform(X_valid) # 2. 그 다음 valid와 test dataset은 transform만 해준다!\n",
    "X_test_scaled1 = scaler.transform(X_test)\n",
    "\n",
    "print(X_train_scaled1.mean(axis=0), X_train_scaled1.std(axis=0)) # y 값은 정답 값이니까 fit 해주지 않는다!\n",
    "print(X_valid_scaled1.mean(axis=0), X_valid_scaled1.std(axis=0))\n",
    "print(X_test_scaled1.mean(axis=0), X_test_scaled1.std(axis=0))"
   ]
  },
  {
   "cell_type": "code",
   "execution_count": 69,
   "metadata": {},
   "outputs": [
    {
     "name": "stdout",
     "output_type": "stream",
     "text": [
      "[0. 0. 0. 0. 0. 0. 0. 0. 0. 0. 0. 0. 0. 0. 0. 0. 0. 0. 0. 0. 0. 0. 0. 0.\n",
      " 0. 0. 0. 0. 0. 0.] [1. 1. 1. 1. 1. 1. 1. 1. 1. 1. 1. 1. 1. 1. 1. 1. 1. 1. 1. 1. 1. 1. 1. 1.\n",
      " 1. 1. 1. 1. 1. 1.]\n",
      "[0.04460439 0.06514523 0.0475608  0.02183987 0.18026038 0.05751181\n",
      " 0.         0.         0.14242424 0.01221567 0.00119072 0.00594501\n",
      " 0.00921589 0.00084423 0.03824319 0.02523508 0.         0.\n",
      " 0.05006473 0.01355823 0.02905489 0.05810235 0.04478674 0.01290195\n",
      " 0.13775342 0.04187303 0.         0.         0.01636113 0.00178026] [1.0349739  1.22697095 1.01151245 0.99914185 0.89985535 0.79019692\n",
      " 0.93606819 0.83376895 0.85       0.96440607 1.13385342 0.70893741\n",
      " 1.1861063  0.96899503 0.68181664 0.60622766 0.29262673 1.04150751\n",
      " 0.56210953 0.56786719 0.80666618 0.87553305 0.73717655 0.72434498\n",
      " 0.85471835 0.92334809 0.74976038 0.91284878 0.55450424 0.68972533]\n",
      "[-0.03598763  0.10207469 -0.02971651 -0.01154209  0.15021698  0.02183915\n",
      "  0.          0.          0.0540404   0.00610783  0.01576678  0.00837606\n",
      "  0.01278153  0.00566121  0.05326852  0.01833298  0.          0.\n",
      "  0.0374008   0.00263368 -0.02733718  0.07462687 -0.02074119 -0.00952759\n",
      "  0.09027273  0.01754868  0.          0.          0.04849202  0.00144117] [0.83932282 0.94439834 0.85105771 0.6824852  1.23255814 0.8199497\n",
      " 1.13692062 1.05175118 0.81717172 0.94903117 0.57380415 0.60992751\n",
      " 0.51936511 0.4224857  0.7348472  0.78219725 1.30348914 1.34428317\n",
      " 0.68100974 1.37603636 0.72078064 0.88992537 0.77428702 0.55910083\n",
      " 0.78603975 1.13188961 0.88258786 1.0024113  0.82968658 1.29247202]\n"
     ]
    }
   ],
   "source": [
    "## Min Max Scaling\n",
    "\n",
    "m_scaler = MinMaxScaler()\n",
    "X_train_scaled2 = m_scaler.fit_transform(X_train) \n",
    "X_valid_scaled2 = m_scaler.transform(X_valid)\n",
    "X_test_scaled2 = m_scaler.transform(X_test)\n",
    "\n",
    "print(X_train_scaled2.min(axis=0), X_train_scaled2.max(axis=0))\n",
    "print(X_valid_scaled2.min(axis=0), X_valid_scaled2.max(axis=0))\n",
    "print(X_test_scaled2.min(axis=0), X_test_scaled2.max(axis=0))"
   ]
  },
  {
   "cell_type": "code",
   "execution_count": 70,
   "metadata": {},
   "outputs": [],
   "source": [
    "# 모델 학습\n",
    "from sklearn.svm import SVC\n",
    "from sklearn.metrics import accuracy_score"
   ]
  },
  {
   "cell_type": "code",
   "execution_count": 71,
   "metadata": {},
   "outputs": [
    {
     "name": "stdout",
     "output_type": "stream",
     "text": [
      "0.6263736263736264\n",
      "0.6263736263736264\n",
      "0.631578947368421\n"
     ]
    }
   ],
   "source": [
    "######## scaling 안한 데이터로 학습\n",
    "svc1 = SVC(C=0.1, gamma=0.1, random_state=0)\n",
    "# svc1 = SVC(random_state=0)\n",
    "\n",
    "svc1.fit(X_train, y_train)\n",
    "\n",
    "pred_train1 = svc1.predict(X_train)\n",
    "pred_valid1 = svc1.predict(X_valid)\n",
    "pred_test1 = svc1.predict(X_test)\n",
    "\n",
    "print(accuracy_score(y_train, pred_train1))\n",
    "print(accuracy_score(y_valid, pred_valid1))\n",
    "print(accuracy_score(y_test, pred_test1))"
   ]
  },
  {
   "cell_type": "code",
   "execution_count": 75,
   "metadata": {},
   "outputs": [
    {
     "name": "stdout",
     "output_type": "stream",
     "text": [
      "0.9560439560439561\n",
      "0.9340659340659341\n",
      "0.9122807017543859\n"
     ]
    }
   ],
   "source": [
    "##### Standard Scaling 한 데이터로 모델링\n",
    "svc2 = SVC(C=0.1, gamma=0.1, random_state=0) # C, gamma: hyper parameter\n",
    "# svc2 = SVC(random_state=0)\n",
    "\n",
    "svc2.fit(X_train_scaled1, y_train)\n",
    "\n",
    "pred_train2 = svc2.predict(X_train_scaled1) # fit할 때와 같이 scaling 된 데이터를 넣어야 함!! X_train 넣으면 안 돼!\n",
    "pred_valid2 = svc2.predict(X_valid_scaled1)\n",
    "pred_test2 = svc2.predict(X_test_scaled1)\n",
    "\n",
    "print(accuracy_score(y_train, pred_train2))\n",
    "print(accuracy_score(y_valid, pred_valid2))\n",
    "print(accuracy_score(y_test, pred_test2))"
   ]
  },
  {
   "cell_type": "code",
   "execution_count": 73,
   "metadata": {},
   "outputs": [
    {
     "name": "stdout",
     "output_type": "stream",
     "text": [
      "0.9175824175824175\n",
      "0.9010989010989011\n",
      "0.8859649122807017\n"
     ]
    }
   ],
   "source": [
    "### Min Max Scaling\n",
    "svc3 = SVC(C=0.1, gamma=0.1, random_state=0)\n",
    "# svc3 = SVC(random_state=0)\n",
    "\n",
    "svc3.fit(X_train_scaled2, y_train)\n",
    "\n",
    "pred_train3 = svc3.predict(X_train_scaled2)\n",
    "pred_valid3 = svc3.predict(X_valid_scaled2)\n",
    "pred_test3 = svc3.predict(X_test_scaled2)\n",
    "\n",
    "print(accuracy_score(y_train, pred_train3))\n",
    "print(accuracy_score(y_valid, pred_valid3))\n",
    "print(accuracy_score(y_test, pred_test3))"
   ]
  },
  {
   "cell_type": "markdown",
   "metadata": {},
   "source": [
    "minmax scale, standard scale 둘 중 뭘 해야 할까요? -> 둘 다 해보고 성능이 더 좋을 걸 쓰면 된다. 데이터가 정규분포를 따르는 경우 standard scaling이 더 좋을 거다.. 둘 중 하나를 추천한다면 standard로 하자 (강사님 피셜)"
   ]
  },
  {
   "cell_type": "code",
   "execution_count": null,
   "metadata": {},
   "outputs": [],
   "source": []
  },
  {
   "cell_type": "markdown",
   "metadata": {},
   "source": [
    "# 모델 저장 -> pickle\n",
    "\n",
    "- 전처리 객체, 모델 객체 모두 저장한다."
   ]
  },
  {
   "cell_type": "code",
   "execution_count": 83,
   "metadata": {},
   "outputs": [
    {
     "name": "stdout",
     "output_type": "stream",
     "text": [
      "saved_model/wisconsin_breast_cancer\\standard_scaler.pkl saved_model/wisconsin_breast_cancer\\svm_model.pkl\n"
     ]
    }
   ],
   "source": [
    "import os\n",
    "# 저장할 경로 생성\n",
    "save_dir = \"saved_model/wisconsin_breast_cancer\" # /나 \\\\ 쳐도 상관 없다. os가 알아서 처리한다. /가 편하겠죠? 역슬러시는 두 번 쳐야 하니까\n",
    "os.makedirs(save_dir, exist_ok=True) # default: exist_ok=False: 이미 있는 파일이면 에러\n",
    "\n",
    "# 상위 디렉토리가 같아서 os로 상위 디렉토리 아래 경로를 쳐주는 거임\n",
    "scaler_path = os.path.join(save_dir, 'standard_scaler.pkl') # \"saved_model/wisconsin_breast_cancer/standard_scaler.pkl\"\n",
    "model_path = os.path.join(save_dir, 'svm_model.pkl')\n",
    "print(scaler_path, model_path)"
   ]
  },
  {
   "cell_type": "code",
   "execution_count": 81,
   "metadata": {},
   "outputs": [
    {
     "data": {
      "text/plain": [
       "'a\\\\b\\\\c'"
      ]
     },
     "execution_count": 81,
     "metadata": {},
     "output_type": "execute_result"
    }
   ],
   "source": [
    "# 참고: os는 경로를 생성한다.\n",
    "import os\n",
    "os.path.join(\"a\", \"b\", \"c\")"
   ]
  },
  {
   "cell_type": "code",
   "execution_count": 84,
   "metadata": {},
   "outputs": [],
   "source": [
    "### Scaler 저장\n",
    "import pickle\n",
    "\n",
    "with open(scaler_path, 'wb') as fw_scaler:\n",
    "    pickle.dump(scaler, fw_scaler)  # StandardScaler 학습"
   ]
  },
  {
   "cell_type": "code",
   "execution_count": 85,
   "metadata": {},
   "outputs": [],
   "source": [
    "### 모델 저장\n",
    "with open(model_path, 'wb') as fw_model:\n",
    "    pickle.dump(svc2, fw_model)"
   ]
  },
  {
   "cell_type": "code",
   "execution_count": 86,
   "metadata": {},
   "outputs": [],
   "source": [
    "# Scaler 모델 불러오기\n",
    "with open(scaler_path, 'rb') as fr_scaler:\n",
    "    saved_scaler = pickle.load(fr_scaler)\n",
    "    \n",
    "with open(model_path, 'rb') as fr_model:\n",
    "    saved_svc = pickle.load(fr_model)"
   ]
  },
  {
   "cell_type": "code",
   "execution_count": 87,
   "metadata": {},
   "outputs": [
    {
     "data": {
      "text/plain": [
       "0.9122807017543859"
      ]
     },
     "execution_count": 87,
     "metadata": {},
     "output_type": "execute_result"
    }
   ],
   "source": [
    "x_test_scaled = saved_scaler.transform(X_test)\n",
    "result = saved_svc.predict(x_test_scaled)\n",
    "accuracy_score(y_test, result)"
   ]
  },
  {
   "cell_type": "code",
   "execution_count": null,
   "metadata": {},
   "outputs": [],
   "source": []
  }
 ],
 "metadata": {
  "kernelspec": {
   "display_name": "ml",
   "language": "python",
   "name": "python3"
  },
  "language_info": {
   "codemirror_mode": {
    "name": "ipython",
    "version": 3
   },
   "file_extension": ".py",
   "mimetype": "text/x-python",
   "name": "python",
   "nbconvert_exporter": "python",
   "pygments_lexer": "ipython3",
   "version": "3.12.10"
  },
  "toc": {
   "base_numbering": 1,
   "nav_menu": {},
   "number_sections": false,
   "sideBar": true,
   "skip_h1_title": false,
   "title_cell": "Table of Contents",
   "title_sidebar": "Contents",
   "toc_cell": false,
   "toc_position": {},
   "toc_section_display": true,
   "toc_window_display": true
  },
  "varInspector": {
   "cols": {
    "lenName": 16,
    "lenType": 16,
    "lenVar": 40
   },
   "kernels_config": {
    "python": {
     "delete_cmd_postfix": "",
     "delete_cmd_prefix": "del ",
     "library": "var_list.py",
     "varRefreshCmd": "print(var_dic_list())"
    },
    "r": {
     "delete_cmd_postfix": ") ",
     "delete_cmd_prefix": "rm(",
     "library": "var_list.r",
     "varRefreshCmd": "cat(var_dic_list()) "
    }
   },
   "types_to_exclude": [
    "module",
    "function",
    "builtin_function_or_method",
    "instance",
    "_Feature"
   ],
   "window_display": false
  }
 },
 "nbformat": 4,
 "nbformat_minor": 4
}
