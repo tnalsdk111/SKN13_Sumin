{
 "cells": [
  {
   "cell_type": "markdown",
   "metadata": {
    "slideshow": {
     "slide_type": "slide"
    }
   },
   "source": [
    "# 로지스틱 회귀 (LogisticRegression)\n",
    "- 선형회귀 알고리즘을 이용한 이진 분류 모델\n",
    "- Sample이 특정 클래스에 속할 확률을 추정한다.    \n",
    "    "
   ]
  },
  {
   "cell_type": "markdown",
   "metadata": {
    "slideshow": {
     "slide_type": "fragment"
    }
   },
   "source": [
    "## 확률 추정\n",
    "- 선형회귀 처럼 입력 특성(Feature)에 가중치 합을 계산한 값을 로지스틱 함수를 적용해 확률을 계산한다.\n",
    "\n",
    "\\begin{align}\n",
    "&\\hat{p} = \\sigma \\left( \\mathbf{w}^{T} \\cdot \\mathbf{X} + \\mathbf{b} \\right) \\\\\n",
    "&\\hat{p}:\\: positive의\\,확률,\\quad \\sigma():\\:logistic\\,함수,\\quad \\mathbf{w}:\\:weight,\\quad \\mathbf{X}:\\:input feature,\\quad \\mathbf{b}:\\:bias\n",
    "\\end{align}"
   ]
  },
  {
   "cell_type": "markdown",
   "metadata": {
    "slideshow": {
     "slide_type": "fragment"
    }
   },
   "source": [
    "### 로지스틱 함수\n",
    "- 0과 1사이의 실수를 반환한다.\n",
    "- S 자 형태의 결과를 내는 **시그모이드 함수(sigmoid function)** 이다.\n",
    "\n",
    "$$\n",
    "\\sigma(x) = \\frac{1}{1 + \\mathbf{e}^{-x}}\n",
    "$$\n",
    "\n",
    "- 샘플 **x**가 양성에 속할 확률\n",
    "\n",
    "$$\n",
    "\\hat{y} = \\begin{cases} 0\\quad\\hat{p}<0.5\\\\1\\quad\\hat{p}\\geqq0.5 \\end{cases}\n",
    "$$"
   ]
  },
  {
   "cell_type": "markdown",
   "metadata": {
    "ExecuteTime": {
     "end_time": "2021-10-29T07:33:57.095219Z",
     "start_time": "2021-10-29T07:33:56.892076Z"
    },
    "slideshow": {
     "slide_type": "slide"
    }
   },
   "source": [
    "##### logistic 함수 시각화"
   ]
  },
  {
   "cell_type": "code",
   "execution_count": null,
   "metadata": {
    "ExecuteTime": {
     "end_time": "2023-02-07T14:19:53.158164Z",
     "start_time": "2023-02-07T14:19:53.012507Z"
    },
    "slideshow": {
     "slide_type": "fragment"
    }
   },
   "outputs": [],
   "source": [
    "import matplotlib.pyplot as plt\n",
    "import numpy as np\n",
    "\n",
    "def logistic_func(X):\n",
    "    return 1 / (1 + np.exp(-X))  \n",
    "\n",
    "X = np.linspace(-10, 10, 10000) \n",
    "y = logistic_func(X)\n",
    "\n",
    "plt.figure(figsize=(13, 6))\n",
    "\n",
    "plt.plot(X, y, color='b', linewidth=2)\n",
    "\n",
    "# y 위치에 수평선을 그리는 함수.\n",
    "# x 위치에 수직선을 그리는 함수(axvline(x=위치))\n",
    "plt.axhline(y=0.5, color='r', linestyle=':')\n",
    "\n",
    "plt.ylim(-0.15, 1.15) # y축 범위 지정.\n",
    "plt.yticks(np.arange(-0.1,1.2,0.1))\n",
    "\n",
    "ax = plt.gca()\n",
    "ax.spines['left'].set_position(\"center\")      # spine의 위치를 변경. - 상수\n",
    "ax.spines['bottom'].set_position(('data', 0)) # 위치 변경 - 이동시킬 위치 값을 지정.\n",
    "ax.spines['top'].set_position((\"data\", 1)) \n",
    "ax.spines['right'].set_visible(False)         # spine을 안보이게 처리.\n",
    "plt.show()"
   ]
  },
  {
   "cell_type": "code",
   "execution_count": null,
   "metadata": {},
   "outputs": [],
   "source": []
  },
  {
   "cell_type": "markdown",
   "metadata": {
    "slideshow": {
     "slide_type": "slide"
    }
   },
   "source": [
    "## LogisticRegression의 손실 함수(Loss Function)\n",
    "- **로그 손실함수(log loss)**\n",
    "    - 모델이 예측한 정답의 확률에 대해 log를 취해 손실값을 구한다.\n",
    "        - 확률이 틀리면 틀릴 수록 손실값을 크게 만들기 위해서 log를 취한다.\n",
    "\n",
    "\n",
    "$$\n",
    "-\\log{\\left(모델이\\,예측한\\,정답에\\,대한\\,확률\\right)}\n",
    "$$\n",
    "\n",
    "\n",
    "- **Binary Cross Entropy**\n",
    "    - 2진 분류용 Log loss 함수\n",
    "        - Logistic함수은 positive(1)의 확률만 추출하므로 정답이 0일때, 1일때 계산하는 것이 다르다. 그것을 하나의 공식으로 유도한 함수.\n",
    "\\begin{align}\n",
    "L(\\mathbf{W}) = - \\frac{1}{m} \\sum_{i=1}^{m}{\\left[ y_{i} \\log{\\left( \\hat{p}_i \\right)} + \\left( 1 - y_i \\right) \\log{\\left( 1 - \\hat{p}_i \\right)} \\right]}\\\\\n",
    "y:\\:실제값(정답),\\quad\\hat{p}:\\:예측확률(양성확률)\n",
    "\\end{align}\n",
    "\n",
    "- y(실제값) 이 1인 경우 $y_{i}\\log{\\left(\\hat{p}_i\\right)}$ 이 손실을 계산\n",
    "- y가 0인 경우 $\\left( 1 - y_i \\right) \\log{\\left( 1 - \\hat{p}_i \\right)}$이 손실을 계산\n",
    "- $\\hat{p}$(예측확률)이 클수록 반환값은 작아지고 작을 수록 값이 커진다. \n",
    "\n",
    "> - **Loss Function**\n",
    ">   - 모델이 예측한 값과 정답간의 차이(오차, loss)를 구하는 함수.\n",
    ">   - 모델의 파라미터를 최적화할 때 loss를 최소화하는 것을 목적으로 한다.\n",
    "> "
   ]
  },
  {
   "cell_type": "code",
   "execution_count": null,
   "metadata": {
    "ExecuteTime": {
     "end_time": "2023-02-07T14:29:21.463411Z",
     "start_time": "2023-02-07T14:29:21.331221Z"
    }
   },
   "outputs": [],
   "source": [
    "import numpy as np\n",
    "import matplotlib.pyplot as plt\n",
    "\n",
    "X = np.linspace(0.000000001, 1, 100)   # 정답의 확률(X값)\n",
    "y = -np.log(X)                         # 오차(log loss)\n",
    "\n",
    "plt.figure(figsize=(10,8))\n",
    "plt.plot(X, y)\n",
    "plt.axvline(0.5, linestyle=':', linewidth=2, color='r')\n",
    "\n",
    "plt.xticks(np.arange(0,1.1,0.1))\n",
    "plt.yticks([0,1,2,3,4,5,10,20])\n",
    "\n",
    "plt.xlabel(\"모델이 정답에 대해 예측한 확률값\")\n",
    "plt.ylabel(\"오차\")\n",
    "\n",
    "plt.gca().spines['bottom'].set_position((\"data\", 0))\n",
    "plt.show()"
   ]
  },
  {
   "cell_type": "code",
   "execution_count": null,
   "metadata": {},
   "outputs": [],
   "source": [
    "-np.log(1), -np.log(0.500001)"
   ]
  },
  {
   "cell_type": "code",
   "execution_count": null,
   "metadata": {},
   "outputs": [],
   "source": [
    "-np.log(0.49999), -np.log(0.1), -np.log(0.01), -np.log(0.000000001)"
   ]
  },
  {
   "cell_type": "markdown",
   "metadata": {
    "slideshow": {
     "slide_type": "slide"
    }
   },
   "source": [
    "## LogisticRegression 모델 최적화 \n",
    "\n",
    "- 분류 문제이므로 binary cross-entropy를 손실함수로 사용하여 **gradient descent(경사하강법)** 을 이용해 모델을 최적화한다."
   ]
  },
  {
   "cell_type": "markdown",
   "metadata": {
    "slideshow": {
     "slide_type": "slide"
    }
   },
   "source": [
    "## LogisticRegression 주요 하이퍼파라미터\n",
    "- penalty: 과적합을 줄이기 위한 규제방식\n",
    "    - 'l1', 'l2'(기본값), 'elasticnet', 'none' \n",
    "- C: 규제강도(기본값 1) - 작을 수록 규제가 강하다(단순).\n",
    "- max_iter(기본값 100) : gradient descent의 반복횟수"
   ]
  },
  {
   "cell_type": "markdown",
   "metadata": {
    "slideshow": {
     "slide_type": "slide"
    }
   },
   "source": [
    "## 예제"
   ]
  },
  {
   "cell_type": "code",
   "execution_count": null,
   "metadata": {},
   "outputs": [],
   "source": [
    "from sklearn.datasets import load_breast_cancer\n",
    "from sklearn.model_selection import train_test_split\n",
    "\n",
    "X, y = load_breast_cancer(return_X_y=True)\n",
    "X_train, X_test, y_train, y_test = train_test_split(X, y, stratify=y, test_size=0.2, random_state=0)"
   ]
  },
  {
   "cell_type": "markdown",
   "metadata": {
    "slideshow": {
     "slide_type": "slide"
    }
   },
   "source": [
    "### 데이터 전처리\n",
    "- LogisticRegression은 선형회귀 기반의 알고리즘이므로 연속형 Feature는 Feature scaling, 범주형 Feature는 One hot encoding 처리를 한다."
   ]
  },
  {
   "cell_type": "code",
   "execution_count": null,
   "metadata": {},
   "outputs": [],
   "source": [
    "from sklearn.preprocessing import StandardScaler\n",
    "from sklearn.pipeline import Pipeline\n",
    "from sklearn.linear_model import LogisticRegression\n",
    "\n",
    "pipeline = Pipeline([\n",
    "    (\"scaler\", StandardScaler()), (\"model\", LogisticRegression(random_state=0))\n",
    "])\n",
    "\n",
    "pipeline.fit(X_train, y_train)"
   ]
  },
  {
   "cell_type": "code",
   "execution_count": null,
   "metadata": {},
   "outputs": [],
   "source": [
    "pipeline.steps[1][1]"
   ]
  },
  {
   "cell_type": "code",
   "execution_count": null,
   "metadata": {},
   "outputs": [],
   "source": [
    "## LR - weight와 bias 를 조회\n",
    "pipeline.steps[1][1].coef_"
   ]
  },
  {
   "cell_type": "code",
   "execution_count": null,
   "metadata": {},
   "outputs": [],
   "source": [
    "pipeline.steps[1][1].intercept_"
   ]
  },
  {
   "cell_type": "code",
   "execution_count": null,
   "metadata": {},
   "outputs": [],
   "source": [
    "# 평가\n",
    "pred_train = pipeline.predict(X_train)\n",
    "pred_test = pipeline.predict(X_test)\n",
    "\n",
    "pred_train_proba = pipeline.predict_proba(X_train)\n",
    "pred_test_proba = pipeline.predict_proba(X_test)"
   ]
  },
  {
   "cell_type": "code",
   "execution_count": null,
   "metadata": {},
   "outputs": [],
   "source": [
    "pred_test[:5]"
   ]
  },
  {
   "cell_type": "code",
   "execution_count": null,
   "metadata": {},
   "outputs": [],
   "source": [
    "pred_test_proba[:5]"
   ]
  },
  {
   "cell_type": "code",
   "execution_count": null,
   "metadata": {},
   "outputs": [],
   "source": [
    "from metrics import print_binary_classification_metrics\n",
    "print_binary_classification_metrics(y_train, pred_train, pred_train_proba[:, 1])"
   ]
  },
  {
   "cell_type": "code",
   "execution_count": null,
   "metadata": {},
   "outputs": [],
   "source": [
    "print_binary_classification_metrics(y_test, pred_test, pred_test_proba[:, 1])"
   ]
  },
  {
   "cell_type": "markdown",
   "metadata": {
    "slideshow": {
     "slide_type": "slide"
    }
   },
   "source": [
    "### GridSearchCV를 이용해 하이퍼파라미터 탐색\n",
    "- C"
   ]
  },
  {
   "cell_type": "code",
   "execution_count": null,
   "metadata": {},
   "outputs": [],
   "source": [
    "from sklearn.model_selection import GridSearchCV\n",
    "\n",
    "params = {\n",
    "    \"model__C\": [0.01, 0.1, 1, 10],\n",
    "    \"model__penalty\":['l1', 'l2']\n",
    "}\n",
    "gs = GridSearchCV(\n",
    "    pipeline,\n",
    "    params,\n",
    "    scoring=\"accuracy\", \n",
    "    cv=4,\n",
    "    n_jobs=-1\n",
    ")\n",
    "gs.fit(X_train, y_train)"
   ]
  },
  {
   "cell_type": "code",
   "execution_count": null,
   "metadata": {},
   "outputs": [],
   "source": [
    "gs.best_score_"
   ]
  },
  {
   "cell_type": "code",
   "execution_count": null,
   "metadata": {},
   "outputs": [],
   "source": [
    "gs.best_params_"
   ]
  },
  {
   "cell_type": "code",
   "execution_count": null,
   "metadata": {},
   "outputs": [],
   "source": [
    "import pandas as pd\n",
    "df = pd.DataFrame(gs.cv_results_)\n",
    "df.sort_values('rank_test_score')"
   ]
  },
  {
   "cell_type": "code",
   "execution_count": null,
   "metadata": {},
   "outputs": [],
   "source": []
  }
 ],
 "metadata": {
  "kernelspec": {
   "display_name": "ml",
   "language": "python",
   "name": "python3"
  },
  "language_info": {
   "codemirror_mode": {
    "name": "ipython",
    "version": 3
   },
   "file_extension": ".py",
   "mimetype": "text/x-python",
   "name": "python",
   "nbconvert_exporter": "python",
   "pygments_lexer": "ipython3",
   "version": "3.12.9"
  },
  "toc": {
   "base_numbering": 1,
   "nav_menu": {},
   "number_sections": true,
   "sideBar": true,
   "skip_h1_title": false,
   "title_cell": "Table of Contents",
   "title_sidebar": "Contents",
   "toc_cell": false,
   "toc_position": {},
   "toc_section_display": true,
   "toc_window_display": false
  },
  "varInspector": {
   "cols": {
    "lenName": 16,
    "lenType": 16,
    "lenVar": 40
   },
   "kernels_config": {
    "python": {
     "delete_cmd_postfix": "",
     "delete_cmd_prefix": "del ",
     "library": "var_list.py",
     "varRefreshCmd": "print(var_dic_list())"
    },
    "r": {
     "delete_cmd_postfix": ") ",
     "delete_cmd_prefix": "rm(",
     "library": "var_list.r",
     "varRefreshCmd": "cat(var_dic_list()) "
    }
   },
   "types_to_exclude": [
    "module",
    "function",
    "builtin_function_or_method",
    "instance",
    "_Feature"
   ],
   "window_display": false
  }
 },
 "nbformat": 4,
 "nbformat_minor": 4
}
