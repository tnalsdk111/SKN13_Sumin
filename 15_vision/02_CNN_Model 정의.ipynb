{
 "cells": [
  {
   "cell_type": "markdown",
   "metadata": {
    "id": "n1-HdRR266M6",
    "slideshow": {
     "slide_type": "slide"
    }
   },
   "source": [
    "# Convolutional Neural Network 모델 정의"
   ]
  },
  {
   "cell_type": "code",
   "execution_count": null,
   "metadata": {},
   "outputs": [],
   "source": [
    "import torch\n",
    "import torch.nn as nn\n",
    "\n",
    "device = \"cuda\" if torch.cuda.is_available() else \"cpu\"\n",
    "print(device)"
   ]
  },
  {
   "cell_type": "code",
   "execution_count": null,
   "metadata": {},
   "outputs": [],
   "source": [
    "# Conv2d 생성\n",
    "layer = nn.Conv2d(\n",
    "    in_channels=3,  # 입력 데이터의 channel 개수. 입력 tensor의 shape: (batch_size, channel, height, width) \n",
    "    out_channels=5, # 필터의 개수 (output feature map의 개수)\n",
    "    kernel_size=3,  # 필터의 크기 (3, 3)\n",
    "    stride=1,       # 계산을 위하 이동 크기. 좌->우: 1칸씩, 상->하: 1칸 (default: 1)\n",
    "    padding=1,      # 패팅 크기 (정수: 상하/좌우 동일할 패팅크기를 명시 - 0(default): 패딩추가 안함.)\n",
    "                    # \"same\": 입력 size와 동일한 size의 출력이 나오도록 알아서 패딩을 추가.\n",
    ")\n",
    "# 다음 layer 생성\n",
    "# layer2 = nn.Conv2d(\n",
    "#     in_channels=5, # 이전 Conv2d의 out_channels 값이 다음 Conv2d의 in_channels 값이 된다.\n",
    "# )"
   ]
  },
  {
   "cell_type": "code",
   "execution_count": null,
   "metadata": {},
   "outputs": [],
   "source": [
    "input_data = torch.ones(1, 3, 10, 10) # batch크기, channel수, heigth, width\n",
    "output = layer(input_data)\n",
    "output.shape"
   ]
  },
  {
   "cell_type": "code",
   "execution_count": null,
   "metadata": {},
   "outputs": [],
   "source": [
    "### Conv2d의 weigth 의 shape\n",
    "layer.weight.shape\n",
    "# [5:필터개수-out_channels, \n",
    "#  3:channel수-in_channel, \n",
    "#  3:height-kernel_size, \n",
    "#  3:width-kernel_size]"
   ]
  },
  {
   "cell_type": "code",
   "execution_count": null,
   "metadata": {},
   "outputs": [],
   "source": [
    "layer.bias.shape # channel당 1개씩 bias가 추가."
   ]
  },
  {
   "cell_type": "code",
   "execution_count": null,
   "metadata": {},
   "outputs": [],
   "source": [
    "pool_layer = nn.MaxPool2d(\n",
    "    kernel_size=2, # 값을 추출하는 영역 크기(2, 2) - default: 2\n",
    "    stride=2,      # 다음 값을 추출하기위해서 몇칸을 이동할지.(default: kernel_size)\n",
    "    padding=0\n",
    "    # 값을 추출할 영역이 kernel_size보다 작을 경우 추출할지 여부.\n",
    "    # 0-추출을 하지 않겠다.\n",
    ")"
   ]
  },
  {
   "cell_type": "code",
   "execution_count": null,
   "metadata": {},
   "outputs": [],
   "source": [
    "print(input_data.shape)\n",
    "pool_output = pool_layer(input_data)\n",
    "print(pool_output.shape)"
   ]
  },
  {
   "cell_type": "code",
   "execution_count": null,
   "metadata": {},
   "outputs": [],
   "source": [
    "input_data = torch.randn(1, 1, 5, 5)\n",
    "\n",
    "print(input_data.shape)\n",
    "pool_output = pool_layer(input_data)\n",
    "print(pool_output.shape)"
   ]
  },
  {
   "cell_type": "code",
   "execution_count": null,
   "metadata": {},
   "outputs": [],
   "source": [
    "input_data[0, 0]"
   ]
  },
  {
   "cell_type": "code",
   "execution_count": null,
   "metadata": {},
   "outputs": [],
   "source": [
    "pool_output"
   ]
  },
  {
   "cell_type": "markdown",
   "metadata": {},
   "source": [
    "# MNIST"
   ]
  },
  {
   "cell_type": "code",
   "execution_count": null,
   "metadata": {},
   "outputs": [],
   "source": [
    "%pip install torchinfo"
   ]
  },
  {
   "cell_type": "code",
   "execution_count": null,
   "metadata": {},
   "outputs": [],
   "source": [
    "import os\n",
    "\n",
    "import torch\n",
    "from torch import nn\n",
    "import torchinfo\n",
    "\n",
    "import matplotlib.pyplot as plt\n",
    "import numpy as np\n",
    "\n",
    "from module.data import load_mnist_dataset, load_fashion_mnist_dataset\n",
    "from module.train import fit\n",
    "\n",
    "device = \"cuda\" if torch.cuda.is_available() else \"cpu\"\n",
    "print(device)"
   ]
  },
  {
   "cell_type": "code",
   "execution_count": null,
   "metadata": {},
   "outputs": [],
   "source": [
    "# 하이퍼파라미터 지정\n",
    "EPOCH = 1\n",
    "BATCH_SIZE = 256\n",
    "LEARNING_RATE = 0.001\n",
    "DATA_ROOT_DIR = \"datasets\""
   ]
  },
  {
   "cell_type": "markdown",
   "metadata": {},
   "source": [
    "## Data 준비"
   ]
  },
  {
   "cell_type": "code",
   "execution_count": null,
   "metadata": {},
   "outputs": [],
   "source": [
    "train_loader = load_mnist_dataset(DATA_ROOT_DIR, BATCH_SIZE, True)\n",
    "test_loader = load_mnist_dataset(DATA_ROOT_DIR, BATCH_SIZE, False)"
   ]
  },
  {
   "cell_type": "markdown",
   "metadata": {},
   "source": [
    "## CNN 모델 정의"
   ]
  },
  {
   "cell_type": "code",
   "execution_count": null,
   "metadata": {},
   "outputs": [],
   "source": [
    "# CNN - layer block\n",
    "# ConvolutionLayer -> Activation -> Pooling Layer\n",
    "# ConvolutionLayer -> Activation -> ConvolutionLayer -> Activation-> Pooling Layer\n",
    "\n",
    "# ConvolutionLayer -> BatchNormalization -> Activation -> Dropout -> Pooling Layer\n",
    "\n",
    "## 구조: filter 개수는 늘려주고(channel-depth) feature map의 size는 줄이는 방식으로 구성.\n",
    "# depth: Conv2d,  size: MaxPool2d\n",
    "\n",
    "class CNNModel(nn.Module):\n",
    "\n",
    "    def __init__(self, dropout_rate=0.2):\n",
    "        # 모델을 구성하는 Layer함수들을 초기화(객체 생성)\n",
    "        super().__init__()\n",
    "        # block 단위로 정의 - nn.Sequential()\n",
    "\n",
    "        self.b1 = nn.Sequential(\n",
    "            nn.Conv2d(\n",
    "                in_channels=1,   # 입력 데이터의 channel 개수. 입력 tensor의 shape: (batch_size, channel, height, width) \n",
    "                                 # grayscale 이미지 -> channel수: 1, color: 3\n",
    "                out_channels=32, # 필터의 개수 (output feature map의 개수)\n",
    "                kernel_size=3,   # 필터의 크기 (3, 3)\n",
    "                stride=1,        # 계산을 위하 이동 크기. 좌->우: 1칸씩, 상->하: 1칸 (default: 1)\n",
    "                padding=\"same\"   # 패팅 크기 (정수: 상하/좌우 동일할 패팅크기를 명시 - 0(default): 패딩추가 안함.)\n",
    "                                 # \"same\": 입력 size와 동일한 size의 출력이 나오도록 알아서 패딩을 추가.\n",
    "            ),\n",
    "            nn.BatchNorm2d(32), # Conv: out_channels\n",
    "            nn.ReLU(),\n",
    "            nn.Dropout(p=dropout_rate),\n",
    "            nn.MaxPool2d(\n",
    "                kernel_size=2, # 값을 추출하는 영역 크기(2, 2) - default: 2\n",
    "                stride=2       # 다음 값을 추출하기위해서 몇칸을 이동할지.(default: kernel_size)\n",
    "            )\n",
    "        )\n",
    "\n",
    "        self.b2 = nn.Sequential(\n",
    "            nn.Conv2d(\n",
    "                in_channels=32, \n",
    "                out_channels=64,\n",
    "                kernel_size=3,\n",
    "                stride=1,\n",
    "                padding=\"same\"\n",
    "            ),\n",
    "            nn.BatchNorm2d(64),\n",
    "            nn.ReLU(),\n",
    "            nn.Dropout(p=dropout_rate),\n",
    "            nn.MaxPool2d(kernel_size=2, stride=2)\n",
    "        )\n",
    "\n",
    "        self.b3 = nn.Sequential(\n",
    "            nn.Conv2d(\n",
    "                in_channels=64,\n",
    "                out_channels=128,\n",
    "                kernel_size=3,\n",
    "                stride=1,\n",
    "                padding=\"same\"\n",
    "            ),\n",
    "            nn.BatchNorm2d(128),\n",
    "            nn.ReLU(),\n",
    "            nn.Dropout(p=dropout_rate),\n",
    "            nn.MaxPool2d(kernel_size=2, stride=2, padding=1)\n",
    "        )\n",
    "        # 추론기(분류기) - Fully Conntected Layer(nn.Liear)\n",
    "        self.classifier = nn.Sequential(\n",
    "            nn.Flatten(),\n",
    "            nn.Linear(in_features=4*4*128, out_features=10) # 최종 결과를 반환할 Layer. out_features=class개수\n",
    "        )\n",
    "\n",
    "    def forward(self, X):\n",
    "        output = self.b1(X)\n",
    "        output = self.b2(output)\n",
    "        output = self.b3(output)\n",
    "        output = self.classifier(output)\n",
    "        return output"
   ]
  },
  {
   "cell_type": "code",
   "execution_count": null,
   "metadata": {},
   "outputs": [],
   "source": [
    "model = CNNModel(dropout_rate=0.5)\n",
    "model"
   ]
  },
  {
   "cell_type": "code",
   "execution_count": null,
   "metadata": {},
   "outputs": [],
   "source": [
    "torchinfo.summary(model, (1, 1, 28, 28))"
   ]
  },
  {
   "cell_type": "markdown",
   "metadata": {},
   "source": [
    "## Train"
   ]
  },
  {
   "cell_type": "code",
   "execution_count": null,
   "metadata": {},
   "outputs": [],
   "source": [
    "# 모델\n",
    "model = model.to(device)\n",
    "\n",
    "# loss 함수\n",
    "loss_fn = nn.CrossEntropyLoss() \n",
    "# 정답: One hot encoding처리, 추론값: Softmax 적용\n",
    "\n",
    "# 옵티마이저\n",
    "optimizer = torch.optim.Adam(model.parameters(), lr=LEARNING_RATE)"
   ]
  },
  {
   "cell_type": "code",
   "execution_count": null,
   "metadata": {},
   "outputs": [],
   "source": [
    "os.makedirs(\"saved_models\", exist_ok=True)"
   ]
  },
  {
   "cell_type": "code",
   "execution_count": null,
   "metadata": {},
   "outputs": [],
   "source": [
    "save_path = \"saved_models/mnist_cnn_model.pt\"\n",
    "result = fit(\n",
    "    train_loader, test_loader, model, loss_fn, optimizer, EPOCH,\n",
    "    save_model_path=save_path,\n",
    "    device=device, \n",
    "    mode=\"multi\"\n",
    ")"
   ]
  },
  {
   "cell_type": "code",
   "execution_count": null,
   "metadata": {},
   "outputs": [],
   "source": [
    "len(test_loader)"
   ]
  },
  {
   "cell_type": "code",
   "execution_count": null,
   "metadata": {},
   "outputs": [],
   "source": [
    "model = torch.load(save_path)"
   ]
  },
  {
   "cell_type": "code",
   "execution_count": null,
   "metadata": {},
   "outputs": [],
   "source": [
    "# 최종 평가\n",
    "from module.train import test_multi_classification\n",
    "loss, acc = test_multi_classification(\n",
    "    test_loader, model, loss_fn, device\n",
    ")\n",
    "loss, acc"
   ]
  },
  {
   "cell_type": "code",
   "execution_count": null,
   "metadata": {},
   "outputs": [],
   "source": [
    "%pip install pillow"
   ]
  },
  {
   "cell_type": "code",
   "execution_count": null,
   "metadata": {},
   "outputs": [],
   "source": [
    "## 정성적 평가 - 실제 image 파일로 확인\n",
    "from PIL import Image\n",
    "img = Image.open(\"test_img/num/eight.png\")\n",
    "type(img)"
   ]
  },
  {
   "cell_type": "code",
   "execution_count": null,
   "metadata": {},
   "outputs": [],
   "source": [
    "from torchvision import transforms\n",
    "from PIL import Image\n",
    "\n",
    "def predict(path, model):\n",
    "    img = Image.open(path)\n",
    "\n",
    "    # color -> grayscale\n",
    "    img = img.convert('L') # 'L': grayscale, \"RGB\": color\n",
    "\n",
    "    # resize\n",
    "    input_tensor = transforms.Resize((28, 28))(img)\n",
    "\n",
    "    # PIL.Image -> torch.Tensor  변환, 정규화 (0 ~ 1)\n",
    "    input_tensor = transforms.ToTensor()(input_tensor)\n",
    "\n",
    "    # batch 축(dummy 축)을 추가.\n",
    "    input_tensor = input_tensor.unsqueeze(dim=0)\n",
    "    # print(type(input_tensor))\n",
    "    # input_tensor.shape\n",
    "    model.eval()\n",
    "    model = model.to(device)\n",
    "    \n",
    "    with torch.no_grad():\n",
    "        result = model(input_tensor)\n",
    "    sm = nn.Softmax(dim=-1)\n",
    "    result_proba = sm(result)\n",
    "    final_result = result_proba.max(dim=-1)\n",
    "    return {\"class\":final_result.indices[0], \n",
    "            \"확률\":final_result.values[0]}"
   ]
  },
  {
   "cell_type": "code",
   "execution_count": null,
   "metadata": {},
   "outputs": [],
   "source": [
    "from glob import glob\n",
    "\n",
    "img_path_list = glob(\"test_img/num/*.png\")\n",
    "for img_path in img_path_list:\n",
    "    result = predict(img_path, model)\n",
    "    print(f\"{img_path}, 추론class: {result['class']}, 확률: {result['확률']}\")"
   ]
  }
 ],
 "metadata": {
  "accelerator": "GPU",
  "colab": {
   "collapsed_sections": [
    "2ARCyjDW66NR",
    "6bAN1wPG66NS",
    "shNUg6al66NV",
    "7xgQxAU666NZ"
   ],
   "name": "07_CNN_MNIST분류, 모델저장.ipynb",
   "provenance": [],
   "toc_visible": true
  },
  "kernelspec": {
   "display_name": "langchain",
   "language": "python",
   "name": "python3"
  },
  "language_info": {
   "codemirror_mode": {
    "name": "ipython",
    "version": 3
   },
   "file_extension": ".py",
   "mimetype": "text/x-python",
   "name": "python",
   "nbconvert_exporter": "python",
   "pygments_lexer": "ipython3",
   "version": "3.12.7"
  },
  "toc": {
   "base_numbering": 1,
   "nav_menu": {},
   "number_sections": true,
   "sideBar": true,
   "skip_h1_title": false,
   "title_cell": "Table of Contents",
   "title_sidebar": "Contents",
   "toc_cell": false,
   "toc_position": {},
   "toc_section_display": true,
   "toc_window_display": false
  },
  "varInspector": {
   "cols": {
    "lenName": 16,
    "lenType": 16,
    "lenVar": 40
   },
   "kernels_config": {
    "python": {
     "delete_cmd_postfix": "",
     "delete_cmd_prefix": "del ",
     "library": "var_list.py",
     "varRefreshCmd": "print(var_dic_list())"
    },
    "r": {
     "delete_cmd_postfix": ") ",
     "delete_cmd_prefix": "rm(",
     "library": "var_list.r",
     "varRefreshCmd": "cat(var_dic_list()) "
    }
   },
   "types_to_exclude": [
    "module",
    "function",
    "builtin_function_or_method",
    "instance",
    "_Feature"
   ],
   "window_display": false
  }
 },
 "nbformat": 4,
 "nbformat_minor": 4
}
