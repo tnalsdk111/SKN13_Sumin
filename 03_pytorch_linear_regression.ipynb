{
  "cells": [
    {
      "cell_type": "markdown",
      "metadata": {
        "id": "view-in-github",
        "colab_type": "text"
      },
      "source": [
        "<a href=\"https://colab.research.google.com/github/tnalsdk111/SKN13_Sumin/blob/main/03_pytorch_linear_regression.ipynb\" target=\"_parent\"><img src=\"https://colab.research.google.com/assets/colab-badge.svg\" alt=\"Open In Colab\"/></a>"
      ]
    },
    {
      "cell_type": "markdown",
      "metadata": {
        "jp-MarkdownHeadingCollapsed": true,
        "id": "1jCeKQIjvh1f"
      },
      "source": [
        "# LinearRegression from Scratch\n"
      ]
    },
    {
      "cell_type": "markdown",
      "metadata": {
        "id": "UhykpZA3vh1g"
      },
      "source": [
        "# 구현할 것\n",
        "- 공부시간과 성적간의 관계를 모델링한다.\n",
        "    - **머신러닝 모델(모형)이란** 수집한 데이터를 기반으로 입력값(Feature)와 출력값(Target)간의 관계를 하나의 공식으로 정의한 함수이다. 그 공식을 찾는 과정을 **모델링**이라고 한다.\n",
        "    - 이 예제에서는 공부한 시험시간으로 점수를 예측하는 모델을 정의한다.\n",
        "    - 입력값과 출력값 간의 관계를 정의할 수있는 다양한 함수(공식)이 있다. 여기에서는 딥러닝과 관계가 있는 **Linear Regression** 을 사용해본다.\n",
        "\n",
        "# 데이터 확인\n",
        "- 입력데이터: 공부시간\n",
        "- 출력데이터: 성적\n",
        "\n",
        "|공부시간|점수|\n",
        "|-|-|\n",
        "|1|20|\n",
        "|2|40|\n",
        "|3|60|\n",
        "\n",
        "우리가 수집한 공부시간과 점수 데이터를 바탕으로 둘 간의 관계를 식으로 정의 할 수 있으면 **내가 몇시간 공부하면 점수를 얼마 받을 수 있는지 예측할 수 있게 된다.**   \n",
        "수집한 데이터를 기반으로 앞으로 예측할 수있는 모형을 만드는 것이 머신러닝 모델링이다.\n",
        "\n",
        "  "
      ]
    },
    {
      "cell_type": "markdown",
      "metadata": {
        "id": "npKoi7Wmvh1g"
      },
      "source": [
        "## 학습(훈련) 데이터셋 만들기\n",
        "- 모델을 학습시키기 위한 데이터셋을 구성한다.\n",
        "- 입력데이터와 출력데이터을 각각 다른 행렬로 구성한다.\n",
        "- 하나의 데이터 포인트의 입력/출력 값은 같은 index에 정의한다."
      ]
    },
    {
      "cell_type": "markdown",
      "metadata": {
        "id": "Q4fb9pH-vh1h"
      },
      "source": [
        "### 선형회귀 (Linear Regression)\n",
        "- Feature들의 가중합을 이용해 Target을 추정한다.\n",
        "- Feature에 곱해지는 가중치(weight)들은 각 Feature가 Target 얼마나 영향을 주는지 영향도가 된다.\n",
        "    - 음수일 경우는 target값을 줄이고 양수일 경우는 target값을 늘린다.\n",
        "    - 가중치가 0에 가까울 수록 target에 영향을 주지 않는 feature이고 0에서 멀수록 target에 많은 영향을 준다.\n",
        "- 모델 학습과정에서 가장 적절한 Feature의 가중치를 찾아야 한다.\n",
        "      \n",
        "\n",
        "\\begin{align}\n",
        "&\\large \\hat{y} = W\\cdot X + b\\\\\n",
        "&\\small \\hat{y}: \\text{모델추정값}\\\\\n",
        "&\\small W: \\text{가중치}\\\\\n",
        "&\\small X: \\text{Feature(입력값)}\\\\\n",
        "&\\small b: \\text{bias(편향)}\n",
        "\\end{align}\n",
        "\n"
      ]
    },
    {
      "cell_type": "markdown",
      "metadata": {
        "id": "nvSJiHPWvh1h"
      },
      "source": [
        "## Train dataset 구성\n",
        "- Train data는 feature(input)와 target(output) 각각 2개의 행렬로 구성한다.\n",
        "- Feature의 행은 관측치(개별 데이터)를 열을 Feature(특성, 변수)를 표현한다. 이 문제에서는 `공부시간` 1개의 변수를 가진다.\n",
        "- Target은 모델이 예측할 대상으로 행은 개별 관측치, 열은 각 항목에 대한 정답으로 구성한다.   \n",
        "  이 문제에서 예측할 항목은 `시험점수` 한개이다."
      ]
    },
    {
      "cell_type": "code",
      "execution_count": null,
      "metadata": {
        "id": "52NyT0Tovh1h"
      },
      "outputs": [],
      "source": [
        "import torch"
      ]
    },
    {
      "cell_type": "code",
      "execution_count": null,
      "metadata": {
        "colab": {
          "base_uri": "https://localhost:8080/"
        },
        "id": "aMYqFjALvh1i",
        "outputId": "58f25496-a547-4bde-b2dc-8dfd3bd42d4a"
      },
      "outputs": [
        {
          "output_type": "stream",
          "name": "stdout",
          "text": [
            "torch.Size([3, 1]) torch.Size([3, 1])\n"
          ]
        }
      ],
      "source": [
        "# data\n",
        "study_time = [[1], [2], [3]] # 2차원으로 만들어 준다.\n",
        "score = [[20], [30], [40]]\n",
        "\n",
        "# Dataset 구성 -> torch.Tensor\n",
        "X_train = torch.tensor(study_time, dtype=torch.float32)\n",
        "y_train = torch.tensor(score, dtype=torch.float32)\n",
        "print(X_train.size(), y_train.size())"
      ]
    },
    {
      "cell_type": "code",
      "execution_count": null,
      "metadata": {
        "id": "dlwxi0Javh1i"
      },
      "outputs": [],
      "source": []
    },
    {
      "cell_type": "markdown",
      "metadata": {
        "id": "VotjRTh-vh1i"
      },
      "source": [
        "## 파라미터 (weight, bias) 정의 (=모델 정의)\n",
        "- 학습대상/최적화 대상"
      ]
    },
    {
      "cell_type": "code",
      "execution_count": null,
      "metadata": {
        "colab": {
          "base_uri": "https://localhost:8080/"
        },
        "id": "VCBOd6M8vh1i",
        "outputId": "5bc4c6f5-eee5-4028-c963-557461baa17d"
      },
      "outputs": [
        {
          "output_type": "stream",
          "name": "stdout",
          "text": [
            "tensor([[1.5410]], requires_grad=True)\n",
            "tensor([-0.2934], requires_grad=True)\n"
          ]
        }
      ],
      "source": [
        "# X * weight + bias\n",
        "# 최적화 대상은 weight와 bias\n",
        "torch.manual_seed(0)\n",
        "# weight/bias 정의\n",
        "## weight는 표준정규분포의 랜덤값을 사용한다.\n",
        "weight = torch.randn(1, 1, requires_grad=True) # 최적화 대상이니까 req_grad = True로 준다.\n",
        "bias = torch.randn(1, requires_grad=True) # 얘는 그냥 더하기만 하는 애니까 1만 해준다. (1, 1) 말고\n",
        "print(weight)\n",
        "print(bias)"
      ]
    },
    {
      "cell_type": "markdown",
      "source": [
        "feature 1개니까 weight도 1개\n",
        "\n",
        "2차원으로 (1, 1)을 만들어주자\n",
        "\n",
        "그래야 (2, 1)과 (1, 1)은 연산 가능하니까"
      ],
      "metadata": {
        "id": "bpyRtHJR2ZRc"
      }
    },
    {
      "cell_type": "code",
      "execution_count": null,
      "metadata": {
        "id": "vg2VXDA5vh1i"
      },
      "outputs": [],
      "source": [
        "# 모델 정의\n",
        "def linear_model(X):\n",
        "  return X @ weight + bias # 2 x 1 @ 1 x 1 내적\n",
        "\n",
        "# 손실함수(Loss) 정의 -> MSE\n",
        "def loss_fn(y_pred, y):\n",
        "  return torch.mean((y_pred - y)**2)"
      ]
    },
    {
      "cell_type": "markdown",
      "source": [
        "torch.mean을 사용하는 이유는 PyTorch의 텐서 연산을 위해서입니다. 간단히 말하면, PyTorch 텐서에는 파이썬의 mean() 함수가 직접 적용되지 않기 때문입니다.\n",
        "\n",
        "자세히 설명하면:\n",
        "\n",
        "mean()은 일반적으로 파이썬의 리스트나 넘파이 배열에서 사용하는 함수입니다 (numpy.mean() 또는 statistics.mean() 등).\n",
        "\n",
        "PyTorch의 텐서(torch.Tensor)에서 평균을 구하려면 torch.mean() 또는 tensor.mean()을 써야 합니다."
      ],
      "metadata": {
        "id": "Ez65HVl94DRc"
      }
    },
    {
      "cell_type": "code",
      "execution_count": null,
      "metadata": {
        "id": "THVMpFiwvh1j"
      },
      "outputs": [],
      "source": [
        "y_pred = linear_model(X_train)"
      ]
    },
    {
      "cell_type": "code",
      "source": [
        "y_pred"
      ],
      "metadata": {
        "colab": {
          "base_uri": "https://localhost:8080/"
        },
        "id": "lvSWTnpI4HnL",
        "outputId": "33a1e02f-8f3d-44de-a432-286c4c8fc573"
      },
      "execution_count": null,
      "outputs": [
        {
          "output_type": "execute_result",
          "data": {
            "text/plain": [
              "tensor([[1.2476],\n",
              "        [2.7886],\n",
              "        [4.3296]], grad_fn=<AddBackward0>)"
            ]
          },
          "metadata": {},
          "execution_count": 10
        }
      ]
    },
    {
      "cell_type": "code",
      "source": [
        "# MSE\n",
        "loss = loss_fn(y_pred, y_train)\n",
        "loss"
      ],
      "metadata": {
        "colab": {
          "base_uri": "https://localhost:8080/"
        },
        "id": "980ASdB_4Hjv",
        "outputId": "761222a4-8d48-40cc-870d-12db62b1f027"
      },
      "execution_count": null,
      "outputs": [
        {
          "output_type": "execute_result",
          "data": {
            "text/plain": [
              "tensor(788.1655, grad_fn=<MeanBackward0>)"
            ]
          },
          "metadata": {},
          "execution_count": 13
        }
      ]
    },
    {
      "cell_type": "code",
      "source": [],
      "metadata": {
        "id": "gaQnqhIr4Hho"
      },
      "execution_count": null,
      "outputs": []
    },
    {
      "cell_type": "code",
      "source": [],
      "metadata": {
        "id": "p6ZheRJe4HY0"
      },
      "execution_count": null,
      "outputs": []
    },
    {
      "cell_type": "markdown",
      "metadata": {
        "id": "PbrYvyS2vh1j"
      },
      "source": [
        "### 모델링"
      ]
    },
    {
      "cell_type": "code",
      "execution_count": null,
      "metadata": {
        "id": "ScX3g6VNvh1j"
      },
      "outputs": [],
      "source": []
    },
    {
      "cell_type": "code",
      "execution_count": null,
      "metadata": {
        "id": "7X7MMmfPvh1j"
      },
      "outputs": [],
      "source": []
    },
    {
      "cell_type": "code",
      "execution_count": null,
      "metadata": {
        "id": "XQEJes3pvh1j"
      },
      "outputs": [],
      "source": []
    },
    {
      "cell_type": "markdown",
      "metadata": {
        "id": "guGbz8Mkvh1j"
      },
      "source": [
        "### 학습\n",
        "1. 모델을 이용해 추정한다.\n",
        "   - pred = model(input)\n",
        "1. loss를 계산한다.\n",
        "   - loss = loss_fn(pred, target)\n",
        "1. 계산된 loss를 파라미터에 대해 미분하여 계산한 gradient 값을 각 파라미터에 저장한다.\n",
        "   - loss.backward()\n",
        "1. optimizer를 이용해 파라미터를 update한다.\n",
        "   - optimizer.step()  \n",
        "1. 파라미터의 gradient(미분값)을 0으로 초기화한다.\n",
        "   - optimizer.zero_grad()\n",
        "- 위의 단계를 반복한다.   "
      ]
    },
    {
      "cell_type": "code",
      "execution_count": null,
      "metadata": {
        "id": "1sqyH2Wqvh1j"
      },
      "outputs": [],
      "source": [
        "# 바꾸지 않을 상수 값은 관례적으로 대문자로 변수 생성\n",
        "LEARNING_RATE = 0.01\n",
        "EPOCHS = 2000 # 반복횟수"
      ]
    },
    {
      "cell_type": "code",
      "execution_count": null,
      "metadata": {
        "colab": {
          "base_uri": "https://localhost:8080/"
        },
        "id": "h524WWbSvh1j",
        "outputId": "36638aa4-49da-4a53-9b90-3036a4dba63b"
      },
      "outputs": [
        {
          "output_type": "stream",
          "name": "stdout",
          "text": [
            "[0/2000] loss: 788.16552734375\n",
            "[100/2000] loss: 39.167362213134766\n",
            "[200/2000] loss: 24.201217651367188\n",
            "[300/2000] loss: 14.95489501953125\n",
            "[400/2000] loss: 9.241212844848633\n",
            "[500/2000] loss: 5.710511684417725\n",
            "[600/2000] loss: 3.5287535190582275\n",
            "[700/2000] loss: 2.180551767349243\n",
            "[800/2000] loss: 1.3474440574645996\n",
            "[900/2000] loss: 0.832639217376709\n",
            "[1000/2000] loss: 0.5145217180252075\n",
            "[1100/2000] loss: 0.31794390082359314\n",
            "[1200/2000] loss: 0.1964704543352127\n",
            "[1300/2000] loss: 0.12140478938817978\n",
            "[1400/2000] loss: 0.07502076029777527\n",
            "[1500/2000] loss: 0.0463578999042511\n",
            "[1600/2000] loss: 0.028646698221564293\n",
            "[1700/2000] loss: 0.017701977863907814\n",
            "[1800/2000] loss: 0.010938555933535099\n",
            "[1900/2000] loss: 0.006759307812899351\n",
            "[1999/2000] loss: 0.004196911584585905\n"
          ]
        }
      ],
      "source": [
        "for epoch in range(EPOCHS):\n",
        "  # 1. 모델을 이용한 추론\n",
        "  pred = linear_model(X_train) # 1 epoch\n",
        "  # 2. loss 계산\n",
        "  loss = loss_fn(pred, y_train)\n",
        "  # 3. gradient 계산\n",
        "  loss.backward() # weight/bias의 grad 값이 계산되서 각각의 grad 속성에 저장이 되어있을 것임.\n",
        "  # 우리가 줄이고 싶은 건 loss니까 loss에서 backward 하는 거예요!\n",
        "  # 4. 파라미터 (weight/bias) 업데이트\n",
        "  weight.data = weight.data - weight.grad * LEARNING_RATE\n",
        "  bias.data = bias.data - bias.grad * LEARNING_RATE\n",
        "  # 5. 파라미터 grad 값 초기화 # 추론 시작 전에 해도 ㅇㅋ\n",
        "  weight.grad = None\n",
        "  bias.grad = None\n",
        "  if epoch % 100 == 0 or epoch == EPOCHS - 1: # 100번에 한 번씩, 마지막 에폭\n",
        "    print(f\"[{epoch}/{EPOCHS}] loss: {loss.item()}\")"
      ]
    },
    {
      "cell_type": "markdown",
      "source": [
        "처음에는 weight 값을 엉뚱한 랜덤 값으로 하기 때문에 오차도 크고 개선도 빨리빨리 된다. 나중에는 정답에 가까워져 가니까 오차도 작고 그런거다~~"
      ],
      "metadata": {
        "id": "sQ1PiIPZ8aFX"
      }
    },
    {
      "cell_type": "markdown",
      "source": [
        "만약 처음부터 다시 학습하고 싶다면? weight 정의하는 코드를 다시 돌려야 함.\n",
        "\n",
        "바로 위에 학습하는 for문만 한 번 더 돌리면 그냥 더 학습하는 거임"
      ],
      "metadata": {
        "id": "aH3KwjlN81X2"
      }
    },
    {
      "cell_type": "markdown",
      "source": [
        "1 epoch = 전체 train data를 1회 다 학습 했을 때 1 에폭이라고 함\n",
        "\n",
        "딥러닝에서는 전체를 1회만 학습하지 않고 여러 번 학습하기 때문에 에폭을 설정한다.\n",
        "\n",
        "위에서 에폭 2000으로 설정 => 2000번 학습하라는 의미"
      ],
      "metadata": {
        "id": "7UgqFLoq5ony"
      }
    },
    {
      "cell_type": "code",
      "source": [
        "# 학습 후 추론\n",
        "pred2 = linear_model(X_train)\n",
        "pred2"
      ],
      "metadata": {
        "colab": {
          "base_uri": "https://localhost:8080/"
        },
        "id": "gEmJ2quZ9HTX",
        "outputId": "0c09a91b-4ebf-45d2-b483-dbdae29f6236"
      },
      "execution_count": null,
      "outputs": [
        {
          "output_type": "execute_result",
          "data": {
            "text/plain": [
              "tensor([[20.0956],\n",
              "        [30.0205],\n",
              "        [39.9455]], grad_fn=<AddBackward0>)"
            ]
          },
          "metadata": {},
          "execution_count": 16
        }
      ]
    },
    {
      "cell_type": "markdown",
      "source": [
        "y값이 20, 30, 40이었으니까~! 거의 잘 맞췄네요"
      ],
      "metadata": {
        "id": "oOQwLkup9RV7"
      }
    },
    {
      "cell_type": "code",
      "source": [
        "weight, bias"
      ],
      "metadata": {
        "colab": {
          "base_uri": "https://localhost:8080/"
        },
        "id": "r7zNrPJX9O1I",
        "outputId": "5cfbf6ea-c98f-4949-cfa6-5bcd7df4a205"
      },
      "execution_count": null,
      "outputs": [
        {
          "output_type": "execute_result",
          "data": {
            "text/plain": [
              "(tensor([[9.9249]], requires_grad=True), tensor([10.1706], requires_grad=True))"
            ]
          },
          "metadata": {},
          "execution_count": 17
        }
      ]
    },
    {
      "cell_type": "markdown",
      "source": [
        "y = 9.9249*x + 10.1706으로 추론함!"
      ],
      "metadata": {
        "id": "yz7Yb2ZB9ZqE"
      }
    },
    {
      "cell_type": "markdown",
      "metadata": {
        "id": "TQV0-9kivh1j"
      },
      "source": [
        "# 다중 입력, 다중 출력\n",
        "- 다중입력: Feature가 여러개인 경우\n",
        "- 다중출력: Output 결과가 여러개인 경우\n",
        "\n",
        "다음 가상 데이터를 이용해 사과와 오렌지 수확량을 예측하는 선형회귀 모델을 정의한다.  \n",
        "[참조](https://www.kaggle.com/code/aakashns/pytorch-basics-linear-regression-from-scratch)\n",
        "\n",
        "\n",
        "|온도(F)|강수량(mm)|습도(%)|사과생산량(ton)|오렌지생산량|\n",
        "|-|-|-|-:|-:|\n",
        "|73|67|43|56|70|\n",
        "|91|88|64|81|101|\n",
        "|87|134|58|119|133|\n",
        "|102|43|37|22|37|\n",
        "|69|96|70|103|119|\n",
        "\n",
        "```\n",
        "사과수확량  = w11 * 온도 + w12 * 강수량 + w13 * 습도 + b1\n",
        "오렌지수확량 = w21 * 온도 + w22 * 강수량 + w23 *습도 + b2\n",
        "```\n",
        "\n",
        "- `온도`, `강수량`, `습도` 값이 **사과**와, **오렌지 수확량**에 어느정도 영향을 주는지 가중치를 찾는다.\n",
        "    - 모델은 사과의 수확량, 오렌지의 수확량 **두개의 예측결과를 출력**해야 한다.\n",
        "    - 사과에 대해 예측하기 위한 weight 3개와 오렌지에 대해 예측하기 위한 weight 3개 이렇게 두 묶음, 총 6개의 weight를 정의하고 학습을 통해 가장 적당한 값을 찾는다.\n",
        "        - `개별 과일를 예측하기 위한 weight들 @ feature들` 의 계산 결과를  **Node, Unit, Neuron** 이라고 한다.\n",
        "        - 두 과일에 대한 Unit들을 묶어서 **Layer** 라고 한다.\n",
        "- 목적은 우리가 수집한 train 데이터셋을 이용해 **정확한 예측을 위한 weight와 bias 들**을 찾는 것이다."
      ]
    },
    {
      "cell_type": "markdown",
      "source": [
        "데이터 개수 N개\n",
        "\n",
        "feature 개수 3개\n",
        "\n",
        "나오는 건 사과, 오렌지 2개(출력해야할 값의 개수는 2)\n",
        "\n",
        "(N=5, 3) * (3, 2) = (5, 2)"
      ],
      "metadata": {
        "id": "W31apmYACUEH"
      }
    },
    {
      "cell_type": "markdown",
      "metadata": {
        "id": "pSyC6kKgvh1k"
      },
      "source": [
        "## Train Dataset\n",
        "- Train data는 feature(input)와 target(output) 각각 2개의 행렬로 구성한다.\n",
        "- Feature의 행은 관측치(개별 데이터)를 열을 Feature(특성, 변수)를 표현한다. 이 문제에서는 `온도, 강수량, 습도` 세개의 변수를 가진다.\n",
        "- Target은 모델이 예측할 대상으로 행은 개별 관측치, 열은 각 항목에 대한 정답으로 구성한다. 이 문제에서 예측할 항목은 `사과수확량, 오렌지 수확량` 2개의 값이다."
      ]
    },
    {
      "cell_type": "code",
      "execution_count": null,
      "metadata": {
        "id": "rdqXVKGIvh1k"
      },
      "outputs": [],
      "source": [
        "#  input: 생산환경 (temp, rainfall, humidity) : (5, 3)\n",
        "environs = [\n",
        "    [73, 67, 43],\n",
        "    [91, 88, 64],\n",
        "    [87, 134, 58],\n",
        "    [102, 43, 37],\n",
        "    [69, 96, 70]\n",
        "]\n",
        "\n",
        "# Targets: 생산량 - (apples, oranges) - (5, 2)\n",
        "apple_orange_output = [\n",
        "    [56, 70],\n",
        "    [81, 101],\n",
        "    [119, 133],\n",
        "    [22, 37],\n",
        "    [103, 119]\n",
        "]"
      ]
    },
    {
      "cell_type": "code",
      "execution_count": null,
      "metadata": {
        "colab": {
          "base_uri": "https://localhost:8080/"
        },
        "id": "w_Ymsijmvh1k",
        "outputId": "7de83273-43a7-4db7-c356-90ac64e4b1fe"
      },
      "outputs": [
        {
          "output_type": "execute_result",
          "data": {
            "text/plain": [
              "(torch.Size([5, 3]), torch.Size([5, 2]))"
            ]
          },
          "metadata": {},
          "execution_count": 19
        }
      ],
      "source": [
        "import torch\n",
        "# Dataset을 torch.Tensor로 생성\n",
        "X = torch.tensor(environs, dtype=torch.float32)\n",
        "y = torch.tensor(apple_orange_output, dtype=torch.float32)\n",
        "X.shape, y.shape"
      ]
    },
    {
      "cell_type": "code",
      "execution_count": null,
      "metadata": {
        "colab": {
          "base_uri": "https://localhost:8080/"
        },
        "id": "SW6j6b7nvh1k",
        "outputId": "ba38f24b-9fc5-4495-a49e-b9cfecab3622"
      },
      "outputs": [
        {
          "output_type": "execute_result",
          "data": {
            "text/plain": [
              "tensor([[ 73.,  67.,  43.],\n",
              "        [ 91.,  88.,  64.],\n",
              "        [ 87., 134.,  58.],\n",
              "        [102.,  43.,  37.],\n",
              "        [ 69.,  96.,  70.]])"
            ]
          },
          "metadata": {},
          "execution_count": 20
        }
      ],
      "source": [
        "X"
      ]
    },
    {
      "cell_type": "code",
      "source": [
        "y"
      ],
      "metadata": {
        "colab": {
          "base_uri": "https://localhost:8080/"
        },
        "id": "8EctOPTUDWuD",
        "outputId": "c9192297-74e2-41b4-e3dc-feb91e8fb951"
      },
      "execution_count": null,
      "outputs": [
        {
          "output_type": "execute_result",
          "data": {
            "text/plain": [
              "tensor([[ 56.,  70.],\n",
              "        [ 81., 101.],\n",
              "        [119., 133.],\n",
              "        [ 22.,  37.],\n",
              "        [103., 119.]])"
            ]
          },
          "metadata": {},
          "execution_count": 22
        }
      ]
    },
    {
      "cell_type": "markdown",
      "metadata": {
        "id": "Kjlsi2aVvh1l"
      },
      "source": [
        "## weight와 bias\n",
        "- weight: 각 feature들이 생산량에 영향을 주었는지의 가중치로 feature에 곱해줄 값.\n",
        "    - 사과, 오렌지의 생산량을 구해야 하므로 가중치가 두개가 된다.\n",
        "    - weight의 shape: `(3, 2)`\n",
        "- bias는 모든 feature들이 0일때 생산량이 얼마일지를 나타내는 값으로 feature와 weight간의 가중합 결과에 더해줄 값이다.\n",
        "    - 사과, 오렌지의 생산량을 구하므로 bias가 두개가 된다.\n",
        "    - bias의 shape: `(2, )`"
      ]
    },
    {
      "cell_type": "markdown",
      "metadata": {
        "id": "eIO0e0vLvh1l"
      },
      "source": [
        "### Linear Regression model\n",
        "모델은 weights `w`와 inputs `x`의 내적(dot product)한 값에 bias `b`를 더하는 함수.\n",
        "\n",
        "$$\n",
        "\\hspace{2.5cm} X \\hspace{1.1cm} \\cdot \\hspace{1.2cm} W \\hspace{1.2cm}  + \\hspace{1cm} b \\hspace{2cm}\n",
        "$$\n",
        "\n",
        "$$\n",
        "\\left[ \\begin{array}{cc}\n",
        "73 & 67 & 43 \\\\\n",
        "91 & 88 & 64 \\\\\n",
        "\\vdots & \\vdots & \\vdots \\\\\n",
        "69 & 96 & 70\n",
        "\\end{array} \\right]\n",
        "%\n",
        "\\cdot\n",
        "%\n",
        "\\left[ \\begin{array}{cc}\n",
        "w_{11} & w_{21} \\\\\n",
        "w_{12} & w_{22} \\\\\n",
        "w_{13} & w_{23}\n",
        "\\end{array} \\right]\n",
        "%\n",
        "+\n",
        "%\n",
        "\\left[ \\begin{array}{cc}\n",
        "b_{1} & b_{2} \\\\\n",
        "b_{1} & b_{2} \\\\\n",
        "\\vdots & \\vdots \\\\\n",
        "b_{1} & b_{2} \\\\\n",
        "\\end{array} \\right]\n",
        "$$\n",
        "\n",
        "\n",
        "<center style=\"font-size:0.9em\">\n",
        "$w_{11},\\,w_{12},\\,w_{13}$: 사과 생산량 계산시 각 feature들(생산환경)에 곱할 가중치   <br>\n",
        "$w_{21},\\,w_{22},\\,w_{23}$: 오렌지 생산량 계산시 각 feature들(생산환경)에 곱할 가중치    \n",
        "</center>"
      ]
    },
    {
      "cell_type": "markdown",
      "metadata": {
        "id": "N-bUmfkWvh1l"
      },
      "source": [
        "<center>\n",
        "<img src=\"https://raw.githubusercontent.com/kgmyhGit/image_resource/main/deeplearning/figures/3_unit_layer.png\">\n",
        "</center>"
      ]
    },
    {
      "cell_type": "code",
      "execution_count": null,
      "metadata": {
        "colab": {
          "base_uri": "https://localhost:8080/"
        },
        "id": "HzItov0qvh1l",
        "outputId": "95e3f191-4fee-426d-ed99-5b43f1064a86"
      },
      "outputs": [
        {
          "output_type": "execute_result",
          "data": {
            "text/plain": [
              "(torch.Size([3, 2]), torch.Size([2]))"
            ]
          },
          "metadata": {},
          "execution_count": 33
        }
      ],
      "source": [
        "# weight/bias 를 정의 -> 초기값은 random 값을 이용해서 생성.\n",
        "weight = torch.randn(3, 2, requires_grad=True) # 3: feature(입력) 개수, 2: 예측할 값의 개수 (출력)\n",
        "bias = torch.randn(2, requires_grad=True) # 2: 예측할 값의 개수\n",
        "\n",
        "weight.size(), bias.size()\n",
        "# weight: (3:input feature개수  ,  2:output 개수)\n",
        "# bias  : (2:output 개수, )"
      ]
    },
    {
      "cell_type": "code",
      "execution_count": null,
      "metadata": {
        "colab": {
          "base_uri": "https://localhost:8080/"
        },
        "id": "9YB7nsd_vh1l",
        "outputId": "cca1dd01-213a-4213-d673-61bb1c1d6142"
      },
      "outputs": [
        {
          "output_type": "execute_result",
          "data": {
            "text/plain": [
              "tensor([[-0.5966,  0.1820],\n",
              "        [-0.8567,  1.1006],\n",
              "        [-1.0712,  0.1227]], requires_grad=True)"
            ]
          },
          "metadata": {},
          "execution_count": 34
        }
      ],
      "source": [
        "weight"
      ]
    },
    {
      "cell_type": "code",
      "execution_count": null,
      "metadata": {
        "colab": {
          "base_uri": "https://localhost:8080/"
        },
        "id": "T3SnxdOCvh1l",
        "outputId": "71cb4772-5d7c-4497-cd9e-5f371051429a"
      },
      "outputs": [
        {
          "output_type": "execute_result",
          "data": {
            "text/plain": [
              "tensor([-0.5663,  0.3731], requires_grad=True)"
            ]
          },
          "metadata": {},
          "execution_count": 35
        }
      ],
      "source": [
        "bias"
      ]
    },
    {
      "cell_type": "code",
      "execution_count": null,
      "metadata": {
        "colab": {
          "base_uri": "https://localhost:8080/"
        },
        "id": "_dN9d17Lvh1l",
        "outputId": "37cc7033-8aa3-4874-adfa-4d139e9b3438"
      },
      "outputs": [
        {
          "output_type": "execute_result",
          "data": {
            "text/plain": [
              "tensor([[ 73.,  67.,  43.],\n",
              "        [ 91.,  88.,  64.],\n",
              "        [ 87., 134.,  58.],\n",
              "        [102.,  43.,  37.],\n",
              "        [ 69.,  96.,  70.]])"
            ]
          },
          "metadata": {},
          "execution_count": 36
        }
      ],
      "source": [
        "X"
      ]
    },
    {
      "cell_type": "code",
      "execution_count": null,
      "metadata": {
        "id": "B4CvuadXvh1l"
      },
      "outputs": [],
      "source": [
        "# 한번 학습(최적화)\n",
        "## 추론\n",
        "pred = X @ weight + bias"
      ]
    },
    {
      "cell_type": "code",
      "execution_count": null,
      "metadata": {
        "colab": {
          "base_uri": "https://localhost:8080/"
        },
        "id": "M39pRzO2vh1l",
        "outputId": "cc2f659f-d27e-4dbb-d34d-e845df0879c5"
      },
      "outputs": [
        {
          "output_type": "execute_result",
          "data": {
            "text/plain": [
              "tensor([[-147.5789,   92.6784],\n",
              "        [-198.8035,  121.6445],\n",
              "        [-229.3969,  170.8079],\n",
              "        [-137.8941,   70.8068],\n",
              "        [-198.9580,  127.1807]], grad_fn=<AddBackward0>)"
            ]
          },
          "metadata": {},
          "execution_count": 38
        }
      ],
      "source": [
        "pred"
      ]
    },
    {
      "cell_type": "code",
      "execution_count": null,
      "metadata": {
        "colab": {
          "base_uri": "https://localhost:8080/"
        },
        "id": "qTRzc57kvh1m",
        "outputId": "4171c56b-4df1-43fa-c7f2-c0a22266c28d"
      },
      "outputs": [
        {
          "output_type": "execute_result",
          "data": {
            "text/plain": [
              "tensor([[ 56.,  70.],\n",
              "        [ 81., 101.],\n",
              "        [119., 133.],\n",
              "        [ 22.,  37.],\n",
              "        [103., 119.]])"
            ]
          },
          "metadata": {},
          "execution_count": 39
        }
      ],
      "source": [
        "y"
      ]
    },
    {
      "cell_type": "markdown",
      "source": [
        "loss 계산 (MSE)"
      ],
      "metadata": {
        "id": "k2CzFC24FyXG"
      }
    },
    {
      "cell_type": "code",
      "execution_count": null,
      "metadata": {
        "colab": {
          "base_uri": "https://localhost:8080/"
        },
        "id": "CFQ0YlP0vh1m",
        "outputId": "022778b0-874b-410c-bc17-1de80d1e9134"
      },
      "outputs": [
        {
          "output_type": "execute_result",
          "data": {
            "text/plain": [
              "tensor(36143.9297, grad_fn=<MeanBackward0>)"
            ]
          },
          "metadata": {},
          "execution_count": 40
        }
      ],
      "source": [
        "## loss 계산(MSE)\n",
        "loss = torch.mean((pred - y)**2) # 전체 추론한 결과의 평균오차를 계산.\n",
        "loss"
      ]
    },
    {
      "cell_type": "markdown",
      "source": [
        "사과의 loss와 오렌지의 loss를 더 합친 총 loss임.\n",
        "\n",
        "사과를 더 잘 맞추고 싶으면: 사과의 loss를 크게 올린다. 그럼 사과 loss를 줄이려 모델이 더 잘 학습할테니까~~!!"
      ],
      "metadata": {
        "id": "rZMSTEKlGSEE"
      }
    },
    {
      "cell_type": "markdown",
      "source": [
        "loss를 가지고 파라미터들의 gradient 계산"
      ],
      "metadata": {
        "id": "1oXtyfMgF04A"
      }
    },
    {
      "cell_type": "code",
      "execution_count": null,
      "metadata": {
        "id": "ugWb6cmvvh1m"
      },
      "outputs": [],
      "source": [
        "# loss를 가지고 파라미터들(weight들, bias들)의 gradient 계산.\n",
        "loss.backward()"
      ]
    },
    {
      "cell_type": "code",
      "execution_count": null,
      "metadata": {
        "colab": {
          "base_uri": "https://localhost:8080/"
        },
        "id": "1U2fGcK8vh1m",
        "outputId": "01dce56e-110e-4de4-f175-0d73f22a036a"
      },
      "outputs": [
        {
          "output_type": "execute_result",
          "data": {
            "text/plain": [
              "tensor([[-0.5966,  0.1820],\n",
              "        [-0.8567,  1.1006],\n",
              "        [-1.0712,  0.1227]])"
            ]
          },
          "metadata": {},
          "execution_count": 42
        }
      ],
      "source": [
        "weight.data"
      ]
    },
    {
      "cell_type": "code",
      "execution_count": null,
      "metadata": {
        "colab": {
          "base_uri": "https://localhost:8080/"
        },
        "id": "nQK4ntgwvh1m",
        "outputId": "422f0cf0-91d9-431e-ae1c-02e50aed2215"
      },
      "outputs": [
        {
          "output_type": "execute_result",
          "data": {
            "text/plain": [
              "tensor([[-21555.6426,   2167.2441],\n",
              "        [-24162.2188,   2128.2937],\n",
              "        [-14784.2959,   1262.5558]])"
            ]
          },
          "metadata": {},
          "execution_count": 43
        }
      ],
      "source": [
        "weight.grad"
      ]
    },
    {
      "cell_type": "code",
      "execution_count": null,
      "metadata": {
        "colab": {
          "base_uri": "https://localhost:8080/"
        },
        "id": "opVD_EGJvh1p",
        "outputId": "29aea8fb-ebfb-4ef8-82a8-5fdc2eb2174c"
      },
      "outputs": [
        {
          "output_type": "execute_result",
          "data": {
            "text/plain": [
              "(tensor([-0.5663,  0.3731]), tensor([-258.7263,   24.6237]))"
            ]
          },
          "metadata": {},
          "execution_count": 44
        }
      ],
      "source": [
        "bias.data, bias.grad"
      ]
    },
    {
      "cell_type": "markdown",
      "source": [
        "파라미터 업데이트"
      ],
      "metadata": {
        "id": "QTxztc2OF4xy"
      }
    },
    {
      "cell_type": "code",
      "execution_count": null,
      "metadata": {
        "id": "qC6Zs2xsvh1q"
      },
      "outputs": [],
      "source": [
        "# 파라미터 업데이트\n",
        "lr = 0.00001\n",
        "weight.data = weight.data - lr * weight.grad\n",
        "bias.data = bias.data - lr * bias.grad"
      ]
    },
    {
      "cell_type": "code",
      "execution_count": null,
      "metadata": {
        "colab": {
          "base_uri": "https://localhost:8080/"
        },
        "id": "yStJV_tgvh1q",
        "outputId": "da16ee74-d070-47a2-d4bf-64ce69399825"
      },
      "outputs": [
        {
          "output_type": "execute_result",
          "data": {
            "text/plain": [
              "tensor([[-0.3811,  0.1604],\n",
              "        [-0.6151,  1.0793],\n",
              "        [-0.9233,  0.1101]])"
            ]
          },
          "metadata": {},
          "execution_count": 46
        }
      ],
      "source": [
        "weight.data"
      ]
    },
    {
      "cell_type": "code",
      "execution_count": null,
      "metadata": {
        "id": "5UrugIw-vh1q"
      },
      "outputs": [],
      "source": [
        "## 업데이트된 파라미터로 추정 -> loss 계산\n",
        "pred2 = X @ weight + bias\n",
        "loss2 = torch.mean((pred2 - y)**2)"
      ]
    },
    {
      "cell_type": "code",
      "execution_count": null,
      "metadata": {
        "colab": {
          "base_uri": "https://localhost:8080/"
        },
        "id": "5K7UwqF2vh1q",
        "outputId": "b9a4ba59-bdc2-4271-c865-ab22be563e6e"
      },
      "outputs": [
        {
          "output_type": "stream",
          "name": "stdout",
          "text": [
            "36143.9296875 24508.60546875\n"
          ]
        }
      ],
      "source": [
        "print(loss.item(), loss2.item())"
      ]
    },
    {
      "cell_type": "markdown",
      "source": [
        "36000 -> 24000 많이 줄었죠?"
      ],
      "metadata": {
        "id": "p0MSZBxfG61I"
      }
    },
    {
      "cell_type": "markdown",
      "metadata": {
        "id": "7ddRk6Zgvh1q"
      },
      "source": [
        "##  모델링"
      ]
    },
    {
      "cell_type": "code",
      "execution_count": null,
      "metadata": {
        "id": "dU0gNwzqvh1q"
      },
      "outputs": [],
      "source": [
        "weight = torch.randn(3, 2, requires_grad=True)\n",
        "bias = torch.randn(2, requires_grad=True)\n",
        "\n",
        "## 모델 정의\n",
        "def model(X):\n",
        "    return X @ weight + bias\n",
        "\n",
        "## loss 함수(MSE)\n",
        "def loss_fn(pred, y):\n",
        "    return torch.mean((pred - y)**2) # 전체 오차의 평균."
      ]
    },
    {
      "cell_type": "code",
      "execution_count": null,
      "metadata": {
        "colab": {
          "base_uri": "https://localhost:8080/"
        },
        "id": "-hITV4xqvh1q",
        "outputId": "ab25eef3-3fc0-4074-a2a2-f76e4dd21821"
      },
      "outputs": [
        {
          "output_type": "execute_result",
          "data": {
            "text/plain": [
              "torch.Size([5, 3])"
            ]
          },
          "metadata": {},
          "execution_count": 50
        }
      ],
      "source": [
        "X.shape"
      ]
    },
    {
      "cell_type": "code",
      "execution_count": null,
      "metadata": {
        "collapsed": true,
        "jupyter": {
          "outputs_hidden": true
        },
        "colab": {
          "base_uri": "https://localhost:8080/"
        },
        "id": "Ln6xmX1Tvh1q",
        "outputId": "be9bc833-5251-4543-85d0-37631e981eb3"
      },
      "outputs": [
        {
          "output_type": "stream",
          "name": "stdout",
          "text": [
            "[0001/5000] - 4102.97900\n",
            "[0101/5000] - 167.19608\n",
            "[0201/5000] - 52.97421\n",
            "[0301/5000] - 19.95751\n",
            "[0401/5000] - 9.89216\n",
            "[0501/5000] - 6.40350\n",
            "[0601/5000] - 4.87352\n",
            "[0701/5000] - 3.98703\n",
            "[0801/5000] - 3.35902\n",
            "[0901/5000] - 2.86814\n",
            "[1001/5000] - 2.46935\n",
            "[1101/5000] - 2.14086\n",
            "[1201/5000] - 1.86902\n",
            "[1301/5000] - 1.64368\n",
            "[1401/5000] - 1.45678\n",
            "[1501/5000] - 1.30173\n",
            "[1601/5000] - 1.17311\n",
            "[1701/5000] - 1.06641\n",
            "[1801/5000] - 0.97788\n",
            "[1901/5000] - 0.90443\n",
            "[2001/5000] - 0.84350\n",
            "[2101/5000] - 0.79295\n",
            "[2201/5000] - 0.75101\n",
            "[2301/5000] - 0.71622\n",
            "[2401/5000] - 0.68735\n",
            "[2501/5000] - 0.66340\n",
            "[2601/5000] - 0.64354\n",
            "[2701/5000] - 0.62705\n",
            "[2801/5000] - 0.61338\n",
            "[2901/5000] - 0.60203\n",
            "[3001/5000] - 0.59262\n",
            "[3101/5000] - 0.58481\n",
            "[3201/5000] - 0.57834\n",
            "[3301/5000] - 0.57296\n",
            "[3401/5000] - 0.56850\n",
            "[3501/5000] - 0.56480\n",
            "[3601/5000] - 0.56173\n",
            "[3701/5000] - 0.55919\n",
            "[3801/5000] - 0.55707\n",
            "[3901/5000] - 0.55532\n",
            "[4001/5000] - 0.55386\n",
            "[4101/5000] - 0.55266\n",
            "[4201/5000] - 0.55166\n",
            "[4301/5000] - 0.55083\n",
            "[4401/5000] - 0.55014\n",
            "[4501/5000] - 0.54956\n",
            "[4601/5000] - 0.54909\n",
            "[4701/5000] - 0.54869\n",
            "[4801/5000] - 0.54837\n",
            "[4901/5000] - 0.54810\n",
            "[5000/5000] - 0.54787\n"
          ]
        }
      ],
      "source": [
        "epochs = 5000\n",
        "lr = 0.00001  # 1e-5\n",
        "for epoch in range(epochs):\n",
        "    # 1. 추론\n",
        "    pred = model(X)\n",
        "\n",
        "    # 2. loss 계산\n",
        "    loss = loss_fn(pred, y)\n",
        "    # 3. 파라미터 들의 gradient 계산\n",
        "    loss.backward()\n",
        "    # 4. 파라미터 업데이트\n",
        "    weight.data = weight.data - lr * weight.grad\n",
        "    bias.data = bias.data - lr * bias.grad\n",
        "    # 5. gradient 초기화\n",
        "    weight.grad = None\n",
        "    bias.grad = None\n",
        "    ## 100 epoch, 마지막 epoch에서 loss를 출력 => 학습 과정 log를 출력\n",
        "    if epoch % 100 == 0 or epoch == epochs-1:\n",
        "        print(f\"[{epoch+1:04d}/{epochs}] - {loss.item():.5f}\")"
      ]
    },
    {
      "cell_type": "code",
      "execution_count": null,
      "metadata": {
        "colab": {
          "base_uri": "https://localhost:8080/"
        },
        "id": "_8DyVQ8Qvh1q",
        "outputId": "9314f86c-421a-4700-947d-2f2f69a8bd2f"
      },
      "outputs": [
        {
          "output_type": "execute_result",
          "data": {
            "text/plain": [
              "tensor([[ 57.1935,  70.5227],\n",
              "        [ 82.2194, 100.5309],\n",
              "        [118.6196, 132.9357],\n",
              "        [ 21.0584,  36.9917],\n",
              "        [101.9937, 119.1602]], grad_fn=<AddBackward0>)"
            ]
          },
          "metadata": {},
          "execution_count": 52
        }
      ],
      "source": [
        "# 새로운 데이터로 추론\n",
        "p = model(X)\n",
        "p"
      ]
    },
    {
      "cell_type": "code",
      "execution_count": null,
      "metadata": {
        "colab": {
          "base_uri": "https://localhost:8080/"
        },
        "id": "wzKyZQhKvh1q",
        "outputId": "bd066ed0-5f2b-4479-b0d9-70b12789baec"
      },
      "outputs": [
        {
          "output_type": "execute_result",
          "data": {
            "text/plain": [
              "tensor([[ 56.,  70.],\n",
              "        [ 81., 101.],\n",
              "        [119., 133.],\n",
              "        [ 22.,  37.],\n",
              "        [103., 119.]])"
            ]
          },
          "metadata": {},
          "execution_count": 53
        }
      ],
      "source": [
        "y"
      ]
    },
    {
      "cell_type": "markdown",
      "source": [
        "학습하는 데이터셋이 2차원이였기 때문에 추론할 데이터셋도 차원을 맞춰줘야 한다.\n",
        "\n",
        "-> unsqueeze를 써서 2차원으로 늘려준다.\n",
        "\n",
        "(3,) -> (1, 3)"
      ],
      "metadata": {
        "id": "OfYiTV8SIERC"
      }
    },
    {
      "cell_type": "code",
      "execution_count": null,
      "metadata": {
        "colab": {
          "base_uri": "https://localhost:8080/"
        },
        "id": "qIp1rIEGvh1r",
        "outputId": "8b392746-379c-42d6-c53b-cc6e7b500f6a"
      },
      "outputs": [
        {
          "output_type": "execute_result",
          "data": {
            "text/plain": [
              "torch.Size([1, 3])"
            ]
          },
          "metadata": {},
          "execution_count": 54
        }
      ],
      "source": [
        "new_x = torch.tensor([68, 82, 56], dtype=torch.float32)\n",
        "new_x = new_x.unsqueeze(dim=0)\n",
        "new_x.shape"
      ]
    },
    {
      "cell_type": "code",
      "execution_count": null,
      "metadata": {
        "colab": {
          "base_uri": "https://localhost:8080/"
        },
        "id": "xPUer9CVvh1r",
        "outputId": "84e73ff7-f2b9-4c7a-94b2-e453ebd1e24b"
      },
      "outputs": [
        {
          "output_type": "execute_result",
          "data": {
            "text/plain": [
              "tensor([[80.8797, 95.7239]], grad_fn=<AddBackward0>)"
            ]
          },
          "metadata": {},
          "execution_count": 55
        }
      ],
      "source": [
        "model(new_x)"
      ]
    },
    {
      "cell_type": "code",
      "execution_count": null,
      "metadata": {
        "id": "mR_Ay9Hfvh1r"
      },
      "outputs": [],
      "source": []
    },
    {
      "cell_type": "markdown",
      "metadata": {
        "id": "buKbpM81vh1r"
      },
      "source": [
        "# pytorch built-in 모델을 사용해 Linear Regression 구현"
      ]
    },
    {
      "cell_type": "code",
      "execution_count": null,
      "metadata": {
        "id": "E-WLmzKqvh1r"
      },
      "outputs": [],
      "source": [
        "inputs = torch.tensor(\n",
        "    [[73, 67, 43],\n",
        "     [91, 88, 64],\n",
        "     [87, 134, 58],\n",
        "     [102, 43, 37],\n",
        "     [69, 96, 70]], dtype=torch.float32)"
      ]
    },
    {
      "cell_type": "code",
      "execution_count": null,
      "metadata": {
        "id": "4U1XGPIXvh1r"
      },
      "outputs": [],
      "source": [
        "targets = torch.tensor(\n",
        "    [[56, 70],\n",
        "    [81, 101],\n",
        "    [119, 133],\n",
        "    [22, 37],\n",
        "    [103, 119]], dtype=torch.float32)"
      ]
    },
    {
      "cell_type": "markdown",
      "metadata": {
        "id": "Z3Vi-hkrvh1r"
      },
      "source": [
        "## torch.nn.Linear\n",
        "Pytorch는 torch.nn.Linear 클래스를 통해 Linear Regression 모델을 제공한다.  \n",
        "torch.nn.Linear에 입력 feature의 개수와 출력 값의 개수를 지정하면 random 값으로 초기화한 weight와 bias들을 생성해 모델을 구성한다.\n",
        "- `torch.nn.Linear(input feature의 개수 , output 값의 개수)`"
      ]
    },
    {
      "cell_type": "markdown",
      "metadata": {
        "id": "tL2LzvD9vh1r"
      },
      "source": [
        "## Optimizer와 Loss 함수 정의\n",
        "- **Optimizer**: 계산된 gradient값을 이용해 파라미터들을 업데이트 하는 함수\n",
        "- **Loss 함수**: 정답과 모델이 예측한 값사이의 차이(오차)를 계산하는 함수.\n",
        "  - 모델을 최적화하는 것은 이 함수의 값을 최소화하는 것을 말한다.\n",
        "- `torch.optim` 모듈에 다양한 Optimizer 클래스가 구현되있다.\n",
        "- `torch.nn` 또는 `torch.nn.functional` 모듈에 다양한 Loss 함수가 제공된다."
      ]
    },
    {
      "cell_type": "code",
      "execution_count": null,
      "metadata": {
        "id": "KBhptSPcvh1s"
      },
      "outputs": [],
      "source": [
        "# 선형회귀 모델을 정의. torch.nn.Linear 클래스\n",
        "import torch\n",
        "import torch.nn as nn\n",
        "\n",
        "model = nn.Linear(3, 2)  # 3: input feature 개수, 2: output 수"
      ]
    },
    {
      "cell_type": "code",
      "execution_count": null,
      "metadata": {
        "id": "Y2k43GdUvh1s"
      },
      "outputs": [],
      "source": [
        "# loss 함수\n",
        "loss_fn = torch.nn.MSELoss()  # 클래스\n",
        "# loss_fn = torch.nn.functional.mse_loss # 함수"
      ]
    },
    {
      "cell_type": "markdown",
      "source": [
        "SGD: Stocastic Gradient Descent"
      ],
      "metadata": {
        "id": "lC8KzwvLJ3Pu"
      }
    },
    {
      "cell_type": "code",
      "execution_count": null,
      "metadata": {
        "id": "ol_pPok4vh1s"
      },
      "outputs": [],
      "source": [
        "# optimizer (torch.optim 모듈에 정의): weight.data = weight.data - lr * weight.grad\n",
        "optimizer = torch.optim.SGD(\n",
        "    model.parameters(), # 최적화 대상 파라미터들을 model에서 조회해서 전달.\n",
        "    lr = 0.00001,       # Learning Rage\n",
        ")"
      ]
    },
    {
      "cell_type": "code",
      "execution_count": null,
      "metadata": {
        "colab": {
          "base_uri": "https://localhost:8080/"
        },
        "id": "UwLHXq-5vh1s",
        "outputId": "aca83431-7af3-419b-f81d-7fea948978a8"
      },
      "outputs": [
        {
          "output_type": "execute_result",
          "data": {
            "text/plain": [
              "[Parameter containing:\n",
              " tensor([[ 0.2291,  0.0780,  0.3871],\n",
              "         [-0.3399,  0.1076, -0.4476]], requires_grad=True),\n",
              " Parameter containing:\n",
              " tensor([-0.4002, -0.2982], requires_grad=True)]"
            ]
          },
          "metadata": {},
          "execution_count": 59
        }
      ],
      "source": [
        "list(model.parameters())"
      ]
    },
    {
      "cell_type": "markdown",
      "source": [
        "2 x 3짜리가 weight, 밑에 두 개가 bias\n",
        "\n",
        "optimizer가 업데이트하니까 optimizer한테 model.parameters() 넘겨주는 거임"
      ],
      "metadata": {
        "id": "mb7bmdmWKLYj"
      }
    },
    {
      "cell_type": "markdown",
      "metadata": {
        "id": "iWoWic1Gvh1s"
      },
      "source": [
        "## Model Train"
      ]
    },
    {
      "cell_type": "code",
      "execution_count": null,
      "metadata": {
        "collapsed": true,
        "jupyter": {
          "outputs_hidden": true
        },
        "scrolled": true,
        "colab": {
          "base_uri": "https://localhost:8080/"
        },
        "id": "iii6WvpDvh1s",
        "outputId": "184d3538-0e8e-41c4-819f-433ae1716c1b"
      },
      "outputs": [
        {
          "output_type": "stream",
          "name": "stdout",
          "text": [
            "[0001/5000] - 10742.8310546875\n",
            "[0101/5000] - 151.3299102783203\n",
            "[0201/5000] - 63.65910720825195\n",
            "[0301/5000] - 35.50872039794922\n",
            "[0401/5000] - 24.664966583251953\n",
            "[0501/5000] - 19.179325103759766\n",
            "[0601/5000] - 15.613412857055664\n",
            "[0701/5000] - 12.93144702911377\n",
            "[0801/5000] - 10.783990859985352\n",
            "[0901/5000] - 9.024163246154785\n",
            "[1001/5000] - 7.570270538330078\n",
            "[1101/5000] - 6.365779876708984\n",
            "[1201/5000] - 5.3669939041137695\n",
            "[1301/5000] - 4.538535118103027\n",
            "[1401/5000] - 3.8512444496154785\n",
            "[1501/5000] - 3.2810630798339844\n",
            "[1601/5000] - 2.8080222606658936\n",
            "[1701/5000] - 2.4155800342559814\n",
            "[1801/5000] - 2.0899860858917236\n",
            "[1901/5000] - 1.81988525390625\n",
            "[2001/5000] - 1.5957990884780884\n",
            "[2101/5000] - 1.4098782539367676\n",
            "[2201/5000] - 1.2556408643722534\n",
            "[2301/5000] - 1.1276843547821045\n",
            "[2401/5000] - 1.021523356437683\n",
            "[2501/5000] - 0.9334546327590942\n",
            "[2601/5000] - 0.8603876233100891\n",
            "[2701/5000] - 0.7997709512710571\n",
            "[2801/5000] - 0.749481201171875\n",
            "[2901/5000] - 0.707760214805603\n",
            "[3001/5000] - 0.6731487512588501\n",
            "[3101/5000] - 0.6444305777549744\n",
            "[3201/5000] - 0.6206086277961731\n",
            "[3301/5000] - 0.6008437871932983\n",
            "[3401/5000] - 0.5844468474388123\n",
            "[3501/5000] - 0.5708403587341309\n",
            "[3601/5000] - 0.5595520734786987\n",
            "[3701/5000] - 0.5501896142959595\n",
            "[3801/5000] - 0.5424255132675171\n",
            "[3901/5000] - 0.5359801054000854\n",
            "[4001/5000] - 0.5306292176246643\n",
            "[4101/5000] - 0.5261942744255066\n",
            "[4201/5000] - 0.5225182771682739\n",
            "[4301/5000] - 0.5194621086120605\n",
            "[4401/5000] - 0.5169293284416199\n",
            "[4501/5000] - 0.5148257613182068\n",
            "[4601/5000] - 0.513081431388855\n",
            "[4701/5000] - 0.5116376280784607\n",
            "[4801/5000] - 0.5104387998580933\n",
            "[4901/5000] - 0.5094398856163025\n",
            "[5000/5000] - 0.5086196660995483\n"
          ]
        }
      ],
      "source": [
        "epochs = 5000\n",
        "\n",
        "for epoch in range(epochs):\n",
        "    # 추론\n",
        "    pred = model(inputs)\n",
        "    # loss 계산\n",
        "    loss = loss_fn(pred, targets) # torch.nn.functional.mse_loss(pred, targets) # (모델추정값, 정답)\n",
        "    # gradient 계산\n",
        "    loss.backward()\n",
        "    # 파라미터 업데이트: optimizer.step()\n",
        "    optimizer.step()\n",
        "    # 파라미터 초기화 w.grad=None, b.grad=None\n",
        "    optimizer.zero_grad()\n",
        "    # 현재 epoch 학습 결과를 log로 출력\n",
        "    if epoch % 100 == 0 or epoch == epochs-1:\n",
        "        print(f\"[{epoch+1:04d}/{epochs}] - {loss.item()}\")"
      ]
    },
    {
      "cell_type": "code",
      "execution_count": null,
      "metadata": {
        "id": "WvMdzLyhvh1s"
      },
      "outputs": [],
      "source": [
        "# 추론 => gradient 계산을 할 필요가 없다. ==> grad_fn을 만들 필요가 없다. 그래서 torch.no_grad() 블록에서 추론 작업을 실행한다.\n",
        "with torch.no_grad():\n",
        "    pred = model(inputs)"
      ]
    },
    {
      "cell_type": "code",
      "execution_count": null,
      "metadata": {
        "colab": {
          "base_uri": "https://localhost:8080/"
        },
        "id": "4XSLD4Ievh1s",
        "outputId": "1c88896e-91f9-4fe1-f431-2f937a5c9f14"
      },
      "outputs": [
        {
          "output_type": "execute_result",
          "data": {
            "text/plain": [
              "tensor([[ 56.,  70.],\n",
              "        [ 81., 101.],\n",
              "        [119., 133.],\n",
              "        [ 22.,  37.],\n",
              "        [103., 119.]])"
            ]
          },
          "metadata": {},
          "execution_count": 66
        }
      ],
      "source": [
        "targets"
      ]
    },
    {
      "cell_type": "code",
      "execution_count": null,
      "metadata": {
        "colab": {
          "base_uri": "https://localhost:8080/"
        },
        "id": "kkbgqp_0vh1s",
        "outputId": "ab6a1142-1b96-4035-e90b-df87583d61ff"
      },
      "outputs": [
        {
          "output_type": "execute_result",
          "data": {
            "text/plain": [
              "tensor([[ 57.0985,  70.2679],\n",
              "        [ 82.2408, 100.6381],\n",
              "        [118.7217, 133.0966],\n",
              "        [ 21.0950,  37.0579],\n",
              "        [101.8919, 119.0000]])"
            ]
          },
          "metadata": {},
          "execution_count": 67
        }
      ],
      "source": [
        "pred"
      ]
    },
    {
      "cell_type": "markdown",
      "source": [
        "train하는 게 반복적이니까 함수로 구현"
      ],
      "metadata": {
        "id": "ptUlL-pGLDtS"
      }
    },
    {
      "cell_type": "code",
      "execution_count": null,
      "metadata": {
        "id": "UAtaPW75vh1s"
      },
      "outputs": [],
      "source": [
        "# 학습 로직을 함수 구현\n",
        "def train(inputs, targets, epochs, model, loss_fn, optimizer):\n",
        "\n",
        "    for epoch in range(epochs):\n",
        "        # 추론\n",
        "        pred = model(inputs)\n",
        "        # loss 계산\n",
        "        loss = loss_fn(pred, targets) # torch.nn.functional.mse_loss(pred, targets) # (모델추정값, 정답)\n",
        "        # gradient 계산\n",
        "        loss.backward()\n",
        "        # 파라미터 업데이트: optimizer.step()\n",
        "        optimizer.step()\n",
        "        # 파라미터 초기화 w.grad=None, b.grad=None\n",
        "        optimizer.zero_grad()\n",
        "        # 현재 epoch 학습 결과를 log로 출력\n",
        "        if epoch % 100 == 0 or epoch == epochs-1:\n",
        "            print(f\"[{epoch+1:04d}/{epochs}] - {loss.item()}\")"
      ]
    },
    {
      "cell_type": "code",
      "execution_count": null,
      "metadata": {
        "id": "HeSYC-lxvh1t"
      },
      "outputs": [],
      "source": [
        "model = nn.Linear(3, 2)\n",
        "optimizer = torch.optim.SGD(model.parameters(), lr=0.0001)"
      ]
    },
    {
      "cell_type": "code",
      "execution_count": null,
      "metadata": {
        "collapsed": true,
        "jupyter": {
          "outputs_hidden": true
        },
        "colab": {
          "base_uri": "https://localhost:8080/"
        },
        "id": "LaIzjn-4vh1t",
        "outputId": "672c8f43-2bd7-4001-f6cc-1103f4b62361"
      },
      "outputs": [
        {
          "output_type": "stream",
          "name": "stdout",
          "text": [
            "[0001/5000] - 3782.52587890625\n",
            "[0101/5000] - 10.657798767089844\n",
            "[0201/5000] - 2.071007251739502\n",
            "[0301/5000] - 0.7552521228790283\n",
            "[0401/5000] - 0.5536100268363953\n",
            "[0501/5000] - 0.5227049589157104\n",
            "[0601/5000] - 0.5179613828659058\n",
            "[0701/5000] - 0.5172356367111206\n",
            "[0801/5000] - 0.5171126127243042\n",
            "[0901/5000] - 0.5170959830284119\n",
            "[1001/5000] - 0.5170840620994568\n",
            "[1101/5000] - 0.5170764327049255\n",
            "[1201/5000] - 0.5170726776123047\n",
            "[1301/5000] - 0.5170679688453674\n",
            "[1401/5000] - 0.5170631408691406\n",
            "[1501/5000] - 0.5170561075210571\n",
            "[1601/5000] - 0.517051100730896\n",
            "[1701/5000] - 0.5170449614524841\n",
            "[1801/5000] - 0.5170422792434692\n",
            "[1901/5000] - 0.5170327425003052\n",
            "[2001/5000] - 0.5170321464538574\n",
            "[2101/5000] - 0.5170232653617859\n",
            "[2201/5000] - 0.5170175433158875\n",
            "[2301/5000] - 0.517012894153595\n",
            "[2401/5000] - 0.5170049667358398\n",
            "[2501/5000] - 0.517004132270813\n",
            "[2601/5000] - 0.516995370388031\n",
            "[2701/5000] - 0.5169912576675415\n",
            "[2801/5000] - 0.5169833898544312\n",
            "[2901/5000] - 0.5169780850410461\n",
            "[3001/5000] - 0.5169739723205566\n",
            "[3101/5000] - 0.5169689655303955\n",
            "[3201/5000] - 0.5169615745544434\n",
            "[3301/5000] - 0.5169575214385986\n",
            "[3401/5000] - 0.5169514417648315\n",
            "[3501/5000] - 0.5169469118118286\n",
            "[3601/5000] - 0.5169398188591003\n",
            "[3701/5000] - 0.5169359445571899\n",
            "[3801/5000] - 0.5169286131858826\n",
            "[3901/5000] - 0.5169259309768677\n",
            "[4001/5000] - 0.516918957233429\n",
            "[4101/5000] - 0.5169137716293335\n",
            "[4201/5000] - 0.5169059038162231\n",
            "[4301/5000] - 0.5169006586074829\n",
            "[4401/5000] - 0.5168965458869934\n",
            "[4501/5000] - 0.5168891549110413\n",
            "[4601/5000] - 0.5168825387954712\n",
            "[4701/5000] - 0.5168788433074951\n",
            "[4801/5000] - 0.5168722867965698\n",
            "[4901/5000] - 0.5168639421463013\n",
            "[5000/5000] - 0.5168613195419312\n"
          ]
        }
      ],
      "source": [
        "train(inputs, targets, 5000, model, nn.functional.mse_loss, optimizer)"
      ]
    },
    {
      "cell_type": "code",
      "execution_count": null,
      "metadata": {
        "id": "HDEqYpFBvh1t"
      },
      "outputs": [],
      "source": []
    }
  ],
  "metadata": {
    "kernelspec": {
      "display_name": "Python 3",
      "name": "python3"
    },
    "language_info": {
      "codemirror_mode": {
        "name": "ipython",
        "version": 3
      },
      "file_extension": ".py",
      "mimetype": "text/x-python",
      "name": "python",
      "nbconvert_exporter": "python",
      "pygments_lexer": "ipython3",
      "version": "3.12.7"
    },
    "colab": {
      "provenance": [],
      "include_colab_link": true
    }
  },
  "nbformat": 4,
  "nbformat_minor": 0
}