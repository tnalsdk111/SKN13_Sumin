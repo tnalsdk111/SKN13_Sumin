{
 "cells": [
  {
   "cell_type": "markdown",
   "id": "91454f7e-7c69-4a5a-98dd-66cb8cfd724d",
   "metadata": {},
   "source": [
    "# Package 설치"
   ]
  },
  {
   "cell_type": "code",
   "execution_count": 3,
   "id": "7044cc34-f820-455f-9813-de7641809699",
   "metadata": {},
   "outputs": [
    {
     "name": "stdout",
     "output_type": "stream",
     "text": [
      "Note: you may need to restart the kernel to use updated packages.\n"
     ]
    }
   ],
   "source": [
    "%pip install transformers tokenizers datasets accelerate sentencepiece pillow  timm -qU"
   ]
  },
  {
   "cell_type": "markdown",
   "id": "e7e2b823-faf7-4894-a1b3-42d6f177cb99",
   "metadata": {},
   "source": [
    "# Hugging Face Pipeline을 이용한 모델 활용\n",
    "\n",
    "- Pipeline은 Transformers 라이브러리의 가장 기본적인 객체로, **전처리 - 추론 -> 후처리** 로 이어지는 일련의 과정을 자동화하여 손쉽게 모델을 사용할 수 있게 해준다.\n",
    "- Task에 따라 다양한 Pipeline 클래스를 제공하며 `pipeline` 함수를 이용해 쉽게 생성할 수 있다.\n",
    "- **task만 지정**해서 기본 제공 모델과 토크나이저를 사용하거나 **직접 모델과 토크나이저를 지정**해 생성할 수 있다.\n",
    "- https://huggingface.co/docs/transformers/pipeline_tutorial\n",
    "\n",
    "![huggingface_pipeline.png](figures/huggingface_pipeline.png)\n",
    "\n",
    "## 지원하는 주요 태스크\n",
    "- https://huggingface.co/docs/transformers/main_classes/pipelines#transformers.pipeline.task\n",
    "### 자연어 처리 태스크\n",
    "- **text-classification**: 텍스트 분류\n",
    "- **text-generation**: 텍스트 생성\n",
    "- **translation**: 번역\n",
    "- **summarization**: 요약\n",
    "- **question-answering**: 질의응답\n",
    "- **fill-mask**: 마스크 토큰 채우기\n",
    "- **token-classification**: 개체명 인식, Pos tagging 같이 개별 토큰에 대한 분류\n",
    "- **feature-extraction**: 특징 추출(context vector)\n",
    "\n",
    "### 영상 처리 태스크\n",
    "- **image-classification**: 이미지 분류\n",
    "- **object-detection**\n",
    "  -  객체 검출 (Object Detection)\n",
    "  -  이미지 안에서 객체들의 위치와 class를 찾아내는 작업\n",
    "- **image-segmentation**\n",
    "  -  이미지 세분화 (Image Segmentation)\n",
    "  -  이미지를 픽셀 단위로 분할하여 각 픽셀이 어떤 객체에 속하는지 분류하는 작업"
   ]
  },
  {
   "cell_type": "markdown",
   "id": "1cca91e0",
   "metadata": {},
   "source": [
    "## 모델 검색\n",
    "![huggingface_model_search.png](figures/huggingface_model_search.png)\n",
    "\n"
   ]
  },
  {
   "cell_type": "markdown",
   "id": "9387713c",
   "metadata": {},
   "source": [
    "## pipeline 함수\n",
    "- 주요파라미터\n",
    "  - **task:** 수행하려는 작업의 유형을 문자열로 지정한다.\n",
    "  - **model:**\n",
    "    - 사용할 사전 학습된 모델의 이름 또는 경로를 지정한다. \n",
    "    - 모델이름(ID)은 `[모델소유자이름]/[모델이름]` 형식이다. Hugging Face에서 제공하는 모델의 경우는 `모델소유자이름`이 생략되어 있다. (ex: \"google/gemma-2-2b\", \"gpt2\")\n",
    "    - 모델을 명시적으로 지정하지 않으면, **task에 맞는 기본 모델이 로드**된다.\n",
    "  - **tokenizer:** 자연어 task에서 사용할 토크나이저를 지정한다. 생략하면 모델과 같이 제공되는(model과 이름이 같은 토크나이저) 토크나이저를 사용한다.\n",
    "  - **framework:** 사용할 딥러닝 프레임워크를 지정한다. 'pt'는 PyTorch(Default), 'tf'는 TensorFlow를 지정한다.\n",
    "  - **device:** Pipeline 모델을 실행할 디바이스를 지정한다. 문자열로 `\"cpu\", \"cuda:1\", \"mps\"`, 또는 GPU 번호를 정수로 지정한다. \n",
    "  - **revision:** 모델의 특정 버전을 지정할 때 사용한다.\n",
    "  - **trust_remote_code:** hub 모델을 직접 다운 받는 것이 아니라 모델을 다운 받는 **코드**를 다운 받아 local에서 실행하는 경우 코드를 실행할 수있게 할 지 여부. (bool)\n",
    "  - **use_fast:** \n",
    "    - 빠른 토크나이저를 사용할지 여부를 지정합니다. 기본값은 True입니다.\n",
    "    - 빠른 토크나이저는 `Rust` 언어로 구현되어 속도가 빠르다. 단 모든 모델에 대해 지원하지 않는다. 지원하지 않을 경우 `use_fast=True`로 설정해도 일반 토크나이저가 사용된다."
   ]
  },
  {
   "cell_type": "markdown",
   "id": "b5ba95b6-785c-42e0-a86f-2d5bac732e33",
   "metadata": {},
   "source": [
    "## Task 별 pipeline 실습\n",
    "\n",
    "### 텍스트 분류"
   ]
  },
  {
   "cell_type": "code",
   "execution_count": 1,
   "id": "c990b8c8-2f00-4c4d-84e8-22150883b111",
   "metadata": {},
   "outputs": [],
   "source": [
    "from transformers import pipeline"
   ]
  },
  {
   "cell_type": "code",
   "execution_count": 2,
   "id": "5e32fe7a",
   "metadata": {},
   "outputs": [
    {
     "name": "stderr",
     "output_type": "stream",
     "text": [
      "No model was supplied, defaulted to distilbert/distilbert-base-uncased-finetuned-sst-2-english and revision 714eb0f (https://huggingface.co/distilbert/distilbert-base-uncased-finetuned-sst-2-english).\n",
      "Using a pipeline without specifying a model name and revision in production is not recommended.\n",
      "c:\\Anaconda3\\envs\\dl\\Lib\\site-packages\\huggingface_hub\\file_download.py:143: UserWarning: `huggingface_hub` cache-system uses symlinks by default to efficiently store duplicated files but your machine does not support them in C:\\Users\\안수민\\.cache\\huggingface\\hub\\models--distilbert--distilbert-base-uncased-finetuned-sst-2-english. Caching files will still work but in a degraded version that might require more space on your disk. This warning can be disabled by setting the `HF_HUB_DISABLE_SYMLINKS_WARNING` environment variable. For more details, see https://huggingface.co/docs/huggingface_hub/how-to-cache#limitations.\n",
      "To support symlinks on Windows, you either need to activate Developer Mode or to run Python as an administrator. In order to activate developer mode, see this article: https://docs.microsoft.com/en-us/windows/apps/get-started/enable-your-device-for-development\n",
      "  warnings.warn(message)\n",
      "Xet Storage is enabled for this repo, but the 'hf_xet' package is not installed. Falling back to regular HTTP download. For better performance, install the package with: `pip install huggingface_hub[hf_xet]` or `pip install hf_xet`\n",
      "Device set to use cpu\n"
     ]
    }
   ],
   "source": [
    "# 모델과 토크나이저를 로딩해서 Pipeline을 생성\n",
    "# 모델, 토크나이저를 생략 -> task에 맞는 모델과 토크나이저를 사용한다.\n",
    "pipe = pipeline(task=\"text-classification\", framework=\"pt\")\n"
   ]
  },
  {
   "cell_type": "code",
   "execution_count": 3,
   "id": "f0d53339",
   "metadata": {},
   "outputs": [],
   "source": [
    "result = pipe(\"I am very happy.\")"
   ]
  },
  {
   "cell_type": "code",
   "execution_count": 4,
   "id": "4e2b73f9",
   "metadata": {},
   "outputs": [
    {
     "data": {
      "text/plain": [
       "[{'label': 'POSITIVE', 'score': 0.9998763799667358}]"
      ]
     },
     "execution_count": 4,
     "metadata": {},
     "output_type": "execute_result"
    }
   ],
   "source": [
    "result"
   ]
  },
  {
   "cell_type": "code",
   "execution_count": 5,
   "id": "0450512a",
   "metadata": {},
   "outputs": [],
   "source": [
    "result = pipe(\"I am very unhappy.\")"
   ]
  },
  {
   "cell_type": "code",
   "execution_count": 6,
   "id": "8a68efdb-1b16-4407-ae51-259f58e6c2d6",
   "metadata": {},
   "outputs": [
    {
     "data": {
      "text/plain": [
       "[{'label': 'NEGATIVE', 'score': 0.9997710585594177}]"
      ]
     },
     "execution_count": 6,
     "metadata": {},
     "output_type": "execute_result"
    }
   ],
   "source": [
    "result"
   ]
  },
  {
   "cell_type": "markdown",
   "id": "bbf7bd58",
   "metadata": {},
   "source": [
    "raw -> || 토큰화 -> 추론 -> 후처리 -> || 최종 예측 결과   \n",
    "|| 안에 있는 과정을 **파이프라인이 자동으로 해준다.**"
   ]
  },
  {
   "cell_type": "code",
   "execution_count": 7,
   "id": "fb370b80-23b6-4d80-bf97-e3d873bfb989",
   "metadata": {
    "tags": []
   },
   "outputs": [],
   "source": [
    "data = [ \n",
    "    \"The project was completed successfully.\", \n",
    "    \"She always brings positive energy to the team.\", \n",
    "    \"I am confident that we will achieve our goals.\",\n",
    "    \"The results were not as expected.\", \n",
    "    \"He struggled to meet the deadline.\", \n",
    "    \"The client was dissatisfied with the final product.\" \n",
    "]\n",
    "result_list = pipe(data)"
   ]
  },
  {
   "cell_type": "code",
   "execution_count": 8,
   "id": "89a14b2d",
   "metadata": {},
   "outputs": [
    {
     "data": {
      "text/plain": [
       "[{'label': 'POSITIVE', 'score': 0.9998227953910828},\n",
       " {'label': 'POSITIVE', 'score': 0.9998812675476074},\n",
       " {'label': 'POSITIVE', 'score': 0.9998470544815063},\n",
       " {'label': 'NEGATIVE', 'score': 0.9978100657463074},\n",
       " {'label': 'NEGATIVE', 'score': 0.99960857629776},\n",
       " {'label': 'NEGATIVE', 'score': 0.9996129870414734}]"
      ]
     },
     "execution_count": 8,
     "metadata": {},
     "output_type": "execute_result"
    }
   ],
   "source": [
    "result_list"
   ]
  },
  {
   "cell_type": "code",
   "execution_count": null,
   "id": "97d377fa-cc5a-429d-9933-fcb65997d12c",
   "metadata": {},
   "outputs": [
    {
     "name": "stderr",
     "output_type": "stream",
     "text": [
      "c:\\Anaconda3\\envs\\dl\\Lib\\site-packages\\huggingface_hub\\file_download.py:143: UserWarning: `huggingface_hub` cache-system uses symlinks by default to efficiently store duplicated files but your machine does not support them in C:\\Users\\안수민\\.cache\\huggingface\\hub\\models--distilbert-base-uncased-finetuned-sst-2-english. Caching files will still work but in a degraded version that might require more space on your disk. This warning can be disabled by setting the `HF_HUB_DISABLE_SYMLINKS_WARNING` environment variable. For more details, see https://huggingface.co/docs/huggingface_hub/how-to-cache#limitations.\n",
      "To support symlinks on Windows, you either need to activate Developer Mode or to run Python as an administrator. In order to activate developer mode, see this article: https://docs.microsoft.com/en-us/windows/apps/get-started/enable-your-device-for-development\n",
      "  warnings.warn(message)\n",
      "Xet Storage is enabled for this repo, but the 'hf_xet' package is not installed. Falling back to regular HTTP download. For better performance, install the package with: `pip install huggingface_hub[hf_xet]` or `pip install hf_xet`\n",
      "Device set to use cpu\n"
     ]
    }
   ],
   "source": [
    "# 특정 모델을 지정해서 사용.\n",
    "model=\"distilbert-base-uncased-finetuned-sst-2-english\" \n",
    "# hugging face에 등록된 모델 id\n",
    "# 모델 ID 형식: 모델소유자ID/모델ID, 모델소유자ID가 생략된 경우: huggingface에서 만든 자체 모델.\n",
    "pipe = pipeline(task='text-classification', \n",
    "                model=model, # 사용할 모델 지정. hf의 모델 id, 로컬에 저장된 모델저장파일경로.\n",
    "                tokenizer=model # 사용할 토크나이저를 지정. hf의 토크나이저 id, 로컬에 저장된 토크나이저 파일 경로\n",
    "                                # 토크나이저의 ID가 모델 ID와 같을 경우 생략.\n",
    "                )"
   ]
  },
  {
   "cell_type": "code",
   "execution_count": 11,
   "id": "3dacb578",
   "metadata": {},
   "outputs": [
    {
     "data": {
      "text/plain": [
       "[{'label': 'POSITIVE', 'score': 0.9998227953910828},\n",
       " {'label': 'POSITIVE', 'score': 0.9998812675476074},\n",
       " {'label': 'POSITIVE', 'score': 0.9998470544815063},\n",
       " {'label': 'NEGATIVE', 'score': 0.9978100657463074},\n",
       " {'label': 'NEGATIVE', 'score': 0.99960857629776},\n",
       " {'label': 'NEGATIVE', 'score': 0.9996129870414734}]"
      ]
     },
     "execution_count": 11,
     "metadata": {},
     "output_type": "execute_result"
    }
   ],
   "source": [
    "pipe(data)"
   ]
  },
  {
   "cell_type": "code",
   "execution_count": 12,
   "id": "5bb9fdee-2a87-48aa-8568-7cb81a75810c",
   "metadata": {},
   "outputs": [],
   "source": [
    "kor_texts = [\n",
    "    \"이 영화 정말 재미있어요!\",\n",
    "    \"서비스가 별로였어요.\",\n",
    "    \"제품 품질이 우수합니다.\",\n",
    "    \"따듯하고 부드럽고 제품은 너무 좋습니다. 그런데 배송이 너무 늦네요.\"  # 애매한 것 0.56 정도 나오네.\n",
    "]"
   ]
  },
  {
   "cell_type": "code",
   "execution_count": 13,
   "id": "546c550e",
   "metadata": {},
   "outputs": [
    {
     "data": {
      "text/plain": [
       "[{'label': 'POSITIVE', 'score': 0.9855567812919617},\n",
       " {'label': 'POSITIVE', 'score': 0.74257892370224},\n",
       " {'label': 'POSITIVE', 'score': 0.6555734872817993},\n",
       " {'label': 'NEGATIVE', 'score': 0.5247904658317566}]"
      ]
     },
     "execution_count": 13,
     "metadata": {},
     "output_type": "execute_result"
    }
   ],
   "source": [
    "pipe(kor_texts)"
   ]
  },
  {
   "cell_type": "code",
   "execution_count": 14,
   "id": "cc568631-140c-4d2b-a230-22156cc72e5e",
   "metadata": {},
   "outputs": [
    {
     "name": "stderr",
     "output_type": "stream",
     "text": [
      "c:\\Anaconda3\\envs\\dl\\Lib\\site-packages\\huggingface_hub\\file_download.py:143: UserWarning: `huggingface_hub` cache-system uses symlinks by default to efficiently store duplicated files but your machine does not support them in C:\\Users\\안수민\\.cache\\huggingface\\hub\\models--Copycats--koelectra-base-v3-generalized-sentiment-analysis. Caching files will still work but in a degraded version that might require more space on your disk. This warning can be disabled by setting the `HF_HUB_DISABLE_SYMLINKS_WARNING` environment variable. For more details, see https://huggingface.co/docs/huggingface_hub/how-to-cache#limitations.\n",
      "To support symlinks on Windows, you either need to activate Developer Mode or to run Python as an administrator. In order to activate developer mode, see this article: https://docs.microsoft.com/en-us/windows/apps/get-started/enable-your-device-for-development\n",
      "  warnings.warn(message)\n",
      "Device set to use cpu\n"
     ]
    }
   ],
   "source": [
    "model = 'Copycats/koelectra-base-v3-generalized-sentiment-analysis' \n",
    "pipe = pipeline(task=\"text-classification\", model=model)\n",
    "result_list=pipe(kor_texts)"
   ]
  },
  {
   "cell_type": "code",
   "execution_count": 15,
   "id": "ae90eb4c",
   "metadata": {},
   "outputs": [
    {
     "data": {
      "text/plain": [
       "[{'label': '1', 'score': 0.9897311329841614},\n",
       " {'label': '0', 'score': 0.9969298243522644},\n",
       " {'label': '1', 'score': 0.9640170335769653},\n",
       " {'label': '0', 'score': 0.5669130682945251}]"
      ]
     },
     "execution_count": 15,
     "metadata": {},
     "output_type": "execute_result"
    }
   ],
   "source": [
    "result_list\n",
    "# 1: 긍정, 0: 부정정"
   ]
  },
  {
   "cell_type": "code",
   "execution_count": 16,
   "id": "0e927245",
   "metadata": {},
   "outputs": [
    {
     "name": "stderr",
     "output_type": "stream",
     "text": [
      "c:\\Anaconda3\\envs\\dl\\Lib\\site-packages\\huggingface_hub\\file_download.py:143: UserWarning: `huggingface_hub` cache-system uses symlinks by default to efficiently store duplicated files but your machine does not support them in C:\\Users\\안수민\\.cache\\huggingface\\hub\\models--tabularisai--multilingual-sentiment-analysis. Caching files will still work but in a degraded version that might require more space on your disk. This warning can be disabled by setting the `HF_HUB_DISABLE_SYMLINKS_WARNING` environment variable. For more details, see https://huggingface.co/docs/huggingface_hub/how-to-cache#limitations.\n",
      "To support symlinks on Windows, you either need to activate Developer Mode or to run Python as an administrator. In order to activate developer mode, see this article: https://docs.microsoft.com/en-us/windows/apps/get-started/enable-your-device-for-development\n",
      "  warnings.warn(message)\n",
      "Device set to use cpu\n"
     ]
    }
   ],
   "source": [
    "# Use a pipeline as a high-level helper\n",
    "from transformers import pipeline\n",
    "\n",
    "pipe = pipeline(\"text-classification\", model=\"tabularisai/multilingual-sentiment-analysis\")"
   ]
  },
  {
   "cell_type": "code",
   "execution_count": 17,
   "id": "4273d439",
   "metadata": {},
   "outputs": [
    {
     "data": {
      "text/plain": [
       "[{'label': 'Very Positive', 'score': 0.49326080083847046}]"
      ]
     },
     "execution_count": 17,
     "metadata": {},
     "output_type": "execute_result"
    }
   ],
   "source": [
    "pipe(\"오늘은 날씨가 좋아요 햇살이 눈부셔요\")"
   ]
  },
  {
   "cell_type": "code",
   "execution_count": null,
   "id": "7933643e",
   "metadata": {},
   "outputs": [],
   "source": []
  },
  {
   "cell_type": "markdown",
   "id": "c5b46756-4b5e-4bdc-be44-2d240e6dce03",
   "metadata": {
    "tags": []
   },
   "source": [
    "### 제로샷 분류\n",
    "- 제로샷(Zero-shot)은 각 개별 작업에 대한 특정 교육 없이 작업을 수행할 수 있는 task다.\n",
    "- 입력 텍스트와 함께 클래스 레이블을 제공하면 분류 작업을 한다.\n",
    "- 모델은  `task`에서 `Zero-Shot` 으로 시작하는 task를 선택하여 검색한다."
   ]
  },
  {
   "cell_type": "code",
   "execution_count": 18,
   "id": "5d07e8bd-53f1-4410-b52e-1e299ed7bcef",
   "metadata": {},
   "outputs": [],
   "source": [
    "model = \"facebook/bart-large-mnli\"\n",
    "\n",
    "text = [\"Python is a programming language.\", \n",
    "        \"I love soccer\", \n",
    "        \"The stock price rose slightly today.\"]\n",
    "\n",
    "labels = [\"IT\", \"Sports\"]"
   ]
  },
  {
   "cell_type": "code",
   "execution_count": 20,
   "id": "8bf504f7-ede8-491c-91bf-858370d6b486",
   "metadata": {},
   "outputs": [
    {
     "name": "stderr",
     "output_type": "stream",
     "text": [
      "Xet Storage is enabled for this repo, but the 'hf_xet' package is not installed. Falling back to regular HTTP download. For better performance, install the package with: `pip install huggingface_hub[hf_xet]` or `pip install hf_xet`\n",
      "Device set to use cpu\n"
     ]
    }
   ],
   "source": [
    "pipe = pipeline(task=\"zero-shot-classification\", model=model)"
   ]
  },
  {
   "cell_type": "code",
   "execution_count": 21,
   "id": "f51ab30e-c8dc-48d0-8ec9-0a47c98d08ee",
   "metadata": {},
   "outputs": [],
   "source": [
    "result = pipe(text, candidate_labels=labels)"
   ]
  },
  {
   "cell_type": "markdown",
   "id": "ffb317be-2e6e-4189-98df-3f9ebf981f91",
   "metadata": {},
   "source": [
    "### 텍스트 생성"
   ]
  },
  {
   "cell_type": "code",
   "execution_count": 24,
   "id": "7ec2fa7f",
   "metadata": {},
   "outputs": [
    {
     "name": "stderr",
     "output_type": "stream",
     "text": [
      "No model was supplied, defaulted to openai-community/gpt2 and revision 607a30d (https://huggingface.co/openai-community/gpt2).\n",
      "Using a pipeline without specifying a model name and revision in production is not recommended.\n",
      "c:\\Anaconda3\\envs\\dl\\Lib\\site-packages\\huggingface_hub\\file_download.py:143: UserWarning: `huggingface_hub` cache-system uses symlinks by default to efficiently store duplicated files but your machine does not support them in C:\\Users\\안수민\\.cache\\huggingface\\hub\\models--openai-community--gpt2. Caching files will still work but in a degraded version that might require more space on your disk. This warning can be disabled by setting the `HF_HUB_DISABLE_SYMLINKS_WARNING` environment variable. For more details, see https://huggingface.co/docs/huggingface_hub/how-to-cache#limitations.\n",
      "To support symlinks on Windows, you either need to activate Developer Mode or to run Python as an administrator. In order to activate developer mode, see this article: https://docs.microsoft.com/en-us/windows/apps/get-started/enable-your-device-for-development\n",
      "  warnings.warn(message)\n",
      "Xet Storage is enabled for this repo, but the 'hf_xet' package is not installed. Falling back to regular HTTP download. For better performance, install the package with: `pip install huggingface_hub[hf_xet]` or `pip install hf_xet`\n",
      "Device set to use cpu\n"
     ]
    }
   ],
   "source": [
    "pipe = pipeline(task=\"text-generation\")"
   ]
  },
  {
   "cell_type": "code",
   "execution_count": 25,
   "id": "126441da-5524-4303-abe4-648cecf2419f",
   "metadata": {},
   "outputs": [],
   "source": [
    "start_text = \"Today weather\""
   ]
  },
  {
   "cell_type": "code",
   "execution_count": 26,
   "id": "ac85e9df",
   "metadata": {},
   "outputs": [
    {
     "name": "stderr",
     "output_type": "stream",
     "text": [
      "Setting `pad_token_id` to `eos_token_id`:50256 for open-end generation.\n"
     ]
    },
    {
     "data": {
      "text/plain": [
       "[{'generated_text': 'Today weather conditions are better than expected.\\n\\n\"The temperatures are really good and I\\'m hoping the wind will be strong enough to cause a strong gust,\" he said.\\n\\nTests indicate the wind gust is about 20 kilometres per hour.\\n\\nWind gusts in Vancouver are only expected to be about 10 kilometres per hour, but that could change as the weather continues to change, said Greg O\\'Brien, an adjunct professor at McMaster University.\\n\\nMost of the rainwater is coming from Lake Ontario, which is just north of Vancouver, O\\'Brien said.\\n\\n\"The water in Lake Ontario is going to be mixed with the water coming from the city, and if it\\'s too mixed, it\\'s going to get pumped into the lake,\" he said.\\n\\nThe storm has been on the move for more than a year now.\\n\\nThe Canadian Coast Guard, Maritime and Natural Resources Canada, the National Weather Service, the National Weather Service and the provincial Office of National Oceanic and Atmospheric Administration all said there have been no reports of damage to the coast.\\n\\nTests indicate the wind gust is about 20 kilometres per hour.\\n\\nB.C.\\'s weather service said there was no indication that the storm was headed south.\\n\\n'}]"
      ]
     },
     "execution_count": 26,
     "metadata": {},
     "output_type": "execute_result"
    }
   ],
   "source": [
    "sent = pipe(start_text)\n",
    "sent"
   ]
  },
  {
   "cell_type": "code",
   "execution_count": 27,
   "id": "b6007963",
   "metadata": {},
   "outputs": [
    {
     "name": "stderr",
     "output_type": "stream",
     "text": [
      "Setting `pad_token_id` to `eos_token_id`:50256 for open-end generation.\n",
      "Setting `pad_token_id` to `eos_token_id`:50256 for open-end generation.\n",
      "Setting `pad_token_id` to `eos_token_id`:50256 for open-end generation.\n"
     ]
    },
    {
     "data": {
      "text/plain": [
       "[[{'generated_text': \"I am not sure that I will be able to handle this. I am doing the best I can to support and be able to support my daughter and my wife. I have a daughter who has to do with her father. I can't go through what I have already endured. I do not know how to cope with that. I do not want to have to deal with that. I am trying to come to terms with that just as hard as I can. I want to be able to go to school and I want to go to college. But because I am very young and I am struggling with these things, I have not been able to do it in my life. I have struggled with this for years and years. I have struggled with anxiety and depression. I have struggled with depression and anxiety and I have struggled with anxiety and depression and anxiety and depression. I have struggled with all of these things and I have struggled with depression and anxiety and anxiety and I have struggled with anxiety and depression. I have struggled with depression and anxiety and anxiety. I have struggled with depression and anxiety and anxiety and anxiety and depression and anxiety and depression and anxiety and anxiety. I have struggled with all of these things and I have struggled with depression and anxiety and anxiety and anxiety and anxiety and anxiety and\"}],\n",
       " [{'generated_text': 'Python is a well known platform for Java developers. Since Java 7, this software has been used in many languages including Java 7 and Java 8.\\n\\nJava 8\\n\\nThis project was originally launched on the Java Platform. It was released as a free Java 8 project in 2010, and was a major contender for Java 8. It was also released with a major Java 8 feature set. It was released as the Java Virtual Machine (JVM) in 2011, which used the JDK as its backend.\\n\\nThis project was first released as a free Java 8 project in 2010, and was a major contender for Java 8. It was also released with a major Java 8 feature set. It was released with a major Java 8 feature set. It was released with a major Java 8 feature set in 2013.\\n\\nJava 8 was a major contender for Java 8. It was released as a free Java 8 project in 2013, and was a major contender for Java 8. It was released with a major Java 8 feature set in 2014.\\n\\nJava 8 was released as an open-source project in 2014, and was developed with a significant amount of contributions by the Java community, including:\\n\\nA large number of independent developers working on other projects.\\n\\nThe Java Virtual'}],\n",
       " [{'generated_text': 'LLM is a program designed to monitor the status of your system. It can display the status of your system with a single click and then save it to the clipboard. If you don\\'t want to view the status of your system, you can run this program from the command line by clicking the tab at the top right of the screen.\\n\\nNote: When using this program, the program will not display the status of your system.\\n\\nStep 2: Launch the Program\\n\\nTo launch the program, you need to click the menu button in the upper right corner of the screen.\\n\\nClick on the program icon, then click the button labeled \"Start.\"\\n\\nIn the program menu, type the following command:\\n\\n$./start\\n\\nThe program will start in your browser, and will show up in your clipboard as a \"Command Line\" window.\\n\\nStep 3: Read and Run the Program\\n\\nThere is a very simple and easy way to launch the program.\\n\\nFirst, you need to open your computer\\'s default terminal, type the following command:\\n\\n$ sudo nano /etc/terminal.d\\n\\nThen type the following command in the terminal window:\\n\\n$ echo \"Enter password:\\n\\n\" > Terminal.'}]]"
      ]
     },
     "execution_count": 27,
     "metadata": {},
     "output_type": "execute_result"
    }
   ],
   "source": [
    "pipe([\"I am\", \"Python is\", \"LLM is\"])"
   ]
  },
  {
   "cell_type": "code",
   "execution_count": 29,
   "id": "f1a58eba",
   "metadata": {},
   "outputs": [
    {
     "name": "stderr",
     "output_type": "stream",
     "text": [
      "Setting `pad_token_id` to `eos_token_id`:50256 for open-end generation.\n"
     ]
    },
    {
     "data": {
      "text/plain": [
       "[{'generated_text': '난 어제 나나 서지서 나야로스오이 있사람 안는도 이으를 첡요 아를기지 반미를 가들고 발국이 부들서 있사람 그바가 이성하는 아를기 예부 가 예부 가자이 이성하는 가들고 있사람 그바가 이성하는 가들고 있사람 그바가 이'}]"
      ]
     },
     "execution_count": 29,
     "metadata": {},
     "output_type": "execute_result"
    }
   ],
   "source": [
    "pipe(\"난 어제\") # 한글 학습 안 해서 이상하게 나옴"
   ]
  },
  {
   "cell_type": "code",
   "execution_count": 31,
   "id": "46e31c62-1e89-49ef-b25c-c0957bd0b66e",
   "metadata": {},
   "outputs": [
    {
     "name": "stderr",
     "output_type": "stream",
     "text": [
      "c:\\Anaconda3\\envs\\dl\\Lib\\site-packages\\huggingface_hub\\file_download.py:143: UserWarning: `huggingface_hub` cache-system uses symlinks by default to efficiently store duplicated files but your machine does not support them in C:\\Users\\안수민\\.cache\\huggingface\\hub\\models--Qwen--Qwen3-0.6B. Caching files will still work but in a degraded version that might require more space on your disk. This warning can be disabled by setting the `HF_HUB_DISABLE_SYMLINKS_WARNING` environment variable. For more details, see https://huggingface.co/docs/huggingface_hub/how-to-cache#limitations.\n",
      "To support symlinks on Windows, you either need to activate Developer Mode or to run Python as an administrator. In order to activate developer mode, see this article: https://docs.microsoft.com/en-us/windows/apps/get-started/enable-your-device-for-development\n",
      "  warnings.warn(message)\n",
      "Xet Storage is enabled for this repo, but the 'hf_xet' package is not installed. Falling back to regular HTTP download. For better performance, install the package with: `pip install huggingface_hub[hf_xet]` or `pip install hf_xet`\n",
      "Xet Storage is enabled for this repo, but the 'hf_xet' package is not installed. Falling back to regular HTTP download. For better performance, install the package with: `pip install huggingface_hub[hf_xet]` or `pip install hf_xet`\n",
      "Device set to use cpu\n"
     ]
    }
   ],
   "source": [
    "model_id = 'Qwen/Qwen3-0.6B'\n",
    "pipe = pipeline(task=\"text-generation\", model=model_id)"
   ]
  },
  {
   "cell_type": "code",
   "execution_count": null,
   "id": "1fc8ddaa",
   "metadata": {},
   "outputs": [],
   "source": [
    "pipe(\"나는 어제제\")"
   ]
  },
  {
   "cell_type": "code",
   "execution_count": 32,
   "id": "333d3dbe",
   "metadata": {},
   "outputs": [],
   "source": [
    "msg = [\n",
    "    {\"role\": \"user\", \"content\": \"LLM에 대해서 설명해줘.\"}\n",
    "]\n",
    "result = pipe(msg)"
   ]
  },
  {
   "cell_type": "code",
   "execution_count": 33,
   "id": "7b079901",
   "metadata": {},
   "outputs": [
    {
     "data": {
      "text/plain": [
       "[{'generated_text': [{'role': 'user', 'content': 'LLM에 대해서 설명해줘.'},\n",
       "   {'role': 'assistant',\n",
       "    'content': \"<think>\\nOkay, the user wants an explanation of LLMs. Let me start by recalling what I know about Large Language Models. They are big language models, right? So I need to define them briefly. Maybe mention that they are trained on huge amounts of text data. Then, explain their capabilities—like understanding and generating text, answering questions, etc. It's important to highlight their role in various applications. I should also mention that they are not human but have some human-like characteristics. Oh, and maybe touch on the training process. They use massive datasets, training algorithms, and optimization techniques. Make sure the explanation is clear and covers key points without getting too technical. Let me check if there's any other aspect I should include, like limitations or future possibilities. Keep the language simple and conversational. Alright, that should cover the basics.\\n</think>\\n\\nLLM은 **대형 언어 모델**을 의미합니다. 이 모델은 매우 큰 텍스트 데이터를 학습하고, 이를 기반으로 다양한 문장을 생성하거나 질문을 답변해 드릴 수 있는 기술을 가지고 있습니다.  \\n\\n### 주요 점:\\n1. **구조**:  \\n   - LLM은 인간보다 **크기 크기**\"}]}]"
      ]
     },
     "execution_count": 33,
     "metadata": {},
     "output_type": "execute_result"
    }
   ],
   "source": [
    "result"
   ]
  },
  {
   "cell_type": "code",
   "execution_count": 36,
   "id": "d1b0fefe",
   "metadata": {},
   "outputs": [
    {
     "data": {
      "text/plain": [
       "{'role': 'user', 'content': 'LLM에 대해서 설명해줘.'}"
      ]
     },
     "execution_count": 36,
     "metadata": {},
     "output_type": "execute_result"
    }
   ],
   "source": [
    "result[0][\"generated_text\"][0] # user 입력(query)"
   ]
  },
  {
   "cell_type": "code",
   "execution_count": 37,
   "id": "865c9828",
   "metadata": {},
   "outputs": [
    {
     "data": {
      "text/plain": [
       "{'role': 'assistant',\n",
       " 'content': \"<think>\\nOkay, the user wants an explanation of LLMs. Let me start by recalling what I know about Large Language Models. They are big language models, right? So I need to define them briefly. Maybe mention that they are trained on huge amounts of text data. Then, explain their capabilities—like understanding and generating text, answering questions, etc. It's important to highlight their role in various applications. I should also mention that they are not human but have some human-like characteristics. Oh, and maybe touch on the training process. They use massive datasets, training algorithms, and optimization techniques. Make sure the explanation is clear and covers key points without getting too technical. Let me check if there's any other aspect I should include, like limitations or future possibilities. Keep the language simple and conversational. Alright, that should cover the basics.\\n</think>\\n\\nLLM은 **대형 언어 모델**을 의미합니다. 이 모델은 매우 큰 텍스트 데이터를 학습하고, 이를 기반으로 다양한 문장을 생성하거나 질문을 답변해 드릴 수 있는 기술을 가지고 있습니다.  \\n\\n### 주요 점:\\n1. **구조**:  \\n   - LLM은 인간보다 **크기 크기**\"}"
      ]
     },
     "execution_count": 37,
     "metadata": {},
     "output_type": "execute_result"
    }
   ],
   "source": [
    "result[0][\"generated_text\"][1] # AI 답변"
   ]
  },
  {
   "cell_type": "markdown",
   "id": "0f0ea454-a9ed-45dc-94eb-99766a349b5c",
   "metadata": {},
   "source": [
    "### 마스크 채우기"
   ]
  },
  {
   "cell_type": "markdown",
   "id": "f7b85d2a",
   "metadata": {},
   "source": [
    "중간에 들어올 단어를 예측한다!   \n",
    "- 다음 단어 생성 - GPT\n",
    "- 중간 단어 채우기 - bert 모델"
   ]
  },
  {
   "cell_type": "code",
   "execution_count": 38,
   "id": "17d7118a-ab88-47ba-b54e-ae751f35741b",
   "metadata": {
    "tags": []
   },
   "outputs": [],
   "source": [
    "text = \"I'm going to <mask> because <mask> am hurt.\"\n",
    "model=\"distilroberta-base\""
   ]
  },
  {
   "cell_type": "code",
   "execution_count": 39,
   "id": "aee51d64",
   "metadata": {},
   "outputs": [
    {
     "name": "stderr",
     "output_type": "stream",
     "text": [
      "c:\\Anaconda3\\envs\\dl\\Lib\\site-packages\\huggingface_hub\\file_download.py:143: UserWarning: `huggingface_hub` cache-system uses symlinks by default to efficiently store duplicated files but your machine does not support them in C:\\Users\\안수민\\.cache\\huggingface\\hub\\models--distilroberta-base. Caching files will still work but in a degraded version that might require more space on your disk. This warning can be disabled by setting the `HF_HUB_DISABLE_SYMLINKS_WARNING` environment variable. For more details, see https://huggingface.co/docs/huggingface_hub/how-to-cache#limitations.\n",
      "To support symlinks on Windows, you either need to activate Developer Mode or to run Python as an administrator. In order to activate developer mode, see this article: https://docs.microsoft.com/en-us/windows/apps/get-started/enable-your-device-for-development\n",
      "  warnings.warn(message)\n",
      "Xet Storage is enabled for this repo, but the 'hf_xet' package is not installed. Falling back to regular HTTP download. For better performance, install the package with: `pip install huggingface_hub[hf_xet]` or `pip install hf_xet`\n",
      "Some weights of the model checkpoint at distilroberta-base were not used when initializing RobertaForMaskedLM: ['roberta.pooler.dense.bias', 'roberta.pooler.dense.weight']\n",
      "- This IS expected if you are initializing RobertaForMaskedLM from the checkpoint of a model trained on another task or with another architecture (e.g. initializing a BertForSequenceClassification model from a BertForPreTraining model).\n",
      "- This IS NOT expected if you are initializing RobertaForMaskedLM from the checkpoint of a model that you expect to be exactly identical (initializing a BertForSequenceClassification model from a BertForSequenceClassification model).\n",
      "Device set to use cpu\n"
     ]
    }
   ],
   "source": [
    "pipe = pipeline(task=\"fill-mask\", model=model)\n",
    "result = pipe(text, top_k=2) # <mask>에 들어갈 확률이 가장 높은 단어 2개(top_k=2)를 찾는다."
   ]
  },
  {
   "cell_type": "code",
   "execution_count": 40,
   "id": "6961be17",
   "metadata": {},
   "outputs": [
    {
     "data": {
      "text/plain": [
       "[[{'score': 0.265201210975647,\n",
       "   'token': 8930,\n",
       "   'token_str': ' cry',\n",
       "   'sequence': \"<s>I'm going to cry because<mask> am hurt.</s>\"},\n",
       "  {'score': 0.060890499502420425,\n",
       "   'token': 3581,\n",
       "   'token_str': ' sleep',\n",
       "   'sequence': \"<s>I'm going to sleep because<mask> am hurt.</s>\"}],\n",
       " [{'score': 0.9930042624473572,\n",
       "   'token': 38,\n",
       "   'token_str': ' I',\n",
       "   'sequence': \"<s>I'm going to<mask> because I am hurt.</s>\"},\n",
       "  {'score': 0.00633621821179986,\n",
       "   'token': 939,\n",
       "   'token_str': ' i',\n",
       "   'sequence': \"<s>I'm going to<mask> because i am hurt.</s>\"}]]"
      ]
     },
     "execution_count": 40,
     "metadata": {},
     "output_type": "execute_result"
    }
   ],
   "source": [
    "result"
   ]
  },
  {
   "cell_type": "code",
   "execution_count": 45,
   "id": "b79d04ce-c7b9-45bd-b5bd-e0b2c73f1bea",
   "metadata": {},
   "outputs": [],
   "source": [
    "text = \"오늘 밤은 전국이 흐린 가운데 대부분 지역에 [MASK]가 내리겠고, 기온이 내려가면서 점차 [MASK]이 오는 곳이 많겠습니다\"\n",
    "model='beomi/kcbert-base'"
   ]
  },
  {
   "cell_type": "code",
   "execution_count": 46,
   "id": "5b138803",
   "metadata": {},
   "outputs": [
    {
     "name": "stderr",
     "output_type": "stream",
     "text": [
      "Some weights of the model checkpoint at beomi/kcbert-base were not used when initializing BertForMaskedLM: ['bert.pooler.dense.bias', 'bert.pooler.dense.weight', 'cls.seq_relationship.bias', 'cls.seq_relationship.weight']\n",
      "- This IS expected if you are initializing BertForMaskedLM from the checkpoint of a model trained on another task or with another architecture (e.g. initializing a BertForSequenceClassification model from a BertForPreTraining model).\n",
      "- This IS NOT expected if you are initializing BertForMaskedLM from the checkpoint of a model that you expect to be exactly identical (initializing a BertForSequenceClassification model from a BertForSequenceClassification model).\n",
      "Device set to use cpu\n"
     ]
    }
   ],
   "source": [
    "pipe = pipeline(task=\"fill-mask\", model=model)\n",
    "result = pipe(text, top_k=2) # roberta model은 란글을 학습하지 않은 모델델"
   ]
  },
  {
   "cell_type": "code",
   "execution_count": 47,
   "id": "18953d84",
   "metadata": {},
   "outputs": [
    {
     "data": {
      "text/plain": [
       "[[{'score': 0.634040355682373,\n",
       "   'token': 4072,\n",
       "   'token_str': '##서',\n",
       "   'sequence': '[CLS] 오늘 밤은 전국이 흐린 가운데 대부분 지역에서 가 내리겠고, 기온이 내려가면서 점차 [MASK] 이 오는 곳이 많겠습니다 [SEP]'},\n",
       "  {'score': 0.11311633884906769,\n",
       "   'token': 28206,\n",
       "   'token_str': '비가',\n",
       "   'sequence': '[CLS] 오늘 밤은 전국이 흐린 가운데 대부분 지역에 비가 가 내리겠고, 기온이 내려가면서 점차 [MASK] 이 오는 곳이 많겠습니다 [SEP]'}],\n",
       " [{'score': 0.10058367997407913,\n",
       "   'token': 10108,\n",
       "   'token_str': '바람',\n",
       "   'sequence': '[CLS] 오늘 밤은 전국이 흐린 가운데 대부분 지역에 [MASK] 가 내리겠고, 기온이 내려가면서 점차 바람 이 오는 곳이 많겠습니다 [SEP]'},\n",
       "  {'score': 0.0498398020863533,\n",
       "   'token': 10741,\n",
       "   'token_str': '영향',\n",
       "   'sequence': '[CLS] 오늘 밤은 전국이 흐린 가운데 대부분 지역에 [MASK] 가 내리겠고, 기온이 내려가면서 점차 영향 이 오는 곳이 많겠습니다 [SEP]'}]]"
      ]
     },
     "execution_count": 47,
     "metadata": {},
     "output_type": "execute_result"
    }
   ],
   "source": [
    "result"
   ]
  },
  {
   "cell_type": "markdown",
   "id": "35cc4f2c-0757-4f96-9ec5-d7fe38ac0d94",
   "metadata": {},
   "source": [
    "### Token별 분류\n",
    "- task: token-classification \n",
    "  - 개체명인식(ner), 품사부착(pos tagging)을 수행하는 task \n",
    "  - 개체명 인식은 문장에서 특정한 개체명(예: 사람 이름, 지명, 조직명 등)을 식별하는 task이다. "
   ]
  },
  {
   "cell_type": "code",
   "execution_count": 48,
   "id": "c2c9e5a5-c389-4a67-9a56-ef89d45a5765",
   "metadata": {},
   "outputs": [
    {
     "name": "stderr",
     "output_type": "stream",
     "text": [
      "c:\\Anaconda3\\envs\\dl\\Lib\\site-packages\\huggingface_hub\\file_download.py:143: UserWarning: `huggingface_hub` cache-system uses symlinks by default to efficiently store duplicated files but your machine does not support them in C:\\Users\\안수민\\.cache\\huggingface\\hub\\models--dbmdz--bert-large-cased-finetuned-conll03-english. Caching files will still work but in a degraded version that might require more space on your disk. This warning can be disabled by setting the `HF_HUB_DISABLE_SYMLINKS_WARNING` environment variable. For more details, see https://huggingface.co/docs/huggingface_hub/how-to-cache#limitations.\n",
      "To support symlinks on Windows, you either need to activate Developer Mode or to run Python as an administrator. In order to activate developer mode, see this article: https://docs.microsoft.com/en-us/windows/apps/get-started/enable-your-device-for-development\n",
      "  warnings.warn(message)\n",
      "Xet Storage is enabled for this repo, but the 'hf_xet' package is not installed. Falling back to regular HTTP download. For better performance, install the package with: `pip install huggingface_hub[hf_xet]` or `pip install hf_xet`\n",
      "Some weights of the model checkpoint at dbmdz/bert-large-cased-finetuned-conll03-english were not used when initializing BertForTokenClassification: ['bert.pooler.dense.bias', 'bert.pooler.dense.weight']\n",
      "- This IS expected if you are initializing BertForTokenClassification from the checkpoint of a model trained on another task or with another architecture (e.g. initializing a BertForSequenceClassification model from a BertForPreTraining model).\n",
      "- This IS NOT expected if you are initializing BertForTokenClassification from the checkpoint of a model that you expect to be exactly identical (initializing a BertForSequenceClassification model from a BertForSequenceClassification model).\n",
      "Device set to use cpu\n"
     ]
    }
   ],
   "source": [
    "text = \"My name is Sylvain and I work at Hugging Face in Brooklyn.\"\n",
    "model = \"dbmdz/bert-large-cased-finetuned-conll03-english\"\n",
    "\n",
    "pipe = pipeline(task='token-classification', model=model)"
   ]
  },
  {
   "cell_type": "code",
   "execution_count": 50,
   "id": "147f7ac6",
   "metadata": {},
   "outputs": [
    {
     "data": {
      "text/plain": [
       "[{'entity': 'I-PER',\n",
       "  'score': 0.99938285,\n",
       "  'index': 4,\n",
       "  'word': 'S',\n",
       "  'start': 11,\n",
       "  'end': 12},\n",
       " {'entity': 'I-PER',\n",
       "  'score': 0.99815494,\n",
       "  'index': 5,\n",
       "  'word': '##yl',\n",
       "  'start': 12,\n",
       "  'end': 14},\n",
       " {'entity': 'I-PER',\n",
       "  'score': 0.9959072,\n",
       "  'index': 6,\n",
       "  'word': '##va',\n",
       "  'start': 14,\n",
       "  'end': 16},\n",
       " {'entity': 'I-PER',\n",
       "  'score': 0.99923277,\n",
       "  'index': 7,\n",
       "  'word': '##in',\n",
       "  'start': 16,\n",
       "  'end': 18},\n",
       " {'entity': 'I-ORG',\n",
       "  'score': 0.9738931,\n",
       "  'index': 12,\n",
       "  'word': 'Hu',\n",
       "  'start': 33,\n",
       "  'end': 35},\n",
       " {'entity': 'I-ORG',\n",
       "  'score': 0.976115,\n",
       "  'index': 13,\n",
       "  'word': '##gging',\n",
       "  'start': 35,\n",
       "  'end': 40},\n",
       " {'entity': 'I-ORG',\n",
       "  'score': 0.9887976,\n",
       "  'index': 14,\n",
       "  'word': 'Face',\n",
       "  'start': 41,\n",
       "  'end': 45},\n",
       " {'entity': 'I-LOC',\n",
       "  'score': 0.9932106,\n",
       "  'index': 16,\n",
       "  'word': 'Brooklyn',\n",
       "  'start': 49,\n",
       "  'end': 57}]"
      ]
     },
     "execution_count": 50,
     "metadata": {},
     "output_type": "execute_result"
    }
   ],
   "source": [
    "result = pipe(text)\n",
    "result"
   ]
  },
  {
   "cell_type": "markdown",
   "id": "be0029d1-ebad-4d30-8252-0a9eaa37c405",
   "metadata": {},
   "source": [
    "### 질의 응답\n",
    "- 문서와 질문을 주면 문서에서 답을 찾아 응답한다."
   ]
  },
  {
   "cell_type": "code",
   "execution_count": 52,
   "id": "b62a1b36",
   "metadata": {},
   "outputs": [
    {
     "name": "stderr",
     "output_type": "stream",
     "text": [
      "c:\\Anaconda3\\envs\\dl\\Lib\\site-packages\\huggingface_hub\\file_download.py:143: UserWarning: `huggingface_hub` cache-system uses symlinks by default to efficiently store duplicated files but your machine does not support them in C:\\Users\\안수민\\.cache\\huggingface\\hub\\models--distilbert-base-cased-distilled-squad. Caching files will still work but in a degraded version that might require more space on your disk. This warning can be disabled by setting the `HF_HUB_DISABLE_SYMLINKS_WARNING` environment variable. For more details, see https://huggingface.co/docs/huggingface_hub/how-to-cache#limitations.\n",
      "To support symlinks on Windows, you either need to activate Developer Mode or to run Python as an administrator. In order to activate developer mode, see this article: https://docs.microsoft.com/en-us/windows/apps/get-started/enable-your-device-for-development\n",
      "  warnings.warn(message)\n",
      "Xet Storage is enabled for this repo, but the 'hf_xet' package is not installed. Falling back to regular HTTP download. For better performance, install the package with: `pip install huggingface_hub[hf_xet]` or `pip install hf_xet`\n",
      "Device set to use cpu\n"
     ]
    }
   ],
   "source": [
    "model = \"distilbert-base-cased-distilled-squad\"\n",
    "pipe = pipeline(task=\"question-answering\", model=model)"
   ]
  },
  {
   "cell_type": "code",
   "execution_count": 56,
   "id": "ef15591d",
   "metadata": {},
   "outputs": [],
   "source": [
    "question=\"Where do I work?\"\n",
    "question=\"Where is Hugging Face?\"\n",
    "context=\"My name is Sylvain and I work at Hugging Face in Brooklyn\"\n",
    "\n",
    "result = pipe(question=question,  # 질문 \n",
    "              context=context)    # 답을 찾을 문서"
   ]
  },
  {
   "cell_type": "code",
   "execution_count": 57,
   "id": "b74e7347-973c-472b-aa85-15dc8ebf78f9",
   "metadata": {},
   "outputs": [
    {
     "data": {
      "text/plain": [
       "{'score': 0.9893267154693604, 'start': 49, 'end': 57, 'answer': 'Brooklyn'}"
      ]
     },
     "execution_count": 57,
     "metadata": {},
     "output_type": "execute_result"
    }
   ],
   "source": [
    "result"
   ]
  },
  {
   "cell_type": "code",
   "execution_count": 60,
   "id": "7b9544c2-149f-406a-9097-13663ea82cb7",
   "metadata": {
    "tags": []
   },
   "outputs": [],
   "source": [
    "context = \"\"\"우리나라 2대 수출 품목인 자동차가 도널드 트럼프 미국 행정부의 관세 여파로 지난달 큰 폭의 수출 감소율을 보이면서 우려가 커지고 있다. 현대차, 기아의 미국 수출 비중이 최대 85%에 이르는 상황에서 자동차 관세 장기화 시 피해는 걷잡을 수 없이 불어날 것이라는 암울한 전망이 나온다.\n",
    "1일 산업통상자원부가 발표한 5월 수출입 동향에 따르면 지난달 자동차 수출은 작년 동기 대비 4.4% 감소한 62억달러로 집계됐다. 최대 자동차 시장인 미국으로의 수출은 18억4000만달러로 무려 32.0% 급감했다.\n",
    "4월 미국의 수입산 자동차 25% 관세 부과에 이어 5월부터 일부 자동차 부품에도 25%의 관세가 적용된 결과다. 관세 장기화 시 피해는 더 커질 것이라는 우려가 현실화한 셈이다.\n",
    "국내 완성차 1·2위 업체인 현대차·기아는 현지 생산 비중을 확대하는 동시에 가격 인상을 검토하고 있다. 관세 여파를 흡수하기 위해서다. 가격 인상이 현실화할 경우 미국 현지 판매는 줄어들 수밖에 없어 수출에는 더 악영향을 미칠 것으로 보인다.\n",
    "\"\"\"\n",
    "\n",
    "q1 = \"현대차 기아의 미국 수출비중은?\"\n",
    "q2 = \"자동차 수출이 얼마나 급감했나?\"\n",
    "q3 = \"대미 수출 감소에 국내 자동차 업체들의 대응방법은?\""
   ]
  },
  {
   "cell_type": "code",
   "execution_count": 59,
   "id": "2227db13",
   "metadata": {},
   "outputs": [
    {
     "name": "stderr",
     "output_type": "stream",
     "text": [
      "c:\\Anaconda3\\envs\\dl\\Lib\\site-packages\\huggingface_hub\\file_download.py:143: UserWarning: `huggingface_hub` cache-system uses symlinks by default to efficiently store duplicated files but your machine does not support them in C:\\Users\\안수민\\.cache\\huggingface\\hub\\models--ainize--klue-bert-base-mrc. Caching files will still work but in a degraded version that might require more space on your disk. This warning can be disabled by setting the `HF_HUB_DISABLE_SYMLINKS_WARNING` environment variable. For more details, see https://huggingface.co/docs/huggingface_hub/how-to-cache#limitations.\n",
      "To support symlinks on Windows, you either need to activate Developer Mode or to run Python as an administrator. In order to activate developer mode, see this article: https://docs.microsoft.com/en-us/windows/apps/get-started/enable-your-device-for-development\n",
      "  warnings.warn(message)\n",
      "Device set to use cpu\n"
     ]
    }
   ],
   "source": [
    "model = \"ainize/klue-bert-base-mrc\"\n",
    "pipe = pipeline(task=\"question-answering\", model=model)"
   ]
  },
  {
   "cell_type": "code",
   "execution_count": 61,
   "id": "de619668",
   "metadata": {},
   "outputs": [
    {
     "data": {
      "text/plain": [
       "[{'score': 0.6396177411079407, 'start': 99, 'end': 102, 'answer': '85%'},\n",
       " {'score': 0.6323590278625488, 'start': 271, 'end': 276, 'answer': '32.0%'},\n",
       " {'score': 0.013693399727344513, 'start': 427, 'end': 433, 'answer': '가격 인상을'}]"
      ]
     },
     "execution_count": 61,
     "metadata": {},
     "output_type": "execute_result"
    }
   ],
   "source": [
    "result = pipe(question=[q1, q2, q3], context=context)\n",
    "result"
   ]
  },
  {
   "cell_type": "code",
   "execution_count": null,
   "id": "dbcd498b",
   "metadata": {},
   "outputs": [],
   "source": []
  },
  {
   "cell_type": "markdown",
   "id": "e79683e5-f872-4b4d-b46f-edd38428651e",
   "metadata": {},
   "source": [
    "### 문서 요약"
   ]
  },
  {
   "cell_type": "code",
   "execution_count": null,
   "id": "0135048e-d1df-4734-9a10-dbaee7109e6a",
   "metadata": {},
   "outputs": [],
   "source": [
    "model = \"eenzeenee/t5-base-korean-summarization\""
   ]
  },
  {
   "cell_type": "code",
   "execution_count": null,
   "id": "37e8c1a0-8894-4d9f-afa8-b2f6a16c8f87",
   "metadata": {},
   "outputs": [],
   "source": []
  },
  {
   "cell_type": "markdown",
   "id": "8be2c20d-c32d-44bf-98dc-552bc5409aa3",
   "metadata": {},
   "source": [
    "### 번역"
   ]
  },
  {
   "cell_type": "code",
   "execution_count": null,
   "id": "f050129d-7e5b-4cf2-b3a3-0e3ba21af591",
   "metadata": {},
   "outputs": [],
   "source": [
    "model = \"Helsinki-NLP/opus-mt-fr-en\"\n",
    "text = \"Ce cours est produit par Hugging Face.\""
   ]
  },
  {
   "cell_type": "code",
   "execution_count": null,
   "id": "e583f995-32bd-4454-b1ab-9d5cd1fdbcc3",
   "metadata": {},
   "outputs": [],
   "source": [
    "model = \"Helsinki-NLP/opus-mt-ko-en\""
   ]
  },
  {
   "cell_type": "code",
   "execution_count": null,
   "id": "453de109-8ce8-4cae-94e9-ce24f068c5ef",
   "metadata": {},
   "outputs": [],
   "source": []
  },
  {
   "cell_type": "markdown",
   "id": "bb854488-6677-49db-a82e-eee1a33c7264",
   "metadata": {},
   "source": [
    "### 이미지를 설명하는 텍스트 생성"
   ]
  },
  {
   "cell_type": "code",
   "execution_count": 62,
   "id": "081aaf53-bed8-45ad-aab3-052f3cc6feca",
   "metadata": {},
   "outputs": [],
   "source": [
    "url1 = \"https://huggingface.co/datasets/Narsil/image_dummy/resolve/main/parrots.png\"\n",
    "url2 = \"https://th.bing.com/th?id=ORMS.c526884bbea37c0bb9501f4f83b601e4&pid=Wdp&w=268&h=140&qlt=90&c=1&rs=1&dpr=1&p=0\"\n",
    "url3 = \"http://images.cocodataset.org/val2017/000000039769.jpg\""
   ]
  },
  {
   "cell_type": "code",
   "execution_count": 64,
   "id": "7bbcf876-b4bb-4202-afc4-e89404005eb5",
   "metadata": {},
   "outputs": [
    {
     "name": "stderr",
     "output_type": "stream",
     "text": [
      "Device set to use cpu\n"
     ]
    },
    {
     "data": {
      "text/plain": [
       "[[{'generated_text': 'two birds are standing next to each other '}],\n",
       " [{'generated_text': 'a baseball player is throwing a ball '}],\n",
       " [{'generated_text': 'a cat laying on a blanket next to a cat laying on a bed '}]]"
      ]
     },
     "execution_count": 64,
     "metadata": {},
     "output_type": "execute_result"
    }
   ],
   "source": [
    "model = \"ydshieh/vit-gpt2-coco-en\"\n",
    "pipe = pipeline(task=\"image-to-text\", model=model)\n",
    "result = pipe([url1, url2, url3])\n",
    "result"
   ]
  },
  {
   "cell_type": "markdown",
   "id": "117df1f4-5ebd-41ad-ab6f-9f69a70d99a7",
   "metadata": {},
   "source": [
    "### 이미지 분류"
   ]
  },
  {
   "cell_type": "code",
   "execution_count": 66,
   "id": "1c9fbf6b-2697-427b-ab75-bd5a75348d5b",
   "metadata": {
    "tags": []
   },
   "outputs": [],
   "source": [
    "url = \"https://pds.joongang.co.kr/news/component/htmlphoto_mmdata/202306/25/488f9638-800c-4bac-ad65-82877fbff79b.jpg\""
   ]
  },
  {
   "cell_type": "code",
   "execution_count": 65,
   "id": "897952e6-3aa2-4c10-956d-dde4fc14b917",
   "metadata": {},
   "outputs": [
    {
     "name": "stderr",
     "output_type": "stream",
     "text": [
      "c:\\Anaconda3\\envs\\dl\\Lib\\site-packages\\huggingface_hub\\file_download.py:143: UserWarning: `huggingface_hub` cache-system uses symlinks by default to efficiently store duplicated files but your machine does not support them in C:\\Users\\안수민\\.cache\\huggingface\\hub\\models--google--vit-base-patch16-224. Caching files will still work but in a degraded version that might require more space on your disk. This warning can be disabled by setting the `HF_HUB_DISABLE_SYMLINKS_WARNING` environment variable. For more details, see https://huggingface.co/docs/huggingface_hub/how-to-cache#limitations.\n",
      "To support symlinks on Windows, you either need to activate Developer Mode or to run Python as an administrator. In order to activate developer mode, see this article: https://docs.microsoft.com/en-us/windows/apps/get-started/enable-your-device-for-development\n",
      "  warnings.warn(message)\n",
      "Xet Storage is enabled for this repo, but the 'hf_xet' package is not installed. Falling back to regular HTTP download. For better performance, install the package with: `pip install huggingface_hub[hf_xet]` or `pip install hf_xet`\n",
      "Fast image processor class <class 'transformers.models.vit.image_processing_vit_fast.ViTImageProcessorFast'> is available for this model. Using slow image processor class. To use the fast image processor class set `use_fast=True`.\n",
      "Device set to use cpu\n"
     ]
    }
   ],
   "source": [
    "model = \"google/vit-base-patch16-224\"\n",
    "pipe = pipeline(task=\"image-classification\", model=model)"
   ]
  },
  {
   "cell_type": "code",
   "execution_count": 67,
   "id": "b59f58d0-226f-4997-87d9-b4a029318940",
   "metadata": {},
   "outputs": [
    {
     "data": {
      "text/plain": [
       "{0: 'tench, Tinca tinca',\n",
       " 1: 'goldfish, Carassius auratus',\n",
       " 2: 'great white shark, white shark, man-eater, man-eating shark, Carcharodon carcharias',\n",
       " 3: 'tiger shark, Galeocerdo cuvieri',\n",
       " 4: 'hammerhead, hammerhead shark',\n",
       " 5: 'electric ray, crampfish, numbfish, torpedo',\n",
       " 6: 'stingray',\n",
       " 7: 'cock',\n",
       " 8: 'hen',\n",
       " 9: 'ostrich, Struthio camelus',\n",
       " 10: 'brambling, Fringilla montifringilla',\n",
       " 11: 'goldfinch, Carduelis carduelis',\n",
       " 12: 'house finch, linnet, Carpodacus mexicanus',\n",
       " 13: 'junco, snowbird',\n",
       " 14: 'indigo bunting, indigo finch, indigo bird, Passerina cyanea',\n",
       " 15: 'robin, American robin, Turdus migratorius',\n",
       " 16: 'bulbul',\n",
       " 17: 'jay',\n",
       " 18: 'magpie',\n",
       " 19: 'chickadee',\n",
       " 20: 'water ouzel, dipper',\n",
       " 21: 'kite',\n",
       " 22: 'bald eagle, American eagle, Haliaeetus leucocephalus',\n",
       " 23: 'vulture',\n",
       " 24: 'great grey owl, great gray owl, Strix nebulosa',\n",
       " 25: 'European fire salamander, Salamandra salamandra',\n",
       " 26: 'common newt, Triturus vulgaris',\n",
       " 27: 'eft',\n",
       " 28: 'spotted salamander, Ambystoma maculatum',\n",
       " 29: 'axolotl, mud puppy, Ambystoma mexicanum',\n",
       " 30: 'bullfrog, Rana catesbeiana',\n",
       " 31: 'tree frog, tree-frog',\n",
       " 32: 'tailed frog, bell toad, ribbed toad, tailed toad, Ascaphus trui',\n",
       " 33: 'loggerhead, loggerhead turtle, Caretta caretta',\n",
       " 34: 'leatherback turtle, leatherback, leathery turtle, Dermochelys coriacea',\n",
       " 35: 'mud turtle',\n",
       " 36: 'terrapin',\n",
       " 37: 'box turtle, box tortoise',\n",
       " 38: 'banded gecko',\n",
       " 39: 'common iguana, iguana, Iguana iguana',\n",
       " 40: 'American chameleon, anole, Anolis carolinensis',\n",
       " 41: 'whiptail, whiptail lizard',\n",
       " 42: 'agama',\n",
       " 43: 'frilled lizard, Chlamydosaurus kingi',\n",
       " 44: 'alligator lizard',\n",
       " 45: 'Gila monster, Heloderma suspectum',\n",
       " 46: 'green lizard, Lacerta viridis',\n",
       " 47: 'African chameleon, Chamaeleo chamaeleon',\n",
       " 48: 'Komodo dragon, Komodo lizard, dragon lizard, giant lizard, Varanus komodoensis',\n",
       " 49: 'African crocodile, Nile crocodile, Crocodylus niloticus',\n",
       " 50: 'American alligator, Alligator mississipiensis',\n",
       " 51: 'triceratops',\n",
       " 52: 'thunder snake, worm snake, Carphophis amoenus',\n",
       " 53: 'ringneck snake, ring-necked snake, ring snake',\n",
       " 54: 'hognose snake, puff adder, sand viper',\n",
       " 55: 'green snake, grass snake',\n",
       " 56: 'king snake, kingsnake',\n",
       " 57: 'garter snake, grass snake',\n",
       " 58: 'water snake',\n",
       " 59: 'vine snake',\n",
       " 60: 'night snake, Hypsiglena torquata',\n",
       " 61: 'boa constrictor, Constrictor constrictor',\n",
       " 62: 'rock python, rock snake, Python sebae',\n",
       " 63: 'Indian cobra, Naja naja',\n",
       " 64: 'green mamba',\n",
       " 65: 'sea snake',\n",
       " 66: 'horned viper, cerastes, sand viper, horned asp, Cerastes cornutus',\n",
       " 67: 'diamondback, diamondback rattlesnake, Crotalus adamanteus',\n",
       " 68: 'sidewinder, horned rattlesnake, Crotalus cerastes',\n",
       " 69: 'trilobite',\n",
       " 70: 'harvestman, daddy longlegs, Phalangium opilio',\n",
       " 71: 'scorpion',\n",
       " 72: 'black and gold garden spider, Argiope aurantia',\n",
       " 73: 'barn spider, Araneus cavaticus',\n",
       " 74: 'garden spider, Aranea diademata',\n",
       " 75: 'black widow, Latrodectus mactans',\n",
       " 76: 'tarantula',\n",
       " 77: 'wolf spider, hunting spider',\n",
       " 78: 'tick',\n",
       " 79: 'centipede',\n",
       " 80: 'black grouse',\n",
       " 81: 'ptarmigan',\n",
       " 82: 'ruffed grouse, partridge, Bonasa umbellus',\n",
       " 83: 'prairie chicken, prairie grouse, prairie fowl',\n",
       " 84: 'peacock',\n",
       " 85: 'quail',\n",
       " 86: 'partridge',\n",
       " 87: 'African grey, African gray, Psittacus erithacus',\n",
       " 88: 'macaw',\n",
       " 89: 'sulphur-crested cockatoo, Kakatoe galerita, Cacatua galerita',\n",
       " 90: 'lorikeet',\n",
       " 91: 'coucal',\n",
       " 92: 'bee eater',\n",
       " 93: 'hornbill',\n",
       " 94: 'hummingbird',\n",
       " 95: 'jacamar',\n",
       " 96: 'toucan',\n",
       " 97: 'drake',\n",
       " 98: 'red-breasted merganser, Mergus serrator',\n",
       " 99: 'goose',\n",
       " 100: 'black swan, Cygnus atratus',\n",
       " 101: 'tusker',\n",
       " 102: 'echidna, spiny anteater, anteater',\n",
       " 103: 'platypus, duckbill, duckbilled platypus, duck-billed platypus, Ornithorhynchus anatinus',\n",
       " 104: 'wallaby, brush kangaroo',\n",
       " 105: 'koala, koala bear, kangaroo bear, native bear, Phascolarctos cinereus',\n",
       " 106: 'wombat',\n",
       " 107: 'jellyfish',\n",
       " 108: 'sea anemone, anemone',\n",
       " 109: 'brain coral',\n",
       " 110: 'flatworm, platyhelminth',\n",
       " 111: 'nematode, nematode worm, roundworm',\n",
       " 112: 'conch',\n",
       " 113: 'snail',\n",
       " 114: 'slug',\n",
       " 115: 'sea slug, nudibranch',\n",
       " 116: 'chiton, coat-of-mail shell, sea cradle, polyplacophore',\n",
       " 117: 'chambered nautilus, pearly nautilus, nautilus',\n",
       " 118: 'Dungeness crab, Cancer magister',\n",
       " 119: 'rock crab, Cancer irroratus',\n",
       " 120: 'fiddler crab',\n",
       " 121: 'king crab, Alaska crab, Alaskan king crab, Alaska king crab, Paralithodes camtschatica',\n",
       " 122: 'American lobster, Northern lobster, Maine lobster, Homarus americanus',\n",
       " 123: 'spiny lobster, langouste, rock lobster, crawfish, crayfish, sea crawfish',\n",
       " 124: 'crayfish, crawfish, crawdad, crawdaddy',\n",
       " 125: 'hermit crab',\n",
       " 126: 'isopod',\n",
       " 127: 'white stork, Ciconia ciconia',\n",
       " 128: 'black stork, Ciconia nigra',\n",
       " 129: 'spoonbill',\n",
       " 130: 'flamingo',\n",
       " 131: 'little blue heron, Egretta caerulea',\n",
       " 132: 'American egret, great white heron, Egretta albus',\n",
       " 133: 'bittern',\n",
       " 134: 'crane',\n",
       " 135: 'limpkin, Aramus pictus',\n",
       " 136: 'European gallinule, Porphyrio porphyrio',\n",
       " 137: 'American coot, marsh hen, mud hen, water hen, Fulica americana',\n",
       " 138: 'bustard',\n",
       " 139: 'ruddy turnstone, Arenaria interpres',\n",
       " 140: 'red-backed sandpiper, dunlin, Erolia alpina',\n",
       " 141: 'redshank, Tringa totanus',\n",
       " 142: 'dowitcher',\n",
       " 143: 'oystercatcher, oyster catcher',\n",
       " 144: 'pelican',\n",
       " 145: 'king penguin, Aptenodytes patagonica',\n",
       " 146: 'albatross, mollymawk',\n",
       " 147: 'grey whale, gray whale, devilfish, Eschrichtius gibbosus, Eschrichtius robustus',\n",
       " 148: 'killer whale, killer, orca, grampus, sea wolf, Orcinus orca',\n",
       " 149: 'dugong, Dugong dugon',\n",
       " 150: 'sea lion',\n",
       " 151: 'Chihuahua',\n",
       " 152: 'Japanese spaniel',\n",
       " 153: 'Maltese dog, Maltese terrier, Maltese',\n",
       " 154: 'Pekinese, Pekingese, Peke',\n",
       " 155: 'Shih-Tzu',\n",
       " 156: 'Blenheim spaniel',\n",
       " 157: 'papillon',\n",
       " 158: 'toy terrier',\n",
       " 159: 'Rhodesian ridgeback',\n",
       " 160: 'Afghan hound, Afghan',\n",
       " 161: 'basset, basset hound',\n",
       " 162: 'beagle',\n",
       " 163: 'bloodhound, sleuthhound',\n",
       " 164: 'bluetick',\n",
       " 165: 'black-and-tan coonhound',\n",
       " 166: 'Walker hound, Walker foxhound',\n",
       " 167: 'English foxhound',\n",
       " 168: 'redbone',\n",
       " 169: 'borzoi, Russian wolfhound',\n",
       " 170: 'Irish wolfhound',\n",
       " 171: 'Italian greyhound',\n",
       " 172: 'whippet',\n",
       " 173: 'Ibizan hound, Ibizan Podenco',\n",
       " 174: 'Norwegian elkhound, elkhound',\n",
       " 175: 'otterhound, otter hound',\n",
       " 176: 'Saluki, gazelle hound',\n",
       " 177: 'Scottish deerhound, deerhound',\n",
       " 178: 'Weimaraner',\n",
       " 179: 'Staffordshire bullterrier, Staffordshire bull terrier',\n",
       " 180: 'American Staffordshire terrier, Staffordshire terrier, American pit bull terrier, pit bull terrier',\n",
       " 181: 'Bedlington terrier',\n",
       " 182: 'Border terrier',\n",
       " 183: 'Kerry blue terrier',\n",
       " 184: 'Irish terrier',\n",
       " 185: 'Norfolk terrier',\n",
       " 186: 'Norwich terrier',\n",
       " 187: 'Yorkshire terrier',\n",
       " 188: 'wire-haired fox terrier',\n",
       " 189: 'Lakeland terrier',\n",
       " 190: 'Sealyham terrier, Sealyham',\n",
       " 191: 'Airedale, Airedale terrier',\n",
       " 192: 'cairn, cairn terrier',\n",
       " 193: 'Australian terrier',\n",
       " 194: 'Dandie Dinmont, Dandie Dinmont terrier',\n",
       " 195: 'Boston bull, Boston terrier',\n",
       " 196: 'miniature schnauzer',\n",
       " 197: 'giant schnauzer',\n",
       " 198: 'standard schnauzer',\n",
       " 199: 'Scotch terrier, Scottish terrier, Scottie',\n",
       " 200: 'Tibetan terrier, chrysanthemum dog',\n",
       " 201: 'silky terrier, Sydney silky',\n",
       " 202: 'soft-coated wheaten terrier',\n",
       " 203: 'West Highland white terrier',\n",
       " 204: 'Lhasa, Lhasa apso',\n",
       " 205: 'flat-coated retriever',\n",
       " 206: 'curly-coated retriever',\n",
       " 207: 'golden retriever',\n",
       " 208: 'Labrador retriever',\n",
       " 209: 'Chesapeake Bay retriever',\n",
       " 210: 'German short-haired pointer',\n",
       " 211: 'vizsla, Hungarian pointer',\n",
       " 212: 'English setter',\n",
       " 213: 'Irish setter, red setter',\n",
       " 214: 'Gordon setter',\n",
       " 215: 'Brittany spaniel',\n",
       " 216: 'clumber, clumber spaniel',\n",
       " 217: 'English springer, English springer spaniel',\n",
       " 218: 'Welsh springer spaniel',\n",
       " 219: 'cocker spaniel, English cocker spaniel, cocker',\n",
       " 220: 'Sussex spaniel',\n",
       " 221: 'Irish water spaniel',\n",
       " 222: 'kuvasz',\n",
       " 223: 'schipperke',\n",
       " 224: 'groenendael',\n",
       " 225: 'malinois',\n",
       " 226: 'briard',\n",
       " 227: 'kelpie',\n",
       " 228: 'komondor',\n",
       " 229: 'Old English sheepdog, bobtail',\n",
       " 230: 'Shetland sheepdog, Shetland sheep dog, Shetland',\n",
       " 231: 'collie',\n",
       " 232: 'Border collie',\n",
       " 233: 'Bouvier des Flandres, Bouviers des Flandres',\n",
       " 234: 'Rottweiler',\n",
       " 235: 'German shepherd, German shepherd dog, German police dog, alsatian',\n",
       " 236: 'Doberman, Doberman pinscher',\n",
       " 237: 'miniature pinscher',\n",
       " 238: 'Greater Swiss Mountain dog',\n",
       " 239: 'Bernese mountain dog',\n",
       " 240: 'Appenzeller',\n",
       " 241: 'EntleBucher',\n",
       " 242: 'boxer',\n",
       " 243: 'bull mastiff',\n",
       " 244: 'Tibetan mastiff',\n",
       " 245: 'French bulldog',\n",
       " 246: 'Great Dane',\n",
       " 247: 'Saint Bernard, St Bernard',\n",
       " 248: 'Eskimo dog, husky',\n",
       " 249: 'malamute, malemute, Alaskan malamute',\n",
       " 250: 'Siberian husky',\n",
       " 251: 'dalmatian, coach dog, carriage dog',\n",
       " 252: 'affenpinscher, monkey pinscher, monkey dog',\n",
       " 253: 'basenji',\n",
       " 254: 'pug, pug-dog',\n",
       " 255: 'Leonberg',\n",
       " 256: 'Newfoundland, Newfoundland dog',\n",
       " 257: 'Great Pyrenees',\n",
       " 258: 'Samoyed, Samoyede',\n",
       " 259: 'Pomeranian',\n",
       " 260: 'chow, chow chow',\n",
       " 261: 'keeshond',\n",
       " 262: 'Brabancon griffon',\n",
       " 263: 'Pembroke, Pembroke Welsh corgi',\n",
       " 264: 'Cardigan, Cardigan Welsh corgi',\n",
       " 265: 'toy poodle',\n",
       " 266: 'miniature poodle',\n",
       " 267: 'standard poodle',\n",
       " 268: 'Mexican hairless',\n",
       " 269: 'timber wolf, grey wolf, gray wolf, Canis lupus',\n",
       " 270: 'white wolf, Arctic wolf, Canis lupus tundrarum',\n",
       " 271: 'red wolf, maned wolf, Canis rufus, Canis niger',\n",
       " 272: 'coyote, prairie wolf, brush wolf, Canis latrans',\n",
       " 273: 'dingo, warrigal, warragal, Canis dingo',\n",
       " 274: 'dhole, Cuon alpinus',\n",
       " 275: 'African hunting dog, hyena dog, Cape hunting dog, Lycaon pictus',\n",
       " 276: 'hyena, hyaena',\n",
       " 277: 'red fox, Vulpes vulpes',\n",
       " 278: 'kit fox, Vulpes macrotis',\n",
       " 279: 'Arctic fox, white fox, Alopex lagopus',\n",
       " 280: 'grey fox, gray fox, Urocyon cinereoargenteus',\n",
       " 281: 'tabby, tabby cat',\n",
       " 282: 'tiger cat',\n",
       " 283: 'Persian cat',\n",
       " 284: 'Siamese cat, Siamese',\n",
       " 285: 'Egyptian cat',\n",
       " 286: 'cougar, puma, catamount, mountain lion, painter, panther, Felis concolor',\n",
       " 287: 'lynx, catamount',\n",
       " 288: 'leopard, Panthera pardus',\n",
       " 289: 'snow leopard, ounce, Panthera uncia',\n",
       " 290: 'jaguar, panther, Panthera onca, Felis onca',\n",
       " 291: 'lion, king of beasts, Panthera leo',\n",
       " 292: 'tiger, Panthera tigris',\n",
       " 293: 'cheetah, chetah, Acinonyx jubatus',\n",
       " 294: 'brown bear, bruin, Ursus arctos',\n",
       " 295: 'American black bear, black bear, Ursus americanus, Euarctos americanus',\n",
       " 296: 'ice bear, polar bear, Ursus Maritimus, Thalarctos maritimus',\n",
       " 297: 'sloth bear, Melursus ursinus, Ursus ursinus',\n",
       " 298: 'mongoose',\n",
       " 299: 'meerkat, mierkat',\n",
       " 300: 'tiger beetle',\n",
       " 301: 'ladybug, ladybeetle, lady beetle, ladybird, ladybird beetle',\n",
       " 302: 'ground beetle, carabid beetle',\n",
       " 303: 'long-horned beetle, longicorn, longicorn beetle',\n",
       " 304: 'leaf beetle, chrysomelid',\n",
       " 305: 'dung beetle',\n",
       " 306: 'rhinoceros beetle',\n",
       " 307: 'weevil',\n",
       " 308: 'fly',\n",
       " 309: 'bee',\n",
       " 310: 'ant, emmet, pismire',\n",
       " 311: 'grasshopper, hopper',\n",
       " 312: 'cricket',\n",
       " 313: 'walking stick, walkingstick, stick insect',\n",
       " 314: 'cockroach, roach',\n",
       " 315: 'mantis, mantid',\n",
       " 316: 'cicada, cicala',\n",
       " 317: 'leafhopper',\n",
       " 318: 'lacewing, lacewing fly',\n",
       " 319: \"dragonfly, darning needle, devil's darning needle, sewing needle, snake feeder, snake doctor, mosquito hawk, skeeter hawk\",\n",
       " 320: 'damselfly',\n",
       " 321: 'admiral',\n",
       " 322: 'ringlet, ringlet butterfly',\n",
       " 323: 'monarch, monarch butterfly, milkweed butterfly, Danaus plexippus',\n",
       " 324: 'cabbage butterfly',\n",
       " 325: 'sulphur butterfly, sulfur butterfly',\n",
       " 326: 'lycaenid, lycaenid butterfly',\n",
       " 327: 'starfish, sea star',\n",
       " 328: 'sea urchin',\n",
       " 329: 'sea cucumber, holothurian',\n",
       " 330: 'wood rabbit, cottontail, cottontail rabbit',\n",
       " 331: 'hare',\n",
       " 332: 'Angora, Angora rabbit',\n",
       " 333: 'hamster',\n",
       " 334: 'porcupine, hedgehog',\n",
       " 335: 'fox squirrel, eastern fox squirrel, Sciurus niger',\n",
       " 336: 'marmot',\n",
       " 337: 'beaver',\n",
       " 338: 'guinea pig, Cavia cobaya',\n",
       " 339: 'sorrel',\n",
       " 340: 'zebra',\n",
       " 341: 'hog, pig, grunter, squealer, Sus scrofa',\n",
       " 342: 'wild boar, boar, Sus scrofa',\n",
       " 343: 'warthog',\n",
       " 344: 'hippopotamus, hippo, river horse, Hippopotamus amphibius',\n",
       " 345: 'ox',\n",
       " 346: 'water buffalo, water ox, Asiatic buffalo, Bubalus bubalis',\n",
       " 347: 'bison',\n",
       " 348: 'ram, tup',\n",
       " 349: 'bighorn, bighorn sheep, cimarron, Rocky Mountain bighorn, Rocky Mountain sheep, Ovis canadensis',\n",
       " 350: 'ibex, Capra ibex',\n",
       " 351: 'hartebeest',\n",
       " 352: 'impala, Aepyceros melampus',\n",
       " 353: 'gazelle',\n",
       " 354: 'Arabian camel, dromedary, Camelus dromedarius',\n",
       " 355: 'llama',\n",
       " 356: 'weasel',\n",
       " 357: 'mink',\n",
       " 358: 'polecat, fitch, foulmart, foumart, Mustela putorius',\n",
       " 359: 'black-footed ferret, ferret, Mustela nigripes',\n",
       " 360: 'otter',\n",
       " 361: 'skunk, polecat, wood pussy',\n",
       " 362: 'badger',\n",
       " 363: 'armadillo',\n",
       " 364: 'three-toed sloth, ai, Bradypus tridactylus',\n",
       " 365: 'orangutan, orang, orangutang, Pongo pygmaeus',\n",
       " 366: 'gorilla, Gorilla gorilla',\n",
       " 367: 'chimpanzee, chimp, Pan troglodytes',\n",
       " 368: 'gibbon, Hylobates lar',\n",
       " 369: 'siamang, Hylobates syndactylus, Symphalangus syndactylus',\n",
       " 370: 'guenon, guenon monkey',\n",
       " 371: 'patas, hussar monkey, Erythrocebus patas',\n",
       " 372: 'baboon',\n",
       " 373: 'macaque',\n",
       " 374: 'langur',\n",
       " 375: 'colobus, colobus monkey',\n",
       " 376: 'proboscis monkey, Nasalis larvatus',\n",
       " 377: 'marmoset',\n",
       " 378: 'capuchin, ringtail, Cebus capucinus',\n",
       " 379: 'howler monkey, howler',\n",
       " 380: 'titi, titi monkey',\n",
       " 381: 'spider monkey, Ateles geoffroyi',\n",
       " 382: 'squirrel monkey, Saimiri sciureus',\n",
       " 383: 'Madagascar cat, ring-tailed lemur, Lemur catta',\n",
       " 384: 'indri, indris, Indri indri, Indri brevicaudatus',\n",
       " 385: 'Indian elephant, Elephas maximus',\n",
       " 386: 'African elephant, Loxodonta africana',\n",
       " 387: 'lesser panda, red panda, panda, bear cat, cat bear, Ailurus fulgens',\n",
       " 388: 'giant panda, panda, panda bear, coon bear, Ailuropoda melanoleuca',\n",
       " 389: 'barracouta, snoek',\n",
       " 390: 'eel',\n",
       " 391: 'coho, cohoe, coho salmon, blue jack, silver salmon, Oncorhynchus kisutch',\n",
       " 392: 'rock beauty, Holocanthus tricolor',\n",
       " 393: 'anemone fish',\n",
       " 394: 'sturgeon',\n",
       " 395: 'gar, garfish, garpike, billfish, Lepisosteus osseus',\n",
       " 396: 'lionfish',\n",
       " 397: 'puffer, pufferfish, blowfish, globefish',\n",
       " 398: 'abacus',\n",
       " 399: 'abaya',\n",
       " 400: \"academic gown, academic robe, judge's robe\",\n",
       " 401: 'accordion, piano accordion, squeeze box',\n",
       " 402: 'acoustic guitar',\n",
       " 403: 'aircraft carrier, carrier, flattop, attack aircraft carrier',\n",
       " 404: 'airliner',\n",
       " 405: 'airship, dirigible',\n",
       " 406: 'altar',\n",
       " 407: 'ambulance',\n",
       " 408: 'amphibian, amphibious vehicle',\n",
       " 409: 'analog clock',\n",
       " 410: 'apiary, bee house',\n",
       " 411: 'apron',\n",
       " 412: 'ashcan, trash can, garbage can, wastebin, ash bin, ash-bin, ashbin, dustbin, trash barrel, trash bin',\n",
       " 413: 'assault rifle, assault gun',\n",
       " 414: 'backpack, back pack, knapsack, packsack, rucksack, haversack',\n",
       " 415: 'bakery, bakeshop, bakehouse',\n",
       " 416: 'balance beam, beam',\n",
       " 417: 'balloon',\n",
       " 418: 'ballpoint, ballpoint pen, ballpen, Biro',\n",
       " 419: 'Band Aid',\n",
       " 420: 'banjo',\n",
       " 421: 'bannister, banister, balustrade, balusters, handrail',\n",
       " 422: 'barbell',\n",
       " 423: 'barber chair',\n",
       " 424: 'barbershop',\n",
       " 425: 'barn',\n",
       " 426: 'barometer',\n",
       " 427: 'barrel, cask',\n",
       " 428: 'barrow, garden cart, lawn cart, wheelbarrow',\n",
       " 429: 'baseball',\n",
       " 430: 'basketball',\n",
       " 431: 'bassinet',\n",
       " 432: 'bassoon',\n",
       " 433: 'bathing cap, swimming cap',\n",
       " 434: 'bath towel',\n",
       " 435: 'bathtub, bathing tub, bath, tub',\n",
       " 436: 'beach wagon, station wagon, wagon, estate car, beach waggon, station waggon, waggon',\n",
       " 437: 'beacon, lighthouse, beacon light, pharos',\n",
       " 438: 'beaker',\n",
       " 439: 'bearskin, busby, shako',\n",
       " 440: 'beer bottle',\n",
       " 441: 'beer glass',\n",
       " 442: 'bell cote, bell cot',\n",
       " 443: 'bib',\n",
       " 444: 'bicycle-built-for-two, tandem bicycle, tandem',\n",
       " 445: 'bikini, two-piece',\n",
       " 446: 'binder, ring-binder',\n",
       " 447: 'binoculars, field glasses, opera glasses',\n",
       " 448: 'birdhouse',\n",
       " 449: 'boathouse',\n",
       " 450: 'bobsled, bobsleigh, bob',\n",
       " 451: 'bolo tie, bolo, bola tie, bola',\n",
       " 452: 'bonnet, poke bonnet',\n",
       " 453: 'bookcase',\n",
       " 454: 'bookshop, bookstore, bookstall',\n",
       " 455: 'bottlecap',\n",
       " 456: 'bow',\n",
       " 457: 'bow tie, bow-tie, bowtie',\n",
       " 458: 'brass, memorial tablet, plaque',\n",
       " 459: 'brassiere, bra, bandeau',\n",
       " 460: 'breakwater, groin, groyne, mole, bulwark, seawall, jetty',\n",
       " 461: 'breastplate, aegis, egis',\n",
       " 462: 'broom',\n",
       " 463: 'bucket, pail',\n",
       " 464: 'buckle',\n",
       " 465: 'bulletproof vest',\n",
       " 466: 'bullet train, bullet',\n",
       " 467: 'butcher shop, meat market',\n",
       " 468: 'cab, hack, taxi, taxicab',\n",
       " 469: 'caldron, cauldron',\n",
       " 470: 'candle, taper, wax light',\n",
       " 471: 'cannon',\n",
       " 472: 'canoe',\n",
       " 473: 'can opener, tin opener',\n",
       " 474: 'cardigan',\n",
       " 475: 'car mirror',\n",
       " 476: 'carousel, carrousel, merry-go-round, roundabout, whirligig',\n",
       " 477: \"carpenter's kit, tool kit\",\n",
       " 478: 'carton',\n",
       " 479: 'car wheel',\n",
       " 480: 'cash machine, cash dispenser, automated teller machine, automatic teller machine, automated teller, automatic teller, ATM',\n",
       " 481: 'cassette',\n",
       " 482: 'cassette player',\n",
       " 483: 'castle',\n",
       " 484: 'catamaran',\n",
       " 485: 'CD player',\n",
       " 486: 'cello, violoncello',\n",
       " 487: 'cellular telephone, cellular phone, cellphone, cell, mobile phone',\n",
       " 488: 'chain',\n",
       " 489: 'chainlink fence',\n",
       " 490: 'chain mail, ring mail, mail, chain armor, chain armour, ring armor, ring armour',\n",
       " 491: 'chain saw, chainsaw',\n",
       " 492: 'chest',\n",
       " 493: 'chiffonier, commode',\n",
       " 494: 'chime, bell, gong',\n",
       " 495: 'china cabinet, china closet',\n",
       " 496: 'Christmas stocking',\n",
       " 497: 'church, church building',\n",
       " 498: 'cinema, movie theater, movie theatre, movie house, picture palace',\n",
       " 499: 'cleaver, meat cleaver, chopper',\n",
       " 500: 'cliff dwelling',\n",
       " 501: 'cloak',\n",
       " 502: 'clog, geta, patten, sabot',\n",
       " 503: 'cocktail shaker',\n",
       " 504: 'coffee mug',\n",
       " 505: 'coffeepot',\n",
       " 506: 'coil, spiral, volute, whorl, helix',\n",
       " 507: 'combination lock',\n",
       " 508: 'computer keyboard, keypad',\n",
       " 509: 'confectionery, confectionary, candy store',\n",
       " 510: 'container ship, containership, container vessel',\n",
       " 511: 'convertible',\n",
       " 512: 'corkscrew, bottle screw',\n",
       " 513: 'cornet, horn, trumpet, trump',\n",
       " 514: 'cowboy boot',\n",
       " 515: 'cowboy hat, ten-gallon hat',\n",
       " 516: 'cradle',\n",
       " 517: 'crane',\n",
       " 518: 'crash helmet',\n",
       " 519: 'crate',\n",
       " 520: 'crib, cot',\n",
       " 521: 'Crock Pot',\n",
       " 522: 'croquet ball',\n",
       " 523: 'crutch',\n",
       " 524: 'cuirass',\n",
       " 525: 'dam, dike, dyke',\n",
       " 526: 'desk',\n",
       " 527: 'desktop computer',\n",
       " 528: 'dial telephone, dial phone',\n",
       " 529: 'diaper, nappy, napkin',\n",
       " 530: 'digital clock',\n",
       " 531: 'digital watch',\n",
       " 532: 'dining table, board',\n",
       " 533: 'dishrag, dishcloth',\n",
       " 534: 'dishwasher, dish washer, dishwashing machine',\n",
       " 535: 'disk brake, disc brake',\n",
       " 536: 'dock, dockage, docking facility',\n",
       " 537: 'dogsled, dog sled, dog sleigh',\n",
       " 538: 'dome',\n",
       " 539: 'doormat, welcome mat',\n",
       " 540: 'drilling platform, offshore rig',\n",
       " 541: 'drum, membranophone, tympan',\n",
       " 542: 'drumstick',\n",
       " 543: 'dumbbell',\n",
       " 544: 'Dutch oven',\n",
       " 545: 'electric fan, blower',\n",
       " 546: 'electric guitar',\n",
       " 547: 'electric locomotive',\n",
       " 548: 'entertainment center',\n",
       " 549: 'envelope',\n",
       " 550: 'espresso maker',\n",
       " 551: 'face powder',\n",
       " 552: 'feather boa, boa',\n",
       " 553: 'file, file cabinet, filing cabinet',\n",
       " 554: 'fireboat',\n",
       " 555: 'fire engine, fire truck',\n",
       " 556: 'fire screen, fireguard',\n",
       " 557: 'flagpole, flagstaff',\n",
       " 558: 'flute, transverse flute',\n",
       " 559: 'folding chair',\n",
       " 560: 'football helmet',\n",
       " 561: 'forklift',\n",
       " 562: 'fountain',\n",
       " 563: 'fountain pen',\n",
       " 564: 'four-poster',\n",
       " 565: 'freight car',\n",
       " 566: 'French horn, horn',\n",
       " 567: 'frying pan, frypan, skillet',\n",
       " 568: 'fur coat',\n",
       " 569: 'garbage truck, dustcart',\n",
       " 570: 'gasmask, respirator, gas helmet',\n",
       " 571: 'gas pump, gasoline pump, petrol pump, island dispenser',\n",
       " 572: 'goblet',\n",
       " 573: 'go-kart',\n",
       " 574: 'golf ball',\n",
       " 575: 'golfcart, golf cart',\n",
       " 576: 'gondola',\n",
       " 577: 'gong, tam-tam',\n",
       " 578: 'gown',\n",
       " 579: 'grand piano, grand',\n",
       " 580: 'greenhouse, nursery, glasshouse',\n",
       " 581: 'grille, radiator grille',\n",
       " 582: 'grocery store, grocery, food market, market',\n",
       " 583: 'guillotine',\n",
       " 584: 'hair slide',\n",
       " 585: 'hair spray',\n",
       " 586: 'half track',\n",
       " 587: 'hammer',\n",
       " 588: 'hamper',\n",
       " 589: 'hand blower, blow dryer, blow drier, hair dryer, hair drier',\n",
       " 590: 'hand-held computer, hand-held microcomputer',\n",
       " 591: 'handkerchief, hankie, hanky, hankey',\n",
       " 592: 'hard disc, hard disk, fixed disk',\n",
       " 593: 'harmonica, mouth organ, harp, mouth harp',\n",
       " 594: 'harp',\n",
       " 595: 'harvester, reaper',\n",
       " 596: 'hatchet',\n",
       " 597: 'holster',\n",
       " 598: 'home theater, home theatre',\n",
       " 599: 'honeycomb',\n",
       " 600: 'hook, claw',\n",
       " 601: 'hoopskirt, crinoline',\n",
       " 602: 'horizontal bar, high bar',\n",
       " 603: 'horse cart, horse-cart',\n",
       " 604: 'hourglass',\n",
       " 605: 'iPod',\n",
       " 606: 'iron, smoothing iron',\n",
       " 607: \"jack-o'-lantern\",\n",
       " 608: 'jean, blue jean, denim',\n",
       " 609: 'jeep, landrover',\n",
       " 610: 'jersey, T-shirt, tee shirt',\n",
       " 611: 'jigsaw puzzle',\n",
       " 612: 'jinrikisha, ricksha, rickshaw',\n",
       " 613: 'joystick',\n",
       " 614: 'kimono',\n",
       " 615: 'knee pad',\n",
       " 616: 'knot',\n",
       " 617: 'lab coat, laboratory coat',\n",
       " 618: 'ladle',\n",
       " 619: 'lampshade, lamp shade',\n",
       " 620: 'laptop, laptop computer',\n",
       " 621: 'lawn mower, mower',\n",
       " 622: 'lens cap, lens cover',\n",
       " 623: 'letter opener, paper knife, paperknife',\n",
       " 624: 'library',\n",
       " 625: 'lifeboat',\n",
       " 626: 'lighter, light, igniter, ignitor',\n",
       " 627: 'limousine, limo',\n",
       " 628: 'liner, ocean liner',\n",
       " 629: 'lipstick, lip rouge',\n",
       " 630: 'Loafer',\n",
       " 631: 'lotion',\n",
       " 632: 'loudspeaker, speaker, speaker unit, loudspeaker system, speaker system',\n",
       " 633: \"loupe, jeweler's loupe\",\n",
       " 634: 'lumbermill, sawmill',\n",
       " 635: 'magnetic compass',\n",
       " 636: 'mailbag, postbag',\n",
       " 637: 'mailbox, letter box',\n",
       " 638: 'maillot',\n",
       " 639: 'maillot, tank suit',\n",
       " 640: 'manhole cover',\n",
       " 641: 'maraca',\n",
       " 642: 'marimba, xylophone',\n",
       " 643: 'mask',\n",
       " 644: 'matchstick',\n",
       " 645: 'maypole',\n",
       " 646: 'maze, labyrinth',\n",
       " 647: 'measuring cup',\n",
       " 648: 'medicine chest, medicine cabinet',\n",
       " 649: 'megalith, megalithic structure',\n",
       " 650: 'microphone, mike',\n",
       " 651: 'microwave, microwave oven',\n",
       " 652: 'military uniform',\n",
       " 653: 'milk can',\n",
       " 654: 'minibus',\n",
       " 655: 'miniskirt, mini',\n",
       " 656: 'minivan',\n",
       " 657: 'missile',\n",
       " 658: 'mitten',\n",
       " 659: 'mixing bowl',\n",
       " 660: 'mobile home, manufactured home',\n",
       " 661: 'Model T',\n",
       " 662: 'modem',\n",
       " 663: 'monastery',\n",
       " 664: 'monitor',\n",
       " 665: 'moped',\n",
       " 666: 'mortar',\n",
       " 667: 'mortarboard',\n",
       " 668: 'mosque',\n",
       " 669: 'mosquito net',\n",
       " 670: 'motor scooter, scooter',\n",
       " 671: 'mountain bike, all-terrain bike, off-roader',\n",
       " 672: 'mountain tent',\n",
       " 673: 'mouse, computer mouse',\n",
       " 674: 'mousetrap',\n",
       " 675: 'moving van',\n",
       " 676: 'muzzle',\n",
       " 677: 'nail',\n",
       " 678: 'neck brace',\n",
       " 679: 'necklace',\n",
       " 680: 'nipple',\n",
       " 681: 'notebook, notebook computer',\n",
       " 682: 'obelisk',\n",
       " 683: 'oboe, hautboy, hautbois',\n",
       " 684: 'ocarina, sweet potato',\n",
       " 685: 'odometer, hodometer, mileometer, milometer',\n",
       " 686: 'oil filter',\n",
       " 687: 'organ, pipe organ',\n",
       " 688: 'oscilloscope, scope, cathode-ray oscilloscope, CRO',\n",
       " 689: 'overskirt',\n",
       " 690: 'oxcart',\n",
       " 691: 'oxygen mask',\n",
       " 692: 'packet',\n",
       " 693: 'paddle, boat paddle',\n",
       " 694: 'paddlewheel, paddle wheel',\n",
       " 695: 'padlock',\n",
       " 696: 'paintbrush',\n",
       " 697: \"pajama, pyjama, pj's, jammies\",\n",
       " 698: 'palace',\n",
       " 699: 'panpipe, pandean pipe, syrinx',\n",
       " 700: 'paper towel',\n",
       " 701: 'parachute, chute',\n",
       " 702: 'parallel bars, bars',\n",
       " 703: 'park bench',\n",
       " 704: 'parking meter',\n",
       " 705: 'passenger car, coach, carriage',\n",
       " 706: 'patio, terrace',\n",
       " 707: 'pay-phone, pay-station',\n",
       " 708: 'pedestal, plinth, footstall',\n",
       " 709: 'pencil box, pencil case',\n",
       " 710: 'pencil sharpener',\n",
       " 711: 'perfume, essence',\n",
       " 712: 'Petri dish',\n",
       " 713: 'photocopier',\n",
       " 714: 'pick, plectrum, plectron',\n",
       " 715: 'pickelhaube',\n",
       " 716: 'picket fence, paling',\n",
       " 717: 'pickup, pickup truck',\n",
       " 718: 'pier',\n",
       " 719: 'piggy bank, penny bank',\n",
       " 720: 'pill bottle',\n",
       " 721: 'pillow',\n",
       " 722: 'ping-pong ball',\n",
       " 723: 'pinwheel',\n",
       " 724: 'pirate, pirate ship',\n",
       " 725: 'pitcher, ewer',\n",
       " 726: \"plane, carpenter's plane, woodworking plane\",\n",
       " 727: 'planetarium',\n",
       " 728: 'plastic bag',\n",
       " 729: 'plate rack',\n",
       " 730: 'plow, plough',\n",
       " 731: \"plunger, plumber's helper\",\n",
       " 732: 'Polaroid camera, Polaroid Land camera',\n",
       " 733: 'pole',\n",
       " 734: 'police van, police wagon, paddy wagon, patrol wagon, wagon, black Maria',\n",
       " 735: 'poncho',\n",
       " 736: 'pool table, billiard table, snooker table',\n",
       " 737: 'pop bottle, soda bottle',\n",
       " 738: 'pot, flowerpot',\n",
       " 739: \"potter's wheel\",\n",
       " 740: 'power drill',\n",
       " 741: 'prayer rug, prayer mat',\n",
       " 742: 'printer',\n",
       " 743: 'prison, prison house',\n",
       " 744: 'projectile, missile',\n",
       " 745: 'projector',\n",
       " 746: 'puck, hockey puck',\n",
       " 747: 'punching bag, punch bag, punching ball, punchball',\n",
       " 748: 'purse',\n",
       " 749: 'quill, quill pen',\n",
       " 750: 'quilt, comforter, comfort, puff',\n",
       " 751: 'racer, race car, racing car',\n",
       " 752: 'racket, racquet',\n",
       " 753: 'radiator',\n",
       " 754: 'radio, wireless',\n",
       " 755: 'radio telescope, radio reflector',\n",
       " 756: 'rain barrel',\n",
       " 757: 'recreational vehicle, RV, R.V.',\n",
       " 758: 'reel',\n",
       " 759: 'reflex camera',\n",
       " 760: 'refrigerator, icebox',\n",
       " 761: 'remote control, remote',\n",
       " 762: 'restaurant, eating house, eating place, eatery',\n",
       " 763: 'revolver, six-gun, six-shooter',\n",
       " 764: 'rifle',\n",
       " 765: 'rocking chair, rocker',\n",
       " 766: 'rotisserie',\n",
       " 767: 'rubber eraser, rubber, pencil eraser',\n",
       " 768: 'rugby ball',\n",
       " 769: 'rule, ruler',\n",
       " 770: 'running shoe',\n",
       " 771: 'safe',\n",
       " 772: 'safety pin',\n",
       " 773: 'saltshaker, salt shaker',\n",
       " 774: 'sandal',\n",
       " 775: 'sarong',\n",
       " 776: 'sax, saxophone',\n",
       " 777: 'scabbard',\n",
       " 778: 'scale, weighing machine',\n",
       " 779: 'school bus',\n",
       " 780: 'schooner',\n",
       " 781: 'scoreboard',\n",
       " 782: 'screen, CRT screen',\n",
       " 783: 'screw',\n",
       " 784: 'screwdriver',\n",
       " 785: 'seat belt, seatbelt',\n",
       " 786: 'sewing machine',\n",
       " 787: 'shield, buckler',\n",
       " 788: 'shoe shop, shoe-shop, shoe store',\n",
       " 789: 'shoji',\n",
       " 790: 'shopping basket',\n",
       " 791: 'shopping cart',\n",
       " 792: 'shovel',\n",
       " 793: 'shower cap',\n",
       " 794: 'shower curtain',\n",
       " 795: 'ski',\n",
       " 796: 'ski mask',\n",
       " 797: 'sleeping bag',\n",
       " 798: 'slide rule, slipstick',\n",
       " 799: 'sliding door',\n",
       " 800: 'slot, one-armed bandit',\n",
       " 801: 'snorkel',\n",
       " 802: 'snowmobile',\n",
       " 803: 'snowplow, snowplough',\n",
       " 804: 'soap dispenser',\n",
       " 805: 'soccer ball',\n",
       " 806: 'sock',\n",
       " 807: 'solar dish, solar collector, solar furnace',\n",
       " 808: 'sombrero',\n",
       " 809: 'soup bowl',\n",
       " 810: 'space bar',\n",
       " 811: 'space heater',\n",
       " 812: 'space shuttle',\n",
       " 813: 'spatula',\n",
       " 814: 'speedboat',\n",
       " 815: \"spider web, spider's web\",\n",
       " 816: 'spindle',\n",
       " 817: 'sports car, sport car',\n",
       " 818: 'spotlight, spot',\n",
       " 819: 'stage',\n",
       " 820: 'steam locomotive',\n",
       " 821: 'steel arch bridge',\n",
       " 822: 'steel drum',\n",
       " 823: 'stethoscope',\n",
       " 824: 'stole',\n",
       " 825: 'stone wall',\n",
       " 826: 'stopwatch, stop watch',\n",
       " 827: 'stove',\n",
       " 828: 'strainer',\n",
       " 829: 'streetcar, tram, tramcar, trolley, trolley car',\n",
       " 830: 'stretcher',\n",
       " 831: 'studio couch, day bed',\n",
       " 832: 'stupa, tope',\n",
       " 833: 'submarine, pigboat, sub, U-boat',\n",
       " 834: 'suit, suit of clothes',\n",
       " 835: 'sundial',\n",
       " 836: 'sunglass',\n",
       " 837: 'sunglasses, dark glasses, shades',\n",
       " 838: 'sunscreen, sunblock, sun blocker',\n",
       " 839: 'suspension bridge',\n",
       " 840: 'swab, swob, mop',\n",
       " 841: 'sweatshirt',\n",
       " 842: 'swimming trunks, bathing trunks',\n",
       " 843: 'swing',\n",
       " 844: 'switch, electric switch, electrical switch',\n",
       " 845: 'syringe',\n",
       " 846: 'table lamp',\n",
       " 847: 'tank, army tank, armored combat vehicle, armoured combat vehicle',\n",
       " 848: 'tape player',\n",
       " 849: 'teapot',\n",
       " 850: 'teddy, teddy bear',\n",
       " 851: 'television, television system',\n",
       " 852: 'tennis ball',\n",
       " 853: 'thatch, thatched roof',\n",
       " 854: 'theater curtain, theatre curtain',\n",
       " 855: 'thimble',\n",
       " 856: 'thresher, thrasher, threshing machine',\n",
       " 857: 'throne',\n",
       " 858: 'tile roof',\n",
       " 859: 'toaster',\n",
       " 860: 'tobacco shop, tobacconist shop, tobacconist',\n",
       " 861: 'toilet seat',\n",
       " 862: 'torch',\n",
       " 863: 'totem pole',\n",
       " 864: 'tow truck, tow car, wrecker',\n",
       " 865: 'toyshop',\n",
       " 866: 'tractor',\n",
       " 867: 'trailer truck, tractor trailer, trucking rig, rig, articulated lorry, semi',\n",
       " 868: 'tray',\n",
       " 869: 'trench coat',\n",
       " 870: 'tricycle, trike, velocipede',\n",
       " 871: 'trimaran',\n",
       " 872: 'tripod',\n",
       " 873: 'triumphal arch',\n",
       " 874: 'trolleybus, trolley coach, trackless trolley',\n",
       " 875: 'trombone',\n",
       " 876: 'tub, vat',\n",
       " 877: 'turnstile',\n",
       " 878: 'typewriter keyboard',\n",
       " 879: 'umbrella',\n",
       " 880: 'unicycle, monocycle',\n",
       " 881: 'upright, upright piano',\n",
       " 882: 'vacuum, vacuum cleaner',\n",
       " 883: 'vase',\n",
       " 884: 'vault',\n",
       " 885: 'velvet',\n",
       " 886: 'vending machine',\n",
       " 887: 'vestment',\n",
       " 888: 'viaduct',\n",
       " 889: 'violin, fiddle',\n",
       " 890: 'volleyball',\n",
       " 891: 'waffle iron',\n",
       " 892: 'wall clock',\n",
       " 893: 'wallet, billfold, notecase, pocketbook',\n",
       " 894: 'wardrobe, closet, press',\n",
       " 895: 'warplane, military plane',\n",
       " 896: 'washbasin, handbasin, washbowl, lavabo, wash-hand basin',\n",
       " 897: 'washer, automatic washer, washing machine',\n",
       " 898: 'water bottle',\n",
       " 899: 'water jug',\n",
       " 900: 'water tower',\n",
       " 901: 'whiskey jug',\n",
       " 902: 'whistle',\n",
       " 903: 'wig',\n",
       " 904: 'window screen',\n",
       " 905: 'window shade',\n",
       " 906: 'Windsor tie',\n",
       " 907: 'wine bottle',\n",
       " 908: 'wing',\n",
       " 909: 'wok',\n",
       " 910: 'wooden spoon',\n",
       " 911: 'wool, woolen, woollen',\n",
       " 912: 'worm fence, snake fence, snake-rail fence, Virginia fence',\n",
       " 913: 'wreck',\n",
       " 914: 'yawl',\n",
       " 915: 'yurt',\n",
       " 916: 'web site, website, internet site, site',\n",
       " 917: 'comic book',\n",
       " 918: 'crossword puzzle, crossword',\n",
       " 919: 'street sign',\n",
       " 920: 'traffic light, traffic signal, stoplight',\n",
       " 921: 'book jacket, dust cover, dust jacket, dust wrapper',\n",
       " 922: 'menu',\n",
       " 923: 'plate',\n",
       " 924: 'guacamole',\n",
       " 925: 'consomme',\n",
       " 926: 'hot pot, hotpot',\n",
       " 927: 'trifle',\n",
       " 928: 'ice cream, icecream',\n",
       " 929: 'ice lolly, lolly, lollipop, popsicle',\n",
       " 930: 'French loaf',\n",
       " 931: 'bagel, beigel',\n",
       " 932: 'pretzel',\n",
       " 933: 'cheeseburger',\n",
       " 934: 'hotdog, hot dog, red hot',\n",
       " 935: 'mashed potato',\n",
       " 936: 'head cabbage',\n",
       " 937: 'broccoli',\n",
       " 938: 'cauliflower',\n",
       " 939: 'zucchini, courgette',\n",
       " 940: 'spaghetti squash',\n",
       " 941: 'acorn squash',\n",
       " 942: 'butternut squash',\n",
       " 943: 'cucumber, cuke',\n",
       " 944: 'artichoke, globe artichoke',\n",
       " 945: 'bell pepper',\n",
       " 946: 'cardoon',\n",
       " 947: 'mushroom',\n",
       " 948: 'Granny Smith',\n",
       " 949: 'strawberry',\n",
       " 950: 'orange',\n",
       " 951: 'lemon',\n",
       " 952: 'fig',\n",
       " 953: 'pineapple, ananas',\n",
       " 954: 'banana',\n",
       " 955: 'jackfruit, jak, jack',\n",
       " 956: 'custard apple',\n",
       " 957: 'pomegranate',\n",
       " 958: 'hay',\n",
       " 959: 'carbonara',\n",
       " 960: 'chocolate sauce, chocolate syrup',\n",
       " 961: 'dough',\n",
       " 962: 'meat loaf, meatloaf',\n",
       " 963: 'pizza, pizza pie',\n",
       " 964: 'potpie',\n",
       " 965: 'burrito',\n",
       " 966: 'red wine',\n",
       " 967: 'espresso',\n",
       " 968: 'cup',\n",
       " 969: 'eggnog',\n",
       " 970: 'alp',\n",
       " 971: 'bubble',\n",
       " 972: 'cliff, drop, drop-off',\n",
       " 973: 'coral reef',\n",
       " 974: 'geyser',\n",
       " 975: 'lakeside, lakeshore',\n",
       " 976: 'promontory, headland, head, foreland',\n",
       " 977: 'sandbar, sand bar',\n",
       " 978: 'seashore, coast, seacoast, sea-coast',\n",
       " 979: 'valley, vale',\n",
       " 980: 'volcano',\n",
       " 981: 'ballplayer, baseball player',\n",
       " 982: 'groom, bridegroom',\n",
       " 983: 'scuba diver',\n",
       " 984: 'rapeseed',\n",
       " 985: 'daisy',\n",
       " 986: \"yellow lady's slipper, yellow lady-slipper, Cypripedium calceolus, Cypripedium parviflorum\",\n",
       " 987: 'corn',\n",
       " 988: 'acorn',\n",
       " 989: 'hip, rose hip, rosehip',\n",
       " 990: 'buckeye, horse chestnut, conker',\n",
       " 991: 'coral fungus',\n",
       " 992: 'agaric',\n",
       " 993: 'gyromitra',\n",
       " 994: 'stinkhorn, carrion fungus',\n",
       " 995: 'earthstar',\n",
       " 996: 'hen-of-the-woods, hen of the woods, Polyporus frondosus, Grifola frondosa',\n",
       " 997: 'bolete',\n",
       " 998: 'ear, spike, capitulum',\n",
       " 999: 'toilet tissue, toilet paper, bathroom tissue'}"
      ]
     },
     "execution_count": 67,
     "metadata": {},
     "output_type": "execute_result"
    }
   ],
   "source": [
    "# 분류 class를 확인\n",
    "pipe.model.config.id2label"
   ]
  },
  {
   "cell_type": "code",
   "execution_count": 69,
   "id": "300bc378",
   "metadata": {},
   "outputs": [
    {
     "data": {
      "text/plain": [
       "[{'label': 'Egyptian cat', 'score': 0.8531320691108704},\n",
       " {'label': 'tabby, tabby cat', 'score': 0.04750381037592888},\n",
       " {'label': 'tiger cat', 'score': 0.034866224974393845}]"
      ]
     },
     "execution_count": 69,
     "metadata": {},
     "output_type": "execute_result"
    }
   ],
   "source": [
    "pipe(url, top_k=3)"
   ]
  },
  {
   "cell_type": "markdown",
   "id": "d2e2b6a3",
   "metadata": {},
   "source": [
    "### Object Detection"
   ]
  },
  {
   "cell_type": "code",
   "execution_count": 72,
   "id": "b1416074-2c80-4df1-b4e7-38691a7fedc7",
   "metadata": {},
   "outputs": [
    {
     "name": "stderr",
     "output_type": "stream",
     "text": [
      "c:\\Anaconda3\\envs\\dl\\Lib\\site-packages\\torch\\nn\\modules\\module.py:2409: UserWarning: for conv1.weight: copying from a non-meta parameter in the checkpoint to a meta parameter in the current model, which is a no-op. (Did you mean to pass `assign=True` to assign items in the state dictionary to their corresponding key in the module instead of copying them in place?)\n",
      "  warnings.warn(\n",
      "c:\\Anaconda3\\envs\\dl\\Lib\\site-packages\\torch\\nn\\modules\\module.py:2409: UserWarning: for bn1.weight: copying from a non-meta parameter in the checkpoint to a meta parameter in the current model, which is a no-op. (Did you mean to pass `assign=True` to assign items in the state dictionary to their corresponding key in the module instead of copying them in place?)\n",
      "  warnings.warn(\n",
      "c:\\Anaconda3\\envs\\dl\\Lib\\site-packages\\torch\\nn\\modules\\module.py:2409: UserWarning: for bn1.bias: copying from a non-meta parameter in the checkpoint to a meta parameter in the current model, which is a no-op. (Did you mean to pass `assign=True` to assign items in the state dictionary to their corresponding key in the module instead of copying them in place?)\n",
      "  warnings.warn(\n",
      "c:\\Anaconda3\\envs\\dl\\Lib\\site-packages\\torch\\nn\\modules\\module.py:2409: UserWarning: for layer1.0.conv1.weight: copying from a non-meta parameter in the checkpoint to a meta parameter in the current model, which is a no-op. (Did you mean to pass `assign=True` to assign items in the state dictionary to their corresponding key in the module instead of copying them in place?)\n",
      "  warnings.warn(\n",
      "c:\\Anaconda3\\envs\\dl\\Lib\\site-packages\\torch\\nn\\modules\\module.py:2409: UserWarning: for layer1.0.bn1.weight: copying from a non-meta parameter in the checkpoint to a meta parameter in the current model, which is a no-op. (Did you mean to pass `assign=True` to assign items in the state dictionary to their corresponding key in the module instead of copying them in place?)\n",
      "  warnings.warn(\n",
      "c:\\Anaconda3\\envs\\dl\\Lib\\site-packages\\torch\\nn\\modules\\module.py:2409: UserWarning: for layer1.0.bn1.bias: copying from a non-meta parameter in the checkpoint to a meta parameter in the current model, which is a no-op. (Did you mean to pass `assign=True` to assign items in the state dictionary to their corresponding key in the module instead of copying them in place?)\n",
      "  warnings.warn(\n",
      "c:\\Anaconda3\\envs\\dl\\Lib\\site-packages\\torch\\nn\\modules\\module.py:2409: UserWarning: for layer1.0.conv2.weight: copying from a non-meta parameter in the checkpoint to a meta parameter in the current model, which is a no-op. (Did you mean to pass `assign=True` to assign items in the state dictionary to their corresponding key in the module instead of copying them in place?)\n",
      "  warnings.warn(\n",
      "c:\\Anaconda3\\envs\\dl\\Lib\\site-packages\\torch\\nn\\modules\\module.py:2409: UserWarning: for layer1.0.bn2.weight: copying from a non-meta parameter in the checkpoint to a meta parameter in the current model, which is a no-op. (Did you mean to pass `assign=True` to assign items in the state dictionary to their corresponding key in the module instead of copying them in place?)\n",
      "  warnings.warn(\n",
      "c:\\Anaconda3\\envs\\dl\\Lib\\site-packages\\torch\\nn\\modules\\module.py:2409: UserWarning: for layer1.0.bn2.bias: copying from a non-meta parameter in the checkpoint to a meta parameter in the current model, which is a no-op. (Did you mean to pass `assign=True` to assign items in the state dictionary to their corresponding key in the module instead of copying them in place?)\n",
      "  warnings.warn(\n",
      "c:\\Anaconda3\\envs\\dl\\Lib\\site-packages\\torch\\nn\\modules\\module.py:2409: UserWarning: for layer1.0.conv3.weight: copying from a non-meta parameter in the checkpoint to a meta parameter in the current model, which is a no-op. (Did you mean to pass `assign=True` to assign items in the state dictionary to their corresponding key in the module instead of copying them in place?)\n",
      "  warnings.warn(\n",
      "c:\\Anaconda3\\envs\\dl\\Lib\\site-packages\\torch\\nn\\modules\\module.py:2409: UserWarning: for layer1.0.bn3.weight: copying from a non-meta parameter in the checkpoint to a meta parameter in the current model, which is a no-op. (Did you mean to pass `assign=True` to assign items in the state dictionary to their corresponding key in the module instead of copying them in place?)\n",
      "  warnings.warn(\n",
      "c:\\Anaconda3\\envs\\dl\\Lib\\site-packages\\torch\\nn\\modules\\module.py:2409: UserWarning: for layer1.0.bn3.bias: copying from a non-meta parameter in the checkpoint to a meta parameter in the current model, which is a no-op. (Did you mean to pass `assign=True` to assign items in the state dictionary to their corresponding key in the module instead of copying them in place?)\n",
      "  warnings.warn(\n",
      "c:\\Anaconda3\\envs\\dl\\Lib\\site-packages\\torch\\nn\\modules\\module.py:2409: UserWarning: for layer1.0.downsample.0.weight: copying from a non-meta parameter in the checkpoint to a meta parameter in the current model, which is a no-op. (Did you mean to pass `assign=True` to assign items in the state dictionary to their corresponding key in the module instead of copying them in place?)\n",
      "  warnings.warn(\n",
      "c:\\Anaconda3\\envs\\dl\\Lib\\site-packages\\torch\\nn\\modules\\module.py:2409: UserWarning: for layer1.0.downsample.1.weight: copying from a non-meta parameter in the checkpoint to a meta parameter in the current model, which is a no-op. (Did you mean to pass `assign=True` to assign items in the state dictionary to their corresponding key in the module instead of copying them in place?)\n",
      "  warnings.warn(\n",
      "c:\\Anaconda3\\envs\\dl\\Lib\\site-packages\\torch\\nn\\modules\\module.py:2409: UserWarning: for layer1.0.downsample.1.bias: copying from a non-meta parameter in the checkpoint to a meta parameter in the current model, which is a no-op. (Did you mean to pass `assign=True` to assign items in the state dictionary to their corresponding key in the module instead of copying them in place?)\n",
      "  warnings.warn(\n",
      "c:\\Anaconda3\\envs\\dl\\Lib\\site-packages\\torch\\nn\\modules\\module.py:2409: UserWarning: for layer1.1.conv1.weight: copying from a non-meta parameter in the checkpoint to a meta parameter in the current model, which is a no-op. (Did you mean to pass `assign=True` to assign items in the state dictionary to their corresponding key in the module instead of copying them in place?)\n",
      "  warnings.warn(\n",
      "c:\\Anaconda3\\envs\\dl\\Lib\\site-packages\\torch\\nn\\modules\\module.py:2409: UserWarning: for layer1.1.bn1.weight: copying from a non-meta parameter in the checkpoint to a meta parameter in the current model, which is a no-op. (Did you mean to pass `assign=True` to assign items in the state dictionary to their corresponding key in the module instead of copying them in place?)\n",
      "  warnings.warn(\n",
      "c:\\Anaconda3\\envs\\dl\\Lib\\site-packages\\torch\\nn\\modules\\module.py:2409: UserWarning: for layer1.1.bn1.bias: copying from a non-meta parameter in the checkpoint to a meta parameter in the current model, which is a no-op. (Did you mean to pass `assign=True` to assign items in the state dictionary to their corresponding key in the module instead of copying them in place?)\n",
      "  warnings.warn(\n",
      "c:\\Anaconda3\\envs\\dl\\Lib\\site-packages\\torch\\nn\\modules\\module.py:2409: UserWarning: for layer1.1.conv2.weight: copying from a non-meta parameter in the checkpoint to a meta parameter in the current model, which is a no-op. (Did you mean to pass `assign=True` to assign items in the state dictionary to their corresponding key in the module instead of copying them in place?)\n",
      "  warnings.warn(\n",
      "c:\\Anaconda3\\envs\\dl\\Lib\\site-packages\\torch\\nn\\modules\\module.py:2409: UserWarning: for layer1.1.bn2.weight: copying from a non-meta parameter in the checkpoint to a meta parameter in the current model, which is a no-op. (Did you mean to pass `assign=True` to assign items in the state dictionary to their corresponding key in the module instead of copying them in place?)\n",
      "  warnings.warn(\n",
      "c:\\Anaconda3\\envs\\dl\\Lib\\site-packages\\torch\\nn\\modules\\module.py:2409: UserWarning: for layer1.1.bn2.bias: copying from a non-meta parameter in the checkpoint to a meta parameter in the current model, which is a no-op. (Did you mean to pass `assign=True` to assign items in the state dictionary to their corresponding key in the module instead of copying them in place?)\n",
      "  warnings.warn(\n",
      "c:\\Anaconda3\\envs\\dl\\Lib\\site-packages\\torch\\nn\\modules\\module.py:2409: UserWarning: for layer1.1.conv3.weight: copying from a non-meta parameter in the checkpoint to a meta parameter in the current model, which is a no-op. (Did you mean to pass `assign=True` to assign items in the state dictionary to their corresponding key in the module instead of copying them in place?)\n",
      "  warnings.warn(\n",
      "c:\\Anaconda3\\envs\\dl\\Lib\\site-packages\\torch\\nn\\modules\\module.py:2409: UserWarning: for layer1.1.bn3.weight: copying from a non-meta parameter in the checkpoint to a meta parameter in the current model, which is a no-op. (Did you mean to pass `assign=True` to assign items in the state dictionary to their corresponding key in the module instead of copying them in place?)\n",
      "  warnings.warn(\n",
      "c:\\Anaconda3\\envs\\dl\\Lib\\site-packages\\torch\\nn\\modules\\module.py:2409: UserWarning: for layer1.1.bn3.bias: copying from a non-meta parameter in the checkpoint to a meta parameter in the current model, which is a no-op. (Did you mean to pass `assign=True` to assign items in the state dictionary to their corresponding key in the module instead of copying them in place?)\n",
      "  warnings.warn(\n",
      "c:\\Anaconda3\\envs\\dl\\Lib\\site-packages\\torch\\nn\\modules\\module.py:2409: UserWarning: for layer1.2.conv1.weight: copying from a non-meta parameter in the checkpoint to a meta parameter in the current model, which is a no-op. (Did you mean to pass `assign=True` to assign items in the state dictionary to their corresponding key in the module instead of copying them in place?)\n",
      "  warnings.warn(\n",
      "c:\\Anaconda3\\envs\\dl\\Lib\\site-packages\\torch\\nn\\modules\\module.py:2409: UserWarning: for layer1.2.bn1.weight: copying from a non-meta parameter in the checkpoint to a meta parameter in the current model, which is a no-op. (Did you mean to pass `assign=True` to assign items in the state dictionary to their corresponding key in the module instead of copying them in place?)\n",
      "  warnings.warn(\n",
      "c:\\Anaconda3\\envs\\dl\\Lib\\site-packages\\torch\\nn\\modules\\module.py:2409: UserWarning: for layer1.2.bn1.bias: copying from a non-meta parameter in the checkpoint to a meta parameter in the current model, which is a no-op. (Did you mean to pass `assign=True` to assign items in the state dictionary to their corresponding key in the module instead of copying them in place?)\n",
      "  warnings.warn(\n",
      "c:\\Anaconda3\\envs\\dl\\Lib\\site-packages\\torch\\nn\\modules\\module.py:2409: UserWarning: for layer1.2.conv2.weight: copying from a non-meta parameter in the checkpoint to a meta parameter in the current model, which is a no-op. (Did you mean to pass `assign=True` to assign items in the state dictionary to their corresponding key in the module instead of copying them in place?)\n",
      "  warnings.warn(\n",
      "c:\\Anaconda3\\envs\\dl\\Lib\\site-packages\\torch\\nn\\modules\\module.py:2409: UserWarning: for layer1.2.bn2.weight: copying from a non-meta parameter in the checkpoint to a meta parameter in the current model, which is a no-op. (Did you mean to pass `assign=True` to assign items in the state dictionary to their corresponding key in the module instead of copying them in place?)\n",
      "  warnings.warn(\n",
      "c:\\Anaconda3\\envs\\dl\\Lib\\site-packages\\torch\\nn\\modules\\module.py:2409: UserWarning: for layer1.2.bn2.bias: copying from a non-meta parameter in the checkpoint to a meta parameter in the current model, which is a no-op. (Did you mean to pass `assign=True` to assign items in the state dictionary to their corresponding key in the module instead of copying them in place?)\n",
      "  warnings.warn(\n",
      "c:\\Anaconda3\\envs\\dl\\Lib\\site-packages\\torch\\nn\\modules\\module.py:2409: UserWarning: for layer1.2.conv3.weight: copying from a non-meta parameter in the checkpoint to a meta parameter in the current model, which is a no-op. (Did you mean to pass `assign=True` to assign items in the state dictionary to their corresponding key in the module instead of copying them in place?)\n",
      "  warnings.warn(\n",
      "c:\\Anaconda3\\envs\\dl\\Lib\\site-packages\\torch\\nn\\modules\\module.py:2409: UserWarning: for layer1.2.bn3.weight: copying from a non-meta parameter in the checkpoint to a meta parameter in the current model, which is a no-op. (Did you mean to pass `assign=True` to assign items in the state dictionary to their corresponding key in the module instead of copying them in place?)\n",
      "  warnings.warn(\n",
      "c:\\Anaconda3\\envs\\dl\\Lib\\site-packages\\torch\\nn\\modules\\module.py:2409: UserWarning: for layer1.2.bn3.bias: copying from a non-meta parameter in the checkpoint to a meta parameter in the current model, which is a no-op. (Did you mean to pass `assign=True` to assign items in the state dictionary to their corresponding key in the module instead of copying them in place?)\n",
      "  warnings.warn(\n",
      "c:\\Anaconda3\\envs\\dl\\Lib\\site-packages\\torch\\nn\\modules\\module.py:2409: UserWarning: for layer2.0.conv1.weight: copying from a non-meta parameter in the checkpoint to a meta parameter in the current model, which is a no-op. (Did you mean to pass `assign=True` to assign items in the state dictionary to their corresponding key in the module instead of copying them in place?)\n",
      "  warnings.warn(\n",
      "c:\\Anaconda3\\envs\\dl\\Lib\\site-packages\\torch\\nn\\modules\\module.py:2409: UserWarning: for layer2.0.bn1.weight: copying from a non-meta parameter in the checkpoint to a meta parameter in the current model, which is a no-op. (Did you mean to pass `assign=True` to assign items in the state dictionary to their corresponding key in the module instead of copying them in place?)\n",
      "  warnings.warn(\n",
      "c:\\Anaconda3\\envs\\dl\\Lib\\site-packages\\torch\\nn\\modules\\module.py:2409: UserWarning: for layer2.0.bn1.bias: copying from a non-meta parameter in the checkpoint to a meta parameter in the current model, which is a no-op. (Did you mean to pass `assign=True` to assign items in the state dictionary to their corresponding key in the module instead of copying them in place?)\n",
      "  warnings.warn(\n",
      "c:\\Anaconda3\\envs\\dl\\Lib\\site-packages\\torch\\nn\\modules\\module.py:2409: UserWarning: for layer2.0.conv2.weight: copying from a non-meta parameter in the checkpoint to a meta parameter in the current model, which is a no-op. (Did you mean to pass `assign=True` to assign items in the state dictionary to their corresponding key in the module instead of copying them in place?)\n",
      "  warnings.warn(\n",
      "c:\\Anaconda3\\envs\\dl\\Lib\\site-packages\\torch\\nn\\modules\\module.py:2409: UserWarning: for layer2.0.bn2.weight: copying from a non-meta parameter in the checkpoint to a meta parameter in the current model, which is a no-op. (Did you mean to pass `assign=True` to assign items in the state dictionary to their corresponding key in the module instead of copying them in place?)\n",
      "  warnings.warn(\n",
      "c:\\Anaconda3\\envs\\dl\\Lib\\site-packages\\torch\\nn\\modules\\module.py:2409: UserWarning: for layer2.0.bn2.bias: copying from a non-meta parameter in the checkpoint to a meta parameter in the current model, which is a no-op. (Did you mean to pass `assign=True` to assign items in the state dictionary to their corresponding key in the module instead of copying them in place?)\n",
      "  warnings.warn(\n",
      "c:\\Anaconda3\\envs\\dl\\Lib\\site-packages\\torch\\nn\\modules\\module.py:2409: UserWarning: for layer2.0.conv3.weight: copying from a non-meta parameter in the checkpoint to a meta parameter in the current model, which is a no-op. (Did you mean to pass `assign=True` to assign items in the state dictionary to their corresponding key in the module instead of copying them in place?)\n",
      "  warnings.warn(\n",
      "c:\\Anaconda3\\envs\\dl\\Lib\\site-packages\\torch\\nn\\modules\\module.py:2409: UserWarning: for layer2.0.bn3.weight: copying from a non-meta parameter in the checkpoint to a meta parameter in the current model, which is a no-op. (Did you mean to pass `assign=True` to assign items in the state dictionary to their corresponding key in the module instead of copying them in place?)\n",
      "  warnings.warn(\n",
      "c:\\Anaconda3\\envs\\dl\\Lib\\site-packages\\torch\\nn\\modules\\module.py:2409: UserWarning: for layer2.0.bn3.bias: copying from a non-meta parameter in the checkpoint to a meta parameter in the current model, which is a no-op. (Did you mean to pass `assign=True` to assign items in the state dictionary to their corresponding key in the module instead of copying them in place?)\n",
      "  warnings.warn(\n",
      "c:\\Anaconda3\\envs\\dl\\Lib\\site-packages\\torch\\nn\\modules\\module.py:2409: UserWarning: for layer2.0.downsample.0.weight: copying from a non-meta parameter in the checkpoint to a meta parameter in the current model, which is a no-op. (Did you mean to pass `assign=True` to assign items in the state dictionary to their corresponding key in the module instead of copying them in place?)\n",
      "  warnings.warn(\n",
      "c:\\Anaconda3\\envs\\dl\\Lib\\site-packages\\torch\\nn\\modules\\module.py:2409: UserWarning: for layer2.0.downsample.1.weight: copying from a non-meta parameter in the checkpoint to a meta parameter in the current model, which is a no-op. (Did you mean to pass `assign=True` to assign items in the state dictionary to their corresponding key in the module instead of copying them in place?)\n",
      "  warnings.warn(\n",
      "c:\\Anaconda3\\envs\\dl\\Lib\\site-packages\\torch\\nn\\modules\\module.py:2409: UserWarning: for layer2.0.downsample.1.bias: copying from a non-meta parameter in the checkpoint to a meta parameter in the current model, which is a no-op. (Did you mean to pass `assign=True` to assign items in the state dictionary to their corresponding key in the module instead of copying them in place?)\n",
      "  warnings.warn(\n",
      "c:\\Anaconda3\\envs\\dl\\Lib\\site-packages\\torch\\nn\\modules\\module.py:2409: UserWarning: for layer2.1.conv1.weight: copying from a non-meta parameter in the checkpoint to a meta parameter in the current model, which is a no-op. (Did you mean to pass `assign=True` to assign items in the state dictionary to their corresponding key in the module instead of copying them in place?)\n",
      "  warnings.warn(\n",
      "c:\\Anaconda3\\envs\\dl\\Lib\\site-packages\\torch\\nn\\modules\\module.py:2409: UserWarning: for layer2.1.bn1.weight: copying from a non-meta parameter in the checkpoint to a meta parameter in the current model, which is a no-op. (Did you mean to pass `assign=True` to assign items in the state dictionary to their corresponding key in the module instead of copying them in place?)\n",
      "  warnings.warn(\n",
      "c:\\Anaconda3\\envs\\dl\\Lib\\site-packages\\torch\\nn\\modules\\module.py:2409: UserWarning: for layer2.1.bn1.bias: copying from a non-meta parameter in the checkpoint to a meta parameter in the current model, which is a no-op. (Did you mean to pass `assign=True` to assign items in the state dictionary to their corresponding key in the module instead of copying them in place?)\n",
      "  warnings.warn(\n",
      "c:\\Anaconda3\\envs\\dl\\Lib\\site-packages\\torch\\nn\\modules\\module.py:2409: UserWarning: for layer2.1.conv2.weight: copying from a non-meta parameter in the checkpoint to a meta parameter in the current model, which is a no-op. (Did you mean to pass `assign=True` to assign items in the state dictionary to their corresponding key in the module instead of copying them in place?)\n",
      "  warnings.warn(\n",
      "c:\\Anaconda3\\envs\\dl\\Lib\\site-packages\\torch\\nn\\modules\\module.py:2409: UserWarning: for layer2.1.bn2.weight: copying from a non-meta parameter in the checkpoint to a meta parameter in the current model, which is a no-op. (Did you mean to pass `assign=True` to assign items in the state dictionary to their corresponding key in the module instead of copying them in place?)\n",
      "  warnings.warn(\n",
      "c:\\Anaconda3\\envs\\dl\\Lib\\site-packages\\torch\\nn\\modules\\module.py:2409: UserWarning: for layer2.1.bn2.bias: copying from a non-meta parameter in the checkpoint to a meta parameter in the current model, which is a no-op. (Did you mean to pass `assign=True` to assign items in the state dictionary to their corresponding key in the module instead of copying them in place?)\n",
      "  warnings.warn(\n",
      "c:\\Anaconda3\\envs\\dl\\Lib\\site-packages\\torch\\nn\\modules\\module.py:2409: UserWarning: for layer2.1.conv3.weight: copying from a non-meta parameter in the checkpoint to a meta parameter in the current model, which is a no-op. (Did you mean to pass `assign=True` to assign items in the state dictionary to their corresponding key in the module instead of copying them in place?)\n",
      "  warnings.warn(\n",
      "c:\\Anaconda3\\envs\\dl\\Lib\\site-packages\\torch\\nn\\modules\\module.py:2409: UserWarning: for layer2.1.bn3.weight: copying from a non-meta parameter in the checkpoint to a meta parameter in the current model, which is a no-op. (Did you mean to pass `assign=True` to assign items in the state dictionary to their corresponding key in the module instead of copying them in place?)\n",
      "  warnings.warn(\n",
      "c:\\Anaconda3\\envs\\dl\\Lib\\site-packages\\torch\\nn\\modules\\module.py:2409: UserWarning: for layer2.1.bn3.bias: copying from a non-meta parameter in the checkpoint to a meta parameter in the current model, which is a no-op. (Did you mean to pass `assign=True` to assign items in the state dictionary to their corresponding key in the module instead of copying them in place?)\n",
      "  warnings.warn(\n",
      "c:\\Anaconda3\\envs\\dl\\Lib\\site-packages\\torch\\nn\\modules\\module.py:2409: UserWarning: for layer2.2.conv1.weight: copying from a non-meta parameter in the checkpoint to a meta parameter in the current model, which is a no-op. (Did you mean to pass `assign=True` to assign items in the state dictionary to their corresponding key in the module instead of copying them in place?)\n",
      "  warnings.warn(\n",
      "c:\\Anaconda3\\envs\\dl\\Lib\\site-packages\\torch\\nn\\modules\\module.py:2409: UserWarning: for layer2.2.bn1.weight: copying from a non-meta parameter in the checkpoint to a meta parameter in the current model, which is a no-op. (Did you mean to pass `assign=True` to assign items in the state dictionary to their corresponding key in the module instead of copying them in place?)\n",
      "  warnings.warn(\n",
      "c:\\Anaconda3\\envs\\dl\\Lib\\site-packages\\torch\\nn\\modules\\module.py:2409: UserWarning: for layer2.2.bn1.bias: copying from a non-meta parameter in the checkpoint to a meta parameter in the current model, which is a no-op. (Did you mean to pass `assign=True` to assign items in the state dictionary to their corresponding key in the module instead of copying them in place?)\n",
      "  warnings.warn(\n",
      "c:\\Anaconda3\\envs\\dl\\Lib\\site-packages\\torch\\nn\\modules\\module.py:2409: UserWarning: for layer2.2.conv2.weight: copying from a non-meta parameter in the checkpoint to a meta parameter in the current model, which is a no-op. (Did you mean to pass `assign=True` to assign items in the state dictionary to their corresponding key in the module instead of copying them in place?)\n",
      "  warnings.warn(\n",
      "c:\\Anaconda3\\envs\\dl\\Lib\\site-packages\\torch\\nn\\modules\\module.py:2409: UserWarning: for layer2.2.bn2.weight: copying from a non-meta parameter in the checkpoint to a meta parameter in the current model, which is a no-op. (Did you mean to pass `assign=True` to assign items in the state dictionary to their corresponding key in the module instead of copying them in place?)\n",
      "  warnings.warn(\n",
      "c:\\Anaconda3\\envs\\dl\\Lib\\site-packages\\torch\\nn\\modules\\module.py:2409: UserWarning: for layer2.2.bn2.bias: copying from a non-meta parameter in the checkpoint to a meta parameter in the current model, which is a no-op. (Did you mean to pass `assign=True` to assign items in the state dictionary to their corresponding key in the module instead of copying them in place?)\n",
      "  warnings.warn(\n",
      "c:\\Anaconda3\\envs\\dl\\Lib\\site-packages\\torch\\nn\\modules\\module.py:2409: UserWarning: for layer2.2.conv3.weight: copying from a non-meta parameter in the checkpoint to a meta parameter in the current model, which is a no-op. (Did you mean to pass `assign=True` to assign items in the state dictionary to their corresponding key in the module instead of copying them in place?)\n",
      "  warnings.warn(\n",
      "c:\\Anaconda3\\envs\\dl\\Lib\\site-packages\\torch\\nn\\modules\\module.py:2409: UserWarning: for layer2.2.bn3.weight: copying from a non-meta parameter in the checkpoint to a meta parameter in the current model, which is a no-op. (Did you mean to pass `assign=True` to assign items in the state dictionary to their corresponding key in the module instead of copying them in place?)\n",
      "  warnings.warn(\n",
      "c:\\Anaconda3\\envs\\dl\\Lib\\site-packages\\torch\\nn\\modules\\module.py:2409: UserWarning: for layer2.2.bn3.bias: copying from a non-meta parameter in the checkpoint to a meta parameter in the current model, which is a no-op. (Did you mean to pass `assign=True` to assign items in the state dictionary to their corresponding key in the module instead of copying them in place?)\n",
      "  warnings.warn(\n",
      "c:\\Anaconda3\\envs\\dl\\Lib\\site-packages\\torch\\nn\\modules\\module.py:2409: UserWarning: for layer2.3.conv1.weight: copying from a non-meta parameter in the checkpoint to a meta parameter in the current model, which is a no-op. (Did you mean to pass `assign=True` to assign items in the state dictionary to their corresponding key in the module instead of copying them in place?)\n",
      "  warnings.warn(\n",
      "c:\\Anaconda3\\envs\\dl\\Lib\\site-packages\\torch\\nn\\modules\\module.py:2409: UserWarning: for layer2.3.bn1.weight: copying from a non-meta parameter in the checkpoint to a meta parameter in the current model, which is a no-op. (Did you mean to pass `assign=True` to assign items in the state dictionary to their corresponding key in the module instead of copying them in place?)\n",
      "  warnings.warn(\n",
      "c:\\Anaconda3\\envs\\dl\\Lib\\site-packages\\torch\\nn\\modules\\module.py:2409: UserWarning: for layer2.3.bn1.bias: copying from a non-meta parameter in the checkpoint to a meta parameter in the current model, which is a no-op. (Did you mean to pass `assign=True` to assign items in the state dictionary to their corresponding key in the module instead of copying them in place?)\n",
      "  warnings.warn(\n",
      "c:\\Anaconda3\\envs\\dl\\Lib\\site-packages\\torch\\nn\\modules\\module.py:2409: UserWarning: for layer2.3.conv2.weight: copying from a non-meta parameter in the checkpoint to a meta parameter in the current model, which is a no-op. (Did you mean to pass `assign=True` to assign items in the state dictionary to their corresponding key in the module instead of copying them in place?)\n",
      "  warnings.warn(\n",
      "c:\\Anaconda3\\envs\\dl\\Lib\\site-packages\\torch\\nn\\modules\\module.py:2409: UserWarning: for layer2.3.bn2.weight: copying from a non-meta parameter in the checkpoint to a meta parameter in the current model, which is a no-op. (Did you mean to pass `assign=True` to assign items in the state dictionary to their corresponding key in the module instead of copying them in place?)\n",
      "  warnings.warn(\n",
      "c:\\Anaconda3\\envs\\dl\\Lib\\site-packages\\torch\\nn\\modules\\module.py:2409: UserWarning: for layer2.3.bn2.bias: copying from a non-meta parameter in the checkpoint to a meta parameter in the current model, which is a no-op. (Did you mean to pass `assign=True` to assign items in the state dictionary to their corresponding key in the module instead of copying them in place?)\n",
      "  warnings.warn(\n",
      "c:\\Anaconda3\\envs\\dl\\Lib\\site-packages\\torch\\nn\\modules\\module.py:2409: UserWarning: for layer2.3.conv3.weight: copying from a non-meta parameter in the checkpoint to a meta parameter in the current model, which is a no-op. (Did you mean to pass `assign=True` to assign items in the state dictionary to their corresponding key in the module instead of copying them in place?)\n",
      "  warnings.warn(\n",
      "c:\\Anaconda3\\envs\\dl\\Lib\\site-packages\\torch\\nn\\modules\\module.py:2409: UserWarning: for layer2.3.bn3.weight: copying from a non-meta parameter in the checkpoint to a meta parameter in the current model, which is a no-op. (Did you mean to pass `assign=True` to assign items in the state dictionary to their corresponding key in the module instead of copying them in place?)\n",
      "  warnings.warn(\n",
      "c:\\Anaconda3\\envs\\dl\\Lib\\site-packages\\torch\\nn\\modules\\module.py:2409: UserWarning: for layer2.3.bn3.bias: copying from a non-meta parameter in the checkpoint to a meta parameter in the current model, which is a no-op. (Did you mean to pass `assign=True` to assign items in the state dictionary to their corresponding key in the module instead of copying them in place?)\n",
      "  warnings.warn(\n",
      "c:\\Anaconda3\\envs\\dl\\Lib\\site-packages\\torch\\nn\\modules\\module.py:2409: UserWarning: for layer3.0.conv1.weight: copying from a non-meta parameter in the checkpoint to a meta parameter in the current model, which is a no-op. (Did you mean to pass `assign=True` to assign items in the state dictionary to their corresponding key in the module instead of copying them in place?)\n",
      "  warnings.warn(\n",
      "c:\\Anaconda3\\envs\\dl\\Lib\\site-packages\\torch\\nn\\modules\\module.py:2409: UserWarning: for layer3.0.bn1.weight: copying from a non-meta parameter in the checkpoint to a meta parameter in the current model, which is a no-op. (Did you mean to pass `assign=True` to assign items in the state dictionary to their corresponding key in the module instead of copying them in place?)\n",
      "  warnings.warn(\n",
      "c:\\Anaconda3\\envs\\dl\\Lib\\site-packages\\torch\\nn\\modules\\module.py:2409: UserWarning: for layer3.0.bn1.bias: copying from a non-meta parameter in the checkpoint to a meta parameter in the current model, which is a no-op. (Did you mean to pass `assign=True` to assign items in the state dictionary to their corresponding key in the module instead of copying them in place?)\n",
      "  warnings.warn(\n",
      "c:\\Anaconda3\\envs\\dl\\Lib\\site-packages\\torch\\nn\\modules\\module.py:2409: UserWarning: for layer3.0.conv2.weight: copying from a non-meta parameter in the checkpoint to a meta parameter in the current model, which is a no-op. (Did you mean to pass `assign=True` to assign items in the state dictionary to their corresponding key in the module instead of copying them in place?)\n",
      "  warnings.warn(\n",
      "c:\\Anaconda3\\envs\\dl\\Lib\\site-packages\\torch\\nn\\modules\\module.py:2409: UserWarning: for layer3.0.bn2.weight: copying from a non-meta parameter in the checkpoint to a meta parameter in the current model, which is a no-op. (Did you mean to pass `assign=True` to assign items in the state dictionary to their corresponding key in the module instead of copying them in place?)\n",
      "  warnings.warn(\n",
      "c:\\Anaconda3\\envs\\dl\\Lib\\site-packages\\torch\\nn\\modules\\module.py:2409: UserWarning: for layer3.0.bn2.bias: copying from a non-meta parameter in the checkpoint to a meta parameter in the current model, which is a no-op. (Did you mean to pass `assign=True` to assign items in the state dictionary to their corresponding key in the module instead of copying them in place?)\n",
      "  warnings.warn(\n",
      "c:\\Anaconda3\\envs\\dl\\Lib\\site-packages\\torch\\nn\\modules\\module.py:2409: UserWarning: for layer3.0.conv3.weight: copying from a non-meta parameter in the checkpoint to a meta parameter in the current model, which is a no-op. (Did you mean to pass `assign=True` to assign items in the state dictionary to their corresponding key in the module instead of copying them in place?)\n",
      "  warnings.warn(\n",
      "c:\\Anaconda3\\envs\\dl\\Lib\\site-packages\\torch\\nn\\modules\\module.py:2409: UserWarning: for layer3.0.bn3.weight: copying from a non-meta parameter in the checkpoint to a meta parameter in the current model, which is a no-op. (Did you mean to pass `assign=True` to assign items in the state dictionary to their corresponding key in the module instead of copying them in place?)\n",
      "  warnings.warn(\n",
      "c:\\Anaconda3\\envs\\dl\\Lib\\site-packages\\torch\\nn\\modules\\module.py:2409: UserWarning: for layer3.0.bn3.bias: copying from a non-meta parameter in the checkpoint to a meta parameter in the current model, which is a no-op. (Did you mean to pass `assign=True` to assign items in the state dictionary to their corresponding key in the module instead of copying them in place?)\n",
      "  warnings.warn(\n",
      "c:\\Anaconda3\\envs\\dl\\Lib\\site-packages\\torch\\nn\\modules\\module.py:2409: UserWarning: for layer3.0.downsample.0.weight: copying from a non-meta parameter in the checkpoint to a meta parameter in the current model, which is a no-op. (Did you mean to pass `assign=True` to assign items in the state dictionary to their corresponding key in the module instead of copying them in place?)\n",
      "  warnings.warn(\n",
      "c:\\Anaconda3\\envs\\dl\\Lib\\site-packages\\torch\\nn\\modules\\module.py:2409: UserWarning: for layer3.0.downsample.1.weight: copying from a non-meta parameter in the checkpoint to a meta parameter in the current model, which is a no-op. (Did you mean to pass `assign=True` to assign items in the state dictionary to their corresponding key in the module instead of copying them in place?)\n",
      "  warnings.warn(\n",
      "c:\\Anaconda3\\envs\\dl\\Lib\\site-packages\\torch\\nn\\modules\\module.py:2409: UserWarning: for layer3.0.downsample.1.bias: copying from a non-meta parameter in the checkpoint to a meta parameter in the current model, which is a no-op. (Did you mean to pass `assign=True` to assign items in the state dictionary to their corresponding key in the module instead of copying them in place?)\n",
      "  warnings.warn(\n",
      "c:\\Anaconda3\\envs\\dl\\Lib\\site-packages\\torch\\nn\\modules\\module.py:2409: UserWarning: for layer3.1.conv1.weight: copying from a non-meta parameter in the checkpoint to a meta parameter in the current model, which is a no-op. (Did you mean to pass `assign=True` to assign items in the state dictionary to their corresponding key in the module instead of copying them in place?)\n",
      "  warnings.warn(\n",
      "c:\\Anaconda3\\envs\\dl\\Lib\\site-packages\\torch\\nn\\modules\\module.py:2409: UserWarning: for layer3.1.bn1.weight: copying from a non-meta parameter in the checkpoint to a meta parameter in the current model, which is a no-op. (Did you mean to pass `assign=True` to assign items in the state dictionary to their corresponding key in the module instead of copying them in place?)\n",
      "  warnings.warn(\n",
      "c:\\Anaconda3\\envs\\dl\\Lib\\site-packages\\torch\\nn\\modules\\module.py:2409: UserWarning: for layer3.1.bn1.bias: copying from a non-meta parameter in the checkpoint to a meta parameter in the current model, which is a no-op. (Did you mean to pass `assign=True` to assign items in the state dictionary to their corresponding key in the module instead of copying them in place?)\n",
      "  warnings.warn(\n",
      "c:\\Anaconda3\\envs\\dl\\Lib\\site-packages\\torch\\nn\\modules\\module.py:2409: UserWarning: for layer3.1.conv2.weight: copying from a non-meta parameter in the checkpoint to a meta parameter in the current model, which is a no-op. (Did you mean to pass `assign=True` to assign items in the state dictionary to their corresponding key in the module instead of copying them in place?)\n",
      "  warnings.warn(\n",
      "c:\\Anaconda3\\envs\\dl\\Lib\\site-packages\\torch\\nn\\modules\\module.py:2409: UserWarning: for layer3.1.bn2.weight: copying from a non-meta parameter in the checkpoint to a meta parameter in the current model, which is a no-op. (Did you mean to pass `assign=True` to assign items in the state dictionary to their corresponding key in the module instead of copying them in place?)\n",
      "  warnings.warn(\n",
      "c:\\Anaconda3\\envs\\dl\\Lib\\site-packages\\torch\\nn\\modules\\module.py:2409: UserWarning: for layer3.1.bn2.bias: copying from a non-meta parameter in the checkpoint to a meta parameter in the current model, which is a no-op. (Did you mean to pass `assign=True` to assign items in the state dictionary to their corresponding key in the module instead of copying them in place?)\n",
      "  warnings.warn(\n",
      "c:\\Anaconda3\\envs\\dl\\Lib\\site-packages\\torch\\nn\\modules\\module.py:2409: UserWarning: for layer3.1.conv3.weight: copying from a non-meta parameter in the checkpoint to a meta parameter in the current model, which is a no-op. (Did you mean to pass `assign=True` to assign items in the state dictionary to their corresponding key in the module instead of copying them in place?)\n",
      "  warnings.warn(\n",
      "c:\\Anaconda3\\envs\\dl\\Lib\\site-packages\\torch\\nn\\modules\\module.py:2409: UserWarning: for layer3.1.bn3.weight: copying from a non-meta parameter in the checkpoint to a meta parameter in the current model, which is a no-op. (Did you mean to pass `assign=True` to assign items in the state dictionary to their corresponding key in the module instead of copying them in place?)\n",
      "  warnings.warn(\n",
      "c:\\Anaconda3\\envs\\dl\\Lib\\site-packages\\torch\\nn\\modules\\module.py:2409: UserWarning: for layer3.1.bn3.bias: copying from a non-meta parameter in the checkpoint to a meta parameter in the current model, which is a no-op. (Did you mean to pass `assign=True` to assign items in the state dictionary to their corresponding key in the module instead of copying them in place?)\n",
      "  warnings.warn(\n",
      "c:\\Anaconda3\\envs\\dl\\Lib\\site-packages\\torch\\nn\\modules\\module.py:2409: UserWarning: for layer3.2.conv1.weight: copying from a non-meta parameter in the checkpoint to a meta parameter in the current model, which is a no-op. (Did you mean to pass `assign=True` to assign items in the state dictionary to their corresponding key in the module instead of copying them in place?)\n",
      "  warnings.warn(\n",
      "c:\\Anaconda3\\envs\\dl\\Lib\\site-packages\\torch\\nn\\modules\\module.py:2409: UserWarning: for layer3.2.bn1.weight: copying from a non-meta parameter in the checkpoint to a meta parameter in the current model, which is a no-op. (Did you mean to pass `assign=True` to assign items in the state dictionary to their corresponding key in the module instead of copying them in place?)\n",
      "  warnings.warn(\n",
      "c:\\Anaconda3\\envs\\dl\\Lib\\site-packages\\torch\\nn\\modules\\module.py:2409: UserWarning: for layer3.2.bn1.bias: copying from a non-meta parameter in the checkpoint to a meta parameter in the current model, which is a no-op. (Did you mean to pass `assign=True` to assign items in the state dictionary to their corresponding key in the module instead of copying them in place?)\n",
      "  warnings.warn(\n",
      "c:\\Anaconda3\\envs\\dl\\Lib\\site-packages\\torch\\nn\\modules\\module.py:2409: UserWarning: for layer3.2.conv2.weight: copying from a non-meta parameter in the checkpoint to a meta parameter in the current model, which is a no-op. (Did you mean to pass `assign=True` to assign items in the state dictionary to their corresponding key in the module instead of copying them in place?)\n",
      "  warnings.warn(\n",
      "c:\\Anaconda3\\envs\\dl\\Lib\\site-packages\\torch\\nn\\modules\\module.py:2409: UserWarning: for layer3.2.bn2.weight: copying from a non-meta parameter in the checkpoint to a meta parameter in the current model, which is a no-op. (Did you mean to pass `assign=True` to assign items in the state dictionary to their corresponding key in the module instead of copying them in place?)\n",
      "  warnings.warn(\n",
      "c:\\Anaconda3\\envs\\dl\\Lib\\site-packages\\torch\\nn\\modules\\module.py:2409: UserWarning: for layer3.2.bn2.bias: copying from a non-meta parameter in the checkpoint to a meta parameter in the current model, which is a no-op. (Did you mean to pass `assign=True` to assign items in the state dictionary to their corresponding key in the module instead of copying them in place?)\n",
      "  warnings.warn(\n",
      "c:\\Anaconda3\\envs\\dl\\Lib\\site-packages\\torch\\nn\\modules\\module.py:2409: UserWarning: for layer3.2.conv3.weight: copying from a non-meta parameter in the checkpoint to a meta parameter in the current model, which is a no-op. (Did you mean to pass `assign=True` to assign items in the state dictionary to their corresponding key in the module instead of copying them in place?)\n",
      "  warnings.warn(\n",
      "c:\\Anaconda3\\envs\\dl\\Lib\\site-packages\\torch\\nn\\modules\\module.py:2409: UserWarning: for layer3.2.bn3.weight: copying from a non-meta parameter in the checkpoint to a meta parameter in the current model, which is a no-op. (Did you mean to pass `assign=True` to assign items in the state dictionary to their corresponding key in the module instead of copying them in place?)\n",
      "  warnings.warn(\n",
      "c:\\Anaconda3\\envs\\dl\\Lib\\site-packages\\torch\\nn\\modules\\module.py:2409: UserWarning: for layer3.2.bn3.bias: copying from a non-meta parameter in the checkpoint to a meta parameter in the current model, which is a no-op. (Did you mean to pass `assign=True` to assign items in the state dictionary to their corresponding key in the module instead of copying them in place?)\n",
      "  warnings.warn(\n",
      "c:\\Anaconda3\\envs\\dl\\Lib\\site-packages\\torch\\nn\\modules\\module.py:2409: UserWarning: for layer3.3.conv1.weight: copying from a non-meta parameter in the checkpoint to a meta parameter in the current model, which is a no-op. (Did you mean to pass `assign=True` to assign items in the state dictionary to their corresponding key in the module instead of copying them in place?)\n",
      "  warnings.warn(\n",
      "c:\\Anaconda3\\envs\\dl\\Lib\\site-packages\\torch\\nn\\modules\\module.py:2409: UserWarning: for layer3.3.bn1.weight: copying from a non-meta parameter in the checkpoint to a meta parameter in the current model, which is a no-op. (Did you mean to pass `assign=True` to assign items in the state dictionary to their corresponding key in the module instead of copying them in place?)\n",
      "  warnings.warn(\n",
      "c:\\Anaconda3\\envs\\dl\\Lib\\site-packages\\torch\\nn\\modules\\module.py:2409: UserWarning: for layer3.3.bn1.bias: copying from a non-meta parameter in the checkpoint to a meta parameter in the current model, which is a no-op. (Did you mean to pass `assign=True` to assign items in the state dictionary to their corresponding key in the module instead of copying them in place?)\n",
      "  warnings.warn(\n",
      "c:\\Anaconda3\\envs\\dl\\Lib\\site-packages\\torch\\nn\\modules\\module.py:2409: UserWarning: for layer3.3.conv2.weight: copying from a non-meta parameter in the checkpoint to a meta parameter in the current model, which is a no-op. (Did you mean to pass `assign=True` to assign items in the state dictionary to their corresponding key in the module instead of copying them in place?)\n",
      "  warnings.warn(\n",
      "c:\\Anaconda3\\envs\\dl\\Lib\\site-packages\\torch\\nn\\modules\\module.py:2409: UserWarning: for layer3.3.bn2.weight: copying from a non-meta parameter in the checkpoint to a meta parameter in the current model, which is a no-op. (Did you mean to pass `assign=True` to assign items in the state dictionary to their corresponding key in the module instead of copying them in place?)\n",
      "  warnings.warn(\n",
      "c:\\Anaconda3\\envs\\dl\\Lib\\site-packages\\torch\\nn\\modules\\module.py:2409: UserWarning: for layer3.3.bn2.bias: copying from a non-meta parameter in the checkpoint to a meta parameter in the current model, which is a no-op. (Did you mean to pass `assign=True` to assign items in the state dictionary to their corresponding key in the module instead of copying them in place?)\n",
      "  warnings.warn(\n",
      "c:\\Anaconda3\\envs\\dl\\Lib\\site-packages\\torch\\nn\\modules\\module.py:2409: UserWarning: for layer3.3.conv3.weight: copying from a non-meta parameter in the checkpoint to a meta parameter in the current model, which is a no-op. (Did you mean to pass `assign=True` to assign items in the state dictionary to their corresponding key in the module instead of copying them in place?)\n",
      "  warnings.warn(\n",
      "c:\\Anaconda3\\envs\\dl\\Lib\\site-packages\\torch\\nn\\modules\\module.py:2409: UserWarning: for layer3.3.bn3.weight: copying from a non-meta parameter in the checkpoint to a meta parameter in the current model, which is a no-op. (Did you mean to pass `assign=True` to assign items in the state dictionary to their corresponding key in the module instead of copying them in place?)\n",
      "  warnings.warn(\n",
      "c:\\Anaconda3\\envs\\dl\\Lib\\site-packages\\torch\\nn\\modules\\module.py:2409: UserWarning: for layer3.3.bn3.bias: copying from a non-meta parameter in the checkpoint to a meta parameter in the current model, which is a no-op. (Did you mean to pass `assign=True` to assign items in the state dictionary to their corresponding key in the module instead of copying them in place?)\n",
      "  warnings.warn(\n",
      "c:\\Anaconda3\\envs\\dl\\Lib\\site-packages\\torch\\nn\\modules\\module.py:2409: UserWarning: for layer3.4.conv1.weight: copying from a non-meta parameter in the checkpoint to a meta parameter in the current model, which is a no-op. (Did you mean to pass `assign=True` to assign items in the state dictionary to their corresponding key in the module instead of copying them in place?)\n",
      "  warnings.warn(\n",
      "c:\\Anaconda3\\envs\\dl\\Lib\\site-packages\\torch\\nn\\modules\\module.py:2409: UserWarning: for layer3.4.bn1.weight: copying from a non-meta parameter in the checkpoint to a meta parameter in the current model, which is a no-op. (Did you mean to pass `assign=True` to assign items in the state dictionary to their corresponding key in the module instead of copying them in place?)\n",
      "  warnings.warn(\n",
      "c:\\Anaconda3\\envs\\dl\\Lib\\site-packages\\torch\\nn\\modules\\module.py:2409: UserWarning: for layer3.4.bn1.bias: copying from a non-meta parameter in the checkpoint to a meta parameter in the current model, which is a no-op. (Did you mean to pass `assign=True` to assign items in the state dictionary to their corresponding key in the module instead of copying them in place?)\n",
      "  warnings.warn(\n",
      "c:\\Anaconda3\\envs\\dl\\Lib\\site-packages\\torch\\nn\\modules\\module.py:2409: UserWarning: for layer3.4.conv2.weight: copying from a non-meta parameter in the checkpoint to a meta parameter in the current model, which is a no-op. (Did you mean to pass `assign=True` to assign items in the state dictionary to their corresponding key in the module instead of copying them in place?)\n",
      "  warnings.warn(\n",
      "c:\\Anaconda3\\envs\\dl\\Lib\\site-packages\\torch\\nn\\modules\\module.py:2409: UserWarning: for layer3.4.bn2.weight: copying from a non-meta parameter in the checkpoint to a meta parameter in the current model, which is a no-op. (Did you mean to pass `assign=True` to assign items in the state dictionary to their corresponding key in the module instead of copying them in place?)\n",
      "  warnings.warn(\n",
      "c:\\Anaconda3\\envs\\dl\\Lib\\site-packages\\torch\\nn\\modules\\module.py:2409: UserWarning: for layer3.4.bn2.bias: copying from a non-meta parameter in the checkpoint to a meta parameter in the current model, which is a no-op. (Did you mean to pass `assign=True` to assign items in the state dictionary to their corresponding key in the module instead of copying them in place?)\n",
      "  warnings.warn(\n",
      "c:\\Anaconda3\\envs\\dl\\Lib\\site-packages\\torch\\nn\\modules\\module.py:2409: UserWarning: for layer3.4.conv3.weight: copying from a non-meta parameter in the checkpoint to a meta parameter in the current model, which is a no-op. (Did you mean to pass `assign=True` to assign items in the state dictionary to their corresponding key in the module instead of copying them in place?)\n",
      "  warnings.warn(\n",
      "c:\\Anaconda3\\envs\\dl\\Lib\\site-packages\\torch\\nn\\modules\\module.py:2409: UserWarning: for layer3.4.bn3.weight: copying from a non-meta parameter in the checkpoint to a meta parameter in the current model, which is a no-op. (Did you mean to pass `assign=True` to assign items in the state dictionary to their corresponding key in the module instead of copying them in place?)\n",
      "  warnings.warn(\n",
      "c:\\Anaconda3\\envs\\dl\\Lib\\site-packages\\torch\\nn\\modules\\module.py:2409: UserWarning: for layer3.4.bn3.bias: copying from a non-meta parameter in the checkpoint to a meta parameter in the current model, which is a no-op. (Did you mean to pass `assign=True` to assign items in the state dictionary to their corresponding key in the module instead of copying them in place?)\n",
      "  warnings.warn(\n",
      "c:\\Anaconda3\\envs\\dl\\Lib\\site-packages\\torch\\nn\\modules\\module.py:2409: UserWarning: for layer3.5.conv1.weight: copying from a non-meta parameter in the checkpoint to a meta parameter in the current model, which is a no-op. (Did you mean to pass `assign=True` to assign items in the state dictionary to their corresponding key in the module instead of copying them in place?)\n",
      "  warnings.warn(\n",
      "c:\\Anaconda3\\envs\\dl\\Lib\\site-packages\\torch\\nn\\modules\\module.py:2409: UserWarning: for layer3.5.bn1.weight: copying from a non-meta parameter in the checkpoint to a meta parameter in the current model, which is a no-op. (Did you mean to pass `assign=True` to assign items in the state dictionary to their corresponding key in the module instead of copying them in place?)\n",
      "  warnings.warn(\n",
      "c:\\Anaconda3\\envs\\dl\\Lib\\site-packages\\torch\\nn\\modules\\module.py:2409: UserWarning: for layer3.5.bn1.bias: copying from a non-meta parameter in the checkpoint to a meta parameter in the current model, which is a no-op. (Did you mean to pass `assign=True` to assign items in the state dictionary to their corresponding key in the module instead of copying them in place?)\n",
      "  warnings.warn(\n",
      "c:\\Anaconda3\\envs\\dl\\Lib\\site-packages\\torch\\nn\\modules\\module.py:2409: UserWarning: for layer3.5.conv2.weight: copying from a non-meta parameter in the checkpoint to a meta parameter in the current model, which is a no-op. (Did you mean to pass `assign=True` to assign items in the state dictionary to their corresponding key in the module instead of copying them in place?)\n",
      "  warnings.warn(\n",
      "c:\\Anaconda3\\envs\\dl\\Lib\\site-packages\\torch\\nn\\modules\\module.py:2409: UserWarning: for layer3.5.bn2.weight: copying from a non-meta parameter in the checkpoint to a meta parameter in the current model, which is a no-op. (Did you mean to pass `assign=True` to assign items in the state dictionary to their corresponding key in the module instead of copying them in place?)\n",
      "  warnings.warn(\n",
      "c:\\Anaconda3\\envs\\dl\\Lib\\site-packages\\torch\\nn\\modules\\module.py:2409: UserWarning: for layer3.5.bn2.bias: copying from a non-meta parameter in the checkpoint to a meta parameter in the current model, which is a no-op. (Did you mean to pass `assign=True` to assign items in the state dictionary to their corresponding key in the module instead of copying them in place?)\n",
      "  warnings.warn(\n",
      "c:\\Anaconda3\\envs\\dl\\Lib\\site-packages\\torch\\nn\\modules\\module.py:2409: UserWarning: for layer3.5.conv3.weight: copying from a non-meta parameter in the checkpoint to a meta parameter in the current model, which is a no-op. (Did you mean to pass `assign=True` to assign items in the state dictionary to their corresponding key in the module instead of copying them in place?)\n",
      "  warnings.warn(\n",
      "c:\\Anaconda3\\envs\\dl\\Lib\\site-packages\\torch\\nn\\modules\\module.py:2409: UserWarning: for layer3.5.bn3.weight: copying from a non-meta parameter in the checkpoint to a meta parameter in the current model, which is a no-op. (Did you mean to pass `assign=True` to assign items in the state dictionary to their corresponding key in the module instead of copying them in place?)\n",
      "  warnings.warn(\n",
      "c:\\Anaconda3\\envs\\dl\\Lib\\site-packages\\torch\\nn\\modules\\module.py:2409: UserWarning: for layer3.5.bn3.bias: copying from a non-meta parameter in the checkpoint to a meta parameter in the current model, which is a no-op. (Did you mean to pass `assign=True` to assign items in the state dictionary to their corresponding key in the module instead of copying them in place?)\n",
      "  warnings.warn(\n",
      "c:\\Anaconda3\\envs\\dl\\Lib\\site-packages\\torch\\nn\\modules\\module.py:2409: UserWarning: for layer4.0.conv1.weight: copying from a non-meta parameter in the checkpoint to a meta parameter in the current model, which is a no-op. (Did you mean to pass `assign=True` to assign items in the state dictionary to their corresponding key in the module instead of copying them in place?)\n",
      "  warnings.warn(\n",
      "c:\\Anaconda3\\envs\\dl\\Lib\\site-packages\\torch\\nn\\modules\\module.py:2409: UserWarning: for layer4.0.bn1.weight: copying from a non-meta parameter in the checkpoint to a meta parameter in the current model, which is a no-op. (Did you mean to pass `assign=True` to assign items in the state dictionary to their corresponding key in the module instead of copying them in place?)\n",
      "  warnings.warn(\n",
      "c:\\Anaconda3\\envs\\dl\\Lib\\site-packages\\torch\\nn\\modules\\module.py:2409: UserWarning: for layer4.0.bn1.bias: copying from a non-meta parameter in the checkpoint to a meta parameter in the current model, which is a no-op. (Did you mean to pass `assign=True` to assign items in the state dictionary to their corresponding key in the module instead of copying them in place?)\n",
      "  warnings.warn(\n",
      "c:\\Anaconda3\\envs\\dl\\Lib\\site-packages\\torch\\nn\\modules\\module.py:2409: UserWarning: for layer4.0.conv2.weight: copying from a non-meta parameter in the checkpoint to a meta parameter in the current model, which is a no-op. (Did you mean to pass `assign=True` to assign items in the state dictionary to their corresponding key in the module instead of copying them in place?)\n",
      "  warnings.warn(\n",
      "c:\\Anaconda3\\envs\\dl\\Lib\\site-packages\\torch\\nn\\modules\\module.py:2409: UserWarning: for layer4.0.bn2.weight: copying from a non-meta parameter in the checkpoint to a meta parameter in the current model, which is a no-op. (Did you mean to pass `assign=True` to assign items in the state dictionary to their corresponding key in the module instead of copying them in place?)\n",
      "  warnings.warn(\n",
      "c:\\Anaconda3\\envs\\dl\\Lib\\site-packages\\torch\\nn\\modules\\module.py:2409: UserWarning: for layer4.0.bn2.bias: copying from a non-meta parameter in the checkpoint to a meta parameter in the current model, which is a no-op. (Did you mean to pass `assign=True` to assign items in the state dictionary to their corresponding key in the module instead of copying them in place?)\n",
      "  warnings.warn(\n",
      "c:\\Anaconda3\\envs\\dl\\Lib\\site-packages\\torch\\nn\\modules\\module.py:2409: UserWarning: for layer4.0.conv3.weight: copying from a non-meta parameter in the checkpoint to a meta parameter in the current model, which is a no-op. (Did you mean to pass `assign=True` to assign items in the state dictionary to their corresponding key in the module instead of copying them in place?)\n",
      "  warnings.warn(\n",
      "c:\\Anaconda3\\envs\\dl\\Lib\\site-packages\\torch\\nn\\modules\\module.py:2409: UserWarning: for layer4.0.bn3.weight: copying from a non-meta parameter in the checkpoint to a meta parameter in the current model, which is a no-op. (Did you mean to pass `assign=True` to assign items in the state dictionary to their corresponding key in the module instead of copying them in place?)\n",
      "  warnings.warn(\n",
      "c:\\Anaconda3\\envs\\dl\\Lib\\site-packages\\torch\\nn\\modules\\module.py:2409: UserWarning: for layer4.0.bn3.bias: copying from a non-meta parameter in the checkpoint to a meta parameter in the current model, which is a no-op. (Did you mean to pass `assign=True` to assign items in the state dictionary to their corresponding key in the module instead of copying them in place?)\n",
      "  warnings.warn(\n",
      "c:\\Anaconda3\\envs\\dl\\Lib\\site-packages\\torch\\nn\\modules\\module.py:2409: UserWarning: for layer4.0.downsample.0.weight: copying from a non-meta parameter in the checkpoint to a meta parameter in the current model, which is a no-op. (Did you mean to pass `assign=True` to assign items in the state dictionary to their corresponding key in the module instead of copying them in place?)\n",
      "  warnings.warn(\n",
      "c:\\Anaconda3\\envs\\dl\\Lib\\site-packages\\torch\\nn\\modules\\module.py:2409: UserWarning: for layer4.0.downsample.1.weight: copying from a non-meta parameter in the checkpoint to a meta parameter in the current model, which is a no-op. (Did you mean to pass `assign=True` to assign items in the state dictionary to their corresponding key in the module instead of copying them in place?)\n",
      "  warnings.warn(\n",
      "c:\\Anaconda3\\envs\\dl\\Lib\\site-packages\\torch\\nn\\modules\\module.py:2409: UserWarning: for layer4.0.downsample.1.bias: copying from a non-meta parameter in the checkpoint to a meta parameter in the current model, which is a no-op. (Did you mean to pass `assign=True` to assign items in the state dictionary to their corresponding key in the module instead of copying them in place?)\n",
      "  warnings.warn(\n",
      "c:\\Anaconda3\\envs\\dl\\Lib\\site-packages\\torch\\nn\\modules\\module.py:2409: UserWarning: for layer4.1.conv1.weight: copying from a non-meta parameter in the checkpoint to a meta parameter in the current model, which is a no-op. (Did you mean to pass `assign=True` to assign items in the state dictionary to their corresponding key in the module instead of copying them in place?)\n",
      "  warnings.warn(\n",
      "c:\\Anaconda3\\envs\\dl\\Lib\\site-packages\\torch\\nn\\modules\\module.py:2409: UserWarning: for layer4.1.bn1.weight: copying from a non-meta parameter in the checkpoint to a meta parameter in the current model, which is a no-op. (Did you mean to pass `assign=True` to assign items in the state dictionary to their corresponding key in the module instead of copying them in place?)\n",
      "  warnings.warn(\n",
      "c:\\Anaconda3\\envs\\dl\\Lib\\site-packages\\torch\\nn\\modules\\module.py:2409: UserWarning: for layer4.1.bn1.bias: copying from a non-meta parameter in the checkpoint to a meta parameter in the current model, which is a no-op. (Did you mean to pass `assign=True` to assign items in the state dictionary to their corresponding key in the module instead of copying them in place?)\n",
      "  warnings.warn(\n",
      "c:\\Anaconda3\\envs\\dl\\Lib\\site-packages\\torch\\nn\\modules\\module.py:2409: UserWarning: for layer4.1.conv2.weight: copying from a non-meta parameter in the checkpoint to a meta parameter in the current model, which is a no-op. (Did you mean to pass `assign=True` to assign items in the state dictionary to their corresponding key in the module instead of copying them in place?)\n",
      "  warnings.warn(\n",
      "c:\\Anaconda3\\envs\\dl\\Lib\\site-packages\\torch\\nn\\modules\\module.py:2409: UserWarning: for layer4.1.bn2.weight: copying from a non-meta parameter in the checkpoint to a meta parameter in the current model, which is a no-op. (Did you mean to pass `assign=True` to assign items in the state dictionary to their corresponding key in the module instead of copying them in place?)\n",
      "  warnings.warn(\n",
      "c:\\Anaconda3\\envs\\dl\\Lib\\site-packages\\torch\\nn\\modules\\module.py:2409: UserWarning: for layer4.1.bn2.bias: copying from a non-meta parameter in the checkpoint to a meta parameter in the current model, which is a no-op. (Did you mean to pass `assign=True` to assign items in the state dictionary to their corresponding key in the module instead of copying them in place?)\n",
      "  warnings.warn(\n",
      "c:\\Anaconda3\\envs\\dl\\Lib\\site-packages\\torch\\nn\\modules\\module.py:2409: UserWarning: for layer4.1.conv3.weight: copying from a non-meta parameter in the checkpoint to a meta parameter in the current model, which is a no-op. (Did you mean to pass `assign=True` to assign items in the state dictionary to their corresponding key in the module instead of copying them in place?)\n",
      "  warnings.warn(\n",
      "c:\\Anaconda3\\envs\\dl\\Lib\\site-packages\\torch\\nn\\modules\\module.py:2409: UserWarning: for layer4.1.bn3.weight: copying from a non-meta parameter in the checkpoint to a meta parameter in the current model, which is a no-op. (Did you mean to pass `assign=True` to assign items in the state dictionary to their corresponding key in the module instead of copying them in place?)\n",
      "  warnings.warn(\n",
      "c:\\Anaconda3\\envs\\dl\\Lib\\site-packages\\torch\\nn\\modules\\module.py:2409: UserWarning: for layer4.1.bn3.bias: copying from a non-meta parameter in the checkpoint to a meta parameter in the current model, which is a no-op. (Did you mean to pass `assign=True` to assign items in the state dictionary to their corresponding key in the module instead of copying them in place?)\n",
      "  warnings.warn(\n",
      "c:\\Anaconda3\\envs\\dl\\Lib\\site-packages\\torch\\nn\\modules\\module.py:2409: UserWarning: for layer4.2.conv1.weight: copying from a non-meta parameter in the checkpoint to a meta parameter in the current model, which is a no-op. (Did you mean to pass `assign=True` to assign items in the state dictionary to their corresponding key in the module instead of copying them in place?)\n",
      "  warnings.warn(\n",
      "c:\\Anaconda3\\envs\\dl\\Lib\\site-packages\\torch\\nn\\modules\\module.py:2409: UserWarning: for layer4.2.bn1.weight: copying from a non-meta parameter in the checkpoint to a meta parameter in the current model, which is a no-op. (Did you mean to pass `assign=True` to assign items in the state dictionary to their corresponding key in the module instead of copying them in place?)\n",
      "  warnings.warn(\n",
      "c:\\Anaconda3\\envs\\dl\\Lib\\site-packages\\torch\\nn\\modules\\module.py:2409: UserWarning: for layer4.2.bn1.bias: copying from a non-meta parameter in the checkpoint to a meta parameter in the current model, which is a no-op. (Did you mean to pass `assign=True` to assign items in the state dictionary to their corresponding key in the module instead of copying them in place?)\n",
      "  warnings.warn(\n",
      "c:\\Anaconda3\\envs\\dl\\Lib\\site-packages\\torch\\nn\\modules\\module.py:2409: UserWarning: for layer4.2.conv2.weight: copying from a non-meta parameter in the checkpoint to a meta parameter in the current model, which is a no-op. (Did you mean to pass `assign=True` to assign items in the state dictionary to their corresponding key in the module instead of copying them in place?)\n",
      "  warnings.warn(\n",
      "c:\\Anaconda3\\envs\\dl\\Lib\\site-packages\\torch\\nn\\modules\\module.py:2409: UserWarning: for layer4.2.bn2.weight: copying from a non-meta parameter in the checkpoint to a meta parameter in the current model, which is a no-op. (Did you mean to pass `assign=True` to assign items in the state dictionary to their corresponding key in the module instead of copying them in place?)\n",
      "  warnings.warn(\n",
      "c:\\Anaconda3\\envs\\dl\\Lib\\site-packages\\torch\\nn\\modules\\module.py:2409: UserWarning: for layer4.2.bn2.bias: copying from a non-meta parameter in the checkpoint to a meta parameter in the current model, which is a no-op. (Did you mean to pass `assign=True` to assign items in the state dictionary to their corresponding key in the module instead of copying them in place?)\n",
      "  warnings.warn(\n",
      "c:\\Anaconda3\\envs\\dl\\Lib\\site-packages\\torch\\nn\\modules\\module.py:2409: UserWarning: for layer4.2.conv3.weight: copying from a non-meta parameter in the checkpoint to a meta parameter in the current model, which is a no-op. (Did you mean to pass `assign=True` to assign items in the state dictionary to their corresponding key in the module instead of copying them in place?)\n",
      "  warnings.warn(\n",
      "c:\\Anaconda3\\envs\\dl\\Lib\\site-packages\\torch\\nn\\modules\\module.py:2409: UserWarning: for layer4.2.bn3.weight: copying from a non-meta parameter in the checkpoint to a meta parameter in the current model, which is a no-op. (Did you mean to pass `assign=True` to assign items in the state dictionary to their corresponding key in the module instead of copying them in place?)\n",
      "  warnings.warn(\n",
      "c:\\Anaconda3\\envs\\dl\\Lib\\site-packages\\torch\\nn\\modules\\module.py:2409: UserWarning: for layer4.2.bn3.bias: copying from a non-meta parameter in the checkpoint to a meta parameter in the current model, which is a no-op. (Did you mean to pass `assign=True` to assign items in the state dictionary to their corresponding key in the module instead of copying them in place?)\n",
      "  warnings.warn(\n",
      "Some weights of the model checkpoint at facebook/detr-resnet-50 were not used when initializing DetrForObjectDetection: ['model.backbone.conv_encoder.model.layer1.0.downsample.1.num_batches_tracked', 'model.backbone.conv_encoder.model.layer2.0.downsample.1.num_batches_tracked', 'model.backbone.conv_encoder.model.layer3.0.downsample.1.num_batches_tracked', 'model.backbone.conv_encoder.model.layer4.0.downsample.1.num_batches_tracked']\n",
      "- This IS expected if you are initializing DetrForObjectDetection from the checkpoint of a model trained on another task or with another architecture (e.g. initializing a BertForSequenceClassification model from a BertForPreTraining model).\n",
      "- This IS NOT expected if you are initializing DetrForObjectDetection from the checkpoint of a model that you expect to be exactly identical (initializing a BertForSequenceClassification model from a BertForSequenceClassification model).\n",
      "Device set to use cpu\n"
     ]
    }
   ],
   "source": [
    "image_path = r\"data/image1.jpg\"\n",
    "image_path = r\"data/image2.jpg\"\n",
    "image_path = r\"data/image3.jpg\"\n",
    "\n",
    "model='facebook/detr-resnet-50'\n",
    "\n",
    "pipe = pipeline(task=\"object-detection\", model=model)"
   ]
  },
  {
   "cell_type": "code",
   "execution_count": 73,
   "id": "5aa1b67b",
   "metadata": {},
   "outputs": [
    {
     "data": {
      "text/plain": [
       "[{'score': 0.9956639409065247,\n",
       "  'label': 'cell phone',\n",
       "  'box': {'xmin': 96, 'ymin': 165, 'xmax': 136, 'ymax': 236}},\n",
       " {'score': 0.9919518232345581,\n",
       "  'label': 'tv',\n",
       "  'box': {'xmin': 147, 'ymin': 28, 'xmax': 429, 'ymax': 240}},\n",
       " {'score': 0.9975365400314331,\n",
       "  'label': 'keyboard',\n",
       "  'box': {'xmin': 108, 'ymin': 251, 'xmax': 358, 'ymax': 304}}]"
      ]
     },
     "execution_count": 73,
     "metadata": {},
     "output_type": "execute_result"
    }
   ],
   "source": [
    "pipe(image_path)"
   ]
  },
  {
   "cell_type": "code",
   "execution_count": 74,
   "id": "c6019154",
   "metadata": {},
   "outputs": [
    {
     "data": {
      "text/plain": [
       "[{'score': 0.9988904595375061,\n",
       "  'label': 'dog',\n",
       "  'box': {'xmin': 430, 'ymin': 423, 'xmax': 533, 'ymax': 597}},\n",
       " {'score': 0.9998465776443481,\n",
       "  'label': 'person',\n",
       "  'box': {'xmin': 531, 'ymin': 158, 'xmax': 673, 'ymax': 581}}]"
      ]
     },
     "execution_count": 74,
     "metadata": {},
     "output_type": "execute_result"
    }
   ],
   "source": [
    "pipe(\"data/image1.jpg\")"
   ]
  },
  {
   "cell_type": "code",
   "execution_count": 4,
   "id": "d4daaa76",
   "metadata": {},
   "outputs": [],
   "source": [
    "from transformers import pipeline"
   ]
  },
  {
   "cell_type": "code",
   "execution_count": 5,
   "id": "360436df",
   "metadata": {},
   "outputs": [
    {
     "name": "stderr",
     "output_type": "stream",
     "text": [
      "No model was supplied, defaulted to distilbert/distilbert-base-uncased-finetuned-sst-2-english and revision 714eb0f (https://huggingface.co/distilbert/distilbert-base-uncased-finetuned-sst-2-english).\n",
      "Using a pipeline without specifying a model name and revision in production is not recommended.\n",
      "Device set to use cpu\n"
     ]
    }
   ],
   "source": [
    "pipe = pipeline(\"text-classification\")"
   ]
  },
  {
   "cell_type": "code",
   "execution_count": 6,
   "id": "ccdbc46c",
   "metadata": {},
   "outputs": [
    {
     "data": {
      "text/plain": [
       "DistilBertForSequenceClassification(\n",
       "  (distilbert): DistilBertModel(\n",
       "    (embeddings): Embeddings(\n",
       "      (word_embeddings): Embedding(30522, 768, padding_idx=0)\n",
       "      (position_embeddings): Embedding(512, 768)\n",
       "      (LayerNorm): LayerNorm((768,), eps=1e-12, elementwise_affine=True)\n",
       "      (dropout): Dropout(p=0.1, inplace=False)\n",
       "    )\n",
       "    (transformer): Transformer(\n",
       "      (layer): ModuleList(\n",
       "        (0-5): 6 x TransformerBlock(\n",
       "          (attention): DistilBertSdpaAttention(\n",
       "            (dropout): Dropout(p=0.1, inplace=False)\n",
       "            (q_lin): Linear(in_features=768, out_features=768, bias=True)\n",
       "            (k_lin): Linear(in_features=768, out_features=768, bias=True)\n",
       "            (v_lin): Linear(in_features=768, out_features=768, bias=True)\n",
       "            (out_lin): Linear(in_features=768, out_features=768, bias=True)\n",
       "          )\n",
       "          (sa_layer_norm): LayerNorm((768,), eps=1e-12, elementwise_affine=True)\n",
       "          (ffn): FFN(\n",
       "            (dropout): Dropout(p=0.1, inplace=False)\n",
       "            (lin1): Linear(in_features=768, out_features=3072, bias=True)\n",
       "            (lin2): Linear(in_features=3072, out_features=768, bias=True)\n",
       "            (activation): GELUActivation()\n",
       "          )\n",
       "          (output_layer_norm): LayerNorm((768,), eps=1e-12, elementwise_affine=True)\n",
       "        )\n",
       "      )\n",
       "    )\n",
       "  )\n",
       "  (pre_classifier): Linear(in_features=768, out_features=768, bias=True)\n",
       "  (classifier): Linear(in_features=768, out_features=2, bias=True)\n",
       "  (dropout): Dropout(p=0.2, inplace=False)\n",
       ")"
      ]
     },
     "execution_count": 6,
     "metadata": {},
     "output_type": "execute_result"
    }
   ],
   "source": [
    "model = pipe.model\n",
    "model"
   ]
  },
  {
   "cell_type": "code",
   "execution_count": 8,
   "id": "4e0b5880",
   "metadata": {},
   "outputs": [
    {
     "data": {
      "text/plain": [
       "DistilBertTokenizerFast(name_or_path='distilbert/distilbert-base-uncased-finetuned-sst-2-english', vocab_size=30522, model_max_length=512, is_fast=True, padding_side='right', truncation_side='right', special_tokens={'unk_token': '[UNK]', 'sep_token': '[SEP]', 'pad_token': '[PAD]', 'cls_token': '[CLS]', 'mask_token': '[MASK]'}, clean_up_tokenization_spaces=True, added_tokens_decoder={\n",
       "\t0: AddedToken(\"[PAD]\", rstrip=False, lstrip=False, single_word=False, normalized=False, special=True),\n",
       "\t100: AddedToken(\"[UNK]\", rstrip=False, lstrip=False, single_word=False, normalized=False, special=True),\n",
       "\t101: AddedToken(\"[CLS]\", rstrip=False, lstrip=False, single_word=False, normalized=False, special=True),\n",
       "\t102: AddedToken(\"[SEP]\", rstrip=False, lstrip=False, single_word=False, normalized=False, special=True),\n",
       "\t103: AddedToken(\"[MASK]\", rstrip=False, lstrip=False, single_word=False, normalized=False, special=True),\n",
       "}\n",
       ")"
      ]
     },
     "execution_count": 8,
     "metadata": {},
     "output_type": "execute_result"
    }
   ],
   "source": [
    "tokenizer = pipe.tokenizer\n",
    "tokenizer"
   ]
  },
  {
   "cell_type": "code",
   "execution_count": 11,
   "id": "b1bfa2dc",
   "metadata": {},
   "outputs": [
    {
     "data": {
      "text/plain": [
       "[{'label': 'NEGATIVE', 'score': 0.9997639060020447}]"
      ]
     },
     "execution_count": 11,
     "metadata": {},
     "output_type": "execute_result"
    }
   ],
   "source": [
    "pipe(\"I'm so bad\")"
   ]
  },
  {
   "cell_type": "code",
   "execution_count": null,
   "id": "cf19ab23",
   "metadata": {},
   "outputs": [],
   "source": []
  }
 ],
 "metadata": {
  "kernelspec": {
   "display_name": "dl",
   "language": "python",
   "name": "python3"
  },
  "language_info": {
   "codemirror_mode": {
    "name": "ipython",
    "version": 3
   },
   "file_extension": ".py",
   "mimetype": "text/x-python",
   "name": "python",
   "nbconvert_exporter": "python",
   "pygments_lexer": "ipython3",
   "version": "3.12.10"
  }
 },
 "nbformat": 4,
 "nbformat_minor": 5
}
