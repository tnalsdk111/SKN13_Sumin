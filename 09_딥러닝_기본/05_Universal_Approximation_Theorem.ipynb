{
 "cells": [
  {
   "cell_type": "markdown",
   "id": "82f2eb30-3659-4916-abc4-163a437dbb4a",
   "metadata": {},
   "source": [
    "# Universal Approximation Theorem\n",
    "\n",
    "Universal Approximation Theorem이란 1개의 비선형 Activation함수를 포함하고 있는 히든 레이어를 가진 Neural Network를 이용해 어떠한 함수든 근사시킬 수 있다는 이론."
   ]
  },
  {
   "cell_type": "code",
   "execution_count": null,
   "id": "de47d6f0-e8f5-436a-8d99-f163d5d337ea",
   "metadata": {},
   "outputs": [],
   "source": [
    "import numpy as np\n",
    "import matplotlib.pyplot as plt\n",
    "\n",
    "import torch\n",
    "import torch.nn as nn\n",
    "\n",
    "device = \"cuda\" if torch.cuda.is_available() else \"cpu\""
   ]
  },
  {
   "cell_type": "code",
   "execution_count": null,
   "id": "224ca831-20fc-48ed-9f54-4d9c990bb31e",
   "metadata": {},
   "outputs": [],
   "source": [
    "def func(x):\n",
    "    \"\"\"\n",
    "    근사시키려는 함수\n",
    "    \"\"\"\n",
    "    return 7*np.sin(x)*np.cos(x)*(2*x**2+5*x**3+x**2)*np.tan(x)+120 "
   ]
  },
  {
   "cell_type": "code",
   "execution_count": null,
   "id": "9725c795-16cf-47e5-9210-2e006c8497a0",
   "metadata": {},
   "outputs": [],
   "source": [
    "x = np.linspace(-10, 10, 100)\n",
    "y = func(x)"
   ]
  },
  {
   "cell_type": "code",
   "execution_count": null,
   "id": "afb8afc9-70dc-4947-8864-c68ba5fdf6ca",
   "metadata": {},
   "outputs": [],
   "source": [
    "plt.plot(x, y)\n",
    "plt.show()"
   ]
  },
  {
   "cell_type": "code",
   "execution_count": null,
   "id": "125260ba-c56b-4387-acd8-0c244b01fb98",
   "metadata": {},
   "outputs": [],
   "source": [
    "X_train = torch.tensor(x, dtype=torch.float32).unsqueeze(dim=1).to(device)\n",
    "y_train = torch.tensor(y, dtype=torch.float32).unsqueeze(dim=1).to(device)\n",
    "\n",
    "X_train.shape, y_train.shape"
   ]
  },
  {
   "cell_type": "code",
   "execution_count": null,
   "id": "9d93c6fa-6ca1-43b4-a03c-835c31a88a43",
   "metadata": {},
   "outputs": [],
   "source": [
    "# 모델\n",
    "model = nn.Sequential(\n",
    "    nn.Linear(1, 10000),\n",
    "    nn.ReLU(),\n",
    "    nn.Linear(10000, 1)\n",
    ").to(device)\n",
    "\n",
    "loss_fn = nn.MSELoss()\n",
    "optimizer = torch.optim.RMSprop(model.parameters(), lr=0.01)"
   ]
  },
  {
   "cell_type": "code",
   "execution_count": null,
   "id": "1dea0436-89cb-4de0-9818-e339cd0ccdb9",
   "metadata": {
    "scrolled": true
   },
   "outputs": [],
   "source": [
    "# 학습\n",
    "model.train()\n",
    "for epoch in range(5000  ):\n",
    "    # 추론\n",
    "    pred = model(X_train)\n",
    "    # 오차\n",
    "    loss = loss_fn(pred, y_train)\n",
    "    # grandient\n",
    "    loss.backward()\n",
    "    # 파라미터 업데이트\n",
    "    optimizer.step()\n",
    "    # 파라미터 초기화\n",
    "    optimizer.zero_grad()\n",
    "print(\"완료\")"
   ]
  },
  {
   "cell_type": "code",
   "execution_count": null,
   "id": "e77de147-74c9-4a02-86c2-06276cba0850",
   "metadata": {},
   "outputs": [],
   "source": [
    "y_pred = model(X_train)"
   ]
  },
  {
   "cell_type": "code",
   "execution_count": null,
   "id": "99a4b558-4bb4-4dae-aa84-321a7bb388ed",
   "metadata": {},
   "outputs": [],
   "source": [
    "# y_pred값을 ndarray로 변환\n",
    "## 1. device를 cpu로 이동.\n",
    "## 2. grad_fn 있는 경우 제거.\n",
    "y_pred_array = y_pred.to(\"cpu\").detach().numpy().flatten()"
   ]
  },
  {
   "cell_type": "code",
   "execution_count": null,
   "id": "210276f5-f562-43e1-98c3-de67d8b40578",
   "metadata": {
    "scrolled": true
   },
   "outputs": [],
   "source": [
    "y_pred_array.shape"
   ]
  },
  {
   "cell_type": "code",
   "execution_count": null,
   "id": "552b535b-a5b3-4bab-9bd2-19dc1224814c",
   "metadata": {},
   "outputs": [],
   "source": [
    "plt.plot(x, y, label=\"정답\")\n",
    "plt.plot(x, y_pred_array, label=\"추론\")\n",
    "plt.legend()\n",
    "plt.show()"
   ]
  },
  {
   "cell_type": "code",
   "execution_count": null,
   "id": "0179353c-a523-401d-949e-95f861b92df1",
   "metadata": {},
   "outputs": [],
   "source": []
  }
 ],
 "metadata": {
  "kernelspec": {
   "display_name": "Python 3 (ipykernel)",
   "language": "python",
   "name": "python3"
  },
  "language_info": {
   "codemirror_mode": {
    "name": "ipython",
    "version": 3
   },
   "file_extension": ".py",
   "mimetype": "text/x-python",
   "name": "python",
   "nbconvert_exporter": "python",
   "pygments_lexer": "ipython3",
   "version": "3.12.7"
  }
 },
 "nbformat": 4,
 "nbformat_minor": 5
}
