{
 "cells": [
  {
   "cell_type": "markdown",
   "id": "84c0614b",
   "metadata": {},
   "source": [
    "# Tensor 생성\n",
    "- 파이토치에서 데이터를 저장하는 자료구조\n",
    "- ndarray와 성격, 사용법이 유사하다.\n",
    "\n",
    "> **pytorch의 tensor는 숫자 데이터 타입만 지원한다.**"
   ]
  },
  {
   "cell_type": "markdown",
   "id": "06d118ec",
   "metadata": {},
   "source": [
    "##  원하는 형태(shape) 텐서 생성\n",
    "- **torch.tensor(자료구조 \\[, dtype\\])**\n",
    "    - 지정한 dtype(Data type)에 맞는 Tensor객체를 생성해서 반환한다.\n",
    "      \n",
    "## 특정 타입의 Tensor를 직접 생성\n",
    "- torch.tensor()로 생성하면서 dtype을 지정하면 아래 타입의 Tensor객체가 생성된다.\n",
    "- 원하는 Type의 Tensor클래스를 이용해 직접 생성해도 된다.\n",
    "- **torch.FloatTensor(자료구조)**\n",
    "    - float32 타입 텐서 생성\n",
    "- **torch.LongTensor(자료구조)** \n",
    "    - int64 타입 텐서생성\n",
    "- 그외\n",
    "    - BoolTensor(bool), CharTensor(int8), ShortTensor(int16), IntTensor(int32), DoubleTensor(float64)\n",
    "    \n",
    "## tensor 상태 조회\n",
    "- **tensor.shape, tensor.size(\\[축번호\\])**\n",
    "    -  tensor의 shape조회\n",
    "- **tensor.dtype, tensor.type()**\n",
    "    - tensor 원소들의 데이터타입 조회\n",
    "    - dtype은 **data type**을 type()은 tensor **객체의 클래스 타입**을 반환한다.\n",
    "- **tensor.ndim, tensor.dim()**  : tensor 차원\n",
    "- **tensor.numel()**: 전체 원소 개수\n",
    "\n"
   ]
  },
  {
   "cell_type": "code",
   "execution_count": null,
   "id": "8f81163c",
   "metadata": {},
   "outputs": [],
   "source": [
    "import torch\n",
    "import numpy as np"
   ]
  },
  {
   "cell_type": "code",
   "execution_count": null,
   "id": "a5a312ec-094a-459d-9962-841d3decd8c3",
   "metadata": {},
   "outputs": [],
   "source": [
    "np.array([1, 2, 3], dtype=np.int8)#\"int8\")"
   ]
  },
  {
   "cell_type": "code",
   "execution_count": null,
   "id": "1a471610-e0d4-477c-bbe7-03f8a8d7202c",
   "metadata": {},
   "outputs": [],
   "source": [
    "print('torch Data types')\n",
    "print(\"float\", torch.float16, torch.float32, torch.float64, torch.float, torch.double)  #torch.float: float32\n",
    "print(\"int:\", torch.int8, torch.int16, torch.int32, torch.int64, torch.short, torch.int, torch.long)# 가능\n",
    "print(\"uint:\", torch.uint8, torch.uint16, torch.uint32, torch.uint64)\n",
    "print(\"bool:\", torch.bool)"
   ]
  },
  {
   "cell_type": "code",
   "execution_count": null,
   "id": "370e0dcd",
   "metadata": {},
   "outputs": [],
   "source": [
    "a = torch.tensor([[1,2],[3,4]], dtype=torch.float32)\n",
    "\n",
    "\n",
    "print(\"shape:\", a.shape, a.size())\n",
    "print(\"0축 크기:\", a.shape[0], a.size(0))\n",
    "print(\"type:\", a.type(), a.dtype)  # type(): Tensor 객체 타입. dtype: data type => 둘은 좀 다르다.\n",
    "print('차원크기:', a.dim(), a.ndim)\n",
    "print('원소개수:', a.numel())\n",
    "print(\"device:\", a.device)  # tensor를 다루는 processor(메모리위치) - cpu, cuda(gpu)"
   ]
  },
  {
   "cell_type": "code",
   "execution_count": null,
   "id": "27f077a1",
   "metadata": {},
   "outputs": [],
   "source": [
    "aa = torch.tensor(range(10))\n",
    "print(aa)\n",
    "aa.type()"
   ]
  },
  {
   "cell_type": "code",
   "execution_count": null,
   "id": "e40a7f96",
   "metadata": {},
   "outputs": [],
   "source": [
    "#Float, Double(32, 64bit 실수)/Int, Long(32, 64 bit 정수) type Tensor\n",
    "b = torch.FloatTensor([1,3,7])  #float32\n",
    "print(b.dtype)\n",
    "# c = torch.IntTensor([10,20,30])    # int32\n",
    "# print(c.dtype)\n",
    "# d = torch.DoubleTensor([1, 2, 3])  # float64\n",
    "# print(d.dtype)\n",
    "# e = torch.LongTensor([10, 20, 30]) # int64\n",
    "# print(e.dtype)"
   ]
  },
  {
   "cell_type": "markdown",
   "id": "b57bc602",
   "metadata": {},
   "source": [
    "## 동일한 값을 원소로 가지는 Tensor 생성\n",
    "- **torch.zeros(\\*size), zeros_like(텐서)**: 0으로 구성된 tensor 생성\n",
    "- **torch.ones(\\*size), ones_like(텐서)**: 1로 구성된 tensor생성\n",
    "- **torch.full(size, fill_value), full_like(텐서, fill_value)**: 지정한 값으로 구성된 tensor생성\n",
    "  - size \n",
    "    - shape을 지정한다.\n",
    "    - zeros, ones는 가변인자이므로 축별 size를 순서대로 서정\n",
    "    - full 은 tuple/list로 shape을 지정한다.\n",
    "    "
   ]
  },
  {
   "cell_type": "code",
   "execution_count": null,
   "id": "801e4ffc",
   "metadata": {
    "scrolled": true
   },
   "outputs": [],
   "source": [
    "a = torch.zeros(3,2,3) # 3 x 2 x 3\n",
    "a.dtype\n",
    "# torch.ones(2,3)  # 2 X 3\n",
    "# torch.full([3,2], fill_value=100) # 3 x 2\n"
   ]
  },
  {
   "cell_type": "code",
   "execution_count": null,
   "id": "1697cfd6",
   "metadata": {},
   "outputs": [],
   "source": [
    "# 특정 배열과 동일한 shape의 tensor 생성.\n",
    "a = torch.tensor([[1, 2],[3, 4]]) # 2 x 2\n",
    "\n",
    "print(a.shape)\n",
    "b = torch.zeros_like(a)  # a와 같은 shape, dtype 으로 생성.\n",
    "# b = torch.ones_like(a)\n",
    "# b = torch.full_like(a, 20)\n",
    "print(b.shape, b.dtype)\n",
    "b"
   ]
  },
  {
   "cell_type": "markdown",
   "id": "01301e5c",
   "metadata": {},
   "source": [
    "## 동일한 간격으로 떨어진 값들로 구성된 배열생성\n",
    "- **torch.arange(start=0, end, step=1)** \n",
    "- **torch.linspace(start, end, steps,)** : steps - 원소개수"
   ]
  },
  {
   "cell_type": "code",
   "execution_count": null,
   "id": "f9b9fd1b",
   "metadata": {},
   "outputs": [],
   "source": [
    "torch.arange(10)  # end. 0 ~ 10-1 1씩 증가\n",
    "# torch.arange(0, 1, 0.1) # 0 ~ 1-0.1, 0.1 \n",
    "# torch.arange(10, 1, -1) # 10 ~ 1-(-1), -1 "
   ]
  },
  {
   "cell_type": "code",
   "execution_count": null,
   "id": "afa883dd",
   "metadata": {},
   "outputs": [],
   "source": [
    "torch.linspace(0, 10, 5) # 0 ~ 10, 5개원소\n",
    "# torch.linspace(0, 1, 11)\n"
   ]
  },
  {
   "cell_type": "markdown",
   "id": "f2bd2a03",
   "metadata": {},
   "source": [
    "## 빈 tensor 생성\n",
    "- **torch.empty(\\*size)**"
   ]
  },
  {
   "cell_type": "code",
   "execution_count": null,
   "id": "f9a865f4",
   "metadata": {
    "collapsed": true,
    "jupyter": {
     "outputs_hidden": true
    }
   },
   "outputs": [],
   "source": [
    "torch.empty(3,2,7) # 3 X 2 X 7"
   ]
  },
  {
   "cell_type": "markdown",
   "id": "6ec59585",
   "metadata": {},
   "source": [
    "## 난수를 이용한 생성\n",
    "\n",
    "- **torch.rand(\\*size)**: 0 ~ 1사이 실수로 구성된 배열을 생성. 각 값은 균등분포를 따른다.\n",
    "- **torch.randn(\\*size)**: 표준정규분포(평균:0, 표준편차:1)를 따르는 실수로 구성된 배열 생성\n",
    "- **torch.randint(low=0, high, size)**: 지정한 범위의 정수로 구성된 배열 생성\n",
    "- **torch.randperm(n)**: 0 ~ n-1 사이의 정수를 랜덤하게 섞은 값을 원소로 가지는 배열 생성"
   ]
  },
  {
   "cell_type": "code",
   "execution_count": null,
   "id": "def1448b",
   "metadata": {},
   "outputs": [],
   "source": [
    "# torch.manual_seed(0)  # seed 설정\n",
    "torch.rand(1, 3, 5) # 100 x 3 x 5\n",
    "# torch.randn(30, 3) # 30 X 3\n",
    "# torch.randint(1, 100, (3, 3, 6))  \n",
    "# torch.randperm(100) # 0 ~ 99 를 섞어서 구성"
   ]
  },
  {
   "cell_type": "code",
   "execution_count": null,
   "id": "8e9b7c88-3511-4c26-8282-5fc9ad857b98",
   "metadata": {},
   "outputs": [],
   "source": [
    "a = torch.arange(100)\n",
    "a\n",
    "# a 섞기\n",
    "# idx = torch.randperm(100) # 0 ~ 99 섞어서 반환. -> index\n",
    "# idx\n",
    "# b = a[idx]"
   ]
  },
  {
   "cell_type": "code",
   "execution_count": null,
   "id": "ac21cd7e-1f92-49ce-b0ae-54a2be6cd15d",
   "metadata": {},
   "outputs": [],
   "source": [
    "b"
   ]
  },
  {
   "cell_type": "markdown",
   "id": "d8494a6a",
   "metadata": {},
   "source": [
    "## Tensor gpu/cpu 메모리로 옮기기\n",
    "\n",
    "- pytorch는 데이터셋인 tensor를 cpu메모리와 gpu 메모리로 서로 옮길 수 있다.\n",
    "    - 데이터에 대한 연산처리를 어디서 하느냐에 따라 메모리를 선택한다.\n",
    "    - 장치는 문자열로 설정한다.\n",
    "        - CPU 사용: \"cpu\"\n",
    "        - nvida GPU: \"cuda\"\n",
    "        - Apple m1: \"mps\"\n",
    "            - pytorch 1.12 부터 지원\n",
    "- 옮기기\n",
    "    - tensor 생성시 `device` 파라미터를 이용해 설정\n",
    "    - `tensor.to(device)`를 이용해 설정\n",
    "- 현재 실행환경에서 어떤 장비를 사용할 수 있는지 확인\n",
    "    - nvidia gpu 사용가능확인\n",
    "        - `torch.cuda.is_available()` - nvida gpu 사용가능 여부\n",
    "        - `torch.backends.mps.is_available()` - M1 사용가능 여부"
   ]
  },
  {
   "cell_type": "code",
   "execution_count": null,
   "id": "9bf69bd8",
   "metadata": {},
   "outputs": [],
   "source": [
    "import torch\n",
    "device = 'cuda' if torch.cuda.is_available() else 'cpu'\n",
    "\n",
    "# device = 'mps' if torch.backends.mps.is_available() else 'cpu'\n",
    "# device = 'cuda' if torch.cuda.is_available() else 'mps' if torch.backends.mps.is_available() else 'cpu'\n",
    "device"
   ]
  },
  {
   "cell_type": "code",
   "execution_count": null,
   "id": "3c7fce59-a925-45ae-b201-d9f39a443f8f",
   "metadata": {},
   "outputs": [],
   "source": [
    "t = torch.tensor([1, 2, 3], dtype=torch.float32, device=device) #생성할 때 device 지정.\n",
    "print(t, t.device) # tensor가 어느 device에 있는지 확인"
   ]
  },
  {
   "cell_type": "code",
   "execution_count": null,
   "id": "fbaee501-8187-4104-8dc0-3114a57dca29",
   "metadata": {},
   "outputs": [],
   "source": [
    "t2 = t.to(\"cpu\")  # 다른 device로 옮기기.\n",
    "print(t2, t2.device)"
   ]
  },
  {
   "cell_type": "markdown",
   "id": "eb9df51a",
   "metadata": {},
   "source": [
    "## tensor를 상수로 변환\n",
    "- torch.Tensor객체를 파이썬 상수로 변환.\n",
    "- tensor객체.item()\n",
    "    - Scalar(상수) 또는 원소가 하나인 tensor를 python 상수로 변환"
   ]
  },
  {
   "cell_type": "code",
   "execution_count": null,
   "id": "88d14aa5-a06a-4f25-bcec-b94c1d554de8",
   "metadata": {},
   "outputs": [],
   "source": [
    "print(torch.tensor(30))"
   ]
  },
  {
   "cell_type": "code",
   "execution_count": null,
   "id": "9e24dc70",
   "metadata": {
    "scrolled": true
   },
   "outputs": [],
   "source": [
    "a = torch.tensor(10)  # 상수(scalar) => 0차원 Tensor\n",
    "print(a, a.ndim)\n",
    "print(a.item())\n",
    "print(type(a), type(a.item()))"
   ]
  },
  {
   "cell_type": "code",
   "execution_count": null,
   "id": "d62c3168",
   "metadata": {},
   "outputs": [],
   "source": [
    "b = torch.tensor([[20]]) # 원소가 하나인 N차원 배열\n",
    "print(b, b.dim())\n",
    "print(b.item()) #원소가 하나인 배열(텐서) 변환 가능"
   ]
  },
  {
   "cell_type": "code",
   "execution_count": null,
   "id": "cefb6f7b",
   "metadata": {
    "scrolled": true
   },
   "outputs": [],
   "source": [
    "c = torch.tensor([1, 10, 100])\n",
    "print(c)\n",
    "# print(c.item()) #원소가 여러개일 경우 Exception발생"
   ]
  },
  {
   "cell_type": "code",
   "execution_count": null,
   "id": "06f1ae95",
   "metadata": {},
   "outputs": [],
   "source": [
    "d = torch.tensor([10], device='cuda')\n",
    "print(d)\n",
    "print(d.item())"
   ]
  },
  {
   "cell_type": "markdown",
   "id": "a8709f0b",
   "metadata": {},
   "source": [
    "## ndarray 호환\n",
    "\n",
    "- ndarray를 tensor로 생성\n",
    "    - **torch.tensor(ndarray)**\n",
    "    - **torch.from_numpy(ndarray)**\n",
    "- tensor를 ndarray로 변환\n",
    "    - **tensor.numpy()**\n",
    "    - tensor가 gpu에 있을 경우 cpu로 옮긴 뒤 변환해야 한다."
   ]
  },
  {
   "cell_type": "code",
   "execution_count": null,
   "id": "ff396b21",
   "metadata": {},
   "outputs": [],
   "source": [
    "import numpy as np\n",
    "import torch"
   ]
  },
  {
   "cell_type": "code",
   "execution_count": null,
   "id": "2c1d1b90",
   "metadata": {},
   "outputs": [],
   "source": [
    "# ndarray -> tensor\n",
    "arr = np.arange(1,10)\n",
    "\n",
    "torch.tensor(arr, dtype=torch.float32)\n",
    "torch.from_numpy(arr)"
   ]
  },
  {
   "cell_type": "code",
   "execution_count": null,
   "id": "4a5fa181",
   "metadata": {},
   "outputs": [],
   "source": [
    "# tensor -> ndarray\n",
    "t = torch.randn(3,3)\n",
    "print(t)\n",
    "t.to(\"cpu\").numpy()"
   ]
  },
  {
   "cell_type": "code",
   "execution_count": null,
   "id": "d85bf50c",
   "metadata": {},
   "outputs": [],
   "source": [
    "t2 = torch.randn(2,2, device=\"cuda\")\n",
    "t2"
   ]
  },
  {
   "cell_type": "code",
   "execution_count": null,
   "id": "28c9d47a",
   "metadata": {
    "scrolled": true
   },
   "outputs": [],
   "source": [
    "t2.numpy() \n",
    "# t2.to(\"cpu\").numpy()"
   ]
  },
  {
   "cell_type": "markdown",
   "id": "f10f4911",
   "metadata": {},
   "source": [
    "# 원소 조회및 변경 \n",
    "\n",
    "## indexing/slicing\n",
    "\n",
    "- 대부분 Numpy 와 동일\n",
    "    - **slicing에서 step을 <u>음수로 지정할 수 없다.</u>**\n"
   ]
  },
  {
   "cell_type": "code",
   "execution_count": null,
   "id": "2300078c",
   "metadata": {},
   "outputs": [],
   "source": [
    "t = torch.randint(-10, 10, (100, ))\n",
    "t"
   ]
  },
  {
   "cell_type": "code",
   "execution_count": null,
   "id": "a28537ed",
   "metadata": {},
   "outputs": [],
   "source": [
    "t[0]\n",
    "# t[[1, 5, -1]] # 여러개 조회-> fancy indexing"
   ]
  },
  {
   "cell_type": "code",
   "execution_count": null,
   "id": "73763041",
   "metadata": {},
   "outputs": [],
   "source": [
    "t[:5]\n",
    "# t[10:15]\n",
    "# t[90:]\n",
    "# t[3:30:3]\n",
    "\n",
    "####### step 음수 안된다. 그래서 reverse(역순 조회)가 안됨. reverse하려면 flip() 사용\n",
    "# t[10:1:-2]  \n",
    "# t[1:10:2].flip(dims=(0,)) #reverse"
   ]
  },
  {
   "cell_type": "code",
   "execution_count": null,
   "id": "4ecfc6db-5a07-4c50-954c-ec2691652958",
   "metadata": {},
   "outputs": [],
   "source": [
    "t[1:10:2]"
   ]
  },
  {
   "cell_type": "markdown",
   "id": "292f1a3e",
   "metadata": {},
   "source": [
    "## boolean index\n",
    "- 논리 연산은 &, |, ~ 을 사용한다."
   ]
  },
  {
   "cell_type": "code",
   "execution_count": null,
   "id": "81965586",
   "metadata": {},
   "outputs": [],
   "source": [
    "# boolean index\n",
    "t[t > 0]"
   ]
  },
  {
   "cell_type": "code",
   "execution_count": null,
   "id": "49576bbe",
   "metadata": {},
   "outputs": [],
   "source": [
    "t[(t > 0) & (t < 5)]"
   ]
  },
  {
   "cell_type": "code",
   "execution_count": null,
   "id": "e8f93620",
   "metadata": {},
   "outputs": [],
   "source": [
    "# boolean index 처리 함수.\n",
    "t.masked_select(t > 0)"
   ]
  },
  {
   "cell_type": "code",
   "execution_count": null,
   "id": "28e13041-ca1b-4a4d-8bd7-a85c9b7cc832",
   "metadata": {},
   "outputs": [],
   "source": [
    "t"
   ]
  },
  {
   "cell_type": "code",
   "execution_count": null,
   "id": "03a01027",
   "metadata": {
    "scrolled": true
   },
   "outputs": [],
   "source": [
    "# 변경\n",
    "t[0] = 100\n",
    "t"
   ]
  },
  {
   "cell_type": "code",
   "execution_count": null,
   "id": "49419f63",
   "metadata": {},
   "outputs": [],
   "source": [
    "t = torch.arange(1, 10).reshape(3,3)\n",
    "t"
   ]
  },
  {
   "cell_type": "code",
   "execution_count": null,
   "id": "67affa22",
   "metadata": {},
   "outputs": [],
   "source": [
    "# t[ 0축, 1축 ]\n",
    "t[1, 2].item()\n",
    "t[0, 2].item()"
   ]
  },
  {
   "cell_type": "code",
   "execution_count": null,
   "id": "15855bcf",
   "metadata": {},
   "outputs": [],
   "source": [
    "t[[1,0], [2,2]]  #(1,2), (0,2)\n",
    "# t[[첫번째값, 두번째값]-0축, [첫번째값, 두번째값]-1축]"
   ]
  },
  {
   "cell_type": "code",
   "execution_count": null,
   "id": "a89cfb06",
   "metadata": {},
   "outputs": [],
   "source": []
  },
  {
   "cell_type": "markdown",
   "id": "a02f14d8",
   "metadata": {},
   "source": [
    "# Reshape"
   ]
  },
  {
   "cell_type": "markdown",
   "id": "221e70f8",
   "metadata": {},
   "source": [
    "## shape 변경\n",
    "- tensor객체.reshape(\\*shape) / view(\\*shape) 이용\n",
    "    - 변환 후 값을 변경하면 원본 배열의 값도 같이 바뀐다.\n",
    " > tensor.clone(): tensor를 복제한다."
   ]
  },
  {
   "cell_type": "code",
   "execution_count": null,
   "id": "71f88268",
   "metadata": {},
   "outputs": [],
   "source": [
    "a=torch.rand(12)\n",
    "a2 = a.reshape(3,4)\n",
    "a3 = a.reshape((3,2,2))\n",
    "a4 = a.reshape((3,2,-1))  #한 개 axis는 -1로 설정가능하고 그럼 계산해서 알아서 설정해 준다.\n",
    "print(a.shape, a2.size(), a3.shape, a4.shape)\n",
    "               "
   ]
  },
  {
   "cell_type": "code",
   "execution_count": null,
   "id": "6744974f",
   "metadata": {},
   "outputs": [],
   "source": [
    "a5 = a.view(3,4)\n",
    "a6 = a.view((3,2,2))\n",
    "a7 = a.view((3,2,-1))  #한개 axis는 -1로 설정가능\n",
    "print(a.shape, a5.size(), a6.shape, a7.shape)"
   ]
  },
  {
   "cell_type": "code",
   "execution_count": null,
   "id": "8ace33cf",
   "metadata": {},
   "outputs": [],
   "source": [
    "# a5[0, 0] = 12.1\n",
    "a2[0, 1] = 15.1\n",
    "\n",
    "print(a2)"
   ]
  },
  {
   "cell_type": "code",
   "execution_count": null,
   "id": "88561ee6",
   "metadata": {},
   "outputs": [],
   "source": [
    "# tensor복사: clone() 메소드\n",
    "r = a.reshape(3, 4).clone()\n",
    "r[0,0] = 100.1\n",
    "print(a)"
   ]
  },
  {
   "cell_type": "code",
   "execution_count": null,
   "id": "220d6190-0c95-46f8-80c7-626d4ade8b0f",
   "metadata": {},
   "outputs": [],
   "source": [
    "r"
   ]
  },
  {
   "cell_type": "markdown",
   "id": "fa8c2fa4",
   "metadata": {},
   "source": [
    "## dummy 축 늘리기\n",
    "\n",
    "- None을 이용 (numpy의 newaxis 대신 None을 사용한다.)\n",
    "- unsqueeze(dim=축번호)"
   ]
  },
  {
   "cell_type": "code",
   "execution_count": null,
   "id": "356a078c",
   "metadata": {},
   "outputs": [],
   "source": [
    "import torch\n",
    "a = torch.tensor([[10,20],[10,20]])\n",
    "print(a.shape)\n",
    "\n",
    "# a1, a2 = a[None, :], a.unsqueeze(dim=0) # dim=정수만가능\n",
    "# print(a1.shape, a2.shape)\n",
    "\n",
    "# a3, a4 = a[:, :, None], a.unsqueeze(dim=-1)   # a[:, None] # 0축 :, 1축 None, 2번축 지정안함 -> 원래대로 그래서 (2, 1, 2) 가됨.\n",
    "# print(a3.shape, a4.shape)\n",
    "\n",
    "# a5, a6 = a3[:,None,:,:, None],  a3.unsqueeze(dim=1)  # unsqueeze(): dim=정수만가능 (한번에 dummy축은 하나만 추가가능.)\n",
    "# print(a5.shape, a6.shape)"
   ]
  },
  {
   "cell_type": "markdown",
   "id": "9947b6ac",
   "metadata": {},
   "source": [
    "## dummy 축 제거\n",
    "- squeeze(\\[dim=축번호\\]) 이용"
   ]
  },
  {
   "cell_type": "code",
   "execution_count": null,
   "id": "4e40b9cf",
   "metadata": {},
   "outputs": [],
   "source": [
    "t = torch.rand(3, 1, 4, 1, 5, 1)\n",
    "print(t.shape)\n",
    "\n",
    "# r1 = t.squeeze()  #축을 명시 하지 않으면 모두 제거\n",
    "# print(r1.shape)\n",
    "\n",
    "# r2 = t.squeeze(dim=1) # 특정 axis 제거\n",
    "# print(r2.shape)\n",
    "\n",
    "# r3 = t.squeeze(dim=[1,3]) # 여러 axis의 dummy 축 제거\n",
    "# print(r3.shape)"
   ]
  },
  {
   "cell_type": "markdown",
   "id": "b3018717",
   "metadata": {},
   "source": [
    "# tensor 합치기\n",
    "torch.cat([tensorA, tensorB, ...], dim=0) : 기준축 default 는 0"
   ]
  },
  {
   "cell_type": "code",
   "execution_count": null,
   "id": "7564c2b5",
   "metadata": {},
   "outputs": [],
   "source": [
    "a = torch.arange(10).reshape(2,5)\n",
    "b = torch.arange(10,20).reshape(2,5)\n",
    "c = torch.arange(20,30).reshape(2,5)\n",
    "d = torch.arange(10,19).reshape(3,3)"
   ]
  },
  {
   "cell_type": "code",
   "execution_count": null,
   "id": "a633d695",
   "metadata": {
    "collapsed": true,
    "jupyter": {
     "outputs_hidden": true
    }
   },
   "outputs": [],
   "source": [
    "torch.cat([a, b], dim=0)"
   ]
  },
  {
   "cell_type": "code",
   "execution_count": null,
   "id": "6ee08217",
   "metadata": {
    "collapsed": true,
    "jupyter": {
     "outputs_hidden": true
    }
   },
   "outputs": [],
   "source": [
    "torch.cat([a, b, c], dim=0)"
   ]
  },
  {
   "cell_type": "code",
   "execution_count": null,
   "id": "edb2f33a",
   "metadata": {},
   "outputs": [],
   "source": [
    "torch.cat([a, b], axis=1) # dim 대신 axis사용가능"
   ]
  },
  {
   "cell_type": "code",
   "execution_count": null,
   "id": "25f7277a",
   "metadata": {},
   "outputs": [],
   "source": [
    "torch.cat([a, b, c], axis=1)"
   ]
  },
  {
   "cell_type": "code",
   "execution_count": null,
   "id": "82477d9e",
   "metadata": {},
   "outputs": [],
   "source": [
    "torch.cat([a, b], axis=-1)  # -1: 마지막 axis"
   ]
  },
  {
   "cell_type": "code",
   "execution_count": null,
   "id": "f441999c",
   "metadata": {},
   "outputs": [],
   "source": [
    "a.shape, d.shape\n",
    "# 합치는 기준축 이외의 축 size는 같아야 한다.\n",
    "# torch.cat([a, d])  #dim=0, Error  1축 size가 달라서 Error"
   ]
  },
  {
   "cell_type": "markdown",
   "id": "c1aaa81f",
   "metadata": {},
   "source": [
    "# 값의 위치(index) 변경\n",
    "- tensor 원소의 index의 위치를 바꾼다.\n",
    "- `tensor.transpose(axis1, axis2)` \n",
    "    - 두 축의 자리만 변경 할 수 있다.\n",
    "- `tensor.permute(axis1, axis2, axis3, ..)`\n",
    "    - 두 개 이상의 축 자리를 변경한다."
   ]
  },
  {
   "cell_type": "code",
   "execution_count": null,
   "id": "c621ab2d",
   "metadata": {},
   "outputs": [],
   "source": [
    "X = torch.arange(24).reshape(2, 3, 4)\n",
    "print(X.shape)\n",
    "\n",
    "y = X.transpose(1, 2)\n",
    "print(y.shape)\n",
    "\n",
    "z = X.permute(2, 0, 1)\n",
    "print(z.shape)"
   ]
  },
  {
   "cell_type": "markdown",
   "id": "2bfe8a88",
   "metadata": {},
   "source": [
    "# tensor 연산 및 주요 함수\n",
    "\n",
    "## element-wise 연산\n",
    "- tensor와 상수 연산시, tensor와 tensor간 연산시 원소별로 처리한다.\n",
    "- 행렬곱 연산을 제외하고 tensor간 연산시 피연산지 tensor간에 shape이 같아야 한다.\n",
    "    - shape이 다를 경우 조건이 맞으면 broadcasting을 한 뒤에 연산한다. (size가 다른 축의 경우 한개의 피연산자 size가 1일 경우 복사하여 shape을 맞춘다.)\n",
    "    "
   ]
  },
  {
   "cell_type": "code",
   "execution_count": null,
   "id": "85d3d7a3",
   "metadata": {},
   "outputs": [],
   "source": [
    "import torch\n",
    "\n",
    "a = torch.arange(10).reshape(2,5)\n",
    "b = torch.arange(10,20).reshape(2,5)\n",
    "c = torch.arange(50, 55)\n",
    "\n",
    "print(a)\n",
    "print(b)\n",
    "print(c)"
   ]
  },
  {
   "cell_type": "code",
   "execution_count": null,
   "id": "24f4f435",
   "metadata": {},
   "outputs": [],
   "source": [
    "print(a + 100)\n",
    "print(a - 100)\n",
    "print(a < 5)"
   ]
  },
  {
   "cell_type": "code",
   "execution_count": null,
   "id": "1a5ed369",
   "metadata": {},
   "outputs": [],
   "source": [
    "print(a + b)\n",
    "print(a == b)"
   ]
  },
  {
   "cell_type": "code",
   "execution_count": null,
   "id": "46ceb3e6-ecd2-41b0-b3c8-c2e87e05171f",
   "metadata": {},
   "outputs": [],
   "source": [
    "a.size(), c.size()"
   ]
  },
  {
   "cell_type": "code",
   "execution_count": null,
   "id": "15256a5e",
   "metadata": {},
   "outputs": [],
   "source": [
    "# broadcasting\n",
    "print(a + c)"
   ]
  },
  {
   "cell_type": "markdown",
   "id": "729874b2",
   "metadata": {},
   "source": [
    "## 주요 연산함수\n",
    "\n",
    "### 주요 상수\n",
    "#### 자연상수 E"
   ]
  },
  {
   "cell_type": "code",
   "execution_count": null,
   "id": "22a50df6",
   "metadata": {},
   "outputs": [],
   "source": [
    "torch.e, np.e"
   ]
  },
  {
   "cell_type": "markdown",
   "id": "b81d7323",
   "metadata": {},
   "source": [
    "#### torch.nan, torch.inf\n",
    "- nan: Not a Number, 주로 결측치를 표현한다.\n",
    "- inf: infinit 무한. \n",
    "    - torch.inf: 양의 무한\n",
    "    - -torch.inf: 음의 무한\n",
    "- torch.isnan(tensor)\n",
    "    - 원소별 결측치 확인\n",
    "- torch.isinf(tensor)    \n",
    "    - 원소별 inf 확인"
   ]
  },
  {
   "cell_type": "code",
   "execution_count": null,
   "id": "7a91f59b",
   "metadata": {},
   "outputs": [],
   "source": [
    "print(torch.inf > 10000000000000000, torch.inf < 10000000000)\n",
    "print(-torch.inf < -1000000000000000000000, -torch.inf > 10)\n"
   ]
  },
  {
   "cell_type": "code",
   "execution_count": null,
   "id": "f0f9cdda",
   "metadata": {},
   "outputs": [],
   "source": [
    "print(torch.log(torch.tensor(-1))) # nan (계산결과가 없으므로-없는값-nan 반환)\n",
    "print(torch.isnan(torch.tensor([1,2,torch.nan,3,4])))  # nan 여부 확인\n",
    "print(torch.isinf(torch.tensor([1,2,3,4,torch.inf])))  # inf 여부 확인"
   ]
  },
  {
   "cell_type": "markdown",
   "id": "86fdcb35",
   "metadata": {},
   "source": [
    "## 주요 연산 함수"
   ]
  },
  {
   "cell_type": "code",
   "execution_count": null,
   "id": "6fc6ac19",
   "metadata": {
    "collapsed": true,
    "jupyter": {
     "outputs_hidden": true
    },
    "scrolled": true
   },
   "outputs": [],
   "source": [
    "x=torch.arange(-4, 5).reshape(3,3)\n",
    "print(x)\n",
    "print(torch.abs(x)) # 절대값 \n",
    "print(torch.sqrt(torch.abs(x))) #  제곱근\n",
    "print(torch.exp(x))  # torch.e**x\n",
    "print(torch.log(torch.abs(x)))\n",
    "print(torch.log(torch.exp(torch.tensor(1))))  # torch.log() 밑이 e인 로그계산\n",
    "print(torch.log10(torch.tensor(10)))         # torch.log10() 밑이 10인 로그계산\n",
    "print(torch.log2(torch.tensor(2)))           # torch.log2() 밑이 2인 로그계산"
   ]
  },
  {
   "cell_type": "code",
   "execution_count": null,
   "id": "026192bd",
   "metadata": {
    "collapsed": true,
    "jupyter": {
     "outputs_hidden": true
    },
    "scrolled": true
   },
   "outputs": [],
   "source": [
    "y = x + torch.randn((3,3))\n",
    "print(y)\n",
    "print(torch.round(y)) # 반올림\n",
    "print(torch.round(y, decimals=2)) # 소수점 둘째자리 이하에서 반올림\n",
    "print(torch.floor(y)) # 내림\n",
    "print(torch.ceil(y)) # 올림"
   ]
  },
  {
   "cell_type": "markdown",
   "id": "358832d4",
   "metadata": {},
   "source": [
    "### 행렬곱\n",
    "- `@` 연산자 또는 `torch.matmul(tensor1, tensor2)` 함수 이용"
   ]
  },
  {
   "cell_type": "code",
   "execution_count": null,
   "id": "ac6cfff6",
   "metadata": {},
   "outputs": [],
   "source": [
    "import torch"
   ]
  },
  {
   "cell_type": "code",
   "execution_count": null,
   "id": "eb349ca8",
   "metadata": {},
   "outputs": [],
   "source": [
    "x = torch.FloatTensor([[1, 2],[3, 4],[5, 6]])\n",
    "\n",
    "y = torch.FloatTensor([[1, 2],[1, 2],])\n",
    "x.size(), y.shape"
   ]
  },
  {
   "cell_type": "code",
   "execution_count": null,
   "id": "4283adae",
   "metadata": {},
   "outputs": [],
   "source": [
    "z1 = x @ y\n",
    "z2 = torch.matmul(x, y)\n",
    "print(z1.shape, z2.shape)\n",
    "print(z1)\n",
    "print(z2)"
   ]
  },
  {
   "cell_type": "code",
   "execution_count": null,
   "id": "004d5f21",
   "metadata": {},
   "outputs": [],
   "source": [
    "# Batch 행렬곱(Batch matrix muliplication) - bmm()\n",
    "# 피연산자로 두개의 3차원 tensor를 axis (1, 2)를 기준으로 행렬곱을 처리한다.\n",
    "import torch\n",
    "x = torch.FloatTensor(3,4,2)\n",
    "y = torch.FloatTensor(3,2,5)\n",
    "z = torch.bmm(x, y)\n",
    "z.shape\n"
   ]
  },
  {
   "cell_type": "markdown",
   "id": "2214bd73",
   "metadata": {},
   "source": [
    "## 기술통계함수"
   ]
  },
  {
   "cell_type": "code",
   "execution_count": null,
   "id": "11a0d448",
   "metadata": {},
   "outputs": [],
   "source": [
    "X=torch.randn(3,4)\n",
    "print(X)"
   ]
  },
  {
   "cell_type": "code",
   "execution_count": null,
   "id": "7b696371",
   "metadata": {
    "collapsed": true,
    "jupyter": {
     "outputs_hidden": true
    }
   },
   "outputs": [],
   "source": [
    "print(torch.sum(X))  # default: 전체기준으로 계산. dim=None\n",
    "print(torch.sum(X, dim=1)) #dim/axis 지정: 지정한 axis의 index가 다른 값끼리 계산.\n",
    "print(torch.sum(X, dim=1, keepdims=True)) # 기술통계함수들을 실행하면 차원이 줄어든다. keepdims=True로 하면 차원유지"
   ]
  },
  {
   "cell_type": "code",
   "execution_count": null,
   "id": "99c06f26",
   "metadata": {},
   "outputs": [],
   "source": [
    "print(torch.mean(X))\n",
    "print(torch.mean(X, dim=0))\n",
    "print(torch.mean(X, dim=0, keepdims=True))"
   ]
  },
  {
   "cell_type": "code",
   "execution_count": null,
   "id": "db8d8f1e",
   "metadata": {},
   "outputs": [],
   "source": [
    "print(torch.std(X)) # standard deviation 표준 편차\n",
    "print(torch.var(X)) # variance\n",
    "print(torch.var(X, dim=0))"
   ]
  },
  {
   "cell_type": "code",
   "execution_count": null,
   "id": "51ecc064",
   "metadata": {},
   "outputs": [],
   "source": [
    "# tensor.메소드() \n",
    "print(X.sum(dim=1, keepdims=True))\n",
    "print(X.mean(dim=1, keepdims=True))\n",
    "print(X.std())"
   ]
  },
  {
   "cell_type": "code",
   "execution_count": null,
   "id": "f72865f1-80e6-4433-a366-02449bc493df",
   "metadata": {},
   "outputs": [],
   "source": [
    "X"
   ]
  },
  {
   "cell_type": "code",
   "execution_count": null,
   "id": "afe123ff",
   "metadata": {},
   "outputs": [],
   "source": [
    "print(torch.max(X)) # 전체 기준 max값 계산.\n",
    "# print(torch.max(X, dim=0))  # 축을 지정하면 return_types.max 타입객체로 반환. max값과 max값의 index를 묶어서 반환\n",
    "# print(torch.max(X, dim=1))\n",
    "# print(torch.max(X, dim=1).values, torch.max(X, dim=1).indices, sep=\" || \")\n",
    "\n",
    "\n",
    "# print(torch.max(X, dim=0, keepdims=True))  #keepdims=True : 차원(rank)를 유지\n",
    "# print(torch.max(X, dim=1, keepdims=True))"
   ]
  },
  {
   "cell_type": "code",
   "execution_count": null,
   "id": "234df8b9",
   "metadata": {},
   "outputs": [],
   "source": [
    "print(torch.min(X))\n",
    "# print(torch.min(X, dim=0)) # return_types.min 타입객체로 반환. min값과 min값의 index를 묶어서 반환\n",
    "# print(torch.min(X, dim=1))"
   ]
  },
  {
   "cell_type": "code",
   "execution_count": null,
   "id": "33c01aed",
   "metadata": {},
   "outputs": [],
   "source": [
    "\n",
    "# print(torch.argmax(X))\n",
    "# print(torch.argmax(X, dim=0)) # 각 열에서 가장 큰 애가 존재하는 인덱스\n",
    "# print(torch.argmax(X, dim=1)) # 각 행에서 가장 큰 애가 존재하는 인덱스"
   ]
  },
  {
   "cell_type": "code",
   "execution_count": null,
   "id": "642696a3-bfe3-41f5-a4fc-397075454e2d",
   "metadata": {},
   "outputs": [],
   "source": [
    "a = torch.max(X, dim=0)\n",
    "print(a.values)\n",
    "print(a.indices)"
   ]
  },
  {
   "cell_type": "markdown",
   "id": "a02bf59a",
   "metadata": {},
   "source": [
    "# autograd(자동미분)\n",
    "- 자동 미분을 이용해 gradient(미분계수)를 계산하는 pytorch system.\n",
    "- 딥러닝 모델에서 weight와 bias tensor들(Parameter)은 backpropagation(역전파)를 이용해 gradient를 구해서 loss가 줄어드는 방향으로 update를 하게된다.\n",
    "- pytorch는 이런 미분 수행을 자동으로 처리해 준다.\n",
    "    - gradient(기울기)를 구한다는 것은 미분을 한다는 것을 말한다.\n",
    "- tensor가 미분 가능하려면(gradient 계산 대상 변수) `requires_grad=True` 로 설정되 있어야 한다. (default: False)\n",
    "\n",
    "> - **미분**\n",
    ">   -  (순간) 변화율을 계산한다.\n",
    ">   - $$\\frac{\\partial y}{\\partial x}$$\n",
    ">       - x에 대한 y의 변화율. 즉 x가 변하면 y는 얼마나 변할까?"
   ]
  },
  {
   "cell_type": "code",
   "execution_count": null,
   "id": "4148abde",
   "metadata": {},
   "outputs": [],
   "source": []
  },
  {
   "cell_type": "code",
   "execution_count": null,
   "id": "636c340f",
   "metadata": {},
   "outputs": [],
   "source": []
  },
  {
   "cell_type": "code",
   "execution_count": null,
   "id": "80eed801",
   "metadata": {},
   "outputs": [],
   "source": []
  },
  {
   "cell_type": "code",
   "execution_count": null,
   "id": "f754482a",
   "metadata": {},
   "outputs": [],
   "source": []
  },
  {
   "cell_type": "code",
   "execution_count": null,
   "id": "eeda5aa3",
   "metadata": {},
   "outputs": [],
   "source": []
  },
  {
   "cell_type": "code",
   "execution_count": null,
   "id": "d2d6db62-c2ba-46ca-a869-fe7ed47c3fe4",
   "metadata": {},
   "outputs": [],
   "source": []
  },
  {
   "cell_type": "markdown",
   "id": "a304c280",
   "metadata": {},
   "source": [
    "## torch.no_grad() \n",
    "- no_grad()를 with 구문에서 연산을 할 경우 with block 내에서 requires_grad=True로 설정된 변수를 이용한 계산식이 있더라도 grad_fn을 생성하지 않는다. 즉 gradient를 계산하지 않는다.\n",
    "- 딥러닝 모델을 평가 하거나 추론을할 때는 gradient를 계산할 필요가 없기 때문에 no_grad 구문을 사용한다.\n"
   ]
  },
  {
   "cell_type": "code",
   "execution_count": null,
   "id": "9de65a7d",
   "metadata": {},
   "outputs": [],
   "source": []
  },
  {
   "cell_type": "code",
   "execution_count": null,
   "id": "1bfa3986",
   "metadata": {},
   "outputs": [],
   "source": []
  },
  {
   "cell_type": "code",
   "execution_count": null,
   "id": "2e04d635",
   "metadata": {},
   "outputs": [],
   "source": []
  },
  {
   "cell_type": "code",
   "execution_count": null,
   "id": "59bea7a3",
   "metadata": {},
   "outputs": [],
   "source": []
  },
  {
   "cell_type": "markdown",
   "id": "b3811c4b",
   "metadata": {},
   "source": [
    "## gradient 값 초기화\n",
    "- backward() 에서 계산되어 저장된 gradient값을 초기화한다.\n",
    "- 반복 학습을 할 경우 gradient가 누적되는 문제가 발생한다. 그래서 한번 학습이 끝나면 다음 학습 전에 초기화하는 작업을 해야 한다."
   ]
  },
  {
   "cell_type": "code",
   "execution_count": null,
   "id": "60622e6b",
   "metadata": {},
   "outputs": [],
   "source": []
  },
  {
   "cell_type": "code",
   "execution_count": null,
   "id": "5d55ff89",
   "metadata": {},
   "outputs": [],
   "source": []
  },
  {
   "cell_type": "code",
   "execution_count": null,
   "id": "60daa5fe",
   "metadata": {},
   "outputs": [],
   "source": []
  }
 ],
 "metadata": {
  "kernelspec": {
   "display_name": "Python 3 (ipykernel)",
   "language": "python",
   "name": "python3"
  },
  "language_info": {
   "codemirror_mode": {
    "name": "ipython",
    "version": 3
   },
   "file_extension": ".py",
   "mimetype": "text/x-python",
   "name": "python",
   "nbconvert_exporter": "python",
   "pygments_lexer": "ipython3",
   "version": "3.12.7"
  },
  "toc": {
   "base_numbering": 1,
   "nav_menu": {},
   "number_sections": true,
   "sideBar": true,
   "skip_h1_title": false,
   "title_cell": "Table of Contents",
   "title_sidebar": "Contents",
   "toc_cell": false,
   "toc_position": {},
   "toc_section_display": true,
   "toc_window_display": false
  },
  "varInspector": {
   "cols": {
    "lenName": 16,
    "lenType": 16,
    "lenVar": 40
   },
   "kernels_config": {
    "python": {
     "delete_cmd_postfix": "",
     "delete_cmd_prefix": "del ",
     "library": "var_list.py",
     "varRefreshCmd": "print(var_dic_list())"
    },
    "r": {
     "delete_cmd_postfix": ") ",
     "delete_cmd_prefix": "rm(",
     "library": "var_list.r",
     "varRefreshCmd": "cat(var_dic_list()) "
    }
   },
   "types_to_exclude": [
    "module",
    "function",
    "builtin_function_or_method",
    "instance",
    "_Feature"
   ],
   "window_display": false
  }
 },
 "nbformat": 4,
 "nbformat_minor": 5
}
