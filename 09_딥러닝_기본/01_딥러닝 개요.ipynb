{
 "cells": [
  {
   "cell_type": "markdown",
   "metadata": {
    "slideshow": {
     "slide_type": "slide"
    }
   },
   "source": [
    "# 딥러닝 개요"
   ]
  },
  {
   "cell_type": "markdown",
   "metadata": {
    "slideshow": {
     "slide_type": "fragment"
    }
   },
   "source": [
    "![01_ai_ml_dl](https://raw.githubusercontent.com/kgmyhGit/image_resource/main/deeplearning/figures/01_ai_ml_dl.png)"
   ]
  },
  {
   "cell_type": "markdown",
   "metadata": {
    "slideshow": {
     "slide_type": "fragment"
    }
   },
   "source": [
    "- ## 인공지능 (AI - Artificial Intelligence)\n",
    "    - 지능: 어떤 문제를 해결하기 위한 지적 활동 능력\n",
    "    - 인공지능\n",
    "        - 기계가 사람의 지능을 모방하게 하는 기술\n",
    "        - 규칙기반, 데이터 학습 기반\n",
    "\n",
    "### Strong AI (강 인공지능) vs Weak AI (약 인공지능)\n",
    "- Artificial General Intelligence (AGI)\n",
    "    - 인간이 할 수 있는 모든 지적인 업무를 해낼 수 있는 (가상적인) 기계의 지능을 말한다. 인공지능 연구의 주요 목표.\n",
    "- **Strong AI (강 인공지능)**\n",
    "    - AGI 성능을 가지는 인공지능\n",
    "    - 인공지능 연구가 목표하는 방향.\n",
    "    \n",
    "- **Weak AI (약 인공지능)**\n",
    "    - 기존에 인간은 쉽게 해결할 수 있었지만 컴퓨터로 처리하기 어려웠던 일을 컴퓨터가 수행할 수 있도록 하는 것이 목적.\n",
    "    - 지각(知覺)을 가지고 있지 않으며 **특정한 업무를 처리**하는데 집중한다.\n"
   ]
  },
  {
   "cell_type": "markdown",
   "metadata": {},
   "source": [
    "### 딥러닝의 발전을 가능하게 만든 세가지 요소 (주로 2010년대부터)\n",
    "- **데이터의 급격한 증가**\n",
    "    - 디지털사진, 동영상, IoT 기기, SNS 컨텐츠 등으로 인해 데이터가 폭발적으로 증가 \n",
    "    - 전 세계 디지털데이터의 90%가 최근 2년 동안 생성 \n",
    "- **알고리즘의 발전**\n",
    "    - 급증한 데이터를 이용한 기존 알고리즘 개선 및 새로운 알고리즘들이 개발됨.\n",
    "- **컴퓨터 하드웨어의 발전**\n",
    "    - CPU와 GPU의 발전. \n",
    "    - 특히 GPU의 발전은 딥러닝의 발전으로 이어짐.\n",
    "    - TPU(Tensor Processing Unit)\n",
    "        - 구글에서 개발한 딥러닝 전용 칩셋"
   ]
  },
  {
   "cell_type": "markdown",
   "metadata": {},
   "source": [
    "## 머신러닝과 딥러닝 \n",
    "\n",
    "### 머신러닝(Machine Learning)\n",
    "- 데이터 학습 기반의 인공 지능 분야\n",
    "- 기계에게 어떻게 동작할지 일일이 코드로 명시하지 않고 데이터를 이용해 학습할 수 있도록 하는 알고리즘과 기술을 개발하는 인공지능의 한분야\n",
    "\n",
    "### 딥러닝 (Deep Learning)\n",
    "- 인공신경망 알고리즘을 기반으로 하는 머신러닝의 한 분야. 비정형데이터(영상, 음성, 텍스트)에서 뛰어난 성능을 나타낸다. 단 학습 데이터의 양이 많아야 한다. \n",
    "\n",
    "> - 비정형 데이터\n",
    ">    - 정해진 규칙 없이 저장되어 값의 의미나 특성을 쉽게 파악할 수 없는 데이터\n",
    ">    - 텍스트, 영상, 음성 데이터가 대표적인 예이다.\n",
    "> - 정형 데이터\n",
    ">    - 표(table)형태의 미리 정해 놓은 형식과 구조에 따라 저장되도록 구성된 데이터로 그 의미나 특성파악이 용이하다.\n",
    ">    - 대표적이 예로 관계형 데이터베이스가 있다."
   ]
  },
  {
   "cell_type": "markdown",
   "metadata": {},
   "source": [
    "## 기존 프로그래밍 방식과 머신러닝 방식의 차이\n",
    "\n",
    "![img](https://raw.githubusercontent.com/kgmyhGit/image_resource/main/deeplearning/figures/01_ml_tr.png)\n",
    "\n",
    "- 기존 프로그래밍방식\n",
    "    - 알고리즘(규칙)을 **사람이** 생각한다.\n",
    "- 머신러닝\n",
    "    - 알고리즘을 데이터를 학습시켜 찾아낸다."
   ]
  },
  {
   "cell_type": "markdown",
   "metadata": {},
   "source": [
    "## 머신러닝 모델(알고리즘, 모형)\n",
    "- 모델이란 데이터의 패턴을 수식화 한 함수를 말한다.\n",
    "    - **함수(Function)**\n",
    "        - 입력데이터와 출력데이터간의 관계\n",
    "    - 머신러닝은 입력데이터와 출력데이터를 이용해 그 둘의 관계 mapping에 근사한 함수를 찾는다.\n",
    "    - 그러나 처음에는 방대한 데이터에 대한 정확한 패턴을 알 수 없기 때문에 \"이 데이터는 이런 패턴을 가졌을 것\"이라고 가정한 함수(가설)를 정한 뒤 데이터를 학습시켜 데이터 패턴을 잘 표현하는(근사한) 함수를 만든다.\n",
    "\n"
   ]
  },
  {
   "cell_type": "markdown",
   "metadata": {
    "slideshow": {
     "slide_type": "slide"
    }
   },
   "source": [
    "\n",
    "## 딥러닝의 특징\n",
    "\n",
    "- 기존 머신러닝과 딥러닝은 모두 데이터를 학습시켜 모델을 구축한다는 공통점을 가진다.  \n",
    "- 효과적인 학습을 위해서는 데이터로부터 목표에 적합한 특성을 추출하여 학습 데이터셋을 잘 구성해야 한다.  \n",
    "  - 원본 데이터(raw data)에는 패턴 인식에 불필요하거나 방해가 되는 노이즈(noise)가 포함되어 있다.  \n",
    "  - 따라서 데이터 전처리를 통해 노이즈를 제거하고 유의미한 특성을 추출해야 한다. 이러한 과정을 **데이터 전처리(data preprocessing)** 또는 **특성 추출(feature extraction)** 이라고 한다.  \n",
    "- 기존 머신러닝에서는 특성 추출(feature extraction)을 사람이 직접 수행하고, 이후에 생성된 특성 벡터(feature vector)를 기반으로 모델이 학습된다.  \n",
    "- 딥러닝은 모델이 학습 과정에서 특성 추출과 모델 학습을 동시에 수행한다.  \n",
    "- 이러한 구조 덕분에 딥러닝은 이미지, 음성, 텍스트 등과 같은 특성 추출을 잘 하기가 어려운운 비정형 데이터에서 우수한 성능을 보인다. 반면, 특성 추출이 상대적으로 쉬운 정형 데이터에서는 기존 머신러닝이 더 효율적일 수 있다.\n"
   ]
  },
  {
   "cell_type": "markdown",
   "metadata": {
    "slideshow": {
     "slide_type": "fragment"
    }
   },
   "source": [
    "### 전통적 기계학습(Machine learning) Process\n",
    "![image.png](https://raw.githubusercontent.com/kgmyhGit/image_resource/main/deeplearning/figures/01_ml_features.png)"
   ]
  },
  {
   "cell_type": "markdown",
   "metadata": {},
   "source": [
    "- 특징 추출기를 사람이 만들어야 함. 다시 말해 전처리를 사람이 해줘야 한다는 뜻이다. (어렵다)"
   ]
  },
  {
   "cell_type": "markdown",
   "metadata": {
    "slideshow": {
     "slide_type": "fragment"
    }
   },
   "source": [
    "### 딥러닝(Deep Learning) Process\n",
    "![image.png](https://raw.githubusercontent.com/kgmyhGit/image_resource/main/deeplearning/figures/01_dl_features.png)"
   ]
  },
  {
   "cell_type": "markdown",
   "metadata": {},
   "source": [
    "- 특징 추출이 어려웠는데 -> 딥러닝에서는 Feature Extractor도 기계한테 학습시키네? -> 굿굿~\n",
    "- 기존 머신러닝 데이터에 비해서 엄청 많은 데이터가 필요하겠죠? \"전부\" 학습 시키는 거니까\n",
    "- 학습 시킬 데이터가 많이 없었을 땐, 모델이 복잡한 거에 비해 데이터가 부족해서 overfitting 문제가 있었는데, 기술의 발전으로 데이터가 많아지면서 해결됨.\n",
    "- **핵심은 특징 추출 방법이 달라졌다는 거: 사람이 특징 추출 -> 특징 추출까지 기계한테 학습 시킴**"
   ]
  },
  {
   "cell_type": "markdown",
   "metadata": {
    "slideshow": {
     "slide_type": "slide"
    }
   },
   "source": [
    "## 딥러닝 적용 분야\n",
    "![image.png](https://raw.githubusercontent.com/kgmyhGit/image_resource/main/deeplearning/figures/01_dl_use_img.png)"
   ]
  },
  {
   "cell_type": "markdown",
   "metadata": {},
   "source": [
    "\\+ segmentation: 누끼 따는 거. 내 폰에 있는 거... ^~^"
   ]
  },
  {
   "cell_type": "markdown",
   "metadata": {
    "slideshow": {
     "slide_type": "fragment"
    }
   },
   "source": [
    "<img src=\"https://raw.githubusercontent.com/kgmyhGit/image_resource/main/deeplearning/figures/01_dl_use_text.png\" width=\"60%\" >"
   ]
  },
  {
   "cell_type": "markdown",
   "metadata": {
    "slideshow": {
     "slide_type": "fragment"
    }
   },
   "source": [
    "<img src=\"https://raw.githubusercontent.com/kgmyhGit/image_resource/main/deeplearning/figures/01_dl_use_stt_tts.png\" width=\"60%\" >"
   ]
  },
  {
   "cell_type": "markdown",
   "metadata": {},
   "source": [
    "<img src=\"https://raw.githubusercontent.com/kgmyhGit/image_resource/main/deeplearning/figures/01_dl_use_gen.png\" width=\"60%\" >"
   ]
  },
  {
   "cell_type": "markdown",
   "metadata": {
    "slideshow": {
     "slide_type": "slide"
    }
   },
   "source": [
    "# 딥러닝 프로세스\n",
    "\n",
    "- **학습단계**\n",
    "  \n",
    "![image.png](https://raw.githubusercontent.com/kgmyhGit/image_resource/main/deeplearning/figures/01_dl_train.png)"
   ]
  },
  {
   "cell_type": "markdown",
   "metadata": {},
   "source": [
    "이런 네트워크 구조를 우리가 만들어 줘야 하는 거임!\n",
    "\n",
    "그래서 머신러닝은 \"전처리 단계\"가 가장 중요하다면, 딥러닝은 \"모델을 잘 만드는 것\"이 가장 중요하다~!~!\n",
    "\n",
    "손실함수의 값이 낮아지는 방향으로 파라미터를 업데이트 하여 최적화 한다."
   ]
  },
  {
   "cell_type": "markdown",
   "metadata": {
    "slideshow": {
     "slide_type": "fragment"
    }
   },
   "source": [
    "- **평가단계**\n",
    "  \n",
    "![image.png](https://raw.githubusercontent.com/kgmyhGit/image_resource/main/deeplearning/figures/01_dl_test.png)"
   ]
  },
  {
   "cell_type": "markdown",
   "metadata": {},
   "source": [
    "# pytorch 소개 및 설치\n",
    "\n",
    "- Meta(구 Facebook)에서 torch와 caffe2를 기반으로 개발한 Python 오픈소스 딥러닝 라이브러리이다.\n",
    "    - Google에서 개발한 tensorflow와 함께 딥러닝 라이브러리(Framework)의 양 대장이다.\n"
   ]
  },
  {
   "cell_type": "markdown",
   "metadata": {},
   "source": [
    "- **구글 트랜드**\n",
    "  - 파란색: pytorch, 빨강색: tensorflow\n",
    "  \n",
    "![image-2.png](https://raw.githubusercontent.com/kgmyhGit/image_resource/main/deeplearning/figures/01_pytorch_tensorflow.png)"
   ]
  },
  {
   "cell_type": "markdown",
   "metadata": {},
   "source": [
    "요즘은 pytorch를 더 많이 써요~!~!"
   ]
  },
  {
   "cell_type": "markdown",
   "metadata": {},
   "source": [
    "- Huggingface 에 pytorch, tensorflow로 구현된 모델 수(모델 가용성) (참고. Huggingface는 딥러닝계의 깃허브. 오픈소스 커뮤니티이다.)\n",
    "  \n",
    "![image-2.png](https://raw.githubusercontent.com/kgmyhGit/image_resource/main/deeplearning/figures/01_pytorch_tensorflow2.png)"
   ]
  },
  {
   "cell_type": "markdown",
   "metadata": {},
   "source": [
    "- 연구 논문 비교\n",
    "\n",
    "![image-2.png](https://raw.githubusercontent.com/kgmyhGit/image_resource/main/deeplearning/figures/01_pytorch_tensorflow3.png)"
   ]
  },
  {
   "cell_type": "markdown",
   "metadata": {},
   "source": [
    "## 설치\n",
    "\n",
    "1. https://pytorch.org/ \n",
    "2. 자신의 환경을 선택한 뒤 생성된 명령어로 설치\n",
    "\n",
    "![image.png](https://raw.githubusercontent.com/kgmyhGit/image_resource/main/deeplearning/figures/01_pytorch_install.png)"
   ]
  },
  {
   "cell_type": "code",
   "execution_count": null,
   "metadata": {},
   "outputs": [],
   "source": []
  }
 ],
 "metadata": {
  "kernelspec": {
   "display_name": "Python 3 (ipykernel)",
   "language": "python",
   "name": "python3"
  },
  "language_info": {
   "codemirror_mode": {
    "name": "ipython",
    "version": 3
   },
   "file_extension": ".py",
   "mimetype": "text/x-python",
   "name": "python",
   "nbconvert_exporter": "python",
   "pygments_lexer": "ipython3",
   "version": "3.12.9"
  },
  "toc": {
   "base_numbering": 1,
   "nav_menu": {},
   "number_sections": false,
   "sideBar": true,
   "skip_h1_title": false,
   "title_cell": "Table of Contents",
   "title_sidebar": "Contents",
   "toc_cell": false,
   "toc_position": {},
   "toc_section_display": true,
   "toc_window_display": false
  },
  "varInspector": {
   "cols": {
    "lenName": 16,
    "lenType": 16,
    "lenVar": 40
   },
   "kernels_config": {
    "python": {
     "delete_cmd_postfix": "",
     "delete_cmd_prefix": "del ",
     "library": "var_list.py",
     "varRefreshCmd": "print(var_dic_list())"
    },
    "r": {
     "delete_cmd_postfix": ") ",
     "delete_cmd_prefix": "rm(",
     "library": "var_list.r",
     "varRefreshCmd": "cat(var_dic_list()) "
    }
   },
   "types_to_exclude": [
    "module",
    "function",
    "builtin_function_or_method",
    "instance",
    "_Feature"
   ],
   "window_display": false
  }
 },
 "nbformat": 4,
 "nbformat_minor": 4
}
