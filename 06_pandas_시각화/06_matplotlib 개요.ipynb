{
 "cells": [
  {
   "cell_type": "markdown",
   "metadata": {},
   "source": [
    "# 데이터 시각화의 개념 및 필요성\n",
    "\n",
    "## 데이터 시각화\n",
    "- 데이터의 분석 결과를 쉽게 이해하고 판단할 수 있도록 데이터를 시각적으로 표현하여 전달하기 위한 과정을 말한다.\n",
    "\n",
    "## 필요성\n",
    "- 많은 양의 데이터를 한눈에 파악할 수 있다. 시각적 요소를 활용해 데이터를 요약한다.\n",
    "- 데이터 분석에 대한 전문적 지식이 없더라도 누구나 해당 데이터를 인지하고 활용할 수있게한다.\n",
    "    - 사람이 감각기관을 통해 획득하는 정보의 80%는 시각에 의한 것이다.\n",
    "    - 시각적인 입력은 다른 어떤 방법보다 빠르고 쉽게 사람이 이해할 수 있다.\n",
    "    - 시각화 형태, 요소, 위치, 색등을 기반으로 패턴이나 다양한 인사이트(의미있는 정보)를 도출 및 표현할 수 있다.\n",
    "- 단순한 데이터 요약, 통계분석 결과보다 정확한 데이터 분석결과를 도출할 수있다.\n",
    "    - 데이터의 패턴이나 추세, 데이터간 비교등 표(Table)로 쉽게 인식 할 수 없는 것들을 시각적으로 쉽게 확인할 수 있다.\n",
    "- [앤스컴 4분할 그래프(Anscombe's quartet)의 예](https://ko.wikipedia.org/wiki/%EC%95%A4%EC%8A%A4%EC%BB%B4_%EC%BD%B0%EB%A5%B4%ED%85%9F)\n",
    "    - 시각화의 중요성을 나타내는 예.\n",
    "    - 4개의 데이터셋은 평균, 표준편차, 상관계수 등의 통계량이 거의 일치한다. 그래서 통계량적으로는 같은 데이터셋이다.\n",
    "    - 그러나 시각화해서 그래프를 그려보면 전혀 다른 데이터 셋이다.\n",
    "# 대표적 파이썬 시각화 라이브러리\n",
    "- matplotlib\n",
    "- seaborn\n",
    "- pandas\n",
    "- plotly\n",
    "- folium"
   ]
  },
  {
   "cell_type": "markdown",
   "metadata": {
    "slideshow": {
     "slide_type": "slide"
    }
   },
   "source": [
    "#  Matplotlib\n",
    "- 데이터의 시각화를 위한 파이썬 패키지\n",
    "- 2차원 그래프를 위한 패키지이나 확장 API들을 이용해 3D 그래프등 다양한 형식의 시각화를 지원\n",
    "- 파이썬 기반의 다른 시각화 패키지의 기본이 된다.\n",
    "    - Seaborn, Pandas 등이 Matplotlib를 기반으로 사용한다.\n",
    "- https://matplotlib.org"
   ]
  },
  {
   "cell_type": "markdown",
   "metadata": {},
   "source": [
    "## 그래프 구성요소\n",
    "<img src='https://matplotlib.org/stable/_images/anatomy.png' width='1024'>"
   ]
  },
  {
   "cell_type": "markdown",
   "metadata": {
    "slideshow": {
     "slide_type": "subslide"
    }
   },
   "source": [
    "- **figure**\n",
    "    - 전체 그래프가 위치할 기본 틀\n",
    "    - 하나의 figure에 여러개의 그래프를 그릴 수 있다.\n",
    "    - https://matplotlib.org/stable/api/_as_gen/matplotlib.pyplot.figure.html\n",
    "- **axes(subplot)**\n",
    "    - figure내에 한개의 그래프를 그리기 위한 공간\n",
    "        - figure에 한개 이상의 axes(subplot)로 구성해서 각 axes에 그래프를 그린다.\n",
    "    - https://matplotlib.org/stable/api/axes_api.html\n",
    "- **axis** \n",
    "    - 축 (x축, y축)은 값들을 표시하는 선을 말한다.\n",
    "    - axis label (x, y) : 축의 레이블(설명)\n",
    "- **ticks** : 축의 값을 알려주는 눈금\n",
    "    - Major tick\n",
    "    - Minor tick\n",
    "- **title** : 플롯 제목   \n",
    "- **legend (범례)**\n",
    "    - 하나의 axes내에 여러 그래프를 그린 경우 그것에 대한 설명"
   ]
  },
  {
   "cell_type": "code",
   "execution_count": null,
   "metadata": {
    "ExecuteTime": {
     "end_time": "2019-08-16T05:23:59.675885Z",
     "start_time": "2019-08-16T05:23:59.227087Z"
    },
    "slideshow": {
     "slide_type": "subslide"
    }
   },
   "outputs": [],
   "source": [
    "# %matplotlib inline\n",
    "\n",
    "import matplotlib.pyplot as plt\n",
    "import numpy as np\n",
    "\n",
    "plt.style.use(\"dark_background\")\n",
    "\n",
    "fig = plt.figure(figsize=(15,7), facecolor='gray') #facecolor: figure의 배경색\n",
    "axes1 = fig.add_subplot(1,2,1)\n",
    "axes2 = fig.add_subplot(1,2,2)\n",
    "\n",
    "axes1.plot([1,2,3,4,5], [10,20,30,40,50], label='line1')\n",
    "axes1.plot([1,2,3,4,5], [50,40,30,20,10], label='line2')\n",
    "axes2.scatter(np.random.randint(100, size=50), np.random.randint(100, 200, size=50), color='r')\n",
    "\n",
    "fig.suptitle('Example of Plot', size=25, color='blue') #size: 폰트크기, color: 글자색\n",
    "axes1.set_title(\"PLOT 1\", size=20)\n",
    "axes2.set_title(\"Plot 2\", size=20)\n",
    "\n",
    "axes1.set_xlabel(\"X축\", size=15)\n",
    "axes1.set_ylabel(\"Y축\", size=15)\n",
    "axes2.set_xlabel(\"가격1\", size=15)\n",
    "axes2.set_ylabel('가격2', size=15)\n",
    "\n",
    "axes1.legend()\n",
    "axes1.grid(True)\n",
    "plt.show()"
   ]
  },
  {
   "cell_type": "markdown",
   "metadata": {
    "slideshow": {
     "slide_type": "slide"
    }
   },
   "source": [
    "# 그래프 그리기\n",
    "1. matplotlib.pyplot 모듈을 import\n",
    "    - 2차원 그래프(axis가 두개인 그래프)를 그리기위한 함수를 제공하는 모듈\n",
    "    - 별칭(alias) 로 plt를 관례적으로 사용한다.\n",
    "    - `import matplotlib.pyplot as plt`\n",
    "\n",
    "2. 그래프를 그린다.\n",
    " \n",
    "3. 그래프에 필요한 설정을 한다.\n",
    "\n",
    "4. 화면에 그린다.\n",
    "    - 지연 랜더링(Deferred rendering) 메카니즘\n",
    "    - 마지막에 `pyplot.show()` 호출 시 그래프를 그린다.\n",
    "        - 주피터 노트북에서는 생략할 수 있다."
   ]
  },
  {
   "cell_type": "markdown",
   "metadata": {
    "slideshow": {
     "slide_type": "slide"
    }
   },
   "source": [
    "# 그래프를 그리는 두가지 방식\n",
    "- pyplot 모듈의 함수들을 사용한다.\n",
    "- Figure와 Axes 객체의 메소드들을 사용한다."
   ]
  },
  {
   "cell_type": "markdown",
   "metadata": {
    "slideshow": {
     "slide_type": "subslide"
    }
   },
   "source": [
    "## pyplot 모듈을 이용해 그리기\n",
    "1. pyplot 모듈이 그래프 그리는 함수와 Axes(Subplot) 설정 관련 함수를 제공"
   ]
  },
  {
   "cell_type": "code",
   "execution_count": null,
   "metadata": {},
   "outputs": [],
   "source": [
    "# 그래프에 사용할 데이터\n",
    "x = [1,   2,  3,  4,   5]\n",
    "y = [10, 5, 30, 30, 50]"
   ]
  },
  {
   "cell_type": "code",
   "execution_count": null,
   "metadata": {},
   "outputs": [],
   "source": [
    "# 임포트\n",
    "import matplotlib.pyplot as plt  \n",
    "# 그래프 그리기 (선그래프)\n",
    "plt.plot(x, y)\n",
    "### 그래프에 여러 설정\n",
    "plt.title(\"그래프 제목\", fontsize=\"25\")\n",
    "plt.xlabel(\"X축 Label\")\n",
    "plt.ylabel(\"Y축 Label\")\n",
    "plt.grid(True, linestyle=\":\")\n",
    "\n",
    "# 파일로 저장\n",
    "plt.savefig(\"line.png\")\n",
    "# 그래프를 화면에 출력\n",
    "plt.show()"
   ]
  },
  {
   "cell_type": "code",
   "execution_count": null,
   "metadata": {},
   "outputs": [],
   "source": []
  },
  {
   "cell_type": "markdown",
   "metadata": {
    "slideshow": {
     "slide_type": "subslide"
    }
   },
   "source": [
    "2. 하나의 figure에 여러 그래프 그리기\n",
    "    - plt.subplot(row,columns,num)"
   ]
  },
  {
   "cell_type": "code",
   "execution_count": null,
   "metadata": {},
   "outputs": [],
   "source": [
    "# 전체 figure의 크기 변경\n",
    "plt.figure(figsize=(10, 7))  # (좌우너비, 상하높이) 단위: inch\n",
    "\n",
    "# 좌->우, 상->하  순번: 1부터 시작\n",
    "plt.subplot(2, 2, 1)   # (2행, 2열, 첫번째 위치)\n",
    "# 그래프 그리고 설정.\n",
    "plt.plot(x, y)\n",
    "plt.scatter(x, x)   \n",
    "plt.title(\"1번 그래프\")\n",
    "\n",
    "plt.subplot(1, 2, 2) # (1행, 2열, 두번째 위치)\n",
    "plt.plot(y, x)\n",
    "plt.title(\"2번 그래프\")\n",
    "\n",
    "plt.subplot(2, 2, 3) # (2행, 2열, 세번째 위치)\n",
    "plt.scatter(x, y)\n",
    "plt.title(\"3번 그래프\")\n",
    "plt.show()"
   ]
  },
  {
   "cell_type": "markdown",
   "metadata": {},
   "source": [
    "3. 하나의 axes에 여러 그래프를 그리기."
   ]
  },
  {
   "cell_type": "code",
   "execution_count": null,
   "metadata": {},
   "outputs": [],
   "source": [
    "# 최종 출력 전에 그래프 그리는 함수들을 호출 하면 하나의 axes에 모두 그린다.\n",
    "plt.plot(x, y, label=\"1번 선\") # label: 그래프의 이름\n",
    "plt.plot(y, x, label=\"2번 선\")\n",
    "plt.scatter(y, y, label=\"1번 점\", color=\"green\")\n",
    "plt.legend() # 각 그래프의 label을 이용해서 범례를 출력\n",
    "\n",
    "plt.show()"
   ]
  },
  {
   "cell_type": "code",
   "execution_count": null,
   "metadata": {
    "slideshow": {
     "slide_type": "fragment"
    }
   },
   "outputs": [],
   "source": []
  },
  {
   "cell_type": "markdown",
   "metadata": {
    "slideshow": {
     "slide_type": "subslide"
    }
   },
   "source": [
    "## Figure 와 Axes 객체를 이용해 그리기 (객체지향 방식)\n",
    "\n",
    "- AxesSubplot 객체(Axes를 표현하는 객체)의 메소드들을 이용해 그래프를 그린다.\n",
    "- axes 생성 방법\n",
    "    - plt.gca(): AxesSubplot\n",
    "        - plt로 그래프를 그릴때 대상 axes 객체를 반환한다.\n",
    "        - 하나의 figure에 하나의 Axes 만 사용할 경우 사용.\n",
    "    - 하나의 figure에 여러개의 Axes들을 사용할 경우\n",
    "        - figure.add_subplot() 메소드 이용\n",
    "            - figure를 먼저 생성후 axes 들을 추가\n",
    "        - pyplot.subplots() 함수를 이용\n",
    "            - figure와 axes배열을 동시에 생성"
   ]
  },
  {
   "cell_type": "markdown",
   "metadata": {
    "slideshow": {
     "slide_type": "subslide"
    }
   },
   "source": [
    "### Figure에 하나의 axes 그리기\n",
    "- plt.gca() 사용"
   ]
  },
  {
   "cell_type": "code",
   "execution_count": null,
   "metadata": {},
   "outputs": [],
   "source": [
    "axes = plt.gca() # 그래프 그릴 Axes 객체를 생성.\n",
    "\n",
    "# 그래프 그리기, 설정 메소드 -> Axes\n",
    "axes.plot(x, y)\n",
    "axes.set_title(\"선그래프\")\n",
    "axes.set_xlabel(\"X축값\")\n",
    "axes.set_ylabel(\"Y축값\")\n",
    "axes.grid(linestyle=\":\")\n",
    "\n",
    "plt.show()"
   ]
  },
  {
   "cell_type": "markdown",
   "metadata": {
    "slideshow": {
     "slide_type": "subslide"
    }
   },
   "source": [
    "### 하나의 Figure에 여러개의 axes 그리기\n",
    "1. <b style='font-size:1.3em'>figure.add_subplot() 메소드 이용</b>\n",
    "    - figure객체에 axes를 추가하는 형태\n",
    "    - nrows(총행수), ncols(총열수), index(axes위치) 지정"
   ]
  },
  {
   "cell_type": "code",
   "execution_count": null,
   "metadata": {},
   "outputs": [],
   "source": [
    "# FIGURE 객체\n",
    "fig = plt.figure(figsize=(6, 6))  # figure생성\n",
    "# figure에 axes(subplot)을 추가\n",
    "ax1 = fig.add_subplot(2, 2, 1)\n",
    "ax1.plot(x, y, label=\"선1\")\n",
    "ax1.plot(y, x, label=\"선2\")\n",
    "ax1.set_title(\"1번 그래프\")\n",
    "ax1.legend()\n",
    "\n",
    "ax2 = fig.add_subplot(2, 2, 3)\n",
    "ax2.scatter(x, y)\n",
    "ax2.set_title(\"2번 그래프\")\n",
    "\n",
    "ax3 = fig.add_subplot(3, 2, 4)\n",
    "ax3.plot(x, y, color='0.8')\n",
    "ax3.set_title(\"3번 그래프\")\n",
    "plt.show()"
   ]
  },
  {
   "cell_type": "markdown",
   "metadata": {
    "slideshow": {
     "slide_type": "subslide"
    }
   },
   "source": [
    "2. <b style='font-size:1.3em'>pyplot.subplots()</b>\n",
    "    - nrows, ncols 로 axes개수와 위치 지정\n",
    "    - 반환: figure와 axes(subplot)들을 담은 **ndarray**"
   ]
  },
  {
   "cell_type": "code",
   "execution_count": null,
   "metadata": {},
   "outputs": [],
   "source": [
    "fig, axes = plt.subplots(2, 2, figsize=(7, 7))\n",
    "axes[0, 0].plot(x, y, color='r')\n",
    "axes[0, 0].set_title(\"1번\")\n",
    "\n",
    "axes[1, 1].scatter(y, x, color=\"#E06F93\")\n",
    "axes[1, 1].set_title(\"2번\")\n",
    "plt.show()"
   ]
  },
  {
   "cell_type": "code",
   "execution_count": null,
   "metadata": {},
   "outputs": [],
   "source": []
  },
  {
   "cell_type": "markdown",
   "metadata": {
    "slideshow": {
     "slide_type": "subslide"
    }
   },
   "source": [
    "# 색상과 스타일\n",
    "\n",
    "## 색을 지정하는 방법\n",
    "- color 또는 c 매개변수를  이용해 지정\n",
    "- **색상이름으로 지정.** \n",
    "    - 색이름 또는 약자로 지정 가능\n",
    "    - 'red', 'r'\n",
    "    \n",
    "| 문자열 | 약자 |\n",
    "|-|-|\n",
    "| `blue` | `b` |\n",
    "| `green` | `g` |\n",
    "| `red` | `r` |\n",
    "| `cyan` | `c` |\n",
    "| `magenta` | `m` |\n",
    "| `yellow` | `y` |\n",
    "| `black` | `k` |\n",
    "| `white` | `w` |\n",
    "\n",
    "\n",
    "- **HTML Color Hex code**\n",
    "    - #으로 시작하며 RGB의 성분을 16진수로 표현\n",
    "    - #RRGGBB 또는 #RRGGBBAA\n",
    "    - #FF0000, #00FF00FA\n",
    "- **0 ~ 1 사이 실수로 흰식과 검정색 사이의 회색조를 표시**\n",
    "    - 0: 검정, 1: 흰색\n",
    "- **color 값 검색**\n",
    "    - https://matplotlib.org/2.0.2/examples/color/named_colors.html\n",
    "    - https://htmlcolorcodes.com/\n",
    "        - picker, chart(코드), name(색이름) 제공사이트\n",
    "    - google 에서 `color picker`로 검색\n",
    "    "
   ]
  },
  {
   "cell_type": "code",
   "execution_count": null,
   "metadata": {},
   "outputs": [],
   "source": []
  },
  {
   "cell_type": "markdown",
   "metadata": {
    "slideshow": {
     "slide_type": "subslide"
    }
   },
   "source": [
    "## Style 설정\n",
    "- Style: 그래프의 여러 시각효과들을 미리 설정해 놓은 것\n",
    "- matplotlib는 다양한 스타일들을 미리 정의해 놓고 있다.\n",
    "    - [스타일목록](https://matplotlib.org/stable/gallery/style_sheets/style_sheets_reference.html)\n",
    "    - `plt.style.use()` 함수 이용해 지정\n",
    "    - `plt.style.available`\n",
    "        - 사용할 수 있는 스타일 이름 조회"
   ]
  },
  {
   "cell_type": "code",
   "execution_count": null,
   "metadata": {},
   "outputs": [],
   "source": [
    "plt.style.available"
   ]
  },
  {
   "cell_type": "code",
   "execution_count": null,
   "metadata": {},
   "outputs": [],
   "source": [
    "plt.style.use(\"seaborn-v0_8-muted\")"
   ]
  },
  {
   "cell_type": "code",
   "execution_count": null,
   "metadata": {},
   "outputs": [],
   "source": []
  }
 ],
 "metadata": {
  "kernelspec": {
   "display_name": "Python 3 (ipykernel)",
   "language": "python",
   "name": "python3"
  },
  "language_info": {
   "codemirror_mode": {
    "name": "ipython",
    "version": 3
   },
   "file_extension": ".py",
   "mimetype": "text/x-python",
   "name": "python",
   "nbconvert_exporter": "python",
   "pygments_lexer": "ipython3",
   "version": "3.12.3"
  },
  "toc": {
   "base_numbering": 1,
   "nav_menu": {},
   "number_sections": false,
   "sideBar": true,
   "skip_h1_title": false,
   "title_cell": "Table of Contents",
   "title_sidebar": "Contents",
   "toc_cell": false,
   "toc_position": {
    "height": "calc(100% - 180px)",
    "left": "10px",
    "top": "150px",
    "width": "341.333px"
   },
   "toc_section_display": true,
   "toc_window_display": false
  },
  "varInspector": {
   "cols": {
    "lenName": 16,
    "lenType": 16,
    "lenVar": 40
   },
   "kernels_config": {
    "python": {
     "delete_cmd_postfix": "",
     "delete_cmd_prefix": "del ",
     "library": "var_list.py",
     "varRefreshCmd": "print(var_dic_list())"
    },
    "r": {
     "delete_cmd_postfix": ") ",
     "delete_cmd_prefix": "rm(",
     "library": "var_list.r",
     "varRefreshCmd": "cat(var_dic_list()) "
    }
   },
   "types_to_exclude": [
    "module",
    "function",
    "builtin_function_or_method",
    "instance",
    "_Feature"
   ],
   "window_display": false
  }
 },
 "nbformat": 4,
 "nbformat_minor": 4
}
