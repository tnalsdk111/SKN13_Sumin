{
 "cells": [
  {
   "cell_type": "markdown",
   "metadata": {},
   "source": [
    "# 선 그래프 (Line plot) 그리기\n",
    "## 선 그래프(꺽은선 그래프)\n",
    "- 점과 점을 선으로 연결한 그래프\n",
    "- 시간의 흐름에 따른 변화를 표현할 때 많이 사용한다. (시계열)\n",
    "- `plot([x], y)` \n",
    "    - 1번인수 : x값(생략가능), 2번인수 y값\n",
    "    - 인수가 하나인 경우 y 축의 값으로 설정되고 X값은 (0 ~ len(y)-1) 범위로 지정된다.\n",
    "    - x와 y의 원소개수는 같아야 한다.\n",
    "- 하나의 axes(subplot)에 여러 개의 선 그리기\n",
    "    - 같은 axes에 plot()를 여러번 실행한다.\n",
    "- 선 스타일\n",
    "    - linestyle 속성에 설정\n",
    "    - https://matplotlib.org/3.0.3/gallery/lines_bars_and_markers/line_styles_reference.html    "
   ]
  },
  {
   "cell_type": "code",
   "execution_count": null,
   "metadata": {},
   "outputs": [],
   "source": [
    "import pandas as pd\n",
    "import matplotlib.pyplot as plt\n",
    "\n",
    "# 년도를 index name으로 지정해서 조회\n",
    "df = pd.read_csv('data/서울시 연도별 황사 경보발령 현황.csv', index_col=0) \n",
    "df.shape"
   ]
  },
  {
   "cell_type": "code",
   "execution_count": null,
   "metadata": {},
   "outputs": [],
   "source": [
    "df.info()"
   ]
  },
  {
   "cell_type": "code",
   "execution_count": null,
   "metadata": {},
   "outputs": [],
   "source": [
    "df.head()"
   ]
  },
  {
   "cell_type": "code",
   "execution_count": null,
   "metadata": {},
   "outputs": [],
   "source": [
    "## 년도별 관측일수의 변화 흐름.\n",
    "plt.figure(figsize=(15, 4))\n",
    "plt.plot(\n",
    "    df.index,\n",
    "    df['관측일수'], \n",
    "    # linestyle=\":\"\n",
    "    # linestyle=\"-.\"\n",
    "    # linestyle=\"--\"\n",
    ")\n",
    "\n",
    "# 눈금(ticks)을  어디에 표시할지 지정.\n",
    "plt.xticks(\n",
    "    range(2006, 2018),   # 눈금 위치 값들\n",
    "    labels=[str(v)+\"년\" for v in range(2006, 2018)],  # 눈금의 label\n",
    "    rotation=45 # label을 몇도 회전시킬지\n",
    ")\n",
    "\n",
    "# plt.yticks(range(0, 20, 2)) # y축 눈금\n",
    "plt.show()"
   ]
  },
  {
   "cell_type": "code",
   "execution_count": null,
   "metadata": {},
   "outputs": [],
   "source": [
    "# 주의보, 경보 발령 횟수의 변화흐름을 비교: 데이터를 비교해서 볼 경우 같은 axes 그린다.\n",
    "plt.figure(figsize=(15, 4))\n",
    "plt.plot(df.index, df['주의보 발령횟수'], label=\"주의보\")\n",
    "plt.plot(df.index, df['경보 발령횟수'], label=\"경보\")\n",
    "\n",
    "plt.title(\"황사 주의보, 경보 발령횟수 변화 흐름\")\n",
    "plt.legend()\n",
    "\n",
    "plt.show()"
   ]
  },
  {
   "cell_type": "markdown",
   "metadata": {},
   "source": [
    "## 최대 농도와 관측일 수의 연도별 변화를 시각화\n",
    "- ### 하나의 축을 공유하고 두개의 축을 가지는 그래프 그리기\n",
    "- 값의 범위(Scale)이 다른 두 값과 관련된 그래프를 한 Axes(subplot)에 그리는 경우\n",
    "- X축을 공유해 2개의 Y축을 가지는 그래프\n",
    "    - axes.twinx() 를 이용해 axes를 복사\n",
    "- Y축을 공유해 2개의 X축을 가지는 그래프\n",
    "    - axes.twiny() 를 이용해 axes를 복사"
   ]
  },
  {
   "cell_type": "code",
   "execution_count": null,
   "metadata": {},
   "outputs": [],
   "source": [
    "df.columns"
   ]
  },
  {
   "cell_type": "code",
   "execution_count": null,
   "metadata": {},
   "outputs": [],
   "source": [
    "plt.figure(figsize=(15, 4))\n",
    "\n",
    "plt.plot(df.index, df['최대농도(㎍/㎥/시)'], label=\"최대농도\")\n",
    "plt.plot(df.index, df['관측일수'], label=\"관측일수\")\n",
    "\n",
    "# plt.ylim(0, 15)\n",
    "plt.legend()\n",
    "plt.show()"
   ]
  },
  {
   "cell_type": "markdown",
   "metadata": {},
   "source": [
    "> - 한 axes의 여러 데이터를 이용해서 여러 그래프를 그리는 경우. \n",
    ">     - 둘 합쳐서 최소값과 최대값을 기준으로 축의 값의 범위를 잡아준다.\n",
    ">     - 위의 경우 y축 값의 범위(최대농도와 관측일수 중 최소값 ~ 최대농도와 관측일수 중 최대값)"
   ]
  },
  {
   "cell_type": "code",
   "execution_count": null,
   "metadata": {},
   "outputs": [],
   "source": [
    "df[['최대농도(㎍/㎥/시)', \"관측일수\"]].agg([\"min\", \"max\"])"
   ]
  },
  {
   "cell_type": "code",
   "execution_count": null,
   "metadata": {},
   "outputs": [],
   "source": [
    "# X 축을 공유하고 y축은 따로 생성\n",
    "plt.figure(figsize=(15, 4))\n",
    "\n",
    "# Axes 객체 생성.\n",
    "ax1 = plt.gca()\n",
    "ax2 = ax1.twinx()\n",
    "\n",
    "ax1.plot(df.index, df['최대농도(㎍/㎥/시)'], label=\"최대농도\")\n",
    "ax1.set_xlabel(\"년도\")\n",
    "ax1.set_ylabel(\"농도\")\n",
    "ax1.legend(bbox_to_anchor=(1.02, 1.01), loc=\"upper left\")\n",
    "\n",
    "ax2.plot(df.index, df['관측일수'], color=\"red\",  label=\"관측일수\")\n",
    "ax2.set_ylabel(\"일수\")\n",
    "# ax2.legend(loc=\"upper center\")\n",
    "ax2.legend(bbox_to_anchor=(1.02, 0.94), loc=\"upper left\")\n",
    "plt.show()\n",
    "\n",
    "# legend() 위치\n",
    "## 1.  axes 안쪽에 정해진 위치를 지정\n",
    "###     - 위/아래 : upper center, lower\n",
    "###     - 좌/우   : left  center right\n",
    "###     - 정가운데: center,    \n",
    "###     - 알아서 최적의 장소를 선택: best\n",
    "\n",
    "## 2. 원하는 위치에 지정.\n",
    "#### bbox_to_anchor=(x축의 위치, y축의 위치),  \n",
    "#### loc=\"위아래   좌우\"  # bbox의 어느지점을 bbox_to_anchor에 위치시킬지.\n",
    "##### X축: 0-----------------------1\n",
    "##### Y축\n",
    "#   1\n",
    "#   |\n",
    "#   |\n",
    "#   0"
   ]
  },
  {
   "cell_type": "code",
   "execution_count": null,
   "metadata": {},
   "outputs": [],
   "source": []
  },
  {
   "cell_type": "markdown",
   "metadata": {},
   "source": [
    "# 산점도 (Scatter Plot) 그리기\n",
    "## 산점도(산포도)\n",
    "- X와 Y축을 가지는 좌표평면상 관측값들을 점을 찍어 표시하는 그래프\n",
    "- 변수(Feature)간의 [상관관계나](#상관계수) 관측값들 간의 군집 분류를 확인할 수 있다.\n",
    "- `scatter()` 메소드 사용\n",
    "    - 1번인수 : x축 값, 2번인수 y축 값\n",
    "    - x와 y값들을 모두 매개변수로 전달해야 한다.\n",
    "        - x와 y의 원소의 수는 같아야 한다.\n",
    "    - c/color: 색지정\n",
    "        - c와 x, y와 같은 원소수를 가지는 Iterable 타입 객체로 설정할 경우 각 마커마다 다른 색상을 설정할 수 있다\n",
    "    - s: 점 크기 지정\n",
    "    - marker\n",
    "        - marker란 점의 모양을 말하며 미리정의된 값으로 변경할 수있다.\n",
    "        - https://matplotlib.org/stable/api/markers_api.html "
   ]
  },
  {
   "cell_type": "code",
   "execution_count": null,
   "metadata": {},
   "outputs": [],
   "source": [
    "df = pd.read_csv('data/diamonds.csv')\n",
    "df.shape"
   ]
  },
  {
   "cell_type": "code",
   "execution_count": null,
   "metadata": {},
   "outputs": [],
   "source": [
    "df.head()"
   ]
  },
  {
   "cell_type": "code",
   "execution_count": null,
   "metadata": {},
   "outputs": [],
   "source": [
    "import matplotlib.pyplot as plt\n",
    "plt.scatter(df['price'],  # x축에 들어갈 값\n",
    "             df['carat'],  # y축에 들어갈 값. x, y의 같은 index 위치에 점을 찍는다.\n",
    "             alpha=0.1 # 투명도. (투명)0 ~ 1(농도100%)\n",
    "           )\n",
    "plt.xlabel(\"가격\")\n",
    "plt.ylabel(\"캐럿\")\n",
    "plt.show()"
   ]
  },
  {
   "cell_type": "code",
   "execution_count": null,
   "metadata": {},
   "outputs": [],
   "source": [
    "# 상관계수 계산\n",
    "df[['price', 'carat']].corr()"
   ]
  },
  {
   "cell_type": "markdown",
   "metadata": {},
   "source": [
    "> - ### 상관계수 \n",
    ">     - 두 변수간의 상관관계(비례/반비례)를 정량적(수치적)으로 계산한 값.\n",
    ">         - -1 ~ 1 사이의 값이 나온다. \n",
    ">         - 양의 상관관계: 0 ~ 1 (비례 관계) \n",
    ">         - 음의 상관관계: -1 ~ 0 (반비례 관계)\n",
    ">         - 절대값 기준 1로 갈수록 두 변수의 상관관계가 강하고 0으로 갈수록 약하다.\n",
    ">             - 1 ~ 0.7: 아주 강한 상관관계\n",
    ">             - 0.7 ~ 0.3 : 강한 상관관계\n",
    ">             - 0.3 ~ 0.1 : 약한 상관관계\n",
    ">             - 0.1 ~ 0 : 관계없다."
   ]
  },
  {
   "cell_type": "code",
   "execution_count": null,
   "metadata": {},
   "outputs": [],
   "source": [
    "plt.scatter(df['depth'], df['table'], alpha=0.1)\n",
    "plt.show()"
   ]
  },
  {
   "cell_type": "code",
   "execution_count": null,
   "metadata": {},
   "outputs": [],
   "source": [
    "df[['depth', 'table']].corr()"
   ]
  },
  {
   "cell_type": "markdown",
   "metadata": {},
   "source": [
    "# 막대그래프 (Bar plot) 그리기\n",
    "## 막대그래프(Bar plot)\n",
    "\n",
    "- 수량/값의 크기를 비교하기 위해 막대 형식으로 나타낸 그래프\n",
    "- 범주형 데이터의 class별 개수를 확인할 때 사용\n",
    "- bar(x, height) 메소드 사용\n",
    "    - x : x값, height:  막대 높이\n",
    "        - X는 분류값, height는 개수\n",
    "- barh(y, width) 메소드\n",
    "    - 수평막대 그래프\n",
    "    - 1번인수: y값, 2번인수: 막대 너비  \n",
    "- 매개변수\n",
    "    - 첫번째: 수량을 셀 대상\n",
    "    - 두번째: 수량"
   ]
  },
  {
   "cell_type": "code",
   "execution_count": null,
   "metadata": {},
   "outputs": [],
   "source": [
    "x = ['귤', '사과', '배']\n",
    "y = [100, 40, 70]\n",
    "plt.figure(figsize=(10, 5))\n",
    "plt.subplot(1, 2, 1)\n",
    "plt.bar(x, y)\n",
    "\n",
    "plt.subplot(1, 2, 2)\n",
    "plt.barh(x, y)\n",
    "plt.show()"
   ]
  },
  {
   "cell_type": "code",
   "execution_count": null,
   "metadata": {},
   "outputs": [],
   "source": [
    "df = pd.read_excel(\"data/강수량.xlsx\", index_col=\"계절\")\n",
    "df"
   ]
  },
  {
   "cell_type": "code",
   "execution_count": null,
   "metadata": {},
   "outputs": [],
   "source": [
    "plt.bar(df.index, df[2009])\n",
    "plt.plot(df.index, df[2009], color='red') # 선그래프: 변화 흐름(추세)\n",
    "plt.title(\"2009년 계절별 강수량 비교\")    # 막대그래프: 단순 수량적 비교\n",
    "# 막대의 값들을 출력\n",
    "# text(x위치, y위치, str): (x, y) 위치에 str을 쓴다.\n",
    "for x, y in enumerate(df[2009]):\n",
    "    plt.text(x-0.1, y+5, str(y))\n",
    "plt.ylim(0, 900)   \n",
    "plt.show()"
   ]
  },
  {
   "cell_type": "code",
   "execution_count": null,
   "metadata": {},
   "outputs": [],
   "source": [
    "## 수평막대그래프\n",
    "# 년도별 여름 강수량 비교\n",
    "plt.barh(df.columns, df.loc['여름'])\n",
    "plt.title(\"년도별 여름 강수량 비교\")\n",
    "plt.show()"
   ]
  },
  {
   "cell_type": "markdown",
   "metadata": {},
   "source": [
    "# 파이차트(Pie chart)\n",
    "- 전체 데이터량에서 각 범주(Category)가 차지하는 비율을 나타내는데 사용\n",
    "- `pie(x, labels)` 이용\n",
    "    - x: 값 (값들을 100을 기준으로 비율을 계산해 크기 설정)\n",
    "    - labels : 값들의 label\n",
    "    - autopct: 조각내에 표시될 비율의 문자열 형식. '%fmt문자' \n",
    "        - fmt문자: f(실수), d(정수), %% (%)\n",
    "- 한국 웹브라우저 점유율을 파이차트로 작성\n",
    "    - https://www.koreanextweb.kr/front/stats/browser/browserUseStats.do"
   ]
  },
  {
   "cell_type": "code",
   "execution_count": null,
   "metadata": {},
   "outputs": [],
   "source": [
    "x = ['귤', '사과', '배']\n",
    "y = [100, 40, 70]\n",
    "plt.pie(y, labels=x, \n",
    "        autopct='%.2f%%',   # 각  pie의 비율 값을 출력. 출력 format을 %타입 placeholder이용. %f: 실수, %d: 정수, %%: %\n",
    "        explode=[0, 0.1, 0], \n",
    "        shadow=True)  \n",
    "\n",
    "plt.show()"
   ]
  },
  {
   "cell_type": "code",
   "execution_count": null,
   "metadata": {},
   "outputs": [],
   "source": [
    "pd.options.display.max_columns=21"
   ]
  },
  {
   "cell_type": "code",
   "execution_count": null,
   "metadata": {},
   "outputs": [],
   "source": [
    "df = pd.read_excel(\n",
    "    \"data/webbrowser_share.xls\", \n",
    "    dtype={\"date\": str},  #  {\"컬럼명\": 타입} -> 컬럼을 어떤 타입으로 읽을지 지정.\n",
    "    index_col=\"date\"\n",
    ")\n",
    "df"
   ]
  },
  {
   "cell_type": "code",
   "execution_count": null,
   "metadata": {},
   "outputs": [],
   "source": [
    "# date 컬럼을 datetime 타입으로 읽어 오기.\n",
    "df2 = pd.read_excel(\n",
    "    \"data/webbrowser_share.xls\", \n",
    "    parse_dates=['date'], # 날짜 타입 컬럼 지정\n",
    "    date_format='%Y.%m',  # 컬럼 값의 형식 지정.\n",
    "    index_col=\"date\"\n",
    ")\n",
    "df2"
   ]
  },
  {
   "cell_type": "code",
   "execution_count": null,
   "metadata": {},
   "outputs": [],
   "source": [
    "# Chrome ~ Firefox, 나머지 (기타)\n",
    "web_df = df[df.columns[:6]].copy()\n",
    "web_df"
   ]
  },
  {
   "cell_type": "code",
   "execution_count": null,
   "metadata": {},
   "outputs": [],
   "source": [
    "# 나머지 컬럼들의 합계 \n",
    "web_df['기타'] = df[df.columns[6:]].sum(axis=1)\n",
    "web_df"
   ]
  },
  {
   "cell_type": "code",
   "execution_count": null,
   "metadata": {
    "scrolled": true
   },
   "outputs": [],
   "source": [
    "## 2018.08 의 브라우저별 점유율 비교\n",
    "# 수량\n",
    "plt.barh(web_df.columns, web_df.iloc[0])\n",
    "plt.show()"
   ]
  },
  {
   "cell_type": "code",
   "execution_count": null,
   "metadata": {},
   "outputs": [],
   "source": [
    "# 비율\n",
    "plt.pie(web_df.iloc[0], \n",
    "         labels=web_df.columns, \n",
    "         autopct=\"%d%%\", \n",
    "         explode=[0.1, 0, 0, 0, 0, 0, 0], shadow=True)\n",
    "plt.title(\"2018년 1월 브라우져 점유율\")\n",
    "plt.show()"
   ]
  },
  {
   "cell_type": "markdown",
   "metadata": {},
   "source": [
    "# 히스토그램(Histogram) 그리기\n",
    "## 히스토그램\n",
    "\n",
    "- 도수 분포표를 그래프로 나타낸 것.\n",
    "    - 도수분포표: 연속형 자료를 특정 구간(bin)으로 나눠 그 빈도를 나타낸 표\n",
    "        - 빈도 확인이나 **분포**를 볼때 사용한다.\n",
    "    - X축: 계급(변수구간)의 대표값, Y축: 빈도수\n",
    "- `hist(data [, bins=계급개수)` 메소드를 사용\n",
    "    - data: 리스트형의 객체를 전달한다."
   ]
  },
  {
   "cell_type": "code",
   "execution_count": null,
   "metadata": {},
   "outputs": [],
   "source": [
    "tips = pd.read_csv(\"data/tips.csv\")\n",
    "tips"
   ]
  },
  {
   "cell_type": "code",
   "execution_count": null,
   "metadata": {},
   "outputs": [],
   "source": [
    "tips['tip'].value_counts()"
   ]
  },
  {
   "cell_type": "code",
   "execution_count": null,
   "metadata": {},
   "outputs": [],
   "source": [
    "plt.hist(tips['tip'], bins=5, edgecolor=\"white\")\n",
    "plt.show()"
   ]
  },
  {
   "cell_type": "code",
   "execution_count": null,
   "metadata": {},
   "outputs": [],
   "source": [
    "pd.cut(tips['tip'], bins=5).value_counts()"
   ]
  },
  {
   "cell_type": "code",
   "execution_count": null,
   "metadata": {},
   "outputs": [],
   "source": [
    "plt.hist(tips['total_bill'], bins=[3, 10, 20, 40, 50, 60], edgecolor=\"w\")\n",
    "plt.show()"
   ]
  },
  {
   "cell_type": "code",
   "execution_count": null,
   "metadata": {},
   "outputs": [],
   "source": [
    "# smoker 여부 별 total_bill의 분포.\n",
    "y_total = tips.query(\"smoker=='Yes'\")['total_bill']\n",
    "n_total = tips.query(\"smoker=='No'\")['total_bill']\n",
    "\n",
    "plt.hist(y_total, bins=10, label=\"yes\", alpha=0.5)\n",
    "plt.hist(n_total, bins=10, label='no', alpha=0.5)\n",
    "plt.xlabel(\"total bill\")\n",
    "plt.ylabel(\"수량\")\n",
    "plt.legend()\n",
    "plt.show()"
   ]
  },
  {
   "cell_type": "code",
   "execution_count": null,
   "metadata": {},
   "outputs": [],
   "source": []
  },
  {
   "cell_type": "markdown",
   "metadata": {},
   "source": [
    "# 상자그래프(Boxplot) 그리기\n",
    "## 상자그래프란\n",
    "- 연속형 값들의 사분위수, 극단값들을 이용해 값들의 분포를 시각화한다.\n",
    "- boxplot(x, whis=1.5)\n",
    "    - x: 데이터셋\n",
    "    - whis: 극단치 계산시 사용할 값(기본 1.5)\n",
    "        - IQR을 이용해 극단치 계산하기\n",
    "            - IQR(Inter Quartile Range): $3분위수 - 1분위수$ 로 중간 50%값의 범위\n",
    "            - 극단적으로 작은값: 1분위 - $IQR(3분위수-1분위수) * whis$   보다 작은 값들\n",
    "            - 극단적으로 큰값: 3분위 + $IQR(3분위수-1분위수) * whis$  보다 큰 값들"
   ]
  },
  {
   "cell_type": "code",
   "execution_count": null,
   "metadata": {
    "scrolled": true
   },
   "outputs": [],
   "source": [
    "# 팁의 4분위수 +  이상치\n",
    "plt.boxplot(tips['tip'], labels=[\"TIP\"])\n",
    "plt.show()"
   ]
  },
  {
   "cell_type": "code",
   "execution_count": null,
   "metadata": {},
   "outputs": [],
   "source": [
    "plt.boxplot(tips['tip'], labels=[\"TIP\"], \n",
    "               whis=3)  # 정상 범위 조절값. default: 1.5\n",
    "plt.show()"
   ]
  },
  {
   "cell_type": "code",
   "execution_count": null,
   "metadata": {},
   "outputs": [],
   "source": [
    "# 두개 변수(컬럼)의 분포를 비교\n",
    "## 성별\n",
    "m_tip = tips.query(\"sex == 'Male'\")['tip']\n",
    "f_tip = tips.query(\"sex == 'Female'\")['tip']\n",
    "plt.boxplot([m_tip, f_tip], labels=['남성', '여성'])\n",
    "plt.show()"
   ]
  },
  {
   "cell_type": "code",
   "execution_count": null,
   "metadata": {},
   "outputs": [],
   "source": []
  }
 ],
 "metadata": {
  "kernelspec": {
   "display_name": "Python 3 (ipykernel)",
   "language": "python",
   "name": "python3"
  },
  "language_info": {
   "codemirror_mode": {
    "name": "ipython",
    "version": 3
   },
   "file_extension": ".py",
   "mimetype": "text/x-python",
   "name": "python",
   "nbconvert_exporter": "python",
   "pygments_lexer": "ipython3",
   "version": "3.12.3"
  },
  "toc": {
   "base_numbering": 1,
   "nav_menu": {},
   "number_sections": false,
   "sideBar": true,
   "skip_h1_title": false,
   "title_cell": "Table of Contents",
   "title_sidebar": "Contents",
   "toc_cell": false,
   "toc_position": {
    "height": "calc(100% - 180px)",
    "left": "10px",
    "top": "150px",
    "width": "341.333px"
   },
   "toc_section_display": true,
   "toc_window_display": false
  },
  "varInspector": {
   "cols": {
    "lenName": 16,
    "lenType": 16,
    "lenVar": 40
   },
   "kernels_config": {
    "python": {
     "delete_cmd_postfix": "",
     "delete_cmd_prefix": "del ",
     "library": "var_list.py",
     "varRefreshCmd": "print(var_dic_list())"
    },
    "r": {
     "delete_cmd_postfix": ") ",
     "delete_cmd_prefix": "rm(",
     "library": "var_list.r",
     "varRefreshCmd": "cat(var_dic_list()) "
    }
   },
   "types_to_exclude": [
    "module",
    "function",
    "builtin_function_or_method",
    "instance",
    "_Feature"
   ],
   "window_display": false
  }
 },
 "nbformat": 4,
 "nbformat_minor": 4
}
