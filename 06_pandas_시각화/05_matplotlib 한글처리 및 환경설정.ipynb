{
 "cells": [
  {
   "cell_type": "markdown",
   "metadata": {},
   "source": [
    "# matplotlib 한글처리\n",
    "matplotlib에 설정되있는 폰트가 한글을 지원하지 않기 때문에 그래프의 한글이 깨져서 나온다. 그래서 폰트를 변경해야한다."
   ]
  },
  {
   "cell_type": "code",
   "execution_count": null,
   "metadata": {
    "ExecuteTime": {
     "end_time": "2020-08-15T14:11:37.991800Z",
     "start_time": "2020-08-15T14:11:37.828240Z"
    }
   },
   "outputs": [],
   "source": [
    "# 한글 깨지는 예\n",
    "import matplotlib.pyplot as plt\n",
    "plt.plot(range(-10,10))\n",
    "plt.xlabel(\"X값\")\n",
    "plt.ylabel(\"Y값\")\n",
    "plt.title('matplotlib 예제')\n",
    "plt.show()"
   ]
  },
  {
   "cell_type": "markdown",
   "metadata": {},
   "source": [
    "## 설정방법\n",
    "1. 설정파일을 변경한다. \n",
    "    - 설치된 matplotlib 당 한번만 하면 된다.\n",
    "2. 프로그램상에서 코드로 변경.\n",
    "    - 프로그램이 로딩 될 때마다 (노트북 파일이나 파이썬 스크립트 실행시마다) 코드를 실행해야 한다."
   ]
  },
  {
   "cell_type": "markdown",
   "metadata": {},
   "source": [
    "## 설정파일에 설정\n",
    "\n",
    "설정파일에서 다음 항목을 변경한다.\n",
    "- font.family: 한글폰트 이름\n",
    "- axes.unicode_minus: False"
   ]
  },
  {
   "cell_type": "code",
   "execution_count": null,
   "metadata": {
    "ExecuteTime": {
     "end_time": "2022-06-14T01:42:15.953880Z",
     "start_time": "2022-06-14T01:42:15.942944Z"
    }
   },
   "outputs": [],
   "source": [
    "### 설정파일 경로(path) 조회\n",
    "import  matplotlib as mpl\n",
    "print(mpl.matplotlib_fname())"
   ]
  },
  {
   "cell_type": "markdown",
   "metadata": {},
   "source": [
    "## 코드상에서 변경\n",
    "- `matplotlib.pyplot.rcParams['설정이름'] = 값`"
   ]
  },
  {
   "cell_type": "code",
   "execution_count": null,
   "metadata": {
    "ExecuteTime": {
     "end_time": "2022-06-14T02:10:50.306933Z",
     "start_time": "2022-06-14T02:10:50.289975Z"
    }
   },
   "outputs": [],
   "source": [
    "import matplotlib.pyplot as plt"
   ]
  },
  {
   "cell_type": "code",
   "execution_count": null,
   "metadata": {},
   "outputs": [],
   "source": [
    "# 폰트 조회\n",
    "plt.rcParams[\"font.family\"]\n",
    "# unicode_minus 사용여부 확인\n",
    "plt.rcParams['axes.unicode_minus']"
   ]
  },
  {
   "cell_type": "code",
   "execution_count": null,
   "metadata": {
    "ExecuteTime": {
     "end_time": "2022-06-14T02:10:50.306933Z",
     "start_time": "2022-06-14T02:10:50.289975Z"
    }
   },
   "outputs": [],
   "source": [
    "# 폰트변경\n",
    "plt.rcParams[\"font.family\"] = \"malgun gothic\"\n",
    "# tick(눈금)의 음수기호 '-' 가 깨지는 것 처리\n",
    "plt.rcParams['axes.unicode_minus'] = False\n",
    "\n",
    "# 폰트 size변경\n",
    "plt.rcParams[\"font.size\"] = 20\n",
    "# x, y 축의 label 크기 변경\n",
    "plt.rcParams['axes.labelsize'] = 15\n",
    "# x, y 축의 tick(눈금) label 크기 변경\n",
    "plt.rcParams['xtick.labelsize'] = 12\n",
    "plt.rcParams['ytick.labelsize'] = 12"
   ]
  },
  {
   "cell_type": "code",
   "execution_count": null,
   "metadata": {
    "ExecuteTime": {
     "end_time": "2022-06-14T02:11:19.921348Z",
     "start_time": "2022-06-14T02:11:19.762317Z"
    }
   },
   "outputs": [],
   "source": [
    "import matplotlib.pyplot as plt\n",
    "plt.plot(range(-5,6))\n",
    "plt.xlabel(\"X값\")\n",
    "plt.ylabel(\"Y값\")\n",
    "plt.title('matplotlib 예제')\n",
    "plt.show()"
   ]
  },
  {
   "cell_type": "code",
   "execution_count": null,
   "metadata": {},
   "outputs": [],
   "source": []
  }
 ],
 "metadata": {
  "kernelspec": {
   "display_name": "Python 3 (ipykernel)",
   "language": "python",
   "name": "python3"
  },
  "language_info": {
   "codemirror_mode": {
    "name": "ipython",
    "version": 3
   },
   "file_extension": ".py",
   "mimetype": "text/x-python",
   "name": "python",
   "nbconvert_exporter": "python",
   "pygments_lexer": "ipython3",
   "version": "3.12.3"
  },
  "toc": {
   "base_numbering": 1,
   "nav_menu": {},
   "number_sections": true,
   "sideBar": true,
   "skip_h1_title": false,
   "title_cell": "Table of Contents",
   "title_sidebar": "Contents",
   "toc_cell": false,
   "toc_position": {},
   "toc_section_display": true,
   "toc_window_display": false
  },
  "varInspector": {
   "cols": {
    "lenName": 16,
    "lenType": 16,
    "lenVar": 40
   },
   "kernels_config": {
    "python": {
     "delete_cmd_postfix": "",
     "delete_cmd_prefix": "del ",
     "library": "var_list.py",
     "varRefreshCmd": "print(var_dic_list())"
    },
    "r": {
     "delete_cmd_postfix": ") ",
     "delete_cmd_prefix": "rm(",
     "library": "var_list.r",
     "varRefreshCmd": "cat(var_dic_list()) "
    }
   },
   "types_to_exclude": [
    "module",
    "function",
    "builtin_function_or_method",
    "instance",
    "_Feature"
   ],
   "window_display": false
  }
 },
 "nbformat": 4,
 "nbformat_minor": 4
}
